{
 "cells": [
  {
   "cell_type": "markdown",
   "metadata": {},
   "source": [
    "# Julia is fast\n",
    "\n",
    "Original notebook is at the address: https://github.com/JuliaAcademy/JuliaTutorials/blob/main/introductory-tutorials/intro-to-julia/09.%20Julia%20is%20fast.ipynb\n",
    "\n",
    "Very often, benchmarks are used to compare languages.  These benchmarks can lead to long discussions, first as to exactly what is being benchmarked and secondly what explains the differences.  These simple questions can sometimes get more complicated than you at first might imagine.\n",
    "\n",
    "The purpose of this notebook is for you to see a simple benchmark for yourself.  One can read the notebook and see what happened on the author's Macbook Pro with a 4-core Intel Core I7, or run the notebook yourself.\n",
    "\n",
    "(This material began life as a wonderful lecture by Steven Johnson at MIT: https://github.com/stevengj/18S096/blob/master/lectures/lecture1/Boxes-and-registers.ipynb.)"
   ]
  },
  {
   "cell_type": "markdown",
   "metadata": {},
   "source": [
    "# Outline of this notebook\n",
    "\n",
    "- Define the sum function\n",
    "- Implementations & benchmarking of sum in...\n",
    "    - C (hand-written)\n",
    "    - C (hand-written with -ffast-math)\n",
    "    - python (built-in)\n",
    "    - python (numpy)\n",
    "    - python (hand-written)\n",
    "    - Julia (built-in)\n",
    "    - Julia (hand-written)\n",
    "    - Julia (hand-written with SIMD)\n",
    "- Summary of benchmarks"
   ]
  },
  {
   "cell_type": "markdown",
   "metadata": {},
   "source": [
    "# `sum`: An easy enough function to understand"
   ]
  },
  {
   "cell_type": "markdown",
   "metadata": {},
   "source": [
    "Consider the  **sum** function `sum(a)`, which computes\n",
    "$$\n",
    "\\mathrm{sum}(a) = \\sum_{i=1}^n a_i,\n",
    "$$\n",
    "where $n$ is the length of `a`."
   ]
  },
  {
   "cell_type": "code",
   "execution_count": 4,
   "metadata": {
    "scrolled": false
   },
   "outputs": [
    {
     "data": {
      "text/plain": [
       "10000000-element Vector{Float64}:\n",
       " 0.925692832317773\n",
       " 0.9065323250859055\n",
       " 0.10390719107293223\n",
       " 0.06741741011051106\n",
       " 0.5640550481576472\n",
       " 0.10073628832078652\n",
       " 0.5222417511717897\n",
       " 0.4479795632886586\n",
       " 0.20430127061758907\n",
       " 0.8646861032252494\n",
       " ⋮\n",
       " 0.8396403049646686\n",
       " 0.4289594641983562\n",
       " 0.4805965408767826\n",
       " 0.8986083659355432\n",
       " 0.5856209526790406\n",
       " 0.44800494274966984\n",
       " 0.299255339164023\n",
       " 0.5024863470662138\n",
       " 0.06912899260351113"
      ]
     },
     "metadata": {},
     "output_type": "display_data"
    }
   ],
   "source": [
    "a = rand(10^7) # 1D vector of random numbers, uniform on [0,1)"
   ]
  },
  {
   "cell_type": "code",
   "execution_count": 5,
   "metadata": {},
   "outputs": [
    {
     "data": {
      "text/plain": [
       "4.998277737440808e6"
      ]
     },
     "metadata": {},
     "output_type": "display_data"
    }
   ],
   "source": [
    "sum(a)"
   ]
  },
  {
   "cell_type": "markdown",
   "metadata": {},
   "source": [
    "The expected result is 0.5 * 10^7, since the mean of each entry is 0.5"
   ]
  },
  {
   "cell_type": "markdown",
   "metadata": {},
   "source": [
    "# Benchmarking a few ways in a few languages"
   ]
  },
  {
   "cell_type": "code",
   "execution_count": 6,
   "metadata": {},
   "outputs": [
    {
     "name": "stdout",
     "output_type": "stream",
     "text": [
      "  0.005021 seconds (1 allocation: 16 bytes)\n"
     ]
    },
    {
     "data": {
      "text/plain": [
       "4.998277737440808e6"
      ]
     },
     "metadata": {},
     "output_type": "display_data"
    }
   ],
   "source": [
    "@time sum(a)"
   ]
  },
  {
   "cell_type": "code",
   "execution_count": 7,
   "metadata": {},
   "outputs": [
    {
     "name": "stdout",
     "output_type": "stream",
     "text": [
      "  0.006219 seconds (1 allocation: 16 bytes)\n"
     ]
    },
    {
     "data": {
      "text/plain": [
       "4.998277737440808e6"
      ]
     },
     "metadata": {},
     "output_type": "display_data"
    }
   ],
   "source": [
    "@time sum(a)"
   ]
  },
  {
   "cell_type": "code",
   "execution_count": 8,
   "metadata": {},
   "outputs": [
    {
     "name": "stdout",
     "output_type": "stream",
     "text": [
      "  0.006260 seconds (1 allocation: 16 bytes)\n"
     ]
    },
    {
     "data": {
      "text/plain": [
       "4.998277737440808e6"
      ]
     },
     "metadata": {},
     "output_type": "display_data"
    }
   ],
   "source": [
    "@time sum(a)"
   ]
  },
  {
   "cell_type": "markdown",
   "metadata": {},
   "source": [
    "The `@time` macro can yield noisy results, so it's not our best choice for benchmarking!\n",
    "\n",
    "Luckily, Julia has a `BenchmarkTools.jl` package to make benchmarking easy and accurate:"
   ]
  },
  {
   "cell_type": "code",
   "execution_count": 2,
   "metadata": {},
   "outputs": [
    {
     "name": "stderr",
     "output_type": "stream",
     "text": [
      "\u001b[32m\u001b[1m    Updating\u001b[22m\u001b[39m registry at `C:\\Users\\WJ98RY\\.julia\\registries\\General.toml`\n"
     ]
    },
    {
     "name": "stderr",
     "output_type": "stream",
     "text": [
      "\u001b[32m\u001b[1m   Resolving\u001b[22m\u001b[39m package versions..."
     ]
    },
    {
     "name": "stderr",
     "output_type": "stream",
     "text": [
      "\n"
     ]
    },
    {
     "name": "stderr",
     "output_type": "stream",
     "text": [
      "\u001b[32m\u001b[1m   Installed\u001b[22m\u001b[39m Preferences ─────────── v1.2.3\n"
     ]
    },
    {
     "name": "stderr",
     "output_type": "stream",
     "text": [
      "\u001b[32m\u001b[1m   Installed\u001b[22m\u001b[39m GR_jll ──────────────── v0.63.1+0\n",
      "\u001b[32m\u001b[1m   Installed\u001b[22m\u001b[39m RelocatableFolders ──── v0.1.3\n",
      "\u001b[32m\u001b[1m   Installed\u001b[22m\u001b[39m NetworkLayout ───────── v0.4.4\n",
      "\u001b[32m\u001b[1m   Installed\u001b[22m\u001b[39m OffsetArrays ────────── v1.10.8\n"
     ]
    },
    {
     "name": "stderr",
     "output_type": "stream",
     "text": [
      "\u001b[32m\u001b[1m   Installed\u001b[22m\u001b[39m Contour ─────────────── v0.5.7\n"
     ]
    },
    {
     "name": "stderr",
     "output_type": "stream",
     "text": [
      "\u001b[32m\u001b[1m   Installed\u001b[22m\u001b[39m Rsvg ────────────────── v1.0.0\n"
     ]
    },
    {
     "name": "stderr",
     "output_type": "stream",
     "text": [
      "\u001b[32m\u001b[1m   Installed\u001b[22m\u001b[39m EarCut_jll ──────────── v2.2.3+0\n"
     ]
    },
    {
     "name": "stderr",
     "output_type": "stream",
     "text": [
      "\u001b[32m\u001b[1m   Installed\u001b[22m\u001b[39m RecipesPipeline ─────── v0.5.0\n",
      "\u001b[32m\u001b[1m   Installed\u001b[22m\u001b[39m PlotUtils ───────────── v1.1.3\n"
     ]
    },
    {
     "name": "stderr",
     "output_type": "stream",
     "text": [
      "\u001b[32m\u001b[1m   Installed\u001b[22m\u001b[39m StaticArrays ────────── v1.3.4\n"
     ]
    },
    {
     "name": "stderr",
     "output_type": "stream",
     "text": [
      "\u001b[32m\u001b[1m   Installed\u001b[22m\u001b[39m Media ───────────────── v0.5.0\n",
      "\u001b[32m\u001b[1m   Installed\u001b[22m\u001b[39m FileIO ──────────────── v1.13.0\n"
     ]
    },
    {
     "name": "stderr",
     "output_type": "stream",
     "text": [
      "\u001b[32m\u001b[1m   Installed\u001b[22m\u001b[39m HTTP ────────────────── v0.9.17\n"
     ]
    },
    {
     "name": "stderr",
     "output_type": "stream",
     "text": [
      "\u001b[32m\u001b[1m   Installed\u001b[22m\u001b[39m Pango_jll ───────────── v1.50.3+0\n"
     ]
    },
    {
     "name": "stderr",
     "output_type": "stream",
     "text": [
      "\u001b[32m\u001b[1m   Installed\u001b[22m\u001b[39m ArnoldiMethod ───────── v0.2.0\n",
      "\u001b[32m\u001b[1m   Installed\u001b[22m\u001b[39m JSON ────────────────── v0.21.2\n"
     ]
    },
    {
     "name": "stderr",
     "output_type": "stream",
     "text": [
      "\u001b[32m\u001b[1m   Installed\u001b[22m\u001b[39m xkbcommon_jll ───────── v0.9.1+5\n"
     ]
    },
    {
     "name": "stderr",
     "output_type": "stream",
     "text": [
      "\u001b[32m\u001b[1m   Installed\u001b[22m\u001b[39m BenchmarkTools ──────── v1.2.2\n",
      "\u001b[32m\u001b[1m   Installed\u001b[22m\u001b[39m NaNMath ─────────────── v0.3.7\n",
      "\u001b[32m\u001b[1m   Installed\u001b[22m\u001b[39m PlotThemes ──────────── v2.0.1\n"
     ]
    },
    {
     "name": "stderr",
     "output_type": "stream",
     "text": [
      "\u001b[32m\u001b[1m   Installed\u001b[22m\u001b[39m Graphics ────────────── v1.1.1\n",
      "\u001b[32m\u001b[1m   Installed\u001b[22m\u001b[39m GR ──────────────────── v0.63.1\n"
     ]
    },
    {
     "name": "stderr",
     "output_type": "stream",
     "text": [
      "\u001b[32m\u001b[1m   Installed\u001b[22m\u001b[39m ColorSchemes ────────── v3.16.0\n",
      "\u001b[32m\u001b[1m   Installed\u001b[22m\u001b[39m MbedTLS ─────────────── v1.0.3\n"
     ]
    },
    {
     "name": "stderr",
     "output_type": "stream",
     "text": [
      "\u001b[32m\u001b[1m   Installed\u001b[22m\u001b[39m GLFW_jll ────────────── v3.3.6+0\n"
     ]
    },
    {
     "name": "stderr",
     "output_type": "stream",
     "text": [
      "\u001b[32m\u001b[1m   Installed\u001b[22m\u001b[39m StatsAPI ────────────── v1.2.0\n"
     ]
    },
    {
     "name": "stderr",
     "output_type": "stream",
     "text": [
      "\u001b[32m\u001b[1m   Installed\u001b[22m\u001b[39m Compat ──────────────── v3.41.0\n"
     ]
    },
    {
     "name": "stderr",
     "output_type": "stream",
     "text": [
      "\u001b[32m\u001b[1m   Installed\u001b[22m\u001b[39m DataStructures ──────── v0.18.11\n",
      "\u001b[32m\u001b[1m   Installed\u001b[22m\u001b[39m GraphRecipes ────────── v0.5.9\n"
     ]
    },
    {
     "name": "stderr",
     "output_type": "stream",
     "text": [
      "\u001b[32m\u001b[1m   Installed\u001b[22m\u001b[39m ColorTypes ──────────── v0.11.0\n",
      "\u001b[32m\u001b[1m   Installed\u001b[22m\u001b[39m StatsBase ───────────── v0.33.14\n",
      "\u001b[32m\u001b[1m   Installed\u001b[22m\u001b[39m GeometryTypes ───────── v0.8.5\n"
     ]
    },
    {
     "name": "stderr",
     "output_type": "stream",
     "text": [
      "\u001b[32m\u001b[1m   Installed\u001b[22m\u001b[39m Graphs ──────────────── v1.6.0\n"
     ]
    },
    {
     "name": "stderr",
     "output_type": "stream",
     "text": [
      "\u001b[32m\u001b[1m   Installed\u001b[22m\u001b[39m Conda ───────────────── v1.6.0\n"
     ]
    },
    {
     "name": "stderr",
     "output_type": "stream",
     "text": [
      "\u001b[32m\u001b[1m   Installed\u001b[22m\u001b[39m Scratch ─────────────── v1.1.0\n"
     ]
    },
    {
     "name": "stderr",
     "output_type": "stream",
     "text": [
      "\u001b[32m\u001b[1m   Installed\u001b[22m\u001b[39m gdk_pixbuf_jll ──────── v2.42.6+1\n"
     ]
    },
    {
     "name": "stderr",
     "output_type": "stream",
     "text": [
      "\u001b[32m\u001b[1m   Installed\u001b[22m\u001b[39m Expat_jll ───────────── v2.4.4+0\n",
      "\u001b[32m\u001b[1m   Installed\u001b[22m\u001b[39m Inflate ─────────────── v0.1.2\n"
     ]
    },
    {
     "name": "stderr",
     "output_type": "stream",
     "text": [
      "\u001b[32m\u001b[1m   Installed\u001b[22m\u001b[39m Parsers ─────────────── v2.2.1\n"
     ]
    },
    {
     "name": "stderr",
     "output_type": "stream",
     "text": [
      "\u001b[32m\u001b[1m   Installed\u001b[22m\u001b[39m PyCall ──────────────── v1.93.0\n",
      "\u001b[32m\u001b[1m   Installed\u001b[22m\u001b[39m Plots ───────────────── v1.25.8\n"
     ]
    },
    {
     "name": "stderr",
     "output_type": "stream",
     "text": [
      "\u001b[32m\u001b[1m   Installed\u001b[22m\u001b[39m Libtiff_jll ─────────── v4.3.0+1\n",
      "\u001b[32m\u001b[1m   Installed\u001b[22m\u001b[39m PCRE_jll ────────────── v8.44.0+0\n"
     ]
    },
    {
     "name": "stderr",
     "output_type": "stream",
     "text": [
      "\u001b[32m\u001b[1m   Installed\u001b[22m\u001b[39m Bits ────────────────── v0.2.0\n"
     ]
    },
    {
     "name": "stderr",
     "output_type": "stream",
     "text": [
      "\u001b[32m\u001b[1m   Installed\u001b[22m\u001b[39m AbstractTrees ───────── v0.3.4\n"
     ]
    },
    {
     "name": "stderr",
     "output_type": "stream",
     "text": [
      "\u001b[32m\u001b[1m   Installed\u001b[22m\u001b[39m ChainRulesCore ──────── v1.12.0\n"
     ]
    },
    {
     "name": "stderr",
     "output_type": "stream",
     "text": [
      "\u001b[32m\u001b[1m   Installed\u001b[22m\u001b[39m MacroTools ──────────── v0.5.9\n",
      "\u001b[32m\u001b[1m   Installed\u001b[22m\u001b[39m Librsvg_jll ─────────── v2.52.4+0\n",
      "\u001b[32m\u001b[1m   Installed\u001b[22m\u001b[39m LogExpFunctions ─────── v0.3.6\n"
     ]
    },
    {
     "name": "stderr",
     "output_type": "stream",
     "text": [
      "\u001b[32m\u001b[1m   Installed\u001b[22m\u001b[39m InverseFunctions ────── v0.1.2\n"
     ]
    },
    {
     "name": "stderr",
     "output_type": "stream",
     "text": [
      "\u001b[32m\u001b[1m   Installed\u001b[22m\u001b[39m SimpleTraits ────────── v0.9.4\n"
     ]
    },
    {
     "name": "stderr",
     "output_type": "stream",
     "text": [
      "\u001b[32m\u001b[1m   Installed\u001b[22m\u001b[39m DocStringExtensions ─── v0.8.6\n"
     ]
    },
    {
     "name": "stderr",
     "output_type": "stream",
     "text": [
      "\u001b[32m\u001b[1m   Installed\u001b[22m\u001b[39m Wayland_protocols_jll ─ v1.23.0+0\n"
     ]
    },
    {
     "name": "stderr",
     "output_type": "stream",
     "text": [
      "\u001b[32m\u001b[1m   Installed\u001b[22m\u001b[39m XML2_jll ────────────── v2.9.12+0\n"
     ]
    },
    {
     "name": "stderr",
     "output_type": "stream",
     "text": [
      "\u001b[32m\u001b[1m   Installed\u001b[22m\u001b[39m Adapt ───────────────── v3.3.3\n"
     ]
    },
    {
     "name": "stderr",
     "output_type": "stream",
     "text": [
      "\u001b[32m\u001b[1m   Installed\u001b[22m\u001b[39m OpenSSL_jll ─────────── v1.1.13+0\n"
     ]
    },
    {
     "name": "stderr",
     "output_type": "stream",
     "text": [
      "\u001b[32m\u001b[1m   Installed\u001b[22m\u001b[39m Latexify ────────────── v0.15.9\n"
     ]
    },
    {
     "name": "stderr",
     "output_type": "stream",
     "text": [
      "\u001b[32m\u001b[1m   Installed\u001b[22m\u001b[39m Cairo ───────────────── v1.0.5\n",
      "\u001b[32m\u001b[1m   Installed\u001b[22m\u001b[39m FFMPEG_jll ──────────── v4.4.0+0\n"
     ]
    },
    {
     "name": "stderr",
     "output_type": "stream",
     "text": [
      "\u001b[32m\u001b[1m   Installed\u001b[22m\u001b[39m IterTools ───────────── v1.4.0\n"
     ]
    },
    {
     "name": "stderr",
     "output_type": "stream",
     "text": [
      "\u001b[32m\u001b[1m   Installed\u001b[22m\u001b[39m GeometryBasics ──────── v0.4.1\n"
     ]
    },
    {
     "name": "stderr",
     "output_type": "stream",
     "text": [
      "\u001b[32m\u001b[1m   Installed\u001b[22m\u001b[39m Tables ──────────────── v1.6.1\n"
     ]
    },
    {
     "name": "stderr",
     "output_type": "stream",
     "text": [
      "\u001b[32m\u001b[1m   Installed\u001b[22m\u001b[39m DataAPI ─────────────── v1.9.0\n",
      "\u001b[32m\u001b[1m   Installed\u001b[22m\u001b[39m Interpolations ──────── v0.13.5\n"
     ]
    },
    {
     "name": "stderr",
     "output_type": "stream",
     "text": [
      "\u001b[32m\u001b[1m   Installed\u001b[22m\u001b[39m IniFile ─────────────── v0.5.0\n",
      "\u001b[32m\u001b[1m   Installed\u001b[22m\u001b[39m RecipesBase ─────────── v1.2.1\n"
     ]
    },
    {
     "name": "stderr",
     "output_type": "stream",
     "text": [
      "\u001b[32m\u001b[1m   Installed\u001b[22m\u001b[39m URIs ────────────────── v1.3.0\n"
     ]
    },
    {
     "name": "stderr",
     "output_type": "stream",
     "text": [
      "\u001b[32m\u001b[1m   Installed\u001b[22m\u001b[39m StructArrays ────────── v0.6.4\n",
      "\u001b[32m\u001b[1m   Installed\u001b[22m\u001b[39m Glib_jll ────────────── v2.68.3+2\n"
     ]
    },
    {
     "name": "stderr",
     "output_type": "stream",
     "text": [
      "\u001b[32m\u001b[1m   Installed\u001b[22m\u001b[39m Juno ────────────────── v0.8.4\n"
     ]
    },
    {
     "name": "stderr",
     "output_type": "stream",
     "text": [
      "\u001b[32m\u001b[1m   Installed\u001b[22m\u001b[39m ChangesOfVariables ──── v0.1.2\n",
      "\u001b[32m\u001b[1m   Installed\u001b[22m\u001b[39m Unzip ───────────────── v0.1.2\n"
     ]
    },
    {
     "name": "stderr",
     "output_type": "stream",
     "text": [
      "\u001b[32m\u001b[1m   Installed\u001b[22m\u001b[39m Luxor ───────────────── v3.0.0\n"
     ]
    },
    {
     "name": "stderr",
     "output_type": "stream",
     "text": [
      "\u001b[32m\u001b[1m  No Changes\u001b[22m\u001b[39m to `C:\\Users\\WJ98RY\\OneDrive - ING\\Desktop\\01_SUPPORT\\03_TRAINING\\07.Julia\\train_julia\\Programming with Julia_Udemy\\JuliaProgramingUdemy\\Programming_with_Julia\\Project.toml`\n",
      "\u001b[32m\u001b[1m    Updating\u001b[22m\u001b[39m `C:\\Users\\WJ98RY\\OneDrive - ING\\Desktop\\01_SUPPORT\\03_TRAINING\\07.Julia\\train_julia\\Programming with Julia_Udemy\\JuliaProgramingUdemy\\Programming_with_Julia\\Manifest.toml`\n"
     ]
    },
    {
     "name": "stderr",
     "output_type": "stream",
     "text": [
      " \u001b[90m [ea2cea3b] \u001b[39m\u001b[93m↑ Qt5Base_jll v5.15.3+0 ⇒ v5.15.3+1\u001b[39m\n",
      " \u001b[90m [0dad84c5] \u001b[39m\u001b[93m~ ArgTools ⇒ v1.1.1\u001b[39m\n",
      " \u001b[90m [f43a241f] \u001b[39m\u001b[93m~ Downloads ⇒ v1.6.0\u001b[39m\n",
      " \u001b[90m [7b1f6079] \u001b[39m\u001b[92m+ FileWatching\u001b[39m\n",
      " \u001b[90m [b27032c2] \u001b[39m\u001b[93m~ LibCURL ⇒ v0.6.3\u001b[39m\n",
      " \u001b[90m [ca575930] \u001b[39m\u001b[93m~ NetworkOptions ⇒ v1.2.0\u001b[39m\n",
      " \u001b[90m [44cfe95a] \u001b[39m\u001b[93m~ Pkg ⇒ v1.8.0\u001b[39m\n",
      " \u001b[90m [ea8e919c] \u001b[39m\u001b[93m~ SHA ⇒ v0.7.0\u001b[39m\n",
      " \u001b[90m [fa267f1f] \u001b[39m\u001b[93m~ TOML ⇒ v1.0.0\u001b[39m\n",
      " \u001b[90m [a4e569a6] \u001b[39m\u001b[93m~ Tar ⇒ v1.10.1\u001b[39m\n",
      " \u001b[90m [e66e0078] \u001b[39m\u001b[93m~ CompilerSupportLibraries_jll ⇒ v0.5.2+0\u001b[39m\n",
      " \u001b[90m [deac9b47] \u001b[39m\u001b[93m~ LibCURL_jll ⇒ v7.84.0+0\u001b[39m\n",
      " \u001b[90m [29816b5a] \u001b[39m\u001b[93m~ LibSSH2_jll ⇒ v1.10.2+0\u001b[39m\n",
      " \u001b[90m [c8ffd9c3] \u001b[39m\u001b[93m~ MbedTLS_jll ⇒ v2.28.0+0\u001b[39m\n",
      " \u001b[90m [14a3606d] \u001b[39m\u001b[93m~ MozillaCACerts_jll ⇒ v2022.2.1\u001b[39m\n",
      " \u001b[90m [4536629a] \u001b[39m\u001b[93m~ OpenBLAS_jll ⇒ v0.3.20+0\u001b[39m\n",
      " \u001b[90m [83775a58] \u001b[39m\u001b[93m~ Zlib_jll ⇒ v1.2.12+3\u001b[39m\n",
      " \u001b[90m [8e850b90] \u001b[39m\u001b[93m~ libblastrampoline_jll ⇒ v5.1.1+0\u001b[39m\n",
      " \u001b[90m [8e850ede] \u001b[39m\u001b[93m~ nghttp2_jll ⇒ v1.48.0+0\u001b[39m\n",
      " \u001b[90m [3f19e933] \u001b[39m\u001b[93m~ p7zip_jll ⇒ v17.4.0+0\u001b[39m\n"
     ]
    },
    {
     "name": "stderr",
     "output_type": "stream",
     "text": [
      "\u001b[32m\u001b[1m    Building\u001b[22m\u001b[39m Conda ─→ `C:\\Users\\WJ98RY\\.julia\\scratchspaces\\44cfe95a-1eb2-52ea-b672-e2afdf69b78f\\6cdc8832ba11c7695f494c9d9a1c31e90959ce0f\\build.log`\n"
     ]
    },
    {
     "name": "stderr",
     "output_type": "stream",
     "text": [
      "\u001b[32m\u001b[1m    Building\u001b[22m\u001b[39m PyCall → `C:\\Users\\WJ98RY\\.julia\\scratchspaces\\44cfe95a-1eb2-52ea-b672-e2afdf69b78f\\71fd4022ecd0c6d20180e23ff1b3e05a143959c2\\build.log`"
     ]
    },
    {
     "name": "stderr",
     "output_type": "stream",
     "text": [
      "\n"
     ]
    },
    {
     "name": "stderr",
     "output_type": "stream",
     "text": [
      "\u001b[32m\u001b[1m    Building\u001b[22m\u001b[39m GR ────→ `C:\\Users\\WJ98RY\\.julia\\scratchspaces\\44cfe95a-1eb2-52ea-b672-e2afdf69b78f\\4a740db447aae0fbeb3ee730de1afbb14ac798a1\\build.log`\n"
     ]
    },
    {
     "name": "stderr",
     "output_type": "stream",
     "text": [
      "\u001b[32m\u001b[1mPrecompiling\u001b[22m\u001b[39m project...\n"
     ]
    },
    {
     "name": "stderr",
     "output_type": "stream",
     "text": [
      "\u001b[32m  ✓ \u001b[39m\u001b[90mStatsAPI\u001b[39m\n"
     ]
    },
    {
     "name": "stderr",
     "output_type": "stream",
     "text": [
      "\u001b[32m  ✓ \u001b[39m\u001b[90mIterTools\u001b[39m\n"
     ]
    },
    {
     "name": "stderr",
     "output_type": "stream",
     "text": [
      "\u001b[32m  ✓ \u001b[39m\u001b[90mInverseFunctions\u001b[39m\n"
     ]
    },
    {
     "name": "stderr",
     "output_type": "stream",
     "text": [
      "\u001b[32m  ✓ \u001b[39m\u001b[90mRecipesBase\u001b[39m\n",
      "\u001b[32m  ✓ \u001b[39m\u001b[90mPreferences\u001b[39m"
     ]
    },
    {
     "name": "stderr",
     "output_type": "stream",
     "text": [
      "\n"
     ]
    },
    {
     "name": "stderr",
     "output_type": "stream",
     "text": [
      "\u001b[32m  ✓ \u001b[39mBits\n"
     ]
    },
    {
     "name": "stderr",
     "output_type": "stream",
     "text": [
      "\u001b[32m  ✓ \u001b[39m\u001b[90mUnzip\u001b[39m\n"
     ]
    },
    {
     "name": "stderr",
     "output_type": "stream",
     "text": [
      "\u001b[32m  ✓ \u001b[39m\u001b[90mIniFile\u001b[39m"
     ]
    },
    {
     "name": "stderr",
     "output_type": "stream",
     "text": [
      "\n",
      "\u001b[32m  ✓ \u001b[39m\u001b[90mCompat\u001b[39m\n"
     ]
    },
    {
     "name": "stderr",
     "output_type": "stream",
     "text": [
      "\u001b[32m  ✓ \u001b[39m\u001b[90mDocStringExtensions\u001b[39m\n"
     ]
    },
    {
     "name": "stderr",
     "output_type": "stream",
     "text": [
      "\u001b[32m  ✓ \u001b[39m\u001b[90mNaNMath\u001b[39m\n",
      "\u001b[32m  ✓ \u001b[39m\u001b[90mURIs\u001b[39m\n"
     ]
    },
    {
     "name": "stderr",
     "output_type": "stream",
     "text": [
      "\u001b[32m  ✓ \u001b[39m\u001b[90mAbstractTrees\u001b[39m\n"
     ]
    },
    {
     "name": "stderr",
     "output_type": "stream",
     "text": [
      "\u001b[32m  ✓ \u001b[39m\u001b[90mDataAPI\u001b[39m\n"
     ]
    },
    {
     "name": "stderr",
     "output_type": "stream",
     "text": [
      "\u001b[32m  ✓ \u001b[39m\u001b[90mMacroTools\u001b[39m\n",
      "\u001b[32m  ✓ \u001b[39m\u001b[90mAdapt\u001b[39m\n"
     ]
    },
    {
     "name": "stderr",
     "output_type": "stream",
     "text": [
      "\u001b[32m  ✓ \u001b[39m\u001b[90mInflate\u001b[39m\n"
     ]
    },
    {
     "name": "stderr",
     "output_type": "stream",
     "text": [
      "\u001b[32m  ✓ \u001b[39m\u001b[90mScratch\u001b[39m\n"
     ]
    },
    {
     "name": "stderr",
     "output_type": "stream",
     "text": [
      "\u001b[32m  ✓ \u001b[39m\u001b[90mMbedTLS\u001b[39m\n"
     ]
    },
    {
     "name": "stderr",
     "output_type": "stream",
     "text": [
      "\u001b[32m  ✓ \u001b[39m\u001b[90mJLLWrappers\u001b[39m\n"
     ]
    },
    {
     "name": "stderr",
     "output_type": "stream",
     "text": [
      "\u001b[32m  ✓ \u001b[39mBenchmarkTools\n"
     ]
    },
    {
     "name": "stderr",
     "output_type": "stream",
     "text": [
      "\u001b[32m  ✓ \u001b[39m\u001b[90mFileIO\u001b[39m\n"
     ]
    },
    {
     "name": "stderr",
     "output_type": "stream",
     "text": [
      "\u001b[32m  ✓ \u001b[39m\u001b[90mChainRulesCore\u001b[39m\n"
     ]
    },
    {
     "name": "stderr",
     "output_type": "stream",
     "text": [
      "\u001b[32m  ✓ \u001b[39m\u001b[90mTables\u001b[39m\n"
     ]
    },
    {
     "name": "stderr",
     "output_type": "stream",
     "text": [
      "\u001b[32m  ✓ \u001b[39m\u001b[90mDataStructures\u001b[39m\n"
     ]
    },
    {
     "name": "stderr",
     "output_type": "stream",
     "text": [
      "\u001b[32m  ✓ \u001b[39m\u001b[90mMissings\u001b[39m\n"
     ]
    },
    {
     "name": "stderr",
     "output_type": "stream",
     "text": [
      "\u001b[32m  ✓ \u001b[39m\u001b[90mStaticArrays\u001b[39m\n"
     ]
    },
    {
     "name": "stderr",
     "output_type": "stream",
     "text": [
      "\u001b[32m  ✓ \u001b[39m\u001b[90mMedia\u001b[39m\n"
     ]
    },
    {
     "name": "stderr",
     "output_type": "stream",
     "text": [
      "\u001b[32m  ✓ \u001b[39m\u001b[90mSimpleTraits\u001b[39m\n"
     ]
    },
    {
     "name": "stderr",
     "output_type": "stream",
     "text": [
      "\u001b[32m  ✓ \u001b[39m\u001b[90mRelocatableFolders\u001b[39m\n"
     ]
    },
    {
     "name": "stderr",
     "output_type": "stream",
     "text": [
      "\u001b[32m  ✓ \u001b[39m\u001b[90mLatexify\u001b[39m\n"
     ]
    },
    {
     "name": "stderr",
     "output_type": "stream",
     "text": [
      "\u001b[32m  ✓ \u001b[39m\u001b[90mOffsetArrays\u001b[39m\n"
     ]
    },
    {
     "name": "stderr",
     "output_type": "stream",
     "text": [
      "\u001b[32m  ✓ \u001b[39m\u001b[90mOpenSSL_jll\u001b[39m\n"
     ]
    },
    {
     "name": "stderr",
     "output_type": "stream",
     "text": [
      "\u001b[32m  ✓ \u001b[39m\u001b[90mGraphite2_jll\u001b[39m\n"
     ]
    },
    {
     "name": "stderr",
     "output_type": "stream",
     "text": [
      "\u001b[32m  ✓ \u001b[39m\u001b[90mLibmount_jll\u001b[39m\n"
     ]
    },
    {
     "name": "stderr",
     "output_type": "stream",
     "text": [
      "\u001b[32m  ✓ \u001b[39m\u001b[90mBzip2_jll\u001b[39m\n"
     ]
    },
    {
     "name": "stderr",
     "output_type": "stream",
     "text": [
      "\u001b[32m  ✓ \u001b[39m\u001b[90mXorg_libXau_jll\u001b[39m\n"
     ]
    },
    {
     "name": "stderr",
     "output_type": "stream",
     "text": [
      "\u001b[32m  ✓ \u001b[39m\u001b[90mlibpng_jll\u001b[39m\n"
     ]
    },
    {
     "name": "stderr",
     "output_type": "stream",
     "text": [
      "\u001b[32m  ✓ \u001b[39m\u001b[90mlibfdk_aac_jll\u001b[39m\n"
     ]
    },
    {
     "name": "stderr",
     "output_type": "stream",
     "text": [
      "\u001b[32m  ✓ \u001b[39m\u001b[90mLAME_jll\u001b[39m\n"
     ]
    },
    {
     "name": "stderr",
     "output_type": "stream",
     "text": [
      "\u001b[32m  ✓ \u001b[39m\u001b[90mPixman_jll\u001b[39m\n"
     ]
    },
    {
     "name": "stderr",
     "output_type": "stream",
     "text": [
      "\u001b[32m  ✓ \u001b[39m\u001b[90mColorTypes\u001b[39m\n"
     ]
    },
    {
     "name": "stderr",
     "output_type": "stream",
     "text": [
      "\u001b[32m  ✓ \u001b[39mHTTP\n",
      "\u001b[32m  ✓ \u001b[39m\u001b[90mLERC_jll\u001b[39m\n"
     ]
    },
    {
     "name": "stderr",
     "output_type": "stream",
     "text": [
      "\u001b[32m  ✓ \u001b[39m\u001b[90mEarCut_jll\u001b[39m\n"
     ]
    },
    {
     "name": "stderr",
     "output_type": "stream",
     "text": [
      "\u001b[32m  ✓ \u001b[39m\u001b[90mJpegTurbo_jll\u001b[39m\n"
     ]
    },
    {
     "name": "stderr",
     "output_type": "stream",
     "text": [
      "\u001b[32m  ✓ \u001b[39m\u001b[90mOgg_jll\u001b[39m\n",
      "\u001b[32m  ✓ \u001b[39m\u001b[90mXorg_libXdmcp_jll\u001b[39m\n"
     ]
    },
    {
     "name": "stderr",
     "output_type": "stream",
     "text": [
      "\u001b[32m  ✓ \u001b[39m\u001b[90mx265_jll\u001b[39m\n"
     ]
    },
    {
     "name": "stderr",
     "output_type": "stream",
     "text": [
      "\u001b[32m  ✓ \u001b[39m\u001b[90mx264_jll\u001b[39m\n"
     ]
    },
    {
     "name": "stderr",
     "output_type": "stream",
     "text": [
      "\u001b[32m  ✓ \u001b[39m\u001b[90mZstd_jll\u001b[39m\n",
      "\u001b[32m  ✓ \u001b[39m\u001b[90mExpat_jll\u001b[39m\n"
     ]
    },
    {
     "name": "stderr",
     "output_type": "stream",
     "text": [
      "\u001b[32m  ✓ \u001b[39m\u001b[90mLZO_jll\u001b[39m\n"
     ]
    },
    {
     "name": "stderr",
     "output_type": "stream",
     "text": [
      "\u001b[32m  ✓ \u001b[39m\u001b[90mOpus_jll\u001b[39m\n"
     ]
    },
    {
     "name": "stderr",
     "output_type": "stream",
     "text": [
      "\u001b[32m  ✓ \u001b[39m\u001b[90mXorg_xtrans_jll\u001b[39m\n"
     ]
    },
    {
     "name": "stderr",
     "output_type": "stream",
     "text": [
      "\u001b[32m  ✓ \u001b[39mPyCall\n",
      "\u001b[32m  ✓ \u001b[39m\u001b[90mPCRE_jll\u001b[39m\n"
     ]
    },
    {
     "name": "stderr",
     "output_type": "stream",
     "text": [
      "\u001b[32m  ✓ \u001b[39m\u001b[90mLibiconv_jll\u001b[39m"
     ]
    },
    {
     "name": "stderr",
     "output_type": "stream",
     "text": [
      "\n"
     ]
    },
    {
     "name": "stderr",
     "output_type": "stream",
     "text": [
      "\u001b[32m  ✓ \u001b[39m\u001b[90mLibffi_jll\u001b[39m\n"
     ]
    },
    {
     "name": "stderr",
     "output_type": "stream",
     "text": [
      "\u001b[32m  ✓ \u001b[39m\u001b[90mLibgpg_error_jll\u001b[39m\n",
      "\u001b[32m  ✓ \u001b[39m\u001b[90mXorg_libpthread_stubs_jll\u001b[39m\n"
     ]
    },
    {
     "name": "stderr",
     "output_type": "stream",
     "text": [
      "\u001b[32m  ✓ \u001b[39m\u001b[90mWayland_protocols_jll\u001b[39m\n"
     ]
    },
    {
     "name": "stderr",
     "output_type": "stream",
     "text": [
      "\u001b[32m  ✓ \u001b[39m\u001b[90mFriBidi_jll\u001b[39m\n"
     ]
    },
    {
     "name": "stderr",
     "output_type": "stream",
     "text": [
      "\u001b[32m  ✓ \u001b[39m\u001b[90mLibuuid_jll\u001b[39m\n"
     ]
    },
    {
     "name": "stderr",
     "output_type": "stream",
     "text": [
      "\u001b[32m  ✓ \u001b[39m\u001b[90mSortingAlgorithms\u001b[39m\n"
     ]
    },
    {
     "name": "stderr",
     "output_type": "stream",
     "text": [
      "\u001b[32m  ✓ \u001b[39m\u001b[90mChangesOfVariables\u001b[39m\n"
     ]
    },
    {
     "name": "stderr",
     "output_type": "stream",
     "text": [
      "\u001b[32m  ✓ \u001b[39m\u001b[90mContour\u001b[39m\n"
     ]
    },
    {
     "name": "stderr",
     "output_type": "stream",
     "text": [
      "\u001b[32m  ✓ \u001b[39m\u001b[90mJuno\u001b[39m\n"
     ]
    },
    {
     "name": "stderr",
     "output_type": "stream",
     "text": [
      "\u001b[32m  ✓ \u001b[39m\u001b[90mFreeType2_jll\u001b[39m\n"
     ]
    },
    {
     "name": "stderr",
     "output_type": "stream",
     "text": [
      "\u001b[32m  ✓ \u001b[39m\u001b[90mArnoldiMethod\u001b[39m\n"
     ]
    },
    {
     "name": "stderr",
     "output_type": "stream",
     "text": [
      "\u001b[32m  ✓ \u001b[39m\u001b[90mStructArrays\u001b[39m\n"
     ]
    },
    {
     "name": "stderr",
     "output_type": "stream",
     "text": [
      "\u001b[32m  ✓ \u001b[39m\u001b[90mlibvorbis_jll\u001b[39m\n"
     ]
    },
    {
     "name": "stderr",
     "output_type": "stream",
     "text": [
      "\u001b[32m  ✓ \u001b[39m\u001b[90mLibtiff_jll\u001b[39m\n"
     ]
    },
    {
     "name": "stderr",
     "output_type": "stream",
     "text": [
      "\u001b[32m  ✓ \u001b[39m\u001b[90mXML2_jll\u001b[39m\n"
     ]
    },
    {
     "name": "stderr",
     "output_type": "stream",
     "text": [
      "\u001b[32m  ✓ \u001b[39m\u001b[90mLibgcrypt_jll\u001b[39m\n"
     ]
    },
    {
     "name": "stderr",
     "output_type": "stream",
     "text": [
      "\u001b[32m  ✓ \u001b[39m\u001b[90mFontconfig_jll\u001b[39m\n"
     ]
    },
    {
     "name": "stderr",
     "output_type": "stream",
     "text": [
      "\u001b[32m  ✓ \u001b[39m\u001b[90mInterpolations\u001b[39m\n"
     ]
    },
    {
     "name": "stderr",
     "output_type": "stream",
     "text": [
      "\u001b[32m  ✓ \u001b[39m\u001b[90mLogExpFunctions\u001b[39m\n"
     ]
    },
    {
     "name": "stderr",
     "output_type": "stream",
     "text": [
      "\u001b[32m  ✓ \u001b[39m\u001b[90mGeometryTypes\u001b[39m\n"
     ]
    },
    {
     "name": "stderr",
     "output_type": "stream",
     "text": [
      "\u001b[32m  ✓ \u001b[39m\u001b[90mGettext_jll\u001b[39m\n",
      "\u001b[32m  ✓ \u001b[39m\u001b[90mWayland_jll\u001b[39m"
     ]
    },
    {
     "name": "stderr",
     "output_type": "stream",
     "text": [
      "\n"
     ]
    },
    {
     "name": "stderr",
     "output_type": "stream",
     "text": [
      "\u001b[32m  ✓ \u001b[39m\u001b[90mColors\u001b[39m\n"
     ]
    },
    {
     "name": "stderr",
     "output_type": "stream",
     "text": [
      "\u001b[32m  ✓ \u001b[39m\u001b[90mXSLT_jll\u001b[39m\n"
     ]
    },
    {
     "name": "stderr",
     "output_type": "stream",
     "text": [
      "\u001b[32m  ✓ \u001b[39m\u001b[90mGlib_jll\u001b[39m\n"
     ]
    },
    {
     "name": "stderr",
     "output_type": "stream",
     "text": [
      "\u001b[32m  ✓ \u001b[39m\u001b[90mGraphics\u001b[39m\n"
     ]
    },
    {
     "name": "stderr",
     "output_type": "stream",
     "text": [
      "\u001b[32m  ✓ \u001b[39m\u001b[90mXorg_libxcb_jll\u001b[39m\n"
     ]
    },
    {
     "name": "stderr",
     "output_type": "stream",
     "text": [
      "\u001b[32m  ✓ \u001b[39m\u001b[90mXorg_xcb_util_jll\u001b[39m\n"
     ]
    },
    {
     "name": "stderr",
     "output_type": "stream",
     "text": [
      "\u001b[32m  ✓ \u001b[39m\u001b[90mStatsBase\u001b[39m\n"
     ]
    },
    {
     "name": "stderr",
     "output_type": "stream",
     "text": [
      "\u001b[32m  ✓ \u001b[39m\u001b[90mXorg_libX11_jll\u001b[39m\n"
     ]
    },
    {
     "name": "stderr",
     "output_type": "stream",
     "text": [
      "\u001b[32m  ✓ \u001b[39m\u001b[90mXorg_xcb_util_image_jll\u001b[39m\n"
     ]
    },
    {
     "name": "stderr",
     "output_type": "stream",
     "text": [
      "\u001b[32m  ✓ \u001b[39m\u001b[90mXorg_xcb_util_keysyms_jll\u001b[39m\n"
     ]
    },
    {
     "name": "stderr",
     "output_type": "stream",
     "text": [
      "\u001b[32m  ✓ \u001b[39m\u001b[90mXorg_xcb_util_renderutil_jll\u001b[39m"
     ]
    },
    {
     "name": "stderr",
     "output_type": "stream",
     "text": [
      "\n"
     ]
    },
    {
     "name": "stderr",
     "output_type": "stream",
     "text": [
      "\u001b[32m  ✓ \u001b[39m\u001b[90mXorg_xcb_util_wm_jll\u001b[39m\n"
     ]
    },
    {
     "name": "stderr",
     "output_type": "stream",
     "text": [
      "\u001b[32m  ✓ \u001b[39m\u001b[90mGraphs\u001b[39m\n",
      "\u001b[32m  ✓ \u001b[39m\u001b[90mXorg_libXrender_jll\u001b[39m\n"
     ]
    },
    {
     "name": "stderr",
     "output_type": "stream",
     "text": [
      "\u001b[32m  ✓ \u001b[39m\u001b[90mXorg_libXext_jll\u001b[39m\n"
     ]
    },
    {
     "name": "stderr",
     "output_type": "stream",
     "text": [
      "\u001b[32m  ✓ \u001b[39m\u001b[90mXorg_libXfixes_jll\u001b[39m\n"
     ]
    },
    {
     "name": "stderr",
     "output_type": "stream",
     "text": [
      "\u001b[32m  ✓ \u001b[39m\u001b[90mXorg_libxkbfile_jll\u001b[39m\n"
     ]
    },
    {
     "name": "stderr",
     "output_type": "stream",
     "text": [
      "\u001b[32m  ✓ \u001b[39m\u001b[90mLibglvnd_jll\u001b[39m\n"
     ]
    },
    {
     "name": "stderr",
     "output_type": "stream",
     "text": [
      "\u001b[32m  ✓ \u001b[39m\u001b[90mgdk_pixbuf_jll\u001b[39m\n",
      "\u001b[32m  ✓ \u001b[39m\u001b[90mXorg_libXinerama_jll\u001b[39m\n"
     ]
    },
    {
     "name": "stderr",
     "output_type": "stream",
     "text": [
      "\u001b[32m  ✓ \u001b[39m\u001b[90mXorg_libXrandr_jll\u001b[39m"
     ]
    },
    {
     "name": "stderr",
     "output_type": "stream",
     "text": [
      "\n"
     ]
    },
    {
     "name": "stderr",
     "output_type": "stream",
     "text": [
      "\u001b[32m  ✓ \u001b[39m\u001b[90mXorg_libXcursor_jll\u001b[39m\n"
     ]
    },
    {
     "name": "stderr",
     "output_type": "stream",
     "text": [
      "\u001b[32m  ✓ \u001b[39m\u001b[90mCairo_jll\u001b[39m\n"
     ]
    },
    {
     "name": "stderr",
     "output_type": "stream",
     "text": [
      "\u001b[32m  ✓ \u001b[39m\u001b[90mXorg_libXi_jll\u001b[39m\n"
     ]
    },
    {
     "name": "stderr",
     "output_type": "stream",
     "text": [
      "\u001b[32m  ✓ \u001b[39m\u001b[90mXorg_xkbcomp_jll\u001b[39m\n"
     ]
    },
    {
     "name": "stderr",
     "output_type": "stream",
     "text": [
      "\u001b[32m  ✓ \u001b[39m\u001b[90mGLFW_jll\u001b[39m\n"
     ]
    },
    {
     "name": "stderr",
     "output_type": "stream",
     "text": [
      "\u001b[32m  ✓ \u001b[39m\u001b[90mXorg_xkeyboard_config_jll\u001b[39m\n"
     ]
    },
    {
     "name": "stderr",
     "output_type": "stream",
     "text": [
      "\u001b[32m  ✓ \u001b[39m\u001b[90mGeometryBasics\u001b[39m\n",
      "\u001b[32m  ✓ \u001b[39m\u001b[90mHarfBuzz_jll\u001b[39m\n"
     ]
    },
    {
     "name": "stderr",
     "output_type": "stream",
     "text": [
      "\u001b[32m  ✓ \u001b[39m\u001b[90mxkbcommon_jll\u001b[39m\n"
     ]
    },
    {
     "name": "stderr",
     "output_type": "stream",
     "text": [
      "\u001b[32m  ✓ \u001b[39m\u001b[90mColorSchemes\u001b[39m\n",
      "\u001b[32m  ✓ \u001b[39m\u001b[90mlibass_jll\u001b[39m"
     ]
    },
    {
     "name": "stderr",
     "output_type": "stream",
     "text": [
      "\n",
      "\u001b[32m  ✓ \u001b[39m\u001b[90mPango_jll\u001b[39m\n"
     ]
    },
    {
     "name": "stderr",
     "output_type": "stream",
     "text": [
      "\u001b[32m  ✓ \u001b[39m\u001b[90mQt5Base_jll\u001b[39m\n"
     ]
    },
    {
     "name": "stderr",
     "output_type": "stream",
     "text": [
      "\u001b[32m  ✓ \u001b[39m\u001b[90mLibrsvg_jll\u001b[39m\n"
     ]
    },
    {
     "name": "stderr",
     "output_type": "stream",
     "text": [
      "\u001b[32m  ✓ \u001b[39m\u001b[90mFFMPEG_jll\u001b[39m\n"
     ]
    },
    {
     "name": "stderr",
     "output_type": "stream",
     "text": [
      "\u001b[32m  ✓ \u001b[39m\u001b[90mFFMPEG\u001b[39m\n"
     ]
    },
    {
     "name": "stderr",
     "output_type": "stream",
     "text": [
      "\u001b[32m  ✓ \u001b[39m\u001b[90mCairo\u001b[39m\n"
     ]
    },
    {
     "name": "stderr",
     "output_type": "stream",
     "text": [
      "\u001b[32m  ✓ \u001b[39m\u001b[90mNetworkLayout\u001b[39m\n"
     ]
    },
    {
     "name": "stderr",
     "output_type": "stream",
     "text": [
      "\u001b[32m  ✓ \u001b[39m\u001b[90mGR_jll\u001b[39m\n"
     ]
    },
    {
     "name": "stderr",
     "output_type": "stream",
     "text": [
      "\u001b[32m  ✓ \u001b[39m\u001b[90mRsvg\u001b[39m\n"
     ]
    },
    {
     "name": "stderr",
     "output_type": "stream",
     "text": [
      "\u001b[32m  ✓ \u001b[39m\u001b[90mGR\u001b[39m\n"
     ]
    },
    {
     "name": "stderr",
     "output_type": "stream",
     "text": [
      "\u001b[32m  ✓ \u001b[39m\u001b[90mPlotUtils\u001b[39m\n"
     ]
    },
    {
     "name": "stderr",
     "output_type": "stream",
     "text": [
      "\u001b[32m  ✓ \u001b[39mLuxor\n"
     ]
    },
    {
     "name": "stderr",
     "output_type": "stream",
     "text": [
      "\u001b[32m  ✓ \u001b[39m\u001b[90mRecipesPipeline\u001b[39m\n"
     ]
    },
    {
     "name": "stderr",
     "output_type": "stream",
     "text": [
      "\u001b[32m  ✓ \u001b[39m\u001b[90mPlotThemes\u001b[39m\n"
     ]
    },
    {
     "name": "stderr",
     "output_type": "stream",
     "text": [
      "\u001b[32m  ✓ \u001b[39mGraphRecipes\n"
     ]
    },
    {
     "name": "stderr",
     "output_type": "stream",
     "text": [
      "\u001b[32m  ✓ \u001b[39mPlots\n",
      "  129 dependencies successfully precompiled in 113 seconds. 27 already precompiled.\n"
     ]
    }
   ],
   "source": [
    "using Pkg\n",
    "Pkg.add(\"BenchmarkTools\")"
   ]
  },
  {
   "cell_type": "code",
   "execution_count": 3,
   "metadata": {
    "scrolled": false
   },
   "outputs": [],
   "source": [
    "using BenchmarkTools  "
   ]
  },
  {
   "cell_type": "markdown",
   "metadata": {},
   "source": [
    "#  1. The C language\n",
    "\n",
    "C is often considered the gold standard: difficult on the human, nice for the machine. Getting within a factor of 2 of C is often satisfying. Nonetheless, even within C, there are many kinds of optimizations possible that a naive C writer may or may not get the advantage of.\n",
    "\n",
    "The current author does not speak C, so he does not read the cell below, but is happy to know that you can put C code in a Julia session, compile it, and run it. Note that the `\"\"\"` wrap a multi-line string."
   ]
  },
  {
   "cell_type": "code",
   "execution_count": 9,
   "metadata": {
    "scrolled": false
   },
   "outputs": [
    {
     "data": {
      "text/plain": [
       "c_sum (generic function with 1 method)"
      ]
     },
     "metadata": {},
     "output_type": "display_data"
    }
   ],
   "source": [
    "using Libdl\n",
    "C_code = \"\"\"\n",
    "#include <stddef.h>\n",
    "double c_sum(size_t n, double *X) {\n",
    "    double s = 0.0;\n",
    "    for (size_t i = 0; i < n; ++i) {\n",
    "        s += X[i];\n",
    "    }\n",
    "    return s;\n",
    "}\n",
    "\"\"\"\n",
    "\n",
    "const Clib = tempname()   # make a temporary file\n",
    "\n",
    "\n",
    "# compile to a shared library by piping C_code to gcc\n",
    "# (works only if you have gcc installed):\n",
    "\n",
    "open(`gcc -fPIC -O3 -msse3 -xc -shared -o $(Clib * \".\" * Libdl.dlext) -`, \"w\") do f\n",
    "    print(f, C_code) \n",
    "end\n",
    "\n",
    "# define a Julia function that calls the C function:\n",
    "c_sum(X::Array{Float64}) = ccall((\"c_sum\", Clib), Float64, (Csize_t, Ptr{Float64}), length(X), X)"
   ]
  },
  {
   "cell_type": "code",
   "execution_count": 10,
   "metadata": {
    "scrolled": false
   },
   "outputs": [
    {
     "data": {
      "text/plain": [
       "4.998277737439783e6"
      ]
     },
     "metadata": {},
     "output_type": "display_data"
    }
   ],
   "source": [
    "c_sum(a)"
   ]
  },
  {
   "cell_type": "code",
   "execution_count": 11,
   "metadata": {
    "scrolled": false
   },
   "outputs": [
    {
     "data": {
      "text/plain": [
       "true"
      ]
     },
     "metadata": {},
     "output_type": "display_data"
    }
   ],
   "source": [
    "c_sum(a) ≈ sum(a) # type \\approx and then <TAB> to get the ≈ symbolb"
   ]
  },
  {
   "cell_type": "code",
   "execution_count": 12,
   "metadata": {},
   "outputs": [
    {
     "data": {
      "text/plain": [
       "-4.1443854570388794e-7"
      ]
     },
     "metadata": {},
     "output_type": "display_data"
    }
   ],
   "source": [
    "c_sum(a) - sum(a)  "
   ]
  },
  {
   "cell_type": "code",
   "execution_count": 13,
   "metadata": {
    "scrolled": true
   },
   "outputs": [
    {
     "data": {
      "text/plain": [
       "isapprox (generic function with 9 methods)"
      ]
     },
     "metadata": {},
     "output_type": "display_data"
    }
   ],
   "source": [
    "≈  # alias for the `isapprox` function"
   ]
  },
  {
   "cell_type": "markdown",
   "metadata": {},
   "source": [
    "We can now benchmark the C code directly from Julia:"
   ]
  },
  {
   "cell_type": "code",
   "execution_count": 12,
   "metadata": {
    "scrolled": false
   },
   "outputs": [
    {
     "data": {
      "text/plain": [
       "BenchmarkTools.Trial: 340 samples with 1 evaluation.\n",
       " Range \u001b[90m(\u001b[39m\u001b[36m\u001b[1mmin\u001b[22m\u001b[39m … \u001b[35mmax\u001b[39m\u001b[90m):  \u001b[39m\u001b[36m\u001b[1m12.189 ms\u001b[22m\u001b[39m … \u001b[35m33.397 ms\u001b[39m  \u001b[90m┊\u001b[39m GC \u001b[90m(\u001b[39mmin … max\u001b[90m): \u001b[39m0.00% … 0.00%\n",
       " Time  \u001b[90m(\u001b[39m\u001b[34m\u001b[1mmedian\u001b[22m\u001b[39m\u001b[90m):     \u001b[39m\u001b[34m\u001b[1m14.379 ms              \u001b[22m\u001b[39m\u001b[90m┊\u001b[39m GC \u001b[90m(\u001b[39mmedian\u001b[90m):    \u001b[39m0.00%\n",
       " Time  \u001b[90m(\u001b[39m\u001b[32m\u001b[1mmean\u001b[22m\u001b[39m ± \u001b[32mσ\u001b[39m\u001b[90m):   \u001b[39m\u001b[32m\u001b[1m14.703 ms\u001b[22m\u001b[39m ± \u001b[32m 1.719 ms\u001b[39m  \u001b[90m┊\u001b[39m GC \u001b[90m(\u001b[39mmean ± σ\u001b[90m):  \u001b[39m0.00% ± 0.00%\n",
       "\n",
       "  \u001b[39m \u001b[39m \u001b[39m \u001b[39m \u001b[39m \u001b[39m \u001b[39m \u001b[39m \u001b[39m▁\u001b[39m▁\u001b[39m \u001b[39m▆\u001b[39m█\u001b[39m▄\u001b[39m \u001b[39m█\u001b[34m▄\u001b[39m\u001b[39m▂\u001b[39m▁\u001b[32m▂\u001b[39m\u001b[39m▁\u001b[39m \u001b[39m \u001b[39m \u001b[39m \u001b[39m \u001b[39m \u001b[39m \u001b[39m \u001b[39m \u001b[39m \u001b[39m \u001b[39m \u001b[39m \u001b[39m \u001b[39m \u001b[39m \u001b[39m \u001b[39m \u001b[39m \u001b[39m \u001b[39m \u001b[39m \u001b[39m \u001b[39m \u001b[39m \u001b[39m \u001b[39m \u001b[39m \u001b[39m \u001b[39m \u001b[39m \u001b[39m \u001b[39m \u001b[39m \u001b[39m \u001b[39m \u001b[39m \u001b[39m \u001b[39m \u001b[39m \n",
       "  \u001b[39m▄\u001b[39m▃\u001b[39m▁\u001b[39m▅\u001b[39m▆\u001b[39m▇\u001b[39m▄\u001b[39m▆\u001b[39m█\u001b[39m█\u001b[39m▇\u001b[39m█\u001b[39m█\u001b[39m█\u001b[39m█\u001b[39m█\u001b[34m█\u001b[39m\u001b[39m█\u001b[39m█\u001b[32m█\u001b[39m\u001b[39m█\u001b[39m█\u001b[39m▇\u001b[39m▇\u001b[39m▆\u001b[39m▅\u001b[39m█\u001b[39m▃\u001b[39m▅\u001b[39m▆\u001b[39m▅\u001b[39m▅\u001b[39m▄\u001b[39m▄\u001b[39m▄\u001b[39m▄\u001b[39m▃\u001b[39m▃\u001b[39m▄\u001b[39m▁\u001b[39m▃\u001b[39m▃\u001b[39m▃\u001b[39m▁\u001b[39m▃\u001b[39m▃\u001b[39m▁\u001b[39m▁\u001b[39m▁\u001b[39m▃\u001b[39m▁\u001b[39m▃\u001b[39m▁\u001b[39m▁\u001b[39m▁\u001b[39m▁\u001b[39m▁\u001b[39m▁\u001b[39m▃\u001b[39m \u001b[39m▄\n",
       "  12.2 ms\u001b[90m         Histogram: frequency by time\u001b[39m        20.1 ms \u001b[0m\u001b[1m<\u001b[22m\n",
       "\n",
       " Memory estimate\u001b[90m: \u001b[39m\u001b[33m0 bytes\u001b[39m, allocs estimate\u001b[90m: \u001b[39m\u001b[33m0\u001b[39m."
      ]
     },
     "metadata": {},
     "output_type": "display_data"
    }
   ],
   "source": [
    "c_bench = @benchmark c_sum($a)"
   ]
  },
  {
   "cell_type": "code",
   "execution_count": 13,
   "metadata": {
    "scrolled": false
   },
   "outputs": [
    {
     "name": "stdout",
     "output_type": "stream",
     "text": [
      "C: Fastest time was 12.1887 msec\n"
     ]
    }
   ],
   "source": [
    "println(\"C: Fastest time was $(minimum(c_bench.times) / 1e6) msec\")"
   ]
  },
  {
   "cell_type": "code",
   "execution_count": 14,
   "metadata": {
    "scrolled": true
   },
   "outputs": [
    {
     "data": {
      "text/plain": [
       "Dict{Any, Any} with 1 entry:\n",
       "  \"C\" => 12.1887"
      ]
     },
     "metadata": {},
     "output_type": "display_data"
    }
   ],
   "source": [
    "d = Dict()  # a \"dictionary\", i.e. an associative array\n",
    "d[\"C\"] = minimum(c_bench.times) / 1e6  # in milliseconds\n",
    "d"
   ]
  },
  {
   "cell_type": "code",
   "execution_count": 15,
   "metadata": {
    "scrolled": true
   },
   "outputs": [
    {
     "data": {
      "text/plain": [
       "Plots.GRBackend()"
      ]
     },
     "metadata": {},
     "output_type": "display_data"
    }
   ],
   "source": [
    "using Plots\n",
    "gr()"
   ]
  },
  {
   "cell_type": "code",
   "execution_count": 16,
   "metadata": {},
   "outputs": [
    {
     "data": {
      "image/png": "[encoded data removed]",
      "image/svg+xml": "<?xml version=\"1.0\" encoding=\"utf-8\"?>\n<svg xmlns=\"http://www.w3.org/2000/svg\" xmlns:xlink=\"http://www.w3.org/1999/xlink\" width=\"600\" height=\"400\" viewBox=\"0 0 2400 1600\">\n<defs>\n  <clipPath id=\"clip090\">\n    <rect x=\"0\" y=\"0\" width=\"2400\" height=\"1600\"/>\n  </clipPath>\n</defs>\n<path clip-path=\"url(#clip090)\" d=\"\nM0 1600 L2400 1600 L2400 0 L0 0  Z\n  \" fill=\"#ffffff\" fill-rule=\"evenodd\" fill-opacity=\"1\"/>\n<defs>\n  <clipPath id=\"clip091\">\n    <rect x=\"480\" y=\"0\" width=\"1681\" height=\"1600\"/>\n  </clipPath>\n</defs>\n<path clip-path=\"url(#clip090)\" d=\"\nM247.459 1423.18 L2352.76 1423.18 L2352.76 47.2441 L247.459 47.2441  Z\n  \" fill=\"#ffffff\" fill-rule=\"evenodd\" fill-opacity=\"1\"/>\n<defs>\n  <clipPath id=\"clip092\">\n    <rect x=\"247\" y=\"47\" width=\"2106\" height=\"1377\"/>\n  </clipPath>\n</defs>\n<polyline clip-path=\"url(#clip092)\" style=\"stroke:#000000; stroke-linecap:butt; stroke-linejoin:round; stroke-width:2; stroke-opacity:0.1; fill:none\" points=\"\n  334.287,1423.18 334.287,47.2441 \n  \"/>\n<polyline clip-path=\"url(#clip092)\" style=\"stroke:#000000; stroke-linecap:butt; stroke-linejoin:round; stroke-width:2; stroke-opacity:0.1; fill:none\" points=\"\n  638.734,1423.18 638.734,47.2441 \n  \"/>\n<polyline clip-path=\"url(#clip092)\" style=\"stroke:#000000; stroke-linecap:butt; stroke-linejoin:round; stroke-width:2; stroke-opacity:0.1; fill:none\" points=\"\n  943.181,1423.18 943.181,47.2441 \n  \"/>\n<polyline clip-path=\"url(#clip092)\" style=\"stroke:#000000; stroke-linecap:butt; stroke-linejoin:round; stroke-width:2; stroke-opacity:0.1; fill:none\" points=\"\n  1247.63,1423.18 1247.63,47.2441 \n  \"/>\n<polyline clip-path=\"url(#clip092)\" style=\"stroke:#000000; stroke-linecap:butt; stroke-linejoin:round; stroke-width:2; stroke-opacity:0.1; fill:none\" points=\"\n  1552.07,1423.18 1552.07,47.2441 \n  \"/>\n<polyline clip-path=\"url(#clip092)\" style=\"stroke:#000000; stroke-linecap:butt; stroke-linejoin:round; stroke-width:2; stroke-opacity:0.1; fill:none\" points=\"\n  1856.52,1423.18 1856.52,47.2441 \n  \"/>\n<polyline clip-path=\"url(#clip092)\" style=\"stroke:#000000; stroke-linecap:butt; stroke-linejoin:round; stroke-width:2; stroke-opacity:0.1; fill:none\" points=\"\n  2160.97,1423.18 2160.97,47.2441 \n  \"/>\n<polyline clip-path=\"url(#clip090)\" style=\"stroke:#000000; stroke-linecap:butt; stroke-linejoin:round; stroke-width:4; stroke-opacity:1; fill:none\" points=\"\n  247.459,1423.18 2352.76,1423.18 \n  \"/>\n<polyline clip-path=\"url(#clip090)\" style=\"stroke:#000000; stroke-linecap:butt; stroke-linejoin:round; stroke-width:4; stroke-opacity:1; fill:none\" points=\"\n  334.287,1423.18 334.287,1404.28 \n  \"/>\n<polyline clip-path=\"url(#clip090)\" style=\"stroke:#000000; stroke-linecap:butt; stroke-linejoin:round; stroke-width:4; stroke-opacity:1; fill:none\" points=\"\n  638.734,1423.18 638.734,1404.28 \n  \"/>\n<polyline clip-path=\"url(#clip090)\" style=\"stroke:#000000; stroke-linecap:butt; stroke-linejoin:round; stroke-width:4; stroke-opacity:1; fill:none\" points=\"\n  943.181,1423.18 943.181,1404.28 \n  \"/>\n<polyline clip-path=\"url(#clip090)\" style=\"stroke:#000000; stroke-linecap:butt; stroke-linejoin:round; stroke-width:4; stroke-opacity:1; fill:none\" points=\"\n  1247.63,1423.18 1247.63,1404.28 \n  \"/>\n<polyline clip-path=\"url(#clip090)\" style=\"stroke:#000000; stroke-linecap:butt; stroke-linejoin:round; stroke-width:4; stroke-opacity:1; fill:none\" points=\"\n  1552.07,1423.18 1552.07,1404.28 \n  \"/>\n<polyline clip-path=\"url(#clip090)\" style=\"stroke:#000000; stroke-linecap:butt; stroke-linejoin:round; stroke-width:4; stroke-opacity:1; fill:none\" points=\"\n  1856.52,1423.18 1856.52,1404.28 \n  \"/>\n<polyline clip-path=\"url(#clip090)\" style=\"stroke:#000000; stroke-linecap:butt; stroke-linejoin:round; stroke-width:4; stroke-opacity:1; fill:none\" points=\"\n  2160.97,1423.18 2160.97,1404.28 \n  \"/>\n<path clip-path=\"url(#clip090)\" d=\"M271.776 1481.64 L279.415 1481.64 L279.415 1455.28 L271.104 1456.95 L271.104 1452.69 L279.368 1451.02 L284.044 1451.02 L284.044 1481.64 L291.683 1481.64 L291.683 1485.58 L271.776 1485.58 L271.776 1481.64 Z\" fill=\"#000000\" fill-rule=\"evenodd\" fill-opacity=\"1\" /><path clip-path=\"url(#clip090)\" d=\"M305.155 1481.64 L321.475 1481.64 L321.475 1485.58 L299.53 1485.58 L299.53 1481.64 Q302.192 1478.89 306.776 1474.26 Q311.382 1469.61 312.563 1468.27 Q314.808 1465.74 315.688 1464.01 Q316.59 1462.25 316.59 1460.56 Q316.59 1457.8 314.646 1456.07 Q312.725 1454.33 309.623 1454.33 Q307.424 1454.33 304.97 1455.09 Q302.539 1455.86 299.762 1457.41 L299.762 1452.69 Q302.586 1451.55 305.039 1450.97 Q307.493 1450.39 309.53 1450.39 Q314.901 1450.39 318.095 1453.08 Q321.289 1455.77 321.289 1460.26 Q321.289 1462.39 320.479 1464.31 Q319.692 1466.2 317.586 1468.8 Q317.007 1469.47 313.905 1472.69 Q310.803 1475.88 305.155 1481.64 Z\" fill=\"#000000\" fill-rule=\"evenodd\" fill-opacity=\"1\" /><path clip-path=\"url(#clip090)\" d=\"M331.289 1479.7 L336.174 1479.7 L336.174 1485.58 L331.289 1485.58 L331.289 1479.7 Z\" fill=\"#000000\" fill-rule=\"evenodd\" fill-opacity=\"1\" /><path clip-path=\"url(#clip090)\" d=\"M350.386 1481.64 L366.706 1481.64 L366.706 1485.58 L344.761 1485.58 L344.761 1481.64 Q347.423 1478.89 352.007 1474.26 Q356.613 1469.61 357.794 1468.27 Q360.039 1465.74 360.919 1464.01 Q361.822 1462.25 361.822 1460.56 Q361.822 1457.8 359.877 1456.07 Q357.956 1454.33 354.854 1454.33 Q352.655 1454.33 350.201 1455.09 Q347.771 1455.86 344.993 1457.41 L344.993 1452.69 Q347.817 1451.55 350.271 1450.97 Q352.724 1450.39 354.761 1450.39 Q360.132 1450.39 363.326 1453.08 Q366.521 1455.77 366.521 1460.26 Q366.521 1462.39 365.71 1464.31 Q364.923 1466.2 362.817 1468.8 Q362.238 1469.47 359.136 1472.69 Q356.035 1475.88 350.386 1481.64 Z\" fill=\"#000000\" fill-rule=\"evenodd\" fill-opacity=\"1\" /><path clip-path=\"url(#clip090)\" d=\"M376.567 1451.02 L394.923 1451.02 L394.923 1454.96 L380.849 1454.96 L380.849 1463.43 Q381.868 1463.08 382.886 1462.92 Q383.905 1462.73 384.923 1462.73 Q390.71 1462.73 394.09 1465.9 Q397.47 1469.08 397.47 1474.49 Q397.47 1480.07 393.997 1483.17 Q390.525 1486.25 384.206 1486.25 Q382.03 1486.25 379.761 1485.88 Q377.516 1485.51 375.109 1484.77 L375.109 1480.07 Q377.192 1481.2 379.414 1481.76 Q381.636 1482.32 384.113 1482.32 Q388.118 1482.32 390.456 1480.21 Q392.794 1478.1 392.794 1474.49 Q392.794 1470.88 390.456 1468.77 Q388.118 1466.67 384.113 1466.67 Q382.238 1466.67 380.363 1467.08 Q378.511 1467.5 376.567 1468.38 L376.567 1451.02 Z\" fill=\"#000000\" fill-rule=\"evenodd\" fill-opacity=\"1\" /><path clip-path=\"url(#clip090)\" d=\"M575.725 1481.64 L583.364 1481.64 L583.364 1455.28 L575.054 1456.95 L575.054 1452.69 L583.318 1451.02 L587.994 1451.02 L587.994 1481.64 L595.632 1481.64 L595.632 1485.58 L575.725 1485.58 L575.725 1481.64 Z\" fill=\"#000000\" fill-rule=\"evenodd\" fill-opacity=\"1\" /><path clip-path=\"url(#clip090)\" d=\"M609.105 1481.64 L625.424 1481.64 L625.424 1485.58 L603.48 1485.58 L603.48 1481.64 Q606.142 1478.89 610.725 1474.26 Q615.331 1469.61 616.512 1468.27 Q618.757 1465.74 619.637 1464.01 Q620.54 1462.25 620.54 1460.56 Q620.54 1457.8 618.595 1456.07 Q616.674 1454.33 613.572 1454.33 Q611.373 1454.33 608.919 1455.09 Q606.489 1455.86 603.711 1457.41 L603.711 1452.69 Q606.535 1451.55 608.989 1450.97 Q611.442 1450.39 613.479 1450.39 Q618.85 1450.39 622.044 1453.08 Q625.239 1455.77 625.239 1460.26 Q625.239 1462.39 624.429 1464.31 Q623.641 1466.2 621.535 1468.8 Q620.956 1469.47 617.854 1472.69 Q614.753 1475.88 609.105 1481.64 Z\" fill=\"#000000\" fill-rule=\"evenodd\" fill-opacity=\"1\" /><path clip-path=\"url(#clip090)\" d=\"M635.239 1479.7 L640.123 1479.7 L640.123 1485.58 L635.239 1485.58 L635.239 1479.7 Z\" fill=\"#000000\" fill-rule=\"evenodd\" fill-opacity=\"1\" /><path clip-path=\"url(#clip090)\" d=\"M650.354 1451.02 L668.711 1451.02 L668.711 1454.96 L654.637 1454.96 L654.637 1463.43 Q655.655 1463.08 656.674 1462.92 Q657.692 1462.73 658.711 1462.73 Q664.498 1462.73 667.877 1465.9 Q671.257 1469.08 671.257 1474.49 Q671.257 1480.07 667.785 1483.17 Q664.313 1486.25 657.993 1486.25 Q655.817 1486.25 653.549 1485.88 Q651.303 1485.51 648.896 1484.77 L648.896 1480.07 Q650.979 1481.2 653.202 1481.76 Q655.424 1482.32 657.901 1482.32 Q661.905 1482.32 664.243 1480.21 Q666.581 1478.1 666.581 1474.49 Q666.581 1470.88 664.243 1468.77 Q661.905 1466.67 657.901 1466.67 Q656.026 1466.67 654.151 1467.08 Q652.299 1467.5 650.354 1468.38 L650.354 1451.02 Z\" fill=\"#000000\" fill-rule=\"evenodd\" fill-opacity=\"1\" /><path clip-path=\"url(#clip090)\" d=\"M690.47 1454.1 Q686.859 1454.1 685.03 1457.66 Q683.224 1461.2 683.224 1468.33 Q683.224 1475.44 685.03 1479.01 Q686.859 1482.55 690.47 1482.55 Q694.104 1482.55 695.91 1479.01 Q697.738 1475.44 697.738 1468.33 Q697.738 1461.2 695.91 1457.66 Q694.104 1454.1 690.47 1454.1 M690.47 1450.39 Q696.28 1450.39 699.336 1455 Q702.414 1459.58 702.414 1468.33 Q702.414 1477.06 699.336 1481.67 Q696.28 1486.25 690.47 1486.25 Q684.66 1486.25 681.581 1481.67 Q678.525 1477.06 678.525 1468.33 Q678.525 1459.58 681.581 1455 Q684.66 1450.39 690.47 1450.39 Z\" fill=\"#000000\" fill-rule=\"evenodd\" fill-opacity=\"1\" /><path clip-path=\"url(#clip090)\" d=\"M880.67 1481.64 L888.309 1481.64 L888.309 1455.28 L879.998 1456.95 L879.998 1452.69 L888.262 1451.02 L892.938 1451.02 L892.938 1481.64 L900.577 1481.64 L900.577 1485.58 L880.67 1485.58 L880.67 1481.64 Z\" fill=\"#000000\" fill-rule=\"evenodd\" fill-opacity=\"1\" /><path clip-path=\"url(#clip090)\" d=\"M914.049 1481.64 L930.369 1481.64 L930.369 1485.58 L908.424 1485.58 L908.424 1481.64 Q911.086 1478.89 915.67 1474.26 Q920.276 1469.61 921.457 1468.27 Q923.702 1465.74 924.582 1464.01 Q925.484 1462.25 925.484 1460.56 Q925.484 1457.8 923.54 1456.07 Q921.619 1454.33 918.517 1454.33 Q916.318 1454.33 913.864 1455.09 Q911.433 1455.86 908.656 1457.41 L908.656 1452.69 Q911.48 1451.55 913.933 1450.97 Q916.387 1450.39 918.424 1450.39 Q923.795 1450.39 926.989 1453.08 Q930.183 1455.77 930.183 1460.26 Q930.183 1462.39 929.373 1464.31 Q928.586 1466.2 926.48 1468.8 Q925.901 1469.47 922.799 1472.69 Q919.697 1475.88 914.049 1481.64 Z\" fill=\"#000000\" fill-rule=\"evenodd\" fill-opacity=\"1\" /><path clip-path=\"url(#clip090)\" d=\"M940.183 1479.7 L945.068 1479.7 L945.068 1485.58 L940.183 1485.58 L940.183 1479.7 Z\" fill=\"#000000\" fill-rule=\"evenodd\" fill-opacity=\"1\" /><path clip-path=\"url(#clip090)\" d=\"M954.072 1451.02 L976.294 1451.02 L976.294 1453.01 L963.748 1485.58 L958.864 1485.58 L970.669 1454.96 L954.072 1454.96 L954.072 1451.02 Z\" fill=\"#000000\" fill-rule=\"evenodd\" fill-opacity=\"1\" /><path clip-path=\"url(#clip090)\" d=\"M985.461 1451.02 L1003.82 1451.02 L1003.82 1454.96 L989.743 1454.96 L989.743 1463.43 Q990.762 1463.08 991.78 1462.92 Q992.799 1462.73 993.817 1462.73 Q999.604 1462.73 1002.98 1465.9 Q1006.36 1469.08 1006.36 1474.49 Q1006.36 1480.07 1002.89 1483.17 Q999.419 1486.25 993.1 1486.25 Q990.924 1486.25 988.655 1485.88 Q986.41 1485.51 984.003 1484.77 L984.003 1480.07 Q986.086 1481.2 988.308 1481.76 Q990.53 1482.32 993.007 1482.32 Q997.012 1482.32 999.35 1480.21 Q1001.69 1478.1 1001.69 1474.49 Q1001.69 1470.88 999.35 1468.77 Q997.012 1466.67 993.007 1466.67 Q991.132 1466.67 989.257 1467.08 Q987.405 1467.5 985.461 1468.38 L985.461 1451.02 Z\" fill=\"#000000\" fill-rule=\"evenodd\" fill-opacity=\"1\" /><path clip-path=\"url(#clip090)\" d=\"M1184.62 1481.64 L1192.26 1481.64 L1192.26 1455.28 L1183.95 1456.95 L1183.95 1452.69 L1192.21 1451.02 L1196.89 1451.02 L1196.89 1481.64 L1204.53 1481.64 L1204.53 1485.58 L1184.62 1485.58 L1184.62 1481.64 Z\" fill=\"#000000\" fill-rule=\"evenodd\" fill-opacity=\"1\" /><path clip-path=\"url(#clip090)\" d=\"M1228.14 1466.95 Q1231.49 1467.66 1233.37 1469.93 Q1235.27 1472.2 1235.27 1475.53 Q1235.27 1480.65 1231.75 1483.45 Q1228.23 1486.25 1221.75 1486.25 Q1219.57 1486.25 1217.26 1485.81 Q1214.97 1485.39 1212.51 1484.54 L1212.51 1480.02 Q1214.46 1481.16 1216.77 1481.74 Q1219.09 1482.32 1221.61 1482.32 Q1226.01 1482.32 1228.3 1480.58 Q1230.61 1478.84 1230.61 1475.53 Q1230.61 1472.48 1228.46 1470.77 Q1226.33 1469.03 1222.51 1469.03 L1218.48 1469.03 L1218.48 1465.19 L1222.7 1465.19 Q1226.15 1465.19 1227.98 1463.82 Q1229.8 1462.43 1229.8 1459.84 Q1229.8 1457.18 1227.91 1455.77 Q1226.03 1454.33 1222.51 1454.33 Q1220.59 1454.33 1218.39 1454.75 Q1216.19 1455.16 1213.55 1456.04 L1213.55 1451.88 Q1216.22 1451.14 1218.53 1450.77 Q1220.87 1450.39 1222.93 1450.39 Q1228.25 1450.39 1231.35 1452.83 Q1234.46 1455.23 1234.46 1459.35 Q1234.46 1462.22 1232.81 1464.21 Q1231.17 1466.18 1228.14 1466.95 Z\" fill=\"#000000\" fill-rule=\"evenodd\" fill-opacity=\"1\" /><path clip-path=\"url(#clip090)\" d=\"M1244.13 1479.7 L1249.02 1479.7 L1249.02 1485.58 L1244.13 1485.58 L1244.13 1479.7 Z\" fill=\"#000000\" fill-rule=\"evenodd\" fill-opacity=\"1\" /><path clip-path=\"url(#clip090)\" d=\"M1269.2 1454.1 Q1265.59 1454.1 1263.76 1457.66 Q1261.96 1461.2 1261.96 1468.33 Q1261.96 1475.44 1263.76 1479.01 Q1265.59 1482.55 1269.2 1482.55 Q1272.84 1482.55 1274.64 1479.01 Q1276.47 1475.44 1276.47 1468.33 Q1276.47 1461.2 1274.64 1457.66 Q1272.84 1454.1 1269.2 1454.1 M1269.2 1450.39 Q1275.01 1450.39 1278.07 1455 Q1281.15 1459.58 1281.15 1468.33 Q1281.15 1477.06 1278.07 1481.67 Q1275.01 1486.25 1269.2 1486.25 Q1263.39 1486.25 1260.31 1481.67 Q1257.26 1477.06 1257.26 1468.33 Q1257.26 1459.58 1260.31 1455 Q1263.39 1450.39 1269.2 1450.39 Z\" fill=\"#000000\" fill-rule=\"evenodd\" fill-opacity=\"1\" /><path clip-path=\"url(#clip090)\" d=\"M1299.36 1454.1 Q1295.75 1454.1 1293.92 1457.66 Q1292.12 1461.2 1292.12 1468.33 Q1292.12 1475.44 1293.92 1479.01 Q1295.75 1482.55 1299.36 1482.55 Q1303 1482.55 1304.8 1479.01 Q1306.63 1475.44 1306.63 1468.33 Q1306.63 1461.2 1304.8 1457.66 Q1303 1454.1 1299.36 1454.1 M1299.36 1450.39 Q1305.17 1450.39 1308.23 1455 Q1311.31 1459.58 1311.31 1468.33 Q1311.31 1477.06 1308.23 1481.67 Q1305.17 1486.25 1299.36 1486.25 Q1293.55 1486.25 1290.47 1481.67 Q1287.42 1477.06 1287.42 1468.33 Q1287.42 1459.58 1290.47 1455 Q1293.55 1450.39 1299.36 1450.39 Z\" fill=\"#000000\" fill-rule=\"evenodd\" fill-opacity=\"1\" /><path clip-path=\"url(#clip090)\" d=\"M1489.56 1481.64 L1497.2 1481.64 L1497.2 1455.28 L1488.89 1456.95 L1488.89 1452.69 L1497.16 1451.02 L1501.83 1451.02 L1501.83 1481.64 L1509.47 1481.64 L1509.47 1485.58 L1489.56 1485.58 L1489.56 1481.64 Z\" fill=\"#000000\" fill-rule=\"evenodd\" fill-opacity=\"1\" /><path clip-path=\"url(#clip090)\" d=\"M1533.08 1466.95 Q1536.44 1467.66 1538.31 1469.93 Q1540.21 1472.2 1540.21 1475.53 Q1540.21 1480.65 1536.69 1483.45 Q1533.17 1486.25 1526.69 1486.25 Q1524.52 1486.25 1522.2 1485.81 Q1519.91 1485.39 1517.46 1484.54 L1517.46 1480.02 Q1519.4 1481.16 1521.72 1481.74 Q1524.03 1482.32 1526.55 1482.32 Q1530.95 1482.32 1533.24 1480.58 Q1535.56 1478.84 1535.56 1475.53 Q1535.56 1472.48 1533.41 1470.77 Q1531.28 1469.03 1527.46 1469.03 L1523.43 1469.03 L1523.43 1465.19 L1527.64 1465.19 Q1531.09 1465.19 1532.92 1463.82 Q1534.75 1462.43 1534.75 1459.84 Q1534.75 1457.18 1532.85 1455.77 Q1530.98 1454.33 1527.46 1454.33 Q1525.54 1454.33 1523.34 1454.75 Q1521.14 1455.16 1518.5 1456.04 L1518.5 1451.88 Q1521.16 1451.14 1523.48 1450.77 Q1525.81 1450.39 1527.87 1450.39 Q1533.2 1450.39 1536.3 1452.83 Q1539.4 1455.23 1539.4 1459.35 Q1539.4 1462.22 1537.76 1464.21 Q1536.11 1466.18 1533.08 1466.95 Z\" fill=\"#000000\" fill-rule=\"evenodd\" fill-opacity=\"1\" /><path clip-path=\"url(#clip090)\" d=\"M1549.08 1479.7 L1553.96 1479.7 L1553.96 1485.58 L1549.08 1485.58 L1549.08 1479.7 Z\" fill=\"#000000\" fill-rule=\"evenodd\" fill-opacity=\"1\" /><path clip-path=\"url(#clip090)\" d=\"M1568.17 1481.64 L1584.49 1481.64 L1584.49 1485.58 L1562.55 1485.58 L1562.55 1481.64 Q1565.21 1478.89 1569.79 1474.26 Q1574.4 1469.61 1575.58 1468.27 Q1577.83 1465.74 1578.71 1464.01 Q1579.61 1462.25 1579.61 1460.56 Q1579.61 1457.8 1577.67 1456.07 Q1575.74 1454.33 1572.64 1454.33 Q1570.44 1454.33 1567.99 1455.09 Q1565.56 1455.86 1562.78 1457.41 L1562.78 1452.69 Q1565.6 1451.55 1568.06 1450.97 Q1570.51 1450.39 1572.55 1450.39 Q1577.92 1450.39 1581.11 1453.08 Q1584.31 1455.77 1584.31 1460.26 Q1584.31 1462.39 1583.5 1464.31 Q1582.71 1466.2 1580.6 1468.8 Q1580.03 1469.47 1576.92 1472.69 Q1573.82 1475.88 1568.17 1481.64 Z\" fill=\"#000000\" fill-rule=\"evenodd\" fill-opacity=\"1\" /><path clip-path=\"url(#clip090)\" d=\"M1594.35 1451.02 L1612.71 1451.02 L1612.71 1454.96 L1598.64 1454.96 L1598.64 1463.43 Q1599.66 1463.08 1600.67 1462.92 Q1601.69 1462.73 1602.71 1462.73 Q1608.5 1462.73 1611.88 1465.9 Q1615.26 1469.08 1615.26 1474.49 Q1615.26 1480.07 1611.79 1483.17 Q1608.31 1486.25 1601.99 1486.25 Q1599.82 1486.25 1597.55 1485.88 Q1595.3 1485.51 1592.9 1484.77 L1592.9 1480.07 Q1594.98 1481.2 1597.2 1481.76 Q1599.42 1482.32 1601.9 1482.32 Q1605.91 1482.32 1608.24 1480.21 Q1610.58 1478.1 1610.58 1474.49 Q1610.58 1470.88 1608.24 1468.77 Q1605.91 1466.67 1601.9 1466.67 Q1600.03 1466.67 1598.15 1467.08 Q1596.3 1467.5 1594.35 1468.38 L1594.35 1451.02 Z\" fill=\"#000000\" fill-rule=\"evenodd\" fill-opacity=\"1\" /><path clip-path=\"url(#clip090)\" d=\"M1793.51 1481.64 L1801.15 1481.64 L1801.15 1455.28 L1792.84 1456.95 L1792.84 1452.69 L1801.11 1451.02 L1805.78 1451.02 L1805.78 1481.64 L1813.42 1481.64 L1813.42 1485.58 L1793.51 1485.58 L1793.51 1481.64 Z\" fill=\"#000000\" fill-rule=\"evenodd\" fill-opacity=\"1\" /><path clip-path=\"url(#clip090)\" d=\"M1837.03 1466.95 Q1840.39 1467.66 1842.26 1469.93 Q1844.16 1472.2 1844.16 1475.53 Q1844.16 1480.65 1840.64 1483.45 Q1837.12 1486.25 1830.64 1486.25 Q1828.47 1486.25 1826.15 1485.81 Q1823.86 1485.39 1821.41 1484.54 L1821.41 1480.02 Q1823.35 1481.16 1825.67 1481.74 Q1827.98 1482.32 1830.5 1482.32 Q1834.9 1482.32 1837.19 1480.58 Q1839.51 1478.84 1839.51 1475.53 Q1839.51 1472.48 1837.36 1470.77 Q1835.23 1469.03 1831.41 1469.03 L1827.38 1469.03 L1827.38 1465.19 L1831.59 1465.19 Q1835.04 1465.19 1836.87 1463.82 Q1838.7 1462.43 1838.7 1459.84 Q1838.7 1457.18 1836.8 1455.77 Q1834.92 1454.33 1831.41 1454.33 Q1829.49 1454.33 1827.29 1454.75 Q1825.09 1455.16 1822.45 1456.04 L1822.45 1451.88 Q1825.11 1451.14 1827.42 1450.77 Q1829.76 1450.39 1831.82 1450.39 Q1837.15 1450.39 1840.25 1452.83 Q1843.35 1455.23 1843.35 1459.35 Q1843.35 1462.22 1841.71 1464.21 Q1840.06 1466.18 1837.03 1466.95 Z\" fill=\"#000000\" fill-rule=\"evenodd\" fill-opacity=\"1\" /><path clip-path=\"url(#clip090)\" d=\"M1853.03 1479.7 L1857.91 1479.7 L1857.91 1485.58 L1853.03 1485.58 L1853.03 1479.7 Z\" fill=\"#000000\" fill-rule=\"evenodd\" fill-opacity=\"1\" /><path clip-path=\"url(#clip090)\" d=\"M1868.14 1451.02 L1886.5 1451.02 L1886.5 1454.96 L1872.42 1454.96 L1872.42 1463.43 Q1873.44 1463.08 1874.46 1462.92 Q1875.48 1462.73 1876.5 1462.73 Q1882.29 1462.73 1885.67 1465.9 Q1889.04 1469.08 1889.04 1474.49 Q1889.04 1480.07 1885.57 1483.17 Q1882.1 1486.25 1875.78 1486.25 Q1873.61 1486.25 1871.34 1485.88 Q1869.09 1485.51 1866.68 1484.77 L1866.68 1480.07 Q1868.77 1481.2 1870.99 1481.76 Q1873.21 1482.32 1875.69 1482.32 Q1879.69 1482.32 1882.03 1480.21 Q1884.37 1478.1 1884.37 1474.49 Q1884.37 1470.88 1882.03 1468.77 Q1879.69 1466.67 1875.69 1466.67 Q1873.81 1466.67 1871.94 1467.08 Q1870.09 1467.5 1868.14 1468.38 L1868.14 1451.02 Z\" fill=\"#000000\" fill-rule=\"evenodd\" fill-opacity=\"1\" /><path clip-path=\"url(#clip090)\" d=\"M1908.26 1454.1 Q1904.65 1454.1 1902.82 1457.66 Q1901.01 1461.2 1901.01 1468.33 Q1901.01 1475.44 1902.82 1479.01 Q1904.65 1482.55 1908.26 1482.55 Q1911.89 1482.55 1913.7 1479.01 Q1915.53 1475.44 1915.53 1468.33 Q1915.53 1461.2 1913.7 1457.66 Q1911.89 1454.1 1908.26 1454.1 M1908.26 1450.39 Q1914.07 1450.39 1917.12 1455 Q1920.2 1459.58 1920.2 1468.33 Q1920.2 1477.06 1917.12 1481.67 Q1914.07 1486.25 1908.26 1486.25 Q1902.45 1486.25 1899.37 1481.67 Q1896.31 1477.06 1896.31 1468.33 Q1896.31 1459.58 1899.37 1455 Q1902.45 1450.39 1908.26 1450.39 Z\" fill=\"#000000\" fill-rule=\"evenodd\" fill-opacity=\"1\" /><path clip-path=\"url(#clip090)\" d=\"M2098.46 1481.64 L2106.1 1481.64 L2106.1 1455.28 L2097.79 1456.95 L2097.79 1452.69 L2106.05 1451.02 L2110.73 1451.02 L2110.73 1481.64 L2118.37 1481.64 L2118.37 1485.58 L2098.46 1485.58 L2098.46 1481.64 Z\" fill=\"#000000\" fill-rule=\"evenodd\" fill-opacity=\"1\" /><path clip-path=\"url(#clip090)\" d=\"M2141.98 1466.95 Q2145.33 1467.66 2147.21 1469.93 Q2149.11 1472.2 2149.11 1475.53 Q2149.11 1480.65 2145.59 1483.45 Q2142.07 1486.25 2135.59 1486.25 Q2133.41 1486.25 2131.1 1485.81 Q2128.8 1485.39 2126.35 1484.54 L2126.35 1480.02 Q2128.3 1481.16 2130.61 1481.74 Q2132.93 1482.32 2135.45 1482.32 Q2139.85 1482.32 2142.14 1480.58 Q2144.45 1478.84 2144.45 1475.53 Q2144.45 1472.48 2142.3 1470.77 Q2140.17 1469.03 2136.35 1469.03 L2132.32 1469.03 L2132.32 1465.19 L2136.54 1465.19 Q2139.99 1465.19 2141.81 1463.82 Q2143.64 1462.43 2143.64 1459.84 Q2143.64 1457.18 2141.74 1455.77 Q2139.87 1454.33 2136.35 1454.33 Q2134.43 1454.33 2132.23 1454.75 Q2130.03 1455.16 2127.39 1456.04 L2127.39 1451.88 Q2130.05 1451.14 2132.37 1450.77 Q2134.71 1450.39 2136.77 1450.39 Q2142.09 1450.39 2145.19 1452.83 Q2148.3 1455.23 2148.3 1459.35 Q2148.3 1462.22 2146.65 1464.21 Q2145.01 1466.18 2141.98 1466.95 Z\" fill=\"#000000\" fill-rule=\"evenodd\" fill-opacity=\"1\" /><path clip-path=\"url(#clip090)\" d=\"M2157.97 1479.7 L2162.86 1479.7 L2162.86 1485.58 L2157.97 1485.58 L2157.97 1479.7 Z\" fill=\"#000000\" fill-rule=\"evenodd\" fill-opacity=\"1\" /><path clip-path=\"url(#clip090)\" d=\"M2171.86 1451.02 L2194.08 1451.02 L2194.08 1453.01 L2181.54 1485.58 L2176.65 1485.58 L2188.46 1454.96 L2171.86 1454.96 L2171.86 1451.02 Z\" fill=\"#000000\" fill-rule=\"evenodd\" fill-opacity=\"1\" /><path clip-path=\"url(#clip090)\" d=\"M2203.25 1451.02 L2221.61 1451.02 L2221.61 1454.96 L2207.53 1454.96 L2207.53 1463.43 Q2208.55 1463.08 2209.57 1462.92 Q2210.59 1462.73 2211.61 1462.73 Q2217.39 1462.73 2220.77 1465.9 Q2224.15 1469.08 2224.15 1474.49 Q2224.15 1480.07 2220.68 1483.17 Q2217.21 1486.25 2210.89 1486.25 Q2208.71 1486.25 2206.44 1485.88 Q2204.2 1485.51 2201.79 1484.77 L2201.79 1480.07 Q2203.87 1481.2 2206.1 1481.76 Q2208.32 1482.32 2210.8 1482.32 Q2214.8 1482.32 2217.14 1480.21 Q2219.48 1478.1 2219.48 1474.49 Q2219.48 1470.88 2217.14 1468.77 Q2214.8 1466.67 2210.8 1466.67 Q2208.92 1466.67 2207.05 1467.08 Q2205.19 1467.5 2203.25 1468.38 L2203.25 1451.02 Z\" fill=\"#000000\" fill-rule=\"evenodd\" fill-opacity=\"1\" /><path clip-path=\"url(#clip090)\" d=\"M1131.45 1539.24 Q1133.64 1535.29 1136.7 1533.41 Q1139.76 1531.54 1143.89 1531.54 Q1149.46 1531.54 1152.49 1535.45 Q1155.51 1539.33 1155.51 1546.53 L1155.51 1568.04 L1149.62 1568.04 L1149.62 1546.72 Q1149.62 1541.59 1147.81 1539.11 Q1145.99 1536.63 1142.27 1536.63 Q1137.72 1536.63 1135.08 1539.65 Q1132.43 1542.68 1132.43 1547.9 L1132.43 1568.04 L1126.55 1568.04 L1126.55 1546.72 Q1126.55 1541.56 1124.73 1539.11 Q1122.92 1536.63 1119.13 1536.63 Q1114.64 1536.63 1112 1539.68 Q1109.36 1542.71 1109.36 1547.9 L1109.36 1568.04 L1103.47 1568.04 L1103.47 1532.4 L1109.36 1532.4 L1109.36 1537.93 Q1111.36 1534.66 1114.17 1533.1 Q1116.97 1531.54 1120.82 1531.54 Q1124.7 1531.54 1127.41 1533.51 Q1130.14 1535.48 1131.45 1539.24 Z\" fill=\"#000000\" fill-rule=\"evenodd\" fill-opacity=\"1\" /><path clip-path=\"url(#clip090)\" d=\"M1167.19 1532.4 L1173.05 1532.4 L1173.05 1568.04 L1167.19 1568.04 L1167.19 1532.4 M1167.19 1518.52 L1173.05 1518.52 L1173.05 1525.93 L1167.19 1525.93 L1167.19 1518.52 Z\" fill=\"#000000\" fill-rule=\"evenodd\" fill-opacity=\"1\" /><path clip-path=\"url(#clip090)\" d=\"M1185.3 1518.52 L1191.16 1518.52 L1191.16 1568.04 L1185.3 1568.04 L1185.3 1518.52 Z\" fill=\"#000000\" fill-rule=\"evenodd\" fill-opacity=\"1\" /><path clip-path=\"url(#clip090)\" d=\"M1203.41 1518.52 L1209.27 1518.52 L1209.27 1568.04 L1203.41 1568.04 L1203.41 1518.52 Z\" fill=\"#000000\" fill-rule=\"evenodd\" fill-opacity=\"1\" /><path clip-path=\"url(#clip090)\" d=\"M1221.52 1532.4 L1227.38 1532.4 L1227.38 1568.04 L1221.52 1568.04 L1221.52 1532.4 M1221.52 1518.52 L1227.38 1518.52 L1227.38 1525.93 L1221.52 1525.93 L1221.52 1518.52 Z\" fill=\"#000000\" fill-rule=\"evenodd\" fill-opacity=\"1\" /><path clip-path=\"url(#clip090)\" d=\"M1262.36 1533.45 L1262.36 1538.98 Q1259.88 1537.71 1257.2 1537.07 Q1254.53 1536.44 1251.66 1536.44 Q1247.3 1536.44 1245.11 1537.77 Q1242.94 1539.11 1242.94 1541.79 Q1242.94 1543.82 1244.5 1545 Q1246.06 1546.15 1250.77 1547.2 L1252.78 1547.64 Q1259.02 1548.98 1261.63 1551.43 Q1264.27 1553.85 1264.27 1558.21 Q1264.27 1563.17 1260.32 1566.07 Q1256.41 1568.97 1249.53 1568.97 Q1246.67 1568.97 1243.55 1568.39 Q1240.46 1567.85 1237.02 1566.74 L1237.02 1560.69 Q1240.27 1562.38 1243.42 1563.24 Q1246.57 1564.07 1249.66 1564.07 Q1253.8 1564.07 1256.02 1562.66 Q1258.25 1561.23 1258.25 1558.65 Q1258.25 1556.27 1256.63 1554.99 Q1255.04 1553.72 1249.6 1552.54 L1247.56 1552.07 Q1242.12 1550.92 1239.7 1548.56 Q1237.28 1546.18 1237.28 1542.04 Q1237.28 1537.01 1240.84 1534.27 Q1244.41 1531.54 1250.96 1531.54 Q1254.21 1531.54 1257.08 1532.01 Q1259.94 1532.49 1262.36 1533.45 Z\" fill=\"#000000\" fill-rule=\"evenodd\" fill-opacity=\"1\" /><path clip-path=\"url(#clip090)\" d=\"M1304.09 1548.76 L1304.09 1551.62 L1277.16 1551.62 Q1277.54 1557.67 1280.79 1560.85 Q1284.07 1564 1289.89 1564 Q1293.26 1564 1296.42 1563.17 Q1299.6 1562.35 1302.72 1560.69 L1302.72 1566.23 Q1299.57 1567.57 1296.26 1568.27 Q1292.95 1568.97 1289.54 1568.97 Q1281.01 1568.97 1276.01 1564 Q1271.05 1559.04 1271.05 1550.57 Q1271.05 1541.82 1275.76 1536.69 Q1280.5 1531.54 1288.52 1531.54 Q1295.71 1531.54 1299.88 1536.18 Q1304.09 1540.8 1304.09 1548.76 M1298.23 1547.04 Q1298.17 1542.23 1295.52 1539.37 Q1292.91 1536.5 1288.59 1536.5 Q1283.68 1536.5 1280.72 1539.27 Q1277.8 1542.04 1277.35 1547.07 L1298.23 1547.04 Z\" fill=\"#000000\" fill-rule=\"evenodd\" fill-opacity=\"1\" /><path clip-path=\"url(#clip090)\" d=\"M1339.35 1533.76 L1339.35 1539.24 Q1336.87 1537.87 1334.35 1537.2 Q1331.87 1536.5 1329.33 1536.5 Q1323.63 1536.5 1320.48 1540.13 Q1317.33 1543.73 1317.33 1550.25 Q1317.33 1556.78 1320.48 1560.4 Q1323.63 1564 1329.33 1564 Q1331.87 1564 1334.35 1563.33 Q1336.87 1562.63 1339.35 1561.26 L1339.35 1566.68 Q1336.9 1567.82 1334.26 1568.39 Q1331.65 1568.97 1328.69 1568.97 Q1320.64 1568.97 1315.89 1563.91 Q1311.15 1558.85 1311.15 1550.25 Q1311.15 1541.53 1315.93 1536.53 Q1320.73 1531.54 1329.07 1531.54 Q1331.78 1531.54 1334.35 1532.11 Q1336.93 1532.65 1339.35 1533.76 Z\" fill=\"#000000\" fill-rule=\"evenodd\" fill-opacity=\"1\" /><path clip-path=\"url(#clip090)\" d=\"M1363.35 1536.5 Q1358.64 1536.5 1355.9 1540.19 Q1353.17 1543.85 1353.17 1550.25 Q1353.17 1556.65 1355.87 1560.34 Q1358.61 1564 1363.35 1564 Q1368.03 1564 1370.77 1560.31 Q1373.5 1556.62 1373.5 1550.25 Q1373.5 1543.92 1370.77 1540.23 Q1368.03 1536.5 1363.35 1536.5 M1363.35 1531.54 Q1370.99 1531.54 1375.35 1536.5 Q1379.71 1541.47 1379.71 1550.25 Q1379.71 1559 1375.35 1564 Q1370.99 1568.97 1363.35 1568.97 Q1355.68 1568.97 1351.32 1564 Q1346.99 1559 1346.99 1550.25 Q1346.99 1541.47 1351.32 1536.5 Q1355.68 1531.54 1363.35 1531.54 Z\" fill=\"#000000\" fill-rule=\"evenodd\" fill-opacity=\"1\" /><path clip-path=\"url(#clip090)\" d=\"M1419.05 1546.53 L1419.05 1568.04 L1413.19 1568.04 L1413.19 1546.72 Q1413.19 1541.66 1411.22 1539.14 Q1409.25 1536.63 1405.3 1536.63 Q1400.56 1536.63 1397.82 1539.65 Q1395.08 1542.68 1395.08 1547.9 L1395.08 1568.04 L1389.2 1568.04 L1389.2 1532.4 L1395.08 1532.4 L1395.08 1537.93 Q1397.18 1534.72 1400.02 1533.13 Q1402.88 1531.54 1406.61 1531.54 Q1412.75 1531.54 1415.9 1535.36 Q1419.05 1539.14 1419.05 1546.53 Z\" fill=\"#000000\" fill-rule=\"evenodd\" fill-opacity=\"1\" /><path clip-path=\"url(#clip090)\" d=\"M1454.19 1537.81 L1454.19 1518.52 L1460.05 1518.52 L1460.05 1568.04 L1454.19 1568.04 L1454.19 1562.7 Q1452.34 1565.88 1449.51 1567.44 Q1446.71 1568.97 1442.76 1568.97 Q1436.3 1568.97 1432.23 1563.81 Q1428.19 1558.65 1428.19 1550.25 Q1428.19 1541.85 1432.23 1536.69 Q1436.3 1531.54 1442.76 1531.54 Q1446.71 1531.54 1449.51 1533.1 Q1452.34 1534.62 1454.19 1537.81 M1434.23 1550.25 Q1434.23 1556.71 1436.87 1560.4 Q1439.55 1564.07 1444.2 1564.07 Q1448.84 1564.07 1451.52 1560.4 Q1454.19 1556.71 1454.19 1550.25 Q1454.19 1543.79 1451.52 1540.13 Q1448.84 1536.44 1444.2 1536.44 Q1439.55 1536.44 1436.87 1540.13 Q1434.23 1543.79 1434.23 1550.25 Z\" fill=\"#000000\" fill-rule=\"evenodd\" fill-opacity=\"1\" /><path clip-path=\"url(#clip090)\" d=\"M1494.83 1533.45 L1494.83 1538.98 Q1492.35 1537.71 1489.68 1537.07 Q1487 1536.44 1484.14 1536.44 Q1479.78 1536.44 1477.58 1537.77 Q1475.42 1539.11 1475.42 1541.79 Q1475.42 1543.82 1476.98 1545 Q1478.54 1546.15 1483.25 1547.2 L1485.25 1547.64 Q1491.49 1548.98 1494.1 1551.43 Q1496.74 1553.85 1496.74 1558.21 Q1496.74 1563.17 1492.8 1566.07 Q1488.88 1568.97 1482.01 1568.97 Q1479.14 1568.97 1476.02 1568.39 Q1472.94 1567.85 1469.5 1566.74 L1469.5 1560.69 Q1472.75 1562.38 1475.9 1563.24 Q1479.05 1564.07 1482.13 1564.07 Q1486.27 1564.07 1488.5 1562.66 Q1490.73 1561.23 1490.73 1558.65 Q1490.73 1556.27 1489.11 1554.99 Q1487.51 1553.72 1482.07 1552.54 L1480.03 1552.07 Q1474.59 1550.92 1472.17 1548.56 Q1469.75 1546.18 1469.75 1542.04 Q1469.75 1537.01 1473.32 1534.27 Q1476.88 1531.54 1483.44 1531.54 Q1486.69 1531.54 1489.55 1532.01 Q1492.42 1532.49 1494.83 1533.45 Z\" fill=\"#000000\" fill-rule=\"evenodd\" fill-opacity=\"1\" /><polyline clip-path=\"url(#clip092)\" style=\"stroke:#000000; stroke-linecap:butt; stroke-linejoin:round; stroke-width:2; stroke-opacity:0.1; fill:none\" points=\"\n  247.459,1384.24 2352.76,1384.24 \n  \"/>\n<polyline clip-path=\"url(#clip092)\" style=\"stroke:#000000; stroke-linecap:butt; stroke-linejoin:round; stroke-width:2; stroke-opacity:0.1; fill:none\" points=\"\n  247.459,1089.23 2352.76,1089.23 \n  \"/>\n<polyline clip-path=\"url(#clip092)\" style=\"stroke:#000000; stroke-linecap:butt; stroke-linejoin:round; stroke-width:2; stroke-opacity:0.1; fill:none\" points=\"\n  247.459,794.214 2352.76,794.214 \n  \"/>\n<polyline clip-path=\"url(#clip092)\" style=\"stroke:#000000; stroke-linecap:butt; stroke-linejoin:round; stroke-width:2; stroke-opacity:0.1; fill:none\" points=\"\n  247.459,499.202 2352.76,499.202 \n  \"/>\n<polyline clip-path=\"url(#clip092)\" style=\"stroke:#000000; stroke-linecap:butt; stroke-linejoin:round; stroke-width:2; stroke-opacity:0.1; fill:none\" points=\"\n  247.459,204.19 2352.76,204.19 \n  \"/>\n<polyline clip-path=\"url(#clip090)\" style=\"stroke:#000000; stroke-linecap:butt; stroke-linejoin:round; stroke-width:4; stroke-opacity:1; fill:none\" points=\"\n  247.459,1423.18 247.459,47.2441 \n  \"/>\n<polyline clip-path=\"url(#clip090)\" style=\"stroke:#000000; stroke-linecap:butt; stroke-linejoin:round; stroke-width:4; stroke-opacity:1; fill:none\" points=\"\n  247.459,1384.24 266.356,1384.24 \n  \"/>\n<polyline clip-path=\"url(#clip090)\" style=\"stroke:#000000; stroke-linecap:butt; stroke-linejoin:round; stroke-width:4; stroke-opacity:1; fill:none\" points=\"\n  247.459,1089.23 266.356,1089.23 \n  \"/>\n<polyline clip-path=\"url(#clip090)\" style=\"stroke:#000000; stroke-linecap:butt; stroke-linejoin:round; stroke-width:4; stroke-opacity:1; fill:none\" points=\"\n  247.459,794.214 266.356,794.214 \n  \"/>\n<polyline clip-path=\"url(#clip090)\" style=\"stroke:#000000; stroke-linecap:butt; stroke-linejoin:round; stroke-width:4; stroke-opacity:1; fill:none\" points=\"\n  247.459,499.202 266.356,499.202 \n  \"/>\n<polyline clip-path=\"url(#clip090)\" style=\"stroke:#000000; stroke-linecap:butt; stroke-linejoin:round; stroke-width:4; stroke-opacity:1; fill:none\" points=\"\n  247.459,204.19 266.356,204.19 \n  \"/>\n<path clip-path=\"url(#clip090)\" d=\"M154.283 1370.04 Q150.672 1370.04 148.843 1373.6 Q147.038 1377.14 147.038 1384.27 Q147.038 1391.38 148.843 1394.94 Q150.672 1398.49 154.283 1398.49 Q157.917 1398.49 159.723 1394.94 Q161.552 1391.38 161.552 1384.27 Q161.552 1377.14 159.723 1373.6 Q157.917 1370.04 154.283 1370.04 M154.283 1366.33 Q160.093 1366.33 163.149 1370.94 Q166.227 1375.52 166.227 1384.27 Q166.227 1393 163.149 1397.61 Q160.093 1402.19 154.283 1402.19 Q148.473 1402.19 145.394 1397.61 Q142.339 1393 142.339 1384.27 Q142.339 1375.52 145.394 1370.94 Q148.473 1366.33 154.283 1366.33 Z\" fill=\"#000000\" fill-rule=\"evenodd\" fill-opacity=\"1\" /><path clip-path=\"url(#clip090)\" d=\"M174.445 1395.64 L179.329 1395.64 L179.329 1401.52 L174.445 1401.52 L174.445 1395.64 Z\" fill=\"#000000\" fill-rule=\"evenodd\" fill-opacity=\"1\" /><path clip-path=\"url(#clip090)\" d=\"M199.514 1370.04 Q195.903 1370.04 194.075 1373.6 Q192.269 1377.14 192.269 1384.27 Q192.269 1391.38 194.075 1394.94 Q195.903 1398.49 199.514 1398.49 Q203.149 1398.49 204.954 1394.94 Q206.783 1391.38 206.783 1384.27 Q206.783 1377.14 204.954 1373.6 Q203.149 1370.04 199.514 1370.04 M199.514 1366.33 Q205.324 1366.33 208.38 1370.94 Q211.459 1375.52 211.459 1384.27 Q211.459 1393 208.38 1397.61 Q205.324 1402.19 199.514 1402.19 Q193.704 1402.19 190.625 1397.61 Q187.57 1393 187.57 1384.27 Q187.57 1375.52 190.625 1370.94 Q193.704 1366.33 199.514 1366.33 Z\" fill=\"#000000\" fill-rule=\"evenodd\" fill-opacity=\"1\" /><path clip-path=\"url(#clip090)\" d=\"M149.306 1102.57 L165.626 1102.57 L165.626 1106.51 L143.681 1106.51 L143.681 1102.57 Q146.343 1099.82 150.927 1095.19 Q155.533 1090.53 156.714 1089.19 Q158.959 1086.67 159.839 1084.93 Q160.741 1083.17 160.741 1081.48 Q160.741 1078.73 158.797 1076.99 Q156.876 1075.26 153.774 1075.26 Q151.575 1075.26 149.121 1076.02 Q146.691 1076.78 143.913 1078.34 L143.913 1073.61 Q146.737 1072.48 149.191 1071.9 Q151.644 1071.32 153.681 1071.32 Q159.052 1071.32 162.246 1074.01 Q165.44 1076.69 165.44 1081.18 Q165.44 1083.31 164.63 1085.23 Q163.843 1087.13 161.737 1089.72 Q161.158 1090.4 158.056 1093.61 Q154.954 1096.81 149.306 1102.57 Z\" fill=\"#000000\" fill-rule=\"evenodd\" fill-opacity=\"1\" /><path clip-path=\"url(#clip090)\" d=\"M175.44 1100.63 L180.325 1100.63 L180.325 1106.51 L175.44 1106.51 L175.44 1100.63 Z\" fill=\"#000000\" fill-rule=\"evenodd\" fill-opacity=\"1\" /><path clip-path=\"url(#clip090)\" d=\"M190.556 1071.95 L208.912 1071.95 L208.912 1075.88 L194.838 1075.88 L194.838 1084.35 Q195.857 1084.01 196.875 1083.84 Q197.894 1083.66 198.912 1083.66 Q204.699 1083.66 208.079 1086.83 Q211.459 1090 211.459 1095.42 Q211.459 1101 207.987 1104.1 Q204.514 1107.18 198.195 1107.18 Q196.019 1107.18 193.75 1106.81 Q191.505 1106.44 189.098 1105.7 L189.098 1101 Q191.181 1102.13 193.403 1102.69 Q195.625 1103.24 198.102 1103.24 Q202.107 1103.24 204.445 1101.14 Q206.783 1099.03 206.783 1095.42 Q206.783 1091.81 204.445 1089.7 Q202.107 1087.59 198.102 1087.59 Q196.227 1087.59 194.352 1088.01 Q192.5 1088.43 190.556 1089.31 L190.556 1071.95 Z\" fill=\"#000000\" fill-rule=\"evenodd\" fill-opacity=\"1\" /><path clip-path=\"url(#clip090)\" d=\"M144.329 776.934 L162.686 776.934 L162.686 780.87 L148.612 780.87 L148.612 789.342 Q149.63 788.994 150.649 788.832 Q151.667 788.647 152.686 788.647 Q158.473 788.647 161.852 791.819 Q165.232 794.99 165.232 800.406 Q165.232 805.985 161.76 809.087 Q158.288 812.166 151.968 812.166 Q149.792 812.166 147.524 811.795 Q145.279 811.425 142.871 810.684 L142.871 805.985 Q144.954 807.119 147.177 807.675 Q149.399 808.23 151.876 808.23 Q155.88 808.23 158.218 806.124 Q160.556 804.018 160.556 800.406 Q160.556 796.795 158.218 794.689 Q155.88 792.582 151.876 792.582 Q150.001 792.582 148.126 792.999 Q146.274 793.416 144.329 794.295 L144.329 776.934 Z\" fill=\"#000000\" fill-rule=\"evenodd\" fill-opacity=\"1\" /><path clip-path=\"url(#clip090)\" d=\"M174.445 805.615 L179.329 805.615 L179.329 811.494 L174.445 811.494 L174.445 805.615 Z\" fill=\"#000000\" fill-rule=\"evenodd\" fill-opacity=\"1\" /><path clip-path=\"url(#clip090)\" d=\"M199.514 780.013 Q195.903 780.013 194.075 783.578 Q192.269 787.119 192.269 794.249 Q192.269 801.356 194.075 804.92 Q195.903 808.462 199.514 808.462 Q203.149 808.462 204.954 804.92 Q206.783 801.356 206.783 794.249 Q206.783 787.119 204.954 783.578 Q203.149 780.013 199.514 780.013 M199.514 776.309 Q205.324 776.309 208.38 780.916 Q211.459 785.499 211.459 794.249 Q211.459 802.976 208.38 807.582 Q205.324 812.166 199.514 812.166 Q193.704 812.166 190.625 807.582 Q187.57 802.976 187.57 794.249 Q187.57 785.499 190.625 780.916 Q193.704 776.309 199.514 776.309 Z\" fill=\"#000000\" fill-rule=\"evenodd\" fill-opacity=\"1\" /><path clip-path=\"url(#clip090)\" d=\"M144.098 481.922 L166.32 481.922 L166.32 483.913 L153.774 516.482 L148.89 516.482 L160.695 485.858 L144.098 485.858 L144.098 481.922 Z\" fill=\"#000000\" fill-rule=\"evenodd\" fill-opacity=\"1\" /><path clip-path=\"url(#clip090)\" d=\"M175.44 510.603 L180.325 510.603 L180.325 516.482 L175.44 516.482 L175.44 510.603 Z\" fill=\"#000000\" fill-rule=\"evenodd\" fill-opacity=\"1\" /><path clip-path=\"url(#clip090)\" d=\"M190.556 481.922 L208.912 481.922 L208.912 485.858 L194.838 485.858 L194.838 494.33 Q195.857 493.983 196.875 493.82 Q197.894 493.635 198.912 493.635 Q204.699 493.635 208.079 496.807 Q211.459 499.978 211.459 505.395 Q211.459 510.973 207.987 514.075 Q204.514 517.154 198.195 517.154 Q196.019 517.154 193.75 516.783 Q191.505 516.413 189.098 515.672 L189.098 510.973 Q191.181 512.107 193.403 512.663 Q195.625 513.219 198.102 513.219 Q202.107 513.219 204.445 511.112 Q206.783 509.006 206.783 505.395 Q206.783 501.783 204.445 499.677 Q202.107 497.57 198.102 497.57 Q196.227 497.57 194.352 497.987 Q192.5 498.404 190.556 499.283 L190.556 481.922 Z\" fill=\"#000000\" fill-rule=\"evenodd\" fill-opacity=\"1\" /><path clip-path=\"url(#clip090)\" d=\"M114.931 217.535 L122.57 217.535 L122.57 191.17 L114.26 192.836 L114.26 188.577 L122.524 186.91 L127.2 186.91 L127.2 217.535 L134.839 217.535 L134.839 221.47 L114.931 221.47 L114.931 217.535 Z\" fill=\"#000000\" fill-rule=\"evenodd\" fill-opacity=\"1\" /><path clip-path=\"url(#clip090)\" d=\"M154.283 189.989 Q150.672 189.989 148.843 193.554 Q147.038 197.096 147.038 204.225 Q147.038 211.332 148.843 214.896 Q150.672 218.438 154.283 218.438 Q157.917 218.438 159.723 214.896 Q161.552 211.332 161.552 204.225 Q161.552 197.096 159.723 193.554 Q157.917 189.989 154.283 189.989 M154.283 186.285 Q160.093 186.285 163.149 190.892 Q166.227 195.475 166.227 204.225 Q166.227 212.952 163.149 217.558 Q160.093 222.142 154.283 222.142 Q148.473 222.142 145.394 217.558 Q142.339 212.952 142.339 204.225 Q142.339 195.475 145.394 190.892 Q148.473 186.285 154.283 186.285 Z\" fill=\"#000000\" fill-rule=\"evenodd\" fill-opacity=\"1\" /><path clip-path=\"url(#clip090)\" d=\"M174.445 215.591 L179.329 215.591 L179.329 221.47 L174.445 221.47 L174.445 215.591 Z\" fill=\"#000000\" fill-rule=\"evenodd\" fill-opacity=\"1\" /><path clip-path=\"url(#clip090)\" d=\"M199.514 189.989 Q195.903 189.989 194.075 193.554 Q192.269 197.096 192.269 204.225 Q192.269 211.332 194.075 214.896 Q195.903 218.438 199.514 218.438 Q203.149 218.438 204.954 214.896 Q206.783 211.332 206.783 204.225 Q206.783 197.096 204.954 193.554 Q203.149 189.989 199.514 189.989 M199.514 186.285 Q205.324 186.285 208.38 190.892 Q211.459 195.475 211.459 204.225 Q211.459 212.952 208.38 217.558 Q205.324 222.142 199.514 222.142 Q193.704 222.142 190.625 217.558 Q187.57 212.952 187.57 204.225 Q187.57 195.475 190.625 190.892 Q193.704 186.285 199.514 186.285 Z\" fill=\"#000000\" fill-rule=\"evenodd\" fill-opacity=\"1\" /><path clip-path=\"url(#clip090)\" d=\"M29.7248 796.386 L35.1993 796.386 Q33.8307 798.869 33.1623 801.383 Q32.4621 803.866 32.4621 806.412 Q32.4621 812.11 36.0905 815.261 Q39.6872 818.412 46.212 818.412 Q52.7369 818.412 56.3653 815.261 Q59.9619 812.11 59.9619 806.412 Q59.9619 803.866 59.2935 801.383 Q58.5933 798.869 57.2247 796.386 L62.6355 796.386 Q63.7814 798.837 64.3543 801.479 Q64.9272 804.089 64.9272 807.049 Q64.9272 815.102 59.8664 819.844 Q54.8057 824.586 46.212 824.586 Q37.491 824.586 32.4939 819.812 Q27.4968 815.006 27.4968 806.667 Q27.4968 803.962 28.0697 801.383 Q28.6108 798.805 29.7248 796.386 Z\" fill=\"#000000\" fill-rule=\"evenodd\" fill-opacity=\"1\" /><path clip-path=\"url(#clip090)\" d=\"M32.4621 772.388 Q32.4621 777.098 36.1542 779.836 Q39.8145 782.573 46.212 782.573 Q52.6095 782.573 56.3017 779.867 Q59.9619 777.13 59.9619 772.388 Q59.9619 767.709 56.2698 764.972 Q52.5777 762.234 46.212 762.234 Q39.8781 762.234 36.186 764.972 Q32.4621 767.709 32.4621 772.388 M27.4968 772.388 Q27.4968 764.749 32.4621 760.388 Q37.4273 756.028 46.212 756.028 Q54.9649 756.028 59.9619 760.388 Q64.9272 764.749 64.9272 772.388 Q64.9272 780.058 59.9619 784.419 Q54.9649 788.748 46.212 788.748 Q37.4273 788.748 32.4621 784.419 Q27.4968 780.058 27.4968 772.388 Z\" fill=\"#000000\" fill-rule=\"evenodd\" fill-opacity=\"1\" /><path clip-path=\"url(#clip090)\" d=\"M49.9359 746.925 L28.3562 746.925 L28.3562 741.068 L49.7131 741.068 Q54.7739 741.068 57.3202 739.095 Q59.8346 737.122 59.8346 733.175 Q59.8346 728.432 56.8109 725.695 Q53.7872 722.926 48.5673 722.926 L28.3562 722.926 L28.3562 717.07 L64.0042 717.07 L64.0042 722.926 L58.5296 722.926 Q61.7762 725.059 63.3676 727.891 Q64.9272 730.692 64.9272 734.416 Q64.9272 740.559 61.1078 743.742 Q57.2883 746.925 49.9359 746.925 M27.4968 732.188 L27.4968 732.188 Z\" fill=\"#000000\" fill-rule=\"evenodd\" fill-opacity=\"1\" /><path clip-path=\"url(#clip090)\" d=\"M42.4881 675.374 L64.0042 675.374 L64.0042 681.231 L42.679 681.231 Q37.6183 681.231 35.1038 683.204 Q32.5894 685.178 32.5894 689.124 Q32.5894 693.867 35.6131 696.604 Q38.6368 699.341 43.8567 699.341 L64.0042 699.341 L64.0042 705.229 L28.3562 705.229 L28.3562 699.341 L33.8944 699.341 Q30.6797 697.241 29.0883 694.408 Q27.4968 691.543 27.4968 687.819 Q27.4968 681.676 31.3163 678.525 Q35.1038 675.374 42.4881 675.374 Z\" fill=\"#000000\" fill-rule=\"evenodd\" fill-opacity=\"1\" /><path clip-path=\"url(#clip090)\" d=\"M18.2347 657.9 L28.3562 657.9 L28.3562 645.837 L32.9077 645.837 L32.9077 657.9 L52.2594 657.9 Q56.6199 657.9 57.8613 656.723 Q59.1026 655.513 59.1026 651.853 L59.1026 645.837 L64.0042 645.837 L64.0042 651.853 Q64.0042 658.633 61.4897 661.211 Q58.9434 663.789 52.2594 663.789 L32.9077 663.789 L32.9077 668.086 L28.3562 668.086 L28.3562 663.789 L18.2347 663.789 L18.2347 657.9 Z\" fill=\"#000000\" fill-rule=\"evenodd\" fill-opacity=\"1\" /><path clip-path=\"url(#clip092)\" d=\"\nM212.508 1266.23 L212.508 1384.24 L273.398 1384.24 L273.398 1266.23 L212.508 1266.23 L212.508 1266.23  Z\n  \" fill=\"#009af9\" fill-rule=\"evenodd\" fill-opacity=\"1\"/>\n<polyline clip-path=\"url(#clip092)\" style=\"stroke:#000000; stroke-linecap:butt; stroke-linejoin:round; stroke-width:4; stroke-opacity:1; fill:none\" points=\"\n  212.508,1266.23 212.508,1384.24 273.398,1384.24 273.398,1266.23 212.508,1266.23 \n  \"/>\n<path clip-path=\"url(#clip092)\" d=\"\nM273.398 1266.23 L273.398 1384.24 L334.287 1384.24 L334.287 1266.23 L273.398 1266.23 L273.398 1266.23  Z\n  \" fill=\"#009af9\" fill-rule=\"evenodd\" fill-opacity=\"1\"/>\n<polyline clip-path=\"url(#clip092)\" style=\"stroke:#000000; stroke-linecap:butt; stroke-linejoin:round; stroke-width:4; stroke-opacity:1; fill:none\" points=\"\n  273.398,1266.23 273.398,1384.24 334.287,1384.24 334.287,1266.23 273.398,1266.23 \n  \"/>\n<path clip-path=\"url(#clip092)\" d=\"\nM334.287 1266.23 L334.287 1384.24 L395.176 1384.24 L395.176 1266.23 L334.287 1266.23 L334.287 1266.23  Z\n  \" fill=\"#009af9\" fill-rule=\"evenodd\" fill-opacity=\"1\"/>\n<polyline clip-path=\"url(#clip092)\" style=\"stroke:#000000; stroke-linecap:butt; stroke-linejoin:round; stroke-width:4; stroke-opacity:1; fill:none\" points=\"\n  334.287,1266.23 334.287,1384.24 395.176,1384.24 395.176,1266.23 334.287,1266.23 \n  \"/>\n<path clip-path=\"url(#clip092)\" d=\"\nM395.176 1148.23 L395.176 1384.24 L456.066 1384.24 L456.066 1148.23 L395.176 1148.23 L395.176 1148.23  Z\n  \" fill=\"#009af9\" fill-rule=\"evenodd\" fill-opacity=\"1\"/>\n<polyline clip-path=\"url(#clip092)\" style=\"stroke:#000000; stroke-linecap:butt; stroke-linejoin:round; stroke-width:4; stroke-opacity:1; fill:none\" points=\"\n  395.176,1148.23 395.176,1384.24 456.066,1384.24 456.066,1148.23 395.176,1148.23 \n  \"/>\n<path clip-path=\"url(#clip092)\" d=\"\nM456.066 1384.24 L456.066 1384.24 L516.955 1384.24 L516.955 1384.24 L456.066 1384.24 L456.066 1384.24  Z\n  \" fill=\"#009af9\" fill-rule=\"evenodd\" fill-opacity=\"1\"/>\n<polyline clip-path=\"url(#clip092)\" style=\"stroke:#000000; stroke-linecap:butt; stroke-linejoin:round; stroke-width:4; stroke-opacity:1; fill:none\" points=\"\n  456.066,1384.24 456.066,1384.24 516.955,1384.24 456.066,1384.24 \n  \"/>\n<path clip-path=\"url(#clip092)\" d=\"\nM516.955 1384.24 L516.955 1384.24 L577.845 1384.24 L577.845 1384.24 L516.955 1384.24 L516.955 1384.24  Z\n  \" fill=\"#009af9\" fill-rule=\"evenodd\" fill-opacity=\"1\"/>\n<polyline clip-path=\"url(#clip092)\" style=\"stroke:#000000; stroke-linecap:butt; stroke-linejoin:round; stroke-width:4; stroke-opacity:1; fill:none\" points=\"\n  516.955,1384.24 516.955,1384.24 577.845,1384.24 516.955,1384.24 \n  \"/>\n<path clip-path=\"url(#clip092)\" d=\"\nM577.845 1384.24 L577.845 1384.24 L638.734 1384.24 L638.734 1384.24 L577.845 1384.24 L577.845 1384.24  Z\n  \" fill=\"#009af9\" fill-rule=\"evenodd\" fill-opacity=\"1\"/>\n<polyline clip-path=\"url(#clip092)\" style=\"stroke:#000000; stroke-linecap:butt; stroke-linejoin:round; stroke-width:4; stroke-opacity:1; fill:none\" points=\"\n  577.845,1384.24 577.845,1384.24 638.734,1384.24 577.845,1384.24 \n  \"/>\n<path clip-path=\"url(#clip092)\" d=\"\nM638.734 1384.24 L638.734 1384.24 L699.623 1384.24 L699.623 1384.24 L638.734 1384.24 L638.734 1384.24  Z\n  \" fill=\"#009af9\" fill-rule=\"evenodd\" fill-opacity=\"1\"/>\n<polyline clip-path=\"url(#clip092)\" style=\"stroke:#000000; stroke-linecap:butt; stroke-linejoin:round; stroke-width:4; stroke-opacity:1; fill:none\" points=\"\n  638.734,1384.24 638.734,1384.24 699.623,1384.24 638.734,1384.24 \n  \"/>\n<path clip-path=\"url(#clip092)\" d=\"\nM699.623 1384.24 L699.623 1384.24 L760.513 1384.24 L760.513 1384.24 L699.623 1384.24 L699.623 1384.24  Z\n  \" fill=\"#009af9\" fill-rule=\"evenodd\" fill-opacity=\"1\"/>\n<polyline clip-path=\"url(#clip092)\" style=\"stroke:#000000; stroke-linecap:butt; stroke-linejoin:round; stroke-width:4; stroke-opacity:1; fill:none\" points=\"\n  699.623,1384.24 699.623,1384.24 760.513,1384.24 699.623,1384.24 \n  \"/>\n<path clip-path=\"url(#clip092)\" d=\"\nM760.513 1030.22 L760.513 1384.24 L821.402 1384.24 L821.402 1030.22 L760.513 1030.22 L760.513 1030.22  Z\n  \" fill=\"#009af9\" fill-rule=\"evenodd\" fill-opacity=\"1\"/>\n<polyline clip-path=\"url(#clip092)\" style=\"stroke:#000000; stroke-linecap:butt; stroke-linejoin:round; stroke-width:4; stroke-opacity:1; fill:none\" points=\"\n  760.513,1030.22 760.513,1384.24 821.402,1384.24 821.402,1030.22 760.513,1030.22 \n  \"/>\n<path clip-path=\"url(#clip092)\" d=\"\nM821.402 1148.23 L821.402 1384.24 L882.292 1384.24 L882.292 1148.23 L821.402 1148.23 L821.402 1148.23  Z\n  \" fill=\"#009af9\" fill-rule=\"evenodd\" fill-opacity=\"1\"/>\n<polyline clip-path=\"url(#clip092)\" style=\"stroke:#000000; stroke-linecap:butt; stroke-linejoin:round; stroke-width:4; stroke-opacity:1; fill:none\" points=\"\n  821.402,1148.23 821.402,1384.24 882.292,1384.24 882.292,1148.23 821.402,1148.23 \n  \"/>\n<path clip-path=\"url(#clip092)\" d=\"\nM882.292 1266.23 L882.292 1384.24 L943.181 1384.24 L943.181 1266.23 L882.292 1266.23 L882.292 1266.23  Z\n  \" fill=\"#009af9\" fill-rule=\"evenodd\" fill-opacity=\"1\"/>\n<polyline clip-path=\"url(#clip092)\" style=\"stroke:#000000; stroke-linecap:butt; stroke-linejoin:round; stroke-width:4; stroke-opacity:1; fill:none\" points=\"\n  882.292,1266.23 882.292,1384.24 943.181,1384.24 943.181,1266.23 882.292,1266.23 \n  \"/>\n<path clip-path=\"url(#clip092)\" d=\"\nM943.181 912.219 L943.181 1384.24 L1004.07 1384.24 L1004.07 912.219 L943.181 912.219 L943.181 912.219  Z\n  \" fill=\"#009af9\" fill-rule=\"evenodd\" fill-opacity=\"1\"/>\n<polyline clip-path=\"url(#clip092)\" style=\"stroke:#000000; stroke-linecap:butt; stroke-linejoin:round; stroke-width:4; stroke-opacity:1; fill:none\" points=\"\n  943.181,912.219 943.181,1384.24 1004.07,1384.24 1004.07,912.219 943.181,912.219 \n  \"/>\n<path clip-path=\"url(#clip092)\" d=\"\nM1004.07 1148.23 L1004.07 1384.24 L1064.96 1384.24 L1064.96 1148.23 L1004.07 1148.23 L1004.07 1148.23  Z\n  \" fill=\"#009af9\" fill-rule=\"evenodd\" fill-opacity=\"1\"/>\n<polyline clip-path=\"url(#clip092)\" style=\"stroke:#000000; stroke-linecap:butt; stroke-linejoin:round; stroke-width:4; stroke-opacity:1; fill:none\" points=\"\n  1004.07,1148.23 1004.07,1384.24 1064.96,1384.24 1064.96,1148.23 1004.07,1148.23 \n  \"/>\n<path clip-path=\"url(#clip092)\" d=\"\nM1064.96 1030.22 L1064.96 1384.24 L1125.85 1384.24 L1125.85 1030.22 L1064.96 1030.22 L1064.96 1030.22  Z\n  \" fill=\"#009af9\" fill-rule=\"evenodd\" fill-opacity=\"1\"/>\n<polyline clip-path=\"url(#clip092)\" style=\"stroke:#000000; stroke-linecap:butt; stroke-linejoin:round; stroke-width:4; stroke-opacity:1; fill:none\" points=\"\n  1064.96,1030.22 1064.96,1384.24 1125.85,1384.24 1125.85,1030.22 1064.96,1030.22 \n  \"/>\n<path clip-path=\"url(#clip092)\" d=\"\nM1125.85 912.219 L1125.85 1384.24 L1186.74 1384.24 L1186.74 912.219 L1125.85 912.219 L1125.85 912.219  Z\n  \" fill=\"#009af9\" fill-rule=\"evenodd\" fill-opacity=\"1\"/>\n<polyline clip-path=\"url(#clip092)\" style=\"stroke:#000000; stroke-linecap:butt; stroke-linejoin:round; stroke-width:4; stroke-opacity:1; fill:none\" points=\"\n  1125.85,912.219 1125.85,1384.24 1186.74,1384.24 1186.74,912.219 1125.85,912.219 \n  \"/>\n<path clip-path=\"url(#clip092)\" d=\"\nM1186.74 1266.23 L1186.74 1384.24 L1247.63 1384.24 L1247.63 1266.23 L1186.74 1266.23 L1186.74 1266.23  Z\n  \" fill=\"#009af9\" fill-rule=\"evenodd\" fill-opacity=\"1\"/>\n<polyline clip-path=\"url(#clip092)\" style=\"stroke:#000000; stroke-linecap:butt; stroke-linejoin:round; stroke-width:4; stroke-opacity:1; fill:none\" points=\"\n  1186.74,1266.23 1186.74,1384.24 1247.63,1384.24 1247.63,1266.23 1186.74,1266.23 \n  \"/>\n<path clip-path=\"url(#clip092)\" d=\"\nM1247.63 1266.23 L1247.63 1384.24 L1308.52 1384.24 L1308.52 1266.23 L1247.63 1266.23 L1247.63 1266.23  Z\n  \" fill=\"#009af9\" fill-rule=\"evenodd\" fill-opacity=\"1\"/>\n<polyline clip-path=\"url(#clip092)\" style=\"stroke:#000000; stroke-linecap:butt; stroke-linejoin:round; stroke-width:4; stroke-opacity:1; fill:none\" points=\"\n  1247.63,1266.23 1247.63,1384.24 1308.52,1384.24 1308.52,1266.23 1247.63,1266.23 \n  \"/>\n<path clip-path=\"url(#clip092)\" d=\"\nM1308.52 1148.23 L1308.52 1384.24 L1369.41 1384.24 L1369.41 1148.23 L1308.52 1148.23 L1308.52 1148.23  Z\n  \" fill=\"#009af9\" fill-rule=\"evenodd\" fill-opacity=\"1\"/>\n<polyline clip-path=\"url(#clip092)\" style=\"stroke:#000000; stroke-linecap:butt; stroke-linejoin:round; stroke-width:4; stroke-opacity:1; fill:none\" points=\"\n  1308.52,1148.23 1308.52,1384.24 1369.41,1384.24 1369.41,1148.23 1308.52,1148.23 \n  \"/>\n<path clip-path=\"url(#clip092)\" d=\"\nM1369.41 1266.23 L1369.41 1384.24 L1430.3 1384.24 L1430.3 1266.23 L1369.41 1266.23 L1369.41 1266.23  Z\n  \" fill=\"#009af9\" fill-rule=\"evenodd\" fill-opacity=\"1\"/>\n<polyline clip-path=\"url(#clip092)\" style=\"stroke:#000000; stroke-linecap:butt; stroke-linejoin:round; stroke-width:4; stroke-opacity:1; fill:none\" points=\"\n  1369.41,1266.23 1369.41,1384.24 1430.3,1384.24 1430.3,1266.23 1369.41,1266.23 \n  \"/>\n<path clip-path=\"url(#clip092)\" d=\"\nM1430.3 1030.22 L1430.3 1384.24 L1491.19 1384.24 L1491.19 1030.22 L1430.3 1030.22 L1430.3 1030.22  Z\n  \" fill=\"#009af9\" fill-rule=\"evenodd\" fill-opacity=\"1\"/>\n<polyline clip-path=\"url(#clip092)\" style=\"stroke:#000000; stroke-linecap:butt; stroke-linejoin:round; stroke-width:4; stroke-opacity:1; fill:none\" points=\"\n  1430.3,1030.22 1430.3,1384.24 1491.19,1384.24 1491.19,1030.22 1430.3,1030.22 \n  \"/>\n<path clip-path=\"url(#clip092)\" d=\"\nM1491.19 1148.23 L1491.19 1384.24 L1552.07 1384.24 L1552.07 1148.23 L1491.19 1148.23 L1491.19 1148.23  Z\n  \" fill=\"#009af9\" fill-rule=\"evenodd\" fill-opacity=\"1\"/>\n<polyline clip-path=\"url(#clip092)\" style=\"stroke:#000000; stroke-linecap:butt; stroke-linejoin:round; stroke-width:4; stroke-opacity:1; fill:none\" points=\"\n  1491.19,1148.23 1491.19,1384.24 1552.07,1384.24 1552.07,1148.23 1491.19,1148.23 \n  \"/>\n<path clip-path=\"url(#clip092)\" d=\"\nM1552.07 1030.22 L1552.07 1384.24 L1612.96 1384.24 L1612.96 1030.22 L1552.07 1030.22 L1552.07 1030.22  Z\n  \" fill=\"#009af9\" fill-rule=\"evenodd\" fill-opacity=\"1\"/>\n<polyline clip-path=\"url(#clip092)\" style=\"stroke:#000000; stroke-linecap:butt; stroke-linejoin:round; stroke-width:4; stroke-opacity:1; fill:none\" points=\"\n  1552.07,1030.22 1552.07,1384.24 1612.96,1384.24 1612.96,1030.22 1552.07,1030.22 \n  \"/>\n<path clip-path=\"url(#clip092)\" d=\"\nM1612.96 912.219 L1612.96 1384.24 L1673.85 1384.24 L1673.85 912.219 L1612.96 912.219 L1612.96 912.219  Z\n  \" fill=\"#009af9\" fill-rule=\"evenodd\" fill-opacity=\"1\"/>\n<polyline clip-path=\"url(#clip092)\" style=\"stroke:#000000; stroke-linecap:butt; stroke-linejoin:round; stroke-width:4; stroke-opacity:1; fill:none\" points=\"\n  1612.96,912.219 1612.96,1384.24 1673.85,1384.24 1673.85,912.219 1612.96,912.219 \n  \"/>\n<path clip-path=\"url(#clip092)\" d=\"\nM1673.85 558.205 L1673.85 1384.24 L1734.74 1384.24 L1734.74 558.205 L1673.85 558.205 L1673.85 558.205  Z\n  \" fill=\"#009af9\" fill-rule=\"evenodd\" fill-opacity=\"1\"/>\n<polyline clip-path=\"url(#clip092)\" style=\"stroke:#000000; stroke-linecap:butt; stroke-linejoin:round; stroke-width:4; stroke-opacity:1; fill:none\" points=\"\n  1673.85,558.205 1673.85,1384.24 1734.74,1384.24 1734.74,558.205 1673.85,558.205 \n  \"/>\n<path clip-path=\"url(#clip092)\" d=\"\nM1734.74 794.214 L1734.74 1384.24 L1795.63 1384.24 L1795.63 794.214 L1734.74 794.214 L1734.74 794.214  Z\n  \" fill=\"#009af9\" fill-rule=\"evenodd\" fill-opacity=\"1\"/>\n<polyline clip-path=\"url(#clip092)\" style=\"stroke:#000000; stroke-linecap:butt; stroke-linejoin:round; stroke-width:4; stroke-opacity:1; fill:none\" points=\"\n  1734.74,794.214 1734.74,1384.24 1795.63,1384.24 1795.63,794.214 1734.74,794.214 \n  \"/>\n<path clip-path=\"url(#clip092)\" d=\"\nM1795.63 912.219 L1795.63 1384.24 L1856.52 1384.24 L1856.52 912.219 L1795.63 912.219 L1795.63 912.219  Z\n  \" fill=\"#009af9\" fill-rule=\"evenodd\" fill-opacity=\"1\"/>\n<polyline clip-path=\"url(#clip092)\" style=\"stroke:#000000; stroke-linecap:butt; stroke-linejoin:round; stroke-width:4; stroke-opacity:1; fill:none\" points=\"\n  1795.63,912.219 1795.63,1384.24 1856.52,1384.24 1856.52,912.219 1795.63,912.219 \n  \"/>\n<path clip-path=\"url(#clip092)\" d=\"\nM1856.52 794.214 L1856.52 1384.24 L1917.41 1384.24 L1917.41 794.214 L1856.52 794.214 L1856.52 794.214  Z\n  \" fill=\"#009af9\" fill-rule=\"evenodd\" fill-opacity=\"1\"/>\n<polyline clip-path=\"url(#clip092)\" style=\"stroke:#000000; stroke-linecap:butt; stroke-linejoin:round; stroke-width:4; stroke-opacity:1; fill:none\" points=\"\n  1856.52,794.214 1856.52,1384.24 1917.41,1384.24 1917.41,794.214 1856.52,794.214 \n  \"/>\n<path clip-path=\"url(#clip092)\" d=\"\nM1917.41 912.219 L1917.41 1384.24 L1978.3 1384.24 L1978.3 912.219 L1917.41 912.219 L1917.41 912.219  Z\n  \" fill=\"#009af9\" fill-rule=\"evenodd\" fill-opacity=\"1\"/>\n<polyline clip-path=\"url(#clip092)\" style=\"stroke:#000000; stroke-linecap:butt; stroke-linejoin:round; stroke-width:4; stroke-opacity:1; fill:none\" points=\"\n  1917.41,912.219 1917.41,1384.24 1978.3,1384.24 1978.3,912.219 1917.41,912.219 \n  \"/>\n<path clip-path=\"url(#clip092)\" d=\"\nM1978.3 1030.22 L1978.3 1384.24 L2039.19 1384.24 L2039.19 1030.22 L1978.3 1030.22 L1978.3 1030.22  Z\n  \" fill=\"#009af9\" fill-rule=\"evenodd\" fill-opacity=\"1\"/>\n<polyline clip-path=\"url(#clip092)\" style=\"stroke:#000000; stroke-linecap:butt; stroke-linejoin:round; stroke-width:4; stroke-opacity:1; fill:none\" points=\"\n  1978.3,1030.22 1978.3,1384.24 2039.19,1384.24 2039.19,1030.22 1978.3,1030.22 \n  \"/>\n<path clip-path=\"url(#clip092)\" d=\"\nM2039.19 440.2 L2039.19 1384.24 L2100.08 1384.24 L2100.08 440.2 L2039.19 440.2 L2039.19 440.2  Z\n  \" fill=\"#009af9\" fill-rule=\"evenodd\" fill-opacity=\"1\"/>\n<polyline clip-path=\"url(#clip092)\" style=\"stroke:#000000; stroke-linecap:butt; stroke-linejoin:round; stroke-width:4; stroke-opacity:1; fill:none\" points=\"\n  2039.19,440.2 2039.19,1384.24 2100.08,1384.24 2100.08,440.2 2039.19,440.2 \n  \"/>\n<path clip-path=\"url(#clip092)\" d=\"\nM2100.08 322.195 L2100.08 1384.24 L2160.97 1384.24 L2160.97 322.195 L2100.08 322.195 L2100.08 322.195  Z\n  \" fill=\"#009af9\" fill-rule=\"evenodd\" fill-opacity=\"1\"/>\n<polyline clip-path=\"url(#clip092)\" style=\"stroke:#000000; stroke-linecap:butt; stroke-linejoin:round; stroke-width:4; stroke-opacity:1; fill:none\" points=\"\n  2100.08,322.195 2100.08,1384.24 2160.97,1384.24 2160.97,322.195 2100.08,322.195 \n  \"/>\n<path clip-path=\"url(#clip092)\" d=\"\nM2160.97 676.21 L2160.97 1384.24 L2221.86 1384.24 L2221.86 676.21 L2160.97 676.21 L2160.97 676.21  Z\n  \" fill=\"#009af9\" fill-rule=\"evenodd\" fill-opacity=\"1\"/>\n<polyline clip-path=\"url(#clip092)\" style=\"stroke:#000000; stroke-linecap:butt; stroke-linejoin:round; stroke-width:4; stroke-opacity:1; fill:none\" points=\"\n  2160.97,676.21 2160.97,1384.24 2221.86,1384.24 2221.86,676.21 2160.97,676.21 \n  \"/>\n<path clip-path=\"url(#clip092)\" d=\"\nM2221.86 794.214 L2221.86 1384.24 L2282.75 1384.24 L2282.75 794.214 L2221.86 794.214 L2221.86 794.214  Z\n  \" fill=\"#009af9\" fill-rule=\"evenodd\" fill-opacity=\"1\"/>\n<polyline clip-path=\"url(#clip092)\" style=\"stroke:#000000; stroke-linecap:butt; stroke-linejoin:round; stroke-width:4; stroke-opacity:1; fill:none\" points=\"\n  2221.86,794.214 2221.86,1384.24 2282.75,1384.24 2282.75,794.214 2221.86,794.214 \n  \"/>\n<path clip-path=\"url(#clip092)\" d=\"\nM2282.75 204.19 L2282.75 1384.24 L2343.64 1384.24 L2343.64 204.19 L2282.75 204.19 L2282.75 204.19  Z\n  \" fill=\"#009af9\" fill-rule=\"evenodd\" fill-opacity=\"1\"/>\n<polyline clip-path=\"url(#clip092)\" style=\"stroke:#000000; stroke-linecap:butt; stroke-linejoin:round; stroke-width:4; stroke-opacity:1; fill:none\" points=\"\n  2282.75,204.19 2282.75,1384.24 2343.64,1384.24 2343.64,204.19 2282.75,204.19 \n  \"/>\n<path clip-path=\"url(#clip092)\" d=\"\nM2343.64 86.1857 L2343.64 1384.24 L2404.53 1384.24 L2404.53 86.1857 L2343.64 86.1857 L2343.64 86.1857  Z\n  \" fill=\"#009af9\" fill-rule=\"evenodd\" fill-opacity=\"1\"/>\n<polyline clip-path=\"url(#clip092)\" style=\"stroke:#000000; stroke-linecap:butt; stroke-linejoin:round; stroke-width:4; stroke-opacity:1; fill:none\" points=\"\n  2343.64,86.1857 2343.64,1384.24 2404.53,1384.24 2404.53,86.1857 2343.64,86.1857 \n  \"/>\n<path clip-path=\"url(#clip092)\" d=\"\nM2404.53 204.19 L2404.53 1384.24 L2465.42 1384.24 L2465.42 204.19 L2404.53 204.19 L2404.53 204.19  Z\n  \" fill=\"#009af9\" fill-rule=\"evenodd\" fill-opacity=\"1\"/>\n<polyline clip-path=\"url(#clip092)\" style=\"stroke:#000000; stroke-linecap:butt; stroke-linejoin:round; stroke-width:4; stroke-opacity:1; fill:none\" points=\"\n  2404.53,204.19 2404.53,1384.24 2465.42,1384.24 2465.42,204.19 2404.53,204.19 \n  \"/>\n<path clip-path=\"url(#clip092)\" d=\"\nM2465.42 1148.23 L2465.42 1384.24 L2526.31 1384.24 L2526.31 1148.23 L2465.42 1148.23 L2465.42 1148.23  Z\n  \" fill=\"#009af9\" fill-rule=\"evenodd\" fill-opacity=\"1\"/>\n<polyline clip-path=\"url(#clip092)\" style=\"stroke:#000000; stroke-linecap:butt; stroke-linejoin:round; stroke-width:4; stroke-opacity:1; fill:none\" points=\"\n  2465.42,1148.23 2465.42,1384.24 2526.31,1384.24 2526.31,1148.23 2465.42,1148.23 \n  \"/>\n<path clip-path=\"url(#clip092)\" d=\"\nM2526.31 794.214 L2526.31 1384.24 L2587.19 1384.24 L2587.19 794.214 L2526.31 794.214 L2526.31 794.214  Z\n  \" fill=\"#009af9\" fill-rule=\"evenodd\" fill-opacity=\"1\"/>\n<polyline clip-path=\"url(#clip092)\" style=\"stroke:#000000; stroke-linecap:butt; stroke-linejoin:round; stroke-width:4; stroke-opacity:1; fill:none\" points=\"\n  2526.31,794.214 2526.31,1384.24 2587.19,1384.24 2587.19,794.214 2526.31,794.214 \n  \"/>\n<path clip-path=\"url(#clip092)\" d=\"\nM2587.19 1030.22 L2587.19 1384.24 L2648.08 1384.24 L2648.08 1030.22 L2587.19 1030.22 L2587.19 1030.22  Z\n  \" fill=\"#009af9\" fill-rule=\"evenodd\" fill-opacity=\"1\"/>\n<polyline clip-path=\"url(#clip092)\" style=\"stroke:#000000; stroke-linecap:butt; stroke-linejoin:round; stroke-width:4; stroke-opacity:1; fill:none\" points=\"\n  2587.19,1030.22 2587.19,1384.24 2648.08,1384.24 2648.08,1030.22 2587.19,1030.22 \n  \"/>\n<path clip-path=\"url(#clip092)\" d=\"\nM2648.08 1030.22 L2648.08 1384.24 L2708.97 1384.24 L2708.97 1030.22 L2648.08 1030.22 L2648.08 1030.22  Z\n  \" fill=\"#009af9\" fill-rule=\"evenodd\" fill-opacity=\"1\"/>\n<polyline clip-path=\"url(#clip092)\" style=\"stroke:#000000; stroke-linecap:butt; stroke-linejoin:round; stroke-width:4; stroke-opacity:1; fill:none\" points=\"\n  2648.08,1030.22 2648.08,1384.24 2708.97,1384.24 2708.97,1030.22 2648.08,1030.22 \n  \"/>\n<path clip-path=\"url(#clip092)\" d=\"\nM2708.97 322.195 L2708.97 1384.24 L2769.86 1384.24 L2769.86 322.195 L2708.97 322.195 L2708.97 322.195  Z\n  \" fill=\"#009af9\" fill-rule=\"evenodd\" fill-opacity=\"1\"/>\n<polyline clip-path=\"url(#clip092)\" style=\"stroke:#000000; stroke-linecap:butt; stroke-linejoin:round; stroke-width:4; stroke-opacity:1; fill:none\" points=\"\n  2708.97,322.195 2708.97,1384.24 2769.86,1384.24 2769.86,322.195 2708.97,322.195 \n  \"/>\n<path clip-path=\"url(#clip092)\" d=\"\nM2769.86 440.2 L2769.86 1384.24 L2830.75 1384.24 L2830.75 440.2 L2769.86 440.2 L2769.86 440.2  Z\n  \" fill=\"#009af9\" fill-rule=\"evenodd\" fill-opacity=\"1\"/>\n<polyline clip-path=\"url(#clip092)\" style=\"stroke:#000000; stroke-linecap:butt; stroke-linejoin:round; stroke-width:4; stroke-opacity:1; fill:none\" points=\"\n  2769.86,440.2 2769.86,1384.24 2830.75,1384.24 2830.75,440.2 2769.86,440.2 \n  \"/>\n<path clip-path=\"url(#clip092)\" d=\"\nM2830.75 322.195 L2830.75 1384.24 L2891.64 1384.24 L2891.64 322.195 L2830.75 322.195 L2830.75 322.195  Z\n  \" fill=\"#009af9\" fill-rule=\"evenodd\" fill-opacity=\"1\"/>\n<polyline clip-path=\"url(#clip092)\" style=\"stroke:#000000; stroke-linecap:butt; stroke-linejoin:round; stroke-width:4; stroke-opacity:1; fill:none\" points=\"\n  2830.75,322.195 2830.75,1384.24 2891.64,1384.24 2891.64,322.195 2830.75,322.195 \n  \"/>\n<path clip-path=\"url(#clip092)\" d=\"\nM2891.64 676.21 L2891.64 1384.24 L2952.53 1384.24 L2952.53 676.21 L2891.64 676.21 L2891.64 676.21  Z\n  \" fill=\"#009af9\" fill-rule=\"evenodd\" fill-opacity=\"1\"/>\n<polyline clip-path=\"url(#clip092)\" style=\"stroke:#000000; stroke-linecap:butt; stroke-linejoin:round; stroke-width:4; stroke-opacity:1; fill:none\" points=\"\n  2891.64,676.21 2891.64,1384.24 2952.53,1384.24 2952.53,676.21 2891.64,676.21 \n  \"/>\n<path clip-path=\"url(#clip092)\" d=\"\nM2952.53 558.205 L2952.53 1384.24 L3013.42 1384.24 L3013.42 558.205 L2952.53 558.205 L2952.53 558.205  Z\n  \" fill=\"#009af9\" fill-rule=\"evenodd\" fill-opacity=\"1\"/>\n<polyline clip-path=\"url(#clip092)\" style=\"stroke:#000000; stroke-linecap:butt; stroke-linejoin:round; stroke-width:4; stroke-opacity:1; fill:none\" points=\"\n  2952.53,558.205 2952.53,1384.24 3013.42,1384.24 3013.42,558.205 2952.53,558.205 \n  \"/>\n<path clip-path=\"url(#clip092)\" d=\"\nM3013.42 558.205 L3013.42 1384.24 L3074.31 1384.24 L3074.31 558.205 L3013.42 558.205 L3013.42 558.205  Z\n  \" fill=\"#009af9\" fill-rule=\"evenodd\" fill-opacity=\"1\"/>\n<polyline clip-path=\"url(#clip092)\" style=\"stroke:#000000; stroke-linecap:butt; stroke-linejoin:round; stroke-width:4; stroke-opacity:1; fill:none\" points=\"\n  3013.42,558.205 3013.42,1384.24 3074.31,1384.24 3074.31,558.205 3013.42,558.205 \n  \"/>\n<path clip-path=\"url(#clip092)\" d=\"\nM3074.31 912.219 L3074.31 1384.24 L3135.2 1384.24 L3135.2 912.219 L3074.31 912.219 L3074.31 912.219  Z\n  \" fill=\"#009af9\" fill-rule=\"evenodd\" fill-opacity=\"1\"/>\n<polyline clip-path=\"url(#clip092)\" style=\"stroke:#000000; stroke-linecap:butt; stroke-linejoin:round; stroke-width:4; stroke-opacity:1; fill:none\" points=\"\n  3074.31,912.219 3074.31,1384.24 3135.2,1384.24 3135.2,912.219 3074.31,912.219 \n  \"/>\n<path clip-path=\"url(#clip092)\" d=\"\nM3135.2 794.214 L3135.2 1384.24 L3196.09 1384.24 L3196.09 794.214 L3135.2 794.214 L3135.2 794.214  Z\n  \" fill=\"#009af9\" fill-rule=\"evenodd\" fill-opacity=\"1\"/>\n<polyline clip-path=\"url(#clip092)\" style=\"stroke:#000000; stroke-linecap:butt; stroke-linejoin:round; stroke-width:4; stroke-opacity:1; fill:none\" points=\"\n  3135.2,794.214 3135.2,1384.24 3196.09,1384.24 3196.09,794.214 3135.2,794.214 \n  \"/>\n<path clip-path=\"url(#clip092)\" d=\"\nM3196.09 558.205 L3196.09 1384.24 L3256.98 1384.24 L3256.98 558.205 L3196.09 558.205 L3196.09 558.205  Z\n  \" fill=\"#009af9\" fill-rule=\"evenodd\" fill-opacity=\"1\"/>\n<polyline clip-path=\"url(#clip092)\" style=\"stroke:#000000; stroke-linecap:butt; stroke-linejoin:round; stroke-width:4; stroke-opacity:1; fill:none\" points=\"\n  3196.09,558.205 3196.09,1384.24 3256.98,1384.24 3256.98,558.205 3196.09,558.205 \n  \"/>\n<path clip-path=\"url(#clip092)\" d=\"\nM3256.98 912.219 L3256.98 1384.24 L3317.87 1384.24 L3317.87 912.219 L3256.98 912.219 L3256.98 912.219  Z\n  \" fill=\"#009af9\" fill-rule=\"evenodd\" fill-opacity=\"1\"/>\n<polyline clip-path=\"url(#clip092)\" style=\"stroke:#000000; stroke-linecap:butt; stroke-linejoin:round; stroke-width:4; stroke-opacity:1; fill:none\" points=\"\n  3256.98,912.219 3256.98,1384.24 3317.87,1384.24 3317.87,912.219 3256.98,912.219 \n  \"/>\n<path clip-path=\"url(#clip092)\" d=\"\nM3317.87 1148.23 L3317.87 1384.24 L3378.76 1384.24 L3378.76 1148.23 L3317.87 1148.23 L3317.87 1148.23  Z\n  \" fill=\"#009af9\" fill-rule=\"evenodd\" fill-opacity=\"1\"/>\n<polyline clip-path=\"url(#clip092)\" style=\"stroke:#000000; stroke-linecap:butt; stroke-linejoin:round; stroke-width:4; stroke-opacity:1; fill:none\" points=\"\n  3317.87,1148.23 3317.87,1384.24 3378.76,1384.24 3378.76,1148.23 3317.87,1148.23 \n  \"/>\n<path clip-path=\"url(#clip092)\" d=\"\nM3378.76 440.2 L3378.76 1384.24 L3439.65 1384.24 L3439.65 440.2 L3378.76 440.2 L3378.76 440.2  Z\n  \" fill=\"#009af9\" fill-rule=\"evenodd\" fill-opacity=\"1\"/>\n<polyline clip-path=\"url(#clip092)\" style=\"stroke:#000000; stroke-linecap:butt; stroke-linejoin:round; stroke-width:4; stroke-opacity:1; fill:none\" points=\"\n  3378.76,440.2 3378.76,1384.24 3439.65,1384.24 3439.65,440.2 3378.76,440.2 \n  \"/>\n<path clip-path=\"url(#clip092)\" d=\"\nM3439.65 912.219 L3439.65 1384.24 L3500.54 1384.24 L3500.54 912.219 L3439.65 912.219 L3439.65 912.219  Z\n  \" fill=\"#009af9\" fill-rule=\"evenodd\" fill-opacity=\"1\"/>\n<polyline clip-path=\"url(#clip092)\" style=\"stroke:#000000; stroke-linecap:butt; stroke-linejoin:round; stroke-width:4; stroke-opacity:1; fill:none\" points=\"\n  3439.65,912.219 3439.65,1384.24 3500.54,1384.24 3500.54,912.219 3439.65,912.219 \n  \"/>\n<path clip-path=\"url(#clip092)\" d=\"\nM3500.54 794.214 L3500.54 1384.24 L3561.43 1384.24 L3561.43 794.214 L3500.54 794.214 L3500.54 794.214  Z\n  \" fill=\"#009af9\" fill-rule=\"evenodd\" fill-opacity=\"1\"/>\n<polyline clip-path=\"url(#clip092)\" style=\"stroke:#000000; stroke-linecap:butt; stroke-linejoin:round; stroke-width:4; stroke-opacity:1; fill:none\" points=\"\n  3500.54,794.214 3500.54,1384.24 3561.43,1384.24 3561.43,794.214 3500.54,794.214 \n  \"/>\n<path clip-path=\"url(#clip092)\" d=\"\nM3561.43 1148.23 L3561.43 1384.24 L3622.31 1384.24 L3622.31 1148.23 L3561.43 1148.23 L3561.43 1148.23  Z\n  \" fill=\"#009af9\" fill-rule=\"evenodd\" fill-opacity=\"1\"/>\n<polyline clip-path=\"url(#clip092)\" style=\"stroke:#000000; stroke-linecap:butt; stroke-linejoin:round; stroke-width:4; stroke-opacity:1; fill:none\" points=\"\n  3561.43,1148.23 3561.43,1384.24 3622.31,1384.24 3622.31,1148.23 3561.43,1148.23 \n  \"/>\n<path clip-path=\"url(#clip092)\" d=\"\nM3622.31 676.21 L3622.31 1384.24 L3683.2 1384.24 L3683.2 676.21 L3622.31 676.21 L3622.31 676.21  Z\n  \" fill=\"#009af9\" fill-rule=\"evenodd\" fill-opacity=\"1\"/>\n<polyline clip-path=\"url(#clip092)\" style=\"stroke:#000000; stroke-linecap:butt; stroke-linejoin:round; stroke-width:4; stroke-opacity:1; fill:none\" points=\"\n  3622.31,676.21 3622.31,1384.24 3683.2,1384.24 3683.2,676.21 3622.31,676.21 \n  \"/>\n<path clip-path=\"url(#clip092)\" d=\"\nM3683.2 912.219 L3683.2 1384.24 L3744.09 1384.24 L3744.09 912.219 L3683.2 912.219 L3683.2 912.219  Z\n  \" fill=\"#009af9\" fill-rule=\"evenodd\" fill-opacity=\"1\"/>\n<polyline clip-path=\"url(#clip092)\" style=\"stroke:#000000; stroke-linecap:butt; stroke-linejoin:round; stroke-width:4; stroke-opacity:1; fill:none\" points=\"\n  3683.2,912.219 3683.2,1384.24 3744.09,1384.24 3744.09,912.219 3683.2,912.219 \n  \"/>\n<path clip-path=\"url(#clip092)\" d=\"\nM3744.09 1148.23 L3744.09 1384.24 L3804.98 1384.24 L3804.98 1148.23 L3744.09 1148.23 L3744.09 1148.23  Z\n  \" fill=\"#009af9\" fill-rule=\"evenodd\" fill-opacity=\"1\"/>\n<polyline clip-path=\"url(#clip092)\" style=\"stroke:#000000; stroke-linecap:butt; stroke-linejoin:round; stroke-width:4; stroke-opacity:1; fill:none\" points=\"\n  3744.09,1148.23 3744.09,1384.24 3804.98,1384.24 3804.98,1148.23 3744.09,1148.23 \n  \"/>\n<path clip-path=\"url(#clip092)\" d=\"\nM3804.98 440.2 L3804.98 1384.24 L3865.87 1384.24 L3865.87 440.2 L3804.98 440.2 L3804.98 440.2  Z\n  \" fill=\"#009af9\" fill-rule=\"evenodd\" fill-opacity=\"1\"/>\n<polyline clip-path=\"url(#clip092)\" style=\"stroke:#000000; stroke-linecap:butt; stroke-linejoin:round; stroke-width:4; stroke-opacity:1; fill:none\" points=\"\n  3804.98,440.2 3804.98,1384.24 3865.87,1384.24 3865.87,440.2 3804.98,440.2 \n  \"/>\n<path clip-path=\"url(#clip092)\" d=\"\nM3865.87 1030.22 L3865.87 1384.24 L3926.76 1384.24 L3926.76 1030.22 L3865.87 1030.22 L3865.87 1030.22  Z\n  \" fill=\"#009af9\" fill-rule=\"evenodd\" fill-opacity=\"1\"/>\n<polyline clip-path=\"url(#clip092)\" style=\"stroke:#000000; stroke-linecap:butt; stroke-linejoin:round; stroke-width:4; stroke-opacity:1; fill:none\" points=\"\n  3865.87,1030.22 3865.87,1384.24 3926.76,1384.24 3926.76,1030.22 3865.87,1030.22 \n  \"/>\n<path clip-path=\"url(#clip092)\" d=\"\nM3926.76 1030.22 L3926.76 1384.24 L3987.65 1384.24 L3987.65 1030.22 L3926.76 1030.22 L3926.76 1030.22  Z\n  \" fill=\"#009af9\" fill-rule=\"evenodd\" fill-opacity=\"1\"/>\n<polyline clip-path=\"url(#clip092)\" style=\"stroke:#000000; stroke-linecap:butt; stroke-linejoin:round; stroke-width:4; stroke-opacity:1; fill:none\" points=\"\n  3926.76,1030.22 3926.76,1384.24 3987.65,1384.24 3987.65,1030.22 3926.76,1030.22 \n  \"/>\n<path clip-path=\"url(#clip092)\" d=\"\nM3987.65 912.219 L3987.65 1384.24 L4048.54 1384.24 L4048.54 912.219 L3987.65 912.219 L3987.65 912.219  Z\n  \" fill=\"#009af9\" fill-rule=\"evenodd\" fill-opacity=\"1\"/>\n<polyline clip-path=\"url(#clip092)\" style=\"stroke:#000000; stroke-linecap:butt; stroke-linejoin:round; stroke-width:4; stroke-opacity:1; fill:none\" points=\"\n  3987.65,912.219 3987.65,1384.24 4048.54,1384.24 4048.54,912.219 3987.65,912.219 \n  \"/>\n<path clip-path=\"url(#clip092)\" d=\"\nM4048.54 1030.22 L4048.54 1384.24 L4109.43 1384.24 L4109.43 1030.22 L4048.54 1030.22 L4048.54 1030.22  Z\n  \" fill=\"#009af9\" fill-rule=\"evenodd\" fill-opacity=\"1\"/>\n<polyline clip-path=\"url(#clip092)\" style=\"stroke:#000000; stroke-linecap:butt; stroke-linejoin:round; stroke-width:4; stroke-opacity:1; fill:none\" points=\"\n  4048.54,1030.22 4048.54,1384.24 4109.43,1384.24 4109.43,1030.22 4048.54,1030.22 \n  \"/>\n<path clip-path=\"url(#clip092)\" d=\"\nM4109.43 1266.23 L4109.43 1384.24 L4170.32 1384.24 L4170.32 1266.23 L4109.43 1266.23 L4109.43 1266.23  Z\n  \" fill=\"#009af9\" fill-rule=\"evenodd\" fill-opacity=\"1\"/>\n<polyline clip-path=\"url(#clip092)\" style=\"stroke:#000000; stroke-linecap:butt; stroke-linejoin:round; stroke-width:4; stroke-opacity:1; fill:none\" points=\"\n  4109.43,1266.23 4109.43,1384.24 4170.32,1384.24 4170.32,1266.23 4109.43,1266.23 \n  \"/>\n<path clip-path=\"url(#clip092)\" d=\"\nM4170.32 1030.22 L4170.32 1384.24 L4231.21 1384.24 L4231.21 1030.22 L4170.32 1030.22 L4170.32 1030.22  Z\n  \" fill=\"#009af9\" fill-rule=\"evenodd\" fill-opacity=\"1\"/>\n<polyline clip-path=\"url(#clip092)\" style=\"stroke:#000000; stroke-linecap:butt; stroke-linejoin:round; stroke-width:4; stroke-opacity:1; fill:none\" points=\"\n  4170.32,1030.22 4170.32,1384.24 4231.21,1384.24 4231.21,1030.22 4170.32,1030.22 \n  \"/>\n<path clip-path=\"url(#clip092)\" d=\"\nM4231.21 1148.23 L4231.21 1384.24 L4292.1 1384.24 L4292.1 1148.23 L4231.21 1148.23 L4231.21 1148.23  Z\n  \" fill=\"#009af9\" fill-rule=\"evenodd\" fill-opacity=\"1\"/>\n<polyline clip-path=\"url(#clip092)\" style=\"stroke:#000000; stroke-linecap:butt; stroke-linejoin:round; stroke-width:4; stroke-opacity:1; fill:none\" points=\"\n  4231.21,1148.23 4231.21,1384.24 4292.1,1384.24 4292.1,1148.23 4231.21,1148.23 \n  \"/>\n<path clip-path=\"url(#clip092)\" d=\"\nM4292.1 1266.23 L4292.1 1384.24 L4352.99 1384.24 L4352.99 1266.23 L4292.1 1266.23 L4292.1 1266.23  Z\n  \" fill=\"#009af9\" fill-rule=\"evenodd\" fill-opacity=\"1\"/>\n<polyline clip-path=\"url(#clip092)\" style=\"stroke:#000000; stroke-linecap:butt; stroke-linejoin:round; stroke-width:4; stroke-opacity:1; fill:none\" points=\"\n  4292.1,1266.23 4292.1,1384.24 4352.99,1384.24 4352.99,1266.23 4292.1,1266.23 \n  \"/>\n<path clip-path=\"url(#clip092)\" d=\"\nM4352.99 1030.22 L4352.99 1384.24 L4413.88 1384.24 L4413.88 1030.22 L4352.99 1030.22 L4352.99 1030.22  Z\n  \" fill=\"#009af9\" fill-rule=\"evenodd\" fill-opacity=\"1\"/>\n<polyline clip-path=\"url(#clip092)\" style=\"stroke:#000000; stroke-linecap:butt; stroke-linejoin:round; stroke-width:4; stroke-opacity:1; fill:none\" points=\"\n  4352.99,1030.22 4352.99,1384.24 4413.88,1384.24 4413.88,1030.22 4352.99,1030.22 \n  \"/>\n<path clip-path=\"url(#clip092)\" d=\"\nM4413.88 1148.23 L4413.88 1384.24 L4474.77 1384.24 L4474.77 1148.23 L4413.88 1148.23 L4413.88 1148.23  Z\n  \" fill=\"#009af9\" fill-rule=\"evenodd\" fill-opacity=\"1\"/>\n<polyline clip-path=\"url(#clip092)\" style=\"stroke:#000000; stroke-linecap:butt; stroke-linejoin:round; stroke-width:4; stroke-opacity:1; fill:none\" points=\"\n  4413.88,1148.23 4413.88,1384.24 4474.77,1384.24 4474.77,1148.23 4413.88,1148.23 \n  \"/>\n<path clip-path=\"url(#clip092)\" d=\"\nM4474.77 1030.22 L4474.77 1384.24 L4535.66 1384.24 L4535.66 1030.22 L4474.77 1030.22 L4474.77 1030.22  Z\n  \" fill=\"#009af9\" fill-rule=\"evenodd\" fill-opacity=\"1\"/>\n<polyline clip-path=\"url(#clip092)\" style=\"stroke:#000000; stroke-linecap:butt; stroke-linejoin:round; stroke-width:4; stroke-opacity:1; fill:none\" points=\"\n  4474.77,1030.22 4474.77,1384.24 4535.66,1384.24 4535.66,1030.22 4474.77,1030.22 \n  \"/>\n<path clip-path=\"url(#clip092)\" d=\"\nM4535.66 1030.22 L4535.66 1384.24 L4596.54 1384.24 L4596.54 1030.22 L4535.66 1030.22 L4535.66 1030.22  Z\n  \" fill=\"#009af9\" fill-rule=\"evenodd\" fill-opacity=\"1\"/>\n<polyline clip-path=\"url(#clip092)\" style=\"stroke:#000000; stroke-linecap:butt; stroke-linejoin:round; stroke-width:4; stroke-opacity:1; fill:none\" points=\"\n  4535.66,1030.22 4535.66,1384.24 4596.54,1384.24 4596.54,1030.22 4535.66,1030.22 \n  \"/>\n<path clip-path=\"url(#clip092)\" d=\"\nM4596.54 912.219 L4596.54 1384.24 L4657.43 1384.24 L4657.43 912.219 L4596.54 912.219 L4596.54 912.219  Z\n  \" fill=\"#009af9\" fill-rule=\"evenodd\" fill-opacity=\"1\"/>\n<polyline clip-path=\"url(#clip092)\" style=\"stroke:#000000; stroke-linecap:butt; stroke-linejoin:round; stroke-width:4; stroke-opacity:1; fill:none\" points=\"\n  4596.54,912.219 4596.54,1384.24 4657.43,1384.24 4657.43,912.219 4596.54,912.219 \n  \"/>\n<path clip-path=\"url(#clip092)\" d=\"\nM4657.43 1384.24 L4657.43 1384.24 L4718.32 1384.24 L4718.32 1384.24 L4657.43 1384.24 L4657.43 1384.24  Z\n  \" fill=\"#009af9\" fill-rule=\"evenodd\" fill-opacity=\"1\"/>\n<polyline clip-path=\"url(#clip092)\" style=\"stroke:#000000; stroke-linecap:butt; stroke-linejoin:round; stroke-width:4; stroke-opacity:1; fill:none\" points=\"\n  4657.43,1384.24 4657.43,1384.24 4718.32,1384.24 4657.43,1384.24 \n  \"/>\n<path clip-path=\"url(#clip092)\" d=\"\nM4718.32 1384.24 L4718.32 1384.24 L4779.21 1384.24 L4779.21 1384.24 L4718.32 1384.24 L4718.32 1384.24  Z\n  \" fill=\"#009af9\" fill-rule=\"evenodd\" fill-opacity=\"1\"/>\n<polyline clip-path=\"url(#clip092)\" style=\"stroke:#000000; stroke-linecap:butt; stroke-linejoin:round; stroke-width:4; stroke-opacity:1; fill:none\" points=\"\n  4718.32,1384.24 4718.32,1384.24 4779.21,1384.24 4718.32,1384.24 \n  \"/>\n<path clip-path=\"url(#clip092)\" d=\"\nM4779.21 1148.23 L4779.21 1384.24 L4840.1 1384.24 L4840.1 1148.23 L4779.21 1148.23 L4779.21 1148.23  Z\n  \" fill=\"#009af9\" fill-rule=\"evenodd\" fill-opacity=\"1\"/>\n<polyline clip-path=\"url(#clip092)\" style=\"stroke:#000000; stroke-linecap:butt; stroke-linejoin:round; stroke-width:4; stroke-opacity:1; fill:none\" points=\"\n  4779.21,1148.23 4779.21,1384.24 4840.1,1384.24 4840.1,1148.23 4779.21,1148.23 \n  \"/>\n<path clip-path=\"url(#clip092)\" d=\"\nM4840.1 1266.23 L4840.1 1384.24 L4900.99 1384.24 L4900.99 1266.23 L4840.1 1266.23 L4840.1 1266.23  Z\n  \" fill=\"#009af9\" fill-rule=\"evenodd\" fill-opacity=\"1\"/>\n<polyline clip-path=\"url(#clip092)\" style=\"stroke:#000000; stroke-linecap:butt; stroke-linejoin:round; stroke-width:4; stroke-opacity:1; fill:none\" points=\"\n  4840.1,1266.23 4840.1,1384.24 4900.99,1384.24 4900.99,1266.23 4840.1,1266.23 \n  \"/>\n<path clip-path=\"url(#clip092)\" d=\"\nM4900.99 1148.23 L4900.99 1384.24 L4961.88 1384.24 L4961.88 1148.23 L4900.99 1148.23 L4900.99 1148.23  Z\n  \" fill=\"#009af9\" fill-rule=\"evenodd\" fill-opacity=\"1\"/>\n<polyline clip-path=\"url(#clip092)\" style=\"stroke:#000000; stroke-linecap:butt; stroke-linejoin:round; stroke-width:4; stroke-opacity:1; fill:none\" points=\"\n  4900.99,1148.23 4900.99,1384.24 4961.88,1384.24 4961.88,1148.23 4900.99,1148.23 \n  \"/>\n<path clip-path=\"url(#clip092)\" d=\"\nM4961.88 1266.23 L4961.88 1384.24 L5022.77 1384.24 L5022.77 1266.23 L4961.88 1266.23 L4961.88 1266.23  Z\n  \" fill=\"#009af9\" fill-rule=\"evenodd\" fill-opacity=\"1\"/>\n<polyline clip-path=\"url(#clip092)\" style=\"stroke:#000000; stroke-linecap:butt; stroke-linejoin:round; stroke-width:4; stroke-opacity:1; fill:none\" points=\"\n  4961.88,1266.23 4961.88,1384.24 5022.77,1384.24 5022.77,1266.23 4961.88,1266.23 \n  \"/>\n<path clip-path=\"url(#clip092)\" d=\"\nM5022.77 1148.23 L5022.77 1384.24 L5083.66 1384.24 L5083.66 1148.23 L5022.77 1148.23 L5022.77 1148.23  Z\n  \" fill=\"#009af9\" fill-rule=\"evenodd\" fill-opacity=\"1\"/>\n<polyline clip-path=\"url(#clip092)\" style=\"stroke:#000000; stroke-linecap:butt; stroke-linejoin:round; stroke-width:4; stroke-opacity:1; fill:none\" points=\"\n  5022.77,1148.23 5022.77,1384.24 5083.66,1384.24 5083.66,1148.23 5022.77,1148.23 \n  \"/>\n<path clip-path=\"url(#clip092)\" d=\"\nM5083.66 912.219 L5083.66 1384.24 L5144.55 1384.24 L5144.55 912.219 L5083.66 912.219 L5083.66 912.219  Z\n  \" fill=\"#009af9\" fill-rule=\"evenodd\" fill-opacity=\"1\"/>\n<polyline clip-path=\"url(#clip092)\" style=\"stroke:#000000; stroke-linecap:butt; stroke-linejoin:round; stroke-width:4; stroke-opacity:1; fill:none\" points=\"\n  5083.66,912.219 5083.66,1384.24 5144.55,1384.24 5144.55,912.219 5083.66,912.219 \n  \"/>\n<path clip-path=\"url(#clip092)\" d=\"\nM5144.55 912.219 L5144.55 1384.24 L5205.44 1384.24 L5205.44 912.219 L5144.55 912.219 L5144.55 912.219  Z\n  \" fill=\"#009af9\" fill-rule=\"evenodd\" fill-opacity=\"1\"/>\n<polyline clip-path=\"url(#clip092)\" style=\"stroke:#000000; stroke-linecap:butt; stroke-linejoin:round; stroke-width:4; stroke-opacity:1; fill:none\" points=\"\n  5144.55,912.219 5144.55,1384.24 5205.44,1384.24 5205.44,912.219 5144.55,912.219 \n  \"/>\n<path clip-path=\"url(#clip092)\" d=\"\nM5205.44 1148.23 L5205.44 1384.24 L5266.33 1384.24 L5266.33 1148.23 L5205.44 1148.23 L5205.44 1148.23  Z\n  \" fill=\"#009af9\" fill-rule=\"evenodd\" fill-opacity=\"1\"/>\n<polyline clip-path=\"url(#clip092)\" style=\"stroke:#000000; stroke-linecap:butt; stroke-linejoin:round; stroke-width:4; stroke-opacity:1; fill:none\" points=\"\n  5205.44,1148.23 5205.44,1384.24 5266.33,1384.24 5266.33,1148.23 5205.44,1148.23 \n  \"/>\n<path clip-path=\"url(#clip092)\" d=\"\nM5266.33 1148.23 L5266.33 1384.24 L5327.22 1384.24 L5327.22 1148.23 L5266.33 1148.23 L5266.33 1148.23  Z\n  \" fill=\"#009af9\" fill-rule=\"evenodd\" fill-opacity=\"1\"/>\n<polyline clip-path=\"url(#clip092)\" style=\"stroke:#000000; stroke-linecap:butt; stroke-linejoin:round; stroke-width:4; stroke-opacity:1; fill:none\" points=\"\n  5266.33,1148.23 5266.33,1384.24 5327.22,1384.24 5327.22,1148.23 5266.33,1148.23 \n  \"/>\n<path clip-path=\"url(#clip092)\" d=\"\nM5327.22 1384.24 L5327.22 1384.24 L5388.11 1384.24 L5388.11 1384.24 L5327.22 1384.24 L5327.22 1384.24  Z\n  \" fill=\"#009af9\" fill-rule=\"evenodd\" fill-opacity=\"1\"/>\n<polyline clip-path=\"url(#clip092)\" style=\"stroke:#000000; stroke-linecap:butt; stroke-linejoin:round; stroke-width:4; stroke-opacity:1; fill:none\" points=\"\n  5327.22,1384.24 5327.22,1384.24 5388.11,1384.24 5327.22,1384.24 \n  \"/>\n<path clip-path=\"url(#clip092)\" d=\"\nM5388.11 1030.22 L5388.11 1384.24 L5449 1384.24 L5449 1030.22 L5388.11 1030.22 L5388.11 1030.22  Z\n  \" fill=\"#009af9\" fill-rule=\"evenodd\" fill-opacity=\"1\"/>\n<polyline clip-path=\"url(#clip092)\" style=\"stroke:#000000; stroke-linecap:butt; stroke-linejoin:round; stroke-width:4; stroke-opacity:1; fill:none\" points=\"\n  5388.11,1030.22 5388.11,1384.24 5449,1384.24 5449,1030.22 5388.11,1030.22 \n  \"/>\n<path clip-path=\"url(#clip092)\" d=\"\nM5449 1266.23 L5449 1384.24 L5509.89 1384.24 L5509.89 1266.23 L5449 1266.23 L5449 1266.23  Z\n  \" fill=\"#009af9\" fill-rule=\"evenodd\" fill-opacity=\"1\"/>\n<polyline clip-path=\"url(#clip092)\" style=\"stroke:#000000; stroke-linecap:butt; stroke-linejoin:round; stroke-width:4; stroke-opacity:1; fill:none\" points=\"\n  5449,1266.23 5449,1384.24 5509.89,1384.24 5509.89,1266.23 5449,1266.23 \n  \"/>\n<path clip-path=\"url(#clip092)\" d=\"\nM5509.89 1266.23 L5509.89 1384.24 L5570.78 1384.24 L5570.78 1266.23 L5509.89 1266.23 L5509.89 1266.23  Z\n  \" fill=\"#009af9\" fill-rule=\"evenodd\" fill-opacity=\"1\"/>\n<polyline clip-path=\"url(#clip092)\" style=\"stroke:#000000; stroke-linecap:butt; stroke-linejoin:round; stroke-width:4; stroke-opacity:1; fill:none\" points=\"\n  5509.89,1266.23 5509.89,1384.24 5570.78,1384.24 5570.78,1266.23 5509.89,1266.23 \n  \"/>\n<path clip-path=\"url(#clip092)\" d=\"\nM5570.78 1148.23 L5570.78 1384.24 L5631.66 1384.24 L5631.66 1148.23 L5570.78 1148.23 L5570.78 1148.23  Z\n  \" fill=\"#009af9\" fill-rule=\"evenodd\" fill-opacity=\"1\"/>\n<polyline clip-path=\"url(#clip092)\" style=\"stroke:#000000; stroke-linecap:butt; stroke-linejoin:round; stroke-width:4; stroke-opacity:1; fill:none\" points=\"\n  5570.78,1148.23 5570.78,1384.24 5631.66,1384.24 5631.66,1148.23 5570.78,1148.23 \n  \"/>\n<path clip-path=\"url(#clip092)\" d=\"\nM5631.66 1266.23 L5631.66 1384.24 L5692.55 1384.24 L5692.55 1266.23 L5631.66 1266.23 L5631.66 1266.23  Z\n  \" fill=\"#009af9\" fill-rule=\"evenodd\" fill-opacity=\"1\"/>\n<polyline clip-path=\"url(#clip092)\" style=\"stroke:#000000; stroke-linecap:butt; stroke-linejoin:round; stroke-width:4; stroke-opacity:1; fill:none\" points=\"\n  5631.66,1266.23 5631.66,1384.24 5692.55,1384.24 5692.55,1266.23 5631.66,1266.23 \n  \"/>\n<path clip-path=\"url(#clip092)\" d=\"\nM5692.55 1266.23 L5692.55 1384.24 L5753.44 1384.24 L5753.44 1266.23 L5692.55 1266.23 L5692.55 1266.23  Z\n  \" fill=\"#009af9\" fill-rule=\"evenodd\" fill-opacity=\"1\"/>\n<polyline clip-path=\"url(#clip092)\" style=\"stroke:#000000; stroke-linecap:butt; stroke-linejoin:round; stroke-width:4; stroke-opacity:1; fill:none\" points=\"\n  5692.55,1266.23 5692.55,1384.24 5753.44,1384.24 5753.44,1266.23 5692.55,1266.23 \n  \"/>\n<path clip-path=\"url(#clip092)\" d=\"\nM5753.44 1266.23 L5753.44 1384.24 L5814.33 1384.24 L5814.33 1266.23 L5753.44 1266.23 L5753.44 1266.23  Z\n  \" fill=\"#009af9\" fill-rule=\"evenodd\" fill-opacity=\"1\"/>\n<polyline clip-path=\"url(#clip092)\" style=\"stroke:#000000; stroke-linecap:butt; stroke-linejoin:round; stroke-width:4; stroke-opacity:1; fill:none\" points=\"\n  5753.44,1266.23 5753.44,1384.24 5814.33,1384.24 5814.33,1266.23 5753.44,1266.23 \n  \"/>\n<path clip-path=\"url(#clip092)\" d=\"\nM5814.33 1148.23 L5814.33 1384.24 L5875.22 1384.24 L5875.22 1148.23 L5814.33 1148.23 L5814.33 1148.23  Z\n  \" fill=\"#009af9\" fill-rule=\"evenodd\" fill-opacity=\"1\"/>\n<polyline clip-path=\"url(#clip092)\" style=\"stroke:#000000; stroke-linecap:butt; stroke-linejoin:round; stroke-width:4; stroke-opacity:1; fill:none\" points=\"\n  5814.33,1148.23 5814.33,1384.24 5875.22,1384.24 5875.22,1148.23 5814.33,1148.23 \n  \"/>\n<path clip-path=\"url(#clip092)\" d=\"\nM5875.22 1266.23 L5875.22 1384.24 L5936.11 1384.24 L5936.11 1266.23 L5875.22 1266.23 L5875.22 1266.23  Z\n  \" fill=\"#009af9\" fill-rule=\"evenodd\" fill-opacity=\"1\"/>\n<polyline clip-path=\"url(#clip092)\" style=\"stroke:#000000; stroke-linecap:butt; stroke-linejoin:round; stroke-width:4; stroke-opacity:1; fill:none\" points=\"\n  5875.22,1266.23 5875.22,1384.24 5936.11,1384.24 5936.11,1266.23 5875.22,1266.23 \n  \"/>\n<path clip-path=\"url(#clip092)\" d=\"\nM5936.11 1266.23 L5936.11 1384.24 L5997 1384.24 L5997 1266.23 L5936.11 1266.23 L5936.11 1266.23  Z\n  \" fill=\"#009af9\" fill-rule=\"evenodd\" fill-opacity=\"1\"/>\n<polyline clip-path=\"url(#clip092)\" style=\"stroke:#000000; stroke-linecap:butt; stroke-linejoin:round; stroke-width:4; stroke-opacity:1; fill:none\" points=\"\n  5936.11,1266.23 5936.11,1384.24 5997,1384.24 5997,1266.23 5936.11,1266.23 \n  \"/>\n<path clip-path=\"url(#clip092)\" d=\"\nM5997 1266.23 L5997 1384.24 L6057.89 1384.24 L6057.89 1266.23 L5997 1266.23 L5997 1266.23  Z\n  \" fill=\"#009af9\" fill-rule=\"evenodd\" fill-opacity=\"1\"/>\n<polyline clip-path=\"url(#clip092)\" style=\"stroke:#000000; stroke-linecap:butt; stroke-linejoin:round; stroke-width:4; stroke-opacity:1; fill:none\" points=\"\n  5997,1266.23 5997,1384.24 6057.89,1384.24 6057.89,1266.23 5997,1266.23 \n  \"/>\n<path clip-path=\"url(#clip092)\" d=\"\nM6057.89 1148.23 L6057.89 1384.24 L6118.78 1384.24 L6118.78 1148.23 L6057.89 1148.23 L6057.89 1148.23  Z\n  \" fill=\"#009af9\" fill-rule=\"evenodd\" fill-opacity=\"1\"/>\n<polyline clip-path=\"url(#clip092)\" style=\"stroke:#000000; stroke-linecap:butt; stroke-linejoin:round; stroke-width:4; stroke-opacity:1; fill:none\" points=\"\n  6057.89,1148.23 6057.89,1384.24 6118.78,1384.24 6118.78,1148.23 6057.89,1148.23 \n  \"/>\n<path clip-path=\"url(#clip092)\" d=\"\nM6118.78 1384.24 L6118.78 1384.24 L6179.67 1384.24 L6179.67 1384.24 L6118.78 1384.24 L6118.78 1384.24  Z\n  \" fill=\"#009af9\" fill-rule=\"evenodd\" fill-opacity=\"1\"/>\n<polyline clip-path=\"url(#clip092)\" style=\"stroke:#000000; stroke-linecap:butt; stroke-linejoin:round; stroke-width:4; stroke-opacity:1; fill:none\" points=\"\n  6118.78,1384.24 6118.78,1384.24 6179.67,1384.24 6118.78,1384.24 \n  \"/>\n<path clip-path=\"url(#clip092)\" d=\"\nM6179.67 1266.23 L6179.67 1384.24 L6240.56 1384.24 L6240.56 1266.23 L6179.67 1266.23 L6179.67 1266.23  Z\n  \" fill=\"#009af9\" fill-rule=\"evenodd\" fill-opacity=\"1\"/>\n<polyline clip-path=\"url(#clip092)\" style=\"stroke:#000000; stroke-linecap:butt; stroke-linejoin:round; stroke-width:4; stroke-opacity:1; fill:none\" points=\"\n  6179.67,1266.23 6179.67,1384.24 6240.56,1384.24 6240.56,1266.23 6179.67,1266.23 \n  \"/>\n<path clip-path=\"url(#clip092)\" d=\"\nM6240.56 1384.24 L6240.56 1384.24 L6301.45 1384.24 L6301.45 1384.24 L6240.56 1384.24 L6240.56 1384.24  Z\n  \" fill=\"#009af9\" fill-rule=\"evenodd\" fill-opacity=\"1\"/>\n<polyline clip-path=\"url(#clip092)\" style=\"stroke:#000000; stroke-linecap:butt; stroke-linejoin:round; stroke-width:4; stroke-opacity:1; fill:none\" points=\"\n  6240.56,1384.24 6240.56,1384.24 6301.45,1384.24 6240.56,1384.24 \n  \"/>\n<path clip-path=\"url(#clip092)\" d=\"\nM6301.45 1266.23 L6301.45 1384.24 L6362.34 1384.24 L6362.34 1266.23 L6301.45 1266.23 L6301.45 1266.23  Z\n  \" fill=\"#009af9\" fill-rule=\"evenodd\" fill-opacity=\"1\"/>\n<polyline clip-path=\"url(#clip092)\" style=\"stroke:#000000; stroke-linecap:butt; stroke-linejoin:round; stroke-width:4; stroke-opacity:1; fill:none\" points=\"\n  6301.45,1266.23 6301.45,1384.24 6362.34,1384.24 6362.34,1266.23 6301.45,1266.23 \n  \"/>\n<path clip-path=\"url(#clip092)\" d=\"\nM6362.34 1266.23 L6362.34 1384.24 L6423.23 1384.24 L6423.23 1266.23 L6362.34 1266.23 L6362.34 1266.23  Z\n  \" fill=\"#009af9\" fill-rule=\"evenodd\" fill-opacity=\"1\"/>\n<polyline clip-path=\"url(#clip092)\" style=\"stroke:#000000; stroke-linecap:butt; stroke-linejoin:round; stroke-width:4; stroke-opacity:1; fill:none\" points=\"\n  6362.34,1266.23 6362.34,1384.24 6423.23,1384.24 6423.23,1266.23 6362.34,1266.23 \n  \"/>\n<path clip-path=\"url(#clip092)\" d=\"\nM6423.23 1148.23 L6423.23 1384.24 L6484.12 1384.24 L6484.12 1148.23 L6423.23 1148.23 L6423.23 1148.23  Z\n  \" fill=\"#009af9\" fill-rule=\"evenodd\" fill-opacity=\"1\"/>\n<polyline clip-path=\"url(#clip092)\" style=\"stroke:#000000; stroke-linecap:butt; stroke-linejoin:round; stroke-width:4; stroke-opacity:1; fill:none\" points=\"\n  6423.23,1148.23 6423.23,1384.24 6484.12,1384.24 6484.12,1148.23 6423.23,1148.23 \n  \"/>\n<path clip-path=\"url(#clip092)\" d=\"\nM6484.12 1266.23 L6484.12 1384.24 L6545.01 1384.24 L6545.01 1266.23 L6484.12 1266.23 L6484.12 1266.23  Z\n  \" fill=\"#009af9\" fill-rule=\"evenodd\" fill-opacity=\"1\"/>\n<polyline clip-path=\"url(#clip092)\" style=\"stroke:#000000; stroke-linecap:butt; stroke-linejoin:round; stroke-width:4; stroke-opacity:1; fill:none\" points=\"\n  6484.12,1266.23 6484.12,1384.24 6545.01,1384.24 6545.01,1266.23 6484.12,1266.23 \n  \"/>\n<path clip-path=\"url(#clip092)\" d=\"\nM6545.01 1384.24 L6545.01 1384.24 L6605.9 1384.24 L6605.9 1384.24 L6545.01 1384.24 L6545.01 1384.24  Z\n  \" fill=\"#009af9\" fill-rule=\"evenodd\" fill-opacity=\"1\"/>\n<polyline clip-path=\"url(#clip092)\" style=\"stroke:#000000; stroke-linecap:butt; stroke-linejoin:round; stroke-width:4; stroke-opacity:1; fill:none\" points=\"\n  6545.01,1384.24 6545.01,1384.24 6605.9,1384.24 6545.01,1384.24 \n  \"/>\n<path clip-path=\"url(#clip092)\" d=\"\nM6605.9 1384.24 L6605.9 1384.24 L6666.78 1384.24 L6666.78 1384.24 L6605.9 1384.24 L6605.9 1384.24  Z\n  \" fill=\"#009af9\" fill-rule=\"evenodd\" fill-opacity=\"1\"/>\n<polyline clip-path=\"url(#clip092)\" style=\"stroke:#000000; stroke-linecap:butt; stroke-linejoin:round; stroke-width:4; stroke-opacity:1; fill:none\" points=\"\n  6605.9,1384.24 6605.9,1384.24 6666.78,1384.24 6605.9,1384.24 \n  \"/>\n<path clip-path=\"url(#clip092)\" d=\"\nM6666.78 1384.24 L6666.78 1384.24 L6727.67 1384.24 L6727.67 1384.24 L6666.78 1384.24 L6666.78 1384.24  Z\n  \" fill=\"#009af9\" fill-rule=\"evenodd\" fill-opacity=\"1\"/>\n<polyline clip-path=\"url(#clip092)\" style=\"stroke:#000000; stroke-linecap:butt; stroke-linejoin:round; stroke-width:4; stroke-opacity:1; fill:none\" points=\"\n  6666.78,1384.24 6666.78,1384.24 6727.67,1384.24 6666.78,1384.24 \n  \"/>\n<path clip-path=\"url(#clip092)\" d=\"\nM6727.67 1384.24 L6727.67 1384.24 L6788.56 1384.24 L6788.56 1384.24 L6727.67 1384.24 L6727.67 1384.24  Z\n  \" fill=\"#009af9\" fill-rule=\"evenodd\" fill-opacity=\"1\"/>\n<polyline clip-path=\"url(#clip092)\" style=\"stroke:#000000; stroke-linecap:butt; stroke-linejoin:round; stroke-width:4; stroke-opacity:1; fill:none\" points=\"\n  6727.67,1384.24 6727.67,1384.24 6788.56,1384.24 6727.67,1384.24 \n  \"/>\n<path clip-path=\"url(#clip092)\" d=\"\nM6788.56 1266.23 L6788.56 1384.24 L6849.45 1384.24 L6849.45 1266.23 L6788.56 1266.23 L6788.56 1266.23  Z\n  \" fill=\"#009af9\" fill-rule=\"evenodd\" fill-opacity=\"1\"/>\n<polyline clip-path=\"url(#clip092)\" style=\"stroke:#000000; stroke-linecap:butt; stroke-linejoin:round; stroke-width:4; stroke-opacity:1; fill:none\" points=\"\n  6788.56,1266.23 6788.56,1384.24 6849.45,1384.24 6849.45,1266.23 6788.56,1266.23 \n  \"/>\n<path clip-path=\"url(#clip092)\" d=\"\nM6849.45 1266.23 L6849.45 1384.24 L6910.34 1384.24 L6910.34 1266.23 L6849.45 1266.23 L6849.45 1266.23  Z\n  \" fill=\"#009af9\" fill-rule=\"evenodd\" fill-opacity=\"1\"/>\n<polyline clip-path=\"url(#clip092)\" style=\"stroke:#000000; stroke-linecap:butt; stroke-linejoin:round; stroke-width:4; stroke-opacity:1; fill:none\" points=\"\n  6849.45,1266.23 6849.45,1384.24 6910.34,1384.24 6910.34,1266.23 6849.45,1266.23 \n  \"/>\n<path clip-path=\"url(#clip092)\" d=\"\nM6910.34 1266.23 L6910.34 1384.24 L6971.23 1384.24 L6971.23 1266.23 L6910.34 1266.23 L6910.34 1266.23  Z\n  \" fill=\"#009af9\" fill-rule=\"evenodd\" fill-opacity=\"1\"/>\n<polyline clip-path=\"url(#clip092)\" style=\"stroke:#000000; stroke-linecap:butt; stroke-linejoin:round; stroke-width:4; stroke-opacity:1; fill:none\" points=\"\n  6910.34,1266.23 6910.34,1384.24 6971.23,1384.24 6971.23,1266.23 6910.34,1266.23 \n  \"/>\n<path clip-path=\"url(#clip092)\" d=\"\nM6971.23 1384.24 L6971.23 1384.24 L7032.12 1384.24 L7032.12 1384.24 L6971.23 1384.24 L6971.23 1384.24  Z\n  \" fill=\"#009af9\" fill-rule=\"evenodd\" fill-opacity=\"1\"/>\n<polyline clip-path=\"url(#clip092)\" style=\"stroke:#000000; stroke-linecap:butt; stroke-linejoin:round; stroke-width:4; stroke-opacity:1; fill:none\" points=\"\n  6971.23,1384.24 6971.23,1384.24 7032.12,1384.24 6971.23,1384.24 \n  \"/>\n<path clip-path=\"url(#clip092)\" d=\"\nM7032.12 1384.24 L7032.12 1384.24 L7093.01 1384.24 L7093.01 1384.24 L7032.12 1384.24 L7032.12 1384.24  Z\n  \" fill=\"#009af9\" fill-rule=\"evenodd\" fill-opacity=\"1\"/>\n<polyline clip-path=\"url(#clip092)\" style=\"stroke:#000000; stroke-linecap:butt; stroke-linejoin:round; stroke-width:4; stroke-opacity:1; fill:none\" points=\"\n  7032.12,1384.24 7032.12,1384.24 7093.01,1384.24 7032.12,1384.24 \n  \"/>\n<path clip-path=\"url(#clip092)\" d=\"\nM7093.01 1266.23 L7093.01 1384.24 L7153.9 1384.24 L7153.9 1266.23 L7093.01 1266.23 L7093.01 1266.23  Z\n  \" fill=\"#009af9\" fill-rule=\"evenodd\" fill-opacity=\"1\"/>\n<polyline clip-path=\"url(#clip092)\" style=\"stroke:#000000; stroke-linecap:butt; stroke-linejoin:round; stroke-width:4; stroke-opacity:1; fill:none\" points=\"\n  7093.01,1266.23 7093.01,1384.24 7153.9,1384.24 7153.9,1266.23 7093.01,1266.23 \n  \"/>\n<path clip-path=\"url(#clip092)\" d=\"\nM7153.9 1148.23 L7153.9 1384.24 L7214.79 1384.24 L7214.79 1148.23 L7153.9 1148.23 L7153.9 1148.23  Z\n  \" fill=\"#009af9\" fill-rule=\"evenodd\" fill-opacity=\"1\"/>\n<polyline clip-path=\"url(#clip092)\" style=\"stroke:#000000; stroke-linecap:butt; stroke-linejoin:round; stroke-width:4; stroke-opacity:1; fill:none\" points=\"\n  7153.9,1148.23 7153.9,1384.24 7214.79,1384.24 7214.79,1148.23 7153.9,1148.23 \n  \"/>\n<path clip-path=\"url(#clip092)\" d=\"\nM7214.79 1384.24 L7214.79 1384.24 L7275.68 1384.24 L7275.68 1384.24 L7214.79 1384.24 L7214.79 1384.24  Z\n  \" fill=\"#009af9\" fill-rule=\"evenodd\" fill-opacity=\"1\"/>\n<polyline clip-path=\"url(#clip092)\" style=\"stroke:#000000; stroke-linecap:butt; stroke-linejoin:round; stroke-width:4; stroke-opacity:1; fill:none\" points=\"\n  7214.79,1384.24 7214.79,1384.24 7275.68,1384.24 7214.79,1384.24 \n  \"/>\n<path clip-path=\"url(#clip092)\" d=\"\nM7275.68 1384.24 L7275.68 1384.24 L7336.57 1384.24 L7336.57 1384.24 L7275.68 1384.24 L7275.68 1384.24  Z\n  \" fill=\"#009af9\" fill-rule=\"evenodd\" fill-opacity=\"1\"/>\n<polyline clip-path=\"url(#clip092)\" style=\"stroke:#000000; stroke-linecap:butt; stroke-linejoin:round; stroke-width:4; stroke-opacity:1; fill:none\" points=\"\n  7275.68,1384.24 7275.68,1384.24 7336.57,1384.24 7275.68,1384.24 \n  \"/>\n<path clip-path=\"url(#clip092)\" d=\"\nM7336.57 1384.24 L7336.57 1384.24 L7397.46 1384.24 L7397.46 1384.24 L7336.57 1384.24 L7336.57 1384.24  Z\n  \" fill=\"#009af9\" fill-rule=\"evenodd\" fill-opacity=\"1\"/>\n<polyline clip-path=\"url(#clip092)\" style=\"stroke:#000000; stroke-linecap:butt; stroke-linejoin:round; stroke-width:4; stroke-opacity:1; fill:none\" points=\"\n  7336.57,1384.24 7336.57,1384.24 7397.46,1384.24 7336.57,1384.24 \n  \"/>\n<path clip-path=\"url(#clip092)\" d=\"\nM7397.46 1384.24 L7397.46 1384.24 L7458.35 1384.24 L7458.35 1384.24 L7397.46 1384.24 L7397.46 1384.24  Z\n  \" fill=\"#009af9\" fill-rule=\"evenodd\" fill-opacity=\"1\"/>\n<polyline clip-path=\"url(#clip092)\" style=\"stroke:#000000; stroke-linecap:butt; stroke-linejoin:round; stroke-width:4; stroke-opacity:1; fill:none\" points=\"\n  7397.46,1384.24 7397.46,1384.24 7458.35,1384.24 7397.46,1384.24 \n  \"/>\n<path clip-path=\"url(#clip092)\" d=\"\nM7458.35 1384.24 L7458.35 1384.24 L7519.24 1384.24 L7519.24 1384.24 L7458.35 1384.24 L7458.35 1384.24  Z\n  \" fill=\"#009af9\" fill-rule=\"evenodd\" fill-opacity=\"1\"/>\n<polyline clip-path=\"url(#clip092)\" style=\"stroke:#000000; stroke-linecap:butt; stroke-linejoin:round; stroke-width:4; stroke-opacity:1; fill:none\" points=\"\n  7458.35,1384.24 7458.35,1384.24 7519.24,1384.24 7458.35,1384.24 \n  \"/>\n<path clip-path=\"url(#clip092)\" d=\"\nM7519.24 1266.23 L7519.24 1384.24 L7580.13 1384.24 L7580.13 1266.23 L7519.24 1266.23 L7519.24 1266.23  Z\n  \" fill=\"#009af9\" fill-rule=\"evenodd\" fill-opacity=\"1\"/>\n<polyline clip-path=\"url(#clip092)\" style=\"stroke:#000000; stroke-linecap:butt; stroke-linejoin:round; stroke-width:4; stroke-opacity:1; fill:none\" points=\"\n  7519.24,1266.23 7519.24,1384.24 7580.13,1384.24 7580.13,1266.23 7519.24,1266.23 \n  \"/>\n<path clip-path=\"url(#clip092)\" d=\"\nM7580.13 1384.24 L7580.13 1384.24 L7641.01 1384.24 L7641.01 1384.24 L7580.13 1384.24 L7580.13 1384.24  Z\n  \" fill=\"#009af9\" fill-rule=\"evenodd\" fill-opacity=\"1\"/>\n<polyline clip-path=\"url(#clip092)\" style=\"stroke:#000000; stroke-linecap:butt; stroke-linejoin:round; stroke-width:4; stroke-opacity:1; fill:none\" points=\"\n  7580.13,1384.24 7580.13,1384.24 7641.01,1384.24 7580.13,1384.24 \n  \"/>\n<path clip-path=\"url(#clip092)\" d=\"\nM7641.01 1266.23 L7641.01 1384.24 L7701.9 1384.24 L7701.9 1266.23 L7641.01 1266.23 L7641.01 1266.23  Z\n  \" fill=\"#009af9\" fill-rule=\"evenodd\" fill-opacity=\"1\"/>\n<polyline clip-path=\"url(#clip092)\" style=\"stroke:#000000; stroke-linecap:butt; stroke-linejoin:round; stroke-width:4; stroke-opacity:1; fill:none\" points=\"\n  7641.01,1266.23 7641.01,1384.24 7701.9,1384.24 7701.9,1266.23 7641.01,1266.23 \n  \"/>\n<path clip-path=\"url(#clip092)\" d=\"\nM7701.9 1384.24 L7701.9 1384.24 L7762.79 1384.24 L7762.79 1384.24 L7701.9 1384.24 L7701.9 1384.24  Z\n  \" fill=\"#009af9\" fill-rule=\"evenodd\" fill-opacity=\"1\"/>\n<polyline clip-path=\"url(#clip092)\" style=\"stroke:#000000; stroke-linecap:butt; stroke-linejoin:round; stroke-width:4; stroke-opacity:1; fill:none\" points=\"\n  7701.9,1384.24 7701.9,1384.24 7762.79,1384.24 7701.9,1384.24 \n  \"/>\n<path clip-path=\"url(#clip092)\" d=\"\nM7762.79 1384.24 L7762.79 1384.24 L7823.68 1384.24 L7823.68 1384.24 L7762.79 1384.24 L7762.79 1384.24  Z\n  \" fill=\"#009af9\" fill-rule=\"evenodd\" fill-opacity=\"1\"/>\n<polyline clip-path=\"url(#clip092)\" style=\"stroke:#000000; stroke-linecap:butt; stroke-linejoin:round; stroke-width:4; stroke-opacity:1; fill:none\" points=\"\n  7762.79,1384.24 7762.79,1384.24 7823.68,1384.24 7762.79,1384.24 \n  \"/>\n<path clip-path=\"url(#clip092)\" d=\"\nM7823.68 1384.24 L7823.68 1384.24 L7884.57 1384.24 L7884.57 1384.24 L7823.68 1384.24 L7823.68 1384.24  Z\n  \" fill=\"#009af9\" fill-rule=\"evenodd\" fill-opacity=\"1\"/>\n<polyline clip-path=\"url(#clip092)\" style=\"stroke:#000000; stroke-linecap:butt; stroke-linejoin:round; stroke-width:4; stroke-opacity:1; fill:none\" points=\"\n  7823.68,1384.24 7823.68,1384.24 7884.57,1384.24 7823.68,1384.24 \n  \"/>\n<path clip-path=\"url(#clip092)\" d=\"\nM7884.57 1384.24 L7884.57 1384.24 L7945.46 1384.24 L7945.46 1384.24 L7884.57 1384.24 L7884.57 1384.24  Z\n  \" fill=\"#009af9\" fill-rule=\"evenodd\" fill-opacity=\"1\"/>\n<polyline clip-path=\"url(#clip092)\" style=\"stroke:#000000; stroke-linecap:butt; stroke-linejoin:round; stroke-width:4; stroke-opacity:1; fill:none\" points=\"\n  7884.57,1384.24 7884.57,1384.24 7945.46,1384.24 7884.57,1384.24 \n  \"/>\n<path clip-path=\"url(#clip092)\" d=\"\nM7945.46 1384.24 L7945.46 1384.24 L8006.35 1384.24 L8006.35 1384.24 L7945.46 1384.24 L7945.46 1384.24  Z\n  \" fill=\"#009af9\" fill-rule=\"evenodd\" fill-opacity=\"1\"/>\n<polyline clip-path=\"url(#clip092)\" style=\"stroke:#000000; stroke-linecap:butt; stroke-linejoin:round; stroke-width:4; stroke-opacity:1; fill:none\" points=\"\n  7945.46,1384.24 7945.46,1384.24 8006.35,1384.24 7945.46,1384.24 \n  \"/>\n<path clip-path=\"url(#clip092)\" d=\"\nM8006.35 1384.24 L8006.35 1384.24 L8067.24 1384.24 L8067.24 1384.24 L8006.35 1384.24 L8006.35 1384.24  Z\n  \" fill=\"#009af9\" fill-rule=\"evenodd\" fill-opacity=\"1\"/>\n<polyline clip-path=\"url(#clip092)\" style=\"stroke:#000000; stroke-linecap:butt; stroke-linejoin:round; stroke-width:4; stroke-opacity:1; fill:none\" points=\"\n  8006.35,1384.24 8006.35,1384.24 8067.24,1384.24 8006.35,1384.24 \n  \"/>\n<path clip-path=\"url(#clip092)\" d=\"\nM8067.24 1384.24 L8067.24 1384.24 L8128.13 1384.24 L8128.13 1384.24 L8067.24 1384.24 L8067.24 1384.24  Z\n  \" fill=\"#009af9\" fill-rule=\"evenodd\" fill-opacity=\"1\"/>\n<polyline clip-path=\"url(#clip092)\" style=\"stroke:#000000; stroke-linecap:butt; stroke-linejoin:round; stroke-width:4; stroke-opacity:1; fill:none\" points=\"\n  8067.24,1384.24 8067.24,1384.24 8128.13,1384.24 8067.24,1384.24 \n  \"/>\n<path clip-path=\"url(#clip092)\" d=\"\nM8128.13 1384.24 L8128.13 1384.24 L8189.02 1384.24 L8189.02 1384.24 L8128.13 1384.24 L8128.13 1384.24  Z\n  \" fill=\"#009af9\" fill-rule=\"evenodd\" fill-opacity=\"1\"/>\n<polyline clip-path=\"url(#clip092)\" style=\"stroke:#000000; stroke-linecap:butt; stroke-linejoin:round; stroke-width:4; stroke-opacity:1; fill:none\" points=\"\n  8128.13,1384.24 8128.13,1384.24 8189.02,1384.24 8128.13,1384.24 \n  \"/>\n<path clip-path=\"url(#clip092)\" d=\"\nM8189.02 1384.24 L8189.02 1384.24 L8249.91 1384.24 L8249.91 1384.24 L8189.02 1384.24 L8189.02 1384.24  Z\n  \" fill=\"#009af9\" fill-rule=\"evenodd\" fill-opacity=\"1\"/>\n<polyline clip-path=\"url(#clip092)\" style=\"stroke:#000000; stroke-linecap:butt; stroke-linejoin:round; stroke-width:4; stroke-opacity:1; fill:none\" points=\"\n  8189.02,1384.24 8189.02,1384.24 8249.91,1384.24 8189.02,1384.24 \n  \"/>\n<path clip-path=\"url(#clip092)\" d=\"\nM8249.91 1266.23 L8249.91 1384.24 L8310.8 1384.24 L8310.8 1266.23 L8249.91 1266.23 L8249.91 1266.23  Z\n  \" fill=\"#009af9\" fill-rule=\"evenodd\" fill-opacity=\"1\"/>\n<polyline clip-path=\"url(#clip092)\" style=\"stroke:#000000; stroke-linecap:butt; stroke-linejoin:round; stroke-width:4; stroke-opacity:1; fill:none\" points=\"\n  8249.91,1266.23 8249.91,1384.24 8310.8,1384.24 8310.8,1266.23 8249.91,1266.23 \n  \"/>\n<path clip-path=\"url(#clip092)\" d=\"\nM8310.8 1384.24 L8310.8 1384.24 L8371.69 1384.24 L8371.69 1384.24 L8310.8 1384.24 L8310.8 1384.24  Z\n  \" fill=\"#009af9\" fill-rule=\"evenodd\" fill-opacity=\"1\"/>\n<polyline clip-path=\"url(#clip092)\" style=\"stroke:#000000; stroke-linecap:butt; stroke-linejoin:round; stroke-width:4; stroke-opacity:1; fill:none\" points=\"\n  8310.8,1384.24 8310.8,1384.24 8371.69,1384.24 8310.8,1384.24 \n  \"/>\n<path clip-path=\"url(#clip092)\" d=\"\nM8371.69 1384.24 L8371.69 1384.24 L8432.58 1384.24 L8432.58 1384.24 L8371.69 1384.24 L8371.69 1384.24  Z\n  \" fill=\"#009af9\" fill-rule=\"evenodd\" fill-opacity=\"1\"/>\n<polyline clip-path=\"url(#clip092)\" style=\"stroke:#000000; stroke-linecap:butt; stroke-linejoin:round; stroke-width:4; stroke-opacity:1; fill:none\" points=\"\n  8371.69,1384.24 8371.69,1384.24 8432.58,1384.24 8371.69,1384.24 \n  \"/>\n<path clip-path=\"url(#clip092)\" d=\"\nM8432.58 1384.24 L8432.58 1384.24 L8493.47 1384.24 L8493.47 1384.24 L8432.58 1384.24 L8432.58 1384.24  Z\n  \" fill=\"#009af9\" fill-rule=\"evenodd\" fill-opacity=\"1\"/>\n<polyline clip-path=\"url(#clip092)\" style=\"stroke:#000000; stroke-linecap:butt; stroke-linejoin:round; stroke-width:4; stroke-opacity:1; fill:none\" points=\"\n  8432.58,1384.24 8432.58,1384.24 8493.47,1384.24 8432.58,1384.24 \n  \"/>\n<path clip-path=\"url(#clip092)\" d=\"\nM8493.47 1384.24 L8493.47 1384.24 L8554.36 1384.24 L8554.36 1384.24 L8493.47 1384.24 L8493.47 1384.24  Z\n  \" fill=\"#009af9\" fill-rule=\"evenodd\" fill-opacity=\"1\"/>\n<polyline clip-path=\"url(#clip092)\" style=\"stroke:#000000; stroke-linecap:butt; stroke-linejoin:round; stroke-width:4; stroke-opacity:1; fill:none\" points=\"\n  8493.47,1384.24 8493.47,1384.24 8554.36,1384.24 8493.47,1384.24 \n  \"/>\n<path clip-path=\"url(#clip092)\" d=\"\nM8554.36 1266.23 L8554.36 1384.24 L8615.25 1384.24 L8615.25 1266.23 L8554.36 1266.23 L8554.36 1266.23  Z\n  \" fill=\"#009af9\" fill-rule=\"evenodd\" fill-opacity=\"1\"/>\n<polyline clip-path=\"url(#clip092)\" style=\"stroke:#000000; stroke-linecap:butt; stroke-linejoin:round; stroke-width:4; stroke-opacity:1; fill:none\" points=\"\n  8554.36,1266.23 8554.36,1384.24 8615.25,1384.24 8615.25,1266.23 8554.36,1266.23 \n  \"/>\n<path clip-path=\"url(#clip092)\" d=\"\nM8615.25 1384.24 L8615.25 1384.24 L8676.13 1384.24 L8676.13 1384.24 L8615.25 1384.24 L8615.25 1384.24  Z\n  \" fill=\"#009af9\" fill-rule=\"evenodd\" fill-opacity=\"1\"/>\n<polyline clip-path=\"url(#clip092)\" style=\"stroke:#000000; stroke-linecap:butt; stroke-linejoin:round; stroke-width:4; stroke-opacity:1; fill:none\" points=\"\n  8615.25,1384.24 8615.25,1384.24 8676.13,1384.24 8615.25,1384.24 \n  \"/>\n<path clip-path=\"url(#clip092)\" d=\"\nM8676.13 1384.24 L8676.13 1384.24 L8737.02 1384.24 L8737.02 1384.24 L8676.13 1384.24 L8676.13 1384.24  Z\n  \" fill=\"#009af9\" fill-rule=\"evenodd\" fill-opacity=\"1\"/>\n<polyline clip-path=\"url(#clip092)\" style=\"stroke:#000000; stroke-linecap:butt; stroke-linejoin:round; stroke-width:4; stroke-opacity:1; fill:none\" points=\"\n  8676.13,1384.24 8676.13,1384.24 8737.02,1384.24 8676.13,1384.24 \n  \"/>\n<path clip-path=\"url(#clip092)\" d=\"\nM8737.02 1384.24 L8737.02 1384.24 L8797.91 1384.24 L8797.91 1384.24 L8737.02 1384.24 L8737.02 1384.24  Z\n  \" fill=\"#009af9\" fill-rule=\"evenodd\" fill-opacity=\"1\"/>\n<polyline clip-path=\"url(#clip092)\" style=\"stroke:#000000; stroke-linecap:butt; stroke-linejoin:round; stroke-width:4; stroke-opacity:1; fill:none\" points=\"\n  8737.02,1384.24 8737.02,1384.24 8797.91,1384.24 8737.02,1384.24 \n  \"/>\n<path clip-path=\"url(#clip092)\" d=\"\nM8797.91 1384.24 L8797.91 1384.24 L8858.8 1384.24 L8858.8 1384.24 L8797.91 1384.24 L8797.91 1384.24  Z\n  \" fill=\"#009af9\" fill-rule=\"evenodd\" fill-opacity=\"1\"/>\n<polyline clip-path=\"url(#clip092)\" style=\"stroke:#000000; stroke-linecap:butt; stroke-linejoin:round; stroke-width:4; stroke-opacity:1; fill:none\" points=\"\n  8797.91,1384.24 8797.91,1384.24 8858.8,1384.24 8797.91,1384.24 \n  \"/>\n<path clip-path=\"url(#clip092)\" d=\"\nM8858.8 1384.24 L8858.8 1384.24 L8919.69 1384.24 L8919.69 1384.24 L8858.8 1384.24 L8858.8 1384.24  Z\n  \" fill=\"#009af9\" fill-rule=\"evenodd\" fill-opacity=\"1\"/>\n<polyline clip-path=\"url(#clip092)\" style=\"stroke:#000000; stroke-linecap:butt; stroke-linejoin:round; stroke-width:4; stroke-opacity:1; fill:none\" points=\"\n  8858.8,1384.24 8858.8,1384.24 8919.69,1384.24 8858.8,1384.24 \n  \"/>\n<path clip-path=\"url(#clip092)\" d=\"\nM8919.69 1384.24 L8919.69 1384.24 L8980.58 1384.24 L8980.58 1384.24 L8919.69 1384.24 L8919.69 1384.24  Z\n  \" fill=\"#009af9\" fill-rule=\"evenodd\" fill-opacity=\"1\"/>\n<polyline clip-path=\"url(#clip092)\" style=\"stroke:#000000; stroke-linecap:butt; stroke-linejoin:round; stroke-width:4; stroke-opacity:1; fill:none\" points=\"\n  8919.69,1384.24 8919.69,1384.24 8980.58,1384.24 8919.69,1384.24 \n  \"/>\n<path clip-path=\"url(#clip092)\" d=\"\nM8980.58 1384.24 L8980.58 1384.24 L9041.47 1384.24 L9041.47 1384.24 L8980.58 1384.24 L8980.58 1384.24  Z\n  \" fill=\"#009af9\" fill-rule=\"evenodd\" fill-opacity=\"1\"/>\n<polyline clip-path=\"url(#clip092)\" style=\"stroke:#000000; stroke-linecap:butt; stroke-linejoin:round; stroke-width:4; stroke-opacity:1; fill:none\" points=\"\n  8980.58,1384.24 8980.58,1384.24 9041.47,1384.24 8980.58,1384.24 \n  \"/>\n<path clip-path=\"url(#clip092)\" d=\"\nM9041.47 1384.24 L9041.47 1384.24 L9102.36 1384.24 L9102.36 1384.24 L9041.47 1384.24 L9041.47 1384.24  Z\n  \" fill=\"#009af9\" fill-rule=\"evenodd\" fill-opacity=\"1\"/>\n<polyline clip-path=\"url(#clip092)\" style=\"stroke:#000000; stroke-linecap:butt; stroke-linejoin:round; stroke-width:4; stroke-opacity:1; fill:none\" points=\"\n  9041.47,1384.24 9041.47,1384.24 9102.36,1384.24 9041.47,1384.24 \n  \"/>\n<path clip-path=\"url(#clip092)\" d=\"\nM9102.36 1384.24 L9102.36 1384.24 L9163.25 1384.24 L9163.25 1384.24 L9102.36 1384.24 L9102.36 1384.24  Z\n  \" fill=\"#009af9\" fill-rule=\"evenodd\" fill-opacity=\"1\"/>\n<polyline clip-path=\"url(#clip092)\" style=\"stroke:#000000; stroke-linecap:butt; stroke-linejoin:round; stroke-width:4; stroke-opacity:1; fill:none\" points=\"\n  9102.36,1384.24 9102.36,1384.24 9163.25,1384.24 9102.36,1384.24 \n  \"/>\n<path clip-path=\"url(#clip092)\" d=\"\nM9163.25 1384.24 L9163.25 1384.24 L9224.14 1384.24 L9224.14 1384.24 L9163.25 1384.24 L9163.25 1384.24  Z\n  \" fill=\"#009af9\" fill-rule=\"evenodd\" fill-opacity=\"1\"/>\n<polyline clip-path=\"url(#clip092)\" style=\"stroke:#000000; stroke-linecap:butt; stroke-linejoin:round; stroke-width:4; stroke-opacity:1; fill:none\" points=\"\n  9163.25,1384.24 9163.25,1384.24 9224.14,1384.24 9163.25,1384.24 \n  \"/>\n<path clip-path=\"url(#clip092)\" d=\"\nM9224.14 1384.24 L9224.14 1384.24 L9285.03 1384.24 L9285.03 1384.24 L9224.14 1384.24 L9224.14 1384.24  Z\n  \" fill=\"#009af9\" fill-rule=\"evenodd\" fill-opacity=\"1\"/>\n<polyline clip-path=\"url(#clip092)\" style=\"stroke:#000000; stroke-linecap:butt; stroke-linejoin:round; stroke-width:4; stroke-opacity:1; fill:none\" points=\"\n  9224.14,1384.24 9224.14,1384.24 9285.03,1384.24 9224.14,1384.24 \n  \"/>\n<path clip-path=\"url(#clip092)\" d=\"\nM9285.03 1384.24 L9285.03 1384.24 L9345.92 1384.24 L9345.92 1384.24 L9285.03 1384.24 L9285.03 1384.24  Z\n  \" fill=\"#009af9\" fill-rule=\"evenodd\" fill-opacity=\"1\"/>\n<polyline clip-path=\"url(#clip092)\" style=\"stroke:#000000; stroke-linecap:butt; stroke-linejoin:round; stroke-width:4; stroke-opacity:1; fill:none\" points=\"\n  9285.03,1384.24 9285.03,1384.24 9345.92,1384.24 9285.03,1384.24 \n  \"/>\n<path clip-path=\"url(#clip092)\" d=\"\nM9345.92 1384.24 L9345.92 1384.24 L9406.81 1384.24 L9406.81 1384.24 L9345.92 1384.24 L9345.92 1384.24  Z\n  \" fill=\"#009af9\" fill-rule=\"evenodd\" fill-opacity=\"1\"/>\n<polyline clip-path=\"url(#clip092)\" style=\"stroke:#000000; stroke-linecap:butt; stroke-linejoin:round; stroke-width:4; stroke-opacity:1; fill:none\" points=\"\n  9345.92,1384.24 9345.92,1384.24 9406.81,1384.24 9345.92,1384.24 \n  \"/>\n<path clip-path=\"url(#clip092)\" d=\"\nM9406.81 1384.24 L9406.81 1384.24 L9467.7 1384.24 L9467.7 1384.24 L9406.81 1384.24 L9406.81 1384.24  Z\n  \" fill=\"#009af9\" fill-rule=\"evenodd\" fill-opacity=\"1\"/>\n<polyline clip-path=\"url(#clip092)\" style=\"stroke:#000000; stroke-linecap:butt; stroke-linejoin:round; stroke-width:4; stroke-opacity:1; fill:none\" points=\"\n  9406.81,1384.24 9406.81,1384.24 9467.7,1384.24 9406.81,1384.24 \n  \"/>\n<path clip-path=\"url(#clip092)\" d=\"\nM9467.7 1384.24 L9467.7 1384.24 L9528.59 1384.24 L9528.59 1384.24 L9467.7 1384.24 L9467.7 1384.24  Z\n  \" fill=\"#009af9\" fill-rule=\"evenodd\" fill-opacity=\"1\"/>\n<polyline clip-path=\"url(#clip092)\" style=\"stroke:#000000; stroke-linecap:butt; stroke-linejoin:round; stroke-width:4; stroke-opacity:1; fill:none\" points=\"\n  9467.7,1384.24 9467.7,1384.24 9528.59,1384.24 9467.7,1384.24 \n  \"/>\n<path clip-path=\"url(#clip092)\" d=\"\nM9528.59 1384.24 L9528.59 1384.24 L9589.48 1384.24 L9589.48 1384.24 L9528.59 1384.24 L9528.59 1384.24  Z\n  \" fill=\"#009af9\" fill-rule=\"evenodd\" fill-opacity=\"1\"/>\n<polyline clip-path=\"url(#clip092)\" style=\"stroke:#000000; stroke-linecap:butt; stroke-linejoin:round; stroke-width:4; stroke-opacity:1; fill:none\" points=\"\n  9528.59,1384.24 9528.59,1384.24 9589.48,1384.24 9528.59,1384.24 \n  \"/>\n<path clip-path=\"url(#clip092)\" d=\"\nM9589.48 1384.24 L9589.48 1384.24 L9650.36 1384.24 L9650.36 1384.24 L9589.48 1384.24 L9589.48 1384.24  Z\n  \" fill=\"#009af9\" fill-rule=\"evenodd\" fill-opacity=\"1\"/>\n<polyline clip-path=\"url(#clip092)\" style=\"stroke:#000000; stroke-linecap:butt; stroke-linejoin:round; stroke-width:4; stroke-opacity:1; fill:none\" points=\"\n  9589.48,1384.24 9589.48,1384.24 9650.36,1384.24 9589.48,1384.24 \n  \"/>\n<path clip-path=\"url(#clip092)\" d=\"\nM9650.36 1384.24 L9650.36 1384.24 L9711.25 1384.24 L9711.25 1384.24 L9650.36 1384.24 L9650.36 1384.24  Z\n  \" fill=\"#009af9\" fill-rule=\"evenodd\" fill-opacity=\"1\"/>\n<polyline clip-path=\"url(#clip092)\" style=\"stroke:#000000; stroke-linecap:butt; stroke-linejoin:round; stroke-width:4; stroke-opacity:1; fill:none\" points=\"\n  9650.36,1384.24 9650.36,1384.24 9711.25,1384.24 9650.36,1384.24 \n  \"/>\n<path clip-path=\"url(#clip092)\" d=\"\nM9711.25 1384.24 L9711.25 1384.24 L9772.14 1384.24 L9772.14 1384.24 L9711.25 1384.24 L9711.25 1384.24  Z\n  \" fill=\"#009af9\" fill-rule=\"evenodd\" fill-opacity=\"1\"/>\n<polyline clip-path=\"url(#clip092)\" style=\"stroke:#000000; stroke-linecap:butt; stroke-linejoin:round; stroke-width:4; stroke-opacity:1; fill:none\" points=\"\n  9711.25,1384.24 9711.25,1384.24 9772.14,1384.24 9711.25,1384.24 \n  \"/>\n<path clip-path=\"url(#clip092)\" d=\"\nM9772.14 1384.24 L9772.14 1384.24 L9833.03 1384.24 L9833.03 1384.24 L9772.14 1384.24 L9772.14 1384.24  Z\n  \" fill=\"#009af9\" fill-rule=\"evenodd\" fill-opacity=\"1\"/>\n<polyline clip-path=\"url(#clip092)\" style=\"stroke:#000000; stroke-linecap:butt; stroke-linejoin:round; stroke-width:4; stroke-opacity:1; fill:none\" points=\"\n  9772.14,1384.24 9772.14,1384.24 9833.03,1384.24 9772.14,1384.24 \n  \"/>\n<path clip-path=\"url(#clip092)\" d=\"\nM9833.03 1266.23 L9833.03 1384.24 L9893.92 1384.24 L9893.92 1266.23 L9833.03 1266.23 L9833.03 1266.23  Z\n  \" fill=\"#009af9\" fill-rule=\"evenodd\" fill-opacity=\"1\"/>\n<polyline clip-path=\"url(#clip092)\" style=\"stroke:#000000; stroke-linecap:butt; stroke-linejoin:round; stroke-width:4; stroke-opacity:1; fill:none\" points=\"\n  9833.03,1266.23 9833.03,1384.24 9893.92,1384.24 9893.92,1266.23 9833.03,1266.23 \n  \"/>\n<path clip-path=\"url(#clip092)\" d=\"\nM9893.92 1384.24 L9893.92 1384.24 L9954.81 1384.24 L9954.81 1384.24 L9893.92 1384.24 L9893.92 1384.24  Z\n  \" fill=\"#009af9\" fill-rule=\"evenodd\" fill-opacity=\"1\"/>\n<polyline clip-path=\"url(#clip092)\" style=\"stroke:#000000; stroke-linecap:butt; stroke-linejoin:round; stroke-width:4; stroke-opacity:1; fill:none\" points=\"\n  9893.92,1384.24 9893.92,1384.24 9954.81,1384.24 9893.92,1384.24 \n  \"/>\n<path clip-path=\"url(#clip092)\" d=\"\nM9954.81 1384.24 L9954.81 1384.24 L10015.7 1384.24 L10015.7 1384.24 L9954.81 1384.24 L9954.81 1384.24  Z\n  \" fill=\"#009af9\" fill-rule=\"evenodd\" fill-opacity=\"1\"/>\n<polyline clip-path=\"url(#clip092)\" style=\"stroke:#000000; stroke-linecap:butt; stroke-linejoin:round; stroke-width:4; stroke-opacity:1; fill:none\" points=\"\n  9954.81,1384.24 9954.81,1384.24 10015.7,1384.24 9954.81,1384.24 \n  \"/>\n<path clip-path=\"url(#clip092)\" d=\"\nM10015.7 1384.24 L10015.7 1384.24 L10076.6 1384.24 L10076.6 1384.24 L10015.7 1384.24 L10015.7 1384.24  Z\n  \" fill=\"#009af9\" fill-rule=\"evenodd\" fill-opacity=\"1\"/>\n<polyline clip-path=\"url(#clip092)\" style=\"stroke:#000000; stroke-linecap:butt; stroke-linejoin:round; stroke-width:4; stroke-opacity:1; fill:none\" points=\"\n  10015.7,1384.24 10015.7,1384.24 10076.6,1384.24 10015.7,1384.24 \n  \"/>\n<path clip-path=\"url(#clip092)\" d=\"\nM10076.6 1384.24 L10076.6 1384.24 L10137.5 1384.24 L10137.5 1384.24 L10076.6 1384.24 L10076.6 1384.24  Z\n  \" fill=\"#009af9\" fill-rule=\"evenodd\" fill-opacity=\"1\"/>\n<polyline clip-path=\"url(#clip092)\" style=\"stroke:#000000; stroke-linecap:butt; stroke-linejoin:round; stroke-width:4; stroke-opacity:1; fill:none\" points=\"\n  10076.6,1384.24 10076.6,1384.24 10137.5,1384.24 10076.6,1384.24 \n  \"/>\n<path clip-path=\"url(#clip092)\" d=\"\nM10137.5 1384.24 L10137.5 1384.24 L10198.4 1384.24 L10198.4 1384.24 L10137.5 1384.24 L10137.5 1384.24  Z\n  \" fill=\"#009af9\" fill-rule=\"evenodd\" fill-opacity=\"1\"/>\n<polyline clip-path=\"url(#clip092)\" style=\"stroke:#000000; stroke-linecap:butt; stroke-linejoin:round; stroke-width:4; stroke-opacity:1; fill:none\" points=\"\n  10137.5,1384.24 10137.5,1384.24 10198.4,1384.24 10137.5,1384.24 \n  \"/>\n<path clip-path=\"url(#clip092)\" d=\"\nM10198.4 1384.24 L10198.4 1384.24 L10259.3 1384.24 L10259.3 1384.24 L10198.4 1384.24 L10198.4 1384.24  Z\n  \" fill=\"#009af9\" fill-rule=\"evenodd\" fill-opacity=\"1\"/>\n<polyline clip-path=\"url(#clip092)\" style=\"stroke:#000000; stroke-linecap:butt; stroke-linejoin:round; stroke-width:4; stroke-opacity:1; fill:none\" points=\"\n  10198.4,1384.24 10198.4,1384.24 10259.3,1384.24 10198.4,1384.24 \n  \"/>\n<path clip-path=\"url(#clip092)\" d=\"\nM10259.3 1384.24 L10259.3 1384.24 L10320.1 1384.24 L10320.1 1384.24 L10259.3 1384.24 L10259.3 1384.24  Z\n  \" fill=\"#009af9\" fill-rule=\"evenodd\" fill-opacity=\"1\"/>\n<polyline clip-path=\"url(#clip092)\" style=\"stroke:#000000; stroke-linecap:butt; stroke-linejoin:round; stroke-width:4; stroke-opacity:1; fill:none\" points=\"\n  10259.3,1384.24 10259.3,1384.24 10320.1,1384.24 10259.3,1384.24 \n  \"/>\n<path clip-path=\"url(#clip092)\" d=\"\nM10320.1 1384.24 L10320.1 1384.24 L10381 1384.24 L10381 1384.24 L10320.1 1384.24 L10320.1 1384.24  Z\n  \" fill=\"#009af9\" fill-rule=\"evenodd\" fill-opacity=\"1\"/>\n<polyline clip-path=\"url(#clip092)\" style=\"stroke:#000000; stroke-linecap:butt; stroke-linejoin:round; stroke-width:4; stroke-opacity:1; fill:none\" points=\"\n  10320.1,1384.24 10320.1,1384.24 10381,1384.24 10320.1,1384.24 \n  \"/>\n<path clip-path=\"url(#clip092)\" d=\"\nM10381 1384.24 L10381 1384.24 L10441.9 1384.24 L10441.9 1384.24 L10381 1384.24 L10381 1384.24  Z\n  \" fill=\"#009af9\" fill-rule=\"evenodd\" fill-opacity=\"1\"/>\n<polyline clip-path=\"url(#clip092)\" style=\"stroke:#000000; stroke-linecap:butt; stroke-linejoin:round; stroke-width:4; stroke-opacity:1; fill:none\" points=\"\n  10381,1384.24 10381,1384.24 10441.9,1384.24 10381,1384.24 \n  \"/>\n<path clip-path=\"url(#clip092)\" d=\"\nM10441.9 1384.24 L10441.9 1384.24 L10502.8 1384.24 L10502.8 1384.24 L10441.9 1384.24 L10441.9 1384.24  Z\n  \" fill=\"#009af9\" fill-rule=\"evenodd\" fill-opacity=\"1\"/>\n<polyline clip-path=\"url(#clip092)\" style=\"stroke:#000000; stroke-linecap:butt; stroke-linejoin:round; stroke-width:4; stroke-opacity:1; fill:none\" points=\"\n  10441.9,1384.24 10441.9,1384.24 10502.8,1384.24 10441.9,1384.24 \n  \"/>\n<path clip-path=\"url(#clip092)\" d=\"\nM10502.8 1384.24 L10502.8 1384.24 L10563.7 1384.24 L10563.7 1384.24 L10502.8 1384.24 L10502.8 1384.24  Z\n  \" fill=\"#009af9\" fill-rule=\"evenodd\" fill-opacity=\"1\"/>\n<polyline clip-path=\"url(#clip092)\" style=\"stroke:#000000; stroke-linecap:butt; stroke-linejoin:round; stroke-width:4; stroke-opacity:1; fill:none\" points=\"\n  10502.8,1384.24 10502.8,1384.24 10563.7,1384.24 10502.8,1384.24 \n  \"/>\n<path clip-path=\"url(#clip092)\" d=\"\nM10563.7 1384.24 L10563.7 1384.24 L10624.6 1384.24 L10624.6 1384.24 L10563.7 1384.24 L10563.7 1384.24  Z\n  \" fill=\"#009af9\" fill-rule=\"evenodd\" fill-opacity=\"1\"/>\n<polyline clip-path=\"url(#clip092)\" style=\"stroke:#000000; stroke-linecap:butt; stroke-linejoin:round; stroke-width:4; stroke-opacity:1; fill:none\" points=\"\n  10563.7,1384.24 10563.7,1384.24 10624.6,1384.24 10563.7,1384.24 \n  \"/>\n<path clip-path=\"url(#clip092)\" d=\"\nM10624.6 1384.24 L10624.6 1384.24 L10685.5 1384.24 L10685.5 1384.24 L10624.6 1384.24 L10624.6 1384.24  Z\n  \" fill=\"#009af9\" fill-rule=\"evenodd\" fill-opacity=\"1\"/>\n<polyline clip-path=\"url(#clip092)\" style=\"stroke:#000000; stroke-linecap:butt; stroke-linejoin:round; stroke-width:4; stroke-opacity:1; fill:none\" points=\"\n  10624.6,1384.24 10624.6,1384.24 10685.5,1384.24 10624.6,1384.24 \n  \"/>\n<path clip-path=\"url(#clip092)\" d=\"\nM10685.5 1384.24 L10685.5 1384.24 L10746.4 1384.24 L10746.4 1384.24 L10685.5 1384.24 L10685.5 1384.24  Z\n  \" fill=\"#009af9\" fill-rule=\"evenodd\" fill-opacity=\"1\"/>\n<polyline clip-path=\"url(#clip092)\" style=\"stroke:#000000; stroke-linecap:butt; stroke-linejoin:round; stroke-width:4; stroke-opacity:1; fill:none\" points=\"\n  10685.5,1384.24 10685.5,1384.24 10746.4,1384.24 10685.5,1384.24 \n  \"/>\n<path clip-path=\"url(#clip092)\" d=\"\nM10746.4 1384.24 L10746.4 1384.24 L10807.3 1384.24 L10807.3 1384.24 L10746.4 1384.24 L10746.4 1384.24  Z\n  \" fill=\"#009af9\" fill-rule=\"evenodd\" fill-opacity=\"1\"/>\n<polyline clip-path=\"url(#clip092)\" style=\"stroke:#000000; stroke-linecap:butt; stroke-linejoin:round; stroke-width:4; stroke-opacity:1; fill:none\" points=\"\n  10746.4,1384.24 10746.4,1384.24 10807.3,1384.24 10746.4,1384.24 \n  \"/>\n<path clip-path=\"url(#clip092)\" d=\"\nM10807.3 1384.24 L10807.3 1384.24 L10868.2 1384.24 L10868.2 1384.24 L10807.3 1384.24 L10807.3 1384.24  Z\n  \" fill=\"#009af9\" fill-rule=\"evenodd\" fill-opacity=\"1\"/>\n<polyline clip-path=\"url(#clip092)\" style=\"stroke:#000000; stroke-linecap:butt; stroke-linejoin:round; stroke-width:4; stroke-opacity:1; fill:none\" points=\"\n  10807.3,1384.24 10807.3,1384.24 10868.2,1384.24 10807.3,1384.24 \n  \"/>\n<path clip-path=\"url(#clip092)\" d=\"\nM10868.2 1384.24 L10868.2 1384.24 L10929 1384.24 L10929 1384.24 L10868.2 1384.24 L10868.2 1384.24  Z\n  \" fill=\"#009af9\" fill-rule=\"evenodd\" fill-opacity=\"1\"/>\n<polyline clip-path=\"url(#clip092)\" style=\"stroke:#000000; stroke-linecap:butt; stroke-linejoin:round; stroke-width:4; stroke-opacity:1; fill:none\" points=\"\n  10868.2,1384.24 10868.2,1384.24 10929,1384.24 10868.2,1384.24 \n  \"/>\n<path clip-path=\"url(#clip092)\" d=\"\nM10929 1384.24 L10929 1384.24 L10989.9 1384.24 L10989.9 1384.24 L10929 1384.24 L10929 1384.24  Z\n  \" fill=\"#009af9\" fill-rule=\"evenodd\" fill-opacity=\"1\"/>\n<polyline clip-path=\"url(#clip092)\" style=\"stroke:#000000; stroke-linecap:butt; stroke-linejoin:round; stroke-width:4; stroke-opacity:1; fill:none\" points=\"\n  10929,1384.24 10929,1384.24 10989.9,1384.24 10929,1384.24 \n  \"/>\n<path clip-path=\"url(#clip092)\" d=\"\nM10989.9 1384.24 L10989.9 1384.24 L11050.8 1384.24 L11050.8 1384.24 L10989.9 1384.24 L10989.9 1384.24  Z\n  \" fill=\"#009af9\" fill-rule=\"evenodd\" fill-opacity=\"1\"/>\n<polyline clip-path=\"url(#clip092)\" style=\"stroke:#000000; stroke-linecap:butt; stroke-linejoin:round; stroke-width:4; stroke-opacity:1; fill:none\" points=\"\n  10989.9,1384.24 10989.9,1384.24 11050.8,1384.24 10989.9,1384.24 \n  \"/>\n<path clip-path=\"url(#clip092)\" d=\"\nM11050.8 1384.24 L11050.8 1384.24 L11111.7 1384.24 L11111.7 1384.24 L11050.8 1384.24 L11050.8 1384.24  Z\n  \" fill=\"#009af9\" fill-rule=\"evenodd\" fill-opacity=\"1\"/>\n<polyline clip-path=\"url(#clip092)\" style=\"stroke:#000000; stroke-linecap:butt; stroke-linejoin:round; stroke-width:4; stroke-opacity:1; fill:none\" points=\"\n  11050.8,1384.24 11050.8,1384.24 11111.7,1384.24 11050.8,1384.24 \n  \"/>\n<path clip-path=\"url(#clip092)\" d=\"\nM11111.7 1384.24 L11111.7 1384.24 L11172.6 1384.24 L11172.6 1384.24 L11111.7 1384.24 L11111.7 1384.24  Z\n  \" fill=\"#009af9\" fill-rule=\"evenodd\" fill-opacity=\"1\"/>\n<polyline clip-path=\"url(#clip092)\" style=\"stroke:#000000; stroke-linecap:butt; stroke-linejoin:round; stroke-width:4; stroke-opacity:1; fill:none\" points=\"\n  11111.7,1384.24 11111.7,1384.24 11172.6,1384.24 11111.7,1384.24 \n  \"/>\n<path clip-path=\"url(#clip092)\" d=\"\nM11172.6 1384.24 L11172.6 1384.24 L11233.5 1384.24 L11233.5 1384.24 L11172.6 1384.24 L11172.6 1384.24  Z\n  \" fill=\"#009af9\" fill-rule=\"evenodd\" fill-opacity=\"1\"/>\n<polyline clip-path=\"url(#clip092)\" style=\"stroke:#000000; stroke-linecap:butt; stroke-linejoin:round; stroke-width:4; stroke-opacity:1; fill:none\" points=\"\n  11172.6,1384.24 11172.6,1384.24 11233.5,1384.24 11172.6,1384.24 \n  \"/>\n<path clip-path=\"url(#clip092)\" d=\"\nM11233.5 1384.24 L11233.5 1384.24 L11294.4 1384.24 L11294.4 1384.24 L11233.5 1384.24 L11233.5 1384.24  Z\n  \" fill=\"#009af9\" fill-rule=\"evenodd\" fill-opacity=\"1\"/>\n<polyline clip-path=\"url(#clip092)\" style=\"stroke:#000000; stroke-linecap:butt; stroke-linejoin:round; stroke-width:4; stroke-opacity:1; fill:none\" points=\"\n  11233.5,1384.24 11233.5,1384.24 11294.4,1384.24 11233.5,1384.24 \n  \"/>\n<path clip-path=\"url(#clip092)\" d=\"\nM11294.4 1384.24 L11294.4 1384.24 L11355.3 1384.24 L11355.3 1384.24 L11294.4 1384.24 L11294.4 1384.24  Z\n  \" fill=\"#009af9\" fill-rule=\"evenodd\" fill-opacity=\"1\"/>\n<polyline clip-path=\"url(#clip092)\" style=\"stroke:#000000; stroke-linecap:butt; stroke-linejoin:round; stroke-width:4; stroke-opacity:1; fill:none\" points=\"\n  11294.4,1384.24 11294.4,1384.24 11355.3,1384.24 11294.4,1384.24 \n  \"/>\n<path clip-path=\"url(#clip092)\" d=\"\nM11355.3 1384.24 L11355.3 1384.24 L11416.2 1384.24 L11416.2 1384.24 L11355.3 1384.24 L11355.3 1384.24  Z\n  \" fill=\"#009af9\" fill-rule=\"evenodd\" fill-opacity=\"1\"/>\n<polyline clip-path=\"url(#clip092)\" style=\"stroke:#000000; stroke-linecap:butt; stroke-linejoin:round; stroke-width:4; stroke-opacity:1; fill:none\" points=\"\n  11355.3,1384.24 11355.3,1384.24 11416.2,1384.24 11355.3,1384.24 \n  \"/>\n<path clip-path=\"url(#clip092)\" d=\"\nM11416.2 1384.24 L11416.2 1384.24 L11477 1384.24 L11477 1384.24 L11416.2 1384.24 L11416.2 1384.24  Z\n  \" fill=\"#009af9\" fill-rule=\"evenodd\" fill-opacity=\"1\"/>\n<polyline clip-path=\"url(#clip092)\" style=\"stroke:#000000; stroke-linecap:butt; stroke-linejoin:round; stroke-width:4; stroke-opacity:1; fill:none\" points=\"\n  11416.2,1384.24 11416.2,1384.24 11477,1384.24 11416.2,1384.24 \n  \"/>\n<path clip-path=\"url(#clip092)\" d=\"\nM11477 1266.23 L11477 1384.24 L11537.9 1384.24 L11537.9 1266.23 L11477 1266.23 L11477 1266.23  Z\n  \" fill=\"#009af9\" fill-rule=\"evenodd\" fill-opacity=\"1\"/>\n<polyline clip-path=\"url(#clip092)\" style=\"stroke:#000000; stroke-linecap:butt; stroke-linejoin:round; stroke-width:4; stroke-opacity:1; fill:none\" points=\"\n  11477,1266.23 11477,1384.24 11537.9,1384.24 11537.9,1266.23 11477,1266.23 \n  \"/>\n<path clip-path=\"url(#clip092)\" d=\"\nM11537.9 1384.24 L11537.9 1384.24 L11598.8 1384.24 L11598.8 1384.24 L11537.9 1384.24 L11537.9 1384.24  Z\n  \" fill=\"#009af9\" fill-rule=\"evenodd\" fill-opacity=\"1\"/>\n<polyline clip-path=\"url(#clip092)\" style=\"stroke:#000000; stroke-linecap:butt; stroke-linejoin:round; stroke-width:4; stroke-opacity:1; fill:none\" points=\"\n  11537.9,1384.24 11537.9,1384.24 11598.8,1384.24 11537.9,1384.24 \n  \"/>\n<path clip-path=\"url(#clip092)\" d=\"\nM11598.8 1384.24 L11598.8 1384.24 L11659.7 1384.24 L11659.7 1384.24 L11598.8 1384.24 L11598.8 1384.24  Z\n  \" fill=\"#009af9\" fill-rule=\"evenodd\" fill-opacity=\"1\"/>\n<polyline clip-path=\"url(#clip092)\" style=\"stroke:#000000; stroke-linecap:butt; stroke-linejoin:round; stroke-width:4; stroke-opacity:1; fill:none\" points=\"\n  11598.8,1384.24 11598.8,1384.24 11659.7,1384.24 11598.8,1384.24 \n  \"/>\n<path clip-path=\"url(#clip092)\" d=\"\nM11659.7 1384.24 L11659.7 1384.24 L11720.6 1384.24 L11720.6 1384.24 L11659.7 1384.24 L11659.7 1384.24  Z\n  \" fill=\"#009af9\" fill-rule=\"evenodd\" fill-opacity=\"1\"/>\n<polyline clip-path=\"url(#clip092)\" style=\"stroke:#000000; stroke-linecap:butt; stroke-linejoin:round; stroke-width:4; stroke-opacity:1; fill:none\" points=\"\n  11659.7,1384.24 11659.7,1384.24 11720.6,1384.24 11659.7,1384.24 \n  \"/>\n<path clip-path=\"url(#clip092)\" d=\"\nM11720.6 1384.24 L11720.6 1384.24 L11781.5 1384.24 L11781.5 1384.24 L11720.6 1384.24 L11720.6 1384.24  Z\n  \" fill=\"#009af9\" fill-rule=\"evenodd\" fill-opacity=\"1\"/>\n<polyline clip-path=\"url(#clip092)\" style=\"stroke:#000000; stroke-linecap:butt; stroke-linejoin:round; stroke-width:4; stroke-opacity:1; fill:none\" points=\"\n  11720.6,1384.24 11720.6,1384.24 11781.5,1384.24 11720.6,1384.24 \n  \"/>\n<path clip-path=\"url(#clip092)\" d=\"\nM11781.5 1384.24 L11781.5 1384.24 L11842.4 1384.24 L11842.4 1384.24 L11781.5 1384.24 L11781.5 1384.24  Z\n  \" fill=\"#009af9\" fill-rule=\"evenodd\" fill-opacity=\"1\"/>\n<polyline clip-path=\"url(#clip092)\" style=\"stroke:#000000; stroke-linecap:butt; stroke-linejoin:round; stroke-width:4; stroke-opacity:1; fill:none\" points=\"\n  11781.5,1384.24 11781.5,1384.24 11842.4,1384.24 11781.5,1384.24 \n  \"/>\n<path clip-path=\"url(#clip092)\" d=\"\nM11842.4 1384.24 L11842.4 1384.24 L11903.3 1384.24 L11903.3 1384.24 L11842.4 1384.24 L11842.4 1384.24  Z\n  \" fill=\"#009af9\" fill-rule=\"evenodd\" fill-opacity=\"1\"/>\n<polyline clip-path=\"url(#clip092)\" style=\"stroke:#000000; stroke-linecap:butt; stroke-linejoin:round; stroke-width:4; stroke-opacity:1; fill:none\" points=\"\n  11842.4,1384.24 11842.4,1384.24 11903.3,1384.24 11842.4,1384.24 \n  \"/>\n<path clip-path=\"url(#clip092)\" d=\"\nM11903.3 1384.24 L11903.3 1384.24 L11964.2 1384.24 L11964.2 1384.24 L11903.3 1384.24 L11903.3 1384.24  Z\n  \" fill=\"#009af9\" fill-rule=\"evenodd\" fill-opacity=\"1\"/>\n<polyline clip-path=\"url(#clip092)\" style=\"stroke:#000000; stroke-linecap:butt; stroke-linejoin:round; stroke-width:4; stroke-opacity:1; fill:none\" points=\"\n  11903.3,1384.24 11903.3,1384.24 11964.2,1384.24 11903.3,1384.24 \n  \"/>\n<path clip-path=\"url(#clip092)\" d=\"\nM11964.2 1384.24 L11964.2 1384.24 L12025.1 1384.24 L12025.1 1384.24 L11964.2 1384.24 L11964.2 1384.24  Z\n  \" fill=\"#009af9\" fill-rule=\"evenodd\" fill-opacity=\"1\"/>\n<polyline clip-path=\"url(#clip092)\" style=\"stroke:#000000; stroke-linecap:butt; stroke-linejoin:round; stroke-width:4; stroke-opacity:1; fill:none\" points=\"\n  11964.2,1384.24 11964.2,1384.24 12025.1,1384.24 11964.2,1384.24 \n  \"/>\n<path clip-path=\"url(#clip092)\" d=\"\nM12025.1 1384.24 L12025.1 1384.24 L12085.9 1384.24 L12085.9 1384.24 L12025.1 1384.24 L12025.1 1384.24  Z\n  \" fill=\"#009af9\" fill-rule=\"evenodd\" fill-opacity=\"1\"/>\n<polyline clip-path=\"url(#clip092)\" style=\"stroke:#000000; stroke-linecap:butt; stroke-linejoin:round; stroke-width:4; stroke-opacity:1; fill:none\" points=\"\n  12025.1,1384.24 12025.1,1384.24 12085.9,1384.24 12025.1,1384.24 \n  \"/>\n<path clip-path=\"url(#clip092)\" d=\"\nM12085.9 1266.23 L12085.9 1384.24 L12146.8 1384.24 L12146.8 1266.23 L12085.9 1266.23 L12085.9 1266.23  Z\n  \" fill=\"#009af9\" fill-rule=\"evenodd\" fill-opacity=\"1\"/>\n<polyline clip-path=\"url(#clip092)\" style=\"stroke:#000000; stroke-linecap:butt; stroke-linejoin:round; stroke-width:4; stroke-opacity:1; fill:none\" points=\"\n  12085.9,1266.23 12085.9,1384.24 12146.8,1384.24 12146.8,1266.23 12085.9,1266.23 \n  \"/>\n<path clip-path=\"url(#clip092)\" d=\"\nM12146.8 1384.24 L12146.8 1384.24 L12207.7 1384.24 L12207.7 1384.24 L12146.8 1384.24 L12146.8 1384.24  Z\n  \" fill=\"#009af9\" fill-rule=\"evenodd\" fill-opacity=\"1\"/>\n<polyline clip-path=\"url(#clip092)\" style=\"stroke:#000000; stroke-linecap:butt; stroke-linejoin:round; stroke-width:4; stroke-opacity:1; fill:none\" points=\"\n  12146.8,1384.24 12146.8,1384.24 12207.7,1384.24 12146.8,1384.24 \n  \"/>\n<path clip-path=\"url(#clip092)\" d=\"\nM12207.7 1384.24 L12207.7 1384.24 L12268.6 1384.24 L12268.6 1384.24 L12207.7 1384.24 L12207.7 1384.24  Z\n  \" fill=\"#009af9\" fill-rule=\"evenodd\" fill-opacity=\"1\"/>\n<polyline clip-path=\"url(#clip092)\" style=\"stroke:#000000; stroke-linecap:butt; stroke-linejoin:round; stroke-width:4; stroke-opacity:1; fill:none\" points=\"\n  12207.7,1384.24 12207.7,1384.24 12268.6,1384.24 12207.7,1384.24 \n  \"/>\n<path clip-path=\"url(#clip092)\" d=\"\nM12268.6 1384.24 L12268.6 1384.24 L12329.5 1384.24 L12329.5 1384.24 L12268.6 1384.24 L12268.6 1384.24  Z\n  \" fill=\"#009af9\" fill-rule=\"evenodd\" fill-opacity=\"1\"/>\n<polyline clip-path=\"url(#clip092)\" style=\"stroke:#000000; stroke-linecap:butt; stroke-linejoin:round; stroke-width:4; stroke-opacity:1; fill:none\" points=\"\n  12268.6,1384.24 12268.6,1384.24 12329.5,1384.24 12268.6,1384.24 \n  \"/>\n<path clip-path=\"url(#clip092)\" d=\"\nM12329.5 1384.24 L12329.5 1384.24 L12390.4 1384.24 L12390.4 1384.24 L12329.5 1384.24 L12329.5 1384.24  Z\n  \" fill=\"#009af9\" fill-rule=\"evenodd\" fill-opacity=\"1\"/>\n<polyline clip-path=\"url(#clip092)\" style=\"stroke:#000000; stroke-linecap:butt; stroke-linejoin:round; stroke-width:4; stroke-opacity:1; fill:none\" points=\"\n  12329.5,1384.24 12329.5,1384.24 12390.4,1384.24 12329.5,1384.24 \n  \"/>\n<path clip-path=\"url(#clip092)\" d=\"\nM12390.4 1384.24 L12390.4 1384.24 L12451.3 1384.24 L12451.3 1384.24 L12390.4 1384.24 L12390.4 1384.24  Z\n  \" fill=\"#009af9\" fill-rule=\"evenodd\" fill-opacity=\"1\"/>\n<polyline clip-path=\"url(#clip092)\" style=\"stroke:#000000; stroke-linecap:butt; stroke-linejoin:round; stroke-width:4; stroke-opacity:1; fill:none\" points=\"\n  12390.4,1384.24 12390.4,1384.24 12451.3,1384.24 12390.4,1384.24 \n  \"/>\n<path clip-path=\"url(#clip092)\" d=\"\nM12451.3 1384.24 L12451.3 1384.24 L12512.2 1384.24 L12512.2 1384.24 L12451.3 1384.24 L12451.3 1384.24  Z\n  \" fill=\"#009af9\" fill-rule=\"evenodd\" fill-opacity=\"1\"/>\n<polyline clip-path=\"url(#clip092)\" style=\"stroke:#000000; stroke-linecap:butt; stroke-linejoin:round; stroke-width:4; stroke-opacity:1; fill:none\" points=\"\n  12451.3,1384.24 12451.3,1384.24 12512.2,1384.24 12451.3,1384.24 \n  \"/>\n<path clip-path=\"url(#clip092)\" d=\"\nM12512.2 1384.24 L12512.2 1384.24 L12573.1 1384.24 L12573.1 1384.24 L12512.2 1384.24 L12512.2 1384.24  Z\n  \" fill=\"#009af9\" fill-rule=\"evenodd\" fill-opacity=\"1\"/>\n<polyline clip-path=\"url(#clip092)\" style=\"stroke:#000000; stroke-linecap:butt; stroke-linejoin:round; stroke-width:4; stroke-opacity:1; fill:none\" points=\"\n  12512.2,1384.24 12512.2,1384.24 12573.1,1384.24 12512.2,1384.24 \n  \"/>\n<path clip-path=\"url(#clip092)\" d=\"\nM12573.1 1384.24 L12573.1 1384.24 L12633.9 1384.24 L12633.9 1384.24 L12573.1 1384.24 L12573.1 1384.24  Z\n  \" fill=\"#009af9\" fill-rule=\"evenodd\" fill-opacity=\"1\"/>\n<polyline clip-path=\"url(#clip092)\" style=\"stroke:#000000; stroke-linecap:butt; stroke-linejoin:round; stroke-width:4; stroke-opacity:1; fill:none\" points=\"\n  12573.1,1384.24 12573.1,1384.24 12633.9,1384.24 12573.1,1384.24 \n  \"/>\n<path clip-path=\"url(#clip092)\" d=\"\nM12633.9 1384.24 L12633.9 1384.24 L12694.8 1384.24 L12694.8 1384.24 L12633.9 1384.24 L12633.9 1384.24  Z\n  \" fill=\"#009af9\" fill-rule=\"evenodd\" fill-opacity=\"1\"/>\n<polyline clip-path=\"url(#clip092)\" style=\"stroke:#000000; stroke-linecap:butt; stroke-linejoin:round; stroke-width:4; stroke-opacity:1; fill:none\" points=\"\n  12633.9,1384.24 12633.9,1384.24 12694.8,1384.24 12633.9,1384.24 \n  \"/>\n<path clip-path=\"url(#clip092)\" d=\"\nM12694.8 1384.24 L12694.8 1384.24 L12755.7 1384.24 L12755.7 1384.24 L12694.8 1384.24 L12694.8 1384.24  Z\n  \" fill=\"#009af9\" fill-rule=\"evenodd\" fill-opacity=\"1\"/>\n<polyline clip-path=\"url(#clip092)\" style=\"stroke:#000000; stroke-linecap:butt; stroke-linejoin:round; stroke-width:4; stroke-opacity:1; fill:none\" points=\"\n  12694.8,1384.24 12694.8,1384.24 12755.7,1384.24 12694.8,1384.24 \n  \"/>\n<path clip-path=\"url(#clip092)\" d=\"\nM12755.7 1384.24 L12755.7 1384.24 L12816.6 1384.24 L12816.6 1384.24 L12755.7 1384.24 L12755.7 1384.24  Z\n  \" fill=\"#009af9\" fill-rule=\"evenodd\" fill-opacity=\"1\"/>\n<polyline clip-path=\"url(#clip092)\" style=\"stroke:#000000; stroke-linecap:butt; stroke-linejoin:round; stroke-width:4; stroke-opacity:1; fill:none\" points=\"\n  12755.7,1384.24 12755.7,1384.24 12816.6,1384.24 12755.7,1384.24 \n  \"/>\n<path clip-path=\"url(#clip092)\" d=\"\nM12816.6 1384.24 L12816.6 1384.24 L12877.5 1384.24 L12877.5 1384.24 L12816.6 1384.24 L12816.6 1384.24  Z\n  \" fill=\"#009af9\" fill-rule=\"evenodd\" fill-opacity=\"1\"/>\n<polyline clip-path=\"url(#clip092)\" style=\"stroke:#000000; stroke-linecap:butt; stroke-linejoin:round; stroke-width:4; stroke-opacity:1; fill:none\" points=\"\n  12816.6,1384.24 12816.6,1384.24 12877.5,1384.24 12816.6,1384.24 \n  \"/>\n<path clip-path=\"url(#clip092)\" d=\"\nM12877.5 1384.24 L12877.5 1384.24 L12938.4 1384.24 L12938.4 1384.24 L12877.5 1384.24 L12877.5 1384.24  Z\n  \" fill=\"#009af9\" fill-rule=\"evenodd\" fill-opacity=\"1\"/>\n<polyline clip-path=\"url(#clip092)\" style=\"stroke:#000000; stroke-linecap:butt; stroke-linejoin:round; stroke-width:4; stroke-opacity:1; fill:none\" points=\"\n  12877.5,1384.24 12877.5,1384.24 12938.4,1384.24 12877.5,1384.24 \n  \"/>\n<path clip-path=\"url(#clip092)\" d=\"\nM12938.4 1384.24 L12938.4 1384.24 L12999.3 1384.24 L12999.3 1384.24 L12938.4 1384.24 L12938.4 1384.24  Z\n  \" fill=\"#009af9\" fill-rule=\"evenodd\" fill-opacity=\"1\"/>\n<polyline clip-path=\"url(#clip092)\" style=\"stroke:#000000; stroke-linecap:butt; stroke-linejoin:round; stroke-width:4; stroke-opacity:1; fill:none\" points=\"\n  12938.4,1384.24 12938.4,1384.24 12999.3,1384.24 12938.4,1384.24 \n  \"/>\n<path clip-path=\"url(#clip092)\" d=\"\nM12999.3 1384.24 L12999.3 1384.24 L13060.2 1384.24 L13060.2 1384.24 L12999.3 1384.24 L12999.3 1384.24  Z\n  \" fill=\"#009af9\" fill-rule=\"evenodd\" fill-opacity=\"1\"/>\n<polyline clip-path=\"url(#clip092)\" style=\"stroke:#000000; stroke-linecap:butt; stroke-linejoin:round; stroke-width:4; stroke-opacity:1; fill:none\" points=\"\n  12999.3,1384.24 12999.3,1384.24 13060.2,1384.24 12999.3,1384.24 \n  \"/>\n<path clip-path=\"url(#clip092)\" d=\"\nM13060.2 1384.24 L13060.2 1384.24 L13121.1 1384.24 L13121.1 1384.24 L13060.2 1384.24 L13060.2 1384.24  Z\n  \" fill=\"#009af9\" fill-rule=\"evenodd\" fill-opacity=\"1\"/>\n<polyline clip-path=\"url(#clip092)\" style=\"stroke:#000000; stroke-linecap:butt; stroke-linejoin:round; stroke-width:4; stroke-opacity:1; fill:none\" points=\"\n  13060.2,1384.24 13060.2,1384.24 13121.1,1384.24 13060.2,1384.24 \n  \"/>\n<path clip-path=\"url(#clip092)\" d=\"\nM13121.1 1384.24 L13121.1 1384.24 L13182 1384.24 L13182 1384.24 L13121.1 1384.24 L13121.1 1384.24  Z\n  \" fill=\"#009af9\" fill-rule=\"evenodd\" fill-opacity=\"1\"/>\n<polyline clip-path=\"url(#clip092)\" style=\"stroke:#000000; stroke-linecap:butt; stroke-linejoin:round; stroke-width:4; stroke-opacity:1; fill:none\" points=\"\n  13121.1,1384.24 13121.1,1384.24 13182,1384.24 13121.1,1384.24 \n  \"/>\n<path clip-path=\"url(#clip092)\" d=\"\nM13182 1384.24 L13182 1384.24 L13242.8 1384.24 L13242.8 1384.24 L13182 1384.24 L13182 1384.24  Z\n  \" fill=\"#009af9\" fill-rule=\"evenodd\" fill-opacity=\"1\"/>\n<polyline clip-path=\"url(#clip092)\" style=\"stroke:#000000; stroke-linecap:butt; stroke-linejoin:round; stroke-width:4; stroke-opacity:1; fill:none\" points=\"\n  13182,1384.24 13182,1384.24 13242.8,1384.24 13182,1384.24 \n  \"/>\n<path clip-path=\"url(#clip092)\" d=\"\nM13242.8 1384.24 L13242.8 1384.24 L13303.7 1384.24 L13303.7 1384.24 L13242.8 1384.24 L13242.8 1384.24  Z\n  \" fill=\"#009af9\" fill-rule=\"evenodd\" fill-opacity=\"1\"/>\n<polyline clip-path=\"url(#clip092)\" style=\"stroke:#000000; stroke-linecap:butt; stroke-linejoin:round; stroke-width:4; stroke-opacity:1; fill:none\" points=\"\n  13242.8,1384.24 13242.8,1384.24 13303.7,1384.24 13242.8,1384.24 \n  \"/>\n<path clip-path=\"url(#clip092)\" d=\"\nM13303.7 1384.24 L13303.7 1384.24 L13364.6 1384.24 L13364.6 1384.24 L13303.7 1384.24 L13303.7 1384.24  Z\n  \" fill=\"#009af9\" fill-rule=\"evenodd\" fill-opacity=\"1\"/>\n<polyline clip-path=\"url(#clip092)\" style=\"stroke:#000000; stroke-linecap:butt; stroke-linejoin:round; stroke-width:4; stroke-opacity:1; fill:none\" points=\"\n  13303.7,1384.24 13303.7,1384.24 13364.6,1384.24 13303.7,1384.24 \n  \"/>\n<path clip-path=\"url(#clip092)\" d=\"\nM13364.6 1384.24 L13364.6 1384.24 L13425.5 1384.24 L13425.5 1384.24 L13364.6 1384.24 L13364.6 1384.24  Z\n  \" fill=\"#009af9\" fill-rule=\"evenodd\" fill-opacity=\"1\"/>\n<polyline clip-path=\"url(#clip092)\" style=\"stroke:#000000; stroke-linecap:butt; stroke-linejoin:round; stroke-width:4; stroke-opacity:1; fill:none\" points=\"\n  13364.6,1384.24 13364.6,1384.24 13425.5,1384.24 13364.6,1384.24 \n  \"/>\n<path clip-path=\"url(#clip092)\" d=\"\nM13425.5 1384.24 L13425.5 1384.24 L13486.4 1384.24 L13486.4 1384.24 L13425.5 1384.24 L13425.5 1384.24  Z\n  \" fill=\"#009af9\" fill-rule=\"evenodd\" fill-opacity=\"1\"/>\n<polyline clip-path=\"url(#clip092)\" style=\"stroke:#000000; stroke-linecap:butt; stroke-linejoin:round; stroke-width:4; stroke-opacity:1; fill:none\" points=\"\n  13425.5,1384.24 13425.5,1384.24 13486.4,1384.24 13425.5,1384.24 \n  \"/>\n<path clip-path=\"url(#clip092)\" d=\"\nM13486.4 1384.24 L13486.4 1384.24 L13547.3 1384.24 L13547.3 1384.24 L13486.4 1384.24 L13486.4 1384.24  Z\n  \" fill=\"#009af9\" fill-rule=\"evenodd\" fill-opacity=\"1\"/>\n<polyline clip-path=\"url(#clip092)\" style=\"stroke:#000000; stroke-linecap:butt; stroke-linejoin:round; stroke-width:4; stroke-opacity:1; fill:none\" points=\"\n  13486.4,1384.24 13486.4,1384.24 13547.3,1384.24 13486.4,1384.24 \n  \"/>\n<path clip-path=\"url(#clip092)\" d=\"\nM13547.3 1384.24 L13547.3 1384.24 L13608.2 1384.24 L13608.2 1384.24 L13547.3 1384.24 L13547.3 1384.24  Z\n  \" fill=\"#009af9\" fill-rule=\"evenodd\" fill-opacity=\"1\"/>\n<polyline clip-path=\"url(#clip092)\" style=\"stroke:#000000; stroke-linecap:butt; stroke-linejoin:round; stroke-width:4; stroke-opacity:1; fill:none\" points=\"\n  13547.3,1384.24 13547.3,1384.24 13608.2,1384.24 13547.3,1384.24 \n  \"/>\n<path clip-path=\"url(#clip092)\" d=\"\nM13608.2 1384.24 L13608.2 1384.24 L13669.1 1384.24 L13669.1 1384.24 L13608.2 1384.24 L13608.2 1384.24  Z\n  \" fill=\"#009af9\" fill-rule=\"evenodd\" fill-opacity=\"1\"/>\n<polyline clip-path=\"url(#clip092)\" style=\"stroke:#000000; stroke-linecap:butt; stroke-linejoin:round; stroke-width:4; stroke-opacity:1; fill:none\" points=\"\n  13608.2,1384.24 13608.2,1384.24 13669.1,1384.24 13608.2,1384.24 \n  \"/>\n<path clip-path=\"url(#clip092)\" d=\"\nM13669.1 1384.24 L13669.1 1384.24 L13730 1384.24 L13730 1384.24 L13669.1 1384.24 L13669.1 1384.24  Z\n  \" fill=\"#009af9\" fill-rule=\"evenodd\" fill-opacity=\"1\"/>\n<polyline clip-path=\"url(#clip092)\" style=\"stroke:#000000; stroke-linecap:butt; stroke-linejoin:round; stroke-width:4; stroke-opacity:1; fill:none\" points=\"\n  13669.1,1384.24 13669.1,1384.24 13730,1384.24 13669.1,1384.24 \n  \"/>\n<path clip-path=\"url(#clip092)\" d=\"\nM13730 1384.24 L13730 1384.24 L13790.8 1384.24 L13790.8 1384.24 L13730 1384.24 L13730 1384.24  Z\n  \" fill=\"#009af9\" fill-rule=\"evenodd\" fill-opacity=\"1\"/>\n<polyline clip-path=\"url(#clip092)\" style=\"stroke:#000000; stroke-linecap:butt; stroke-linejoin:round; stroke-width:4; stroke-opacity:1; fill:none\" points=\"\n  13730,1384.24 13730,1384.24 13790.8,1384.24 13730,1384.24 \n  \"/>\n<path clip-path=\"url(#clip092)\" d=\"\nM13790.8 1384.24 L13790.8 1384.24 L13851.7 1384.24 L13851.7 1384.24 L13790.8 1384.24 L13790.8 1384.24  Z\n  \" fill=\"#009af9\" fill-rule=\"evenodd\" fill-opacity=\"1\"/>\n<polyline clip-path=\"url(#clip092)\" style=\"stroke:#000000; stroke-linecap:butt; stroke-linejoin:round; stroke-width:4; stroke-opacity:1; fill:none\" points=\"\n  13790.8,1384.24 13790.8,1384.24 13851.7,1384.24 13790.8,1384.24 \n  \"/>\n<path clip-path=\"url(#clip092)\" d=\"\nM13851.7 1384.24 L13851.7 1384.24 L13912.6 1384.24 L13912.6 1384.24 L13851.7 1384.24 L13851.7 1384.24  Z\n  \" fill=\"#009af9\" fill-rule=\"evenodd\" fill-opacity=\"1\"/>\n<polyline clip-path=\"url(#clip092)\" style=\"stroke:#000000; stroke-linecap:butt; stroke-linejoin:round; stroke-width:4; stroke-opacity:1; fill:none\" points=\"\n  13851.7,1384.24 13851.7,1384.24 13912.6,1384.24 13851.7,1384.24 \n  \"/>\n<path clip-path=\"url(#clip092)\" d=\"\nM13912.6 1384.24 L13912.6 1384.24 L13973.5 1384.24 L13973.5 1384.24 L13912.6 1384.24 L13912.6 1384.24  Z\n  \" fill=\"#009af9\" fill-rule=\"evenodd\" fill-opacity=\"1\"/>\n<polyline clip-path=\"url(#clip092)\" style=\"stroke:#000000; stroke-linecap:butt; stroke-linejoin:round; stroke-width:4; stroke-opacity:1; fill:none\" points=\"\n  13912.6,1384.24 13912.6,1384.24 13973.5,1384.24 13912.6,1384.24 \n  \"/>\n<path clip-path=\"url(#clip092)\" d=\"\nM13973.5 1384.24 L13973.5 1384.24 L14034.4 1384.24 L14034.4 1384.24 L13973.5 1384.24 L13973.5 1384.24  Z\n  \" fill=\"#009af9\" fill-rule=\"evenodd\" fill-opacity=\"1\"/>\n<polyline clip-path=\"url(#clip092)\" style=\"stroke:#000000; stroke-linecap:butt; stroke-linejoin:round; stroke-width:4; stroke-opacity:1; fill:none\" points=\"\n  13973.5,1384.24 13973.5,1384.24 14034.4,1384.24 13973.5,1384.24 \n  \"/>\n<path clip-path=\"url(#clip092)\" d=\"\nM14034.4 1384.24 L14034.4 1384.24 L14095.3 1384.24 L14095.3 1384.24 L14034.4 1384.24 L14034.4 1384.24  Z\n  \" fill=\"#009af9\" fill-rule=\"evenodd\" fill-opacity=\"1\"/>\n<polyline clip-path=\"url(#clip092)\" style=\"stroke:#000000; stroke-linecap:butt; stroke-linejoin:round; stroke-width:4; stroke-opacity:1; fill:none\" points=\"\n  14034.4,1384.24 14034.4,1384.24 14095.3,1384.24 14034.4,1384.24 \n  \"/>\n<path clip-path=\"url(#clip092)\" d=\"\nM14095.3 1384.24 L14095.3 1384.24 L14156.2 1384.24 L14156.2 1384.24 L14095.3 1384.24 L14095.3 1384.24  Z\n  \" fill=\"#009af9\" fill-rule=\"evenodd\" fill-opacity=\"1\"/>\n<polyline clip-path=\"url(#clip092)\" style=\"stroke:#000000; stroke-linecap:butt; stroke-linejoin:round; stroke-width:4; stroke-opacity:1; fill:none\" points=\"\n  14095.3,1384.24 14095.3,1384.24 14156.2,1384.24 14095.3,1384.24 \n  \"/>\n<path clip-path=\"url(#clip092)\" d=\"\nM14156.2 1384.24 L14156.2 1384.24 L14217.1 1384.24 L14217.1 1384.24 L14156.2 1384.24 L14156.2 1384.24  Z\n  \" fill=\"#009af9\" fill-rule=\"evenodd\" fill-opacity=\"1\"/>\n<polyline clip-path=\"url(#clip092)\" style=\"stroke:#000000; stroke-linecap:butt; stroke-linejoin:round; stroke-width:4; stroke-opacity:1; fill:none\" points=\"\n  14156.2,1384.24 14156.2,1384.24 14217.1,1384.24 14156.2,1384.24 \n  \"/>\n<path clip-path=\"url(#clip092)\" d=\"\nM14217.1 1384.24 L14217.1 1384.24 L14278 1384.24 L14278 1384.24 L14217.1 1384.24 L14217.1 1384.24  Z\n  \" fill=\"#009af9\" fill-rule=\"evenodd\" fill-opacity=\"1\"/>\n<polyline clip-path=\"url(#clip092)\" style=\"stroke:#000000; stroke-linecap:butt; stroke-linejoin:round; stroke-width:4; stroke-opacity:1; fill:none\" points=\"\n  14217.1,1384.24 14217.1,1384.24 14278,1384.24 14217.1,1384.24 \n  \"/>\n<path clip-path=\"url(#clip092)\" d=\"\nM14278 1384.24 L14278 1384.24 L14338.8 1384.24 L14338.8 1384.24 L14278 1384.24 L14278 1384.24  Z\n  \" fill=\"#009af9\" fill-rule=\"evenodd\" fill-opacity=\"1\"/>\n<polyline clip-path=\"url(#clip092)\" style=\"stroke:#000000; stroke-linecap:butt; stroke-linejoin:round; stroke-width:4; stroke-opacity:1; fill:none\" points=\"\n  14278,1384.24 14278,1384.24 14338.8,1384.24 14278,1384.24 \n  \"/>\n<path clip-path=\"url(#clip092)\" d=\"\nM14338.8 1384.24 L14338.8 1384.24 L14399.7 1384.24 L14399.7 1384.24 L14338.8 1384.24 L14338.8 1384.24  Z\n  \" fill=\"#009af9\" fill-rule=\"evenodd\" fill-opacity=\"1\"/>\n<polyline clip-path=\"url(#clip092)\" style=\"stroke:#000000; stroke-linecap:butt; stroke-linejoin:round; stroke-width:4; stroke-opacity:1; fill:none\" points=\"\n  14338.8,1384.24 14338.8,1384.24 14399.7,1384.24 14338.8,1384.24 \n  \"/>\n<path clip-path=\"url(#clip092)\" d=\"\nM14399.7 1384.24 L14399.7 1384.24 L14460.6 1384.24 L14460.6 1384.24 L14399.7 1384.24 L14399.7 1384.24  Z\n  \" fill=\"#009af9\" fill-rule=\"evenodd\" fill-opacity=\"1\"/>\n<polyline clip-path=\"url(#clip092)\" style=\"stroke:#000000; stroke-linecap:butt; stroke-linejoin:round; stroke-width:4; stroke-opacity:1; fill:none\" points=\"\n  14399.7,1384.24 14399.7,1384.24 14460.6,1384.24 14399.7,1384.24 \n  \"/>\n<path clip-path=\"url(#clip092)\" d=\"\nM14460.6 1384.24 L14460.6 1384.24 L14521.5 1384.24 L14521.5 1384.24 L14460.6 1384.24 L14460.6 1384.24  Z\n  \" fill=\"#009af9\" fill-rule=\"evenodd\" fill-opacity=\"1\"/>\n<polyline clip-path=\"url(#clip092)\" style=\"stroke:#000000; stroke-linecap:butt; stroke-linejoin:round; stroke-width:4; stroke-opacity:1; fill:none\" points=\"\n  14460.6,1384.24 14460.6,1384.24 14521.5,1384.24 14460.6,1384.24 \n  \"/>\n<path clip-path=\"url(#clip092)\" d=\"\nM14521.5 1384.24 L14521.5 1384.24 L14582.4 1384.24 L14582.4 1384.24 L14521.5 1384.24 L14521.5 1384.24  Z\n  \" fill=\"#009af9\" fill-rule=\"evenodd\" fill-opacity=\"1\"/>\n<polyline clip-path=\"url(#clip092)\" style=\"stroke:#000000; stroke-linecap:butt; stroke-linejoin:round; stroke-width:4; stroke-opacity:1; fill:none\" points=\"\n  14521.5,1384.24 14521.5,1384.24 14582.4,1384.24 14521.5,1384.24 \n  \"/>\n<path clip-path=\"url(#clip092)\" d=\"\nM14582.4 1384.24 L14582.4 1384.24 L14643.3 1384.24 L14643.3 1384.24 L14582.4 1384.24 L14582.4 1384.24  Z\n  \" fill=\"#009af9\" fill-rule=\"evenodd\" fill-opacity=\"1\"/>\n<polyline clip-path=\"url(#clip092)\" style=\"stroke:#000000; stroke-linecap:butt; stroke-linejoin:round; stroke-width:4; stroke-opacity:1; fill:none\" points=\"\n  14582.4,1384.24 14582.4,1384.24 14643.3,1384.24 14582.4,1384.24 \n  \"/>\n<path clip-path=\"url(#clip092)\" d=\"\nM14643.3 1384.24 L14643.3 1384.24 L14704.2 1384.24 L14704.2 1384.24 L14643.3 1384.24 L14643.3 1384.24  Z\n  \" fill=\"#009af9\" fill-rule=\"evenodd\" fill-opacity=\"1\"/>\n<polyline clip-path=\"url(#clip092)\" style=\"stroke:#000000; stroke-linecap:butt; stroke-linejoin:round; stroke-width:4; stroke-opacity:1; fill:none\" points=\"\n  14643.3,1384.24 14643.3,1384.24 14704.2,1384.24 14643.3,1384.24 \n  \"/>\n<path clip-path=\"url(#clip092)\" d=\"\nM14704.2 1384.24 L14704.2 1384.24 L14765.1 1384.24 L14765.1 1384.24 L14704.2 1384.24 L14704.2 1384.24  Z\n  \" fill=\"#009af9\" fill-rule=\"evenodd\" fill-opacity=\"1\"/>\n<polyline clip-path=\"url(#clip092)\" style=\"stroke:#000000; stroke-linecap:butt; stroke-linejoin:round; stroke-width:4; stroke-opacity:1; fill:none\" points=\"\n  14704.2,1384.24 14704.2,1384.24 14765.1,1384.24 14704.2,1384.24 \n  \"/>\n<path clip-path=\"url(#clip092)\" d=\"\nM14765.1 1384.24 L14765.1 1384.24 L14826 1384.24 L14826 1384.24 L14765.1 1384.24 L14765.1 1384.24  Z\n  \" fill=\"#009af9\" fill-rule=\"evenodd\" fill-opacity=\"1\"/>\n<polyline clip-path=\"url(#clip092)\" style=\"stroke:#000000; stroke-linecap:butt; stroke-linejoin:round; stroke-width:4; stroke-opacity:1; fill:none\" points=\"\n  14765.1,1384.24 14765.1,1384.24 14826,1384.24 14765.1,1384.24 \n  \"/>\n<path clip-path=\"url(#clip092)\" d=\"\nM14826 1384.24 L14826 1384.24 L14886.9 1384.24 L14886.9 1384.24 L14826 1384.24 L14826 1384.24  Z\n  \" fill=\"#009af9\" fill-rule=\"evenodd\" fill-opacity=\"1\"/>\n<polyline clip-path=\"url(#clip092)\" style=\"stroke:#000000; stroke-linecap:butt; stroke-linejoin:round; stroke-width:4; stroke-opacity:1; fill:none\" points=\"\n  14826,1384.24 14826,1384.24 14886.9,1384.24 14826,1384.24 \n  \"/>\n<path clip-path=\"url(#clip092)\" d=\"\nM14886.9 1384.24 L14886.9 1384.24 L14947.7 1384.24 L14947.7 1384.24 L14886.9 1384.24 L14886.9 1384.24  Z\n  \" fill=\"#009af9\" fill-rule=\"evenodd\" fill-opacity=\"1\"/>\n<polyline clip-path=\"url(#clip092)\" style=\"stroke:#000000; stroke-linecap:butt; stroke-linejoin:round; stroke-width:4; stroke-opacity:1; fill:none\" points=\"\n  14886.9,1384.24 14886.9,1384.24 14947.7,1384.24 14886.9,1384.24 \n  \"/>\n<path clip-path=\"url(#clip092)\" d=\"\nM14947.7 1384.24 L14947.7 1384.24 L15008.6 1384.24 L15008.6 1384.24 L14947.7 1384.24 L14947.7 1384.24  Z\n  \" fill=\"#009af9\" fill-rule=\"evenodd\" fill-opacity=\"1\"/>\n<polyline clip-path=\"url(#clip092)\" style=\"stroke:#000000; stroke-linecap:butt; stroke-linejoin:round; stroke-width:4; stroke-opacity:1; fill:none\" points=\"\n  14947.7,1384.24 14947.7,1384.24 15008.6,1384.24 14947.7,1384.24 \n  \"/>\n<path clip-path=\"url(#clip092)\" d=\"\nM15008.6 1384.24 L15008.6 1384.24 L15069.5 1384.24 L15069.5 1384.24 L15008.6 1384.24 L15008.6 1384.24  Z\n  \" fill=\"#009af9\" fill-rule=\"evenodd\" fill-opacity=\"1\"/>\n<polyline clip-path=\"url(#clip092)\" style=\"stroke:#000000; stroke-linecap:butt; stroke-linejoin:round; stroke-width:4; stroke-opacity:1; fill:none\" points=\"\n  15008.6,1384.24 15008.6,1384.24 15069.5,1384.24 15008.6,1384.24 \n  \"/>\n<path clip-path=\"url(#clip092)\" d=\"\nM15069.5 1384.24 L15069.5 1384.24 L15130.4 1384.24 L15130.4 1384.24 L15069.5 1384.24 L15069.5 1384.24  Z\n  \" fill=\"#009af9\" fill-rule=\"evenodd\" fill-opacity=\"1\"/>\n<polyline clip-path=\"url(#clip092)\" style=\"stroke:#000000; stroke-linecap:butt; stroke-linejoin:round; stroke-width:4; stroke-opacity:1; fill:none\" points=\"\n  15069.5,1384.24 15069.5,1384.24 15130.4,1384.24 15069.5,1384.24 \n  \"/>\n<path clip-path=\"url(#clip092)\" d=\"\nM15130.4 1384.24 L15130.4 1384.24 L15191.3 1384.24 L15191.3 1384.24 L15130.4 1384.24 L15130.4 1384.24  Z\n  \" fill=\"#009af9\" fill-rule=\"evenodd\" fill-opacity=\"1\"/>\n<polyline clip-path=\"url(#clip092)\" style=\"stroke:#000000; stroke-linecap:butt; stroke-linejoin:round; stroke-width:4; stroke-opacity:1; fill:none\" points=\"\n  15130.4,1384.24 15130.4,1384.24 15191.3,1384.24 15130.4,1384.24 \n  \"/>\n<path clip-path=\"url(#clip092)\" d=\"\nM15191.3 1384.24 L15191.3 1384.24 L15252.2 1384.24 L15252.2 1384.24 L15191.3 1384.24 L15191.3 1384.24  Z\n  \" fill=\"#009af9\" fill-rule=\"evenodd\" fill-opacity=\"1\"/>\n<polyline clip-path=\"url(#clip092)\" style=\"stroke:#000000; stroke-linecap:butt; stroke-linejoin:round; stroke-width:4; stroke-opacity:1; fill:none\" points=\"\n  15191.3,1384.24 15191.3,1384.24 15252.2,1384.24 15191.3,1384.24 \n  \"/>\n<path clip-path=\"url(#clip092)\" d=\"\nM15252.2 1384.24 L15252.2 1384.24 L15313.1 1384.24 L15313.1 1384.24 L15252.2 1384.24 L15252.2 1384.24  Z\n  \" fill=\"#009af9\" fill-rule=\"evenodd\" fill-opacity=\"1\"/>\n<polyline clip-path=\"url(#clip092)\" style=\"stroke:#000000; stroke-linecap:butt; stroke-linejoin:round; stroke-width:4; stroke-opacity:1; fill:none\" points=\"\n  15252.2,1384.24 15252.2,1384.24 15313.1,1384.24 15252.2,1384.24 \n  \"/>\n<path clip-path=\"url(#clip092)\" d=\"\nM15313.1 1384.24 L15313.1 1384.24 L15374 1384.24 L15374 1384.24 L15313.1 1384.24 L15313.1 1384.24  Z\n  \" fill=\"#009af9\" fill-rule=\"evenodd\" fill-opacity=\"1\"/>\n<polyline clip-path=\"url(#clip092)\" style=\"stroke:#000000; stroke-linecap:butt; stroke-linejoin:round; stroke-width:4; stroke-opacity:1; fill:none\" points=\"\n  15313.1,1384.24 15313.1,1384.24 15374,1384.24 15313.1,1384.24 \n  \"/>\n<path clip-path=\"url(#clip092)\" d=\"\nM15374 1384.24 L15374 1384.24 L15434.9 1384.24 L15434.9 1384.24 L15374 1384.24 L15374 1384.24  Z\n  \" fill=\"#009af9\" fill-rule=\"evenodd\" fill-opacity=\"1\"/>\n<polyline clip-path=\"url(#clip092)\" style=\"stroke:#000000; stroke-linecap:butt; stroke-linejoin:round; stroke-width:4; stroke-opacity:1; fill:none\" points=\"\n  15374,1384.24 15374,1384.24 15434.9,1384.24 15374,1384.24 \n  \"/>\n<path clip-path=\"url(#clip092)\" d=\"\nM15434.9 1384.24 L15434.9 1384.24 L15495.7 1384.24 L15495.7 1384.24 L15434.9 1384.24 L15434.9 1384.24  Z\n  \" fill=\"#009af9\" fill-rule=\"evenodd\" fill-opacity=\"1\"/>\n<polyline clip-path=\"url(#clip092)\" style=\"stroke:#000000; stroke-linecap:butt; stroke-linejoin:round; stroke-width:4; stroke-opacity:1; fill:none\" points=\"\n  15434.9,1384.24 15434.9,1384.24 15495.7,1384.24 15434.9,1384.24 \n  \"/>\n<path clip-path=\"url(#clip092)\" d=\"\nM15495.7 1384.24 L15495.7 1384.24 L15556.6 1384.24 L15556.6 1384.24 L15495.7 1384.24 L15495.7 1384.24  Z\n  \" fill=\"#009af9\" fill-rule=\"evenodd\" fill-opacity=\"1\"/>\n<polyline clip-path=\"url(#clip092)\" style=\"stroke:#000000; stroke-linecap:butt; stroke-linejoin:round; stroke-width:4; stroke-opacity:1; fill:none\" points=\"\n  15495.7,1384.24 15495.7,1384.24 15556.6,1384.24 15495.7,1384.24 \n  \"/>\n<path clip-path=\"url(#clip092)\" d=\"\nM15556.6 1384.24 L15556.6 1384.24 L15617.5 1384.24 L15617.5 1384.24 L15556.6 1384.24 L15556.6 1384.24  Z\n  \" fill=\"#009af9\" fill-rule=\"evenodd\" fill-opacity=\"1\"/>\n<polyline clip-path=\"url(#clip092)\" style=\"stroke:#000000; stroke-linecap:butt; stroke-linejoin:round; stroke-width:4; stroke-opacity:1; fill:none\" points=\"\n  15556.6,1384.24 15556.6,1384.24 15617.5,1384.24 15556.6,1384.24 \n  \"/>\n<path clip-path=\"url(#clip092)\" d=\"\nM15617.5 1384.24 L15617.5 1384.24 L15678.4 1384.24 L15678.4 1384.24 L15617.5 1384.24 L15617.5 1384.24  Z\n  \" fill=\"#009af9\" fill-rule=\"evenodd\" fill-opacity=\"1\"/>\n<polyline clip-path=\"url(#clip092)\" style=\"stroke:#000000; stroke-linecap:butt; stroke-linejoin:round; stroke-width:4; stroke-opacity:1; fill:none\" points=\"\n  15617.5,1384.24 15617.5,1384.24 15678.4,1384.24 15617.5,1384.24 \n  \"/>\n<path clip-path=\"url(#clip092)\" d=\"\nM15678.4 1384.24 L15678.4 1384.24 L15739.3 1384.24 L15739.3 1384.24 L15678.4 1384.24 L15678.4 1384.24  Z\n  \" fill=\"#009af9\" fill-rule=\"evenodd\" fill-opacity=\"1\"/>\n<polyline clip-path=\"url(#clip092)\" style=\"stroke:#000000; stroke-linecap:butt; stroke-linejoin:round; stroke-width:4; stroke-opacity:1; fill:none\" points=\"\n  15678.4,1384.24 15678.4,1384.24 15739.3,1384.24 15678.4,1384.24 \n  \"/>\n<path clip-path=\"url(#clip092)\" d=\"\nM15739.3 1384.24 L15739.3 1384.24 L15800.2 1384.24 L15800.2 1384.24 L15739.3 1384.24 L15739.3 1384.24  Z\n  \" fill=\"#009af9\" fill-rule=\"evenodd\" fill-opacity=\"1\"/>\n<polyline clip-path=\"url(#clip092)\" style=\"stroke:#000000; stroke-linecap:butt; stroke-linejoin:round; stroke-width:4; stroke-opacity:1; fill:none\" points=\"\n  15739.3,1384.24 15739.3,1384.24 15800.2,1384.24 15739.3,1384.24 \n  \"/>\n<path clip-path=\"url(#clip092)\" d=\"\nM15800.2 1384.24 L15800.2 1384.24 L15861.1 1384.24 L15861.1 1384.24 L15800.2 1384.24 L15800.2 1384.24  Z\n  \" fill=\"#009af9\" fill-rule=\"evenodd\" fill-opacity=\"1\"/>\n<polyline clip-path=\"url(#clip092)\" style=\"stroke:#000000; stroke-linecap:butt; stroke-linejoin:round; stroke-width:4; stroke-opacity:1; fill:none\" points=\"\n  15800.2,1384.24 15800.2,1384.24 15861.1,1384.24 15800.2,1384.24 \n  \"/>\n<path clip-path=\"url(#clip092)\" d=\"\nM15861.1 1384.24 L15861.1 1384.24 L15922 1384.24 L15922 1384.24 L15861.1 1384.24 L15861.1 1384.24  Z\n  \" fill=\"#009af9\" fill-rule=\"evenodd\" fill-opacity=\"1\"/>\n<polyline clip-path=\"url(#clip092)\" style=\"stroke:#000000; stroke-linecap:butt; stroke-linejoin:round; stroke-width:4; stroke-opacity:1; fill:none\" points=\"\n  15861.1,1384.24 15861.1,1384.24 15922,1384.24 15861.1,1384.24 \n  \"/>\n<path clip-path=\"url(#clip092)\" d=\"\nM15922 1384.24 L15922 1384.24 L15982.9 1384.24 L15982.9 1384.24 L15922 1384.24 L15922 1384.24  Z\n  \" fill=\"#009af9\" fill-rule=\"evenodd\" fill-opacity=\"1\"/>\n<polyline clip-path=\"url(#clip092)\" style=\"stroke:#000000; stroke-linecap:butt; stroke-linejoin:round; stroke-width:4; stroke-opacity:1; fill:none\" points=\"\n  15922,1384.24 15922,1384.24 15982.9,1384.24 15922,1384.24 \n  \"/>\n<path clip-path=\"url(#clip092)\" d=\"\nM15982.9 1384.24 L15982.9 1384.24 L16043.8 1384.24 L16043.8 1384.24 L15982.9 1384.24 L15982.9 1384.24  Z\n  \" fill=\"#009af9\" fill-rule=\"evenodd\" fill-opacity=\"1\"/>\n<polyline clip-path=\"url(#clip092)\" style=\"stroke:#000000; stroke-linecap:butt; stroke-linejoin:round; stroke-width:4; stroke-opacity:1; fill:none\" points=\"\n  15982.9,1384.24 15982.9,1384.24 16043.8,1384.24 15982.9,1384.24 \n  \"/>\n<path clip-path=\"url(#clip092)\" d=\"\nM16043.8 1384.24 L16043.8 1384.24 L16104.6 1384.24 L16104.6 1384.24 L16043.8 1384.24 L16043.8 1384.24  Z\n  \" fill=\"#009af9\" fill-rule=\"evenodd\" fill-opacity=\"1\"/>\n<polyline clip-path=\"url(#clip092)\" style=\"stroke:#000000; stroke-linecap:butt; stroke-linejoin:round; stroke-width:4; stroke-opacity:1; fill:none\" points=\"\n  16043.8,1384.24 16043.8,1384.24 16104.6,1384.24 16043.8,1384.24 \n  \"/>\n<path clip-path=\"url(#clip092)\" d=\"\nM16104.6 1384.24 L16104.6 1384.24 L16165.5 1384.24 L16165.5 1384.24 L16104.6 1384.24 L16104.6 1384.24  Z\n  \" fill=\"#009af9\" fill-rule=\"evenodd\" fill-opacity=\"1\"/>\n<polyline clip-path=\"url(#clip092)\" style=\"stroke:#000000; stroke-linecap:butt; stroke-linejoin:round; stroke-width:4; stroke-opacity:1; fill:none\" points=\"\n  16104.6,1384.24 16104.6,1384.24 16165.5,1384.24 16104.6,1384.24 \n  \"/>\n<path clip-path=\"url(#clip092)\" d=\"\nM16165.5 1384.24 L16165.5 1384.24 L16226.4 1384.24 L16226.4 1384.24 L16165.5 1384.24 L16165.5 1384.24  Z\n  \" fill=\"#009af9\" fill-rule=\"evenodd\" fill-opacity=\"1\"/>\n<polyline clip-path=\"url(#clip092)\" style=\"stroke:#000000; stroke-linecap:butt; stroke-linejoin:round; stroke-width:4; stroke-opacity:1; fill:none\" points=\"\n  16165.5,1384.24 16165.5,1384.24 16226.4,1384.24 16165.5,1384.24 \n  \"/>\n<path clip-path=\"url(#clip092)\" d=\"\nM16226.4 1384.24 L16226.4 1384.24 L16287.3 1384.24 L16287.3 1384.24 L16226.4 1384.24 L16226.4 1384.24  Z\n  \" fill=\"#009af9\" fill-rule=\"evenodd\" fill-opacity=\"1\"/>\n<polyline clip-path=\"url(#clip092)\" style=\"stroke:#000000; stroke-linecap:butt; stroke-linejoin:round; stroke-width:4; stroke-opacity:1; fill:none\" points=\"\n  16226.4,1384.24 16226.4,1384.24 16287.3,1384.24 16226.4,1384.24 \n  \"/>\n<path clip-path=\"url(#clip092)\" d=\"\nM16287.3 1384.24 L16287.3 1384.24 L16348.2 1384.24 L16348.2 1384.24 L16287.3 1384.24 L16287.3 1384.24  Z\n  \" fill=\"#009af9\" fill-rule=\"evenodd\" fill-opacity=\"1\"/>\n<polyline clip-path=\"url(#clip092)\" style=\"stroke:#000000; stroke-linecap:butt; stroke-linejoin:round; stroke-width:4; stroke-opacity:1; fill:none\" points=\"\n  16287.3,1384.24 16287.3,1384.24 16348.2,1384.24 16287.3,1384.24 \n  \"/>\n<path clip-path=\"url(#clip092)\" d=\"\nM16348.2 1384.24 L16348.2 1384.24 L16409.1 1384.24 L16409.1 1384.24 L16348.2 1384.24 L16348.2 1384.24  Z\n  \" fill=\"#009af9\" fill-rule=\"evenodd\" fill-opacity=\"1\"/>\n<polyline clip-path=\"url(#clip092)\" style=\"stroke:#000000; stroke-linecap:butt; stroke-linejoin:round; stroke-width:4; stroke-opacity:1; fill:none\" points=\"\n  16348.2,1384.24 16348.2,1384.24 16409.1,1384.24 16348.2,1384.24 \n  \"/>\n<path clip-path=\"url(#clip092)\" d=\"\nM16409.1 1384.24 L16409.1 1384.24 L16470 1384.24 L16470 1384.24 L16409.1 1384.24 L16409.1 1384.24  Z\n  \" fill=\"#009af9\" fill-rule=\"evenodd\" fill-opacity=\"1\"/>\n<polyline clip-path=\"url(#clip092)\" style=\"stroke:#000000; stroke-linecap:butt; stroke-linejoin:round; stroke-width:4; stroke-opacity:1; fill:none\" points=\"\n  16409.1,1384.24 16409.1,1384.24 16470,1384.24 16409.1,1384.24 \n  \"/>\n<path clip-path=\"url(#clip092)\" d=\"\nM16470 1384.24 L16470 1384.24 L16530.9 1384.24 L16530.9 1384.24 L16470 1384.24 L16470 1384.24  Z\n  \" fill=\"#009af9\" fill-rule=\"evenodd\" fill-opacity=\"1\"/>\n<polyline clip-path=\"url(#clip092)\" style=\"stroke:#000000; stroke-linecap:butt; stroke-linejoin:round; stroke-width:4; stroke-opacity:1; fill:none\" points=\"\n  16470,1384.24 16470,1384.24 16530.9,1384.24 16470,1384.24 \n  \"/>\n<path clip-path=\"url(#clip092)\" d=\"\nM16530.9 1384.24 L16530.9 1384.24 L16591.8 1384.24 L16591.8 1384.24 L16530.9 1384.24 L16530.9 1384.24  Z\n  \" fill=\"#009af9\" fill-rule=\"evenodd\" fill-opacity=\"1\"/>\n<polyline clip-path=\"url(#clip092)\" style=\"stroke:#000000; stroke-linecap:butt; stroke-linejoin:round; stroke-width:4; stroke-opacity:1; fill:none\" points=\"\n  16530.9,1384.24 16530.9,1384.24 16591.8,1384.24 16530.9,1384.24 \n  \"/>\n<path clip-path=\"url(#clip092)\" d=\"\nM16591.8 1384.24 L16591.8 1384.24 L16652.6 1384.24 L16652.6 1384.24 L16591.8 1384.24 L16591.8 1384.24  Z\n  \" fill=\"#009af9\" fill-rule=\"evenodd\" fill-opacity=\"1\"/>\n<polyline clip-path=\"url(#clip092)\" style=\"stroke:#000000; stroke-linecap:butt; stroke-linejoin:round; stroke-width:4; stroke-opacity:1; fill:none\" points=\"\n  16591.8,1384.24 16591.8,1384.24 16652.6,1384.24 16591.8,1384.24 \n  \"/>\n<path clip-path=\"url(#clip092)\" d=\"\nM16652.6 1384.24 L16652.6 1384.24 L16713.5 1384.24 L16713.5 1384.24 L16652.6 1384.24 L16652.6 1384.24  Z\n  \" fill=\"#009af9\" fill-rule=\"evenodd\" fill-opacity=\"1\"/>\n<polyline clip-path=\"url(#clip092)\" style=\"stroke:#000000; stroke-linecap:butt; stroke-linejoin:round; stroke-width:4; stroke-opacity:1; fill:none\" points=\"\n  16652.6,1384.24 16652.6,1384.24 16713.5,1384.24 16652.6,1384.24 \n  \"/>\n<path clip-path=\"url(#clip092)\" d=\"\nM16713.5 1384.24 L16713.5 1384.24 L16774.4 1384.24 L16774.4 1384.24 L16713.5 1384.24 L16713.5 1384.24  Z\n  \" fill=\"#009af9\" fill-rule=\"evenodd\" fill-opacity=\"1\"/>\n<polyline clip-path=\"url(#clip092)\" style=\"stroke:#000000; stroke-linecap:butt; stroke-linejoin:round; stroke-width:4; stroke-opacity:1; fill:none\" points=\"\n  16713.5,1384.24 16713.5,1384.24 16774.4,1384.24 16713.5,1384.24 \n  \"/>\n<path clip-path=\"url(#clip092)\" d=\"\nM16774.4 1384.24 L16774.4 1384.24 L16835.3 1384.24 L16835.3 1384.24 L16774.4 1384.24 L16774.4 1384.24  Z\n  \" fill=\"#009af9\" fill-rule=\"evenodd\" fill-opacity=\"1\"/>\n<polyline clip-path=\"url(#clip092)\" style=\"stroke:#000000; stroke-linecap:butt; stroke-linejoin:round; stroke-width:4; stroke-opacity:1; fill:none\" points=\"\n  16774.4,1384.24 16774.4,1384.24 16835.3,1384.24 16774.4,1384.24 \n  \"/>\n<path clip-path=\"url(#clip092)\" d=\"\nM16835.3 1384.24 L16835.3 1384.24 L16896.2 1384.24 L16896.2 1384.24 L16835.3 1384.24 L16835.3 1384.24  Z\n  \" fill=\"#009af9\" fill-rule=\"evenodd\" fill-opacity=\"1\"/>\n<polyline clip-path=\"url(#clip092)\" style=\"stroke:#000000; stroke-linecap:butt; stroke-linejoin:round; stroke-width:4; stroke-opacity:1; fill:none\" points=\"\n  16835.3,1384.24 16835.3,1384.24 16896.2,1384.24 16835.3,1384.24 \n  \"/>\n<path clip-path=\"url(#clip092)\" d=\"\nM16896.2 1384.24 L16896.2 1384.24 L16957.1 1384.24 L16957.1 1384.24 L16896.2 1384.24 L16896.2 1384.24  Z\n  \" fill=\"#009af9\" fill-rule=\"evenodd\" fill-opacity=\"1\"/>\n<polyline clip-path=\"url(#clip092)\" style=\"stroke:#000000; stroke-linecap:butt; stroke-linejoin:round; stroke-width:4; stroke-opacity:1; fill:none\" points=\"\n  16896.2,1384.24 16896.2,1384.24 16957.1,1384.24 16896.2,1384.24 \n  \"/>\n<path clip-path=\"url(#clip092)\" d=\"\nM16957.1 1384.24 L16957.1 1384.24 L17018 1384.24 L17018 1384.24 L16957.1 1384.24 L16957.1 1384.24  Z\n  \" fill=\"#009af9\" fill-rule=\"evenodd\" fill-opacity=\"1\"/>\n<polyline clip-path=\"url(#clip092)\" style=\"stroke:#000000; stroke-linecap:butt; stroke-linejoin:round; stroke-width:4; stroke-opacity:1; fill:none\" points=\"\n  16957.1,1384.24 16957.1,1384.24 17018,1384.24 16957.1,1384.24 \n  \"/>\n<path clip-path=\"url(#clip092)\" d=\"\nM17018 1384.24 L17018 1384.24 L17078.9 1384.24 L17078.9 1384.24 L17018 1384.24 L17018 1384.24  Z\n  \" fill=\"#009af9\" fill-rule=\"evenodd\" fill-opacity=\"1\"/>\n<polyline clip-path=\"url(#clip092)\" style=\"stroke:#000000; stroke-linecap:butt; stroke-linejoin:round; stroke-width:4; stroke-opacity:1; fill:none\" points=\"\n  17018,1384.24 17018,1384.24 17078.9,1384.24 17018,1384.24 \n  \"/>\n<path clip-path=\"url(#clip092)\" d=\"\nM17078.9 1384.24 L17078.9 1384.24 L17139.8 1384.24 L17139.8 1384.24 L17078.9 1384.24 L17078.9 1384.24  Z\n  \" fill=\"#009af9\" fill-rule=\"evenodd\" fill-opacity=\"1\"/>\n<polyline clip-path=\"url(#clip092)\" style=\"stroke:#000000; stroke-linecap:butt; stroke-linejoin:round; stroke-width:4; stroke-opacity:1; fill:none\" points=\"\n  17078.9,1384.24 17078.9,1384.24 17139.8,1384.24 17078.9,1384.24 \n  \"/>\n<path clip-path=\"url(#clip092)\" d=\"\nM17139.8 1384.24 L17139.8 1384.24 L17200.7 1384.24 L17200.7 1384.24 L17139.8 1384.24 L17139.8 1384.24  Z\n  \" fill=\"#009af9\" fill-rule=\"evenodd\" fill-opacity=\"1\"/>\n<polyline clip-path=\"url(#clip092)\" style=\"stroke:#000000; stroke-linecap:butt; stroke-linejoin:round; stroke-width:4; stroke-opacity:1; fill:none\" points=\"\n  17139.8,1384.24 17139.8,1384.24 17200.7,1384.24 17139.8,1384.24 \n  \"/>\n<path clip-path=\"url(#clip092)\" d=\"\nM17200.7 1384.24 L17200.7 1384.24 L17261.5 1384.24 L17261.5 1384.24 L17200.7 1384.24 L17200.7 1384.24  Z\n  \" fill=\"#009af9\" fill-rule=\"evenodd\" fill-opacity=\"1\"/>\n<polyline clip-path=\"url(#clip092)\" style=\"stroke:#000000; stroke-linecap:butt; stroke-linejoin:round; stroke-width:4; stroke-opacity:1; fill:none\" points=\"\n  17200.7,1384.24 17200.7,1384.24 17261.5,1384.24 17200.7,1384.24 \n  \"/>\n<path clip-path=\"url(#clip092)\" d=\"\nM17261.5 1384.24 L17261.5 1384.24 L17322.4 1384.24 L17322.4 1384.24 L17261.5 1384.24 L17261.5 1384.24  Z\n  \" fill=\"#009af9\" fill-rule=\"evenodd\" fill-opacity=\"1\"/>\n<polyline clip-path=\"url(#clip092)\" style=\"stroke:#000000; stroke-linecap:butt; stroke-linejoin:round; stroke-width:4; stroke-opacity:1; fill:none\" points=\"\n  17261.5,1384.24 17261.5,1384.24 17322.4,1384.24 17261.5,1384.24 \n  \"/>\n<path clip-path=\"url(#clip092)\" d=\"\nM17322.4 1384.24 L17322.4 1384.24 L17383.3 1384.24 L17383.3 1384.24 L17322.4 1384.24 L17322.4 1384.24  Z\n  \" fill=\"#009af9\" fill-rule=\"evenodd\" fill-opacity=\"1\"/>\n<polyline clip-path=\"url(#clip092)\" style=\"stroke:#000000; stroke-linecap:butt; stroke-linejoin:round; stroke-width:4; stroke-opacity:1; fill:none\" points=\"\n  17322.4,1384.24 17322.4,1384.24 17383.3,1384.24 17322.4,1384.24 \n  \"/>\n<path clip-path=\"url(#clip092)\" d=\"\nM17383.3 1384.24 L17383.3 1384.24 L17444.2 1384.24 L17444.2 1384.24 L17383.3 1384.24 L17383.3 1384.24  Z\n  \" fill=\"#009af9\" fill-rule=\"evenodd\" fill-opacity=\"1\"/>\n<polyline clip-path=\"url(#clip092)\" style=\"stroke:#000000; stroke-linecap:butt; stroke-linejoin:round; stroke-width:4; stroke-opacity:1; fill:none\" points=\"\n  17383.3,1384.24 17383.3,1384.24 17444.2,1384.24 17383.3,1384.24 \n  \"/>\n<path clip-path=\"url(#clip092)\" d=\"\nM17444.2 1384.24 L17444.2 1384.24 L17505.1 1384.24 L17505.1 1384.24 L17444.2 1384.24 L17444.2 1384.24  Z\n  \" fill=\"#009af9\" fill-rule=\"evenodd\" fill-opacity=\"1\"/>\n<polyline clip-path=\"url(#clip092)\" style=\"stroke:#000000; stroke-linecap:butt; stroke-linejoin:round; stroke-width:4; stroke-opacity:1; fill:none\" points=\"\n  17444.2,1384.24 17444.2,1384.24 17505.1,1384.24 17444.2,1384.24 \n  \"/>\n<path clip-path=\"url(#clip092)\" d=\"\nM17505.1 1384.24 L17505.1 1384.24 L17566 1384.24 L17566 1384.24 L17505.1 1384.24 L17505.1 1384.24  Z\n  \" fill=\"#009af9\" fill-rule=\"evenodd\" fill-opacity=\"1\"/>\n<polyline clip-path=\"url(#clip092)\" style=\"stroke:#000000; stroke-linecap:butt; stroke-linejoin:round; stroke-width:4; stroke-opacity:1; fill:none\" points=\"\n  17505.1,1384.24 17505.1,1384.24 17566,1384.24 17505.1,1384.24 \n  \"/>\n<path clip-path=\"url(#clip092)\" d=\"\nM17566 1384.24 L17566 1384.24 L17626.9 1384.24 L17626.9 1384.24 L17566 1384.24 L17566 1384.24  Z\n  \" fill=\"#009af9\" fill-rule=\"evenodd\" fill-opacity=\"1\"/>\n<polyline clip-path=\"url(#clip092)\" style=\"stroke:#000000; stroke-linecap:butt; stroke-linejoin:round; stroke-width:4; stroke-opacity:1; fill:none\" points=\"\n  17566,1384.24 17566,1384.24 17626.9,1384.24 17566,1384.24 \n  \"/>\n<path clip-path=\"url(#clip092)\" d=\"\nM17626.9 1384.24 L17626.9 1384.24 L17687.8 1384.24 L17687.8 1384.24 L17626.9 1384.24 L17626.9 1384.24  Z\n  \" fill=\"#009af9\" fill-rule=\"evenodd\" fill-opacity=\"1\"/>\n<polyline clip-path=\"url(#clip092)\" style=\"stroke:#000000; stroke-linecap:butt; stroke-linejoin:round; stroke-width:4; stroke-opacity:1; fill:none\" points=\"\n  17626.9,1384.24 17626.9,1384.24 17687.8,1384.24 17626.9,1384.24 \n  \"/>\n<path clip-path=\"url(#clip092)\" d=\"\nM17687.8 1384.24 L17687.8 1384.24 L17748.7 1384.24 L17748.7 1384.24 L17687.8 1384.24 L17687.8 1384.24  Z\n  \" fill=\"#009af9\" fill-rule=\"evenodd\" fill-opacity=\"1\"/>\n<polyline clip-path=\"url(#clip092)\" style=\"stroke:#000000; stroke-linecap:butt; stroke-linejoin:round; stroke-width:4; stroke-opacity:1; fill:none\" points=\"\n  17687.8,1384.24 17687.8,1384.24 17748.7,1384.24 17687.8,1384.24 \n  \"/>\n<path clip-path=\"url(#clip092)\" d=\"\nM17748.7 1384.24 L17748.7 1384.24 L17809.5 1384.24 L17809.5 1384.24 L17748.7 1384.24 L17748.7 1384.24  Z\n  \" fill=\"#009af9\" fill-rule=\"evenodd\" fill-opacity=\"1\"/>\n<polyline clip-path=\"url(#clip092)\" style=\"stroke:#000000; stroke-linecap:butt; stroke-linejoin:round; stroke-width:4; stroke-opacity:1; fill:none\" points=\"\n  17748.7,1384.24 17748.7,1384.24 17809.5,1384.24 17748.7,1384.24 \n  \"/>\n<path clip-path=\"url(#clip092)\" d=\"\nM17809.5 1384.24 L17809.5 1384.24 L17870.4 1384.24 L17870.4 1384.24 L17809.5 1384.24 L17809.5 1384.24  Z\n  \" fill=\"#009af9\" fill-rule=\"evenodd\" fill-opacity=\"1\"/>\n<polyline clip-path=\"url(#clip092)\" style=\"stroke:#000000; stroke-linecap:butt; stroke-linejoin:round; stroke-width:4; stroke-opacity:1; fill:none\" points=\"\n  17809.5,1384.24 17809.5,1384.24 17870.4,1384.24 17809.5,1384.24 \n  \"/>\n<path clip-path=\"url(#clip092)\" d=\"\nM17870.4 1384.24 L17870.4 1384.24 L17931.3 1384.24 L17931.3 1384.24 L17870.4 1384.24 L17870.4 1384.24  Z\n  \" fill=\"#009af9\" fill-rule=\"evenodd\" fill-opacity=\"1\"/>\n<polyline clip-path=\"url(#clip092)\" style=\"stroke:#000000; stroke-linecap:butt; stroke-linejoin:round; stroke-width:4; stroke-opacity:1; fill:none\" points=\"\n  17870.4,1384.24 17870.4,1384.24 17931.3,1384.24 17870.4,1384.24 \n  \"/>\n<path clip-path=\"url(#clip092)\" d=\"\nM17931.3 1384.24 L17931.3 1384.24 L17992.2 1384.24 L17992.2 1384.24 L17931.3 1384.24 L17931.3 1384.24  Z\n  \" fill=\"#009af9\" fill-rule=\"evenodd\" fill-opacity=\"1\"/>\n<polyline clip-path=\"url(#clip092)\" style=\"stroke:#000000; stroke-linecap:butt; stroke-linejoin:round; stroke-width:4; stroke-opacity:1; fill:none\" points=\"\n  17931.3,1384.24 17931.3,1384.24 17992.2,1384.24 17931.3,1384.24 \n  \"/>\n<path clip-path=\"url(#clip092)\" d=\"\nM17992.2 1384.24 L17992.2 1384.24 L18053.1 1384.24 L18053.1 1384.24 L17992.2 1384.24 L17992.2 1384.24  Z\n  \" fill=\"#009af9\" fill-rule=\"evenodd\" fill-opacity=\"1\"/>\n<polyline clip-path=\"url(#clip092)\" style=\"stroke:#000000; stroke-linecap:butt; stroke-linejoin:round; stroke-width:4; stroke-opacity:1; fill:none\" points=\"\n  17992.2,1384.24 17992.2,1384.24 18053.1,1384.24 17992.2,1384.24 \n  \"/>\n<path clip-path=\"url(#clip092)\" d=\"\nM18053.1 1384.24 L18053.1 1384.24 L18114 1384.24 L18114 1384.24 L18053.1 1384.24 L18053.1 1384.24  Z\n  \" fill=\"#009af9\" fill-rule=\"evenodd\" fill-opacity=\"1\"/>\n<polyline clip-path=\"url(#clip092)\" style=\"stroke:#000000; stroke-linecap:butt; stroke-linejoin:round; stroke-width:4; stroke-opacity:1; fill:none\" points=\"\n  18053.1,1384.24 18053.1,1384.24 18114,1384.24 18053.1,1384.24 \n  \"/>\n<path clip-path=\"url(#clip092)\" d=\"\nM18114 1384.24 L18114 1384.24 L18174.9 1384.24 L18174.9 1384.24 L18114 1384.24 L18114 1384.24  Z\n  \" fill=\"#009af9\" fill-rule=\"evenodd\" fill-opacity=\"1\"/>\n<polyline clip-path=\"url(#clip092)\" style=\"stroke:#000000; stroke-linecap:butt; stroke-linejoin:round; stroke-width:4; stroke-opacity:1; fill:none\" points=\"\n  18114,1384.24 18114,1384.24 18174.9,1384.24 18114,1384.24 \n  \"/>\n<path clip-path=\"url(#clip092)\" d=\"\nM18174.9 1384.24 L18174.9 1384.24 L18235.8 1384.24 L18235.8 1384.24 L18174.9 1384.24 L18174.9 1384.24  Z\n  \" fill=\"#009af9\" fill-rule=\"evenodd\" fill-opacity=\"1\"/>\n<polyline clip-path=\"url(#clip092)\" style=\"stroke:#000000; stroke-linecap:butt; stroke-linejoin:round; stroke-width:4; stroke-opacity:1; fill:none\" points=\"\n  18174.9,1384.24 18174.9,1384.24 18235.8,1384.24 18174.9,1384.24 \n  \"/>\n<path clip-path=\"url(#clip092)\" d=\"\nM18235.8 1384.24 L18235.8 1384.24 L18296.7 1384.24 L18296.7 1384.24 L18235.8 1384.24 L18235.8 1384.24  Z\n  \" fill=\"#009af9\" fill-rule=\"evenodd\" fill-opacity=\"1\"/>\n<polyline clip-path=\"url(#clip092)\" style=\"stroke:#000000; stroke-linecap:butt; stroke-linejoin:round; stroke-width:4; stroke-opacity:1; fill:none\" points=\"\n  18235.8,1384.24 18235.8,1384.24 18296.7,1384.24 18235.8,1384.24 \n  \"/>\n<path clip-path=\"url(#clip092)\" d=\"\nM18296.7 1384.24 L18296.7 1384.24 L18357.5 1384.24 L18357.5 1384.24 L18296.7 1384.24 L18296.7 1384.24  Z\n  \" fill=\"#009af9\" fill-rule=\"evenodd\" fill-opacity=\"1\"/>\n<polyline clip-path=\"url(#clip092)\" style=\"stroke:#000000; stroke-linecap:butt; stroke-linejoin:round; stroke-width:4; stroke-opacity:1; fill:none\" points=\"\n  18296.7,1384.24 18296.7,1384.24 18357.5,1384.24 18296.7,1384.24 \n  \"/>\n<path clip-path=\"url(#clip092)\" d=\"\nM18357.5 1384.24 L18357.5 1384.24 L18418.4 1384.24 L18418.4 1384.24 L18357.5 1384.24 L18357.5 1384.24  Z\n  \" fill=\"#009af9\" fill-rule=\"evenodd\" fill-opacity=\"1\"/>\n<polyline clip-path=\"url(#clip092)\" style=\"stroke:#000000; stroke-linecap:butt; stroke-linejoin:round; stroke-width:4; stroke-opacity:1; fill:none\" points=\"\n  18357.5,1384.24 18357.5,1384.24 18418.4,1384.24 18357.5,1384.24 \n  \"/>\n<path clip-path=\"url(#clip092)\" d=\"\nM18418.4 1384.24 L18418.4 1384.24 L18479.3 1384.24 L18479.3 1384.24 L18418.4 1384.24 L18418.4 1384.24  Z\n  \" fill=\"#009af9\" fill-rule=\"evenodd\" fill-opacity=\"1\"/>\n<polyline clip-path=\"url(#clip092)\" style=\"stroke:#000000; stroke-linecap:butt; stroke-linejoin:round; stroke-width:4; stroke-opacity:1; fill:none\" points=\"\n  18418.4,1384.24 18418.4,1384.24 18479.3,1384.24 18418.4,1384.24 \n  \"/>\n<path clip-path=\"url(#clip092)\" d=\"\nM18479.3 1384.24 L18479.3 1384.24 L18540.2 1384.24 L18540.2 1384.24 L18479.3 1384.24 L18479.3 1384.24  Z\n  \" fill=\"#009af9\" fill-rule=\"evenodd\" fill-opacity=\"1\"/>\n<polyline clip-path=\"url(#clip092)\" style=\"stroke:#000000; stroke-linecap:butt; stroke-linejoin:round; stroke-width:4; stroke-opacity:1; fill:none\" points=\"\n  18479.3,1384.24 18479.3,1384.24 18540.2,1384.24 18479.3,1384.24 \n  \"/>\n<path clip-path=\"url(#clip092)\" d=\"\nM18540.2 1384.24 L18540.2 1384.24 L18601.1 1384.24 L18601.1 1384.24 L18540.2 1384.24 L18540.2 1384.24  Z\n  \" fill=\"#009af9\" fill-rule=\"evenodd\" fill-opacity=\"1\"/>\n<polyline clip-path=\"url(#clip092)\" style=\"stroke:#000000; stroke-linecap:butt; stroke-linejoin:round; stroke-width:4; stroke-opacity:1; fill:none\" points=\"\n  18540.2,1384.24 18540.2,1384.24 18601.1,1384.24 18540.2,1384.24 \n  \"/>\n<path clip-path=\"url(#clip092)\" d=\"\nM18601.1 1384.24 L18601.1 1384.24 L18662 1384.24 L18662 1384.24 L18601.1 1384.24 L18601.1 1384.24  Z\n  \" fill=\"#009af9\" fill-rule=\"evenodd\" fill-opacity=\"1\"/>\n<polyline clip-path=\"url(#clip092)\" style=\"stroke:#000000; stroke-linecap:butt; stroke-linejoin:round; stroke-width:4; stroke-opacity:1; fill:none\" points=\"\n  18601.1,1384.24 18601.1,1384.24 18662,1384.24 18601.1,1384.24 \n  \"/>\n<path clip-path=\"url(#clip092)\" d=\"\nM18662 1384.24 L18662 1384.24 L18722.9 1384.24 L18722.9 1384.24 L18662 1384.24 L18662 1384.24  Z\n  \" fill=\"#009af9\" fill-rule=\"evenodd\" fill-opacity=\"1\"/>\n<polyline clip-path=\"url(#clip092)\" style=\"stroke:#000000; stroke-linecap:butt; stroke-linejoin:round; stroke-width:4; stroke-opacity:1; fill:none\" points=\"\n  18662,1384.24 18662,1384.24 18722.9,1384.24 18662,1384.24 \n  \"/>\n<path clip-path=\"url(#clip092)\" d=\"\nM18722.9 1384.24 L18722.9 1384.24 L18783.8 1384.24 L18783.8 1384.24 L18722.9 1384.24 L18722.9 1384.24  Z\n  \" fill=\"#009af9\" fill-rule=\"evenodd\" fill-opacity=\"1\"/>\n<polyline clip-path=\"url(#clip092)\" style=\"stroke:#000000; stroke-linecap:butt; stroke-linejoin:round; stroke-width:4; stroke-opacity:1; fill:none\" points=\"\n  18722.9,1384.24 18722.9,1384.24 18783.8,1384.24 18722.9,1384.24 \n  \"/>\n<path clip-path=\"url(#clip092)\" d=\"\nM18783.8 1384.24 L18783.8 1384.24 L18844.7 1384.24 L18844.7 1384.24 L18783.8 1384.24 L18783.8 1384.24  Z\n  \" fill=\"#009af9\" fill-rule=\"evenodd\" fill-opacity=\"1\"/>\n<polyline clip-path=\"url(#clip092)\" style=\"stroke:#000000; stroke-linecap:butt; stroke-linejoin:round; stroke-width:4; stroke-opacity:1; fill:none\" points=\"\n  18783.8,1384.24 18783.8,1384.24 18844.7,1384.24 18783.8,1384.24 \n  \"/>\n<path clip-path=\"url(#clip092)\" d=\"\nM18844.7 1384.24 L18844.7 1384.24 L18905.6 1384.24 L18905.6 1384.24 L18844.7 1384.24 L18844.7 1384.24  Z\n  \" fill=\"#009af9\" fill-rule=\"evenodd\" fill-opacity=\"1\"/>\n<polyline clip-path=\"url(#clip092)\" style=\"stroke:#000000; stroke-linecap:butt; stroke-linejoin:round; stroke-width:4; stroke-opacity:1; fill:none\" points=\"\n  18844.7,1384.24 18844.7,1384.24 18905.6,1384.24 18844.7,1384.24 \n  \"/>\n<path clip-path=\"url(#clip092)\" d=\"\nM18905.6 1384.24 L18905.6 1384.24 L18966.4 1384.24 L18966.4 1384.24 L18905.6 1384.24 L18905.6 1384.24  Z\n  \" fill=\"#009af9\" fill-rule=\"evenodd\" fill-opacity=\"1\"/>\n<polyline clip-path=\"url(#clip092)\" style=\"stroke:#000000; stroke-linecap:butt; stroke-linejoin:round; stroke-width:4; stroke-opacity:1; fill:none\" points=\"\n  18905.6,1384.24 18905.6,1384.24 18966.4,1384.24 18905.6,1384.24 \n  \"/>\n<path clip-path=\"url(#clip092)\" d=\"\nM18966.4 1384.24 L18966.4 1384.24 L19027.3 1384.24 L19027.3 1384.24 L18966.4 1384.24 L18966.4 1384.24  Z\n  \" fill=\"#009af9\" fill-rule=\"evenodd\" fill-opacity=\"1\"/>\n<polyline clip-path=\"url(#clip092)\" style=\"stroke:#000000; stroke-linecap:butt; stroke-linejoin:round; stroke-width:4; stroke-opacity:1; fill:none\" points=\"\n  18966.4,1384.24 18966.4,1384.24 19027.3,1384.24 18966.4,1384.24 \n  \"/>\n<path clip-path=\"url(#clip092)\" d=\"\nM19027.3 1384.24 L19027.3 1384.24 L19088.2 1384.24 L19088.2 1384.24 L19027.3 1384.24 L19027.3 1384.24  Z\n  \" fill=\"#009af9\" fill-rule=\"evenodd\" fill-opacity=\"1\"/>\n<polyline clip-path=\"url(#clip092)\" style=\"stroke:#000000; stroke-linecap:butt; stroke-linejoin:round; stroke-width:4; stroke-opacity:1; fill:none\" points=\"\n  19027.3,1384.24 19027.3,1384.24 19088.2,1384.24 19027.3,1384.24 \n  \"/>\n<path clip-path=\"url(#clip092)\" d=\"\nM19088.2 1384.24 L19088.2 1384.24 L19149.1 1384.24 L19149.1 1384.24 L19088.2 1384.24 L19088.2 1384.24  Z\n  \" fill=\"#009af9\" fill-rule=\"evenodd\" fill-opacity=\"1\"/>\n<polyline clip-path=\"url(#clip092)\" style=\"stroke:#000000; stroke-linecap:butt; stroke-linejoin:round; stroke-width:4; stroke-opacity:1; fill:none\" points=\"\n  19088.2,1384.24 19088.2,1384.24 19149.1,1384.24 19088.2,1384.24 \n  \"/>\n<path clip-path=\"url(#clip092)\" d=\"\nM19149.1 1384.24 L19149.1 1384.24 L19210 1384.24 L19210 1384.24 L19149.1 1384.24 L19149.1 1384.24  Z\n  \" fill=\"#009af9\" fill-rule=\"evenodd\" fill-opacity=\"1\"/>\n<polyline clip-path=\"url(#clip092)\" style=\"stroke:#000000; stroke-linecap:butt; stroke-linejoin:round; stroke-width:4; stroke-opacity:1; fill:none\" points=\"\n  19149.1,1384.24 19149.1,1384.24 19210,1384.24 19149.1,1384.24 \n  \"/>\n<path clip-path=\"url(#clip092)\" d=\"\nM19210 1384.24 L19210 1384.24 L19270.9 1384.24 L19270.9 1384.24 L19210 1384.24 L19210 1384.24  Z\n  \" fill=\"#009af9\" fill-rule=\"evenodd\" fill-opacity=\"1\"/>\n<polyline clip-path=\"url(#clip092)\" style=\"stroke:#000000; stroke-linecap:butt; stroke-linejoin:round; stroke-width:4; stroke-opacity:1; fill:none\" points=\"\n  19210,1384.24 19210,1384.24 19270.9,1384.24 19210,1384.24 \n  \"/>\n<path clip-path=\"url(#clip092)\" d=\"\nM19270.9 1384.24 L19270.9 1384.24 L19331.8 1384.24 L19331.8 1384.24 L19270.9 1384.24 L19270.9 1384.24  Z\n  \" fill=\"#009af9\" fill-rule=\"evenodd\" fill-opacity=\"1\"/>\n<polyline clip-path=\"url(#clip092)\" style=\"stroke:#000000; stroke-linecap:butt; stroke-linejoin:round; stroke-width:4; stroke-opacity:1; fill:none\" points=\"\n  19270.9,1384.24 19270.9,1384.24 19331.8,1384.24 19270.9,1384.24 \n  \"/>\n<path clip-path=\"url(#clip092)\" d=\"\nM19331.8 1384.24 L19331.8 1384.24 L19392.7 1384.24 L19392.7 1384.24 L19331.8 1384.24 L19331.8 1384.24  Z\n  \" fill=\"#009af9\" fill-rule=\"evenodd\" fill-opacity=\"1\"/>\n<polyline clip-path=\"url(#clip092)\" style=\"stroke:#000000; stroke-linecap:butt; stroke-linejoin:round; stroke-width:4; stroke-opacity:1; fill:none\" points=\"\n  19331.8,1384.24 19331.8,1384.24 19392.7,1384.24 19331.8,1384.24 \n  \"/>\n<path clip-path=\"url(#clip092)\" d=\"\nM19392.7 1384.24 L19392.7 1384.24 L19453.6 1384.24 L19453.6 1384.24 L19392.7 1384.24 L19392.7 1384.24  Z\n  \" fill=\"#009af9\" fill-rule=\"evenodd\" fill-opacity=\"1\"/>\n<polyline clip-path=\"url(#clip092)\" style=\"stroke:#000000; stroke-linecap:butt; stroke-linejoin:round; stroke-width:4; stroke-opacity:1; fill:none\" points=\"\n  19392.7,1384.24 19392.7,1384.24 19453.6,1384.24 19392.7,1384.24 \n  \"/>\n<path clip-path=\"url(#clip092)\" d=\"\nM19453.6 1384.24 L19453.6 1384.24 L19514.4 1384.24 L19514.4 1384.24 L19453.6 1384.24 L19453.6 1384.24  Z\n  \" fill=\"#009af9\" fill-rule=\"evenodd\" fill-opacity=\"1\"/>\n<polyline clip-path=\"url(#clip092)\" style=\"stroke:#000000; stroke-linecap:butt; stroke-linejoin:round; stroke-width:4; stroke-opacity:1; fill:none\" points=\"\n  19453.6,1384.24 19453.6,1384.24 19514.4,1384.24 19453.6,1384.24 \n  \"/>\n<path clip-path=\"url(#clip092)\" d=\"\nM19514.4 1384.24 L19514.4 1384.24 L19575.3 1384.24 L19575.3 1384.24 L19514.4 1384.24 L19514.4 1384.24  Z\n  \" fill=\"#009af9\" fill-rule=\"evenodd\" fill-opacity=\"1\"/>\n<polyline clip-path=\"url(#clip092)\" style=\"stroke:#000000; stroke-linecap:butt; stroke-linejoin:round; stroke-width:4; stroke-opacity:1; fill:none\" points=\"\n  19514.4,1384.24 19514.4,1384.24 19575.3,1384.24 19514.4,1384.24 \n  \"/>\n<path clip-path=\"url(#clip092)\" d=\"\nM19575.3 1384.24 L19575.3 1384.24 L19636.2 1384.24 L19636.2 1384.24 L19575.3 1384.24 L19575.3 1384.24  Z\n  \" fill=\"#009af9\" fill-rule=\"evenodd\" fill-opacity=\"1\"/>\n<polyline clip-path=\"url(#clip092)\" style=\"stroke:#000000; stroke-linecap:butt; stroke-linejoin:round; stroke-width:4; stroke-opacity:1; fill:none\" points=\"\n  19575.3,1384.24 19575.3,1384.24 19636.2,1384.24 19575.3,1384.24 \n  \"/>\n<path clip-path=\"url(#clip092)\" d=\"\nM19636.2 1384.24 L19636.2 1384.24 L19697.1 1384.24 L19697.1 1384.24 L19636.2 1384.24 L19636.2 1384.24  Z\n  \" fill=\"#009af9\" fill-rule=\"evenodd\" fill-opacity=\"1\"/>\n<polyline clip-path=\"url(#clip092)\" style=\"stroke:#000000; stroke-linecap:butt; stroke-linejoin:round; stroke-width:4; stroke-opacity:1; fill:none\" points=\"\n  19636.2,1384.24 19636.2,1384.24 19697.1,1384.24 19636.2,1384.24 \n  \"/>\n<path clip-path=\"url(#clip092)\" d=\"\nM19697.1 1384.24 L19697.1 1384.24 L19758 1384.24 L19758 1384.24 L19697.1 1384.24 L19697.1 1384.24  Z\n  \" fill=\"#009af9\" fill-rule=\"evenodd\" fill-opacity=\"1\"/>\n<polyline clip-path=\"url(#clip092)\" style=\"stroke:#000000; stroke-linecap:butt; stroke-linejoin:round; stroke-width:4; stroke-opacity:1; fill:none\" points=\"\n  19697.1,1384.24 19697.1,1384.24 19758,1384.24 19697.1,1384.24 \n  \"/>\n<path clip-path=\"url(#clip092)\" d=\"\nM19758 1384.24 L19758 1384.24 L19818.9 1384.24 L19818.9 1384.24 L19758 1384.24 L19758 1384.24  Z\n  \" fill=\"#009af9\" fill-rule=\"evenodd\" fill-opacity=\"1\"/>\n<polyline clip-path=\"url(#clip092)\" style=\"stroke:#000000; stroke-linecap:butt; stroke-linejoin:round; stroke-width:4; stroke-opacity:1; fill:none\" points=\"\n  19758,1384.24 19758,1384.24 19818.9,1384.24 19758,1384.24 \n  \"/>\n<path clip-path=\"url(#clip092)\" d=\"\nM19818.9 1384.24 L19818.9 1384.24 L19879.8 1384.24 L19879.8 1384.24 L19818.9 1384.24 L19818.9 1384.24  Z\n  \" fill=\"#009af9\" fill-rule=\"evenodd\" fill-opacity=\"1\"/>\n<polyline clip-path=\"url(#clip092)\" style=\"stroke:#000000; stroke-linecap:butt; stroke-linejoin:round; stroke-width:4; stroke-opacity:1; fill:none\" points=\"\n  19818.9,1384.24 19818.9,1384.24 19879.8,1384.24 19818.9,1384.24 \n  \"/>\n<path clip-path=\"url(#clip092)\" d=\"\nM19879.8 1384.24 L19879.8 1384.24 L19940.7 1384.24 L19940.7 1384.24 L19879.8 1384.24 L19879.8 1384.24  Z\n  \" fill=\"#009af9\" fill-rule=\"evenodd\" fill-opacity=\"1\"/>\n<polyline clip-path=\"url(#clip092)\" style=\"stroke:#000000; stroke-linecap:butt; stroke-linejoin:round; stroke-width:4; stroke-opacity:1; fill:none\" points=\"\n  19879.8,1384.24 19879.8,1384.24 19940.7,1384.24 19879.8,1384.24 \n  \"/>\n<path clip-path=\"url(#clip092)\" d=\"\nM19940.7 1384.24 L19940.7 1384.24 L20001.6 1384.24 L20001.6 1384.24 L19940.7 1384.24 L19940.7 1384.24  Z\n  \" fill=\"#009af9\" fill-rule=\"evenodd\" fill-opacity=\"1\"/>\n<polyline clip-path=\"url(#clip092)\" style=\"stroke:#000000; stroke-linecap:butt; stroke-linejoin:round; stroke-width:4; stroke-opacity:1; fill:none\" points=\"\n  19940.7,1384.24 19940.7,1384.24 20001.6,1384.24 19940.7,1384.24 \n  \"/>\n<path clip-path=\"url(#clip092)\" d=\"\nM20001.6 1384.24 L20001.6 1384.24 L20062.5 1384.24 L20062.5 1384.24 L20001.6 1384.24 L20001.6 1384.24  Z\n  \" fill=\"#009af9\" fill-rule=\"evenodd\" fill-opacity=\"1\"/>\n<polyline clip-path=\"url(#clip092)\" style=\"stroke:#000000; stroke-linecap:butt; stroke-linejoin:round; stroke-width:4; stroke-opacity:1; fill:none\" points=\"\n  20001.6,1384.24 20001.6,1384.24 20062.5,1384.24 20001.6,1384.24 \n  \"/>\n<path clip-path=\"url(#clip092)\" d=\"\nM20062.5 1384.24 L20062.5 1384.24 L20123.3 1384.24 L20123.3 1384.24 L20062.5 1384.24 L20062.5 1384.24  Z\n  \" fill=\"#009af9\" fill-rule=\"evenodd\" fill-opacity=\"1\"/>\n<polyline clip-path=\"url(#clip092)\" style=\"stroke:#000000; stroke-linecap:butt; stroke-linejoin:round; stroke-width:4; stroke-opacity:1; fill:none\" points=\"\n  20062.5,1384.24 20062.5,1384.24 20123.3,1384.24 20062.5,1384.24 \n  \"/>\n<path clip-path=\"url(#clip092)\" d=\"\nM20123.3 1384.24 L20123.3 1384.24 L20184.2 1384.24 L20184.2 1384.24 L20123.3 1384.24 L20123.3 1384.24  Z\n  \" fill=\"#009af9\" fill-rule=\"evenodd\" fill-opacity=\"1\"/>\n<polyline clip-path=\"url(#clip092)\" style=\"stroke:#000000; stroke-linecap:butt; stroke-linejoin:round; stroke-width:4; stroke-opacity:1; fill:none\" points=\"\n  20123.3,1384.24 20123.3,1384.24 20184.2,1384.24 20123.3,1384.24 \n  \"/>\n<path clip-path=\"url(#clip092)\" d=\"\nM20184.2 1384.24 L20184.2 1384.24 L20245.1 1384.24 L20245.1 1384.24 L20184.2 1384.24 L20184.2 1384.24  Z\n  \" fill=\"#009af9\" fill-rule=\"evenodd\" fill-opacity=\"1\"/>\n<polyline clip-path=\"url(#clip092)\" style=\"stroke:#000000; stroke-linecap:butt; stroke-linejoin:round; stroke-width:4; stroke-opacity:1; fill:none\" points=\"\n  20184.2,1384.24 20184.2,1384.24 20245.1,1384.24 20184.2,1384.24 \n  \"/>\n<path clip-path=\"url(#clip092)\" d=\"\nM20245.1 1384.24 L20245.1 1384.24 L20306 1384.24 L20306 1384.24 L20245.1 1384.24 L20245.1 1384.24  Z\n  \" fill=\"#009af9\" fill-rule=\"evenodd\" fill-opacity=\"1\"/>\n<polyline clip-path=\"url(#clip092)\" style=\"stroke:#000000; stroke-linecap:butt; stroke-linejoin:round; stroke-width:4; stroke-opacity:1; fill:none\" points=\"\n  20245.1,1384.24 20245.1,1384.24 20306,1384.24 20245.1,1384.24 \n  \"/>\n<path clip-path=\"url(#clip092)\" d=\"\nM20306 1384.24 L20306 1384.24 L20366.9 1384.24 L20366.9 1384.24 L20306 1384.24 L20306 1384.24  Z\n  \" fill=\"#009af9\" fill-rule=\"evenodd\" fill-opacity=\"1\"/>\n<polyline clip-path=\"url(#clip092)\" style=\"stroke:#000000; stroke-linecap:butt; stroke-linejoin:round; stroke-width:4; stroke-opacity:1; fill:none\" points=\"\n  20306,1384.24 20306,1384.24 20366.9,1384.24 20306,1384.24 \n  \"/>\n<path clip-path=\"url(#clip092)\" d=\"\nM20366.9 1384.24 L20366.9 1384.24 L20427.8 1384.24 L20427.8 1384.24 L20366.9 1384.24 L20366.9 1384.24  Z\n  \" fill=\"#009af9\" fill-rule=\"evenodd\" fill-opacity=\"1\"/>\n<polyline clip-path=\"url(#clip092)\" style=\"stroke:#000000; stroke-linecap:butt; stroke-linejoin:round; stroke-width:4; stroke-opacity:1; fill:none\" points=\"\n  20366.9,1384.24 20366.9,1384.24 20427.8,1384.24 20366.9,1384.24 \n  \"/>\n<path clip-path=\"url(#clip092)\" d=\"\nM20427.8 1384.24 L20427.8 1384.24 L20488.7 1384.24 L20488.7 1384.24 L20427.8 1384.24 L20427.8 1384.24  Z\n  \" fill=\"#009af9\" fill-rule=\"evenodd\" fill-opacity=\"1\"/>\n<polyline clip-path=\"url(#clip092)\" style=\"stroke:#000000; stroke-linecap:butt; stroke-linejoin:round; stroke-width:4; stroke-opacity:1; fill:none\" points=\"\n  20427.8,1384.24 20427.8,1384.24 20488.7,1384.24 20427.8,1384.24 \n  \"/>\n<path clip-path=\"url(#clip092)\" d=\"\nM20488.7 1384.24 L20488.7 1384.24 L20549.6 1384.24 L20549.6 1384.24 L20488.7 1384.24 L20488.7 1384.24  Z\n  \" fill=\"#009af9\" fill-rule=\"evenodd\" fill-opacity=\"1\"/>\n<polyline clip-path=\"url(#clip092)\" style=\"stroke:#000000; stroke-linecap:butt; stroke-linejoin:round; stroke-width:4; stroke-opacity:1; fill:none\" points=\"\n  20488.7,1384.24 20488.7,1384.24 20549.6,1384.24 20488.7,1384.24 \n  \"/>\n<path clip-path=\"url(#clip092)\" d=\"\nM20549.6 1384.24 L20549.6 1384.24 L20610.5 1384.24 L20610.5 1384.24 L20549.6 1384.24 L20549.6 1384.24  Z\n  \" fill=\"#009af9\" fill-rule=\"evenodd\" fill-opacity=\"1\"/>\n<polyline clip-path=\"url(#clip092)\" style=\"stroke:#000000; stroke-linecap:butt; stroke-linejoin:round; stroke-width:4; stroke-opacity:1; fill:none\" points=\"\n  20549.6,1384.24 20549.6,1384.24 20610.5,1384.24 20549.6,1384.24 \n  \"/>\n<path clip-path=\"url(#clip092)\" d=\"\nM20610.5 1384.24 L20610.5 1384.24 L20671.3 1384.24 L20671.3 1384.24 L20610.5 1384.24 L20610.5 1384.24  Z\n  \" fill=\"#009af9\" fill-rule=\"evenodd\" fill-opacity=\"1\"/>\n<polyline clip-path=\"url(#clip092)\" style=\"stroke:#000000; stroke-linecap:butt; stroke-linejoin:round; stroke-width:4; stroke-opacity:1; fill:none\" points=\"\n  20610.5,1384.24 20610.5,1384.24 20671.3,1384.24 20610.5,1384.24 \n  \"/>\n<path clip-path=\"url(#clip092)\" d=\"\nM20671.3 1384.24 L20671.3 1384.24 L20732.2 1384.24 L20732.2 1384.24 L20671.3 1384.24 L20671.3 1384.24  Z\n  \" fill=\"#009af9\" fill-rule=\"evenodd\" fill-opacity=\"1\"/>\n<polyline clip-path=\"url(#clip092)\" style=\"stroke:#000000; stroke-linecap:butt; stroke-linejoin:round; stroke-width:4; stroke-opacity:1; fill:none\" points=\"\n  20671.3,1384.24 20671.3,1384.24 20732.2,1384.24 20671.3,1384.24 \n  \"/>\n<path clip-path=\"url(#clip092)\" d=\"\nM20732.2 1384.24 L20732.2 1384.24 L20793.1 1384.24 L20793.1 1384.24 L20732.2 1384.24 L20732.2 1384.24  Z\n  \" fill=\"#009af9\" fill-rule=\"evenodd\" fill-opacity=\"1\"/>\n<polyline clip-path=\"url(#clip092)\" style=\"stroke:#000000; stroke-linecap:butt; stroke-linejoin:round; stroke-width:4; stroke-opacity:1; fill:none\" points=\"\n  20732.2,1384.24 20732.2,1384.24 20793.1,1384.24 20732.2,1384.24 \n  \"/>\n<path clip-path=\"url(#clip092)\" d=\"\nM20793.1 1384.24 L20793.1 1384.24 L20854 1384.24 L20854 1384.24 L20793.1 1384.24 L20793.1 1384.24  Z\n  \" fill=\"#009af9\" fill-rule=\"evenodd\" fill-opacity=\"1\"/>\n<polyline clip-path=\"url(#clip092)\" style=\"stroke:#000000; stroke-linecap:butt; stroke-linejoin:round; stroke-width:4; stroke-opacity:1; fill:none\" points=\"\n  20793.1,1384.24 20793.1,1384.24 20854,1384.24 20793.1,1384.24 \n  \"/>\n<path clip-path=\"url(#clip092)\" d=\"\nM20854 1384.24 L20854 1384.24 L20914.9 1384.24 L20914.9 1384.24 L20854 1384.24 L20854 1384.24  Z\n  \" fill=\"#009af9\" fill-rule=\"evenodd\" fill-opacity=\"1\"/>\n<polyline clip-path=\"url(#clip092)\" style=\"stroke:#000000; stroke-linecap:butt; stroke-linejoin:round; stroke-width:4; stroke-opacity:1; fill:none\" points=\"\n  20854,1384.24 20854,1384.24 20914.9,1384.24 20854,1384.24 \n  \"/>\n<path clip-path=\"url(#clip092)\" d=\"\nM20914.9 1384.24 L20914.9 1384.24 L20975.8 1384.24 L20975.8 1384.24 L20914.9 1384.24 L20914.9 1384.24  Z\n  \" fill=\"#009af9\" fill-rule=\"evenodd\" fill-opacity=\"1\"/>\n<polyline clip-path=\"url(#clip092)\" style=\"stroke:#000000; stroke-linecap:butt; stroke-linejoin:round; stroke-width:4; stroke-opacity:1; fill:none\" points=\"\n  20914.9,1384.24 20914.9,1384.24 20975.8,1384.24 20914.9,1384.24 \n  \"/>\n<path clip-path=\"url(#clip092)\" d=\"\nM20975.8 1384.24 L20975.8 1384.24 L21036.7 1384.24 L21036.7 1384.24 L20975.8 1384.24 L20975.8 1384.24  Z\n  \" fill=\"#009af9\" fill-rule=\"evenodd\" fill-opacity=\"1\"/>\n<polyline clip-path=\"url(#clip092)\" style=\"stroke:#000000; stroke-linecap:butt; stroke-linejoin:round; stroke-width:4; stroke-opacity:1; fill:none\" points=\"\n  20975.8,1384.24 20975.8,1384.24 21036.7,1384.24 20975.8,1384.24 \n  \"/>\n<path clip-path=\"url(#clip092)\" d=\"\nM21036.7 1384.24 L21036.7 1384.24 L21097.6 1384.24 L21097.6 1384.24 L21036.7 1384.24 L21036.7 1384.24  Z\n  \" fill=\"#009af9\" fill-rule=\"evenodd\" fill-opacity=\"1\"/>\n<polyline clip-path=\"url(#clip092)\" style=\"stroke:#000000; stroke-linecap:butt; stroke-linejoin:round; stroke-width:4; stroke-opacity:1; fill:none\" points=\"\n  21036.7,1384.24 21036.7,1384.24 21097.6,1384.24 21036.7,1384.24 \n  \"/>\n<path clip-path=\"url(#clip092)\" d=\"\nM21097.6 1384.24 L21097.6 1384.24 L21158.5 1384.24 L21158.5 1384.24 L21097.6 1384.24 L21097.6 1384.24  Z\n  \" fill=\"#009af9\" fill-rule=\"evenodd\" fill-opacity=\"1\"/>\n<polyline clip-path=\"url(#clip092)\" style=\"stroke:#000000; stroke-linecap:butt; stroke-linejoin:round; stroke-width:4; stroke-opacity:1; fill:none\" points=\"\n  21097.6,1384.24 21097.6,1384.24 21158.5,1384.24 21097.6,1384.24 \n  \"/>\n<path clip-path=\"url(#clip092)\" d=\"\nM21158.5 1384.24 L21158.5 1384.24 L21219.4 1384.24 L21219.4 1384.24 L21158.5 1384.24 L21158.5 1384.24  Z\n  \" fill=\"#009af9\" fill-rule=\"evenodd\" fill-opacity=\"1\"/>\n<polyline clip-path=\"url(#clip092)\" style=\"stroke:#000000; stroke-linecap:butt; stroke-linejoin:round; stroke-width:4; stroke-opacity:1; fill:none\" points=\"\n  21158.5,1384.24 21158.5,1384.24 21219.4,1384.24 21158.5,1384.24 \n  \"/>\n<path clip-path=\"url(#clip092)\" d=\"\nM21219.4 1384.24 L21219.4 1384.24 L21280.2 1384.24 L21280.2 1384.24 L21219.4 1384.24 L21219.4 1384.24  Z\n  \" fill=\"#009af9\" fill-rule=\"evenodd\" fill-opacity=\"1\"/>\n<polyline clip-path=\"url(#clip092)\" style=\"stroke:#000000; stroke-linecap:butt; stroke-linejoin:round; stroke-width:4; stroke-opacity:1; fill:none\" points=\"\n  21219.4,1384.24 21219.4,1384.24 21280.2,1384.24 21219.4,1384.24 \n  \"/>\n<path clip-path=\"url(#clip092)\" d=\"\nM21280.2 1384.24 L21280.2 1384.24 L21341.1 1384.24 L21341.1 1384.24 L21280.2 1384.24 L21280.2 1384.24  Z\n  \" fill=\"#009af9\" fill-rule=\"evenodd\" fill-opacity=\"1\"/>\n<polyline clip-path=\"url(#clip092)\" style=\"stroke:#000000; stroke-linecap:butt; stroke-linejoin:round; stroke-width:4; stroke-opacity:1; fill:none\" points=\"\n  21280.2,1384.24 21280.2,1384.24 21341.1,1384.24 21280.2,1384.24 \n  \"/>\n<path clip-path=\"url(#clip092)\" d=\"\nM21341.1 1384.24 L21341.1 1384.24 L21402 1384.24 L21402 1384.24 L21341.1 1384.24 L21341.1 1384.24  Z\n  \" fill=\"#009af9\" fill-rule=\"evenodd\" fill-opacity=\"1\"/>\n<polyline clip-path=\"url(#clip092)\" style=\"stroke:#000000; stroke-linecap:butt; stroke-linejoin:round; stroke-width:4; stroke-opacity:1; fill:none\" points=\"\n  21341.1,1384.24 21341.1,1384.24 21402,1384.24 21341.1,1384.24 \n  \"/>\n<path clip-path=\"url(#clip092)\" d=\"\nM21402 1384.24 L21402 1384.24 L21462.9 1384.24 L21462.9 1384.24 L21402 1384.24 L21402 1384.24  Z\n  \" fill=\"#009af9\" fill-rule=\"evenodd\" fill-opacity=\"1\"/>\n<polyline clip-path=\"url(#clip092)\" style=\"stroke:#000000; stroke-linecap:butt; stroke-linejoin:round; stroke-width:4; stroke-opacity:1; fill:none\" points=\"\n  21402,1384.24 21402,1384.24 21462.9,1384.24 21402,1384.24 \n  \"/>\n<path clip-path=\"url(#clip092)\" d=\"\nM21462.9 1384.24 L21462.9 1384.24 L21523.8 1384.24 L21523.8 1384.24 L21462.9 1384.24 L21462.9 1384.24  Z\n  \" fill=\"#009af9\" fill-rule=\"evenodd\" fill-opacity=\"1\"/>\n<polyline clip-path=\"url(#clip092)\" style=\"stroke:#000000; stroke-linecap:butt; stroke-linejoin:round; stroke-width:4; stroke-opacity:1; fill:none\" points=\"\n  21462.9,1384.24 21462.9,1384.24 21523.8,1384.24 21462.9,1384.24 \n  \"/>\n<path clip-path=\"url(#clip092)\" d=\"\nM21523.8 1384.24 L21523.8 1384.24 L21584.7 1384.24 L21584.7 1384.24 L21523.8 1384.24 L21523.8 1384.24  Z\n  \" fill=\"#009af9\" fill-rule=\"evenodd\" fill-opacity=\"1\"/>\n<polyline clip-path=\"url(#clip092)\" style=\"stroke:#000000; stroke-linecap:butt; stroke-linejoin:round; stroke-width:4; stroke-opacity:1; fill:none\" points=\"\n  21523.8,1384.24 21523.8,1384.24 21584.7,1384.24 21523.8,1384.24 \n  \"/>\n<path clip-path=\"url(#clip092)\" d=\"\nM21584.7 1384.24 L21584.7 1384.24 L21645.6 1384.24 L21645.6 1384.24 L21584.7 1384.24 L21584.7 1384.24  Z\n  \" fill=\"#009af9\" fill-rule=\"evenodd\" fill-opacity=\"1\"/>\n<polyline clip-path=\"url(#clip092)\" style=\"stroke:#000000; stroke-linecap:butt; stroke-linejoin:round; stroke-width:4; stroke-opacity:1; fill:none\" points=\"\n  21584.7,1384.24 21584.7,1384.24 21645.6,1384.24 21584.7,1384.24 \n  \"/>\n<path clip-path=\"url(#clip092)\" d=\"\nM21645.6 1384.24 L21645.6 1384.24 L21706.5 1384.24 L21706.5 1384.24 L21645.6 1384.24 L21645.6 1384.24  Z\n  \" fill=\"#009af9\" fill-rule=\"evenodd\" fill-opacity=\"1\"/>\n<polyline clip-path=\"url(#clip092)\" style=\"stroke:#000000; stroke-linecap:butt; stroke-linejoin:round; stroke-width:4; stroke-opacity:1; fill:none\" points=\"\n  21645.6,1384.24 21645.6,1384.24 21706.5,1384.24 21645.6,1384.24 \n  \"/>\n<path clip-path=\"url(#clip092)\" d=\"\nM21706.5 1384.24 L21706.5 1384.24 L21767.4 1384.24 L21767.4 1384.24 L21706.5 1384.24 L21706.5 1384.24  Z\n  \" fill=\"#009af9\" fill-rule=\"evenodd\" fill-opacity=\"1\"/>\n<polyline clip-path=\"url(#clip092)\" style=\"stroke:#000000; stroke-linecap:butt; stroke-linejoin:round; stroke-width:4; stroke-opacity:1; fill:none\" points=\"\n  21706.5,1384.24 21706.5,1384.24 21767.4,1384.24 21706.5,1384.24 \n  \"/>\n<path clip-path=\"url(#clip092)\" d=\"\nM21767.4 1384.24 L21767.4 1384.24 L21828.2 1384.24 L21828.2 1384.24 L21767.4 1384.24 L21767.4 1384.24  Z\n  \" fill=\"#009af9\" fill-rule=\"evenodd\" fill-opacity=\"1\"/>\n<polyline clip-path=\"url(#clip092)\" style=\"stroke:#000000; stroke-linecap:butt; stroke-linejoin:round; stroke-width:4; stroke-opacity:1; fill:none\" points=\"\n  21767.4,1384.24 21767.4,1384.24 21828.2,1384.24 21767.4,1384.24 \n  \"/>\n<path clip-path=\"url(#clip092)\" d=\"\nM21828.2 1384.24 L21828.2 1384.24 L21889.1 1384.24 L21889.1 1384.24 L21828.2 1384.24 L21828.2 1384.24  Z\n  \" fill=\"#009af9\" fill-rule=\"evenodd\" fill-opacity=\"1\"/>\n<polyline clip-path=\"url(#clip092)\" style=\"stroke:#000000; stroke-linecap:butt; stroke-linejoin:round; stroke-width:4; stroke-opacity:1; fill:none\" points=\"\n  21828.2,1384.24 21828.2,1384.24 21889.1,1384.24 21828.2,1384.24 \n  \"/>\n<path clip-path=\"url(#clip092)\" d=\"\nM21889.1 1384.24 L21889.1 1384.24 L21950 1384.24 L21950 1384.24 L21889.1 1384.24 L21889.1 1384.24  Z\n  \" fill=\"#009af9\" fill-rule=\"evenodd\" fill-opacity=\"1\"/>\n<polyline clip-path=\"url(#clip092)\" style=\"stroke:#000000; stroke-linecap:butt; stroke-linejoin:round; stroke-width:4; stroke-opacity:1; fill:none\" points=\"\n  21889.1,1384.24 21889.1,1384.24 21950,1384.24 21889.1,1384.24 \n  \"/>\n<path clip-path=\"url(#clip092)\" d=\"\nM21950 1384.24 L21950 1384.24 L22010.9 1384.24 L22010.9 1384.24 L21950 1384.24 L21950 1384.24  Z\n  \" fill=\"#009af9\" fill-rule=\"evenodd\" fill-opacity=\"1\"/>\n<polyline clip-path=\"url(#clip092)\" style=\"stroke:#000000; stroke-linecap:butt; stroke-linejoin:round; stroke-width:4; stroke-opacity:1; fill:none\" points=\"\n  21950,1384.24 21950,1384.24 22010.9,1384.24 21950,1384.24 \n  \"/>\n<path clip-path=\"url(#clip092)\" d=\"\nM22010.9 1384.24 L22010.9 1384.24 L22071.8 1384.24 L22071.8 1384.24 L22010.9 1384.24 L22010.9 1384.24  Z\n  \" fill=\"#009af9\" fill-rule=\"evenodd\" fill-opacity=\"1\"/>\n<polyline clip-path=\"url(#clip092)\" style=\"stroke:#000000; stroke-linecap:butt; stroke-linejoin:round; stroke-width:4; stroke-opacity:1; fill:none\" points=\"\n  22010.9,1384.24 22010.9,1384.24 22071.8,1384.24 22010.9,1384.24 \n  \"/>\n<path clip-path=\"url(#clip092)\" d=\"\nM22071.8 1384.24 L22071.8 1384.24 L22132.7 1384.24 L22132.7 1384.24 L22071.8 1384.24 L22071.8 1384.24  Z\n  \" fill=\"#009af9\" fill-rule=\"evenodd\" fill-opacity=\"1\"/>\n<polyline clip-path=\"url(#clip092)\" style=\"stroke:#000000; stroke-linecap:butt; stroke-linejoin:round; stroke-width:4; stroke-opacity:1; fill:none\" points=\"\n  22071.8,1384.24 22071.8,1384.24 22132.7,1384.24 22071.8,1384.24 \n  \"/>\n<path clip-path=\"url(#clip092)\" d=\"\nM22132.7 1384.24 L22132.7 1384.24 L22193.6 1384.24 L22193.6 1384.24 L22132.7 1384.24 L22132.7 1384.24  Z\n  \" fill=\"#009af9\" fill-rule=\"evenodd\" fill-opacity=\"1\"/>\n<polyline clip-path=\"url(#clip092)\" style=\"stroke:#000000; stroke-linecap:butt; stroke-linejoin:round; stroke-width:4; stroke-opacity:1; fill:none\" points=\"\n  22132.7,1384.24 22132.7,1384.24 22193.6,1384.24 22132.7,1384.24 \n  \"/>\n<path clip-path=\"url(#clip092)\" d=\"\nM22193.6 1384.24 L22193.6 1384.24 L22254.5 1384.24 L22254.5 1384.24 L22193.6 1384.24 L22193.6 1384.24  Z\n  \" fill=\"#009af9\" fill-rule=\"evenodd\" fill-opacity=\"1\"/>\n<polyline clip-path=\"url(#clip092)\" style=\"stroke:#000000; stroke-linecap:butt; stroke-linejoin:round; stroke-width:4; stroke-opacity:1; fill:none\" points=\"\n  22193.6,1384.24 22193.6,1384.24 22254.5,1384.24 22193.6,1384.24 \n  \"/>\n<path clip-path=\"url(#clip092)\" d=\"\nM22254.5 1384.24 L22254.5 1384.24 L22315.4 1384.24 L22315.4 1384.24 L22254.5 1384.24 L22254.5 1384.24  Z\n  \" fill=\"#009af9\" fill-rule=\"evenodd\" fill-opacity=\"1\"/>\n<polyline clip-path=\"url(#clip092)\" style=\"stroke:#000000; stroke-linecap:butt; stroke-linejoin:round; stroke-width:4; stroke-opacity:1; fill:none\" points=\"\n  22254.5,1384.24 22254.5,1384.24 22315.4,1384.24 22254.5,1384.24 \n  \"/>\n<path clip-path=\"url(#clip092)\" d=\"\nM22315.4 1384.24 L22315.4 1384.24 L22376.2 1384.24 L22376.2 1384.24 L22315.4 1384.24 L22315.4 1384.24  Z\n  \" fill=\"#009af9\" fill-rule=\"evenodd\" fill-opacity=\"1\"/>\n<polyline clip-path=\"url(#clip092)\" style=\"stroke:#000000; stroke-linecap:butt; stroke-linejoin:round; stroke-width:4; stroke-opacity:1; fill:none\" points=\"\n  22315.4,1384.24 22315.4,1384.24 22376.2,1384.24 22315.4,1384.24 \n  \"/>\n<path clip-path=\"url(#clip092)\" d=\"\nM22376.2 1384.24 L22376.2 1384.24 L22437.1 1384.24 L22437.1 1384.24 L22376.2 1384.24 L22376.2 1384.24  Z\n  \" fill=\"#009af9\" fill-rule=\"evenodd\" fill-opacity=\"1\"/>\n<polyline clip-path=\"url(#clip092)\" style=\"stroke:#000000; stroke-linecap:butt; stroke-linejoin:round; stroke-width:4; stroke-opacity:1; fill:none\" points=\"\n  22376.2,1384.24 22376.2,1384.24 22437.1,1384.24 22376.2,1384.24 \n  \"/>\n<path clip-path=\"url(#clip092)\" d=\"\nM22437.1 1384.24 L22437.1 1384.24 L22498 1384.24 L22498 1384.24 L22437.1 1384.24 L22437.1 1384.24  Z\n  \" fill=\"#009af9\" fill-rule=\"evenodd\" fill-opacity=\"1\"/>\n<polyline clip-path=\"url(#clip092)\" style=\"stroke:#000000; stroke-linecap:butt; stroke-linejoin:round; stroke-width:4; stroke-opacity:1; fill:none\" points=\"\n  22437.1,1384.24 22437.1,1384.24 22498,1384.24 22437.1,1384.24 \n  \"/>\n<path clip-path=\"url(#clip092)\" d=\"\nM22498 1384.24 L22498 1384.24 L22558.9 1384.24 L22558.9 1384.24 L22498 1384.24 L22498 1384.24  Z\n  \" fill=\"#009af9\" fill-rule=\"evenodd\" fill-opacity=\"1\"/>\n<polyline clip-path=\"url(#clip092)\" style=\"stroke:#000000; stroke-linecap:butt; stroke-linejoin:round; stroke-width:4; stroke-opacity:1; fill:none\" points=\"\n  22498,1384.24 22498,1384.24 22558.9,1384.24 22498,1384.24 \n  \"/>\n<path clip-path=\"url(#clip092)\" d=\"\nM22558.9 1384.24 L22558.9 1384.24 L22619.8 1384.24 L22619.8 1384.24 L22558.9 1384.24 L22558.9 1384.24  Z\n  \" fill=\"#009af9\" fill-rule=\"evenodd\" fill-opacity=\"1\"/>\n<polyline clip-path=\"url(#clip092)\" style=\"stroke:#000000; stroke-linecap:butt; stroke-linejoin:round; stroke-width:4; stroke-opacity:1; fill:none\" points=\"\n  22558.9,1384.24 22558.9,1384.24 22619.8,1384.24 22558.9,1384.24 \n  \"/>\n<path clip-path=\"url(#clip092)\" d=\"\nM22619.8 1384.24 L22619.8 1384.24 L22680.7 1384.24 L22680.7 1384.24 L22619.8 1384.24 L22619.8 1384.24  Z\n  \" fill=\"#009af9\" fill-rule=\"evenodd\" fill-opacity=\"1\"/>\n<polyline clip-path=\"url(#clip092)\" style=\"stroke:#000000; stroke-linecap:butt; stroke-linejoin:round; stroke-width:4; stroke-opacity:1; fill:none\" points=\"\n  22619.8,1384.24 22619.8,1384.24 22680.7,1384.24 22619.8,1384.24 \n  \"/>\n<path clip-path=\"url(#clip092)\" d=\"\nM22680.7 1384.24 L22680.7 1384.24 L22741.6 1384.24 L22741.6 1384.24 L22680.7 1384.24 L22680.7 1384.24  Z\n  \" fill=\"#009af9\" fill-rule=\"evenodd\" fill-opacity=\"1\"/>\n<polyline clip-path=\"url(#clip092)\" style=\"stroke:#000000; stroke-linecap:butt; stroke-linejoin:round; stroke-width:4; stroke-opacity:1; fill:none\" points=\"\n  22680.7,1384.24 22680.7,1384.24 22741.6,1384.24 22680.7,1384.24 \n  \"/>\n<path clip-path=\"url(#clip092)\" d=\"\nM22741.6 1384.24 L22741.6 1384.24 L22802.5 1384.24 L22802.5 1384.24 L22741.6 1384.24 L22741.6 1384.24  Z\n  \" fill=\"#009af9\" fill-rule=\"evenodd\" fill-opacity=\"1\"/>\n<polyline clip-path=\"url(#clip092)\" style=\"stroke:#000000; stroke-linecap:butt; stroke-linejoin:round; stroke-width:4; stroke-opacity:1; fill:none\" points=\"\n  22741.6,1384.24 22741.6,1384.24 22802.5,1384.24 22741.6,1384.24 \n  \"/>\n<path clip-path=\"url(#clip092)\" d=\"\nM22802.5 1384.24 L22802.5 1384.24 L22863.4 1384.24 L22863.4 1384.24 L22802.5 1384.24 L22802.5 1384.24  Z\n  \" fill=\"#009af9\" fill-rule=\"evenodd\" fill-opacity=\"1\"/>\n<polyline clip-path=\"url(#clip092)\" style=\"stroke:#000000; stroke-linecap:butt; stroke-linejoin:round; stroke-width:4; stroke-opacity:1; fill:none\" points=\"\n  22802.5,1384.24 22802.5,1384.24 22863.4,1384.24 22802.5,1384.24 \n  \"/>\n<path clip-path=\"url(#clip092)\" d=\"\nM22863.4 1384.24 L22863.4 1384.24 L22924.3 1384.24 L22924.3 1384.24 L22863.4 1384.24 L22863.4 1384.24  Z\n  \" fill=\"#009af9\" fill-rule=\"evenodd\" fill-opacity=\"1\"/>\n<polyline clip-path=\"url(#clip092)\" style=\"stroke:#000000; stroke-linecap:butt; stroke-linejoin:round; stroke-width:4; stroke-opacity:1; fill:none\" points=\"\n  22863.4,1384.24 22863.4,1384.24 22924.3,1384.24 22863.4,1384.24 \n  \"/>\n<path clip-path=\"url(#clip092)\" d=\"\nM22924.3 1384.24 L22924.3 1384.24 L22985.1 1384.24 L22985.1 1384.24 L22924.3 1384.24 L22924.3 1384.24  Z\n  \" fill=\"#009af9\" fill-rule=\"evenodd\" fill-opacity=\"1\"/>\n<polyline clip-path=\"url(#clip092)\" style=\"stroke:#000000; stroke-linecap:butt; stroke-linejoin:round; stroke-width:4; stroke-opacity:1; fill:none\" points=\"\n  22924.3,1384.24 22924.3,1384.24 22985.1,1384.24 22924.3,1384.24 \n  \"/>\n<path clip-path=\"url(#clip092)\" d=\"\nM22985.1 1384.24 L22985.1 1384.24 L23046 1384.24 L23046 1384.24 L22985.1 1384.24 L22985.1 1384.24  Z\n  \" fill=\"#009af9\" fill-rule=\"evenodd\" fill-opacity=\"1\"/>\n<polyline clip-path=\"url(#clip092)\" style=\"stroke:#000000; stroke-linecap:butt; stroke-linejoin:round; stroke-width:4; stroke-opacity:1; fill:none\" points=\"\n  22985.1,1384.24 22985.1,1384.24 23046,1384.24 22985.1,1384.24 \n  \"/>\n<path clip-path=\"url(#clip092)\" d=\"\nM23046 1384.24 L23046 1384.24 L23106.9 1384.24 L23106.9 1384.24 L23046 1384.24 L23046 1384.24  Z\n  \" fill=\"#009af9\" fill-rule=\"evenodd\" fill-opacity=\"1\"/>\n<polyline clip-path=\"url(#clip092)\" style=\"stroke:#000000; stroke-linecap:butt; stroke-linejoin:round; stroke-width:4; stroke-opacity:1; fill:none\" points=\"\n  23046,1384.24 23046,1384.24 23106.9,1384.24 23046,1384.24 \n  \"/>\n<path clip-path=\"url(#clip092)\" d=\"\nM23106.9 1384.24 L23106.9 1384.24 L23167.8 1384.24 L23167.8 1384.24 L23106.9 1384.24 L23106.9 1384.24  Z\n  \" fill=\"#009af9\" fill-rule=\"evenodd\" fill-opacity=\"1\"/>\n<polyline clip-path=\"url(#clip092)\" style=\"stroke:#000000; stroke-linecap:butt; stroke-linejoin:round; stroke-width:4; stroke-opacity:1; fill:none\" points=\"\n  23106.9,1384.24 23106.9,1384.24 23167.8,1384.24 23106.9,1384.24 \n  \"/>\n<path clip-path=\"url(#clip092)\" d=\"\nM23167.8 1384.24 L23167.8 1384.24 L23228.7 1384.24 L23228.7 1384.24 L23167.8 1384.24 L23167.8 1384.24  Z\n  \" fill=\"#009af9\" fill-rule=\"evenodd\" fill-opacity=\"1\"/>\n<polyline clip-path=\"url(#clip092)\" style=\"stroke:#000000; stroke-linecap:butt; stroke-linejoin:round; stroke-width:4; stroke-opacity:1; fill:none\" points=\"\n  23167.8,1384.24 23167.8,1384.24 23228.7,1384.24 23167.8,1384.24 \n  \"/>\n<path clip-path=\"url(#clip092)\" d=\"\nM23228.7 1384.24 L23228.7 1384.24 L23289.6 1384.24 L23289.6 1384.24 L23228.7 1384.24 L23228.7 1384.24  Z\n  \" fill=\"#009af9\" fill-rule=\"evenodd\" fill-opacity=\"1\"/>\n<polyline clip-path=\"url(#clip092)\" style=\"stroke:#000000; stroke-linecap:butt; stroke-linejoin:round; stroke-width:4; stroke-opacity:1; fill:none\" points=\"\n  23228.7,1384.24 23228.7,1384.24 23289.6,1384.24 23228.7,1384.24 \n  \"/>\n<path clip-path=\"url(#clip092)\" d=\"\nM23289.6 1384.24 L23289.6 1384.24 L23350.5 1384.24 L23350.5 1384.24 L23289.6 1384.24 L23289.6 1384.24  Z\n  \" fill=\"#009af9\" fill-rule=\"evenodd\" fill-opacity=\"1\"/>\n<polyline clip-path=\"url(#clip092)\" style=\"stroke:#000000; stroke-linecap:butt; stroke-linejoin:round; stroke-width:4; stroke-opacity:1; fill:none\" points=\"\n  23289.6,1384.24 23289.6,1384.24 23350.5,1384.24 23289.6,1384.24 \n  \"/>\n<path clip-path=\"url(#clip092)\" d=\"\nM23350.5 1384.24 L23350.5 1384.24 L23411.4 1384.24 L23411.4 1384.24 L23350.5 1384.24 L23350.5 1384.24  Z\n  \" fill=\"#009af9\" fill-rule=\"evenodd\" fill-opacity=\"1\"/>\n<polyline clip-path=\"url(#clip092)\" style=\"stroke:#000000; stroke-linecap:butt; stroke-linejoin:round; stroke-width:4; stroke-opacity:1; fill:none\" points=\"\n  23350.5,1384.24 23350.5,1384.24 23411.4,1384.24 23350.5,1384.24 \n  \"/>\n<path clip-path=\"url(#clip092)\" d=\"\nM23411.4 1384.24 L23411.4 1384.24 L23472.3 1384.24 L23472.3 1384.24 L23411.4 1384.24 L23411.4 1384.24  Z\n  \" fill=\"#009af9\" fill-rule=\"evenodd\" fill-opacity=\"1\"/>\n<polyline clip-path=\"url(#clip092)\" style=\"stroke:#000000; stroke-linecap:butt; stroke-linejoin:round; stroke-width:4; stroke-opacity:1; fill:none\" points=\"\n  23411.4,1384.24 23411.4,1384.24 23472.3,1384.24 23411.4,1384.24 \n  \"/>\n<path clip-path=\"url(#clip092)\" d=\"\nM23472.3 1384.24 L23472.3 1384.24 L23533.1 1384.24 L23533.1 1384.24 L23472.3 1384.24 L23472.3 1384.24  Z\n  \" fill=\"#009af9\" fill-rule=\"evenodd\" fill-opacity=\"1\"/>\n<polyline clip-path=\"url(#clip092)\" style=\"stroke:#000000; stroke-linecap:butt; stroke-linejoin:round; stroke-width:4; stroke-opacity:1; fill:none\" points=\"\n  23472.3,1384.24 23472.3,1384.24 23533.1,1384.24 23472.3,1384.24 \n  \"/>\n<path clip-path=\"url(#clip092)\" d=\"\nM23533.1 1384.24 L23533.1 1384.24 L23594 1384.24 L23594 1384.24 L23533.1 1384.24 L23533.1 1384.24  Z\n  \" fill=\"#009af9\" fill-rule=\"evenodd\" fill-opacity=\"1\"/>\n<polyline clip-path=\"url(#clip092)\" style=\"stroke:#000000; stroke-linecap:butt; stroke-linejoin:round; stroke-width:4; stroke-opacity:1; fill:none\" points=\"\n  23533.1,1384.24 23533.1,1384.24 23594,1384.24 23533.1,1384.24 \n  \"/>\n<path clip-path=\"url(#clip092)\" d=\"\nM23594 1384.24 L23594 1384.24 L23654.9 1384.24 L23654.9 1384.24 L23594 1384.24 L23594 1384.24  Z\n  \" fill=\"#009af9\" fill-rule=\"evenodd\" fill-opacity=\"1\"/>\n<polyline clip-path=\"url(#clip092)\" style=\"stroke:#000000; stroke-linecap:butt; stroke-linejoin:round; stroke-width:4; stroke-opacity:1; fill:none\" points=\"\n  23594,1384.24 23594,1384.24 23654.9,1384.24 23594,1384.24 \n  \"/>\n<path clip-path=\"url(#clip092)\" d=\"\nM23654.9 1384.24 L23654.9 1384.24 L23715.8 1384.24 L23715.8 1384.24 L23654.9 1384.24 L23654.9 1384.24  Z\n  \" fill=\"#009af9\" fill-rule=\"evenodd\" fill-opacity=\"1\"/>\n<polyline clip-path=\"url(#clip092)\" style=\"stroke:#000000; stroke-linecap:butt; stroke-linejoin:round; stroke-width:4; stroke-opacity:1; fill:none\" points=\"\n  23654.9,1384.24 23654.9,1384.24 23715.8,1384.24 23654.9,1384.24 \n  \"/>\n<path clip-path=\"url(#clip092)\" d=\"\nM23715.8 1384.24 L23715.8 1384.24 L23776.7 1384.24 L23776.7 1384.24 L23715.8 1384.24 L23715.8 1384.24  Z\n  \" fill=\"#009af9\" fill-rule=\"evenodd\" fill-opacity=\"1\"/>\n<polyline clip-path=\"url(#clip092)\" style=\"stroke:#000000; stroke-linecap:butt; stroke-linejoin:round; stroke-width:4; stroke-opacity:1; fill:none\" points=\"\n  23715.8,1384.24 23715.8,1384.24 23776.7,1384.24 23715.8,1384.24 \n  \"/>\n<path clip-path=\"url(#clip092)\" d=\"\nM23776.7 1384.24 L23776.7 1384.24 L23837.6 1384.24 L23837.6 1384.24 L23776.7 1384.24 L23776.7 1384.24  Z\n  \" fill=\"#009af9\" fill-rule=\"evenodd\" fill-opacity=\"1\"/>\n<polyline clip-path=\"url(#clip092)\" style=\"stroke:#000000; stroke-linecap:butt; stroke-linejoin:round; stroke-width:4; stroke-opacity:1; fill:none\" points=\"\n  23776.7,1384.24 23776.7,1384.24 23837.6,1384.24 23776.7,1384.24 \n  \"/>\n<path clip-path=\"url(#clip092)\" d=\"\nM23837.6 1384.24 L23837.6 1384.24 L23898.5 1384.24 L23898.5 1384.24 L23837.6 1384.24 L23837.6 1384.24  Z\n  \" fill=\"#009af9\" fill-rule=\"evenodd\" fill-opacity=\"1\"/>\n<polyline clip-path=\"url(#clip092)\" style=\"stroke:#000000; stroke-linecap:butt; stroke-linejoin:round; stroke-width:4; stroke-opacity:1; fill:none\" points=\"\n  23837.6,1384.24 23837.6,1384.24 23898.5,1384.24 23837.6,1384.24 \n  \"/>\n<path clip-path=\"url(#clip092)\" d=\"\nM23898.5 1384.24 L23898.5 1384.24 L23959.4 1384.24 L23959.4 1384.24 L23898.5 1384.24 L23898.5 1384.24  Z\n  \" fill=\"#009af9\" fill-rule=\"evenodd\" fill-opacity=\"1\"/>\n<polyline clip-path=\"url(#clip092)\" style=\"stroke:#000000; stroke-linecap:butt; stroke-linejoin:round; stroke-width:4; stroke-opacity:1; fill:none\" points=\"\n  23898.5,1384.24 23898.5,1384.24 23959.4,1384.24 23898.5,1384.24 \n  \"/>\n<path clip-path=\"url(#clip092)\" d=\"\nM23959.4 1384.24 L23959.4 1384.24 L24020.3 1384.24 L24020.3 1384.24 L23959.4 1384.24 L23959.4 1384.24  Z\n  \" fill=\"#009af9\" fill-rule=\"evenodd\" fill-opacity=\"1\"/>\n<polyline clip-path=\"url(#clip092)\" style=\"stroke:#000000; stroke-linecap:butt; stroke-linejoin:round; stroke-width:4; stroke-opacity:1; fill:none\" points=\"\n  23959.4,1384.24 23959.4,1384.24 24020.3,1384.24 23959.4,1384.24 \n  \"/>\n<path clip-path=\"url(#clip092)\" d=\"\nM24020.3 1384.24 L24020.3 1384.24 L24081.2 1384.24 L24081.2 1384.24 L24020.3 1384.24 L24020.3 1384.24  Z\n  \" fill=\"#009af9\" fill-rule=\"evenodd\" fill-opacity=\"1\"/>\n<polyline clip-path=\"url(#clip092)\" style=\"stroke:#000000; stroke-linecap:butt; stroke-linejoin:round; stroke-width:4; stroke-opacity:1; fill:none\" points=\"\n  24020.3,1384.24 24020.3,1384.24 24081.2,1384.24 24020.3,1384.24 \n  \"/>\n<path clip-path=\"url(#clip092)\" d=\"\nM24081.2 1384.24 L24081.2 1384.24 L24142 1384.24 L24142 1384.24 L24081.2 1384.24 L24081.2 1384.24  Z\n  \" fill=\"#009af9\" fill-rule=\"evenodd\" fill-opacity=\"1\"/>\n<polyline clip-path=\"url(#clip092)\" style=\"stroke:#000000; stroke-linecap:butt; stroke-linejoin:round; stroke-width:4; stroke-opacity:1; fill:none\" points=\"\n  24081.2,1384.24 24081.2,1384.24 24142,1384.24 24081.2,1384.24 \n  \"/>\n<path clip-path=\"url(#clip092)\" d=\"\nM24142 1384.24 L24142 1384.24 L24202.9 1384.24 L24202.9 1384.24 L24142 1384.24 L24142 1384.24  Z\n  \" fill=\"#009af9\" fill-rule=\"evenodd\" fill-opacity=\"1\"/>\n<polyline clip-path=\"url(#clip092)\" style=\"stroke:#000000; stroke-linecap:butt; stroke-linejoin:round; stroke-width:4; stroke-opacity:1; fill:none\" points=\"\n  24142,1384.24 24142,1384.24 24202.9,1384.24 24142,1384.24 \n  \"/>\n<path clip-path=\"url(#clip092)\" d=\"\nM24202.9 1384.24 L24202.9 1384.24 L24263.8 1384.24 L24263.8 1384.24 L24202.9 1384.24 L24202.9 1384.24  Z\n  \" fill=\"#009af9\" fill-rule=\"evenodd\" fill-opacity=\"1\"/>\n<polyline clip-path=\"url(#clip092)\" style=\"stroke:#000000; stroke-linecap:butt; stroke-linejoin:round; stroke-width:4; stroke-opacity:1; fill:none\" points=\"\n  24202.9,1384.24 24202.9,1384.24 24263.8,1384.24 24202.9,1384.24 \n  \"/>\n<path clip-path=\"url(#clip092)\" d=\"\nM24263.8 1384.24 L24263.8 1384.24 L24324.7 1384.24 L24324.7 1384.24 L24263.8 1384.24 L24263.8 1384.24  Z\n  \" fill=\"#009af9\" fill-rule=\"evenodd\" fill-opacity=\"1\"/>\n<polyline clip-path=\"url(#clip092)\" style=\"stroke:#000000; stroke-linecap:butt; stroke-linejoin:round; stroke-width:4; stroke-opacity:1; fill:none\" points=\"\n  24263.8,1384.24 24263.8,1384.24 24324.7,1384.24 24263.8,1384.24 \n  \"/>\n<path clip-path=\"url(#clip092)\" d=\"\nM24324.7 1384.24 L24324.7 1384.24 L24385.6 1384.24 L24385.6 1384.24 L24324.7 1384.24 L24324.7 1384.24  Z\n  \" fill=\"#009af9\" fill-rule=\"evenodd\" fill-opacity=\"1\"/>\n<polyline clip-path=\"url(#clip092)\" style=\"stroke:#000000; stroke-linecap:butt; stroke-linejoin:round; stroke-width:4; stroke-opacity:1; fill:none\" points=\"\n  24324.7,1384.24 24324.7,1384.24 24385.6,1384.24 24324.7,1384.24 \n  \"/>\n<path clip-path=\"url(#clip092)\" d=\"\nM24385.6 1384.24 L24385.6 1384.24 L24446.5 1384.24 L24446.5 1384.24 L24385.6 1384.24 L24385.6 1384.24  Z\n  \" fill=\"#009af9\" fill-rule=\"evenodd\" fill-opacity=\"1\"/>\n<polyline clip-path=\"url(#clip092)\" style=\"stroke:#000000; stroke-linecap:butt; stroke-linejoin:round; stroke-width:4; stroke-opacity:1; fill:none\" points=\"\n  24385.6,1384.24 24385.6,1384.24 24446.5,1384.24 24385.6,1384.24 \n  \"/>\n<path clip-path=\"url(#clip092)\" d=\"\nM24446.5 1384.24 L24446.5 1384.24 L24507.4 1384.24 L24507.4 1384.24 L24446.5 1384.24 L24446.5 1384.24  Z\n  \" fill=\"#009af9\" fill-rule=\"evenodd\" fill-opacity=\"1\"/>\n<polyline clip-path=\"url(#clip092)\" style=\"stroke:#000000; stroke-linecap:butt; stroke-linejoin:round; stroke-width:4; stroke-opacity:1; fill:none\" points=\"\n  24446.5,1384.24 24446.5,1384.24 24507.4,1384.24 24446.5,1384.24 \n  \"/>\n<path clip-path=\"url(#clip092)\" d=\"\nM24507.4 1384.24 L24507.4 1384.24 L24568.3 1384.24 L24568.3 1384.24 L24507.4 1384.24 L24507.4 1384.24  Z\n  \" fill=\"#009af9\" fill-rule=\"evenodd\" fill-opacity=\"1\"/>\n<polyline clip-path=\"url(#clip092)\" style=\"stroke:#000000; stroke-linecap:butt; stroke-linejoin:round; stroke-width:4; stroke-opacity:1; fill:none\" points=\"\n  24507.4,1384.24 24507.4,1384.24 24568.3,1384.24 24507.4,1384.24 \n  \"/>\n<path clip-path=\"url(#clip092)\" d=\"\nM24568.3 1384.24 L24568.3 1384.24 L24629.2 1384.24 L24629.2 1384.24 L24568.3 1384.24 L24568.3 1384.24  Z\n  \" fill=\"#009af9\" fill-rule=\"evenodd\" fill-opacity=\"1\"/>\n<polyline clip-path=\"url(#clip092)\" style=\"stroke:#000000; stroke-linecap:butt; stroke-linejoin:round; stroke-width:4; stroke-opacity:1; fill:none\" points=\"\n  24568.3,1384.24 24568.3,1384.24 24629.2,1384.24 24568.3,1384.24 \n  \"/>\n<path clip-path=\"url(#clip092)\" d=\"\nM24629.2 1384.24 L24629.2 1384.24 L24690 1384.24 L24690 1384.24 L24629.2 1384.24 L24629.2 1384.24  Z\n  \" fill=\"#009af9\" fill-rule=\"evenodd\" fill-opacity=\"1\"/>\n<polyline clip-path=\"url(#clip092)\" style=\"stroke:#000000; stroke-linecap:butt; stroke-linejoin:round; stroke-width:4; stroke-opacity:1; fill:none\" points=\"\n  24629.2,1384.24 24629.2,1384.24 24690,1384.24 24629.2,1384.24 \n  \"/>\n<path clip-path=\"url(#clip092)\" d=\"\nM24690 1384.24 L24690 1384.24 L24750.9 1384.24 L24750.9 1384.24 L24690 1384.24 L24690 1384.24  Z\n  \" fill=\"#009af9\" fill-rule=\"evenodd\" fill-opacity=\"1\"/>\n<polyline clip-path=\"url(#clip092)\" style=\"stroke:#000000; stroke-linecap:butt; stroke-linejoin:round; stroke-width:4; stroke-opacity:1; fill:none\" points=\"\n  24690,1384.24 24690,1384.24 24750.9,1384.24 24690,1384.24 \n  \"/>\n<path clip-path=\"url(#clip092)\" d=\"\nM24750.9 1384.24 L24750.9 1384.24 L24811.8 1384.24 L24811.8 1384.24 L24750.9 1384.24 L24750.9 1384.24  Z\n  \" fill=\"#009af9\" fill-rule=\"evenodd\" fill-opacity=\"1\"/>\n<polyline clip-path=\"url(#clip092)\" style=\"stroke:#000000; stroke-linecap:butt; stroke-linejoin:round; stroke-width:4; stroke-opacity:1; fill:none\" points=\"\n  24750.9,1384.24 24750.9,1384.24 24811.8,1384.24 24750.9,1384.24 \n  \"/>\n<path clip-path=\"url(#clip092)\" d=\"\nM24811.8 1384.24 L24811.8 1384.24 L24872.7 1384.24 L24872.7 1384.24 L24811.8 1384.24 L24811.8 1384.24  Z\n  \" fill=\"#009af9\" fill-rule=\"evenodd\" fill-opacity=\"1\"/>\n<polyline clip-path=\"url(#clip092)\" style=\"stroke:#000000; stroke-linecap:butt; stroke-linejoin:round; stroke-width:4; stroke-opacity:1; fill:none\" points=\"\n  24811.8,1384.24 24811.8,1384.24 24872.7,1384.24 24811.8,1384.24 \n  \"/>\n<path clip-path=\"url(#clip092)\" d=\"\nM24872.7 1384.24 L24872.7 1384.24 L24933.6 1384.24 L24933.6 1384.24 L24872.7 1384.24 L24872.7 1384.24  Z\n  \" fill=\"#009af9\" fill-rule=\"evenodd\" fill-opacity=\"1\"/>\n<polyline clip-path=\"url(#clip092)\" style=\"stroke:#000000; stroke-linecap:butt; stroke-linejoin:round; stroke-width:4; stroke-opacity:1; fill:none\" points=\"\n  24872.7,1384.24 24872.7,1384.24 24933.6,1384.24 24872.7,1384.24 \n  \"/>\n<path clip-path=\"url(#clip092)\" d=\"\nM24933.6 1384.24 L24933.6 1384.24 L24994.5 1384.24 L24994.5 1384.24 L24933.6 1384.24 L24933.6 1384.24  Z\n  \" fill=\"#009af9\" fill-rule=\"evenodd\" fill-opacity=\"1\"/>\n<polyline clip-path=\"url(#clip092)\" style=\"stroke:#000000; stroke-linecap:butt; stroke-linejoin:round; stroke-width:4; stroke-opacity:1; fill:none\" points=\"\n  24933.6,1384.24 24933.6,1384.24 24994.5,1384.24 24933.6,1384.24 \n  \"/>\n<path clip-path=\"url(#clip092)\" d=\"\nM24994.5 1384.24 L24994.5 1384.24 L25055.4 1384.24 L25055.4 1384.24 L24994.5 1384.24 L24994.5 1384.24  Z\n  \" fill=\"#009af9\" fill-rule=\"evenodd\" fill-opacity=\"1\"/>\n<polyline clip-path=\"url(#clip092)\" style=\"stroke:#000000; stroke-linecap:butt; stroke-linejoin:round; stroke-width:4; stroke-opacity:1; fill:none\" points=\"\n  24994.5,1384.24 24994.5,1384.24 25055.4,1384.24 24994.5,1384.24 \n  \"/>\n<path clip-path=\"url(#clip092)\" d=\"\nM25055.4 1384.24 L25055.4 1384.24 L25116.3 1384.24 L25116.3 1384.24 L25055.4 1384.24 L25055.4 1384.24  Z\n  \" fill=\"#009af9\" fill-rule=\"evenodd\" fill-opacity=\"1\"/>\n<polyline clip-path=\"url(#clip092)\" style=\"stroke:#000000; stroke-linecap:butt; stroke-linejoin:round; stroke-width:4; stroke-opacity:1; fill:none\" points=\"\n  25055.4,1384.24 25055.4,1384.24 25116.3,1384.24 25055.4,1384.24 \n  \"/>\n<path clip-path=\"url(#clip092)\" d=\"\nM25116.3 1384.24 L25116.3 1384.24 L25177.2 1384.24 L25177.2 1384.24 L25116.3 1384.24 L25116.3 1384.24  Z\n  \" fill=\"#009af9\" fill-rule=\"evenodd\" fill-opacity=\"1\"/>\n<polyline clip-path=\"url(#clip092)\" style=\"stroke:#000000; stroke-linecap:butt; stroke-linejoin:round; stroke-width:4; stroke-opacity:1; fill:none\" points=\"\n  25116.3,1384.24 25116.3,1384.24 25177.2,1384.24 25116.3,1384.24 \n  \"/>\n<path clip-path=\"url(#clip092)\" d=\"\nM25177.2 1384.24 L25177.2 1384.24 L25238.1 1384.24 L25238.1 1384.24 L25177.2 1384.24 L25177.2 1384.24  Z\n  \" fill=\"#009af9\" fill-rule=\"evenodd\" fill-opacity=\"1\"/>\n<polyline clip-path=\"url(#clip092)\" style=\"stroke:#000000; stroke-linecap:butt; stroke-linejoin:round; stroke-width:4; stroke-opacity:1; fill:none\" points=\"\n  25177.2,1384.24 25177.2,1384.24 25238.1,1384.24 25177.2,1384.24 \n  \"/>\n<path clip-path=\"url(#clip092)\" d=\"\nM25238.1 1384.24 L25238.1 1384.24 L25298.9 1384.24 L25298.9 1384.24 L25238.1 1384.24 L25238.1 1384.24  Z\n  \" fill=\"#009af9\" fill-rule=\"evenodd\" fill-opacity=\"1\"/>\n<polyline clip-path=\"url(#clip092)\" style=\"stroke:#000000; stroke-linecap:butt; stroke-linejoin:round; stroke-width:4; stroke-opacity:1; fill:none\" points=\"\n  25238.1,1384.24 25238.1,1384.24 25298.9,1384.24 25238.1,1384.24 \n  \"/>\n<path clip-path=\"url(#clip092)\" d=\"\nM25298.9 1384.24 L25298.9 1384.24 L25359.8 1384.24 L25359.8 1384.24 L25298.9 1384.24 L25298.9 1384.24  Z\n  \" fill=\"#009af9\" fill-rule=\"evenodd\" fill-opacity=\"1\"/>\n<polyline clip-path=\"url(#clip092)\" style=\"stroke:#000000; stroke-linecap:butt; stroke-linejoin:round; stroke-width:4; stroke-opacity:1; fill:none\" points=\"\n  25298.9,1384.24 25298.9,1384.24 25359.8,1384.24 25298.9,1384.24 \n  \"/>\n<path clip-path=\"url(#clip092)\" d=\"\nM25359.8 1384.24 L25359.8 1384.24 L25420.7 1384.24 L25420.7 1384.24 L25359.8 1384.24 L25359.8 1384.24  Z\n  \" fill=\"#009af9\" fill-rule=\"evenodd\" fill-opacity=\"1\"/>\n<polyline clip-path=\"url(#clip092)\" style=\"stroke:#000000; stroke-linecap:butt; stroke-linejoin:round; stroke-width:4; stroke-opacity:1; fill:none\" points=\"\n  25359.8,1384.24 25359.8,1384.24 25420.7,1384.24 25359.8,1384.24 \n  \"/>\n<path clip-path=\"url(#clip092)\" d=\"\nM25420.7 1384.24 L25420.7 1384.24 L25481.6 1384.24 L25481.6 1384.24 L25420.7 1384.24 L25420.7 1384.24  Z\n  \" fill=\"#009af9\" fill-rule=\"evenodd\" fill-opacity=\"1\"/>\n<polyline clip-path=\"url(#clip092)\" style=\"stroke:#000000; stroke-linecap:butt; stroke-linejoin:round; stroke-width:4; stroke-opacity:1; fill:none\" points=\"\n  25420.7,1384.24 25420.7,1384.24 25481.6,1384.24 25420.7,1384.24 \n  \"/>\n<path clip-path=\"url(#clip092)\" d=\"\nM25481.6 1384.24 L25481.6 1384.24 L25542.5 1384.24 L25542.5 1384.24 L25481.6 1384.24 L25481.6 1384.24  Z\n  \" fill=\"#009af9\" fill-rule=\"evenodd\" fill-opacity=\"1\"/>\n<polyline clip-path=\"url(#clip092)\" style=\"stroke:#000000; stroke-linecap:butt; stroke-linejoin:round; stroke-width:4; stroke-opacity:1; fill:none\" points=\"\n  25481.6,1384.24 25481.6,1384.24 25542.5,1384.24 25481.6,1384.24 \n  \"/>\n<path clip-path=\"url(#clip092)\" d=\"\nM25542.5 1384.24 L25542.5 1384.24 L25603.4 1384.24 L25603.4 1384.24 L25542.5 1384.24 L25542.5 1384.24  Z\n  \" fill=\"#009af9\" fill-rule=\"evenodd\" fill-opacity=\"1\"/>\n<polyline clip-path=\"url(#clip092)\" style=\"stroke:#000000; stroke-linecap:butt; stroke-linejoin:round; stroke-width:4; stroke-opacity:1; fill:none\" points=\"\n  25542.5,1384.24 25542.5,1384.24 25603.4,1384.24 25542.5,1384.24 \n  \"/>\n<path clip-path=\"url(#clip092)\" d=\"\nM25603.4 1384.24 L25603.4 1384.24 L25664.3 1384.24 L25664.3 1384.24 L25603.4 1384.24 L25603.4 1384.24  Z\n  \" fill=\"#009af9\" fill-rule=\"evenodd\" fill-opacity=\"1\"/>\n<polyline clip-path=\"url(#clip092)\" style=\"stroke:#000000; stroke-linecap:butt; stroke-linejoin:round; stroke-width:4; stroke-opacity:1; fill:none\" points=\"\n  25603.4,1384.24 25603.4,1384.24 25664.3,1384.24 25603.4,1384.24 \n  \"/>\n<path clip-path=\"url(#clip092)\" d=\"\nM25664.3 1384.24 L25664.3 1384.24 L25725.2 1384.24 L25725.2 1384.24 L25664.3 1384.24 L25664.3 1384.24  Z\n  \" fill=\"#009af9\" fill-rule=\"evenodd\" fill-opacity=\"1\"/>\n<polyline clip-path=\"url(#clip092)\" style=\"stroke:#000000; stroke-linecap:butt; stroke-linejoin:round; stroke-width:4; stroke-opacity:1; fill:none\" points=\"\n  25664.3,1384.24 25664.3,1384.24 25725.2,1384.24 25664.3,1384.24 \n  \"/>\n<path clip-path=\"url(#clip092)\" d=\"\nM25725.2 1384.24 L25725.2 1384.24 L25786.1 1384.24 L25786.1 1384.24 L25725.2 1384.24 L25725.2 1384.24  Z\n  \" fill=\"#009af9\" fill-rule=\"evenodd\" fill-opacity=\"1\"/>\n<polyline clip-path=\"url(#clip092)\" style=\"stroke:#000000; stroke-linecap:butt; stroke-linejoin:round; stroke-width:4; stroke-opacity:1; fill:none\" points=\"\n  25725.2,1384.24 25725.2,1384.24 25786.1,1384.24 25725.2,1384.24 \n  \"/>\n<path clip-path=\"url(#clip092)\" d=\"\nM25786.1 1384.24 L25786.1 1384.24 L25846.9 1384.24 L25846.9 1384.24 L25786.1 1384.24 L25786.1 1384.24  Z\n  \" fill=\"#009af9\" fill-rule=\"evenodd\" fill-opacity=\"1\"/>\n<polyline clip-path=\"url(#clip092)\" style=\"stroke:#000000; stroke-linecap:butt; stroke-linejoin:round; stroke-width:4; stroke-opacity:1; fill:none\" points=\"\n  25786.1,1384.24 25786.1,1384.24 25846.9,1384.24 25786.1,1384.24 \n  \"/>\n<path clip-path=\"url(#clip092)\" d=\"\nM25846.9 1384.24 L25846.9 1384.24 L25907.8 1384.24 L25907.8 1384.24 L25846.9 1384.24 L25846.9 1384.24  Z\n  \" fill=\"#009af9\" fill-rule=\"evenodd\" fill-opacity=\"1\"/>\n<polyline clip-path=\"url(#clip092)\" style=\"stroke:#000000; stroke-linecap:butt; stroke-linejoin:round; stroke-width:4; stroke-opacity:1; fill:none\" points=\"\n  25846.9,1384.24 25846.9,1384.24 25907.8,1384.24 25846.9,1384.24 \n  \"/>\n<path clip-path=\"url(#clip092)\" d=\"\nM25907.8 1384.24 L25907.8 1384.24 L25968.7 1384.24 L25968.7 1384.24 L25907.8 1384.24 L25907.8 1384.24  Z\n  \" fill=\"#009af9\" fill-rule=\"evenodd\" fill-opacity=\"1\"/>\n<polyline clip-path=\"url(#clip092)\" style=\"stroke:#000000; stroke-linecap:butt; stroke-linejoin:round; stroke-width:4; stroke-opacity:1; fill:none\" points=\"\n  25907.8,1384.24 25907.8,1384.24 25968.7,1384.24 25907.8,1384.24 \n  \"/>\n<path clip-path=\"url(#clip092)\" d=\"\nM25968.7 1384.24 L25968.7 1384.24 L26029.6 1384.24 L26029.6 1384.24 L25968.7 1384.24 L25968.7 1384.24  Z\n  \" fill=\"#009af9\" fill-rule=\"evenodd\" fill-opacity=\"1\"/>\n<polyline clip-path=\"url(#clip092)\" style=\"stroke:#000000; stroke-linecap:butt; stroke-linejoin:round; stroke-width:4; stroke-opacity:1; fill:none\" points=\"\n  25968.7,1384.24 25968.7,1384.24 26029.6,1384.24 25968.7,1384.24 \n  \"/>\n<path clip-path=\"url(#clip092)\" d=\"\nM26029.6 1266.23 L26029.6 1384.24 L26090.5 1384.24 L26090.5 1266.23 L26029.6 1266.23 L26029.6 1266.23  Z\n  \" fill=\"#009af9\" fill-rule=\"evenodd\" fill-opacity=\"1\"/>\n<polyline clip-path=\"url(#clip092)\" style=\"stroke:#000000; stroke-linecap:butt; stroke-linejoin:round; stroke-width:4; stroke-opacity:1; fill:none\" points=\"\n  26029.6,1266.23 26029.6,1384.24 26090.5,1384.24 26090.5,1266.23 26029.6,1266.23 \n  \"/>\n<circle clip-path=\"url(#clip092)\" style=\"fill:#009af9; stroke:none; fill-opacity:0\" cx=\"303.842\" cy=\"1266.23\" r=\"2\"/>\n<circle clip-path=\"url(#clip092)\" style=\"fill:#009af9; stroke:none; fill-opacity:0\" cx=\"364.732\" cy=\"1266.23\" r=\"2\"/>\n<circle clip-path=\"url(#clip092)\" style=\"fill:#009af9; stroke:none; fill-opacity:0\" cx=\"425.621\" cy=\"1148.23\" r=\"2\"/>\n<circle clip-path=\"url(#clip092)\" style=\"fill:#009af9; stroke:none; fill-opacity:0\" cx=\"486.51\" cy=\"1384.24\" r=\"2\"/>\n<circle clip-path=\"url(#clip092)\" style=\"fill:#009af9; stroke:none; fill-opacity:0\" cx=\"547.4\" cy=\"1384.24\" r=\"2\"/>\n<circle clip-path=\"url(#clip092)\" style=\"fill:#009af9; stroke:none; fill-opacity:0\" cx=\"608.289\" cy=\"1384.24\" r=\"2\"/>\n<circle clip-path=\"url(#clip092)\" style=\"fill:#009af9; stroke:none; fill-opacity:0\" cx=\"669.179\" cy=\"1384.24\" r=\"2\"/>\n<circle clip-path=\"url(#clip092)\" style=\"fill:#009af9; stroke:none; fill-opacity:0\" cx=\"730.068\" cy=\"1384.24\" r=\"2\"/>\n<circle clip-path=\"url(#clip092)\" style=\"fill:#009af9; stroke:none; fill-opacity:0\" cx=\"790.957\" cy=\"1030.22\" r=\"2\"/>\n<circle clip-path=\"url(#clip092)\" style=\"fill:#009af9; stroke:none; fill-opacity:0\" cx=\"851.847\" cy=\"1148.23\" r=\"2\"/>\n<circle clip-path=\"url(#clip092)\" style=\"fill:#009af9; stroke:none; fill-opacity:0\" cx=\"912.736\" cy=\"1266.23\" r=\"2\"/>\n<circle clip-path=\"url(#clip092)\" style=\"fill:#009af9; stroke:none; fill-opacity:0\" cx=\"973.626\" cy=\"912.219\" r=\"2\"/>\n<circle clip-path=\"url(#clip092)\" style=\"fill:#009af9; stroke:none; fill-opacity:0\" cx=\"1034.52\" cy=\"1148.23\" r=\"2\"/>\n<circle clip-path=\"url(#clip092)\" style=\"fill:#009af9; stroke:none; fill-opacity:0\" cx=\"1095.4\" cy=\"1030.22\" r=\"2\"/>\n<circle clip-path=\"url(#clip092)\" style=\"fill:#009af9; stroke:none; fill-opacity:0\" cx=\"1156.29\" cy=\"912.219\" r=\"2\"/>\n<circle clip-path=\"url(#clip092)\" style=\"fill:#009af9; stroke:none; fill-opacity:0\" cx=\"1217.18\" cy=\"1266.23\" r=\"2\"/>\n<circle clip-path=\"url(#clip092)\" style=\"fill:#009af9; stroke:none; fill-opacity:0\" cx=\"1278.07\" cy=\"1266.23\" r=\"2\"/>\n<circle clip-path=\"url(#clip092)\" style=\"fill:#009af9; stroke:none; fill-opacity:0\" cx=\"1338.96\" cy=\"1148.23\" r=\"2\"/>\n<circle clip-path=\"url(#clip092)\" style=\"fill:#009af9; stroke:none; fill-opacity:0\" cx=\"1399.85\" cy=\"1266.23\" r=\"2\"/>\n<circle clip-path=\"url(#clip092)\" style=\"fill:#009af9; stroke:none; fill-opacity:0\" cx=\"1460.74\" cy=\"1030.22\" r=\"2\"/>\n<circle clip-path=\"url(#clip092)\" style=\"fill:#009af9; stroke:none; fill-opacity:0\" cx=\"1521.63\" cy=\"1148.23\" r=\"2\"/>\n<circle clip-path=\"url(#clip092)\" style=\"fill:#009af9; stroke:none; fill-opacity:0\" cx=\"1582.52\" cy=\"1030.22\" r=\"2\"/>\n<circle clip-path=\"url(#clip092)\" style=\"fill:#009af9; stroke:none; fill-opacity:0\" cx=\"1643.41\" cy=\"912.219\" r=\"2\"/>\n<circle clip-path=\"url(#clip092)\" style=\"fill:#009af9; stroke:none; fill-opacity:0\" cx=\"1704.3\" cy=\"558.205\" r=\"2\"/>\n<circle clip-path=\"url(#clip092)\" style=\"fill:#009af9; stroke:none; fill-opacity:0\" cx=\"1765.19\" cy=\"794.214\" r=\"2\"/>\n<circle clip-path=\"url(#clip092)\" style=\"fill:#009af9; stroke:none; fill-opacity:0\" cx=\"1826.08\" cy=\"912.219\" r=\"2\"/>\n<circle clip-path=\"url(#clip092)\" style=\"fill:#009af9; stroke:none; fill-opacity:0\" cx=\"1886.97\" cy=\"794.214\" r=\"2\"/>\n<circle clip-path=\"url(#clip092)\" style=\"fill:#009af9; stroke:none; fill-opacity:0\" cx=\"1947.86\" cy=\"912.219\" r=\"2\"/>\n<circle clip-path=\"url(#clip092)\" style=\"fill:#009af9; stroke:none; fill-opacity:0\" cx=\"2008.75\" cy=\"1030.22\" r=\"2\"/>\n<circle clip-path=\"url(#clip092)\" style=\"fill:#009af9; stroke:none; fill-opacity:0\" cx=\"2069.63\" cy=\"440.2\" r=\"2\"/>\n<circle clip-path=\"url(#clip092)\" style=\"fill:#009af9; stroke:none; fill-opacity:0\" cx=\"2130.52\" cy=\"322.195\" r=\"2\"/>\n<circle clip-path=\"url(#clip092)\" style=\"fill:#009af9; stroke:none; fill-opacity:0\" cx=\"2191.41\" cy=\"676.21\" r=\"2\"/>\n<circle clip-path=\"url(#clip092)\" style=\"fill:#009af9; stroke:none; fill-opacity:0\" cx=\"2252.3\" cy=\"794.214\" r=\"2\"/>\n<circle clip-path=\"url(#clip092)\" style=\"fill:#009af9; stroke:none; fill-opacity:0\" cx=\"2313.19\" cy=\"204.19\" r=\"2\"/>\n</svg>\n",
      "text/html": [
       "<?xml version=\"1.0\" encoding=\"utf-8\"?>\n",
       "<svg xmlns=\"http://www.w3.org/2000/svg\" xmlns:xlink=\"http://www.w3.org/1999/xlink\" width=\"600\" height=\"400\" viewBox=\"0 0 2400 1600\">\n",
       "<defs>\n",
       "  <clipPath id=\"clip140\">\n",
       "    <rect x=\"0\" y=\"0\" width=\"2400\" height=\"1600\"/>\n",
       "  </clipPath>\n",
       "</defs>\n",
       "<path clip-path=\"url(#clip140)\" d=\"\n",
       "M0 1600 L2400 1600 L2400 0 L0 0  Z\n",
       "  \" fill=\"#ffffff\" fill-rule=\"evenodd\" fill-opacity=\"1\"/>\n",
       "<defs>\n",
       "  <clipPath id=\"clip141\">\n",
       "    <rect x=\"480\" y=\"0\" width=\"1681\" height=\"1600\"/>\n",
       "  </clipPath>\n",
       "</defs>\n",
       "<path clip-path=\"url(#clip140)\" d=\"\n",
       "M247.459 1423.18 L2352.76 1423.18 L2352.76 47.2441 L247.459 47.2441  Z\n",
       "  \" fill=\"#ffffff\" fill-rule=\"evenodd\" fill-opacity=\"1\"/>\n",
       "<defs>\n",
       "  <clipPath id=\"clip142\">\n",
       "    <rect x=\"247\" y=\"47\" width=\"2106\" height=\"1377\"/>\n",
       "  </clipPath>\n",
       "</defs>\n",
       "<polyline clip-path=\"url(#clip142)\" style=\"stroke:#000000; stroke-linecap:butt; stroke-linejoin:round; stroke-width:2; stroke-opacity:0.1; fill:none\" points=\"\n",
       "  334.287,1423.18 334.287,47.2441 \n",
       "  \"/>\n",
       "<polyline clip-path=\"url(#clip142)\" style=\"stroke:#000000; stroke-linecap:butt; stroke-linejoin:round; stroke-width:2; stroke-opacity:0.1; fill:none\" points=\"\n",
       "  638.734,1423.18 638.734,47.2441 \n",
       "  \"/>\n",
       "<polyline clip-path=\"url(#clip142)\" style=\"stroke:#000000; stroke-linecap:butt; stroke-linejoin:round; stroke-width:2; stroke-opacity:0.1; fill:none\" points=\"\n",
       "  943.181,1423.18 943.181,47.2441 \n",
       "  \"/>\n",
       "<polyline clip-path=\"url(#clip142)\" style=\"stroke:#000000; stroke-linecap:butt; stroke-linejoin:round; stroke-width:2; stroke-opacity:0.1; fill:none\" points=\"\n",
       "  1247.63,1423.18 1247.63,47.2441 \n",
       "  \"/>\n",
       "<polyline clip-path=\"url(#clip142)\" style=\"stroke:#000000; stroke-linecap:butt; stroke-linejoin:round; stroke-width:2; stroke-opacity:0.1; fill:none\" points=\"\n",
       "  1552.07,1423.18 1552.07,47.2441 \n",
       "  \"/>\n",
       "<polyline clip-path=\"url(#clip142)\" style=\"stroke:#000000; stroke-linecap:butt; stroke-linejoin:round; stroke-width:2; stroke-opacity:0.1; fill:none\" points=\"\n",
       "  1856.52,1423.18 1856.52,47.2441 \n",
       "  \"/>\n",
       "<polyline clip-path=\"url(#clip142)\" style=\"stroke:#000000; stroke-linecap:butt; stroke-linejoin:round; stroke-width:2; stroke-opacity:0.1; fill:none\" points=\"\n",
       "  2160.97,1423.18 2160.97,47.2441 \n",
       "  \"/>\n",
       "<polyline clip-path=\"url(#clip140)\" style=\"stroke:#000000; stroke-linecap:butt; stroke-linejoin:round; stroke-width:4; stroke-opacity:1; fill:none\" points=\"\n",
       "  247.459,1423.18 2352.76,1423.18 \n",
       "  \"/>\n",
       "<polyline clip-path=\"url(#clip140)\" style=\"stroke:#000000; stroke-linecap:butt; stroke-linejoin:round; stroke-width:4; stroke-opacity:1; fill:none\" points=\"\n",
       "  334.287,1423.18 334.287,1404.28 \n",
       "  \"/>\n",
       "<polyline clip-path=\"url(#clip140)\" style=\"stroke:#000000; stroke-linecap:butt; stroke-linejoin:round; stroke-width:4; stroke-opacity:1; fill:none\" points=\"\n",
       "  638.734,1423.18 638.734,1404.28 \n",
       "  \"/>\n",
       "<polyline clip-path=\"url(#clip140)\" style=\"stroke:#000000; stroke-linecap:butt; stroke-linejoin:round; stroke-width:4; stroke-opacity:1; fill:none\" points=\"\n",
       "  943.181,1423.18 943.181,1404.28 \n",
       "  \"/>\n",
       "<polyline clip-path=\"url(#clip140)\" style=\"stroke:#000000; stroke-linecap:butt; stroke-linejoin:round; stroke-width:4; stroke-opacity:1; fill:none\" points=\"\n",
       "  1247.63,1423.18 1247.63,1404.28 \n",
       "  \"/>\n",
       "<polyline clip-path=\"url(#clip140)\" style=\"stroke:#000000; stroke-linecap:butt; stroke-linejoin:round; stroke-width:4; stroke-opacity:1; fill:none\" points=\"\n",
       "  1552.07,1423.18 1552.07,1404.28 \n",
       "  \"/>\n",
       "<polyline clip-path=\"url(#clip140)\" style=\"stroke:#000000; stroke-linecap:butt; stroke-linejoin:round; stroke-width:4; stroke-opacity:1; fill:none\" points=\"\n",
       "  1856.52,1423.18 1856.52,1404.28 \n",
       "  \"/>\n",
       "<polyline clip-path=\"url(#clip140)\" style=\"stroke:#000000; stroke-linecap:butt; stroke-linejoin:round; stroke-width:4; stroke-opacity:1; fill:none\" points=\"\n",
       "  2160.97,1423.18 2160.97,1404.28 \n",
       "  \"/>\n",
       "<path clip-path=\"url(#clip140)\" d=\"M271.776 1481.64 L279.415 1481.64 L279.415 1455.28 L271.104 1456.95 L271.104 1452.69 L279.368 1451.02 L284.044 1451.02 L284.044 1481.64 L291.683 1481.64 L291.683 1485.58 L271.776 1485.58 L271.776 1481.64 Z\" fill=\"#000000\" fill-rule=\"evenodd\" fill-opacity=\"1\" /><path clip-path=\"url(#clip140)\" d=\"M305.155 1481.64 L321.475 1481.64 L321.475 1485.58 L299.53 1485.58 L299.53 1481.64 Q302.192 1478.89 306.776 1474.26 Q311.382 1469.61 312.563 1468.27 Q314.808 1465.74 315.688 1464.01 Q316.59 1462.25 316.59 1460.56 Q316.59 1457.8 314.646 1456.07 Q312.725 1454.33 309.623 1454.33 Q307.424 1454.33 304.97 1455.09 Q302.539 1455.86 299.762 1457.41 L299.762 1452.69 Q302.586 1451.55 305.039 1450.97 Q307.493 1450.39 309.53 1450.39 Q314.901 1450.39 318.095 1453.08 Q321.289 1455.77 321.289 1460.26 Q321.289 1462.39 320.479 1464.31 Q319.692 1466.2 317.586 1468.8 Q317.007 1469.47 313.905 1472.69 Q310.803 1475.88 305.155 1481.64 Z\" fill=\"#000000\" fill-rule=\"evenodd\" fill-opacity=\"1\" /><path clip-path=\"url(#clip140)\" d=\"M331.289 1479.7 L336.174 1479.7 L336.174 1485.58 L331.289 1485.58 L331.289 1479.7 Z\" fill=\"#000000\" fill-rule=\"evenodd\" fill-opacity=\"1\" /><path clip-path=\"url(#clip140)\" d=\"M350.386 1481.64 L366.706 1481.64 L366.706 1485.58 L344.761 1485.58 L344.761 1481.64 Q347.423 1478.89 352.007 1474.26 Q356.613 1469.61 357.794 1468.27 Q360.039 1465.74 360.919 1464.01 Q361.822 1462.25 361.822 1460.56 Q361.822 1457.8 359.877 1456.07 Q357.956 1454.33 354.854 1454.33 Q352.655 1454.33 350.201 1455.09 Q347.771 1455.86 344.993 1457.41 L344.993 1452.69 Q347.817 1451.55 350.271 1450.97 Q352.724 1450.39 354.761 1450.39 Q360.132 1450.39 363.326 1453.08 Q366.521 1455.77 366.521 1460.26 Q366.521 1462.39 365.71 1464.31 Q364.923 1466.2 362.817 1468.8 Q362.238 1469.47 359.136 1472.69 Q356.035 1475.88 350.386 1481.64 Z\" fill=\"#000000\" fill-rule=\"evenodd\" fill-opacity=\"1\" /><path clip-path=\"url(#clip140)\" d=\"M376.567 1451.02 L394.923 1451.02 L394.923 1454.96 L380.849 1454.96 L380.849 1463.43 Q381.868 1463.08 382.886 1462.92 Q383.905 1462.73 384.923 1462.73 Q390.71 1462.73 394.09 1465.9 Q397.47 1469.08 397.47 1474.49 Q397.47 1480.07 393.997 1483.17 Q390.525 1486.25 384.206 1486.25 Q382.03 1486.25 379.761 1485.88 Q377.516 1485.51 375.109 1484.77 L375.109 1480.07 Q377.192 1481.2 379.414 1481.76 Q381.636 1482.32 384.113 1482.32 Q388.118 1482.32 390.456 1480.21 Q392.794 1478.1 392.794 1474.49 Q392.794 1470.88 390.456 1468.77 Q388.118 1466.67 384.113 1466.67 Q382.238 1466.67 380.363 1467.08 Q378.511 1467.5 376.567 1468.38 L376.567 1451.02 Z\" fill=\"#000000\" fill-rule=\"evenodd\" fill-opacity=\"1\" /><path clip-path=\"url(#clip140)\" d=\"M575.725 1481.64 L583.364 1481.64 L583.364 1455.28 L575.054 1456.95 L575.054 1452.69 L583.318 1451.02 L587.994 1451.02 L587.994 1481.64 L595.632 1481.64 L595.632 1485.58 L575.725 1485.58 L575.725 1481.64 Z\" fill=\"#000000\" fill-rule=\"evenodd\" fill-opacity=\"1\" /><path clip-path=\"url(#clip140)\" d=\"M609.105 1481.64 L625.424 1481.64 L625.424 1485.58 L603.48 1485.58 L603.48 1481.64 Q606.142 1478.89 610.725 1474.26 Q615.331 1469.61 616.512 1468.27 Q618.757 1465.74 619.637 1464.01 Q620.54 1462.25 620.54 1460.56 Q620.54 1457.8 618.595 1456.07 Q616.674 1454.33 613.572 1454.33 Q611.373 1454.33 608.919 1455.09 Q606.489 1455.86 603.711 1457.41 L603.711 1452.69 Q606.535 1451.55 608.989 1450.97 Q611.442 1450.39 613.479 1450.39 Q618.85 1450.39 622.044 1453.08 Q625.239 1455.77 625.239 1460.26 Q625.239 1462.39 624.429 1464.31 Q623.641 1466.2 621.535 1468.8 Q620.956 1469.47 617.854 1472.69 Q614.753 1475.88 609.105 1481.64 Z\" fill=\"#000000\" fill-rule=\"evenodd\" fill-opacity=\"1\" /><path clip-path=\"url(#clip140)\" d=\"M635.239 1479.7 L640.123 1479.7 L640.123 1485.58 L635.239 1485.58 L635.239 1479.7 Z\" fill=\"#000000\" fill-rule=\"evenodd\" fill-opacity=\"1\" /><path clip-path=\"url(#clip140)\" d=\"M650.354 1451.02 L668.711 1451.02 L668.711 1454.96 L654.637 1454.96 L654.637 1463.43 Q655.655 1463.08 656.674 1462.92 Q657.692 1462.73 658.711 1462.73 Q664.498 1462.73 667.877 1465.9 Q671.257 1469.08 671.257 1474.49 Q671.257 1480.07 667.785 1483.17 Q664.313 1486.25 657.993 1486.25 Q655.817 1486.25 653.549 1485.88 Q651.303 1485.51 648.896 1484.77 L648.896 1480.07 Q650.979 1481.2 653.202 1481.76 Q655.424 1482.32 657.901 1482.32 Q661.905 1482.32 664.243 1480.21 Q666.581 1478.1 666.581 1474.49 Q666.581 1470.88 664.243 1468.77 Q661.905 1466.67 657.901 1466.67 Q656.026 1466.67 654.151 1467.08 Q652.299 1467.5 650.354 1468.38 L650.354 1451.02 Z\" fill=\"#000000\" fill-rule=\"evenodd\" fill-opacity=\"1\" /><path clip-path=\"url(#clip140)\" d=\"M690.47 1454.1 Q686.859 1454.1 685.03 1457.66 Q683.224 1461.2 683.224 1468.33 Q683.224 1475.44 685.03 1479.01 Q686.859 1482.55 690.47 1482.55 Q694.104 1482.55 695.91 1479.01 Q697.738 1475.44 697.738 1468.33 Q697.738 1461.2 695.91 1457.66 Q694.104 1454.1 690.47 1454.1 M690.47 1450.39 Q696.28 1450.39 699.336 1455 Q702.414 1459.58 702.414 1468.33 Q702.414 1477.06 699.336 1481.67 Q696.28 1486.25 690.47 1486.25 Q684.66 1486.25 681.581 1481.67 Q678.525 1477.06 678.525 1468.33 Q678.525 1459.58 681.581 1455 Q684.66 1450.39 690.47 1450.39 Z\" fill=\"#000000\" fill-rule=\"evenodd\" fill-opacity=\"1\" /><path clip-path=\"url(#clip140)\" d=\"M880.67 1481.64 L888.309 1481.64 L888.309 1455.28 L879.998 1456.95 L879.998 1452.69 L888.262 1451.02 L892.938 1451.02 L892.938 1481.64 L900.577 1481.64 L900.577 1485.58 L880.67 1485.58 L880.67 1481.64 Z\" fill=\"#000000\" fill-rule=\"evenodd\" fill-opacity=\"1\" /><path clip-path=\"url(#clip140)\" d=\"M914.049 1481.64 L930.369 1481.64 L930.369 1485.58 L908.424 1485.58 L908.424 1481.64 Q911.086 1478.89 915.67 1474.26 Q920.276 1469.61 921.457 1468.27 Q923.702 1465.74 924.582 1464.01 Q925.484 1462.25 925.484 1460.56 Q925.484 1457.8 923.54 1456.07 Q921.619 1454.33 918.517 1454.33 Q916.318 1454.33 913.864 1455.09 Q911.433 1455.86 908.656 1457.41 L908.656 1452.69 Q911.48 1451.55 913.933 1450.97 Q916.387 1450.39 918.424 1450.39 Q923.795 1450.39 926.989 1453.08 Q930.183 1455.77 930.183 1460.26 Q930.183 1462.39 929.373 1464.31 Q928.586 1466.2 926.48 1468.8 Q925.901 1469.47 922.799 1472.69 Q919.697 1475.88 914.049 1481.64 Z\" fill=\"#000000\" fill-rule=\"evenodd\" fill-opacity=\"1\" /><path clip-path=\"url(#clip140)\" d=\"M940.183 1479.7 L945.068 1479.7 L945.068 1485.58 L940.183 1485.58 L940.183 1479.7 Z\" fill=\"#000000\" fill-rule=\"evenodd\" fill-opacity=\"1\" /><path clip-path=\"url(#clip140)\" d=\"M954.072 1451.02 L976.294 1451.02 L976.294 1453.01 L963.748 1485.58 L958.864 1485.58 L970.669 1454.96 L954.072 1454.96 L954.072 1451.02 Z\" fill=\"#000000\" fill-rule=\"evenodd\" fill-opacity=\"1\" /><path clip-path=\"url(#clip140)\" d=\"M985.461 1451.02 L1003.82 1451.02 L1003.82 1454.96 L989.743 1454.96 L989.743 1463.43 Q990.762 1463.08 991.78 1462.92 Q992.799 1462.73 993.817 1462.73 Q999.604 1462.73 1002.98 1465.9 Q1006.36 1469.08 1006.36 1474.49 Q1006.36 1480.07 1002.89 1483.17 Q999.419 1486.25 993.1 1486.25 Q990.924 1486.25 988.655 1485.88 Q986.41 1485.51 984.003 1484.77 L984.003 1480.07 Q986.086 1481.2 988.308 1481.76 Q990.53 1482.32 993.007 1482.32 Q997.012 1482.32 999.35 1480.21 Q1001.69 1478.1 1001.69 1474.49 Q1001.69 1470.88 999.35 1468.77 Q997.012 1466.67 993.007 1466.67 Q991.132 1466.67 989.257 1467.08 Q987.405 1467.5 985.461 1468.38 L985.461 1451.02 Z\" fill=\"#000000\" fill-rule=\"evenodd\" fill-opacity=\"1\" /><path clip-path=\"url(#clip140)\" d=\"M1184.62 1481.64 L1192.26 1481.64 L1192.26 1455.28 L1183.95 1456.95 L1183.95 1452.69 L1192.21 1451.02 L1196.89 1451.02 L1196.89 1481.64 L1204.53 1481.64 L1204.53 1485.58 L1184.62 1485.58 L1184.62 1481.64 Z\" fill=\"#000000\" fill-rule=\"evenodd\" fill-opacity=\"1\" /><path clip-path=\"url(#clip140)\" d=\"M1228.14 1466.95 Q1231.49 1467.66 1233.37 1469.93 Q1235.27 1472.2 1235.27 1475.53 Q1235.27 1480.65 1231.75 1483.45 Q1228.23 1486.25 1221.75 1486.25 Q1219.57 1486.25 1217.26 1485.81 Q1214.97 1485.39 1212.51 1484.54 L1212.51 1480.02 Q1214.46 1481.16 1216.77 1481.74 Q1219.09 1482.32 1221.61 1482.32 Q1226.01 1482.32 1228.3 1480.58 Q1230.61 1478.84 1230.61 1475.53 Q1230.61 1472.48 1228.46 1470.77 Q1226.33 1469.03 1222.51 1469.03 L1218.48 1469.03 L1218.48 1465.19 L1222.7 1465.19 Q1226.15 1465.19 1227.98 1463.82 Q1229.8 1462.43 1229.8 1459.84 Q1229.8 1457.18 1227.91 1455.77 Q1226.03 1454.33 1222.51 1454.33 Q1220.59 1454.33 1218.39 1454.75 Q1216.19 1455.16 1213.55 1456.04 L1213.55 1451.88 Q1216.22 1451.14 1218.53 1450.77 Q1220.87 1450.39 1222.93 1450.39 Q1228.25 1450.39 1231.35 1452.83 Q1234.46 1455.23 1234.46 1459.35 Q1234.46 1462.22 1232.81 1464.21 Q1231.17 1466.18 1228.14 1466.95 Z\" fill=\"#000000\" fill-rule=\"evenodd\" fill-opacity=\"1\" /><path clip-path=\"url(#clip140)\" d=\"M1244.13 1479.7 L1249.02 1479.7 L1249.02 1485.58 L1244.13 1485.58 L1244.13 1479.7 Z\" fill=\"#000000\" fill-rule=\"evenodd\" fill-opacity=\"1\" /><path clip-path=\"url(#clip140)\" d=\"M1269.2 1454.1 Q1265.59 1454.1 1263.76 1457.66 Q1261.96 1461.2 1261.96 1468.33 Q1261.96 1475.44 1263.76 1479.01 Q1265.59 1482.55 1269.2 1482.55 Q1272.84 1482.55 1274.64 1479.01 Q1276.47 1475.44 1276.47 1468.33 Q1276.47 1461.2 1274.64 1457.66 Q1272.84 1454.1 1269.2 1454.1 M1269.2 1450.39 Q1275.01 1450.39 1278.07 1455 Q1281.15 1459.58 1281.15 1468.33 Q1281.15 1477.06 1278.07 1481.67 Q1275.01 1486.25 1269.2 1486.25 Q1263.39 1486.25 1260.31 1481.67 Q1257.26 1477.06 1257.26 1468.33 Q1257.26 1459.58 1260.31 1455 Q1263.39 1450.39 1269.2 1450.39 Z\" fill=\"#000000\" fill-rule=\"evenodd\" fill-opacity=\"1\" /><path clip-path=\"url(#clip140)\" d=\"M1299.36 1454.1 Q1295.75 1454.1 1293.92 1457.66 Q1292.12 1461.2 1292.12 1468.33 Q1292.12 1475.44 1293.92 1479.01 Q1295.75 1482.55 1299.36 1482.55 Q1303 1482.55 1304.8 1479.01 Q1306.63 1475.44 1306.63 1468.33 Q1306.63 1461.2 1304.8 1457.66 Q1303 1454.1 1299.36 1454.1 M1299.36 1450.39 Q1305.17 1450.39 1308.23 1455 Q1311.31 1459.58 1311.31 1468.33 Q1311.31 1477.06 1308.23 1481.67 Q1305.17 1486.25 1299.36 1486.25 Q1293.55 1486.25 1290.47 1481.67 Q1287.42 1477.06 1287.42 1468.33 Q1287.42 1459.58 1290.47 1455 Q1293.55 1450.39 1299.36 1450.39 Z\" fill=\"#000000\" fill-rule=\"evenodd\" fill-opacity=\"1\" /><path clip-path=\"url(#clip140)\" d=\"M1489.56 1481.64 L1497.2 1481.64 L1497.2 1455.28 L1488.89 1456.95 L1488.89 1452.69 L1497.16 1451.02 L1501.83 1451.02 L1501.83 1481.64 L1509.47 1481.64 L1509.47 1485.58 L1489.56 1485.58 L1489.56 1481.64 Z\" fill=\"#000000\" fill-rule=\"evenodd\" fill-opacity=\"1\" /><path clip-path=\"url(#clip140)\" d=\"M1533.08 1466.95 Q1536.44 1467.66 1538.31 1469.93 Q1540.21 1472.2 1540.21 1475.53 Q1540.21 1480.65 1536.69 1483.45 Q1533.17 1486.25 1526.69 1486.25 Q1524.52 1486.25 1522.2 1485.81 Q1519.91 1485.39 1517.46 1484.54 L1517.46 1480.02 Q1519.4 1481.16 1521.72 1481.74 Q1524.03 1482.32 1526.55 1482.32 Q1530.95 1482.32 1533.24 1480.58 Q1535.56 1478.84 1535.56 1475.53 Q1535.56 1472.48 1533.41 1470.77 Q1531.28 1469.03 1527.46 1469.03 L1523.43 1469.03 L1523.43 1465.19 L1527.64 1465.19 Q1531.09 1465.19 1532.92 1463.82 Q1534.75 1462.43 1534.75 1459.84 Q1534.75 1457.18 1532.85 1455.77 Q1530.98 1454.33 1527.46 1454.33 Q1525.54 1454.33 1523.34 1454.75 Q1521.14 1455.16 1518.5 1456.04 L1518.5 1451.88 Q1521.16 1451.14 1523.48 1450.77 Q1525.81 1450.39 1527.87 1450.39 Q1533.2 1450.39 1536.3 1452.83 Q1539.4 1455.23 1539.4 1459.35 Q1539.4 1462.22 1537.76 1464.21 Q1536.11 1466.18 1533.08 1466.95 Z\" fill=\"#000000\" fill-rule=\"evenodd\" fill-opacity=\"1\" /><path clip-path=\"url(#clip140)\" d=\"M1549.08 1479.7 L1553.96 1479.7 L1553.96 1485.58 L1549.08 1485.58 L1549.08 1479.7 Z\" fill=\"#000000\" fill-rule=\"evenodd\" fill-opacity=\"1\" /><path clip-path=\"url(#clip140)\" d=\"M1568.17 1481.64 L1584.49 1481.64 L1584.49 1485.58 L1562.55 1485.58 L1562.55 1481.64 Q1565.21 1478.89 1569.79 1474.26 Q1574.4 1469.61 1575.58 1468.27 Q1577.83 1465.74 1578.71 1464.01 Q1579.61 1462.25 1579.61 1460.56 Q1579.61 1457.8 1577.67 1456.07 Q1575.74 1454.33 1572.64 1454.33 Q1570.44 1454.33 1567.99 1455.09 Q1565.56 1455.86 1562.78 1457.41 L1562.78 1452.69 Q1565.6 1451.55 1568.06 1450.97 Q1570.51 1450.39 1572.55 1450.39 Q1577.92 1450.39 1581.11 1453.08 Q1584.31 1455.77 1584.31 1460.26 Q1584.31 1462.39 1583.5 1464.31 Q1582.71 1466.2 1580.6 1468.8 Q1580.03 1469.47 1576.92 1472.69 Q1573.82 1475.88 1568.17 1481.64 Z\" fill=\"#000000\" fill-rule=\"evenodd\" fill-opacity=\"1\" /><path clip-path=\"url(#clip140)\" d=\"M1594.35 1451.02 L1612.71 1451.02 L1612.71 1454.96 L1598.64 1454.96 L1598.64 1463.43 Q1599.66 1463.08 1600.67 1462.92 Q1601.69 1462.73 1602.71 1462.73 Q1608.5 1462.73 1611.88 1465.9 Q1615.26 1469.08 1615.26 1474.49 Q1615.26 1480.07 1611.79 1483.17 Q1608.31 1486.25 1601.99 1486.25 Q1599.82 1486.25 1597.55 1485.88 Q1595.3 1485.51 1592.9 1484.77 L1592.9 1480.07 Q1594.98 1481.2 1597.2 1481.76 Q1599.42 1482.32 1601.9 1482.32 Q1605.91 1482.32 1608.24 1480.21 Q1610.58 1478.1 1610.58 1474.49 Q1610.58 1470.88 1608.24 1468.77 Q1605.91 1466.67 1601.9 1466.67 Q1600.03 1466.67 1598.15 1467.08 Q1596.3 1467.5 1594.35 1468.38 L1594.35 1451.02 Z\" fill=\"#000000\" fill-rule=\"evenodd\" fill-opacity=\"1\" /><path clip-path=\"url(#clip140)\" d=\"M1793.51 1481.64 L1801.15 1481.64 L1801.15 1455.28 L1792.84 1456.95 L1792.84 1452.69 L1801.11 1451.02 L1805.78 1451.02 L1805.78 1481.64 L1813.42 1481.64 L1813.42 1485.58 L1793.51 1485.58 L1793.51 1481.64 Z\" fill=\"#000000\" fill-rule=\"evenodd\" fill-opacity=\"1\" /><path clip-path=\"url(#clip140)\" d=\"M1837.03 1466.95 Q1840.39 1467.66 1842.26 1469.93 Q1844.16 1472.2 1844.16 1475.53 Q1844.16 1480.65 1840.64 1483.45 Q1837.12 1486.25 1830.64 1486.25 Q1828.47 1486.25 1826.15 1485.81 Q1823.86 1485.39 1821.41 1484.54 L1821.41 1480.02 Q1823.35 1481.16 1825.67 1481.74 Q1827.98 1482.32 1830.5 1482.32 Q1834.9 1482.32 1837.19 1480.58 Q1839.51 1478.84 1839.51 1475.53 Q1839.51 1472.48 1837.36 1470.77 Q1835.23 1469.03 1831.41 1469.03 L1827.38 1469.03 L1827.38 1465.19 L1831.59 1465.19 Q1835.04 1465.19 1836.87 1463.82 Q1838.7 1462.43 1838.7 1459.84 Q1838.7 1457.18 1836.8 1455.77 Q1834.92 1454.33 1831.41 1454.33 Q1829.49 1454.33 1827.29 1454.75 Q1825.09 1455.16 1822.45 1456.04 L1822.45 1451.88 Q1825.11 1451.14 1827.42 1450.77 Q1829.76 1450.39 1831.82 1450.39 Q1837.15 1450.39 1840.25 1452.83 Q1843.35 1455.23 1843.35 1459.35 Q1843.35 1462.22 1841.71 1464.21 Q1840.06 1466.18 1837.03 1466.95 Z\" fill=\"#000000\" fill-rule=\"evenodd\" fill-opacity=\"1\" /><path clip-path=\"url(#clip140)\" d=\"M1853.03 1479.7 L1857.91 1479.7 L1857.91 1485.58 L1853.03 1485.58 L1853.03 1479.7 Z\" fill=\"#000000\" fill-rule=\"evenodd\" fill-opacity=\"1\" /><path clip-path=\"url(#clip140)\" d=\"M1868.14 1451.02 L1886.5 1451.02 L1886.5 1454.96 L1872.42 1454.96 L1872.42 1463.43 Q1873.44 1463.08 1874.46 1462.92 Q1875.48 1462.73 1876.5 1462.73 Q1882.29 1462.73 1885.67 1465.9 Q1889.04 1469.08 1889.04 1474.49 Q1889.04 1480.07 1885.57 1483.17 Q1882.1 1486.25 1875.78 1486.25 Q1873.61 1486.25 1871.34 1485.88 Q1869.09 1485.51 1866.68 1484.77 L1866.68 1480.07 Q1868.77 1481.2 1870.99 1481.76 Q1873.21 1482.32 1875.69 1482.32 Q1879.69 1482.32 1882.03 1480.21 Q1884.37 1478.1 1884.37 1474.49 Q1884.37 1470.88 1882.03 1468.77 Q1879.69 1466.67 1875.69 1466.67 Q1873.81 1466.67 1871.94 1467.08 Q1870.09 1467.5 1868.14 1468.38 L1868.14 1451.02 Z\" fill=\"#000000\" fill-rule=\"evenodd\" fill-opacity=\"1\" /><path clip-path=\"url(#clip140)\" d=\"M1908.26 1454.1 Q1904.65 1454.1 1902.82 1457.66 Q1901.01 1461.2 1901.01 1468.33 Q1901.01 1475.44 1902.82 1479.01 Q1904.65 1482.55 1908.26 1482.55 Q1911.89 1482.55 1913.7 1479.01 Q1915.53 1475.44 1915.53 1468.33 Q1915.53 1461.2 1913.7 1457.66 Q1911.89 1454.1 1908.26 1454.1 M1908.26 1450.39 Q1914.07 1450.39 1917.12 1455 Q1920.2 1459.58 1920.2 1468.33 Q1920.2 1477.06 1917.12 1481.67 Q1914.07 1486.25 1908.26 1486.25 Q1902.45 1486.25 1899.37 1481.67 Q1896.31 1477.06 1896.31 1468.33 Q1896.31 1459.58 1899.37 1455 Q1902.45 1450.39 1908.26 1450.39 Z\" fill=\"#000000\" fill-rule=\"evenodd\" fill-opacity=\"1\" /><path clip-path=\"url(#clip140)\" d=\"M2098.46 1481.64 L2106.1 1481.64 L2106.1 1455.28 L2097.79 1456.95 L2097.79 1452.69 L2106.05 1451.02 L2110.73 1451.02 L2110.73 1481.64 L2118.37 1481.64 L2118.37 1485.58 L2098.46 1485.58 L2098.46 1481.64 Z\" fill=\"#000000\" fill-rule=\"evenodd\" fill-opacity=\"1\" /><path clip-path=\"url(#clip140)\" d=\"M2141.98 1466.95 Q2145.33 1467.66 2147.21 1469.93 Q2149.11 1472.2 2149.11 1475.53 Q2149.11 1480.65 2145.59 1483.45 Q2142.07 1486.25 2135.59 1486.25 Q2133.41 1486.25 2131.1 1485.81 Q2128.8 1485.39 2126.35 1484.54 L2126.35 1480.02 Q2128.3 1481.16 2130.61 1481.74 Q2132.93 1482.32 2135.45 1482.32 Q2139.85 1482.32 2142.14 1480.58 Q2144.45 1478.84 2144.45 1475.53 Q2144.45 1472.48 2142.3 1470.77 Q2140.17 1469.03 2136.35 1469.03 L2132.32 1469.03 L2132.32 1465.19 L2136.54 1465.19 Q2139.99 1465.19 2141.81 1463.82 Q2143.64 1462.43 2143.64 1459.84 Q2143.64 1457.18 2141.74 1455.77 Q2139.87 1454.33 2136.35 1454.33 Q2134.43 1454.33 2132.23 1454.75 Q2130.03 1455.16 2127.39 1456.04 L2127.39 1451.88 Q2130.05 1451.14 2132.37 1450.77 Q2134.71 1450.39 2136.77 1450.39 Q2142.09 1450.39 2145.19 1452.83 Q2148.3 1455.23 2148.3 1459.35 Q2148.3 1462.22 2146.65 1464.21 Q2145.01 1466.18 2141.98 1466.95 Z\" fill=\"#000000\" fill-rule=\"evenodd\" fill-opacity=\"1\" /><path clip-path=\"url(#clip140)\" d=\"M2157.97 1479.7 L2162.86 1479.7 L2162.86 1485.58 L2157.97 1485.58 L2157.97 1479.7 Z\" fill=\"#000000\" fill-rule=\"evenodd\" fill-opacity=\"1\" /><path clip-path=\"url(#clip140)\" d=\"M2171.86 1451.02 L2194.08 1451.02 L2194.08 1453.01 L2181.54 1485.58 L2176.65 1485.58 L2188.46 1454.96 L2171.86 1454.96 L2171.86 1451.02 Z\" fill=\"#000000\" fill-rule=\"evenodd\" fill-opacity=\"1\" /><path clip-path=\"url(#clip140)\" d=\"M2203.25 1451.02 L2221.61 1451.02 L2221.61 1454.96 L2207.53 1454.96 L2207.53 1463.43 Q2208.55 1463.08 2209.57 1462.92 Q2210.59 1462.73 2211.61 1462.73 Q2217.39 1462.73 2220.77 1465.9 Q2224.15 1469.08 2224.15 1474.49 Q2224.15 1480.07 2220.68 1483.17 Q2217.21 1486.25 2210.89 1486.25 Q2208.71 1486.25 2206.44 1485.88 Q2204.2 1485.51 2201.79 1484.77 L2201.79 1480.07 Q2203.87 1481.2 2206.1 1481.76 Q2208.32 1482.32 2210.8 1482.32 Q2214.8 1482.32 2217.14 1480.21 Q2219.48 1478.1 2219.48 1474.49 Q2219.48 1470.88 2217.14 1468.77 Q2214.8 1466.67 2210.8 1466.67 Q2208.92 1466.67 2207.05 1467.08 Q2205.19 1467.5 2203.25 1468.38 L2203.25 1451.02 Z\" fill=\"#000000\" fill-rule=\"evenodd\" fill-opacity=\"1\" /><path clip-path=\"url(#clip140)\" d=\"M1131.45 1539.24 Q1133.64 1535.29 1136.7 1533.41 Q1139.76 1531.54 1143.89 1531.54 Q1149.46 1531.54 1152.49 1535.45 Q1155.51 1539.33 1155.51 1546.53 L1155.51 1568.04 L1149.62 1568.04 L1149.62 1546.72 Q1149.62 1541.59 1147.81 1539.11 Q1145.99 1536.63 1142.27 1536.63 Q1137.72 1536.63 1135.08 1539.65 Q1132.43 1542.68 1132.43 1547.9 L1132.43 1568.04 L1126.55 1568.04 L1126.55 1546.72 Q1126.55 1541.56 1124.73 1539.11 Q1122.92 1536.63 1119.13 1536.63 Q1114.64 1536.63 1112 1539.68 Q1109.36 1542.71 1109.36 1547.9 L1109.36 1568.04 L1103.47 1568.04 L1103.47 1532.4 L1109.36 1532.4 L1109.36 1537.93 Q1111.36 1534.66 1114.17 1533.1 Q1116.97 1531.54 1120.82 1531.54 Q1124.7 1531.54 1127.41 1533.51 Q1130.14 1535.48 1131.45 1539.24 Z\" fill=\"#000000\" fill-rule=\"evenodd\" fill-opacity=\"1\" /><path clip-path=\"url(#clip140)\" d=\"M1167.19 1532.4 L1173.05 1532.4 L1173.05 1568.04 L1167.19 1568.04 L1167.19 1532.4 M1167.19 1518.52 L1173.05 1518.52 L1173.05 1525.93 L1167.19 1525.93 L1167.19 1518.52 Z\" fill=\"#000000\" fill-rule=\"evenodd\" fill-opacity=\"1\" /><path clip-path=\"url(#clip140)\" d=\"M1185.3 1518.52 L1191.16 1518.52 L1191.16 1568.04 L1185.3 1568.04 L1185.3 1518.52 Z\" fill=\"#000000\" fill-rule=\"evenodd\" fill-opacity=\"1\" /><path clip-path=\"url(#clip140)\" d=\"M1203.41 1518.52 L1209.27 1518.52 L1209.27 1568.04 L1203.41 1568.04 L1203.41 1518.52 Z\" fill=\"#000000\" fill-rule=\"evenodd\" fill-opacity=\"1\" /><path clip-path=\"url(#clip140)\" d=\"M1221.52 1532.4 L1227.38 1532.4 L1227.38 1568.04 L1221.52 1568.04 L1221.52 1532.4 M1221.52 1518.52 L1227.38 1518.52 L1227.38 1525.93 L1221.52 1525.93 L1221.52 1518.52 Z\" fill=\"#000000\" fill-rule=\"evenodd\" fill-opacity=\"1\" /><path clip-path=\"url(#clip140)\" d=\"M1262.36 1533.45 L1262.36 1538.98 Q1259.88 1537.71 1257.2 1537.07 Q1254.53 1536.44 1251.66 1536.44 Q1247.3 1536.44 1245.11 1537.77 Q1242.94 1539.11 1242.94 1541.79 Q1242.94 1543.82 1244.5 1545 Q1246.06 1546.15 1250.77 1547.2 L1252.78 1547.64 Q1259.02 1548.98 1261.63 1551.43 Q1264.27 1553.85 1264.27 1558.21 Q1264.27 1563.17 1260.32 1566.07 Q1256.41 1568.97 1249.53 1568.97 Q1246.67 1568.97 1243.55 1568.39 Q1240.46 1567.85 1237.02 1566.74 L1237.02 1560.69 Q1240.27 1562.38 1243.42 1563.24 Q1246.57 1564.07 1249.66 1564.07 Q1253.8 1564.07 1256.02 1562.66 Q1258.25 1561.23 1258.25 1558.65 Q1258.25 1556.27 1256.63 1554.99 Q1255.04 1553.72 1249.6 1552.54 L1247.56 1552.07 Q1242.12 1550.92 1239.7 1548.56 Q1237.28 1546.18 1237.28 1542.04 Q1237.28 1537.01 1240.84 1534.27 Q1244.41 1531.54 1250.96 1531.54 Q1254.21 1531.54 1257.08 1532.01 Q1259.94 1532.49 1262.36 1533.45 Z\" fill=\"#000000\" fill-rule=\"evenodd\" fill-opacity=\"1\" /><path clip-path=\"url(#clip140)\" d=\"M1304.09 1548.76 L1304.09 1551.62 L1277.16 1551.62 Q1277.54 1557.67 1280.79 1560.85 Q1284.07 1564 1289.89 1564 Q1293.26 1564 1296.42 1563.17 Q1299.6 1562.35 1302.72 1560.69 L1302.72 1566.23 Q1299.57 1567.57 1296.26 1568.27 Q1292.95 1568.97 1289.54 1568.97 Q1281.01 1568.97 1276.01 1564 Q1271.05 1559.04 1271.05 1550.57 Q1271.05 1541.82 1275.76 1536.69 Q1280.5 1531.54 1288.52 1531.54 Q1295.71 1531.54 1299.88 1536.18 Q1304.09 1540.8 1304.09 1548.76 M1298.23 1547.04 Q1298.17 1542.23 1295.52 1539.37 Q1292.91 1536.5 1288.59 1536.5 Q1283.68 1536.5 1280.72 1539.27 Q1277.8 1542.04 1277.35 1547.07 L1298.23 1547.04 Z\" fill=\"#000000\" fill-rule=\"evenodd\" fill-opacity=\"1\" /><path clip-path=\"url(#clip140)\" d=\"M1339.35 1533.76 L1339.35 1539.24 Q1336.87 1537.87 1334.35 1537.2 Q1331.87 1536.5 1329.33 1536.5 Q1323.63 1536.5 1320.48 1540.13 Q1317.33 1543.73 1317.33 1550.25 Q1317.33 1556.78 1320.48 1560.4 Q1323.63 1564 1329.33 1564 Q1331.87 1564 1334.35 1563.33 Q1336.87 1562.63 1339.35 1561.26 L1339.35 1566.68 Q1336.9 1567.82 1334.26 1568.39 Q1331.65 1568.97 1328.69 1568.97 Q1320.64 1568.97 1315.89 1563.91 Q1311.15 1558.85 1311.15 1550.25 Q1311.15 1541.53 1315.93 1536.53 Q1320.73 1531.54 1329.07 1531.54 Q1331.78 1531.54 1334.35 1532.11 Q1336.93 1532.65 1339.35 1533.76 Z\" fill=\"#000000\" fill-rule=\"evenodd\" fill-opacity=\"1\" /><path clip-path=\"url(#clip140)\" d=\"M1363.35 1536.5 Q1358.64 1536.5 1355.9 1540.19 Q1353.17 1543.85 1353.17 1550.25 Q1353.17 1556.65 1355.87 1560.34 Q1358.61 1564 1363.35 1564 Q1368.03 1564 1370.77 1560.31 Q1373.5 1556.62 1373.5 1550.25 Q1373.5 1543.92 1370.77 1540.23 Q1368.03 1536.5 1363.35 1536.5 M1363.35 1531.54 Q1370.99 1531.54 1375.35 1536.5 Q1379.71 1541.47 1379.71 1550.25 Q1379.71 1559 1375.35 1564 Q1370.99 1568.97 1363.35 1568.97 Q1355.68 1568.97 1351.32 1564 Q1346.99 1559 1346.99 1550.25 Q1346.99 1541.47 1351.32 1536.5 Q1355.68 1531.54 1363.35 1531.54 Z\" fill=\"#000000\" fill-rule=\"evenodd\" fill-opacity=\"1\" /><path clip-path=\"url(#clip140)\" d=\"M1419.05 1546.53 L1419.05 1568.04 L1413.19 1568.04 L1413.19 1546.72 Q1413.19 1541.66 1411.22 1539.14 Q1409.25 1536.63 1405.3 1536.63 Q1400.56 1536.63 1397.82 1539.65 Q1395.08 1542.68 1395.08 1547.9 L1395.08 1568.04 L1389.2 1568.04 L1389.2 1532.4 L1395.08 1532.4 L1395.08 1537.93 Q1397.18 1534.72 1400.02 1533.13 Q1402.88 1531.54 1406.61 1531.54 Q1412.75 1531.54 1415.9 1535.36 Q1419.05 1539.14 1419.05 1546.53 Z\" fill=\"#000000\" fill-rule=\"evenodd\" fill-opacity=\"1\" /><path clip-path=\"url(#clip140)\" d=\"M1454.19 1537.81 L1454.19 1518.52 L1460.05 1518.52 L1460.05 1568.04 L1454.19 1568.04 L1454.19 1562.7 Q1452.34 1565.88 1449.51 1567.44 Q1446.71 1568.97 1442.76 1568.97 Q1436.3 1568.97 1432.23 1563.81 Q1428.19 1558.65 1428.19 1550.25 Q1428.19 1541.85 1432.23 1536.69 Q1436.3 1531.54 1442.76 1531.54 Q1446.71 1531.54 1449.51 1533.1 Q1452.34 1534.62 1454.19 1537.81 M1434.23 1550.25 Q1434.23 1556.71 1436.87 1560.4 Q1439.55 1564.07 1444.2 1564.07 Q1448.84 1564.07 1451.52 1560.4 Q1454.19 1556.71 1454.19 1550.25 Q1454.19 1543.79 1451.52 1540.13 Q1448.84 1536.44 1444.2 1536.44 Q1439.55 1536.44 1436.87 1540.13 Q1434.23 1543.79 1434.23 1550.25 Z\" fill=\"#000000\" fill-rule=\"evenodd\" fill-opacity=\"1\" /><path clip-path=\"url(#clip140)\" d=\"M1494.83 1533.45 L1494.83 1538.98 Q1492.35 1537.71 1489.68 1537.07 Q1487 1536.44 1484.14 1536.44 Q1479.78 1536.44 1477.58 1537.77 Q1475.42 1539.11 1475.42 1541.79 Q1475.42 1543.82 1476.98 1545 Q1478.54 1546.15 1483.25 1547.2 L1485.25 1547.64 Q1491.49 1548.98 1494.1 1551.43 Q1496.74 1553.85 1496.74 1558.21 Q1496.74 1563.17 1492.8 1566.07 Q1488.88 1568.97 1482.01 1568.97 Q1479.14 1568.97 1476.02 1568.39 Q1472.94 1567.85 1469.5 1566.74 L1469.5 1560.69 Q1472.75 1562.38 1475.9 1563.24 Q1479.05 1564.07 1482.13 1564.07 Q1486.27 1564.07 1488.5 1562.66 Q1490.73 1561.23 1490.73 1558.65 Q1490.73 1556.27 1489.11 1554.99 Q1487.51 1553.72 1482.07 1552.54 L1480.03 1552.07 Q1474.59 1550.92 1472.17 1548.56 Q1469.75 1546.18 1469.75 1542.04 Q1469.75 1537.01 1473.32 1534.27 Q1476.88 1531.54 1483.44 1531.54 Q1486.69 1531.54 1489.55 1532.01 Q1492.42 1532.49 1494.83 1533.45 Z\" fill=\"#000000\" fill-rule=\"evenodd\" fill-opacity=\"1\" /><polyline clip-path=\"url(#clip142)\" style=\"stroke:#000000; stroke-linecap:butt; stroke-linejoin:round; stroke-width:2; stroke-opacity:0.1; fill:none\" points=\"\n",
       "  247.459,1384.24 2352.76,1384.24 \n",
       "  \"/>\n",
       "<polyline clip-path=\"url(#clip142)\" style=\"stroke:#000000; stroke-linecap:butt; stroke-linejoin:round; stroke-width:2; stroke-opacity:0.1; fill:none\" points=\"\n",
       "  247.459,1089.23 2352.76,1089.23 \n",
       "  \"/>\n",
       "<polyline clip-path=\"url(#clip142)\" style=\"stroke:#000000; stroke-linecap:butt; stroke-linejoin:round; stroke-width:2; stroke-opacity:0.1; fill:none\" points=\"\n",
       "  247.459,794.214 2352.76,794.214 \n",
       "  \"/>\n",
       "<polyline clip-path=\"url(#clip142)\" style=\"stroke:#000000; stroke-linecap:butt; stroke-linejoin:round; stroke-width:2; stroke-opacity:0.1; fill:none\" points=\"\n",
       "  247.459,499.202 2352.76,499.202 \n",
       "  \"/>\n",
       "<polyline clip-path=\"url(#clip142)\" style=\"stroke:#000000; stroke-linecap:butt; stroke-linejoin:round; stroke-width:2; stroke-opacity:0.1; fill:none\" points=\"\n",
       "  247.459,204.19 2352.76,204.19 \n",
       "  \"/>\n",
       "<polyline clip-path=\"url(#clip140)\" style=\"stroke:#000000; stroke-linecap:butt; stroke-linejoin:round; stroke-width:4; stroke-opacity:1; fill:none\" points=\"\n",
       "  247.459,1423.18 247.459,47.2441 \n",
       "  \"/>\n",
       "<polyline clip-path=\"url(#clip140)\" style=\"stroke:#000000; stroke-linecap:butt; stroke-linejoin:round; stroke-width:4; stroke-opacity:1; fill:none\" points=\"\n",
       "  247.459,1384.24 266.356,1384.24 \n",
       "  \"/>\n",
       "<polyline clip-path=\"url(#clip140)\" style=\"stroke:#000000; stroke-linecap:butt; stroke-linejoin:round; stroke-width:4; stroke-opacity:1; fill:none\" points=\"\n",
       "  247.459,1089.23 266.356,1089.23 \n",
       "  \"/>\n",
       "<polyline clip-path=\"url(#clip140)\" style=\"stroke:#000000; stroke-linecap:butt; stroke-linejoin:round; stroke-width:4; stroke-opacity:1; fill:none\" points=\"\n",
       "  247.459,794.214 266.356,794.214 \n",
       "  \"/>\n",
       "<polyline clip-path=\"url(#clip140)\" style=\"stroke:#000000; stroke-linecap:butt; stroke-linejoin:round; stroke-width:4; stroke-opacity:1; fill:none\" points=\"\n",
       "  247.459,499.202 266.356,499.202 \n",
       "  \"/>\n",
       "<polyline clip-path=\"url(#clip140)\" style=\"stroke:#000000; stroke-linecap:butt; stroke-linejoin:round; stroke-width:4; stroke-opacity:1; fill:none\" points=\"\n",
       "  247.459,204.19 266.356,204.19 \n",
       "  \"/>\n",
       "<path clip-path=\"url(#clip140)\" d=\"M154.283 1370.04 Q150.672 1370.04 148.843 1373.6 Q147.038 1377.14 147.038 1384.27 Q147.038 1391.38 148.843 1394.94 Q150.672 1398.49 154.283 1398.49 Q157.917 1398.49 159.723 1394.94 Q161.552 1391.38 161.552 1384.27 Q161.552 1377.14 159.723 1373.6 Q157.917 1370.04 154.283 1370.04 M154.283 1366.33 Q160.093 1366.33 163.149 1370.94 Q166.227 1375.52 166.227 1384.27 Q166.227 1393 163.149 1397.61 Q160.093 1402.19 154.283 1402.19 Q148.473 1402.19 145.394 1397.61 Q142.339 1393 142.339 1384.27 Q142.339 1375.52 145.394 1370.94 Q148.473 1366.33 154.283 1366.33 Z\" fill=\"#000000\" fill-rule=\"evenodd\" fill-opacity=\"1\" /><path clip-path=\"url(#clip140)\" d=\"M174.445 1395.64 L179.329 1395.64 L179.329 1401.52 L174.445 1401.52 L174.445 1395.64 Z\" fill=\"#000000\" fill-rule=\"evenodd\" fill-opacity=\"1\" /><path clip-path=\"url(#clip140)\" d=\"M199.514 1370.04 Q195.903 1370.04 194.075 1373.6 Q192.269 1377.14 192.269 1384.27 Q192.269 1391.38 194.075 1394.94 Q195.903 1398.49 199.514 1398.49 Q203.149 1398.49 204.954 1394.94 Q206.783 1391.38 206.783 1384.27 Q206.783 1377.14 204.954 1373.6 Q203.149 1370.04 199.514 1370.04 M199.514 1366.33 Q205.324 1366.33 208.38 1370.94 Q211.459 1375.52 211.459 1384.27 Q211.459 1393 208.38 1397.61 Q205.324 1402.19 199.514 1402.19 Q193.704 1402.19 190.625 1397.61 Q187.57 1393 187.57 1384.27 Q187.57 1375.52 190.625 1370.94 Q193.704 1366.33 199.514 1366.33 Z\" fill=\"#000000\" fill-rule=\"evenodd\" fill-opacity=\"1\" /><path clip-path=\"url(#clip140)\" d=\"M149.306 1102.57 L165.626 1102.57 L165.626 1106.51 L143.681 1106.51 L143.681 1102.57 Q146.343 1099.82 150.927 1095.19 Q155.533 1090.53 156.714 1089.19 Q158.959 1086.67 159.839 1084.93 Q160.741 1083.17 160.741 1081.48 Q160.741 1078.73 158.797 1076.99 Q156.876 1075.26 153.774 1075.26 Q151.575 1075.26 149.121 1076.02 Q146.691 1076.78 143.913 1078.34 L143.913 1073.61 Q146.737 1072.48 149.191 1071.9 Q151.644 1071.32 153.681 1071.32 Q159.052 1071.32 162.246 1074.01 Q165.44 1076.69 165.44 1081.18 Q165.44 1083.31 164.63 1085.23 Q163.843 1087.13 161.737 1089.72 Q161.158 1090.4 158.056 1093.61 Q154.954 1096.81 149.306 1102.57 Z\" fill=\"#000000\" fill-rule=\"evenodd\" fill-opacity=\"1\" /><path clip-path=\"url(#clip140)\" d=\"M175.44 1100.63 L180.325 1100.63 L180.325 1106.51 L175.44 1106.51 L175.44 1100.63 Z\" fill=\"#000000\" fill-rule=\"evenodd\" fill-opacity=\"1\" /><path clip-path=\"url(#clip140)\" d=\"M190.556 1071.95 L208.912 1071.95 L208.912 1075.88 L194.838 1075.88 L194.838 1084.35 Q195.857 1084.01 196.875 1083.84 Q197.894 1083.66 198.912 1083.66 Q204.699 1083.66 208.079 1086.83 Q211.459 1090 211.459 1095.42 Q211.459 1101 207.987 1104.1 Q204.514 1107.18 198.195 1107.18 Q196.019 1107.18 193.75 1106.81 Q191.505 1106.44 189.098 1105.7 L189.098 1101 Q191.181 1102.13 193.403 1102.69 Q195.625 1103.24 198.102 1103.24 Q202.107 1103.24 204.445 1101.14 Q206.783 1099.03 206.783 1095.42 Q206.783 1091.81 204.445 1089.7 Q202.107 1087.59 198.102 1087.59 Q196.227 1087.59 194.352 1088.01 Q192.5 1088.43 190.556 1089.31 L190.556 1071.95 Z\" fill=\"#000000\" fill-rule=\"evenodd\" fill-opacity=\"1\" /><path clip-path=\"url(#clip140)\" d=\"M144.329 776.934 L162.686 776.934 L162.686 780.87 L148.612 780.87 L148.612 789.342 Q149.63 788.994 150.649 788.832 Q151.667 788.647 152.686 788.647 Q158.473 788.647 161.852 791.819 Q165.232 794.99 165.232 800.406 Q165.232 805.985 161.76 809.087 Q158.288 812.166 151.968 812.166 Q149.792 812.166 147.524 811.795 Q145.279 811.425 142.871 810.684 L142.871 805.985 Q144.954 807.119 147.177 807.675 Q149.399 808.23 151.876 808.23 Q155.88 808.23 158.218 806.124 Q160.556 804.018 160.556 800.406 Q160.556 796.795 158.218 794.689 Q155.88 792.582 151.876 792.582 Q150.001 792.582 148.126 792.999 Q146.274 793.416 144.329 794.295 L144.329 776.934 Z\" fill=\"#000000\" fill-rule=\"evenodd\" fill-opacity=\"1\" /><path clip-path=\"url(#clip140)\" d=\"M174.445 805.615 L179.329 805.615 L179.329 811.494 L174.445 811.494 L174.445 805.615 Z\" fill=\"#000000\" fill-rule=\"evenodd\" fill-opacity=\"1\" /><path clip-path=\"url(#clip140)\" d=\"M199.514 780.013 Q195.903 780.013 194.075 783.578 Q192.269 787.119 192.269 794.249 Q192.269 801.356 194.075 804.92 Q195.903 808.462 199.514 808.462 Q203.149 808.462 204.954 804.92 Q206.783 801.356 206.783 794.249 Q206.783 787.119 204.954 783.578 Q203.149 780.013 199.514 780.013 M199.514 776.309 Q205.324 776.309 208.38 780.916 Q211.459 785.499 211.459 794.249 Q211.459 802.976 208.38 807.582 Q205.324 812.166 199.514 812.166 Q193.704 812.166 190.625 807.582 Q187.57 802.976 187.57 794.249 Q187.57 785.499 190.625 780.916 Q193.704 776.309 199.514 776.309 Z\" fill=\"#000000\" fill-rule=\"evenodd\" fill-opacity=\"1\" /><path clip-path=\"url(#clip140)\" d=\"M144.098 481.922 L166.32 481.922 L166.32 483.913 L153.774 516.482 L148.89 516.482 L160.695 485.858 L144.098 485.858 L144.098 481.922 Z\" fill=\"#000000\" fill-rule=\"evenodd\" fill-opacity=\"1\" /><path clip-path=\"url(#clip140)\" d=\"M175.44 510.603 L180.325 510.603 L180.325 516.482 L175.44 516.482 L175.44 510.603 Z\" fill=\"#000000\" fill-rule=\"evenodd\" fill-opacity=\"1\" /><path clip-path=\"url(#clip140)\" d=\"M190.556 481.922 L208.912 481.922 L208.912 485.858 L194.838 485.858 L194.838 494.33 Q195.857 493.983 196.875 493.82 Q197.894 493.635 198.912 493.635 Q204.699 493.635 208.079 496.807 Q211.459 499.978 211.459 505.395 Q211.459 510.973 207.987 514.075 Q204.514 517.154 198.195 517.154 Q196.019 517.154 193.75 516.783 Q191.505 516.413 189.098 515.672 L189.098 510.973 Q191.181 512.107 193.403 512.663 Q195.625 513.219 198.102 513.219 Q202.107 513.219 204.445 511.112 Q206.783 509.006 206.783 505.395 Q206.783 501.783 204.445 499.677 Q202.107 497.57 198.102 497.57 Q196.227 497.57 194.352 497.987 Q192.5 498.404 190.556 499.283 L190.556 481.922 Z\" fill=\"#000000\" fill-rule=\"evenodd\" fill-opacity=\"1\" /><path clip-path=\"url(#clip140)\" d=\"M114.931 217.535 L122.57 217.535 L122.57 191.17 L114.26 192.836 L114.26 188.577 L122.524 186.91 L127.2 186.91 L127.2 217.535 L134.839 217.535 L134.839 221.47 L114.931 221.47 L114.931 217.535 Z\" fill=\"#000000\" fill-rule=\"evenodd\" fill-opacity=\"1\" /><path clip-path=\"url(#clip140)\" d=\"M154.283 189.989 Q150.672 189.989 148.843 193.554 Q147.038 197.096 147.038 204.225 Q147.038 211.332 148.843 214.896 Q150.672 218.438 154.283 218.438 Q157.917 218.438 159.723 214.896 Q161.552 211.332 161.552 204.225 Q161.552 197.096 159.723 193.554 Q157.917 189.989 154.283 189.989 M154.283 186.285 Q160.093 186.285 163.149 190.892 Q166.227 195.475 166.227 204.225 Q166.227 212.952 163.149 217.558 Q160.093 222.142 154.283 222.142 Q148.473 222.142 145.394 217.558 Q142.339 212.952 142.339 204.225 Q142.339 195.475 145.394 190.892 Q148.473 186.285 154.283 186.285 Z\" fill=\"#000000\" fill-rule=\"evenodd\" fill-opacity=\"1\" /><path clip-path=\"url(#clip140)\" d=\"M174.445 215.591 L179.329 215.591 L179.329 221.47 L174.445 221.47 L174.445 215.591 Z\" fill=\"#000000\" fill-rule=\"evenodd\" fill-opacity=\"1\" /><path clip-path=\"url(#clip140)\" d=\"M199.514 189.989 Q195.903 189.989 194.075 193.554 Q192.269 197.096 192.269 204.225 Q192.269 211.332 194.075 214.896 Q195.903 218.438 199.514 218.438 Q203.149 218.438 204.954 214.896 Q206.783 211.332 206.783 204.225 Q206.783 197.096 204.954 193.554 Q203.149 189.989 199.514 189.989 M199.514 186.285 Q205.324 186.285 208.38 190.892 Q211.459 195.475 211.459 204.225 Q211.459 212.952 208.38 217.558 Q205.324 222.142 199.514 222.142 Q193.704 222.142 190.625 217.558 Q187.57 212.952 187.57 204.225 Q187.57 195.475 190.625 190.892 Q193.704 186.285 199.514 186.285 Z\" fill=\"#000000\" fill-rule=\"evenodd\" fill-opacity=\"1\" /><path clip-path=\"url(#clip140)\" d=\"M29.7248 796.386 L35.1993 796.386 Q33.8307 798.869 33.1623 801.383 Q32.4621 803.866 32.4621 806.412 Q32.4621 812.11 36.0905 815.261 Q39.6872 818.412 46.212 818.412 Q52.7369 818.412 56.3653 815.261 Q59.9619 812.11 59.9619 806.412 Q59.9619 803.866 59.2935 801.383 Q58.5933 798.869 57.2247 796.386 L62.6355 796.386 Q63.7814 798.837 64.3543 801.479 Q64.9272 804.089 64.9272 807.049 Q64.9272 815.102 59.8664 819.844 Q54.8057 824.586 46.212 824.586 Q37.491 824.586 32.4939 819.812 Q27.4968 815.006 27.4968 806.667 Q27.4968 803.962 28.0697 801.383 Q28.6108 798.805 29.7248 796.386 Z\" fill=\"#000000\" fill-rule=\"evenodd\" fill-opacity=\"1\" /><path clip-path=\"url(#clip140)\" d=\"M32.4621 772.388 Q32.4621 777.098 36.1542 779.836 Q39.8145 782.573 46.212 782.573 Q52.6095 782.573 56.3017 779.867 Q59.9619 777.13 59.9619 772.388 Q59.9619 767.709 56.2698 764.972 Q52.5777 762.234 46.212 762.234 Q39.8781 762.234 36.186 764.972 Q32.4621 767.709 32.4621 772.388 M27.4968 772.388 Q27.4968 764.749 32.4621 760.388 Q37.4273 756.028 46.212 756.028 Q54.9649 756.028 59.9619 760.388 Q64.9272 764.749 64.9272 772.388 Q64.9272 780.058 59.9619 784.419 Q54.9649 788.748 46.212 788.748 Q37.4273 788.748 32.4621 784.419 Q27.4968 780.058 27.4968 772.388 Z\" fill=\"#000000\" fill-rule=\"evenodd\" fill-opacity=\"1\" /><path clip-path=\"url(#clip140)\" d=\"M49.9359 746.925 L28.3562 746.925 L28.3562 741.068 L49.7131 741.068 Q54.7739 741.068 57.3202 739.095 Q59.8346 737.122 59.8346 733.175 Q59.8346 728.432 56.8109 725.695 Q53.7872 722.926 48.5673 722.926 L28.3562 722.926 L28.3562 717.07 L64.0042 717.07 L64.0042 722.926 L58.5296 722.926 Q61.7762 725.059 63.3676 727.891 Q64.9272 730.692 64.9272 734.416 Q64.9272 740.559 61.1078 743.742 Q57.2883 746.925 49.9359 746.925 M27.4968 732.188 L27.4968 732.188 Z\" fill=\"#000000\" fill-rule=\"evenodd\" fill-opacity=\"1\" /><path clip-path=\"url(#clip140)\" d=\"M42.4881 675.374 L64.0042 675.374 L64.0042 681.231 L42.679 681.231 Q37.6183 681.231 35.1038 683.204 Q32.5894 685.178 32.5894 689.124 Q32.5894 693.867 35.6131 696.604 Q38.6368 699.341 43.8567 699.341 L64.0042 699.341 L64.0042 705.229 L28.3562 705.229 L28.3562 699.341 L33.8944 699.341 Q30.6797 697.241 29.0883 694.408 Q27.4968 691.543 27.4968 687.819 Q27.4968 681.676 31.3163 678.525 Q35.1038 675.374 42.4881 675.374 Z\" fill=\"#000000\" fill-rule=\"evenodd\" fill-opacity=\"1\" /><path clip-path=\"url(#clip140)\" d=\"M18.2347 657.9 L28.3562 657.9 L28.3562 645.837 L32.9077 645.837 L32.9077 657.9 L52.2594 657.9 Q56.6199 657.9 57.8613 656.723 Q59.1026 655.513 59.1026 651.853 L59.1026 645.837 L64.0042 645.837 L64.0042 651.853 Q64.0042 658.633 61.4897 661.211 Q58.9434 663.789 52.2594 663.789 L32.9077 663.789 L32.9077 668.086 L28.3562 668.086 L28.3562 663.789 L18.2347 663.789 L18.2347 657.9 Z\" fill=\"#000000\" fill-rule=\"evenodd\" fill-opacity=\"1\" /><path clip-path=\"url(#clip142)\" d=\"\n",
       "M212.508 1266.23 L212.508 1384.24 L273.398 1384.24 L273.398 1266.23 L212.508 1266.23 L212.508 1266.23  Z\n",
       "  \" fill=\"#009af9\" fill-rule=\"evenodd\" fill-opacity=\"1\"/>\n",
       "<polyline clip-path=\"url(#clip142)\" style=\"stroke:#000000; stroke-linecap:butt; stroke-linejoin:round; stroke-width:4; stroke-opacity:1; fill:none\" points=\"\n",
       "  212.508,1266.23 212.508,1384.24 273.398,1384.24 273.398,1266.23 212.508,1266.23 \n",
       "  \"/>\n",
       "<path clip-path=\"url(#clip142)\" d=\"\n",
       "M273.398 1266.23 L273.398 1384.24 L334.287 1384.24 L334.287 1266.23 L273.398 1266.23 L273.398 1266.23  Z\n",
       "  \" fill=\"#009af9\" fill-rule=\"evenodd\" fill-opacity=\"1\"/>\n",
       "<polyline clip-path=\"url(#clip142)\" style=\"stroke:#000000; stroke-linecap:butt; stroke-linejoin:round; stroke-width:4; stroke-opacity:1; fill:none\" points=\"\n",
       "  273.398,1266.23 273.398,1384.24 334.287,1384.24 334.287,1266.23 273.398,1266.23 \n",
       "  \"/>\n",
       "<path clip-path=\"url(#clip142)\" d=\"\n",
       "M334.287 1266.23 L334.287 1384.24 L395.176 1384.24 L395.176 1266.23 L334.287 1266.23 L334.287 1266.23  Z\n",
       "  \" fill=\"#009af9\" fill-rule=\"evenodd\" fill-opacity=\"1\"/>\n",
       "<polyline clip-path=\"url(#clip142)\" style=\"stroke:#000000; stroke-linecap:butt; stroke-linejoin:round; stroke-width:4; stroke-opacity:1; fill:none\" points=\"\n",
       "  334.287,1266.23 334.287,1384.24 395.176,1384.24 395.176,1266.23 334.287,1266.23 \n",
       "  \"/>\n",
       "<path clip-path=\"url(#clip142)\" d=\"\n",
       "M395.176 1148.23 L395.176 1384.24 L456.066 1384.24 L456.066 1148.23 L395.176 1148.23 L395.176 1148.23  Z\n",
       "  \" fill=\"#009af9\" fill-rule=\"evenodd\" fill-opacity=\"1\"/>\n",
       "<polyline clip-path=\"url(#clip142)\" style=\"stroke:#000000; stroke-linecap:butt; stroke-linejoin:round; stroke-width:4; stroke-opacity:1; fill:none\" points=\"\n",
       "  395.176,1148.23 395.176,1384.24 456.066,1384.24 456.066,1148.23 395.176,1148.23 \n",
       "  \"/>\n",
       "<path clip-path=\"url(#clip142)\" d=\"\n",
       "M456.066 1384.24 L456.066 1384.24 L516.955 1384.24 L516.955 1384.24 L456.066 1384.24 L456.066 1384.24  Z\n",
       "  \" fill=\"#009af9\" fill-rule=\"evenodd\" fill-opacity=\"1\"/>\n",
       "<polyline clip-path=\"url(#clip142)\" style=\"stroke:#000000; stroke-linecap:butt; stroke-linejoin:round; stroke-width:4; stroke-opacity:1; fill:none\" points=\"\n",
       "  456.066,1384.24 456.066,1384.24 516.955,1384.24 456.066,1384.24 \n",
       "  \"/>\n",
       "<path clip-path=\"url(#clip142)\" d=\"\n",
       "M516.955 1384.24 L516.955 1384.24 L577.845 1384.24 L577.845 1384.24 L516.955 1384.24 L516.955 1384.24  Z\n",
       "  \" fill=\"#009af9\" fill-rule=\"evenodd\" fill-opacity=\"1\"/>\n",
       "<polyline clip-path=\"url(#clip142)\" style=\"stroke:#000000; stroke-linecap:butt; stroke-linejoin:round; stroke-width:4; stroke-opacity:1; fill:none\" points=\"\n",
       "  516.955,1384.24 516.955,1384.24 577.845,1384.24 516.955,1384.24 \n",
       "  \"/>\n",
       "<path clip-path=\"url(#clip142)\" d=\"\n",
       "M577.845 1384.24 L577.845 1384.24 L638.734 1384.24 L638.734 1384.24 L577.845 1384.24 L577.845 1384.24  Z\n",
       "  \" fill=\"#009af9\" fill-rule=\"evenodd\" fill-opacity=\"1\"/>\n",
       "<polyline clip-path=\"url(#clip142)\" style=\"stroke:#000000; stroke-linecap:butt; stroke-linejoin:round; stroke-width:4; stroke-opacity:1; fill:none\" points=\"\n",
       "  577.845,1384.24 577.845,1384.24 638.734,1384.24 577.845,1384.24 \n",
       "  \"/>\n",
       "<path clip-path=\"url(#clip142)\" d=\"\n",
       "M638.734 1384.24 L638.734 1384.24 L699.623 1384.24 L699.623 1384.24 L638.734 1384.24 L638.734 1384.24  Z\n",
       "  \" fill=\"#009af9\" fill-rule=\"evenodd\" fill-opacity=\"1\"/>\n",
       "<polyline clip-path=\"url(#clip142)\" style=\"stroke:#000000; stroke-linecap:butt; stroke-linejoin:round; stroke-width:4; stroke-opacity:1; fill:none\" points=\"\n",
       "  638.734,1384.24 638.734,1384.24 699.623,1384.24 638.734,1384.24 \n",
       "  \"/>\n",
       "<path clip-path=\"url(#clip142)\" d=\"\n",
       "M699.623 1384.24 L699.623 1384.24 L760.513 1384.24 L760.513 1384.24 L699.623 1384.24 L699.623 1384.24  Z\n",
       "  \" fill=\"#009af9\" fill-rule=\"evenodd\" fill-opacity=\"1\"/>\n",
       "<polyline clip-path=\"url(#clip142)\" style=\"stroke:#000000; stroke-linecap:butt; stroke-linejoin:round; stroke-width:4; stroke-opacity:1; fill:none\" points=\"\n",
       "  699.623,1384.24 699.623,1384.24 760.513,1384.24 699.623,1384.24 \n",
       "  \"/>\n",
       "<path clip-path=\"url(#clip142)\" d=\"\n",
       "M760.513 1030.22 L760.513 1384.24 L821.402 1384.24 L821.402 1030.22 L760.513 1030.22 L760.513 1030.22  Z\n",
       "  \" fill=\"#009af9\" fill-rule=\"evenodd\" fill-opacity=\"1\"/>\n",
       "<polyline clip-path=\"url(#clip142)\" style=\"stroke:#000000; stroke-linecap:butt; stroke-linejoin:round; stroke-width:4; stroke-opacity:1; fill:none\" points=\"\n",
       "  760.513,1030.22 760.513,1384.24 821.402,1384.24 821.402,1030.22 760.513,1030.22 \n",
       "  \"/>\n",
       "<path clip-path=\"url(#clip142)\" d=\"\n",
       "M821.402 1148.23 L821.402 1384.24 L882.292 1384.24 L882.292 1148.23 L821.402 1148.23 L821.402 1148.23  Z\n",
       "  \" fill=\"#009af9\" fill-rule=\"evenodd\" fill-opacity=\"1\"/>\n",
       "<polyline clip-path=\"url(#clip142)\" style=\"stroke:#000000; stroke-linecap:butt; stroke-linejoin:round; stroke-width:4; stroke-opacity:1; fill:none\" points=\"\n",
       "  821.402,1148.23 821.402,1384.24 882.292,1384.24 882.292,1148.23 821.402,1148.23 \n",
       "  \"/>\n",
       "<path clip-path=\"url(#clip142)\" d=\"\n",
       "M882.292 1266.23 L882.292 1384.24 L943.181 1384.24 L943.181 1266.23 L882.292 1266.23 L882.292 1266.23  Z\n",
       "  \" fill=\"#009af9\" fill-rule=\"evenodd\" fill-opacity=\"1\"/>\n",
       "<polyline clip-path=\"url(#clip142)\" style=\"stroke:#000000; stroke-linecap:butt; stroke-linejoin:round; stroke-width:4; stroke-opacity:1; fill:none\" points=\"\n",
       "  882.292,1266.23 882.292,1384.24 943.181,1384.24 943.181,1266.23 882.292,1266.23 \n",
       "  \"/>\n",
       "<path clip-path=\"url(#clip142)\" d=\"\n",
       "M943.181 912.219 L943.181 1384.24 L1004.07 1384.24 L1004.07 912.219 L943.181 912.219 L943.181 912.219  Z\n",
       "  \" fill=\"#009af9\" fill-rule=\"evenodd\" fill-opacity=\"1\"/>\n",
       "<polyline clip-path=\"url(#clip142)\" style=\"stroke:#000000; stroke-linecap:butt; stroke-linejoin:round; stroke-width:4; stroke-opacity:1; fill:none\" points=\"\n",
       "  943.181,912.219 943.181,1384.24 1004.07,1384.24 1004.07,912.219 943.181,912.219 \n",
       "  \"/>\n",
       "<path clip-path=\"url(#clip142)\" d=\"\n",
       "M1004.07 1148.23 L1004.07 1384.24 L1064.96 1384.24 L1064.96 1148.23 L1004.07 1148.23 L1004.07 1148.23  Z\n",
       "  \" fill=\"#009af9\" fill-rule=\"evenodd\" fill-opacity=\"1\"/>\n",
       "<polyline clip-path=\"url(#clip142)\" style=\"stroke:#000000; stroke-linecap:butt; stroke-linejoin:round; stroke-width:4; stroke-opacity:1; fill:none\" points=\"\n",
       "  1004.07,1148.23 1004.07,1384.24 1064.96,1384.24 1064.96,1148.23 1004.07,1148.23 \n",
       "  \"/>\n",
       "<path clip-path=\"url(#clip142)\" d=\"\n",
       "M1064.96 1030.22 L1064.96 1384.24 L1125.85 1384.24 L1125.85 1030.22 L1064.96 1030.22 L1064.96 1030.22  Z\n",
       "  \" fill=\"#009af9\" fill-rule=\"evenodd\" fill-opacity=\"1\"/>\n",
       "<polyline clip-path=\"url(#clip142)\" style=\"stroke:#000000; stroke-linecap:butt; stroke-linejoin:round; stroke-width:4; stroke-opacity:1; fill:none\" points=\"\n",
       "  1064.96,1030.22 1064.96,1384.24 1125.85,1384.24 1125.85,1030.22 1064.96,1030.22 \n",
       "  \"/>\n",
       "<path clip-path=\"url(#clip142)\" d=\"\n",
       "M1125.85 912.219 L1125.85 1384.24 L1186.74 1384.24 L1186.74 912.219 L1125.85 912.219 L1125.85 912.219  Z\n",
       "  \" fill=\"#009af9\" fill-rule=\"evenodd\" fill-opacity=\"1\"/>\n",
       "<polyline clip-path=\"url(#clip142)\" style=\"stroke:#000000; stroke-linecap:butt; stroke-linejoin:round; stroke-width:4; stroke-opacity:1; fill:none\" points=\"\n",
       "  1125.85,912.219 1125.85,1384.24 1186.74,1384.24 1186.74,912.219 1125.85,912.219 \n",
       "  \"/>\n",
       "<path clip-path=\"url(#clip142)\" d=\"\n",
       "M1186.74 1266.23 L1186.74 1384.24 L1247.63 1384.24 L1247.63 1266.23 L1186.74 1266.23 L1186.74 1266.23  Z\n",
       "  \" fill=\"#009af9\" fill-rule=\"evenodd\" fill-opacity=\"1\"/>\n",
       "<polyline clip-path=\"url(#clip142)\" style=\"stroke:#000000; stroke-linecap:butt; stroke-linejoin:round; stroke-width:4; stroke-opacity:1; fill:none\" points=\"\n",
       "  1186.74,1266.23 1186.74,1384.24 1247.63,1384.24 1247.63,1266.23 1186.74,1266.23 \n",
       "  \"/>\n",
       "<path clip-path=\"url(#clip142)\" d=\"\n",
       "M1247.63 1266.23 L1247.63 1384.24 L1308.52 1384.24 L1308.52 1266.23 L1247.63 1266.23 L1247.63 1266.23  Z\n",
       "  \" fill=\"#009af9\" fill-rule=\"evenodd\" fill-opacity=\"1\"/>\n",
       "<polyline clip-path=\"url(#clip142)\" style=\"stroke:#000000; stroke-linecap:butt; stroke-linejoin:round; stroke-width:4; stroke-opacity:1; fill:none\" points=\"\n",
       "  1247.63,1266.23 1247.63,1384.24 1308.52,1384.24 1308.52,1266.23 1247.63,1266.23 \n",
       "  \"/>\n",
       "<path clip-path=\"url(#clip142)\" d=\"\n",
       "M1308.52 1148.23 L1308.52 1384.24 L1369.41 1384.24 L1369.41 1148.23 L1308.52 1148.23 L1308.52 1148.23  Z\n",
       "  \" fill=\"#009af9\" fill-rule=\"evenodd\" fill-opacity=\"1\"/>\n",
       "<polyline clip-path=\"url(#clip142)\" style=\"stroke:#000000; stroke-linecap:butt; stroke-linejoin:round; stroke-width:4; stroke-opacity:1; fill:none\" points=\"\n",
       "  1308.52,1148.23 1308.52,1384.24 1369.41,1384.24 1369.41,1148.23 1308.52,1148.23 \n",
       "  \"/>\n",
       "<path clip-path=\"url(#clip142)\" d=\"\n",
       "M1369.41 1266.23 L1369.41 1384.24 L1430.3 1384.24 L1430.3 1266.23 L1369.41 1266.23 L1369.41 1266.23  Z\n",
       "  \" fill=\"#009af9\" fill-rule=\"evenodd\" fill-opacity=\"1\"/>\n",
       "<polyline clip-path=\"url(#clip142)\" style=\"stroke:#000000; stroke-linecap:butt; stroke-linejoin:round; stroke-width:4; stroke-opacity:1; fill:none\" points=\"\n",
       "  1369.41,1266.23 1369.41,1384.24 1430.3,1384.24 1430.3,1266.23 1369.41,1266.23 \n",
       "  \"/>\n",
       "<path clip-path=\"url(#clip142)\" d=\"\n",
       "M1430.3 1030.22 L1430.3 1384.24 L1491.19 1384.24 L1491.19 1030.22 L1430.3 1030.22 L1430.3 1030.22  Z\n",
       "  \" fill=\"#009af9\" fill-rule=\"evenodd\" fill-opacity=\"1\"/>\n",
       "<polyline clip-path=\"url(#clip142)\" style=\"stroke:#000000; stroke-linecap:butt; stroke-linejoin:round; stroke-width:4; stroke-opacity:1; fill:none\" points=\"\n",
       "  1430.3,1030.22 1430.3,1384.24 1491.19,1384.24 1491.19,1030.22 1430.3,1030.22 \n",
       "  \"/>\n",
       "<path clip-path=\"url(#clip142)\" d=\"\n",
       "M1491.19 1148.23 L1491.19 1384.24 L1552.07 1384.24 L1552.07 1148.23 L1491.19 1148.23 L1491.19 1148.23  Z\n",
       "  \" fill=\"#009af9\" fill-rule=\"evenodd\" fill-opacity=\"1\"/>\n",
       "<polyline clip-path=\"url(#clip142)\" style=\"stroke:#000000; stroke-linecap:butt; stroke-linejoin:round; stroke-width:4; stroke-opacity:1; fill:none\" points=\"\n",
       "  1491.19,1148.23 1491.19,1384.24 1552.07,1384.24 1552.07,1148.23 1491.19,1148.23 \n",
       "  \"/>\n",
       "<path clip-path=\"url(#clip142)\" d=\"\n",
       "M1552.07 1030.22 L1552.07 1384.24 L1612.96 1384.24 L1612.96 1030.22 L1552.07 1030.22 L1552.07 1030.22  Z\n",
       "  \" fill=\"#009af9\" fill-rule=\"evenodd\" fill-opacity=\"1\"/>\n",
       "<polyline clip-path=\"url(#clip142)\" style=\"stroke:#000000; stroke-linecap:butt; stroke-linejoin:round; stroke-width:4; stroke-opacity:1; fill:none\" points=\"\n",
       "  1552.07,1030.22 1552.07,1384.24 1612.96,1384.24 1612.96,1030.22 1552.07,1030.22 \n",
       "  \"/>\n",
       "<path clip-path=\"url(#clip142)\" d=\"\n",
       "M1612.96 912.219 L1612.96 1384.24 L1673.85 1384.24 L1673.85 912.219 L1612.96 912.219 L1612.96 912.219  Z\n",
       "  \" fill=\"#009af9\" fill-rule=\"evenodd\" fill-opacity=\"1\"/>\n",
       "<polyline clip-path=\"url(#clip142)\" style=\"stroke:#000000; stroke-linecap:butt; stroke-linejoin:round; stroke-width:4; stroke-opacity:1; fill:none\" points=\"\n",
       "  1612.96,912.219 1612.96,1384.24 1673.85,1384.24 1673.85,912.219 1612.96,912.219 \n",
       "  \"/>\n",
       "<path clip-path=\"url(#clip142)\" d=\"\n",
       "M1673.85 558.205 L1673.85 1384.24 L1734.74 1384.24 L1734.74 558.205 L1673.85 558.205 L1673.85 558.205  Z\n",
       "  \" fill=\"#009af9\" fill-rule=\"evenodd\" fill-opacity=\"1\"/>\n",
       "<polyline clip-path=\"url(#clip142)\" style=\"stroke:#000000; stroke-linecap:butt; stroke-linejoin:round; stroke-width:4; stroke-opacity:1; fill:none\" points=\"\n",
       "  1673.85,558.205 1673.85,1384.24 1734.74,1384.24 1734.74,558.205 1673.85,558.205 \n",
       "  \"/>\n",
       "<path clip-path=\"url(#clip142)\" d=\"\n",
       "M1734.74 794.214 L1734.74 1384.24 L1795.63 1384.24 L1795.63 794.214 L1734.74 794.214 L1734.74 794.214  Z\n",
       "  \" fill=\"#009af9\" fill-rule=\"evenodd\" fill-opacity=\"1\"/>\n",
       "<polyline clip-path=\"url(#clip142)\" style=\"stroke:#000000; stroke-linecap:butt; stroke-linejoin:round; stroke-width:4; stroke-opacity:1; fill:none\" points=\"\n",
       "  1734.74,794.214 1734.74,1384.24 1795.63,1384.24 1795.63,794.214 1734.74,794.214 \n",
       "  \"/>\n",
       "<path clip-path=\"url(#clip142)\" d=\"\n",
       "M1795.63 912.219 L1795.63 1384.24 L1856.52 1384.24 L1856.52 912.219 L1795.63 912.219 L1795.63 912.219  Z\n",
       "  \" fill=\"#009af9\" fill-rule=\"evenodd\" fill-opacity=\"1\"/>\n",
       "<polyline clip-path=\"url(#clip142)\" style=\"stroke:#000000; stroke-linecap:butt; stroke-linejoin:round; stroke-width:4; stroke-opacity:1; fill:none\" points=\"\n",
       "  1795.63,912.219 1795.63,1384.24 1856.52,1384.24 1856.52,912.219 1795.63,912.219 \n",
       "  \"/>\n",
       "<path clip-path=\"url(#clip142)\" d=\"\n",
       "M1856.52 794.214 L1856.52 1384.24 L1917.41 1384.24 L1917.41 794.214 L1856.52 794.214 L1856.52 794.214  Z\n",
       "  \" fill=\"#009af9\" fill-rule=\"evenodd\" fill-opacity=\"1\"/>\n",
       "<polyline clip-path=\"url(#clip142)\" style=\"stroke:#000000; stroke-linecap:butt; stroke-linejoin:round; stroke-width:4; stroke-opacity:1; fill:none\" points=\"\n",
       "  1856.52,794.214 1856.52,1384.24 1917.41,1384.24 1917.41,794.214 1856.52,794.214 \n",
       "  \"/>\n",
       "<path clip-path=\"url(#clip142)\" d=\"\n",
       "M1917.41 912.219 L1917.41 1384.24 L1978.3 1384.24 L1978.3 912.219 L1917.41 912.219 L1917.41 912.219  Z\n",
       "  \" fill=\"#009af9\" fill-rule=\"evenodd\" fill-opacity=\"1\"/>\n",
       "<polyline clip-path=\"url(#clip142)\" style=\"stroke:#000000; stroke-linecap:butt; stroke-linejoin:round; stroke-width:4; stroke-opacity:1; fill:none\" points=\"\n",
       "  1917.41,912.219 1917.41,1384.24 1978.3,1384.24 1978.3,912.219 1917.41,912.219 \n",
       "  \"/>\n",
       "<path clip-path=\"url(#clip142)\" d=\"\n",
       "M1978.3 1030.22 L1978.3 1384.24 L2039.19 1384.24 L2039.19 1030.22 L1978.3 1030.22 L1978.3 1030.22  Z\n",
       "  \" fill=\"#009af9\" fill-rule=\"evenodd\" fill-opacity=\"1\"/>\n",
       "<polyline clip-path=\"url(#clip142)\" style=\"stroke:#000000; stroke-linecap:butt; stroke-linejoin:round; stroke-width:4; stroke-opacity:1; fill:none\" points=\"\n",
       "  1978.3,1030.22 1978.3,1384.24 2039.19,1384.24 2039.19,1030.22 1978.3,1030.22 \n",
       "  \"/>\n",
       "<path clip-path=\"url(#clip142)\" d=\"\n",
       "M2039.19 440.2 L2039.19 1384.24 L2100.08 1384.24 L2100.08 440.2 L2039.19 440.2 L2039.19 440.2  Z\n",
       "  \" fill=\"#009af9\" fill-rule=\"evenodd\" fill-opacity=\"1\"/>\n",
       "<polyline clip-path=\"url(#clip142)\" style=\"stroke:#000000; stroke-linecap:butt; stroke-linejoin:round; stroke-width:4; stroke-opacity:1; fill:none\" points=\"\n",
       "  2039.19,440.2 2039.19,1384.24 2100.08,1384.24 2100.08,440.2 2039.19,440.2 \n",
       "  \"/>\n",
       "<path clip-path=\"url(#clip142)\" d=\"\n",
       "M2100.08 322.195 L2100.08 1384.24 L2160.97 1384.24 L2160.97 322.195 L2100.08 322.195 L2100.08 322.195  Z\n",
       "  \" fill=\"#009af9\" fill-rule=\"evenodd\" fill-opacity=\"1\"/>\n",
       "<polyline clip-path=\"url(#clip142)\" style=\"stroke:#000000; stroke-linecap:butt; stroke-linejoin:round; stroke-width:4; stroke-opacity:1; fill:none\" points=\"\n",
       "  2100.08,322.195 2100.08,1384.24 2160.97,1384.24 2160.97,322.195 2100.08,322.195 \n",
       "  \"/>\n",
       "<path clip-path=\"url(#clip142)\" d=\"\n",
       "M2160.97 676.21 L2160.97 1384.24 L2221.86 1384.24 L2221.86 676.21 L2160.97 676.21 L2160.97 676.21  Z\n",
       "  \" fill=\"#009af9\" fill-rule=\"evenodd\" fill-opacity=\"1\"/>\n",
       "<polyline clip-path=\"url(#clip142)\" style=\"stroke:#000000; stroke-linecap:butt; stroke-linejoin:round; stroke-width:4; stroke-opacity:1; fill:none\" points=\"\n",
       "  2160.97,676.21 2160.97,1384.24 2221.86,1384.24 2221.86,676.21 2160.97,676.21 \n",
       "  \"/>\n",
       "<path clip-path=\"url(#clip142)\" d=\"\n",
       "M2221.86 794.214 L2221.86 1384.24 L2282.75 1384.24 L2282.75 794.214 L2221.86 794.214 L2221.86 794.214  Z\n",
       "  \" fill=\"#009af9\" fill-rule=\"evenodd\" fill-opacity=\"1\"/>\n",
       "<polyline clip-path=\"url(#clip142)\" style=\"stroke:#000000; stroke-linecap:butt; stroke-linejoin:round; stroke-width:4; stroke-opacity:1; fill:none\" points=\"\n",
       "  2221.86,794.214 2221.86,1384.24 2282.75,1384.24 2282.75,794.214 2221.86,794.214 \n",
       "  \"/>\n",
       "<path clip-path=\"url(#clip142)\" d=\"\n",
       "M2282.75 204.19 L2282.75 1384.24 L2343.64 1384.24 L2343.64 204.19 L2282.75 204.19 L2282.75 204.19  Z\n",
       "  \" fill=\"#009af9\" fill-rule=\"evenodd\" fill-opacity=\"1\"/>\n",
       "<polyline clip-path=\"url(#clip142)\" style=\"stroke:#000000; stroke-linecap:butt; stroke-linejoin:round; stroke-width:4; stroke-opacity:1; fill:none\" points=\"\n",
       "  2282.75,204.19 2282.75,1384.24 2343.64,1384.24 2343.64,204.19 2282.75,204.19 \n",
       "  \"/>\n",
       "<path clip-path=\"url(#clip142)\" d=\"\n",
       "M2343.64 86.1857 L2343.64 1384.24 L2404.53 1384.24 L2404.53 86.1857 L2343.64 86.1857 L2343.64 86.1857  Z\n",
       "  \" fill=\"#009af9\" fill-rule=\"evenodd\" fill-opacity=\"1\"/>\n",
       "<polyline clip-path=\"url(#clip142)\" style=\"stroke:#000000; stroke-linecap:butt; stroke-linejoin:round; stroke-width:4; stroke-opacity:1; fill:none\" points=\"\n",
       "  2343.64,86.1857 2343.64,1384.24 2404.53,1384.24 2404.53,86.1857 2343.64,86.1857 \n",
       "  \"/>\n",
       "<path clip-path=\"url(#clip142)\" d=\"\n",
       "M2404.53 204.19 L2404.53 1384.24 L2465.42 1384.24 L2465.42 204.19 L2404.53 204.19 L2404.53 204.19  Z\n",
       "  \" fill=\"#009af9\" fill-rule=\"evenodd\" fill-opacity=\"1\"/>\n",
       "<polyline clip-path=\"url(#clip142)\" style=\"stroke:#000000; stroke-linecap:butt; stroke-linejoin:round; stroke-width:4; stroke-opacity:1; fill:none\" points=\"\n",
       "  2404.53,204.19 2404.53,1384.24 2465.42,1384.24 2465.42,204.19 2404.53,204.19 \n",
       "  \"/>\n",
       "<path clip-path=\"url(#clip142)\" d=\"\n",
       "M2465.42 1148.23 L2465.42 1384.24 L2526.31 1384.24 L2526.31 1148.23 L2465.42 1148.23 L2465.42 1148.23  Z\n",
       "  \" fill=\"#009af9\" fill-rule=\"evenodd\" fill-opacity=\"1\"/>\n",
       "<polyline clip-path=\"url(#clip142)\" style=\"stroke:#000000; stroke-linecap:butt; stroke-linejoin:round; stroke-width:4; stroke-opacity:1; fill:none\" points=\"\n",
       "  2465.42,1148.23 2465.42,1384.24 2526.31,1384.24 2526.31,1148.23 2465.42,1148.23 \n",
       "  \"/>\n",
       "<path clip-path=\"url(#clip142)\" d=\"\n",
       "M2526.31 794.214 L2526.31 1384.24 L2587.19 1384.24 L2587.19 794.214 L2526.31 794.214 L2526.31 794.214  Z\n",
       "  \" fill=\"#009af9\" fill-rule=\"evenodd\" fill-opacity=\"1\"/>\n",
       "<polyline clip-path=\"url(#clip142)\" style=\"stroke:#000000; stroke-linecap:butt; stroke-linejoin:round; stroke-width:4; stroke-opacity:1; fill:none\" points=\"\n",
       "  2526.31,794.214 2526.31,1384.24 2587.19,1384.24 2587.19,794.214 2526.31,794.214 \n",
       "  \"/>\n",
       "<path clip-path=\"url(#clip142)\" d=\"\n",
       "M2587.19 1030.22 L2587.19 1384.24 L2648.08 1384.24 L2648.08 1030.22 L2587.19 1030.22 L2587.19 1030.22  Z\n",
       "  \" fill=\"#009af9\" fill-rule=\"evenodd\" fill-opacity=\"1\"/>\n",
       "<polyline clip-path=\"url(#clip142)\" style=\"stroke:#000000; stroke-linecap:butt; stroke-linejoin:round; stroke-width:4; stroke-opacity:1; fill:none\" points=\"\n",
       "  2587.19,1030.22 2587.19,1384.24 2648.08,1384.24 2648.08,1030.22 2587.19,1030.22 \n",
       "  \"/>\n",
       "<path clip-path=\"url(#clip142)\" d=\"\n",
       "M2648.08 1030.22 L2648.08 1384.24 L2708.97 1384.24 L2708.97 1030.22 L2648.08 1030.22 L2648.08 1030.22  Z\n",
       "  \" fill=\"#009af9\" fill-rule=\"evenodd\" fill-opacity=\"1\"/>\n",
       "<polyline clip-path=\"url(#clip142)\" style=\"stroke:#000000; stroke-linecap:butt; stroke-linejoin:round; stroke-width:4; stroke-opacity:1; fill:none\" points=\"\n",
       "  2648.08,1030.22 2648.08,1384.24 2708.97,1384.24 2708.97,1030.22 2648.08,1030.22 \n",
       "  \"/>\n",
       "<path clip-path=\"url(#clip142)\" d=\"\n",
       "M2708.97 322.195 L2708.97 1384.24 L2769.86 1384.24 L2769.86 322.195 L2708.97 322.195 L2708.97 322.195  Z\n",
       "  \" fill=\"#009af9\" fill-rule=\"evenodd\" fill-opacity=\"1\"/>\n",
       "<polyline clip-path=\"url(#clip142)\" style=\"stroke:#000000; stroke-linecap:butt; stroke-linejoin:round; stroke-width:4; stroke-opacity:1; fill:none\" points=\"\n",
       "  2708.97,322.195 2708.97,1384.24 2769.86,1384.24 2769.86,322.195 2708.97,322.195 \n",
       "  \"/>\n",
       "<path clip-path=\"url(#clip142)\" d=\"\n",
       "M2769.86 440.2 L2769.86 1384.24 L2830.75 1384.24 L2830.75 440.2 L2769.86 440.2 L2769.86 440.2  Z\n",
       "  \" fill=\"#009af9\" fill-rule=\"evenodd\" fill-opacity=\"1\"/>\n",
       "<polyline clip-path=\"url(#clip142)\" style=\"stroke:#000000; stroke-linecap:butt; stroke-linejoin:round; stroke-width:4; stroke-opacity:1; fill:none\" points=\"\n",
       "  2769.86,440.2 2769.86,1384.24 2830.75,1384.24 2830.75,440.2 2769.86,440.2 \n",
       "  \"/>\n",
       "<path clip-path=\"url(#clip142)\" d=\"\n",
       "M2830.75 322.195 L2830.75 1384.24 L2891.64 1384.24 L2891.64 322.195 L2830.75 322.195 L2830.75 322.195  Z\n",
       "  \" fill=\"#009af9\" fill-rule=\"evenodd\" fill-opacity=\"1\"/>\n",
       "<polyline clip-path=\"url(#clip142)\" style=\"stroke:#000000; stroke-linecap:butt; stroke-linejoin:round; stroke-width:4; stroke-opacity:1; fill:none\" points=\"\n",
       "  2830.75,322.195 2830.75,1384.24 2891.64,1384.24 2891.64,322.195 2830.75,322.195 \n",
       "  \"/>\n",
       "<path clip-path=\"url(#clip142)\" d=\"\n",
       "M2891.64 676.21 L2891.64 1384.24 L2952.53 1384.24 L2952.53 676.21 L2891.64 676.21 L2891.64 676.21  Z\n",
       "  \" fill=\"#009af9\" fill-rule=\"evenodd\" fill-opacity=\"1\"/>\n",
       "<polyline clip-path=\"url(#clip142)\" style=\"stroke:#000000; stroke-linecap:butt; stroke-linejoin:round; stroke-width:4; stroke-opacity:1; fill:none\" points=\"\n",
       "  2891.64,676.21 2891.64,1384.24 2952.53,1384.24 2952.53,676.21 2891.64,676.21 \n",
       "  \"/>\n",
       "<path clip-path=\"url(#clip142)\" d=\"\n",
       "M2952.53 558.205 L2952.53 1384.24 L3013.42 1384.24 L3013.42 558.205 L2952.53 558.205 L2952.53 558.205  Z\n",
       "  \" fill=\"#009af9\" fill-rule=\"evenodd\" fill-opacity=\"1\"/>\n",
       "<polyline clip-path=\"url(#clip142)\" style=\"stroke:#000000; stroke-linecap:butt; stroke-linejoin:round; stroke-width:4; stroke-opacity:1; fill:none\" points=\"\n",
       "  2952.53,558.205 2952.53,1384.24 3013.42,1384.24 3013.42,558.205 2952.53,558.205 \n",
       "  \"/>\n",
       "<path clip-path=\"url(#clip142)\" d=\"\n",
       "M3013.42 558.205 L3013.42 1384.24 L3074.31 1384.24 L3074.31 558.205 L3013.42 558.205 L3013.42 558.205  Z\n",
       "  \" fill=\"#009af9\" fill-rule=\"evenodd\" fill-opacity=\"1\"/>\n",
       "<polyline clip-path=\"url(#clip142)\" style=\"stroke:#000000; stroke-linecap:butt; stroke-linejoin:round; stroke-width:4; stroke-opacity:1; fill:none\" points=\"\n",
       "  3013.42,558.205 3013.42,1384.24 3074.31,1384.24 3074.31,558.205 3013.42,558.205 \n",
       "  \"/>\n",
       "<path clip-path=\"url(#clip142)\" d=\"\n",
       "M3074.31 912.219 L3074.31 1384.24 L3135.2 1384.24 L3135.2 912.219 L3074.31 912.219 L3074.31 912.219  Z\n",
       "  \" fill=\"#009af9\" fill-rule=\"evenodd\" fill-opacity=\"1\"/>\n",
       "<polyline clip-path=\"url(#clip142)\" style=\"stroke:#000000; stroke-linecap:butt; stroke-linejoin:round; stroke-width:4; stroke-opacity:1; fill:none\" points=\"\n",
       "  3074.31,912.219 3074.31,1384.24 3135.2,1384.24 3135.2,912.219 3074.31,912.219 \n",
       "  \"/>\n",
       "<path clip-path=\"url(#clip142)\" d=\"\n",
       "M3135.2 794.214 L3135.2 1384.24 L3196.09 1384.24 L3196.09 794.214 L3135.2 794.214 L3135.2 794.214  Z\n",
       "  \" fill=\"#009af9\" fill-rule=\"evenodd\" fill-opacity=\"1\"/>\n",
       "<polyline clip-path=\"url(#clip142)\" style=\"stroke:#000000; stroke-linecap:butt; stroke-linejoin:round; stroke-width:4; stroke-opacity:1; fill:none\" points=\"\n",
       "  3135.2,794.214 3135.2,1384.24 3196.09,1384.24 3196.09,794.214 3135.2,794.214 \n",
       "  \"/>\n",
       "<path clip-path=\"url(#clip142)\" d=\"\n",
       "M3196.09 558.205 L3196.09 1384.24 L3256.98 1384.24 L3256.98 558.205 L3196.09 558.205 L3196.09 558.205  Z\n",
       "  \" fill=\"#009af9\" fill-rule=\"evenodd\" fill-opacity=\"1\"/>\n",
       "<polyline clip-path=\"url(#clip142)\" style=\"stroke:#000000; stroke-linecap:butt; stroke-linejoin:round; stroke-width:4; stroke-opacity:1; fill:none\" points=\"\n",
       "  3196.09,558.205 3196.09,1384.24 3256.98,1384.24 3256.98,558.205 3196.09,558.205 \n",
       "  \"/>\n",
       "<path clip-path=\"url(#clip142)\" d=\"\n",
       "M3256.98 912.219 L3256.98 1384.24 L3317.87 1384.24 L3317.87 912.219 L3256.98 912.219 L3256.98 912.219  Z\n",
       "  \" fill=\"#009af9\" fill-rule=\"evenodd\" fill-opacity=\"1\"/>\n",
       "<polyline clip-path=\"url(#clip142)\" style=\"stroke:#000000; stroke-linecap:butt; stroke-linejoin:round; stroke-width:4; stroke-opacity:1; fill:none\" points=\"\n",
       "  3256.98,912.219 3256.98,1384.24 3317.87,1384.24 3317.87,912.219 3256.98,912.219 \n",
       "  \"/>\n",
       "<path clip-path=\"url(#clip142)\" d=\"\n",
       "M3317.87 1148.23 L3317.87 1384.24 L3378.76 1384.24 L3378.76 1148.23 L3317.87 1148.23 L3317.87 1148.23  Z\n",
       "  \" fill=\"#009af9\" fill-rule=\"evenodd\" fill-opacity=\"1\"/>\n",
       "<polyline clip-path=\"url(#clip142)\" style=\"stroke:#000000; stroke-linecap:butt; stroke-linejoin:round; stroke-width:4; stroke-opacity:1; fill:none\" points=\"\n",
       "  3317.87,1148.23 3317.87,1384.24 3378.76,1384.24 3378.76,1148.23 3317.87,1148.23 \n",
       "  \"/>\n",
       "<path clip-path=\"url(#clip142)\" d=\"\n",
       "M3378.76 440.2 L3378.76 1384.24 L3439.65 1384.24 L3439.65 440.2 L3378.76 440.2 L3378.76 440.2  Z\n",
       "  \" fill=\"#009af9\" fill-rule=\"evenodd\" fill-opacity=\"1\"/>\n",
       "<polyline clip-path=\"url(#clip142)\" style=\"stroke:#000000; stroke-linecap:butt; stroke-linejoin:round; stroke-width:4; stroke-opacity:1; fill:none\" points=\"\n",
       "  3378.76,440.2 3378.76,1384.24 3439.65,1384.24 3439.65,440.2 3378.76,440.2 \n",
       "  \"/>\n",
       "<path clip-path=\"url(#clip142)\" d=\"\n",
       "M3439.65 912.219 L3439.65 1384.24 L3500.54 1384.24 L3500.54 912.219 L3439.65 912.219 L3439.65 912.219  Z\n",
       "  \" fill=\"#009af9\" fill-rule=\"evenodd\" fill-opacity=\"1\"/>\n",
       "<polyline clip-path=\"url(#clip142)\" style=\"stroke:#000000; stroke-linecap:butt; stroke-linejoin:round; stroke-width:4; stroke-opacity:1; fill:none\" points=\"\n",
       "  3439.65,912.219 3439.65,1384.24 3500.54,1384.24 3500.54,912.219 3439.65,912.219 \n",
       "  \"/>\n",
       "<path clip-path=\"url(#clip142)\" d=\"\n",
       "M3500.54 794.214 L3500.54 1384.24 L3561.43 1384.24 L3561.43 794.214 L3500.54 794.214 L3500.54 794.214  Z\n",
       "  \" fill=\"#009af9\" fill-rule=\"evenodd\" fill-opacity=\"1\"/>\n",
       "<polyline clip-path=\"url(#clip142)\" style=\"stroke:#000000; stroke-linecap:butt; stroke-linejoin:round; stroke-width:4; stroke-opacity:1; fill:none\" points=\"\n",
       "  3500.54,794.214 3500.54,1384.24 3561.43,1384.24 3561.43,794.214 3500.54,794.214 \n",
       "  \"/>\n",
       "<path clip-path=\"url(#clip142)\" d=\"\n",
       "M3561.43 1148.23 L3561.43 1384.24 L3622.31 1384.24 L3622.31 1148.23 L3561.43 1148.23 L3561.43 1148.23  Z\n",
       "  \" fill=\"#009af9\" fill-rule=\"evenodd\" fill-opacity=\"1\"/>\n",
       "<polyline clip-path=\"url(#clip142)\" style=\"stroke:#000000; stroke-linecap:butt; stroke-linejoin:round; stroke-width:4; stroke-opacity:1; fill:none\" points=\"\n",
       "  3561.43,1148.23 3561.43,1384.24 3622.31,1384.24 3622.31,1148.23 3561.43,1148.23 \n",
       "  \"/>\n",
       "<path clip-path=\"url(#clip142)\" d=\"\n",
       "M3622.31 676.21 L3622.31 1384.24 L3683.2 1384.24 L3683.2 676.21 L3622.31 676.21 L3622.31 676.21  Z\n",
       "  \" fill=\"#009af9\" fill-rule=\"evenodd\" fill-opacity=\"1\"/>\n",
       "<polyline clip-path=\"url(#clip142)\" style=\"stroke:#000000; stroke-linecap:butt; stroke-linejoin:round; stroke-width:4; stroke-opacity:1; fill:none\" points=\"\n",
       "  3622.31,676.21 3622.31,1384.24 3683.2,1384.24 3683.2,676.21 3622.31,676.21 \n",
       "  \"/>\n",
       "<path clip-path=\"url(#clip142)\" d=\"\n",
       "M3683.2 912.219 L3683.2 1384.24 L3744.09 1384.24 L3744.09 912.219 L3683.2 912.219 L3683.2 912.219  Z\n",
       "  \" fill=\"#009af9\" fill-rule=\"evenodd\" fill-opacity=\"1\"/>\n",
       "<polyline clip-path=\"url(#clip142)\" style=\"stroke:#000000; stroke-linecap:butt; stroke-linejoin:round; stroke-width:4; stroke-opacity:1; fill:none\" points=\"\n",
       "  3683.2,912.219 3683.2,1384.24 3744.09,1384.24 3744.09,912.219 3683.2,912.219 \n",
       "  \"/>\n",
       "<path clip-path=\"url(#clip142)\" d=\"\n",
       "M3744.09 1148.23 L3744.09 1384.24 L3804.98 1384.24 L3804.98 1148.23 L3744.09 1148.23 L3744.09 1148.23  Z\n",
       "  \" fill=\"#009af9\" fill-rule=\"evenodd\" fill-opacity=\"1\"/>\n",
       "<polyline clip-path=\"url(#clip142)\" style=\"stroke:#000000; stroke-linecap:butt; stroke-linejoin:round; stroke-width:4; stroke-opacity:1; fill:none\" points=\"\n",
       "  3744.09,1148.23 3744.09,1384.24 3804.98,1384.24 3804.98,1148.23 3744.09,1148.23 \n",
       "  \"/>\n",
       "<path clip-path=\"url(#clip142)\" d=\"\n",
       "M3804.98 440.2 L3804.98 1384.24 L3865.87 1384.24 L3865.87 440.2 L3804.98 440.2 L3804.98 440.2  Z\n",
       "  \" fill=\"#009af9\" fill-rule=\"evenodd\" fill-opacity=\"1\"/>\n",
       "<polyline clip-path=\"url(#clip142)\" style=\"stroke:#000000; stroke-linecap:butt; stroke-linejoin:round; stroke-width:4; stroke-opacity:1; fill:none\" points=\"\n",
       "  3804.98,440.2 3804.98,1384.24 3865.87,1384.24 3865.87,440.2 3804.98,440.2 \n",
       "  \"/>\n",
       "<path clip-path=\"url(#clip142)\" d=\"\n",
       "M3865.87 1030.22 L3865.87 1384.24 L3926.76 1384.24 L3926.76 1030.22 L3865.87 1030.22 L3865.87 1030.22  Z\n",
       "  \" fill=\"#009af9\" fill-rule=\"evenodd\" fill-opacity=\"1\"/>\n",
       "<polyline clip-path=\"url(#clip142)\" style=\"stroke:#000000; stroke-linecap:butt; stroke-linejoin:round; stroke-width:4; stroke-opacity:1; fill:none\" points=\"\n",
       "  3865.87,1030.22 3865.87,1384.24 3926.76,1384.24 3926.76,1030.22 3865.87,1030.22 \n",
       "  \"/>\n",
       "<path clip-path=\"url(#clip142)\" d=\"\n",
       "M3926.76 1030.22 L3926.76 1384.24 L3987.65 1384.24 L3987.65 1030.22 L3926.76 1030.22 L3926.76 1030.22  Z\n",
       "  \" fill=\"#009af9\" fill-rule=\"evenodd\" fill-opacity=\"1\"/>\n",
       "<polyline clip-path=\"url(#clip142)\" style=\"stroke:#000000; stroke-linecap:butt; stroke-linejoin:round; stroke-width:4; stroke-opacity:1; fill:none\" points=\"\n",
       "  3926.76,1030.22 3926.76,1384.24 3987.65,1384.24 3987.65,1030.22 3926.76,1030.22 \n",
       "  \"/>\n",
       "<path clip-path=\"url(#clip142)\" d=\"\n",
       "M3987.65 912.219 L3987.65 1384.24 L4048.54 1384.24 L4048.54 912.219 L3987.65 912.219 L3987.65 912.219  Z\n",
       "  \" fill=\"#009af9\" fill-rule=\"evenodd\" fill-opacity=\"1\"/>\n",
       "<polyline clip-path=\"url(#clip142)\" style=\"stroke:#000000; stroke-linecap:butt; stroke-linejoin:round; stroke-width:4; stroke-opacity:1; fill:none\" points=\"\n",
       "  3987.65,912.219 3987.65,1384.24 4048.54,1384.24 4048.54,912.219 3987.65,912.219 \n",
       "  \"/>\n",
       "<path clip-path=\"url(#clip142)\" d=\"\n",
       "M4048.54 1030.22 L4048.54 1384.24 L4109.43 1384.24 L4109.43 1030.22 L4048.54 1030.22 L4048.54 1030.22  Z\n",
       "  \" fill=\"#009af9\" fill-rule=\"evenodd\" fill-opacity=\"1\"/>\n",
       "<polyline clip-path=\"url(#clip142)\" style=\"stroke:#000000; stroke-linecap:butt; stroke-linejoin:round; stroke-width:4; stroke-opacity:1; fill:none\" points=\"\n",
       "  4048.54,1030.22 4048.54,1384.24 4109.43,1384.24 4109.43,1030.22 4048.54,1030.22 \n",
       "  \"/>\n",
       "<path clip-path=\"url(#clip142)\" d=\"\n",
       "M4109.43 1266.23 L4109.43 1384.24 L4170.32 1384.24 L4170.32 1266.23 L4109.43 1266.23 L4109.43 1266.23  Z\n",
       "  \" fill=\"#009af9\" fill-rule=\"evenodd\" fill-opacity=\"1\"/>\n",
       "<polyline clip-path=\"url(#clip142)\" style=\"stroke:#000000; stroke-linecap:butt; stroke-linejoin:round; stroke-width:4; stroke-opacity:1; fill:none\" points=\"\n",
       "  4109.43,1266.23 4109.43,1384.24 4170.32,1384.24 4170.32,1266.23 4109.43,1266.23 \n",
       "  \"/>\n",
       "<path clip-path=\"url(#clip142)\" d=\"\n",
       "M4170.32 1030.22 L4170.32 1384.24 L4231.21 1384.24 L4231.21 1030.22 L4170.32 1030.22 L4170.32 1030.22  Z\n",
       "  \" fill=\"#009af9\" fill-rule=\"evenodd\" fill-opacity=\"1\"/>\n",
       "<polyline clip-path=\"url(#clip142)\" style=\"stroke:#000000; stroke-linecap:butt; stroke-linejoin:round; stroke-width:4; stroke-opacity:1; fill:none\" points=\"\n",
       "  4170.32,1030.22 4170.32,1384.24 4231.21,1384.24 4231.21,1030.22 4170.32,1030.22 \n",
       "  \"/>\n",
       "<path clip-path=\"url(#clip142)\" d=\"\n",
       "M4231.21 1148.23 L4231.21 1384.24 L4292.1 1384.24 L4292.1 1148.23 L4231.21 1148.23 L4231.21 1148.23  Z\n",
       "  \" fill=\"#009af9\" fill-rule=\"evenodd\" fill-opacity=\"1\"/>\n",
       "<polyline clip-path=\"url(#clip142)\" style=\"stroke:#000000; stroke-linecap:butt; stroke-linejoin:round; stroke-width:4; stroke-opacity:1; fill:none\" points=\"\n",
       "  4231.21,1148.23 4231.21,1384.24 4292.1,1384.24 4292.1,1148.23 4231.21,1148.23 \n",
       "  \"/>\n",
       "<path clip-path=\"url(#clip142)\" d=\"\n",
       "M4292.1 1266.23 L4292.1 1384.24 L4352.99 1384.24 L4352.99 1266.23 L4292.1 1266.23 L4292.1 1266.23  Z\n",
       "  \" fill=\"#009af9\" fill-rule=\"evenodd\" fill-opacity=\"1\"/>\n",
       "<polyline clip-path=\"url(#clip142)\" style=\"stroke:#000000; stroke-linecap:butt; stroke-linejoin:round; stroke-width:4; stroke-opacity:1; fill:none\" points=\"\n",
       "  4292.1,1266.23 4292.1,1384.24 4352.99,1384.24 4352.99,1266.23 4292.1,1266.23 \n",
       "  \"/>\n",
       "<path clip-path=\"url(#clip142)\" d=\"\n",
       "M4352.99 1030.22 L4352.99 1384.24 L4413.88 1384.24 L4413.88 1030.22 L4352.99 1030.22 L4352.99 1030.22  Z\n",
       "  \" fill=\"#009af9\" fill-rule=\"evenodd\" fill-opacity=\"1\"/>\n",
       "<polyline clip-path=\"url(#clip142)\" style=\"stroke:#000000; stroke-linecap:butt; stroke-linejoin:round; stroke-width:4; stroke-opacity:1; fill:none\" points=\"\n",
       "  4352.99,1030.22 4352.99,1384.24 4413.88,1384.24 4413.88,1030.22 4352.99,1030.22 \n",
       "  \"/>\n",
       "<path clip-path=\"url(#clip142)\" d=\"\n",
       "M4413.88 1148.23 L4413.88 1384.24 L4474.77 1384.24 L4474.77 1148.23 L4413.88 1148.23 L4413.88 1148.23  Z\n",
       "  \" fill=\"#009af9\" fill-rule=\"evenodd\" fill-opacity=\"1\"/>\n",
       "<polyline clip-path=\"url(#clip142)\" style=\"stroke:#000000; stroke-linecap:butt; stroke-linejoin:round; stroke-width:4; stroke-opacity:1; fill:none\" points=\"\n",
       "  4413.88,1148.23 4413.88,1384.24 4474.77,1384.24 4474.77,1148.23 4413.88,1148.23 \n",
       "  \"/>\n",
       "<path clip-path=\"url(#clip142)\" d=\"\n",
       "M4474.77 1030.22 L4474.77 1384.24 L4535.66 1384.24 L4535.66 1030.22 L4474.77 1030.22 L4474.77 1030.22  Z\n",
       "  \" fill=\"#009af9\" fill-rule=\"evenodd\" fill-opacity=\"1\"/>\n",
       "<polyline clip-path=\"url(#clip142)\" style=\"stroke:#000000; stroke-linecap:butt; stroke-linejoin:round; stroke-width:4; stroke-opacity:1; fill:none\" points=\"\n",
       "  4474.77,1030.22 4474.77,1384.24 4535.66,1384.24 4535.66,1030.22 4474.77,1030.22 \n",
       "  \"/>\n",
       "<path clip-path=\"url(#clip142)\" d=\"\n",
       "M4535.66 1030.22 L4535.66 1384.24 L4596.54 1384.24 L4596.54 1030.22 L4535.66 1030.22 L4535.66 1030.22  Z\n",
       "  \" fill=\"#009af9\" fill-rule=\"evenodd\" fill-opacity=\"1\"/>\n",
       "<polyline clip-path=\"url(#clip142)\" style=\"stroke:#000000; stroke-linecap:butt; stroke-linejoin:round; stroke-width:4; stroke-opacity:1; fill:none\" points=\"\n",
       "  4535.66,1030.22 4535.66,1384.24 4596.54,1384.24 4596.54,1030.22 4535.66,1030.22 \n",
       "  \"/>\n",
       "<path clip-path=\"url(#clip142)\" d=\"\n",
       "M4596.54 912.219 L4596.54 1384.24 L4657.43 1384.24 L4657.43 912.219 L4596.54 912.219 L4596.54 912.219  Z\n",
       "  \" fill=\"#009af9\" fill-rule=\"evenodd\" fill-opacity=\"1\"/>\n",
       "<polyline clip-path=\"url(#clip142)\" style=\"stroke:#000000; stroke-linecap:butt; stroke-linejoin:round; stroke-width:4; stroke-opacity:1; fill:none\" points=\"\n",
       "  4596.54,912.219 4596.54,1384.24 4657.43,1384.24 4657.43,912.219 4596.54,912.219 \n",
       "  \"/>\n",
       "<path clip-path=\"url(#clip142)\" d=\"\n",
       "M4657.43 1384.24 L4657.43 1384.24 L4718.32 1384.24 L4718.32 1384.24 L4657.43 1384.24 L4657.43 1384.24  Z\n",
       "  \" fill=\"#009af9\" fill-rule=\"evenodd\" fill-opacity=\"1\"/>\n",
       "<polyline clip-path=\"url(#clip142)\" style=\"stroke:#000000; stroke-linecap:butt; stroke-linejoin:round; stroke-width:4; stroke-opacity:1; fill:none\" points=\"\n",
       "  4657.43,1384.24 4657.43,1384.24 4718.32,1384.24 4657.43,1384.24 \n",
       "  \"/>\n",
       "<path clip-path=\"url(#clip142)\" d=\"\n",
       "M4718.32 1384.24 L4718.32 1384.24 L4779.21 1384.24 L4779.21 1384.24 L4718.32 1384.24 L4718.32 1384.24  Z\n",
       "  \" fill=\"#009af9\" fill-rule=\"evenodd\" fill-opacity=\"1\"/>\n",
       "<polyline clip-path=\"url(#clip142)\" style=\"stroke:#000000; stroke-linecap:butt; stroke-linejoin:round; stroke-width:4; stroke-opacity:1; fill:none\" points=\"\n",
       "  4718.32,1384.24 4718.32,1384.24 4779.21,1384.24 4718.32,1384.24 \n",
       "  \"/>\n",
       "<path clip-path=\"url(#clip142)\" d=\"\n",
       "M4779.21 1148.23 L4779.21 1384.24 L4840.1 1384.24 L4840.1 1148.23 L4779.21 1148.23 L4779.21 1148.23  Z\n",
       "  \" fill=\"#009af9\" fill-rule=\"evenodd\" fill-opacity=\"1\"/>\n",
       "<polyline clip-path=\"url(#clip142)\" style=\"stroke:#000000; stroke-linecap:butt; stroke-linejoin:round; stroke-width:4; stroke-opacity:1; fill:none\" points=\"\n",
       "  4779.21,1148.23 4779.21,1384.24 4840.1,1384.24 4840.1,1148.23 4779.21,1148.23 \n",
       "  \"/>\n",
       "<path clip-path=\"url(#clip142)\" d=\"\n",
       "M4840.1 1266.23 L4840.1 1384.24 L4900.99 1384.24 L4900.99 1266.23 L4840.1 1266.23 L4840.1 1266.23  Z\n",
       "  \" fill=\"#009af9\" fill-rule=\"evenodd\" fill-opacity=\"1\"/>\n",
       "<polyline clip-path=\"url(#clip142)\" style=\"stroke:#000000; stroke-linecap:butt; stroke-linejoin:round; stroke-width:4; stroke-opacity:1; fill:none\" points=\"\n",
       "  4840.1,1266.23 4840.1,1384.24 4900.99,1384.24 4900.99,1266.23 4840.1,1266.23 \n",
       "  \"/>\n",
       "<path clip-path=\"url(#clip142)\" d=\"\n",
       "M4900.99 1148.23 L4900.99 1384.24 L4961.88 1384.24 L4961.88 1148.23 L4900.99 1148.23 L4900.99 1148.23  Z\n",
       "  \" fill=\"#009af9\" fill-rule=\"evenodd\" fill-opacity=\"1\"/>\n",
       "<polyline clip-path=\"url(#clip142)\" style=\"stroke:#000000; stroke-linecap:butt; stroke-linejoin:round; stroke-width:4; stroke-opacity:1; fill:none\" points=\"\n",
       "  4900.99,1148.23 4900.99,1384.24 4961.88,1384.24 4961.88,1148.23 4900.99,1148.23 \n",
       "  \"/>\n",
       "<path clip-path=\"url(#clip142)\" d=\"\n",
       "M4961.88 1266.23 L4961.88 1384.24 L5022.77 1384.24 L5022.77 1266.23 L4961.88 1266.23 L4961.88 1266.23  Z\n",
       "  \" fill=\"#009af9\" fill-rule=\"evenodd\" fill-opacity=\"1\"/>\n",
       "<polyline clip-path=\"url(#clip142)\" style=\"stroke:#000000; stroke-linecap:butt; stroke-linejoin:round; stroke-width:4; stroke-opacity:1; fill:none\" points=\"\n",
       "  4961.88,1266.23 4961.88,1384.24 5022.77,1384.24 5022.77,1266.23 4961.88,1266.23 \n",
       "  \"/>\n",
       "<path clip-path=\"url(#clip142)\" d=\"\n",
       "M5022.77 1148.23 L5022.77 1384.24 L5083.66 1384.24 L5083.66 1148.23 L5022.77 1148.23 L5022.77 1148.23  Z\n",
       "  \" fill=\"#009af9\" fill-rule=\"evenodd\" fill-opacity=\"1\"/>\n",
       "<polyline clip-path=\"url(#clip142)\" style=\"stroke:#000000; stroke-linecap:butt; stroke-linejoin:round; stroke-width:4; stroke-opacity:1; fill:none\" points=\"\n",
       "  5022.77,1148.23 5022.77,1384.24 5083.66,1384.24 5083.66,1148.23 5022.77,1148.23 \n",
       "  \"/>\n",
       "<path clip-path=\"url(#clip142)\" d=\"\n",
       "M5083.66 912.219 L5083.66 1384.24 L5144.55 1384.24 L5144.55 912.219 L5083.66 912.219 L5083.66 912.219  Z\n",
       "  \" fill=\"#009af9\" fill-rule=\"evenodd\" fill-opacity=\"1\"/>\n",
       "<polyline clip-path=\"url(#clip142)\" style=\"stroke:#000000; stroke-linecap:butt; stroke-linejoin:round; stroke-width:4; stroke-opacity:1; fill:none\" points=\"\n",
       "  5083.66,912.219 5083.66,1384.24 5144.55,1384.24 5144.55,912.219 5083.66,912.219 \n",
       "  \"/>\n",
       "<path clip-path=\"url(#clip142)\" d=\"\n",
       "M5144.55 912.219 L5144.55 1384.24 L5205.44 1384.24 L5205.44 912.219 L5144.55 912.219 L5144.55 912.219  Z\n",
       "  \" fill=\"#009af9\" fill-rule=\"evenodd\" fill-opacity=\"1\"/>\n",
       "<polyline clip-path=\"url(#clip142)\" style=\"stroke:#000000; stroke-linecap:butt; stroke-linejoin:round; stroke-width:4; stroke-opacity:1; fill:none\" points=\"\n",
       "  5144.55,912.219 5144.55,1384.24 5205.44,1384.24 5205.44,912.219 5144.55,912.219 \n",
       "  \"/>\n",
       "<path clip-path=\"url(#clip142)\" d=\"\n",
       "M5205.44 1148.23 L5205.44 1384.24 L5266.33 1384.24 L5266.33 1148.23 L5205.44 1148.23 L5205.44 1148.23  Z\n",
       "  \" fill=\"#009af9\" fill-rule=\"evenodd\" fill-opacity=\"1\"/>\n",
       "<polyline clip-path=\"url(#clip142)\" style=\"stroke:#000000; stroke-linecap:butt; stroke-linejoin:round; stroke-width:4; stroke-opacity:1; fill:none\" points=\"\n",
       "  5205.44,1148.23 5205.44,1384.24 5266.33,1384.24 5266.33,1148.23 5205.44,1148.23 \n",
       "  \"/>\n",
       "<path clip-path=\"url(#clip142)\" d=\"\n",
       "M5266.33 1148.23 L5266.33 1384.24 L5327.22 1384.24 L5327.22 1148.23 L5266.33 1148.23 L5266.33 1148.23  Z\n",
       "  \" fill=\"#009af9\" fill-rule=\"evenodd\" fill-opacity=\"1\"/>\n",
       "<polyline clip-path=\"url(#clip142)\" style=\"stroke:#000000; stroke-linecap:butt; stroke-linejoin:round; stroke-width:4; stroke-opacity:1; fill:none\" points=\"\n",
       "  5266.33,1148.23 5266.33,1384.24 5327.22,1384.24 5327.22,1148.23 5266.33,1148.23 \n",
       "  \"/>\n",
       "<path clip-path=\"url(#clip142)\" d=\"\n",
       "M5327.22 1384.24 L5327.22 1384.24 L5388.11 1384.24 L5388.11 1384.24 L5327.22 1384.24 L5327.22 1384.24  Z\n",
       "  \" fill=\"#009af9\" fill-rule=\"evenodd\" fill-opacity=\"1\"/>\n",
       "<polyline clip-path=\"url(#clip142)\" style=\"stroke:#000000; stroke-linecap:butt; stroke-linejoin:round; stroke-width:4; stroke-opacity:1; fill:none\" points=\"\n",
       "  5327.22,1384.24 5327.22,1384.24 5388.11,1384.24 5327.22,1384.24 \n",
       "  \"/>\n",
       "<path clip-path=\"url(#clip142)\" d=\"\n",
       "M5388.11 1030.22 L5388.11 1384.24 L5449 1384.24 L5449 1030.22 L5388.11 1030.22 L5388.11 1030.22  Z\n",
       "  \" fill=\"#009af9\" fill-rule=\"evenodd\" fill-opacity=\"1\"/>\n",
       "<polyline clip-path=\"url(#clip142)\" style=\"stroke:#000000; stroke-linecap:butt; stroke-linejoin:round; stroke-width:4; stroke-opacity:1; fill:none\" points=\"\n",
       "  5388.11,1030.22 5388.11,1384.24 5449,1384.24 5449,1030.22 5388.11,1030.22 \n",
       "  \"/>\n",
       "<path clip-path=\"url(#clip142)\" d=\"\n",
       "M5449 1266.23 L5449 1384.24 L5509.89 1384.24 L5509.89 1266.23 L5449 1266.23 L5449 1266.23  Z\n",
       "  \" fill=\"#009af9\" fill-rule=\"evenodd\" fill-opacity=\"1\"/>\n",
       "<polyline clip-path=\"url(#clip142)\" style=\"stroke:#000000; stroke-linecap:butt; stroke-linejoin:round; stroke-width:4; stroke-opacity:1; fill:none\" points=\"\n",
       "  5449,1266.23 5449,1384.24 5509.89,1384.24 5509.89,1266.23 5449,1266.23 \n",
       "  \"/>\n",
       "<path clip-path=\"url(#clip142)\" d=\"\n",
       "M5509.89 1266.23 L5509.89 1384.24 L5570.78 1384.24 L5570.78 1266.23 L5509.89 1266.23 L5509.89 1266.23  Z\n",
       "  \" fill=\"#009af9\" fill-rule=\"evenodd\" fill-opacity=\"1\"/>\n",
       "<polyline clip-path=\"url(#clip142)\" style=\"stroke:#000000; stroke-linecap:butt; stroke-linejoin:round; stroke-width:4; stroke-opacity:1; fill:none\" points=\"\n",
       "  5509.89,1266.23 5509.89,1384.24 5570.78,1384.24 5570.78,1266.23 5509.89,1266.23 \n",
       "  \"/>\n",
       "<path clip-path=\"url(#clip142)\" d=\"\n",
       "M5570.78 1148.23 L5570.78 1384.24 L5631.66 1384.24 L5631.66 1148.23 L5570.78 1148.23 L5570.78 1148.23  Z\n",
       "  \" fill=\"#009af9\" fill-rule=\"evenodd\" fill-opacity=\"1\"/>\n",
       "<polyline clip-path=\"url(#clip142)\" style=\"stroke:#000000; stroke-linecap:butt; stroke-linejoin:round; stroke-width:4; stroke-opacity:1; fill:none\" points=\"\n",
       "  5570.78,1148.23 5570.78,1384.24 5631.66,1384.24 5631.66,1148.23 5570.78,1148.23 \n",
       "  \"/>\n",
       "<path clip-path=\"url(#clip142)\" d=\"\n",
       "M5631.66 1266.23 L5631.66 1384.24 L5692.55 1384.24 L5692.55 1266.23 L5631.66 1266.23 L5631.66 1266.23  Z\n",
       "  \" fill=\"#009af9\" fill-rule=\"evenodd\" fill-opacity=\"1\"/>\n",
       "<polyline clip-path=\"url(#clip142)\" style=\"stroke:#000000; stroke-linecap:butt; stroke-linejoin:round; stroke-width:4; stroke-opacity:1; fill:none\" points=\"\n",
       "  5631.66,1266.23 5631.66,1384.24 5692.55,1384.24 5692.55,1266.23 5631.66,1266.23 \n",
       "  \"/>\n",
       "<path clip-path=\"url(#clip142)\" d=\"\n",
       "M5692.55 1266.23 L5692.55 1384.24 L5753.44 1384.24 L5753.44 1266.23 L5692.55 1266.23 L5692.55 1266.23  Z\n",
       "  \" fill=\"#009af9\" fill-rule=\"evenodd\" fill-opacity=\"1\"/>\n",
       "<polyline clip-path=\"url(#clip142)\" style=\"stroke:#000000; stroke-linecap:butt; stroke-linejoin:round; stroke-width:4; stroke-opacity:1; fill:none\" points=\"\n",
       "  5692.55,1266.23 5692.55,1384.24 5753.44,1384.24 5753.44,1266.23 5692.55,1266.23 \n",
       "  \"/>\n",
       "<path clip-path=\"url(#clip142)\" d=\"\n",
       "M5753.44 1266.23 L5753.44 1384.24 L5814.33 1384.24 L5814.33 1266.23 L5753.44 1266.23 L5753.44 1266.23  Z\n",
       "  \" fill=\"#009af9\" fill-rule=\"evenodd\" fill-opacity=\"1\"/>\n",
       "<polyline clip-path=\"url(#clip142)\" style=\"stroke:#000000; stroke-linecap:butt; stroke-linejoin:round; stroke-width:4; stroke-opacity:1; fill:none\" points=\"\n",
       "  5753.44,1266.23 5753.44,1384.24 5814.33,1384.24 5814.33,1266.23 5753.44,1266.23 \n",
       "  \"/>\n",
       "<path clip-path=\"url(#clip142)\" d=\"\n",
       "M5814.33 1148.23 L5814.33 1384.24 L5875.22 1384.24 L5875.22 1148.23 L5814.33 1148.23 L5814.33 1148.23  Z\n",
       "  \" fill=\"#009af9\" fill-rule=\"evenodd\" fill-opacity=\"1\"/>\n",
       "<polyline clip-path=\"url(#clip142)\" style=\"stroke:#000000; stroke-linecap:butt; stroke-linejoin:round; stroke-width:4; stroke-opacity:1; fill:none\" points=\"\n",
       "  5814.33,1148.23 5814.33,1384.24 5875.22,1384.24 5875.22,1148.23 5814.33,1148.23 \n",
       "  \"/>\n",
       "<path clip-path=\"url(#clip142)\" d=\"\n",
       "M5875.22 1266.23 L5875.22 1384.24 L5936.11 1384.24 L5936.11 1266.23 L5875.22 1266.23 L5875.22 1266.23  Z\n",
       "  \" fill=\"#009af9\" fill-rule=\"evenodd\" fill-opacity=\"1\"/>\n",
       "<polyline clip-path=\"url(#clip142)\" style=\"stroke:#000000; stroke-linecap:butt; stroke-linejoin:round; stroke-width:4; stroke-opacity:1; fill:none\" points=\"\n",
       "  5875.22,1266.23 5875.22,1384.24 5936.11,1384.24 5936.11,1266.23 5875.22,1266.23 \n",
       "  \"/>\n",
       "<path clip-path=\"url(#clip142)\" d=\"\n",
       "M5936.11 1266.23 L5936.11 1384.24 L5997 1384.24 L5997 1266.23 L5936.11 1266.23 L5936.11 1266.23  Z\n",
       "  \" fill=\"#009af9\" fill-rule=\"evenodd\" fill-opacity=\"1\"/>\n",
       "<polyline clip-path=\"url(#clip142)\" style=\"stroke:#000000; stroke-linecap:butt; stroke-linejoin:round; stroke-width:4; stroke-opacity:1; fill:none\" points=\"\n",
       "  5936.11,1266.23 5936.11,1384.24 5997,1384.24 5997,1266.23 5936.11,1266.23 \n",
       "  \"/>\n",
       "<path clip-path=\"url(#clip142)\" d=\"\n",
       "M5997 1266.23 L5997 1384.24 L6057.89 1384.24 L6057.89 1266.23 L5997 1266.23 L5997 1266.23  Z\n",
       "  \" fill=\"#009af9\" fill-rule=\"evenodd\" fill-opacity=\"1\"/>\n",
       "<polyline clip-path=\"url(#clip142)\" style=\"stroke:#000000; stroke-linecap:butt; stroke-linejoin:round; stroke-width:4; stroke-opacity:1; fill:none\" points=\"\n",
       "  5997,1266.23 5997,1384.24 6057.89,1384.24 6057.89,1266.23 5997,1266.23 \n",
       "  \"/>\n",
       "<path clip-path=\"url(#clip142)\" d=\"\n",
       "M6057.89 1148.23 L6057.89 1384.24 L6118.78 1384.24 L6118.78 1148.23 L6057.89 1148.23 L6057.89 1148.23  Z\n",
       "  \" fill=\"#009af9\" fill-rule=\"evenodd\" fill-opacity=\"1\"/>\n",
       "<polyline clip-path=\"url(#clip142)\" style=\"stroke:#000000; stroke-linecap:butt; stroke-linejoin:round; stroke-width:4; stroke-opacity:1; fill:none\" points=\"\n",
       "  6057.89,1148.23 6057.89,1384.24 6118.78,1384.24 6118.78,1148.23 6057.89,1148.23 \n",
       "  \"/>\n",
       "<path clip-path=\"url(#clip142)\" d=\"\n",
       "M6118.78 1384.24 L6118.78 1384.24 L6179.67 1384.24 L6179.67 1384.24 L6118.78 1384.24 L6118.78 1384.24  Z\n",
       "  \" fill=\"#009af9\" fill-rule=\"evenodd\" fill-opacity=\"1\"/>\n",
       "<polyline clip-path=\"url(#clip142)\" style=\"stroke:#000000; stroke-linecap:butt; stroke-linejoin:round; stroke-width:4; stroke-opacity:1; fill:none\" points=\"\n",
       "  6118.78,1384.24 6118.78,1384.24 6179.67,1384.24 6118.78,1384.24 \n",
       "  \"/>\n",
       "<path clip-path=\"url(#clip142)\" d=\"\n",
       "M6179.67 1266.23 L6179.67 1384.24 L6240.56 1384.24 L6240.56 1266.23 L6179.67 1266.23 L6179.67 1266.23  Z\n",
       "  \" fill=\"#009af9\" fill-rule=\"evenodd\" fill-opacity=\"1\"/>\n",
       "<polyline clip-path=\"url(#clip142)\" style=\"stroke:#000000; stroke-linecap:butt; stroke-linejoin:round; stroke-width:4; stroke-opacity:1; fill:none\" points=\"\n",
       "  6179.67,1266.23 6179.67,1384.24 6240.56,1384.24 6240.56,1266.23 6179.67,1266.23 \n",
       "  \"/>\n",
       "<path clip-path=\"url(#clip142)\" d=\"\n",
       "M6240.56 1384.24 L6240.56 1384.24 L6301.45 1384.24 L6301.45 1384.24 L6240.56 1384.24 L6240.56 1384.24  Z\n",
       "  \" fill=\"#009af9\" fill-rule=\"evenodd\" fill-opacity=\"1\"/>\n",
       "<polyline clip-path=\"url(#clip142)\" style=\"stroke:#000000; stroke-linecap:butt; stroke-linejoin:round; stroke-width:4; stroke-opacity:1; fill:none\" points=\"\n",
       "  6240.56,1384.24 6240.56,1384.24 6301.45,1384.24 6240.56,1384.24 \n",
       "  \"/>\n",
       "<path clip-path=\"url(#clip142)\" d=\"\n",
       "M6301.45 1266.23 L6301.45 1384.24 L6362.34 1384.24 L6362.34 1266.23 L6301.45 1266.23 L6301.45 1266.23  Z\n",
       "  \" fill=\"#009af9\" fill-rule=\"evenodd\" fill-opacity=\"1\"/>\n",
       "<polyline clip-path=\"url(#clip142)\" style=\"stroke:#000000; stroke-linecap:butt; stroke-linejoin:round; stroke-width:4; stroke-opacity:1; fill:none\" points=\"\n",
       "  6301.45,1266.23 6301.45,1384.24 6362.34,1384.24 6362.34,1266.23 6301.45,1266.23 \n",
       "  \"/>\n",
       "<path clip-path=\"url(#clip142)\" d=\"\n",
       "M6362.34 1266.23 L6362.34 1384.24 L6423.23 1384.24 L6423.23 1266.23 L6362.34 1266.23 L6362.34 1266.23  Z\n",
       "  \" fill=\"#009af9\" fill-rule=\"evenodd\" fill-opacity=\"1\"/>\n",
       "<polyline clip-path=\"url(#clip142)\" style=\"stroke:#000000; stroke-linecap:butt; stroke-linejoin:round; stroke-width:4; stroke-opacity:1; fill:none\" points=\"\n",
       "  6362.34,1266.23 6362.34,1384.24 6423.23,1384.24 6423.23,1266.23 6362.34,1266.23 \n",
       "  \"/>\n",
       "<path clip-path=\"url(#clip142)\" d=\"\n",
       "M6423.23 1148.23 L6423.23 1384.24 L6484.12 1384.24 L6484.12 1148.23 L6423.23 1148.23 L6423.23 1148.23  Z\n",
       "  \" fill=\"#009af9\" fill-rule=\"evenodd\" fill-opacity=\"1\"/>\n",
       "<polyline clip-path=\"url(#clip142)\" style=\"stroke:#000000; stroke-linecap:butt; stroke-linejoin:round; stroke-width:4; stroke-opacity:1; fill:none\" points=\"\n",
       "  6423.23,1148.23 6423.23,1384.24 6484.12,1384.24 6484.12,1148.23 6423.23,1148.23 \n",
       "  \"/>\n",
       "<path clip-path=\"url(#clip142)\" d=\"\n",
       "M6484.12 1266.23 L6484.12 1384.24 L6545.01 1384.24 L6545.01 1266.23 L6484.12 1266.23 L6484.12 1266.23  Z\n",
       "  \" fill=\"#009af9\" fill-rule=\"evenodd\" fill-opacity=\"1\"/>\n",
       "<polyline clip-path=\"url(#clip142)\" style=\"stroke:#000000; stroke-linecap:butt; stroke-linejoin:round; stroke-width:4; stroke-opacity:1; fill:none\" points=\"\n",
       "  6484.12,1266.23 6484.12,1384.24 6545.01,1384.24 6545.01,1266.23 6484.12,1266.23 \n",
       "  \"/>\n",
       "<path clip-path=\"url(#clip142)\" d=\"\n",
       "M6545.01 1384.24 L6545.01 1384.24 L6605.9 1384.24 L6605.9 1384.24 L6545.01 1384.24 L6545.01 1384.24  Z\n",
       "  \" fill=\"#009af9\" fill-rule=\"evenodd\" fill-opacity=\"1\"/>\n",
       "<polyline clip-path=\"url(#clip142)\" style=\"stroke:#000000; stroke-linecap:butt; stroke-linejoin:round; stroke-width:4; stroke-opacity:1; fill:none\" points=\"\n",
       "  6545.01,1384.24 6545.01,1384.24 6605.9,1384.24 6545.01,1384.24 \n",
       "  \"/>\n",
       "<path clip-path=\"url(#clip142)\" d=\"\n",
       "M6605.9 1384.24 L6605.9 1384.24 L6666.78 1384.24 L6666.78 1384.24 L6605.9 1384.24 L6605.9 1384.24  Z\n",
       "  \" fill=\"#009af9\" fill-rule=\"evenodd\" fill-opacity=\"1\"/>\n",
       "<polyline clip-path=\"url(#clip142)\" style=\"stroke:#000000; stroke-linecap:butt; stroke-linejoin:round; stroke-width:4; stroke-opacity:1; fill:none\" points=\"\n",
       "  6605.9,1384.24 6605.9,1384.24 6666.78,1384.24 6605.9,1384.24 \n",
       "  \"/>\n",
       "<path clip-path=\"url(#clip142)\" d=\"\n",
       "M6666.78 1384.24 L6666.78 1384.24 L6727.67 1384.24 L6727.67 1384.24 L6666.78 1384.24 L6666.78 1384.24  Z\n",
       "  \" fill=\"#009af9\" fill-rule=\"evenodd\" fill-opacity=\"1\"/>\n",
       "<polyline clip-path=\"url(#clip142)\" style=\"stroke:#000000; stroke-linecap:butt; stroke-linejoin:round; stroke-width:4; stroke-opacity:1; fill:none\" points=\"\n",
       "  6666.78,1384.24 6666.78,1384.24 6727.67,1384.24 6666.78,1384.24 \n",
       "  \"/>\n",
       "<path clip-path=\"url(#clip142)\" d=\"\n",
       "M6727.67 1384.24 L6727.67 1384.24 L6788.56 1384.24 L6788.56 1384.24 L6727.67 1384.24 L6727.67 1384.24  Z\n",
       "  \" fill=\"#009af9\" fill-rule=\"evenodd\" fill-opacity=\"1\"/>\n",
       "<polyline clip-path=\"url(#clip142)\" style=\"stroke:#000000; stroke-linecap:butt; stroke-linejoin:round; stroke-width:4; stroke-opacity:1; fill:none\" points=\"\n",
       "  6727.67,1384.24 6727.67,1384.24 6788.56,1384.24 6727.67,1384.24 \n",
       "  \"/>\n",
       "<path clip-path=\"url(#clip142)\" d=\"\n",
       "M6788.56 1266.23 L6788.56 1384.24 L6849.45 1384.24 L6849.45 1266.23 L6788.56 1266.23 L6788.56 1266.23  Z\n",
       "  \" fill=\"#009af9\" fill-rule=\"evenodd\" fill-opacity=\"1\"/>\n",
       "<polyline clip-path=\"url(#clip142)\" style=\"stroke:#000000; stroke-linecap:butt; stroke-linejoin:round; stroke-width:4; stroke-opacity:1; fill:none\" points=\"\n",
       "  6788.56,1266.23 6788.56,1384.24 6849.45,1384.24 6849.45,1266.23 6788.56,1266.23 \n",
       "  \"/>\n",
       "<path clip-path=\"url(#clip142)\" d=\"\n",
       "M6849.45 1266.23 L6849.45 1384.24 L6910.34 1384.24 L6910.34 1266.23 L6849.45 1266.23 L6849.45 1266.23  Z\n",
       "  \" fill=\"#009af9\" fill-rule=\"evenodd\" fill-opacity=\"1\"/>\n",
       "<polyline clip-path=\"url(#clip142)\" style=\"stroke:#000000; stroke-linecap:butt; stroke-linejoin:round; stroke-width:4; stroke-opacity:1; fill:none\" points=\"\n",
       "  6849.45,1266.23 6849.45,1384.24 6910.34,1384.24 6910.34,1266.23 6849.45,1266.23 \n",
       "  \"/>\n",
       "<path clip-path=\"url(#clip142)\" d=\"\n",
       "M6910.34 1266.23 L6910.34 1384.24 L6971.23 1384.24 L6971.23 1266.23 L6910.34 1266.23 L6910.34 1266.23  Z\n",
       "  \" fill=\"#009af9\" fill-rule=\"evenodd\" fill-opacity=\"1\"/>\n",
       "<polyline clip-path=\"url(#clip142)\" style=\"stroke:#000000; stroke-linecap:butt; stroke-linejoin:round; stroke-width:4; stroke-opacity:1; fill:none\" points=\"\n",
       "  6910.34,1266.23 6910.34,1384.24 6971.23,1384.24 6971.23,1266.23 6910.34,1266.23 \n",
       "  \"/>\n",
       "<path clip-path=\"url(#clip142)\" d=\"\n",
       "M6971.23 1384.24 L6971.23 1384.24 L7032.12 1384.24 L7032.12 1384.24 L6971.23 1384.24 L6971.23 1384.24  Z\n",
       "  \" fill=\"#009af9\" fill-rule=\"evenodd\" fill-opacity=\"1\"/>\n",
       "<polyline clip-path=\"url(#clip142)\" style=\"stroke:#000000; stroke-linecap:butt; stroke-linejoin:round; stroke-width:4; stroke-opacity:1; fill:none\" points=\"\n",
       "  6971.23,1384.24 6971.23,1384.24 7032.12,1384.24 6971.23,1384.24 \n",
       "  \"/>\n",
       "<path clip-path=\"url(#clip142)\" d=\"\n",
       "M7032.12 1384.24 L7032.12 1384.24 L7093.01 1384.24 L7093.01 1384.24 L7032.12 1384.24 L7032.12 1384.24  Z\n",
       "  \" fill=\"#009af9\" fill-rule=\"evenodd\" fill-opacity=\"1\"/>\n",
       "<polyline clip-path=\"url(#clip142)\" style=\"stroke:#000000; stroke-linecap:butt; stroke-linejoin:round; stroke-width:4; stroke-opacity:1; fill:none\" points=\"\n",
       "  7032.12,1384.24 7032.12,1384.24 7093.01,1384.24 7032.12,1384.24 \n",
       "  \"/>\n",
       "<path clip-path=\"url(#clip142)\" d=\"\n",
       "M7093.01 1266.23 L7093.01 1384.24 L7153.9 1384.24 L7153.9 1266.23 L7093.01 1266.23 L7093.01 1266.23  Z\n",
       "  \" fill=\"#009af9\" fill-rule=\"evenodd\" fill-opacity=\"1\"/>\n",
       "<polyline clip-path=\"url(#clip142)\" style=\"stroke:#000000; stroke-linecap:butt; stroke-linejoin:round; stroke-width:4; stroke-opacity:1; fill:none\" points=\"\n",
       "  7093.01,1266.23 7093.01,1384.24 7153.9,1384.24 7153.9,1266.23 7093.01,1266.23 \n",
       "  \"/>\n",
       "<path clip-path=\"url(#clip142)\" d=\"\n",
       "M7153.9 1148.23 L7153.9 1384.24 L7214.79 1384.24 L7214.79 1148.23 L7153.9 1148.23 L7153.9 1148.23  Z\n",
       "  \" fill=\"#009af9\" fill-rule=\"evenodd\" fill-opacity=\"1\"/>\n",
       "<polyline clip-path=\"url(#clip142)\" style=\"stroke:#000000; stroke-linecap:butt; stroke-linejoin:round; stroke-width:4; stroke-opacity:1; fill:none\" points=\"\n",
       "  7153.9,1148.23 7153.9,1384.24 7214.79,1384.24 7214.79,1148.23 7153.9,1148.23 \n",
       "  \"/>\n",
       "<path clip-path=\"url(#clip142)\" d=\"\n",
       "M7214.79 1384.24 L7214.79 1384.24 L7275.68 1384.24 L7275.68 1384.24 L7214.79 1384.24 L7214.79 1384.24  Z\n",
       "  \" fill=\"#009af9\" fill-rule=\"evenodd\" fill-opacity=\"1\"/>\n",
       "<polyline clip-path=\"url(#clip142)\" style=\"stroke:#000000; stroke-linecap:butt; stroke-linejoin:round; stroke-width:4; stroke-opacity:1; fill:none\" points=\"\n",
       "  7214.79,1384.24 7214.79,1384.24 7275.68,1384.24 7214.79,1384.24 \n",
       "  \"/>\n",
       "<path clip-path=\"url(#clip142)\" d=\"\n",
       "M7275.68 1384.24 L7275.68 1384.24 L7336.57 1384.24 L7336.57 1384.24 L7275.68 1384.24 L7275.68 1384.24  Z\n",
       "  \" fill=\"#009af9\" fill-rule=\"evenodd\" fill-opacity=\"1\"/>\n",
       "<polyline clip-path=\"url(#clip142)\" style=\"stroke:#000000; stroke-linecap:butt; stroke-linejoin:round; stroke-width:4; stroke-opacity:1; fill:none\" points=\"\n",
       "  7275.68,1384.24 7275.68,1384.24 7336.57,1384.24 7275.68,1384.24 \n",
       "  \"/>\n",
       "<path clip-path=\"url(#clip142)\" d=\"\n",
       "M7336.57 1384.24 L7336.57 1384.24 L7397.46 1384.24 L7397.46 1384.24 L7336.57 1384.24 L7336.57 1384.24  Z\n",
       "  \" fill=\"#009af9\" fill-rule=\"evenodd\" fill-opacity=\"1\"/>\n",
       "<polyline clip-path=\"url(#clip142)\" style=\"stroke:#000000; stroke-linecap:butt; stroke-linejoin:round; stroke-width:4; stroke-opacity:1; fill:none\" points=\"\n",
       "  7336.57,1384.24 7336.57,1384.24 7397.46,1384.24 7336.57,1384.24 \n",
       "  \"/>\n",
       "<path clip-path=\"url(#clip142)\" d=\"\n",
       "M7397.46 1384.24 L7397.46 1384.24 L7458.35 1384.24 L7458.35 1384.24 L7397.46 1384.24 L7397.46 1384.24  Z\n",
       "  \" fill=\"#009af9\" fill-rule=\"evenodd\" fill-opacity=\"1\"/>\n",
       "<polyline clip-path=\"url(#clip142)\" style=\"stroke:#000000; stroke-linecap:butt; stroke-linejoin:round; stroke-width:4; stroke-opacity:1; fill:none\" points=\"\n",
       "  7397.46,1384.24 7397.46,1384.24 7458.35,1384.24 7397.46,1384.24 \n",
       "  \"/>\n",
       "<path clip-path=\"url(#clip142)\" d=\"\n",
       "M7458.35 1384.24 L7458.35 1384.24 L7519.24 1384.24 L7519.24 1384.24 L7458.35 1384.24 L7458.35 1384.24  Z\n",
       "  \" fill=\"#009af9\" fill-rule=\"evenodd\" fill-opacity=\"1\"/>\n",
       "<polyline clip-path=\"url(#clip142)\" style=\"stroke:#000000; stroke-linecap:butt; stroke-linejoin:round; stroke-width:4; stroke-opacity:1; fill:none\" points=\"\n",
       "  7458.35,1384.24 7458.35,1384.24 7519.24,1384.24 7458.35,1384.24 \n",
       "  \"/>\n",
       "<path clip-path=\"url(#clip142)\" d=\"\n",
       "M7519.24 1266.23 L7519.24 1384.24 L7580.13 1384.24 L7580.13 1266.23 L7519.24 1266.23 L7519.24 1266.23  Z\n",
       "  \" fill=\"#009af9\" fill-rule=\"evenodd\" fill-opacity=\"1\"/>\n",
       "<polyline clip-path=\"url(#clip142)\" style=\"stroke:#000000; stroke-linecap:butt; stroke-linejoin:round; stroke-width:4; stroke-opacity:1; fill:none\" points=\"\n",
       "  7519.24,1266.23 7519.24,1384.24 7580.13,1384.24 7580.13,1266.23 7519.24,1266.23 \n",
       "  \"/>\n",
       "<path clip-path=\"url(#clip142)\" d=\"\n",
       "M7580.13 1384.24 L7580.13 1384.24 L7641.01 1384.24 L7641.01 1384.24 L7580.13 1384.24 L7580.13 1384.24  Z\n",
       "  \" fill=\"#009af9\" fill-rule=\"evenodd\" fill-opacity=\"1\"/>\n",
       "<polyline clip-path=\"url(#clip142)\" style=\"stroke:#000000; stroke-linecap:butt; stroke-linejoin:round; stroke-width:4; stroke-opacity:1; fill:none\" points=\"\n",
       "  7580.13,1384.24 7580.13,1384.24 7641.01,1384.24 7580.13,1384.24 \n",
       "  \"/>\n",
       "<path clip-path=\"url(#clip142)\" d=\"\n",
       "M7641.01 1266.23 L7641.01 1384.24 L7701.9 1384.24 L7701.9 1266.23 L7641.01 1266.23 L7641.01 1266.23  Z\n",
       "  \" fill=\"#009af9\" fill-rule=\"evenodd\" fill-opacity=\"1\"/>\n",
       "<polyline clip-path=\"url(#clip142)\" style=\"stroke:#000000; stroke-linecap:butt; stroke-linejoin:round; stroke-width:4; stroke-opacity:1; fill:none\" points=\"\n",
       "  7641.01,1266.23 7641.01,1384.24 7701.9,1384.24 7701.9,1266.23 7641.01,1266.23 \n",
       "  \"/>\n",
       "<path clip-path=\"url(#clip142)\" d=\"\n",
       "M7701.9 1384.24 L7701.9 1384.24 L7762.79 1384.24 L7762.79 1384.24 L7701.9 1384.24 L7701.9 1384.24  Z\n",
       "  \" fill=\"#009af9\" fill-rule=\"evenodd\" fill-opacity=\"1\"/>\n",
       "<polyline clip-path=\"url(#clip142)\" style=\"stroke:#000000; stroke-linecap:butt; stroke-linejoin:round; stroke-width:4; stroke-opacity:1; fill:none\" points=\"\n",
       "  7701.9,1384.24 7701.9,1384.24 7762.79,1384.24 7701.9,1384.24 \n",
       "  \"/>\n",
       "<path clip-path=\"url(#clip142)\" d=\"\n",
       "M7762.79 1384.24 L7762.79 1384.24 L7823.68 1384.24 L7823.68 1384.24 L7762.79 1384.24 L7762.79 1384.24  Z\n",
       "  \" fill=\"#009af9\" fill-rule=\"evenodd\" fill-opacity=\"1\"/>\n",
       "<polyline clip-path=\"url(#clip142)\" style=\"stroke:#000000; stroke-linecap:butt; stroke-linejoin:round; stroke-width:4; stroke-opacity:1; fill:none\" points=\"\n",
       "  7762.79,1384.24 7762.79,1384.24 7823.68,1384.24 7762.79,1384.24 \n",
       "  \"/>\n",
       "<path clip-path=\"url(#clip142)\" d=\"\n",
       "M7823.68 1384.24 L7823.68 1384.24 L7884.57 1384.24 L7884.57 1384.24 L7823.68 1384.24 L7823.68 1384.24  Z\n",
       "  \" fill=\"#009af9\" fill-rule=\"evenodd\" fill-opacity=\"1\"/>\n",
       "<polyline clip-path=\"url(#clip142)\" style=\"stroke:#000000; stroke-linecap:butt; stroke-linejoin:round; stroke-width:4; stroke-opacity:1; fill:none\" points=\"\n",
       "  7823.68,1384.24 7823.68,1384.24 7884.57,1384.24 7823.68,1384.24 \n",
       "  \"/>\n",
       "<path clip-path=\"url(#clip142)\" d=\"\n",
       "M7884.57 1384.24 L7884.57 1384.24 L7945.46 1384.24 L7945.46 1384.24 L7884.57 1384.24 L7884.57 1384.24  Z\n",
       "  \" fill=\"#009af9\" fill-rule=\"evenodd\" fill-opacity=\"1\"/>\n",
       "<polyline clip-path=\"url(#clip142)\" style=\"stroke:#000000; stroke-linecap:butt; stroke-linejoin:round; stroke-width:4; stroke-opacity:1; fill:none\" points=\"\n",
       "  7884.57,1384.24 7884.57,1384.24 7945.46,1384.24 7884.57,1384.24 \n",
       "  \"/>\n",
       "<path clip-path=\"url(#clip142)\" d=\"\n",
       "M7945.46 1384.24 L7945.46 1384.24 L8006.35 1384.24 L8006.35 1384.24 L7945.46 1384.24 L7945.46 1384.24  Z\n",
       "  \" fill=\"#009af9\" fill-rule=\"evenodd\" fill-opacity=\"1\"/>\n",
       "<polyline clip-path=\"url(#clip142)\" style=\"stroke:#000000; stroke-linecap:butt; stroke-linejoin:round; stroke-width:4; stroke-opacity:1; fill:none\" points=\"\n",
       "  7945.46,1384.24 7945.46,1384.24 8006.35,1384.24 7945.46,1384.24 \n",
       "  \"/>\n",
       "<path clip-path=\"url(#clip142)\" d=\"\n",
       "M8006.35 1384.24 L8006.35 1384.24 L8067.24 1384.24 L8067.24 1384.24 L8006.35 1384.24 L8006.35 1384.24  Z\n",
       "  \" fill=\"#009af9\" fill-rule=\"evenodd\" fill-opacity=\"1\"/>\n",
       "<polyline clip-path=\"url(#clip142)\" style=\"stroke:#000000; stroke-linecap:butt; stroke-linejoin:round; stroke-width:4; stroke-opacity:1; fill:none\" points=\"\n",
       "  8006.35,1384.24 8006.35,1384.24 8067.24,1384.24 8006.35,1384.24 \n",
       "  \"/>\n",
       "<path clip-path=\"url(#clip142)\" d=\"\n",
       "M8067.24 1384.24 L8067.24 1384.24 L8128.13 1384.24 L8128.13 1384.24 L8067.24 1384.24 L8067.24 1384.24  Z\n",
       "  \" fill=\"#009af9\" fill-rule=\"evenodd\" fill-opacity=\"1\"/>\n",
       "<polyline clip-path=\"url(#clip142)\" style=\"stroke:#000000; stroke-linecap:butt; stroke-linejoin:round; stroke-width:4; stroke-opacity:1; fill:none\" points=\"\n",
       "  8067.24,1384.24 8067.24,1384.24 8128.13,1384.24 8067.24,1384.24 \n",
       "  \"/>\n",
       "<path clip-path=\"url(#clip142)\" d=\"\n",
       "M8128.13 1384.24 L8128.13 1384.24 L8189.02 1384.24 L8189.02 1384.24 L8128.13 1384.24 L8128.13 1384.24  Z\n",
       "  \" fill=\"#009af9\" fill-rule=\"evenodd\" fill-opacity=\"1\"/>\n",
       "<polyline clip-path=\"url(#clip142)\" style=\"stroke:#000000; stroke-linecap:butt; stroke-linejoin:round; stroke-width:4; stroke-opacity:1; fill:none\" points=\"\n",
       "  8128.13,1384.24 8128.13,1384.24 8189.02,1384.24 8128.13,1384.24 \n",
       "  \"/>\n",
       "<path clip-path=\"url(#clip142)\" d=\"\n",
       "M8189.02 1384.24 L8189.02 1384.24 L8249.91 1384.24 L8249.91 1384.24 L8189.02 1384.24 L8189.02 1384.24  Z\n",
       "  \" fill=\"#009af9\" fill-rule=\"evenodd\" fill-opacity=\"1\"/>\n",
       "<polyline clip-path=\"url(#clip142)\" style=\"stroke:#000000; stroke-linecap:butt; stroke-linejoin:round; stroke-width:4; stroke-opacity:1; fill:none\" points=\"\n",
       "  8189.02,1384.24 8189.02,1384.24 8249.91,1384.24 8189.02,1384.24 \n",
       "  \"/>\n",
       "<path clip-path=\"url(#clip142)\" d=\"\n",
       "M8249.91 1266.23 L8249.91 1384.24 L8310.8 1384.24 L8310.8 1266.23 L8249.91 1266.23 L8249.91 1266.23  Z\n",
       "  \" fill=\"#009af9\" fill-rule=\"evenodd\" fill-opacity=\"1\"/>\n",
       "<polyline clip-path=\"url(#clip142)\" style=\"stroke:#000000; stroke-linecap:butt; stroke-linejoin:round; stroke-width:4; stroke-opacity:1; fill:none\" points=\"\n",
       "  8249.91,1266.23 8249.91,1384.24 8310.8,1384.24 8310.8,1266.23 8249.91,1266.23 \n",
       "  \"/>\n",
       "<path clip-path=\"url(#clip142)\" d=\"\n",
       "M8310.8 1384.24 L8310.8 1384.24 L8371.69 1384.24 L8371.69 1384.24 L8310.8 1384.24 L8310.8 1384.24  Z\n",
       "  \" fill=\"#009af9\" fill-rule=\"evenodd\" fill-opacity=\"1\"/>\n",
       "<polyline clip-path=\"url(#clip142)\" style=\"stroke:#000000; stroke-linecap:butt; stroke-linejoin:round; stroke-width:4; stroke-opacity:1; fill:none\" points=\"\n",
       "  8310.8,1384.24 8310.8,1384.24 8371.69,1384.24 8310.8,1384.24 \n",
       "  \"/>\n",
       "<path clip-path=\"url(#clip142)\" d=\"\n",
       "M8371.69 1384.24 L8371.69 1384.24 L8432.58 1384.24 L8432.58 1384.24 L8371.69 1384.24 L8371.69 1384.24  Z\n",
       "  \" fill=\"#009af9\" fill-rule=\"evenodd\" fill-opacity=\"1\"/>\n",
       "<polyline clip-path=\"url(#clip142)\" style=\"stroke:#000000; stroke-linecap:butt; stroke-linejoin:round; stroke-width:4; stroke-opacity:1; fill:none\" points=\"\n",
       "  8371.69,1384.24 8371.69,1384.24 8432.58,1384.24 8371.69,1384.24 \n",
       "  \"/>\n",
       "<path clip-path=\"url(#clip142)\" d=\"\n",
       "M8432.58 1384.24 L8432.58 1384.24 L8493.47 1384.24 L8493.47 1384.24 L8432.58 1384.24 L8432.58 1384.24  Z\n",
       "  \" fill=\"#009af9\" fill-rule=\"evenodd\" fill-opacity=\"1\"/>\n",
       "<polyline clip-path=\"url(#clip142)\" style=\"stroke:#000000; stroke-linecap:butt; stroke-linejoin:round; stroke-width:4; stroke-opacity:1; fill:none\" points=\"\n",
       "  8432.58,1384.24 8432.58,1384.24 8493.47,1384.24 8432.58,1384.24 \n",
       "  \"/>\n",
       "<path clip-path=\"url(#clip142)\" d=\"\n",
       "M8493.47 1384.24 L8493.47 1384.24 L8554.36 1384.24 L8554.36 1384.24 L8493.47 1384.24 L8493.47 1384.24  Z\n",
       "  \" fill=\"#009af9\" fill-rule=\"evenodd\" fill-opacity=\"1\"/>\n",
       "<polyline clip-path=\"url(#clip142)\" style=\"stroke:#000000; stroke-linecap:butt; stroke-linejoin:round; stroke-width:4; stroke-opacity:1; fill:none\" points=\"\n",
       "  8493.47,1384.24 8493.47,1384.24 8554.36,1384.24 8493.47,1384.24 \n",
       "  \"/>\n",
       "<path clip-path=\"url(#clip142)\" d=\"\n",
       "M8554.36 1266.23 L8554.36 1384.24 L8615.25 1384.24 L8615.25 1266.23 L8554.36 1266.23 L8554.36 1266.23  Z\n",
       "  \" fill=\"#009af9\" fill-rule=\"evenodd\" fill-opacity=\"1\"/>\n",
       "<polyline clip-path=\"url(#clip142)\" style=\"stroke:#000000; stroke-linecap:butt; stroke-linejoin:round; stroke-width:4; stroke-opacity:1; fill:none\" points=\"\n",
       "  8554.36,1266.23 8554.36,1384.24 8615.25,1384.24 8615.25,1266.23 8554.36,1266.23 \n",
       "  \"/>\n",
       "<path clip-path=\"url(#clip142)\" d=\"\n",
       "M8615.25 1384.24 L8615.25 1384.24 L8676.13 1384.24 L8676.13 1384.24 L8615.25 1384.24 L8615.25 1384.24  Z\n",
       "  \" fill=\"#009af9\" fill-rule=\"evenodd\" fill-opacity=\"1\"/>\n",
       "<polyline clip-path=\"url(#clip142)\" style=\"stroke:#000000; stroke-linecap:butt; stroke-linejoin:round; stroke-width:4; stroke-opacity:1; fill:none\" points=\"\n",
       "  8615.25,1384.24 8615.25,1384.24 8676.13,1384.24 8615.25,1384.24 \n",
       "  \"/>\n",
       "<path clip-path=\"url(#clip142)\" d=\"\n",
       "M8676.13 1384.24 L8676.13 1384.24 L8737.02 1384.24 L8737.02 1384.24 L8676.13 1384.24 L8676.13 1384.24  Z\n",
       "  \" fill=\"#009af9\" fill-rule=\"evenodd\" fill-opacity=\"1\"/>\n",
       "<polyline clip-path=\"url(#clip142)\" style=\"stroke:#000000; stroke-linecap:butt; stroke-linejoin:round; stroke-width:4; stroke-opacity:1; fill:none\" points=\"\n",
       "  8676.13,1384.24 8676.13,1384.24 8737.02,1384.24 8676.13,1384.24 \n",
       "  \"/>\n",
       "<path clip-path=\"url(#clip142)\" d=\"\n",
       "M8737.02 1384.24 L8737.02 1384.24 L8797.91 1384.24 L8797.91 1384.24 L8737.02 1384.24 L8737.02 1384.24  Z\n",
       "  \" fill=\"#009af9\" fill-rule=\"evenodd\" fill-opacity=\"1\"/>\n",
       "<polyline clip-path=\"url(#clip142)\" style=\"stroke:#000000; stroke-linecap:butt; stroke-linejoin:round; stroke-width:4; stroke-opacity:1; fill:none\" points=\"\n",
       "  8737.02,1384.24 8737.02,1384.24 8797.91,1384.24 8737.02,1384.24 \n",
       "  \"/>\n",
       "<path clip-path=\"url(#clip142)\" d=\"\n",
       "M8797.91 1384.24 L8797.91 1384.24 L8858.8 1384.24 L8858.8 1384.24 L8797.91 1384.24 L8797.91 1384.24  Z\n",
       "  \" fill=\"#009af9\" fill-rule=\"evenodd\" fill-opacity=\"1\"/>\n",
       "<polyline clip-path=\"url(#clip142)\" style=\"stroke:#000000; stroke-linecap:butt; stroke-linejoin:round; stroke-width:4; stroke-opacity:1; fill:none\" points=\"\n",
       "  8797.91,1384.24 8797.91,1384.24 8858.8,1384.24 8797.91,1384.24 \n",
       "  \"/>\n",
       "<path clip-path=\"url(#clip142)\" d=\"\n",
       "M8858.8 1384.24 L8858.8 1384.24 L8919.69 1384.24 L8919.69 1384.24 L8858.8 1384.24 L8858.8 1384.24  Z\n",
       "  \" fill=\"#009af9\" fill-rule=\"evenodd\" fill-opacity=\"1\"/>\n",
       "<polyline clip-path=\"url(#clip142)\" style=\"stroke:#000000; stroke-linecap:butt; stroke-linejoin:round; stroke-width:4; stroke-opacity:1; fill:none\" points=\"\n",
       "  8858.8,1384.24 8858.8,1384.24 8919.69,1384.24 8858.8,1384.24 \n",
       "  \"/>\n",
       "<path clip-path=\"url(#clip142)\" d=\"\n",
       "M8919.69 1384.24 L8919.69 1384.24 L8980.58 1384.24 L8980.58 1384.24 L8919.69 1384.24 L8919.69 1384.24  Z\n",
       "  \" fill=\"#009af9\" fill-rule=\"evenodd\" fill-opacity=\"1\"/>\n",
       "<polyline clip-path=\"url(#clip142)\" style=\"stroke:#000000; stroke-linecap:butt; stroke-linejoin:round; stroke-width:4; stroke-opacity:1; fill:none\" points=\"\n",
       "  8919.69,1384.24 8919.69,1384.24 8980.58,1384.24 8919.69,1384.24 \n",
       "  \"/>\n",
       "<path clip-path=\"url(#clip142)\" d=\"\n",
       "M8980.58 1384.24 L8980.58 1384.24 L9041.47 1384.24 L9041.47 1384.24 L8980.58 1384.24 L8980.58 1384.24  Z\n",
       "  \" fill=\"#009af9\" fill-rule=\"evenodd\" fill-opacity=\"1\"/>\n",
       "<polyline clip-path=\"url(#clip142)\" style=\"stroke:#000000; stroke-linecap:butt; stroke-linejoin:round; stroke-width:4; stroke-opacity:1; fill:none\" points=\"\n",
       "  8980.58,1384.24 8980.58,1384.24 9041.47,1384.24 8980.58,1384.24 \n",
       "  \"/>\n",
       "<path clip-path=\"url(#clip142)\" d=\"\n",
       "M9041.47 1384.24 L9041.47 1384.24 L9102.36 1384.24 L9102.36 1384.24 L9041.47 1384.24 L9041.47 1384.24  Z\n",
       "  \" fill=\"#009af9\" fill-rule=\"evenodd\" fill-opacity=\"1\"/>\n",
       "<polyline clip-path=\"url(#clip142)\" style=\"stroke:#000000; stroke-linecap:butt; stroke-linejoin:round; stroke-width:4; stroke-opacity:1; fill:none\" points=\"\n",
       "  9041.47,1384.24 9041.47,1384.24 9102.36,1384.24 9041.47,1384.24 \n",
       "  \"/>\n",
       "<path clip-path=\"url(#clip142)\" d=\"\n",
       "M9102.36 1384.24 L9102.36 1384.24 L9163.25 1384.24 L9163.25 1384.24 L9102.36 1384.24 L9102.36 1384.24  Z\n",
       "  \" fill=\"#009af9\" fill-rule=\"evenodd\" fill-opacity=\"1\"/>\n",
       "<polyline clip-path=\"url(#clip142)\" style=\"stroke:#000000; stroke-linecap:butt; stroke-linejoin:round; stroke-width:4; stroke-opacity:1; fill:none\" points=\"\n",
       "  9102.36,1384.24 9102.36,1384.24 9163.25,1384.24 9102.36,1384.24 \n",
       "  \"/>\n",
       "<path clip-path=\"url(#clip142)\" d=\"\n",
       "M9163.25 1384.24 L9163.25 1384.24 L9224.14 1384.24 L9224.14 1384.24 L9163.25 1384.24 L9163.25 1384.24  Z\n",
       "  \" fill=\"#009af9\" fill-rule=\"evenodd\" fill-opacity=\"1\"/>\n",
       "<polyline clip-path=\"url(#clip142)\" style=\"stroke:#000000; stroke-linecap:butt; stroke-linejoin:round; stroke-width:4; stroke-opacity:1; fill:none\" points=\"\n",
       "  9163.25,1384.24 9163.25,1384.24 9224.14,1384.24 9163.25,1384.24 \n",
       "  \"/>\n",
       "<path clip-path=\"url(#clip142)\" d=\"\n",
       "M9224.14 1384.24 L9224.14 1384.24 L9285.03 1384.24 L9285.03 1384.24 L9224.14 1384.24 L9224.14 1384.24  Z\n",
       "  \" fill=\"#009af9\" fill-rule=\"evenodd\" fill-opacity=\"1\"/>\n",
       "<polyline clip-path=\"url(#clip142)\" style=\"stroke:#000000; stroke-linecap:butt; stroke-linejoin:round; stroke-width:4; stroke-opacity:1; fill:none\" points=\"\n",
       "  9224.14,1384.24 9224.14,1384.24 9285.03,1384.24 9224.14,1384.24 \n",
       "  \"/>\n",
       "<path clip-path=\"url(#clip142)\" d=\"\n",
       "M9285.03 1384.24 L9285.03 1384.24 L9345.92 1384.24 L9345.92 1384.24 L9285.03 1384.24 L9285.03 1384.24  Z\n",
       "  \" fill=\"#009af9\" fill-rule=\"evenodd\" fill-opacity=\"1\"/>\n",
       "<polyline clip-path=\"url(#clip142)\" style=\"stroke:#000000; stroke-linecap:butt; stroke-linejoin:round; stroke-width:4; stroke-opacity:1; fill:none\" points=\"\n",
       "  9285.03,1384.24 9285.03,1384.24 9345.92,1384.24 9285.03,1384.24 \n",
       "  \"/>\n",
       "<path clip-path=\"url(#clip142)\" d=\"\n",
       "M9345.92 1384.24 L9345.92 1384.24 L9406.81 1384.24 L9406.81 1384.24 L9345.92 1384.24 L9345.92 1384.24  Z\n",
       "  \" fill=\"#009af9\" fill-rule=\"evenodd\" fill-opacity=\"1\"/>\n",
       "<polyline clip-path=\"url(#clip142)\" style=\"stroke:#000000; stroke-linecap:butt; stroke-linejoin:round; stroke-width:4; stroke-opacity:1; fill:none\" points=\"\n",
       "  9345.92,1384.24 9345.92,1384.24 9406.81,1384.24 9345.92,1384.24 \n",
       "  \"/>\n",
       "<path clip-path=\"url(#clip142)\" d=\"\n",
       "M9406.81 1384.24 L9406.81 1384.24 L9467.7 1384.24 L9467.7 1384.24 L9406.81 1384.24 L9406.81 1384.24  Z\n",
       "  \" fill=\"#009af9\" fill-rule=\"evenodd\" fill-opacity=\"1\"/>\n",
       "<polyline clip-path=\"url(#clip142)\" style=\"stroke:#000000; stroke-linecap:butt; stroke-linejoin:round; stroke-width:4; stroke-opacity:1; fill:none\" points=\"\n",
       "  9406.81,1384.24 9406.81,1384.24 9467.7,1384.24 9406.81,1384.24 \n",
       "  \"/>\n",
       "<path clip-path=\"url(#clip142)\" d=\"\n",
       "M9467.7 1384.24 L9467.7 1384.24 L9528.59 1384.24 L9528.59 1384.24 L9467.7 1384.24 L9467.7 1384.24  Z\n",
       "  \" fill=\"#009af9\" fill-rule=\"evenodd\" fill-opacity=\"1\"/>\n",
       "<polyline clip-path=\"url(#clip142)\" style=\"stroke:#000000; stroke-linecap:butt; stroke-linejoin:round; stroke-width:4; stroke-opacity:1; fill:none\" points=\"\n",
       "  9467.7,1384.24 9467.7,1384.24 9528.59,1384.24 9467.7,1384.24 \n",
       "  \"/>\n",
       "<path clip-path=\"url(#clip142)\" d=\"\n",
       "M9528.59 1384.24 L9528.59 1384.24 L9589.48 1384.24 L9589.48 1384.24 L9528.59 1384.24 L9528.59 1384.24  Z\n",
       "  \" fill=\"#009af9\" fill-rule=\"evenodd\" fill-opacity=\"1\"/>\n",
       "<polyline clip-path=\"url(#clip142)\" style=\"stroke:#000000; stroke-linecap:butt; stroke-linejoin:round; stroke-width:4; stroke-opacity:1; fill:none\" points=\"\n",
       "  9528.59,1384.24 9528.59,1384.24 9589.48,1384.24 9528.59,1384.24 \n",
       "  \"/>\n",
       "<path clip-path=\"url(#clip142)\" d=\"\n",
       "M9589.48 1384.24 L9589.48 1384.24 L9650.36 1384.24 L9650.36 1384.24 L9589.48 1384.24 L9589.48 1384.24  Z\n",
       "  \" fill=\"#009af9\" fill-rule=\"evenodd\" fill-opacity=\"1\"/>\n",
       "<polyline clip-path=\"url(#clip142)\" style=\"stroke:#000000; stroke-linecap:butt; stroke-linejoin:round; stroke-width:4; stroke-opacity:1; fill:none\" points=\"\n",
       "  9589.48,1384.24 9589.48,1384.24 9650.36,1384.24 9589.48,1384.24 \n",
       "  \"/>\n",
       "<path clip-path=\"url(#clip142)\" d=\"\n",
       "M9650.36 1384.24 L9650.36 1384.24 L9711.25 1384.24 L9711.25 1384.24 L9650.36 1384.24 L9650.36 1384.24  Z\n",
       "  \" fill=\"#009af9\" fill-rule=\"evenodd\" fill-opacity=\"1\"/>\n",
       "<polyline clip-path=\"url(#clip142)\" style=\"stroke:#000000; stroke-linecap:butt; stroke-linejoin:round; stroke-width:4; stroke-opacity:1; fill:none\" points=\"\n",
       "  9650.36,1384.24 9650.36,1384.24 9711.25,1384.24 9650.36,1384.24 \n",
       "  \"/>\n",
       "<path clip-path=\"url(#clip142)\" d=\"\n",
       "M9711.25 1384.24 L9711.25 1384.24 L9772.14 1384.24 L9772.14 1384.24 L9711.25 1384.24 L9711.25 1384.24  Z\n",
       "  \" fill=\"#009af9\" fill-rule=\"evenodd\" fill-opacity=\"1\"/>\n",
       "<polyline clip-path=\"url(#clip142)\" style=\"stroke:#000000; stroke-linecap:butt; stroke-linejoin:round; stroke-width:4; stroke-opacity:1; fill:none\" points=\"\n",
       "  9711.25,1384.24 9711.25,1384.24 9772.14,1384.24 9711.25,1384.24 \n",
       "  \"/>\n",
       "<path clip-path=\"url(#clip142)\" d=\"\n",
       "M9772.14 1384.24 L9772.14 1384.24 L9833.03 1384.24 L9833.03 1384.24 L9772.14 1384.24 L9772.14 1384.24  Z\n",
       "  \" fill=\"#009af9\" fill-rule=\"evenodd\" fill-opacity=\"1\"/>\n",
       "<polyline clip-path=\"url(#clip142)\" style=\"stroke:#000000; stroke-linecap:butt; stroke-linejoin:round; stroke-width:4; stroke-opacity:1; fill:none\" points=\"\n",
       "  9772.14,1384.24 9772.14,1384.24 9833.03,1384.24 9772.14,1384.24 \n",
       "  \"/>\n",
       "<path clip-path=\"url(#clip142)\" d=\"\n",
       "M9833.03 1266.23 L9833.03 1384.24 L9893.92 1384.24 L9893.92 1266.23 L9833.03 1266.23 L9833.03 1266.23  Z\n",
       "  \" fill=\"#009af9\" fill-rule=\"evenodd\" fill-opacity=\"1\"/>\n",
       "<polyline clip-path=\"url(#clip142)\" style=\"stroke:#000000; stroke-linecap:butt; stroke-linejoin:round; stroke-width:4; stroke-opacity:1; fill:none\" points=\"\n",
       "  9833.03,1266.23 9833.03,1384.24 9893.92,1384.24 9893.92,1266.23 9833.03,1266.23 \n",
       "  \"/>\n",
       "<path clip-path=\"url(#clip142)\" d=\"\n",
       "M9893.92 1384.24 L9893.92 1384.24 L9954.81 1384.24 L9954.81 1384.24 L9893.92 1384.24 L9893.92 1384.24  Z\n",
       "  \" fill=\"#009af9\" fill-rule=\"evenodd\" fill-opacity=\"1\"/>\n",
       "<polyline clip-path=\"url(#clip142)\" style=\"stroke:#000000; stroke-linecap:butt; stroke-linejoin:round; stroke-width:4; stroke-opacity:1; fill:none\" points=\"\n",
       "  9893.92,1384.24 9893.92,1384.24 9954.81,1384.24 9893.92,1384.24 \n",
       "  \"/>\n",
       "<path clip-path=\"url(#clip142)\" d=\"\n",
       "M9954.81 1384.24 L9954.81 1384.24 L10015.7 1384.24 L10015.7 1384.24 L9954.81 1384.24 L9954.81 1384.24  Z\n",
       "  \" fill=\"#009af9\" fill-rule=\"evenodd\" fill-opacity=\"1\"/>\n",
       "<polyline clip-path=\"url(#clip142)\" style=\"stroke:#000000; stroke-linecap:butt; stroke-linejoin:round; stroke-width:4; stroke-opacity:1; fill:none\" points=\"\n",
       "  9954.81,1384.24 9954.81,1384.24 10015.7,1384.24 9954.81,1384.24 \n",
       "  \"/>\n",
       "<path clip-path=\"url(#clip142)\" d=\"\n",
       "M10015.7 1384.24 L10015.7 1384.24 L10076.6 1384.24 L10076.6 1384.24 L10015.7 1384.24 L10015.7 1384.24  Z\n",
       "  \" fill=\"#009af9\" fill-rule=\"evenodd\" fill-opacity=\"1\"/>\n",
       "<polyline clip-path=\"url(#clip142)\" style=\"stroke:#000000; stroke-linecap:butt; stroke-linejoin:round; stroke-width:4; stroke-opacity:1; fill:none\" points=\"\n",
       "  10015.7,1384.24 10015.7,1384.24 10076.6,1384.24 10015.7,1384.24 \n",
       "  \"/>\n",
       "<path clip-path=\"url(#clip142)\" d=\"\n",
       "M10076.6 1384.24 L10076.6 1384.24 L10137.5 1384.24 L10137.5 1384.24 L10076.6 1384.24 L10076.6 1384.24  Z\n",
       "  \" fill=\"#009af9\" fill-rule=\"evenodd\" fill-opacity=\"1\"/>\n",
       "<polyline clip-path=\"url(#clip142)\" style=\"stroke:#000000; stroke-linecap:butt; stroke-linejoin:round; stroke-width:4; stroke-opacity:1; fill:none\" points=\"\n",
       "  10076.6,1384.24 10076.6,1384.24 10137.5,1384.24 10076.6,1384.24 \n",
       "  \"/>\n",
       "<path clip-path=\"url(#clip142)\" d=\"\n",
       "M10137.5 1384.24 L10137.5 1384.24 L10198.4 1384.24 L10198.4 1384.24 L10137.5 1384.24 L10137.5 1384.24  Z\n",
       "  \" fill=\"#009af9\" fill-rule=\"evenodd\" fill-opacity=\"1\"/>\n",
       "<polyline clip-path=\"url(#clip142)\" style=\"stroke:#000000; stroke-linecap:butt; stroke-linejoin:round; stroke-width:4; stroke-opacity:1; fill:none\" points=\"\n",
       "  10137.5,1384.24 10137.5,1384.24 10198.4,1384.24 10137.5,1384.24 \n",
       "  \"/>\n",
       "<path clip-path=\"url(#clip142)\" d=\"\n",
       "M10198.4 1384.24 L10198.4 1384.24 L10259.3 1384.24 L10259.3 1384.24 L10198.4 1384.24 L10198.4 1384.24  Z\n",
       "  \" fill=\"#009af9\" fill-rule=\"evenodd\" fill-opacity=\"1\"/>\n",
       "<polyline clip-path=\"url(#clip142)\" style=\"stroke:#000000; stroke-linecap:butt; stroke-linejoin:round; stroke-width:4; stroke-opacity:1; fill:none\" points=\"\n",
       "  10198.4,1384.24 10198.4,1384.24 10259.3,1384.24 10198.4,1384.24 \n",
       "  \"/>\n",
       "<path clip-path=\"url(#clip142)\" d=\"\n",
       "M10259.3 1384.24 L10259.3 1384.24 L10320.1 1384.24 L10320.1 1384.24 L10259.3 1384.24 L10259.3 1384.24  Z\n",
       "  \" fill=\"#009af9\" fill-rule=\"evenodd\" fill-opacity=\"1\"/>\n",
       "<polyline clip-path=\"url(#clip142)\" style=\"stroke:#000000; stroke-linecap:butt; stroke-linejoin:round; stroke-width:4; stroke-opacity:1; fill:none\" points=\"\n",
       "  10259.3,1384.24 10259.3,1384.24 10320.1,1384.24 10259.3,1384.24 \n",
       "  \"/>\n",
       "<path clip-path=\"url(#clip142)\" d=\"\n",
       "M10320.1 1384.24 L10320.1 1384.24 L10381 1384.24 L10381 1384.24 L10320.1 1384.24 L10320.1 1384.24  Z\n",
       "  \" fill=\"#009af9\" fill-rule=\"evenodd\" fill-opacity=\"1\"/>\n",
       "<polyline clip-path=\"url(#clip142)\" style=\"stroke:#000000; stroke-linecap:butt; stroke-linejoin:round; stroke-width:4; stroke-opacity:1; fill:none\" points=\"\n",
       "  10320.1,1384.24 10320.1,1384.24 10381,1384.24 10320.1,1384.24 \n",
       "  \"/>\n",
       "<path clip-path=\"url(#clip142)\" d=\"\n",
       "M10381 1384.24 L10381 1384.24 L10441.9 1384.24 L10441.9 1384.24 L10381 1384.24 L10381 1384.24  Z\n",
       "  \" fill=\"#009af9\" fill-rule=\"evenodd\" fill-opacity=\"1\"/>\n",
       "<polyline clip-path=\"url(#clip142)\" style=\"stroke:#000000; stroke-linecap:butt; stroke-linejoin:round; stroke-width:4; stroke-opacity:1; fill:none\" points=\"\n",
       "  10381,1384.24 10381,1384.24 10441.9,1384.24 10381,1384.24 \n",
       "  \"/>\n",
       "<path clip-path=\"url(#clip142)\" d=\"\n",
       "M10441.9 1384.24 L10441.9 1384.24 L10502.8 1384.24 L10502.8 1384.24 L10441.9 1384.24 L10441.9 1384.24  Z\n",
       "  \" fill=\"#009af9\" fill-rule=\"evenodd\" fill-opacity=\"1\"/>\n",
       "<polyline clip-path=\"url(#clip142)\" style=\"stroke:#000000; stroke-linecap:butt; stroke-linejoin:round; stroke-width:4; stroke-opacity:1; fill:none\" points=\"\n",
       "  10441.9,1384.24 10441.9,1384.24 10502.8,1384.24 10441.9,1384.24 \n",
       "  \"/>\n",
       "<path clip-path=\"url(#clip142)\" d=\"\n",
       "M10502.8 1384.24 L10502.8 1384.24 L10563.7 1384.24 L10563.7 1384.24 L10502.8 1384.24 L10502.8 1384.24  Z\n",
       "  \" fill=\"#009af9\" fill-rule=\"evenodd\" fill-opacity=\"1\"/>\n",
       "<polyline clip-path=\"url(#clip142)\" style=\"stroke:#000000; stroke-linecap:butt; stroke-linejoin:round; stroke-width:4; stroke-opacity:1; fill:none\" points=\"\n",
       "  10502.8,1384.24 10502.8,1384.24 10563.7,1384.24 10502.8,1384.24 \n",
       "  \"/>\n",
       "<path clip-path=\"url(#clip142)\" d=\"\n",
       "M10563.7 1384.24 L10563.7 1384.24 L10624.6 1384.24 L10624.6 1384.24 L10563.7 1384.24 L10563.7 1384.24  Z\n",
       "  \" fill=\"#009af9\" fill-rule=\"evenodd\" fill-opacity=\"1\"/>\n",
       "<polyline clip-path=\"url(#clip142)\" style=\"stroke:#000000; stroke-linecap:butt; stroke-linejoin:round; stroke-width:4; stroke-opacity:1; fill:none\" points=\"\n",
       "  10563.7,1384.24 10563.7,1384.24 10624.6,1384.24 10563.7,1384.24 \n",
       "  \"/>\n",
       "<path clip-path=\"url(#clip142)\" d=\"\n",
       "M10624.6 1384.24 L10624.6 1384.24 L10685.5 1384.24 L10685.5 1384.24 L10624.6 1384.24 L10624.6 1384.24  Z\n",
       "  \" fill=\"#009af9\" fill-rule=\"evenodd\" fill-opacity=\"1\"/>\n",
       "<polyline clip-path=\"url(#clip142)\" style=\"stroke:#000000; stroke-linecap:butt; stroke-linejoin:round; stroke-width:4; stroke-opacity:1; fill:none\" points=\"\n",
       "  10624.6,1384.24 10624.6,1384.24 10685.5,1384.24 10624.6,1384.24 \n",
       "  \"/>\n",
       "<path clip-path=\"url(#clip142)\" d=\"\n",
       "M10685.5 1384.24 L10685.5 1384.24 L10746.4 1384.24 L10746.4 1384.24 L10685.5 1384.24 L10685.5 1384.24  Z\n",
       "  \" fill=\"#009af9\" fill-rule=\"evenodd\" fill-opacity=\"1\"/>\n",
       "<polyline clip-path=\"url(#clip142)\" style=\"stroke:#000000; stroke-linecap:butt; stroke-linejoin:round; stroke-width:4; stroke-opacity:1; fill:none\" points=\"\n",
       "  10685.5,1384.24 10685.5,1384.24 10746.4,1384.24 10685.5,1384.24 \n",
       "  \"/>\n",
       "<path clip-path=\"url(#clip142)\" d=\"\n",
       "M10746.4 1384.24 L10746.4 1384.24 L10807.3 1384.24 L10807.3 1384.24 L10746.4 1384.24 L10746.4 1384.24  Z\n",
       "  \" fill=\"#009af9\" fill-rule=\"evenodd\" fill-opacity=\"1\"/>\n",
       "<polyline clip-path=\"url(#clip142)\" style=\"stroke:#000000; stroke-linecap:butt; stroke-linejoin:round; stroke-width:4; stroke-opacity:1; fill:none\" points=\"\n",
       "  10746.4,1384.24 10746.4,1384.24 10807.3,1384.24 10746.4,1384.24 \n",
       "  \"/>\n",
       "<path clip-path=\"url(#clip142)\" d=\"\n",
       "M10807.3 1384.24 L10807.3 1384.24 L10868.2 1384.24 L10868.2 1384.24 L10807.3 1384.24 L10807.3 1384.24  Z\n",
       "  \" fill=\"#009af9\" fill-rule=\"evenodd\" fill-opacity=\"1\"/>\n",
       "<polyline clip-path=\"url(#clip142)\" style=\"stroke:#000000; stroke-linecap:butt; stroke-linejoin:round; stroke-width:4; stroke-opacity:1; fill:none\" points=\"\n",
       "  10807.3,1384.24 10807.3,1384.24 10868.2,1384.24 10807.3,1384.24 \n",
       "  \"/>\n",
       "<path clip-path=\"url(#clip142)\" d=\"\n",
       "M10868.2 1384.24 L10868.2 1384.24 L10929 1384.24 L10929 1384.24 L10868.2 1384.24 L10868.2 1384.24  Z\n",
       "  \" fill=\"#009af9\" fill-rule=\"evenodd\" fill-opacity=\"1\"/>\n",
       "<polyline clip-path=\"url(#clip142)\" style=\"stroke:#000000; stroke-linecap:butt; stroke-linejoin:round; stroke-width:4; stroke-opacity:1; fill:none\" points=\"\n",
       "  10868.2,1384.24 10868.2,1384.24 10929,1384.24 10868.2,1384.24 \n",
       "  \"/>\n",
       "<path clip-path=\"url(#clip142)\" d=\"\n",
       "M10929 1384.24 L10929 1384.24 L10989.9 1384.24 L10989.9 1384.24 L10929 1384.24 L10929 1384.24  Z\n",
       "  \" fill=\"#009af9\" fill-rule=\"evenodd\" fill-opacity=\"1\"/>\n",
       "<polyline clip-path=\"url(#clip142)\" style=\"stroke:#000000; stroke-linecap:butt; stroke-linejoin:round; stroke-width:4; stroke-opacity:1; fill:none\" points=\"\n",
       "  10929,1384.24 10929,1384.24 10989.9,1384.24 10929,1384.24 \n",
       "  \"/>\n",
       "<path clip-path=\"url(#clip142)\" d=\"\n",
       "M10989.9 1384.24 L10989.9 1384.24 L11050.8 1384.24 L11050.8 1384.24 L10989.9 1384.24 L10989.9 1384.24  Z\n",
       "  \" fill=\"#009af9\" fill-rule=\"evenodd\" fill-opacity=\"1\"/>\n",
       "<polyline clip-path=\"url(#clip142)\" style=\"stroke:#000000; stroke-linecap:butt; stroke-linejoin:round; stroke-width:4; stroke-opacity:1; fill:none\" points=\"\n",
       "  10989.9,1384.24 10989.9,1384.24 11050.8,1384.24 10989.9,1384.24 \n",
       "  \"/>\n",
       "<path clip-path=\"url(#clip142)\" d=\"\n",
       "M11050.8 1384.24 L11050.8 1384.24 L11111.7 1384.24 L11111.7 1384.24 L11050.8 1384.24 L11050.8 1384.24  Z\n",
       "  \" fill=\"#009af9\" fill-rule=\"evenodd\" fill-opacity=\"1\"/>\n",
       "<polyline clip-path=\"url(#clip142)\" style=\"stroke:#000000; stroke-linecap:butt; stroke-linejoin:round; stroke-width:4; stroke-opacity:1; fill:none\" points=\"\n",
       "  11050.8,1384.24 11050.8,1384.24 11111.7,1384.24 11050.8,1384.24 \n",
       "  \"/>\n",
       "<path clip-path=\"url(#clip142)\" d=\"\n",
       "M11111.7 1384.24 L11111.7 1384.24 L11172.6 1384.24 L11172.6 1384.24 L11111.7 1384.24 L11111.7 1384.24  Z\n",
       "  \" fill=\"#009af9\" fill-rule=\"evenodd\" fill-opacity=\"1\"/>\n",
       "<polyline clip-path=\"url(#clip142)\" style=\"stroke:#000000; stroke-linecap:butt; stroke-linejoin:round; stroke-width:4; stroke-opacity:1; fill:none\" points=\"\n",
       "  11111.7,1384.24 11111.7,1384.24 11172.6,1384.24 11111.7,1384.24 \n",
       "  \"/>\n",
       "<path clip-path=\"url(#clip142)\" d=\"\n",
       "M11172.6 1384.24 L11172.6 1384.24 L11233.5 1384.24 L11233.5 1384.24 L11172.6 1384.24 L11172.6 1384.24  Z\n",
       "  \" fill=\"#009af9\" fill-rule=\"evenodd\" fill-opacity=\"1\"/>\n",
       "<polyline clip-path=\"url(#clip142)\" style=\"stroke:#000000; stroke-linecap:butt; stroke-linejoin:round; stroke-width:4; stroke-opacity:1; fill:none\" points=\"\n",
       "  11172.6,1384.24 11172.6,1384.24 11233.5,1384.24 11172.6,1384.24 \n",
       "  \"/>\n",
       "<path clip-path=\"url(#clip142)\" d=\"\n",
       "M11233.5 1384.24 L11233.5 1384.24 L11294.4 1384.24 L11294.4 1384.24 L11233.5 1384.24 L11233.5 1384.24  Z\n",
       "  \" fill=\"#009af9\" fill-rule=\"evenodd\" fill-opacity=\"1\"/>\n",
       "<polyline clip-path=\"url(#clip142)\" style=\"stroke:#000000; stroke-linecap:butt; stroke-linejoin:round; stroke-width:4; stroke-opacity:1; fill:none\" points=\"\n",
       "  11233.5,1384.24 11233.5,1384.24 11294.4,1384.24 11233.5,1384.24 \n",
       "  \"/>\n",
       "<path clip-path=\"url(#clip142)\" d=\"\n",
       "M11294.4 1384.24 L11294.4 1384.24 L11355.3 1384.24 L11355.3 1384.24 L11294.4 1384.24 L11294.4 1384.24  Z\n",
       "  \" fill=\"#009af9\" fill-rule=\"evenodd\" fill-opacity=\"1\"/>\n",
       "<polyline clip-path=\"url(#clip142)\" style=\"stroke:#000000; stroke-linecap:butt; stroke-linejoin:round; stroke-width:4; stroke-opacity:1; fill:none\" points=\"\n",
       "  11294.4,1384.24 11294.4,1384.24 11355.3,1384.24 11294.4,1384.24 \n",
       "  \"/>\n",
       "<path clip-path=\"url(#clip142)\" d=\"\n",
       "M11355.3 1384.24 L11355.3 1384.24 L11416.2 1384.24 L11416.2 1384.24 L11355.3 1384.24 L11355.3 1384.24  Z\n",
       "  \" fill=\"#009af9\" fill-rule=\"evenodd\" fill-opacity=\"1\"/>\n",
       "<polyline clip-path=\"url(#clip142)\" style=\"stroke:#000000; stroke-linecap:butt; stroke-linejoin:round; stroke-width:4; stroke-opacity:1; fill:none\" points=\"\n",
       "  11355.3,1384.24 11355.3,1384.24 11416.2,1384.24 11355.3,1384.24 \n",
       "  \"/>\n",
       "<path clip-path=\"url(#clip142)\" d=\"\n",
       "M11416.2 1384.24 L11416.2 1384.24 L11477 1384.24 L11477 1384.24 L11416.2 1384.24 L11416.2 1384.24  Z\n",
       "  \" fill=\"#009af9\" fill-rule=\"evenodd\" fill-opacity=\"1\"/>\n",
       "<polyline clip-path=\"url(#clip142)\" style=\"stroke:#000000; stroke-linecap:butt; stroke-linejoin:round; stroke-width:4; stroke-opacity:1; fill:none\" points=\"\n",
       "  11416.2,1384.24 11416.2,1384.24 11477,1384.24 11416.2,1384.24 \n",
       "  \"/>\n",
       "<path clip-path=\"url(#clip142)\" d=\"\n",
       "M11477 1266.23 L11477 1384.24 L11537.9 1384.24 L11537.9 1266.23 L11477 1266.23 L11477 1266.23  Z\n",
       "  \" fill=\"#009af9\" fill-rule=\"evenodd\" fill-opacity=\"1\"/>\n",
       "<polyline clip-path=\"url(#clip142)\" style=\"stroke:#000000; stroke-linecap:butt; stroke-linejoin:round; stroke-width:4; stroke-opacity:1; fill:none\" points=\"\n",
       "  11477,1266.23 11477,1384.24 11537.9,1384.24 11537.9,1266.23 11477,1266.23 \n",
       "  \"/>\n",
       "<path clip-path=\"url(#clip142)\" d=\"\n",
       "M11537.9 1384.24 L11537.9 1384.24 L11598.8 1384.24 L11598.8 1384.24 L11537.9 1384.24 L11537.9 1384.24  Z\n",
       "  \" fill=\"#009af9\" fill-rule=\"evenodd\" fill-opacity=\"1\"/>\n",
       "<polyline clip-path=\"url(#clip142)\" style=\"stroke:#000000; stroke-linecap:butt; stroke-linejoin:round; stroke-width:4; stroke-opacity:1; fill:none\" points=\"\n",
       "  11537.9,1384.24 11537.9,1384.24 11598.8,1384.24 11537.9,1384.24 \n",
       "  \"/>\n",
       "<path clip-path=\"url(#clip142)\" d=\"\n",
       "M11598.8 1384.24 L11598.8 1384.24 L11659.7 1384.24 L11659.7 1384.24 L11598.8 1384.24 L11598.8 1384.24  Z\n",
       "  \" fill=\"#009af9\" fill-rule=\"evenodd\" fill-opacity=\"1\"/>\n",
       "<polyline clip-path=\"url(#clip142)\" style=\"stroke:#000000; stroke-linecap:butt; stroke-linejoin:round; stroke-width:4; stroke-opacity:1; fill:none\" points=\"\n",
       "  11598.8,1384.24 11598.8,1384.24 11659.7,1384.24 11598.8,1384.24 \n",
       "  \"/>\n",
       "<path clip-path=\"url(#clip142)\" d=\"\n",
       "M11659.7 1384.24 L11659.7 1384.24 L11720.6 1384.24 L11720.6 1384.24 L11659.7 1384.24 L11659.7 1384.24  Z\n",
       "  \" fill=\"#009af9\" fill-rule=\"evenodd\" fill-opacity=\"1\"/>\n",
       "<polyline clip-path=\"url(#clip142)\" style=\"stroke:#000000; stroke-linecap:butt; stroke-linejoin:round; stroke-width:4; stroke-opacity:1; fill:none\" points=\"\n",
       "  11659.7,1384.24 11659.7,1384.24 11720.6,1384.24 11659.7,1384.24 \n",
       "  \"/>\n",
       "<path clip-path=\"url(#clip142)\" d=\"\n",
       "M11720.6 1384.24 L11720.6 1384.24 L11781.5 1384.24 L11781.5 1384.24 L11720.6 1384.24 L11720.6 1384.24  Z\n",
       "  \" fill=\"#009af9\" fill-rule=\"evenodd\" fill-opacity=\"1\"/>\n",
       "<polyline clip-path=\"url(#clip142)\" style=\"stroke:#000000; stroke-linecap:butt; stroke-linejoin:round; stroke-width:4; stroke-opacity:1; fill:none\" points=\"\n",
       "  11720.6,1384.24 11720.6,1384.24 11781.5,1384.24 11720.6,1384.24 \n",
       "  \"/>\n",
       "<path clip-path=\"url(#clip142)\" d=\"\n",
       "M11781.5 1384.24 L11781.5 1384.24 L11842.4 1384.24 L11842.4 1384.24 L11781.5 1384.24 L11781.5 1384.24  Z\n",
       "  \" fill=\"#009af9\" fill-rule=\"evenodd\" fill-opacity=\"1\"/>\n",
       "<polyline clip-path=\"url(#clip142)\" style=\"stroke:#000000; stroke-linecap:butt; stroke-linejoin:round; stroke-width:4; stroke-opacity:1; fill:none\" points=\"\n",
       "  11781.5,1384.24 11781.5,1384.24 11842.4,1384.24 11781.5,1384.24 \n",
       "  \"/>\n",
       "<path clip-path=\"url(#clip142)\" d=\"\n",
       "M11842.4 1384.24 L11842.4 1384.24 L11903.3 1384.24 L11903.3 1384.24 L11842.4 1384.24 L11842.4 1384.24  Z\n",
       "  \" fill=\"#009af9\" fill-rule=\"evenodd\" fill-opacity=\"1\"/>\n",
       "<polyline clip-path=\"url(#clip142)\" style=\"stroke:#000000; stroke-linecap:butt; stroke-linejoin:round; stroke-width:4; stroke-opacity:1; fill:none\" points=\"\n",
       "  11842.4,1384.24 11842.4,1384.24 11903.3,1384.24 11842.4,1384.24 \n",
       "  \"/>\n",
       "<path clip-path=\"url(#clip142)\" d=\"\n",
       "M11903.3 1384.24 L11903.3 1384.24 L11964.2 1384.24 L11964.2 1384.24 L11903.3 1384.24 L11903.3 1384.24  Z\n",
       "  \" fill=\"#009af9\" fill-rule=\"evenodd\" fill-opacity=\"1\"/>\n",
       "<polyline clip-path=\"url(#clip142)\" style=\"stroke:#000000; stroke-linecap:butt; stroke-linejoin:round; stroke-width:4; stroke-opacity:1; fill:none\" points=\"\n",
       "  11903.3,1384.24 11903.3,1384.24 11964.2,1384.24 11903.3,1384.24 \n",
       "  \"/>\n",
       "<path clip-path=\"url(#clip142)\" d=\"\n",
       "M11964.2 1384.24 L11964.2 1384.24 L12025.1 1384.24 L12025.1 1384.24 L11964.2 1384.24 L11964.2 1384.24  Z\n",
       "  \" fill=\"#009af9\" fill-rule=\"evenodd\" fill-opacity=\"1\"/>\n",
       "<polyline clip-path=\"url(#clip142)\" style=\"stroke:#000000; stroke-linecap:butt; stroke-linejoin:round; stroke-width:4; stroke-opacity:1; fill:none\" points=\"\n",
       "  11964.2,1384.24 11964.2,1384.24 12025.1,1384.24 11964.2,1384.24 \n",
       "  \"/>\n",
       "<path clip-path=\"url(#clip142)\" d=\"\n",
       "M12025.1 1384.24 L12025.1 1384.24 L12085.9 1384.24 L12085.9 1384.24 L12025.1 1384.24 L12025.1 1384.24  Z\n",
       "  \" fill=\"#009af9\" fill-rule=\"evenodd\" fill-opacity=\"1\"/>\n",
       "<polyline clip-path=\"url(#clip142)\" style=\"stroke:#000000; stroke-linecap:butt; stroke-linejoin:round; stroke-width:4; stroke-opacity:1; fill:none\" points=\"\n",
       "  12025.1,1384.24 12025.1,1384.24 12085.9,1384.24 12025.1,1384.24 \n",
       "  \"/>\n",
       "<path clip-path=\"url(#clip142)\" d=\"\n",
       "M12085.9 1266.23 L12085.9 1384.24 L12146.8 1384.24 L12146.8 1266.23 L12085.9 1266.23 L12085.9 1266.23  Z\n",
       "  \" fill=\"#009af9\" fill-rule=\"evenodd\" fill-opacity=\"1\"/>\n",
       "<polyline clip-path=\"url(#clip142)\" style=\"stroke:#000000; stroke-linecap:butt; stroke-linejoin:round; stroke-width:4; stroke-opacity:1; fill:none\" points=\"\n",
       "  12085.9,1266.23 12085.9,1384.24 12146.8,1384.24 12146.8,1266.23 12085.9,1266.23 \n",
       "  \"/>\n",
       "<path clip-path=\"url(#clip142)\" d=\"\n",
       "M12146.8 1384.24 L12146.8 1384.24 L12207.7 1384.24 L12207.7 1384.24 L12146.8 1384.24 L12146.8 1384.24  Z\n",
       "  \" fill=\"#009af9\" fill-rule=\"evenodd\" fill-opacity=\"1\"/>\n",
       "<polyline clip-path=\"url(#clip142)\" style=\"stroke:#000000; stroke-linecap:butt; stroke-linejoin:round; stroke-width:4; stroke-opacity:1; fill:none\" points=\"\n",
       "  12146.8,1384.24 12146.8,1384.24 12207.7,1384.24 12146.8,1384.24 \n",
       "  \"/>\n",
       "<path clip-path=\"url(#clip142)\" d=\"\n",
       "M12207.7 1384.24 L12207.7 1384.24 L12268.6 1384.24 L12268.6 1384.24 L12207.7 1384.24 L12207.7 1384.24  Z\n",
       "  \" fill=\"#009af9\" fill-rule=\"evenodd\" fill-opacity=\"1\"/>\n",
       "<polyline clip-path=\"url(#clip142)\" style=\"stroke:#000000; stroke-linecap:butt; stroke-linejoin:round; stroke-width:4; stroke-opacity:1; fill:none\" points=\"\n",
       "  12207.7,1384.24 12207.7,1384.24 12268.6,1384.24 12207.7,1384.24 \n",
       "  \"/>\n",
       "<path clip-path=\"url(#clip142)\" d=\"\n",
       "M12268.6 1384.24 L12268.6 1384.24 L12329.5 1384.24 L12329.5 1384.24 L12268.6 1384.24 L12268.6 1384.24  Z\n",
       "  \" fill=\"#009af9\" fill-rule=\"evenodd\" fill-opacity=\"1\"/>\n",
       "<polyline clip-path=\"url(#clip142)\" style=\"stroke:#000000; stroke-linecap:butt; stroke-linejoin:round; stroke-width:4; stroke-opacity:1; fill:none\" points=\"\n",
       "  12268.6,1384.24 12268.6,1384.24 12329.5,1384.24 12268.6,1384.24 \n",
       "  \"/>\n",
       "<path clip-path=\"url(#clip142)\" d=\"\n",
       "M12329.5 1384.24 L12329.5 1384.24 L12390.4 1384.24 L12390.4 1384.24 L12329.5 1384.24 L12329.5 1384.24  Z\n",
       "  \" fill=\"#009af9\" fill-rule=\"evenodd\" fill-opacity=\"1\"/>\n",
       "<polyline clip-path=\"url(#clip142)\" style=\"stroke:#000000; stroke-linecap:butt; stroke-linejoin:round; stroke-width:4; stroke-opacity:1; fill:none\" points=\"\n",
       "  12329.5,1384.24 12329.5,1384.24 12390.4,1384.24 12329.5,1384.24 \n",
       "  \"/>\n",
       "<path clip-path=\"url(#clip142)\" d=\"\n",
       "M12390.4 1384.24 L12390.4 1384.24 L12451.3 1384.24 L12451.3 1384.24 L12390.4 1384.24 L12390.4 1384.24  Z\n",
       "  \" fill=\"#009af9\" fill-rule=\"evenodd\" fill-opacity=\"1\"/>\n",
       "<polyline clip-path=\"url(#clip142)\" style=\"stroke:#000000; stroke-linecap:butt; stroke-linejoin:round; stroke-width:4; stroke-opacity:1; fill:none\" points=\"\n",
       "  12390.4,1384.24 12390.4,1384.24 12451.3,1384.24 12390.4,1384.24 \n",
       "  \"/>\n",
       "<path clip-path=\"url(#clip142)\" d=\"\n",
       "M12451.3 1384.24 L12451.3 1384.24 L12512.2 1384.24 L12512.2 1384.24 L12451.3 1384.24 L12451.3 1384.24  Z\n",
       "  \" fill=\"#009af9\" fill-rule=\"evenodd\" fill-opacity=\"1\"/>\n",
       "<polyline clip-path=\"url(#clip142)\" style=\"stroke:#000000; stroke-linecap:butt; stroke-linejoin:round; stroke-width:4; stroke-opacity:1; fill:none\" points=\"\n",
       "  12451.3,1384.24 12451.3,1384.24 12512.2,1384.24 12451.3,1384.24 \n",
       "  \"/>\n",
       "<path clip-path=\"url(#clip142)\" d=\"\n",
       "M12512.2 1384.24 L12512.2 1384.24 L12573.1 1384.24 L12573.1 1384.24 L12512.2 1384.24 L12512.2 1384.24  Z\n",
       "  \" fill=\"#009af9\" fill-rule=\"evenodd\" fill-opacity=\"1\"/>\n",
       "<polyline clip-path=\"url(#clip142)\" style=\"stroke:#000000; stroke-linecap:butt; stroke-linejoin:round; stroke-width:4; stroke-opacity:1; fill:none\" points=\"\n",
       "  12512.2,1384.24 12512.2,1384.24 12573.1,1384.24 12512.2,1384.24 \n",
       "  \"/>\n",
       "<path clip-path=\"url(#clip142)\" d=\"\n",
       "M12573.1 1384.24 L12573.1 1384.24 L12633.9 1384.24 L12633.9 1384.24 L12573.1 1384.24 L12573.1 1384.24  Z\n",
       "  \" fill=\"#009af9\" fill-rule=\"evenodd\" fill-opacity=\"1\"/>\n",
       "<polyline clip-path=\"url(#clip142)\" style=\"stroke:#000000; stroke-linecap:butt; stroke-linejoin:round; stroke-width:4; stroke-opacity:1; fill:none\" points=\"\n",
       "  12573.1,1384.24 12573.1,1384.24 12633.9,1384.24 12573.1,1384.24 \n",
       "  \"/>\n",
       "<path clip-path=\"url(#clip142)\" d=\"\n",
       "M12633.9 1384.24 L12633.9 1384.24 L12694.8 1384.24 L12694.8 1384.24 L12633.9 1384.24 L12633.9 1384.24  Z\n",
       "  \" fill=\"#009af9\" fill-rule=\"evenodd\" fill-opacity=\"1\"/>\n",
       "<polyline clip-path=\"url(#clip142)\" style=\"stroke:#000000; stroke-linecap:butt; stroke-linejoin:round; stroke-width:4; stroke-opacity:1; fill:none\" points=\"\n",
       "  12633.9,1384.24 12633.9,1384.24 12694.8,1384.24 12633.9,1384.24 \n",
       "  \"/>\n",
       "<path clip-path=\"url(#clip142)\" d=\"\n",
       "M12694.8 1384.24 L12694.8 1384.24 L12755.7 1384.24 L12755.7 1384.24 L12694.8 1384.24 L12694.8 1384.24  Z\n",
       "  \" fill=\"#009af9\" fill-rule=\"evenodd\" fill-opacity=\"1\"/>\n",
       "<polyline clip-path=\"url(#clip142)\" style=\"stroke:#000000; stroke-linecap:butt; stroke-linejoin:round; stroke-width:4; stroke-opacity:1; fill:none\" points=\"\n",
       "  12694.8,1384.24 12694.8,1384.24 12755.7,1384.24 12694.8,1384.24 \n",
       "  \"/>\n",
       "<path clip-path=\"url(#clip142)\" d=\"\n",
       "M12755.7 1384.24 L12755.7 1384.24 L12816.6 1384.24 L12816.6 1384.24 L12755.7 1384.24 L12755.7 1384.24  Z\n",
       "  \" fill=\"#009af9\" fill-rule=\"evenodd\" fill-opacity=\"1\"/>\n",
       "<polyline clip-path=\"url(#clip142)\" style=\"stroke:#000000; stroke-linecap:butt; stroke-linejoin:round; stroke-width:4; stroke-opacity:1; fill:none\" points=\"\n",
       "  12755.7,1384.24 12755.7,1384.24 12816.6,1384.24 12755.7,1384.24 \n",
       "  \"/>\n",
       "<path clip-path=\"url(#clip142)\" d=\"\n",
       "M12816.6 1384.24 L12816.6 1384.24 L12877.5 1384.24 L12877.5 1384.24 L12816.6 1384.24 L12816.6 1384.24  Z\n",
       "  \" fill=\"#009af9\" fill-rule=\"evenodd\" fill-opacity=\"1\"/>\n",
       "<polyline clip-path=\"url(#clip142)\" style=\"stroke:#000000; stroke-linecap:butt; stroke-linejoin:round; stroke-width:4; stroke-opacity:1; fill:none\" points=\"\n",
       "  12816.6,1384.24 12816.6,1384.24 12877.5,1384.24 12816.6,1384.24 \n",
       "  \"/>\n",
       "<path clip-path=\"url(#clip142)\" d=\"\n",
       "M12877.5 1384.24 L12877.5 1384.24 L12938.4 1384.24 L12938.4 1384.24 L12877.5 1384.24 L12877.5 1384.24  Z\n",
       "  \" fill=\"#009af9\" fill-rule=\"evenodd\" fill-opacity=\"1\"/>\n",
       "<polyline clip-path=\"url(#clip142)\" style=\"stroke:#000000; stroke-linecap:butt; stroke-linejoin:round; stroke-width:4; stroke-opacity:1; fill:none\" points=\"\n",
       "  12877.5,1384.24 12877.5,1384.24 12938.4,1384.24 12877.5,1384.24 \n",
       "  \"/>\n",
       "<path clip-path=\"url(#clip142)\" d=\"\n",
       "M12938.4 1384.24 L12938.4 1384.24 L12999.3 1384.24 L12999.3 1384.24 L12938.4 1384.24 L12938.4 1384.24  Z\n",
       "  \" fill=\"#009af9\" fill-rule=\"evenodd\" fill-opacity=\"1\"/>\n",
       "<polyline clip-path=\"url(#clip142)\" style=\"stroke:#000000; stroke-linecap:butt; stroke-linejoin:round; stroke-width:4; stroke-opacity:1; fill:none\" points=\"\n",
       "  12938.4,1384.24 12938.4,1384.24 12999.3,1384.24 12938.4,1384.24 \n",
       "  \"/>\n",
       "<path clip-path=\"url(#clip142)\" d=\"\n",
       "M12999.3 1384.24 L12999.3 1384.24 L13060.2 1384.24 L13060.2 1384.24 L12999.3 1384.24 L12999.3 1384.24  Z\n",
       "  \" fill=\"#009af9\" fill-rule=\"evenodd\" fill-opacity=\"1\"/>\n",
       "<polyline clip-path=\"url(#clip142)\" style=\"stroke:#000000; stroke-linecap:butt; stroke-linejoin:round; stroke-width:4; stroke-opacity:1; fill:none\" points=\"\n",
       "  12999.3,1384.24 12999.3,1384.24 13060.2,1384.24 12999.3,1384.24 \n",
       "  \"/>\n",
       "<path clip-path=\"url(#clip142)\" d=\"\n",
       "M13060.2 1384.24 L13060.2 1384.24 L13121.1 1384.24 L13121.1 1384.24 L13060.2 1384.24 L13060.2 1384.24  Z\n",
       "  \" fill=\"#009af9\" fill-rule=\"evenodd\" fill-opacity=\"1\"/>\n",
       "<polyline clip-path=\"url(#clip142)\" style=\"stroke:#000000; stroke-linecap:butt; stroke-linejoin:round; stroke-width:4; stroke-opacity:1; fill:none\" points=\"\n",
       "  13060.2,1384.24 13060.2,1384.24 13121.1,1384.24 13060.2,1384.24 \n",
       "  \"/>\n",
       "<path clip-path=\"url(#clip142)\" d=\"\n",
       "M13121.1 1384.24 L13121.1 1384.24 L13182 1384.24 L13182 1384.24 L13121.1 1384.24 L13121.1 1384.24  Z\n",
       "  \" fill=\"#009af9\" fill-rule=\"evenodd\" fill-opacity=\"1\"/>\n",
       "<polyline clip-path=\"url(#clip142)\" style=\"stroke:#000000; stroke-linecap:butt; stroke-linejoin:round; stroke-width:4; stroke-opacity:1; fill:none\" points=\"\n",
       "  13121.1,1384.24 13121.1,1384.24 13182,1384.24 13121.1,1384.24 \n",
       "  \"/>\n",
       "<path clip-path=\"url(#clip142)\" d=\"\n",
       "M13182 1384.24 L13182 1384.24 L13242.8 1384.24 L13242.8 1384.24 L13182 1384.24 L13182 1384.24  Z\n",
       "  \" fill=\"#009af9\" fill-rule=\"evenodd\" fill-opacity=\"1\"/>\n",
       "<polyline clip-path=\"url(#clip142)\" style=\"stroke:#000000; stroke-linecap:butt; stroke-linejoin:round; stroke-width:4; stroke-opacity:1; fill:none\" points=\"\n",
       "  13182,1384.24 13182,1384.24 13242.8,1384.24 13182,1384.24 \n",
       "  \"/>\n",
       "<path clip-path=\"url(#clip142)\" d=\"\n",
       "M13242.8 1384.24 L13242.8 1384.24 L13303.7 1384.24 L13303.7 1384.24 L13242.8 1384.24 L13242.8 1384.24  Z\n",
       "  \" fill=\"#009af9\" fill-rule=\"evenodd\" fill-opacity=\"1\"/>\n",
       "<polyline clip-path=\"url(#clip142)\" style=\"stroke:#000000; stroke-linecap:butt; stroke-linejoin:round; stroke-width:4; stroke-opacity:1; fill:none\" points=\"\n",
       "  13242.8,1384.24 13242.8,1384.24 13303.7,1384.24 13242.8,1384.24 \n",
       "  \"/>\n",
       "<path clip-path=\"url(#clip142)\" d=\"\n",
       "M13303.7 1384.24 L13303.7 1384.24 L13364.6 1384.24 L13364.6 1384.24 L13303.7 1384.24 L13303.7 1384.24  Z\n",
       "  \" fill=\"#009af9\" fill-rule=\"evenodd\" fill-opacity=\"1\"/>\n",
       "<polyline clip-path=\"url(#clip142)\" style=\"stroke:#000000; stroke-linecap:butt; stroke-linejoin:round; stroke-width:4; stroke-opacity:1; fill:none\" points=\"\n",
       "  13303.7,1384.24 13303.7,1384.24 13364.6,1384.24 13303.7,1384.24 \n",
       "  \"/>\n",
       "<path clip-path=\"url(#clip142)\" d=\"\n",
       "M13364.6 1384.24 L13364.6 1384.24 L13425.5 1384.24 L13425.5 1384.24 L13364.6 1384.24 L13364.6 1384.24  Z\n",
       "  \" fill=\"#009af9\" fill-rule=\"evenodd\" fill-opacity=\"1\"/>\n",
       "<polyline clip-path=\"url(#clip142)\" style=\"stroke:#000000; stroke-linecap:butt; stroke-linejoin:round; stroke-width:4; stroke-opacity:1; fill:none\" points=\"\n",
       "  13364.6,1384.24 13364.6,1384.24 13425.5,1384.24 13364.6,1384.24 \n",
       "  \"/>\n",
       "<path clip-path=\"url(#clip142)\" d=\"\n",
       "M13425.5 1384.24 L13425.5 1384.24 L13486.4 1384.24 L13486.4 1384.24 L13425.5 1384.24 L13425.5 1384.24  Z\n",
       "  \" fill=\"#009af9\" fill-rule=\"evenodd\" fill-opacity=\"1\"/>\n",
       "<polyline clip-path=\"url(#clip142)\" style=\"stroke:#000000; stroke-linecap:butt; stroke-linejoin:round; stroke-width:4; stroke-opacity:1; fill:none\" points=\"\n",
       "  13425.5,1384.24 13425.5,1384.24 13486.4,1384.24 13425.5,1384.24 \n",
       "  \"/>\n",
       "<path clip-path=\"url(#clip142)\" d=\"\n",
       "M13486.4 1384.24 L13486.4 1384.24 L13547.3 1384.24 L13547.3 1384.24 L13486.4 1384.24 L13486.4 1384.24  Z\n",
       "  \" fill=\"#009af9\" fill-rule=\"evenodd\" fill-opacity=\"1\"/>\n",
       "<polyline clip-path=\"url(#clip142)\" style=\"stroke:#000000; stroke-linecap:butt; stroke-linejoin:round; stroke-width:4; stroke-opacity:1; fill:none\" points=\"\n",
       "  13486.4,1384.24 13486.4,1384.24 13547.3,1384.24 13486.4,1384.24 \n",
       "  \"/>\n",
       "<path clip-path=\"url(#clip142)\" d=\"\n",
       "M13547.3 1384.24 L13547.3 1384.24 L13608.2 1384.24 L13608.2 1384.24 L13547.3 1384.24 L13547.3 1384.24  Z\n",
       "  \" fill=\"#009af9\" fill-rule=\"evenodd\" fill-opacity=\"1\"/>\n",
       "<polyline clip-path=\"url(#clip142)\" style=\"stroke:#000000; stroke-linecap:butt; stroke-linejoin:round; stroke-width:4; stroke-opacity:1; fill:none\" points=\"\n",
       "  13547.3,1384.24 13547.3,1384.24 13608.2,1384.24 13547.3,1384.24 \n",
       "  \"/>\n",
       "<path clip-path=\"url(#clip142)\" d=\"\n",
       "M13608.2 1384.24 L13608.2 1384.24 L13669.1 1384.24 L13669.1 1384.24 L13608.2 1384.24 L13608.2 1384.24  Z\n",
       "  \" fill=\"#009af9\" fill-rule=\"evenodd\" fill-opacity=\"1\"/>\n",
       "<polyline clip-path=\"url(#clip142)\" style=\"stroke:#000000; stroke-linecap:butt; stroke-linejoin:round; stroke-width:4; stroke-opacity:1; fill:none\" points=\"\n",
       "  13608.2,1384.24 13608.2,1384.24 13669.1,1384.24 13608.2,1384.24 \n",
       "  \"/>\n",
       "<path clip-path=\"url(#clip142)\" d=\"\n",
       "M13669.1 1384.24 L13669.1 1384.24 L13730 1384.24 L13730 1384.24 L13669.1 1384.24 L13669.1 1384.24  Z\n",
       "  \" fill=\"#009af9\" fill-rule=\"evenodd\" fill-opacity=\"1\"/>\n",
       "<polyline clip-path=\"url(#clip142)\" style=\"stroke:#000000; stroke-linecap:butt; stroke-linejoin:round; stroke-width:4; stroke-opacity:1; fill:none\" points=\"\n",
       "  13669.1,1384.24 13669.1,1384.24 13730,1384.24 13669.1,1384.24 \n",
       "  \"/>\n",
       "<path clip-path=\"url(#clip142)\" d=\"\n",
       "M13730 1384.24 L13730 1384.24 L13790.8 1384.24 L13790.8 1384.24 L13730 1384.24 L13730 1384.24  Z\n",
       "  \" fill=\"#009af9\" fill-rule=\"evenodd\" fill-opacity=\"1\"/>\n",
       "<polyline clip-path=\"url(#clip142)\" style=\"stroke:#000000; stroke-linecap:butt; stroke-linejoin:round; stroke-width:4; stroke-opacity:1; fill:none\" points=\"\n",
       "  13730,1384.24 13730,1384.24 13790.8,1384.24 13730,1384.24 \n",
       "  \"/>\n",
       "<path clip-path=\"url(#clip142)\" d=\"\n",
       "M13790.8 1384.24 L13790.8 1384.24 L13851.7 1384.24 L13851.7 1384.24 L13790.8 1384.24 L13790.8 1384.24  Z\n",
       "  \" fill=\"#009af9\" fill-rule=\"evenodd\" fill-opacity=\"1\"/>\n",
       "<polyline clip-path=\"url(#clip142)\" style=\"stroke:#000000; stroke-linecap:butt; stroke-linejoin:round; stroke-width:4; stroke-opacity:1; fill:none\" points=\"\n",
       "  13790.8,1384.24 13790.8,1384.24 13851.7,1384.24 13790.8,1384.24 \n",
       "  \"/>\n",
       "<path clip-path=\"url(#clip142)\" d=\"\n",
       "M13851.7 1384.24 L13851.7 1384.24 L13912.6 1384.24 L13912.6 1384.24 L13851.7 1384.24 L13851.7 1384.24  Z\n",
       "  \" fill=\"#009af9\" fill-rule=\"evenodd\" fill-opacity=\"1\"/>\n",
       "<polyline clip-path=\"url(#clip142)\" style=\"stroke:#000000; stroke-linecap:butt; stroke-linejoin:round; stroke-width:4; stroke-opacity:1; fill:none\" points=\"\n",
       "  13851.7,1384.24 13851.7,1384.24 13912.6,1384.24 13851.7,1384.24 \n",
       "  \"/>\n",
       "<path clip-path=\"url(#clip142)\" d=\"\n",
       "M13912.6 1384.24 L13912.6 1384.24 L13973.5 1384.24 L13973.5 1384.24 L13912.6 1384.24 L13912.6 1384.24  Z\n",
       "  \" fill=\"#009af9\" fill-rule=\"evenodd\" fill-opacity=\"1\"/>\n",
       "<polyline clip-path=\"url(#clip142)\" style=\"stroke:#000000; stroke-linecap:butt; stroke-linejoin:round; stroke-width:4; stroke-opacity:1; fill:none\" points=\"\n",
       "  13912.6,1384.24 13912.6,1384.24 13973.5,1384.24 13912.6,1384.24 \n",
       "  \"/>\n",
       "<path clip-path=\"url(#clip142)\" d=\"\n",
       "M13973.5 1384.24 L13973.5 1384.24 L14034.4 1384.24 L14034.4 1384.24 L13973.5 1384.24 L13973.5 1384.24  Z\n",
       "  \" fill=\"#009af9\" fill-rule=\"evenodd\" fill-opacity=\"1\"/>\n",
       "<polyline clip-path=\"url(#clip142)\" style=\"stroke:#000000; stroke-linecap:butt; stroke-linejoin:round; stroke-width:4; stroke-opacity:1; fill:none\" points=\"\n",
       "  13973.5,1384.24 13973.5,1384.24 14034.4,1384.24 13973.5,1384.24 \n",
       "  \"/>\n",
       "<path clip-path=\"url(#clip142)\" d=\"\n",
       "M14034.4 1384.24 L14034.4 1384.24 L14095.3 1384.24 L14095.3 1384.24 L14034.4 1384.24 L14034.4 1384.24  Z\n",
       "  \" fill=\"#009af9\" fill-rule=\"evenodd\" fill-opacity=\"1\"/>\n",
       "<polyline clip-path=\"url(#clip142)\" style=\"stroke:#000000; stroke-linecap:butt; stroke-linejoin:round; stroke-width:4; stroke-opacity:1; fill:none\" points=\"\n",
       "  14034.4,1384.24 14034.4,1384.24 14095.3,1384.24 14034.4,1384.24 \n",
       "  \"/>\n",
       "<path clip-path=\"url(#clip142)\" d=\"\n",
       "M14095.3 1384.24 L14095.3 1384.24 L14156.2 1384.24 L14156.2 1384.24 L14095.3 1384.24 L14095.3 1384.24  Z\n",
       "  \" fill=\"#009af9\" fill-rule=\"evenodd\" fill-opacity=\"1\"/>\n",
       "<polyline clip-path=\"url(#clip142)\" style=\"stroke:#000000; stroke-linecap:butt; stroke-linejoin:round; stroke-width:4; stroke-opacity:1; fill:none\" points=\"\n",
       "  14095.3,1384.24 14095.3,1384.24 14156.2,1384.24 14095.3,1384.24 \n",
       "  \"/>\n",
       "<path clip-path=\"url(#clip142)\" d=\"\n",
       "M14156.2 1384.24 L14156.2 1384.24 L14217.1 1384.24 L14217.1 1384.24 L14156.2 1384.24 L14156.2 1384.24  Z\n",
       "  \" fill=\"#009af9\" fill-rule=\"evenodd\" fill-opacity=\"1\"/>\n",
       "<polyline clip-path=\"url(#clip142)\" style=\"stroke:#000000; stroke-linecap:butt; stroke-linejoin:round; stroke-width:4; stroke-opacity:1; fill:none\" points=\"\n",
       "  14156.2,1384.24 14156.2,1384.24 14217.1,1384.24 14156.2,1384.24 \n",
       "  \"/>\n",
       "<path clip-path=\"url(#clip142)\" d=\"\n",
       "M14217.1 1384.24 L14217.1 1384.24 L14278 1384.24 L14278 1384.24 L14217.1 1384.24 L14217.1 1384.24  Z\n",
       "  \" fill=\"#009af9\" fill-rule=\"evenodd\" fill-opacity=\"1\"/>\n",
       "<polyline clip-path=\"url(#clip142)\" style=\"stroke:#000000; stroke-linecap:butt; stroke-linejoin:round; stroke-width:4; stroke-opacity:1; fill:none\" points=\"\n",
       "  14217.1,1384.24 14217.1,1384.24 14278,1384.24 14217.1,1384.24 \n",
       "  \"/>\n",
       "<path clip-path=\"url(#clip142)\" d=\"\n",
       "M14278 1384.24 L14278 1384.24 L14338.8 1384.24 L14338.8 1384.24 L14278 1384.24 L14278 1384.24  Z\n",
       "  \" fill=\"#009af9\" fill-rule=\"evenodd\" fill-opacity=\"1\"/>\n",
       "<polyline clip-path=\"url(#clip142)\" style=\"stroke:#000000; stroke-linecap:butt; stroke-linejoin:round; stroke-width:4; stroke-opacity:1; fill:none\" points=\"\n",
       "  14278,1384.24 14278,1384.24 14338.8,1384.24 14278,1384.24 \n",
       "  \"/>\n",
       "<path clip-path=\"url(#clip142)\" d=\"\n",
       "M14338.8 1384.24 L14338.8 1384.24 L14399.7 1384.24 L14399.7 1384.24 L14338.8 1384.24 L14338.8 1384.24  Z\n",
       "  \" fill=\"#009af9\" fill-rule=\"evenodd\" fill-opacity=\"1\"/>\n",
       "<polyline clip-path=\"url(#clip142)\" style=\"stroke:#000000; stroke-linecap:butt; stroke-linejoin:round; stroke-width:4; stroke-opacity:1; fill:none\" points=\"\n",
       "  14338.8,1384.24 14338.8,1384.24 14399.7,1384.24 14338.8,1384.24 \n",
       "  \"/>\n",
       "<path clip-path=\"url(#clip142)\" d=\"\n",
       "M14399.7 1384.24 L14399.7 1384.24 L14460.6 1384.24 L14460.6 1384.24 L14399.7 1384.24 L14399.7 1384.24  Z\n",
       "  \" fill=\"#009af9\" fill-rule=\"evenodd\" fill-opacity=\"1\"/>\n",
       "<polyline clip-path=\"url(#clip142)\" style=\"stroke:#000000; stroke-linecap:butt; stroke-linejoin:round; stroke-width:4; stroke-opacity:1; fill:none\" points=\"\n",
       "  14399.7,1384.24 14399.7,1384.24 14460.6,1384.24 14399.7,1384.24 \n",
       "  \"/>\n",
       "<path clip-path=\"url(#clip142)\" d=\"\n",
       "M14460.6 1384.24 L14460.6 1384.24 L14521.5 1384.24 L14521.5 1384.24 L14460.6 1384.24 L14460.6 1384.24  Z\n",
       "  \" fill=\"#009af9\" fill-rule=\"evenodd\" fill-opacity=\"1\"/>\n",
       "<polyline clip-path=\"url(#clip142)\" style=\"stroke:#000000; stroke-linecap:butt; stroke-linejoin:round; stroke-width:4; stroke-opacity:1; fill:none\" points=\"\n",
       "  14460.6,1384.24 14460.6,1384.24 14521.5,1384.24 14460.6,1384.24 \n",
       "  \"/>\n",
       "<path clip-path=\"url(#clip142)\" d=\"\n",
       "M14521.5 1384.24 L14521.5 1384.24 L14582.4 1384.24 L14582.4 1384.24 L14521.5 1384.24 L14521.5 1384.24  Z\n",
       "  \" fill=\"#009af9\" fill-rule=\"evenodd\" fill-opacity=\"1\"/>\n",
       "<polyline clip-path=\"url(#clip142)\" style=\"stroke:#000000; stroke-linecap:butt; stroke-linejoin:round; stroke-width:4; stroke-opacity:1; fill:none\" points=\"\n",
       "  14521.5,1384.24 14521.5,1384.24 14582.4,1384.24 14521.5,1384.24 \n",
       "  \"/>\n",
       "<path clip-path=\"url(#clip142)\" d=\"\n",
       "M14582.4 1384.24 L14582.4 1384.24 L14643.3 1384.24 L14643.3 1384.24 L14582.4 1384.24 L14582.4 1384.24  Z\n",
       "  \" fill=\"#009af9\" fill-rule=\"evenodd\" fill-opacity=\"1\"/>\n",
       "<polyline clip-path=\"url(#clip142)\" style=\"stroke:#000000; stroke-linecap:butt; stroke-linejoin:round; stroke-width:4; stroke-opacity:1; fill:none\" points=\"\n",
       "  14582.4,1384.24 14582.4,1384.24 14643.3,1384.24 14582.4,1384.24 \n",
       "  \"/>\n",
       "<path clip-path=\"url(#clip142)\" d=\"\n",
       "M14643.3 1384.24 L14643.3 1384.24 L14704.2 1384.24 L14704.2 1384.24 L14643.3 1384.24 L14643.3 1384.24  Z\n",
       "  \" fill=\"#009af9\" fill-rule=\"evenodd\" fill-opacity=\"1\"/>\n",
       "<polyline clip-path=\"url(#clip142)\" style=\"stroke:#000000; stroke-linecap:butt; stroke-linejoin:round; stroke-width:4; stroke-opacity:1; fill:none\" points=\"\n",
       "  14643.3,1384.24 14643.3,1384.24 14704.2,1384.24 14643.3,1384.24 \n",
       "  \"/>\n",
       "<path clip-path=\"url(#clip142)\" d=\"\n",
       "M14704.2 1384.24 L14704.2 1384.24 L14765.1 1384.24 L14765.1 1384.24 L14704.2 1384.24 L14704.2 1384.24  Z\n",
       "  \" fill=\"#009af9\" fill-rule=\"evenodd\" fill-opacity=\"1\"/>\n",
       "<polyline clip-path=\"url(#clip142)\" style=\"stroke:#000000; stroke-linecap:butt; stroke-linejoin:round; stroke-width:4; stroke-opacity:1; fill:none\" points=\"\n",
       "  14704.2,1384.24 14704.2,1384.24 14765.1,1384.24 14704.2,1384.24 \n",
       "  \"/>\n",
       "<path clip-path=\"url(#clip142)\" d=\"\n",
       "M14765.1 1384.24 L14765.1 1384.24 L14826 1384.24 L14826 1384.24 L14765.1 1384.24 L14765.1 1384.24  Z\n",
       "  \" fill=\"#009af9\" fill-rule=\"evenodd\" fill-opacity=\"1\"/>\n",
       "<polyline clip-path=\"url(#clip142)\" style=\"stroke:#000000; stroke-linecap:butt; stroke-linejoin:round; stroke-width:4; stroke-opacity:1; fill:none\" points=\"\n",
       "  14765.1,1384.24 14765.1,1384.24 14826,1384.24 14765.1,1384.24 \n",
       "  \"/>\n",
       "<path clip-path=\"url(#clip142)\" d=\"\n",
       "M14826 1384.24 L14826 1384.24 L14886.9 1384.24 L14886.9 1384.24 L14826 1384.24 L14826 1384.24  Z\n",
       "  \" fill=\"#009af9\" fill-rule=\"evenodd\" fill-opacity=\"1\"/>\n",
       "<polyline clip-path=\"url(#clip142)\" style=\"stroke:#000000; stroke-linecap:butt; stroke-linejoin:round; stroke-width:4; stroke-opacity:1; fill:none\" points=\"\n",
       "  14826,1384.24 14826,1384.24 14886.9,1384.24 14826,1384.24 \n",
       "  \"/>\n",
       "<path clip-path=\"url(#clip142)\" d=\"\n",
       "M14886.9 1384.24 L14886.9 1384.24 L14947.7 1384.24 L14947.7 1384.24 L14886.9 1384.24 L14886.9 1384.24  Z\n",
       "  \" fill=\"#009af9\" fill-rule=\"evenodd\" fill-opacity=\"1\"/>\n",
       "<polyline clip-path=\"url(#clip142)\" style=\"stroke:#000000; stroke-linecap:butt; stroke-linejoin:round; stroke-width:4; stroke-opacity:1; fill:none\" points=\"\n",
       "  14886.9,1384.24 14886.9,1384.24 14947.7,1384.24 14886.9,1384.24 \n",
       "  \"/>\n",
       "<path clip-path=\"url(#clip142)\" d=\"\n",
       "M14947.7 1384.24 L14947.7 1384.24 L15008.6 1384.24 L15008.6 1384.24 L14947.7 1384.24 L14947.7 1384.24  Z\n",
       "  \" fill=\"#009af9\" fill-rule=\"evenodd\" fill-opacity=\"1\"/>\n",
       "<polyline clip-path=\"url(#clip142)\" style=\"stroke:#000000; stroke-linecap:butt; stroke-linejoin:round; stroke-width:4; stroke-opacity:1; fill:none\" points=\"\n",
       "  14947.7,1384.24 14947.7,1384.24 15008.6,1384.24 14947.7,1384.24 \n",
       "  \"/>\n",
       "<path clip-path=\"url(#clip142)\" d=\"\n",
       "M15008.6 1384.24 L15008.6 1384.24 L15069.5 1384.24 L15069.5 1384.24 L15008.6 1384.24 L15008.6 1384.24  Z\n",
       "  \" fill=\"#009af9\" fill-rule=\"evenodd\" fill-opacity=\"1\"/>\n",
       "<polyline clip-path=\"url(#clip142)\" style=\"stroke:#000000; stroke-linecap:butt; stroke-linejoin:round; stroke-width:4; stroke-opacity:1; fill:none\" points=\"\n",
       "  15008.6,1384.24 15008.6,1384.24 15069.5,1384.24 15008.6,1384.24 \n",
       "  \"/>\n",
       "<path clip-path=\"url(#clip142)\" d=\"\n",
       "M15069.5 1384.24 L15069.5 1384.24 L15130.4 1384.24 L15130.4 1384.24 L15069.5 1384.24 L15069.5 1384.24  Z\n",
       "  \" fill=\"#009af9\" fill-rule=\"evenodd\" fill-opacity=\"1\"/>\n",
       "<polyline clip-path=\"url(#clip142)\" style=\"stroke:#000000; stroke-linecap:butt; stroke-linejoin:round; stroke-width:4; stroke-opacity:1; fill:none\" points=\"\n",
       "  15069.5,1384.24 15069.5,1384.24 15130.4,1384.24 15069.5,1384.24 \n",
       "  \"/>\n",
       "<path clip-path=\"url(#clip142)\" d=\"\n",
       "M15130.4 1384.24 L15130.4 1384.24 L15191.3 1384.24 L15191.3 1384.24 L15130.4 1384.24 L15130.4 1384.24  Z\n",
       "  \" fill=\"#009af9\" fill-rule=\"evenodd\" fill-opacity=\"1\"/>\n",
       "<polyline clip-path=\"url(#clip142)\" style=\"stroke:#000000; stroke-linecap:butt; stroke-linejoin:round; stroke-width:4; stroke-opacity:1; fill:none\" points=\"\n",
       "  15130.4,1384.24 15130.4,1384.24 15191.3,1384.24 15130.4,1384.24 \n",
       "  \"/>\n",
       "<path clip-path=\"url(#clip142)\" d=\"\n",
       "M15191.3 1384.24 L15191.3 1384.24 L15252.2 1384.24 L15252.2 1384.24 L15191.3 1384.24 L15191.3 1384.24  Z\n",
       "  \" fill=\"#009af9\" fill-rule=\"evenodd\" fill-opacity=\"1\"/>\n",
       "<polyline clip-path=\"url(#clip142)\" style=\"stroke:#000000; stroke-linecap:butt; stroke-linejoin:round; stroke-width:4; stroke-opacity:1; fill:none\" points=\"\n",
       "  15191.3,1384.24 15191.3,1384.24 15252.2,1384.24 15191.3,1384.24 \n",
       "  \"/>\n",
       "<path clip-path=\"url(#clip142)\" d=\"\n",
       "M15252.2 1384.24 L15252.2 1384.24 L15313.1 1384.24 L15313.1 1384.24 L15252.2 1384.24 L15252.2 1384.24  Z\n",
       "  \" fill=\"#009af9\" fill-rule=\"evenodd\" fill-opacity=\"1\"/>\n",
       "<polyline clip-path=\"url(#clip142)\" style=\"stroke:#000000; stroke-linecap:butt; stroke-linejoin:round; stroke-width:4; stroke-opacity:1; fill:none\" points=\"\n",
       "  15252.2,1384.24 15252.2,1384.24 15313.1,1384.24 15252.2,1384.24 \n",
       "  \"/>\n",
       "<path clip-path=\"url(#clip142)\" d=\"\n",
       "M15313.1 1384.24 L15313.1 1384.24 L15374 1384.24 L15374 1384.24 L15313.1 1384.24 L15313.1 1384.24  Z\n",
       "  \" fill=\"#009af9\" fill-rule=\"evenodd\" fill-opacity=\"1\"/>\n",
       "<polyline clip-path=\"url(#clip142)\" style=\"stroke:#000000; stroke-linecap:butt; stroke-linejoin:round; stroke-width:4; stroke-opacity:1; fill:none\" points=\"\n",
       "  15313.1,1384.24 15313.1,1384.24 15374,1384.24 15313.1,1384.24 \n",
       "  \"/>\n",
       "<path clip-path=\"url(#clip142)\" d=\"\n",
       "M15374 1384.24 L15374 1384.24 L15434.9 1384.24 L15434.9 1384.24 L15374 1384.24 L15374 1384.24  Z\n",
       "  \" fill=\"#009af9\" fill-rule=\"evenodd\" fill-opacity=\"1\"/>\n",
       "<polyline clip-path=\"url(#clip142)\" style=\"stroke:#000000; stroke-linecap:butt; stroke-linejoin:round; stroke-width:4; stroke-opacity:1; fill:none\" points=\"\n",
       "  15374,1384.24 15374,1384.24 15434.9,1384.24 15374,1384.24 \n",
       "  \"/>\n",
       "<path clip-path=\"url(#clip142)\" d=\"\n",
       "M15434.9 1384.24 L15434.9 1384.24 L15495.7 1384.24 L15495.7 1384.24 L15434.9 1384.24 L15434.9 1384.24  Z\n",
       "  \" fill=\"#009af9\" fill-rule=\"evenodd\" fill-opacity=\"1\"/>\n",
       "<polyline clip-path=\"url(#clip142)\" style=\"stroke:#000000; stroke-linecap:butt; stroke-linejoin:round; stroke-width:4; stroke-opacity:1; fill:none\" points=\"\n",
       "  15434.9,1384.24 15434.9,1384.24 15495.7,1384.24 15434.9,1384.24 \n",
       "  \"/>\n",
       "<path clip-path=\"url(#clip142)\" d=\"\n",
       "M15495.7 1384.24 L15495.7 1384.24 L15556.6 1384.24 L15556.6 1384.24 L15495.7 1384.24 L15495.7 1384.24  Z\n",
       "  \" fill=\"#009af9\" fill-rule=\"evenodd\" fill-opacity=\"1\"/>\n",
       "<polyline clip-path=\"url(#clip142)\" style=\"stroke:#000000; stroke-linecap:butt; stroke-linejoin:round; stroke-width:4; stroke-opacity:1; fill:none\" points=\"\n",
       "  15495.7,1384.24 15495.7,1384.24 15556.6,1384.24 15495.7,1384.24 \n",
       "  \"/>\n",
       "<path clip-path=\"url(#clip142)\" d=\"\n",
       "M15556.6 1384.24 L15556.6 1384.24 L15617.5 1384.24 L15617.5 1384.24 L15556.6 1384.24 L15556.6 1384.24  Z\n",
       "  \" fill=\"#009af9\" fill-rule=\"evenodd\" fill-opacity=\"1\"/>\n",
       "<polyline clip-path=\"url(#clip142)\" style=\"stroke:#000000; stroke-linecap:butt; stroke-linejoin:round; stroke-width:4; stroke-opacity:1; fill:none\" points=\"\n",
       "  15556.6,1384.24 15556.6,1384.24 15617.5,1384.24 15556.6,1384.24 \n",
       "  \"/>\n",
       "<path clip-path=\"url(#clip142)\" d=\"\n",
       "M15617.5 1384.24 L15617.5 1384.24 L15678.4 1384.24 L15678.4 1384.24 L15617.5 1384.24 L15617.5 1384.24  Z\n",
       "  \" fill=\"#009af9\" fill-rule=\"evenodd\" fill-opacity=\"1\"/>\n",
       "<polyline clip-path=\"url(#clip142)\" style=\"stroke:#000000; stroke-linecap:butt; stroke-linejoin:round; stroke-width:4; stroke-opacity:1; fill:none\" points=\"\n",
       "  15617.5,1384.24 15617.5,1384.24 15678.4,1384.24 15617.5,1384.24 \n",
       "  \"/>\n",
       "<path clip-path=\"url(#clip142)\" d=\"\n",
       "M15678.4 1384.24 L15678.4 1384.24 L15739.3 1384.24 L15739.3 1384.24 L15678.4 1384.24 L15678.4 1384.24  Z\n",
       "  \" fill=\"#009af9\" fill-rule=\"evenodd\" fill-opacity=\"1\"/>\n",
       "<polyline clip-path=\"url(#clip142)\" style=\"stroke:#000000; stroke-linecap:butt; stroke-linejoin:round; stroke-width:4; stroke-opacity:1; fill:none\" points=\"\n",
       "  15678.4,1384.24 15678.4,1384.24 15739.3,1384.24 15678.4,1384.24 \n",
       "  \"/>\n",
       "<path clip-path=\"url(#clip142)\" d=\"\n",
       "M15739.3 1384.24 L15739.3 1384.24 L15800.2 1384.24 L15800.2 1384.24 L15739.3 1384.24 L15739.3 1384.24  Z\n",
       "  \" fill=\"#009af9\" fill-rule=\"evenodd\" fill-opacity=\"1\"/>\n",
       "<polyline clip-path=\"url(#clip142)\" style=\"stroke:#000000; stroke-linecap:butt; stroke-linejoin:round; stroke-width:4; stroke-opacity:1; fill:none\" points=\"\n",
       "  15739.3,1384.24 15739.3,1384.24 15800.2,1384.24 15739.3,1384.24 \n",
       "  \"/>\n",
       "<path clip-path=\"url(#clip142)\" d=\"\n",
       "M15800.2 1384.24 L15800.2 1384.24 L15861.1 1384.24 L15861.1 1384.24 L15800.2 1384.24 L15800.2 1384.24  Z\n",
       "  \" fill=\"#009af9\" fill-rule=\"evenodd\" fill-opacity=\"1\"/>\n",
       "<polyline clip-path=\"url(#clip142)\" style=\"stroke:#000000; stroke-linecap:butt; stroke-linejoin:round; stroke-width:4; stroke-opacity:1; fill:none\" points=\"\n",
       "  15800.2,1384.24 15800.2,1384.24 15861.1,1384.24 15800.2,1384.24 \n",
       "  \"/>\n",
       "<path clip-path=\"url(#clip142)\" d=\"\n",
       "M15861.1 1384.24 L15861.1 1384.24 L15922 1384.24 L15922 1384.24 L15861.1 1384.24 L15861.1 1384.24  Z\n",
       "  \" fill=\"#009af9\" fill-rule=\"evenodd\" fill-opacity=\"1\"/>\n",
       "<polyline clip-path=\"url(#clip142)\" style=\"stroke:#000000; stroke-linecap:butt; stroke-linejoin:round; stroke-width:4; stroke-opacity:1; fill:none\" points=\"\n",
       "  15861.1,1384.24 15861.1,1384.24 15922,1384.24 15861.1,1384.24 \n",
       "  \"/>\n",
       "<path clip-path=\"url(#clip142)\" d=\"\n",
       "M15922 1384.24 L15922 1384.24 L15982.9 1384.24 L15982.9 1384.24 L15922 1384.24 L15922 1384.24  Z\n",
       "  \" fill=\"#009af9\" fill-rule=\"evenodd\" fill-opacity=\"1\"/>\n",
       "<polyline clip-path=\"url(#clip142)\" style=\"stroke:#000000; stroke-linecap:butt; stroke-linejoin:round; stroke-width:4; stroke-opacity:1; fill:none\" points=\"\n",
       "  15922,1384.24 15922,1384.24 15982.9,1384.24 15922,1384.24 \n",
       "  \"/>\n",
       "<path clip-path=\"url(#clip142)\" d=\"\n",
       "M15982.9 1384.24 L15982.9 1384.24 L16043.8 1384.24 L16043.8 1384.24 L15982.9 1384.24 L15982.9 1384.24  Z\n",
       "  \" fill=\"#009af9\" fill-rule=\"evenodd\" fill-opacity=\"1\"/>\n",
       "<polyline clip-path=\"url(#clip142)\" style=\"stroke:#000000; stroke-linecap:butt; stroke-linejoin:round; stroke-width:4; stroke-opacity:1; fill:none\" points=\"\n",
       "  15982.9,1384.24 15982.9,1384.24 16043.8,1384.24 15982.9,1384.24 \n",
       "  \"/>\n",
       "<path clip-path=\"url(#clip142)\" d=\"\n",
       "M16043.8 1384.24 L16043.8 1384.24 L16104.6 1384.24 L16104.6 1384.24 L16043.8 1384.24 L16043.8 1384.24  Z\n",
       "  \" fill=\"#009af9\" fill-rule=\"evenodd\" fill-opacity=\"1\"/>\n",
       "<polyline clip-path=\"url(#clip142)\" style=\"stroke:#000000; stroke-linecap:butt; stroke-linejoin:round; stroke-width:4; stroke-opacity:1; fill:none\" points=\"\n",
       "  16043.8,1384.24 16043.8,1384.24 16104.6,1384.24 16043.8,1384.24 \n",
       "  \"/>\n",
       "<path clip-path=\"url(#clip142)\" d=\"\n",
       "M16104.6 1384.24 L16104.6 1384.24 L16165.5 1384.24 L16165.5 1384.24 L16104.6 1384.24 L16104.6 1384.24  Z\n",
       "  \" fill=\"#009af9\" fill-rule=\"evenodd\" fill-opacity=\"1\"/>\n",
       "<polyline clip-path=\"url(#clip142)\" style=\"stroke:#000000; stroke-linecap:butt; stroke-linejoin:round; stroke-width:4; stroke-opacity:1; fill:none\" points=\"\n",
       "  16104.6,1384.24 16104.6,1384.24 16165.5,1384.24 16104.6,1384.24 \n",
       "  \"/>\n",
       "<path clip-path=\"url(#clip142)\" d=\"\n",
       "M16165.5 1384.24 L16165.5 1384.24 L16226.4 1384.24 L16226.4 1384.24 L16165.5 1384.24 L16165.5 1384.24  Z\n",
       "  \" fill=\"#009af9\" fill-rule=\"evenodd\" fill-opacity=\"1\"/>\n",
       "<polyline clip-path=\"url(#clip142)\" style=\"stroke:#000000; stroke-linecap:butt; stroke-linejoin:round; stroke-width:4; stroke-opacity:1; fill:none\" points=\"\n",
       "  16165.5,1384.24 16165.5,1384.24 16226.4,1384.24 16165.5,1384.24 \n",
       "  \"/>\n",
       "<path clip-path=\"url(#clip142)\" d=\"\n",
       "M16226.4 1384.24 L16226.4 1384.24 L16287.3 1384.24 L16287.3 1384.24 L16226.4 1384.24 L16226.4 1384.24  Z\n",
       "  \" fill=\"#009af9\" fill-rule=\"evenodd\" fill-opacity=\"1\"/>\n",
       "<polyline clip-path=\"url(#clip142)\" style=\"stroke:#000000; stroke-linecap:butt; stroke-linejoin:round; stroke-width:4; stroke-opacity:1; fill:none\" points=\"\n",
       "  16226.4,1384.24 16226.4,1384.24 16287.3,1384.24 16226.4,1384.24 \n",
       "  \"/>\n",
       "<path clip-path=\"url(#clip142)\" d=\"\n",
       "M16287.3 1384.24 L16287.3 1384.24 L16348.2 1384.24 L16348.2 1384.24 L16287.3 1384.24 L16287.3 1384.24  Z\n",
       "  \" fill=\"#009af9\" fill-rule=\"evenodd\" fill-opacity=\"1\"/>\n",
       "<polyline clip-path=\"url(#clip142)\" style=\"stroke:#000000; stroke-linecap:butt; stroke-linejoin:round; stroke-width:4; stroke-opacity:1; fill:none\" points=\"\n",
       "  16287.3,1384.24 16287.3,1384.24 16348.2,1384.24 16287.3,1384.24 \n",
       "  \"/>\n",
       "<path clip-path=\"url(#clip142)\" d=\"\n",
       "M16348.2 1384.24 L16348.2 1384.24 L16409.1 1384.24 L16409.1 1384.24 L16348.2 1384.24 L16348.2 1384.24  Z\n",
       "  \" fill=\"#009af9\" fill-rule=\"evenodd\" fill-opacity=\"1\"/>\n",
       "<polyline clip-path=\"url(#clip142)\" style=\"stroke:#000000; stroke-linecap:butt; stroke-linejoin:round; stroke-width:4; stroke-opacity:1; fill:none\" points=\"\n",
       "  16348.2,1384.24 16348.2,1384.24 16409.1,1384.24 16348.2,1384.24 \n",
       "  \"/>\n",
       "<path clip-path=\"url(#clip142)\" d=\"\n",
       "M16409.1 1384.24 L16409.1 1384.24 L16470 1384.24 L16470 1384.24 L16409.1 1384.24 L16409.1 1384.24  Z\n",
       "  \" fill=\"#009af9\" fill-rule=\"evenodd\" fill-opacity=\"1\"/>\n",
       "<polyline clip-path=\"url(#clip142)\" style=\"stroke:#000000; stroke-linecap:butt; stroke-linejoin:round; stroke-width:4; stroke-opacity:1; fill:none\" points=\"\n",
       "  16409.1,1384.24 16409.1,1384.24 16470,1384.24 16409.1,1384.24 \n",
       "  \"/>\n",
       "<path clip-path=\"url(#clip142)\" d=\"\n",
       "M16470 1384.24 L16470 1384.24 L16530.9 1384.24 L16530.9 1384.24 L16470 1384.24 L16470 1384.24  Z\n",
       "  \" fill=\"#009af9\" fill-rule=\"evenodd\" fill-opacity=\"1\"/>\n",
       "<polyline clip-path=\"url(#clip142)\" style=\"stroke:#000000; stroke-linecap:butt; stroke-linejoin:round; stroke-width:4; stroke-opacity:1; fill:none\" points=\"\n",
       "  16470,1384.24 16470,1384.24 16530.9,1384.24 16470,1384.24 \n",
       "  \"/>\n",
       "<path clip-path=\"url(#clip142)\" d=\"\n",
       "M16530.9 1384.24 L16530.9 1384.24 L16591.8 1384.24 L16591.8 1384.24 L16530.9 1384.24 L16530.9 1384.24  Z\n",
       "  \" fill=\"#009af9\" fill-rule=\"evenodd\" fill-opacity=\"1\"/>\n",
       "<polyline clip-path=\"url(#clip142)\" style=\"stroke:#000000; stroke-linecap:butt; stroke-linejoin:round; stroke-width:4; stroke-opacity:1; fill:none\" points=\"\n",
       "  16530.9,1384.24 16530.9,1384.24 16591.8,1384.24 16530.9,1384.24 \n",
       "  \"/>\n",
       "<path clip-path=\"url(#clip142)\" d=\"\n",
       "M16591.8 1384.24 L16591.8 1384.24 L16652.6 1384.24 L16652.6 1384.24 L16591.8 1384.24 L16591.8 1384.24  Z\n",
       "  \" fill=\"#009af9\" fill-rule=\"evenodd\" fill-opacity=\"1\"/>\n",
       "<polyline clip-path=\"url(#clip142)\" style=\"stroke:#000000; stroke-linecap:butt; stroke-linejoin:round; stroke-width:4; stroke-opacity:1; fill:none\" points=\"\n",
       "  16591.8,1384.24 16591.8,1384.24 16652.6,1384.24 16591.8,1384.24 \n",
       "  \"/>\n",
       "<path clip-path=\"url(#clip142)\" d=\"\n",
       "M16652.6 1384.24 L16652.6 1384.24 L16713.5 1384.24 L16713.5 1384.24 L16652.6 1384.24 L16652.6 1384.24  Z\n",
       "  \" fill=\"#009af9\" fill-rule=\"evenodd\" fill-opacity=\"1\"/>\n",
       "<polyline clip-path=\"url(#clip142)\" style=\"stroke:#000000; stroke-linecap:butt; stroke-linejoin:round; stroke-width:4; stroke-opacity:1; fill:none\" points=\"\n",
       "  16652.6,1384.24 16652.6,1384.24 16713.5,1384.24 16652.6,1384.24 \n",
       "  \"/>\n",
       "<path clip-path=\"url(#clip142)\" d=\"\n",
       "M16713.5 1384.24 L16713.5 1384.24 L16774.4 1384.24 L16774.4 1384.24 L16713.5 1384.24 L16713.5 1384.24  Z\n",
       "  \" fill=\"#009af9\" fill-rule=\"evenodd\" fill-opacity=\"1\"/>\n",
       "<polyline clip-path=\"url(#clip142)\" style=\"stroke:#000000; stroke-linecap:butt; stroke-linejoin:round; stroke-width:4; stroke-opacity:1; fill:none\" points=\"\n",
       "  16713.5,1384.24 16713.5,1384.24 16774.4,1384.24 16713.5,1384.24 \n",
       "  \"/>\n",
       "<path clip-path=\"url(#clip142)\" d=\"\n",
       "M16774.4 1384.24 L16774.4 1384.24 L16835.3 1384.24 L16835.3 1384.24 L16774.4 1384.24 L16774.4 1384.24  Z\n",
       "  \" fill=\"#009af9\" fill-rule=\"evenodd\" fill-opacity=\"1\"/>\n",
       "<polyline clip-path=\"url(#clip142)\" style=\"stroke:#000000; stroke-linecap:butt; stroke-linejoin:round; stroke-width:4; stroke-opacity:1; fill:none\" points=\"\n",
       "  16774.4,1384.24 16774.4,1384.24 16835.3,1384.24 16774.4,1384.24 \n",
       "  \"/>\n",
       "<path clip-path=\"url(#clip142)\" d=\"\n",
       "M16835.3 1384.24 L16835.3 1384.24 L16896.2 1384.24 L16896.2 1384.24 L16835.3 1384.24 L16835.3 1384.24  Z\n",
       "  \" fill=\"#009af9\" fill-rule=\"evenodd\" fill-opacity=\"1\"/>\n",
       "<polyline clip-path=\"url(#clip142)\" style=\"stroke:#000000; stroke-linecap:butt; stroke-linejoin:round; stroke-width:4; stroke-opacity:1; fill:none\" points=\"\n",
       "  16835.3,1384.24 16835.3,1384.24 16896.2,1384.24 16835.3,1384.24 \n",
       "  \"/>\n",
       "<path clip-path=\"url(#clip142)\" d=\"\n",
       "M16896.2 1384.24 L16896.2 1384.24 L16957.1 1384.24 L16957.1 1384.24 L16896.2 1384.24 L16896.2 1384.24  Z\n",
       "  \" fill=\"#009af9\" fill-rule=\"evenodd\" fill-opacity=\"1\"/>\n",
       "<polyline clip-path=\"url(#clip142)\" style=\"stroke:#000000; stroke-linecap:butt; stroke-linejoin:round; stroke-width:4; stroke-opacity:1; fill:none\" points=\"\n",
       "  16896.2,1384.24 16896.2,1384.24 16957.1,1384.24 16896.2,1384.24 \n",
       "  \"/>\n",
       "<path clip-path=\"url(#clip142)\" d=\"\n",
       "M16957.1 1384.24 L16957.1 1384.24 L17018 1384.24 L17018 1384.24 L16957.1 1384.24 L16957.1 1384.24  Z\n",
       "  \" fill=\"#009af9\" fill-rule=\"evenodd\" fill-opacity=\"1\"/>\n",
       "<polyline clip-path=\"url(#clip142)\" style=\"stroke:#000000; stroke-linecap:butt; stroke-linejoin:round; stroke-width:4; stroke-opacity:1; fill:none\" points=\"\n",
       "  16957.1,1384.24 16957.1,1384.24 17018,1384.24 16957.1,1384.24 \n",
       "  \"/>\n",
       "<path clip-path=\"url(#clip142)\" d=\"\n",
       "M17018 1384.24 L17018 1384.24 L17078.9 1384.24 L17078.9 1384.24 L17018 1384.24 L17018 1384.24  Z\n",
       "  \" fill=\"#009af9\" fill-rule=\"evenodd\" fill-opacity=\"1\"/>\n",
       "<polyline clip-path=\"url(#clip142)\" style=\"stroke:#000000; stroke-linecap:butt; stroke-linejoin:round; stroke-width:4; stroke-opacity:1; fill:none\" points=\"\n",
       "  17018,1384.24 17018,1384.24 17078.9,1384.24 17018,1384.24 \n",
       "  \"/>\n",
       "<path clip-path=\"url(#clip142)\" d=\"\n",
       "M17078.9 1384.24 L17078.9 1384.24 L17139.8 1384.24 L17139.8 1384.24 L17078.9 1384.24 L17078.9 1384.24  Z\n",
       "  \" fill=\"#009af9\" fill-rule=\"evenodd\" fill-opacity=\"1\"/>\n",
       "<polyline clip-path=\"url(#clip142)\" style=\"stroke:#000000; stroke-linecap:butt; stroke-linejoin:round; stroke-width:4; stroke-opacity:1; fill:none\" points=\"\n",
       "  17078.9,1384.24 17078.9,1384.24 17139.8,1384.24 17078.9,1384.24 \n",
       "  \"/>\n",
       "<path clip-path=\"url(#clip142)\" d=\"\n",
       "M17139.8 1384.24 L17139.8 1384.24 L17200.7 1384.24 L17200.7 1384.24 L17139.8 1384.24 L17139.8 1384.24  Z\n",
       "  \" fill=\"#009af9\" fill-rule=\"evenodd\" fill-opacity=\"1\"/>\n",
       "<polyline clip-path=\"url(#clip142)\" style=\"stroke:#000000; stroke-linecap:butt; stroke-linejoin:round; stroke-width:4; stroke-opacity:1; fill:none\" points=\"\n",
       "  17139.8,1384.24 17139.8,1384.24 17200.7,1384.24 17139.8,1384.24 \n",
       "  \"/>\n",
       "<path clip-path=\"url(#clip142)\" d=\"\n",
       "M17200.7 1384.24 L17200.7 1384.24 L17261.5 1384.24 L17261.5 1384.24 L17200.7 1384.24 L17200.7 1384.24  Z\n",
       "  \" fill=\"#009af9\" fill-rule=\"evenodd\" fill-opacity=\"1\"/>\n",
       "<polyline clip-path=\"url(#clip142)\" style=\"stroke:#000000; stroke-linecap:butt; stroke-linejoin:round; stroke-width:4; stroke-opacity:1; fill:none\" points=\"\n",
       "  17200.7,1384.24 17200.7,1384.24 17261.5,1384.24 17200.7,1384.24 \n",
       "  \"/>\n",
       "<path clip-path=\"url(#clip142)\" d=\"\n",
       "M17261.5 1384.24 L17261.5 1384.24 L17322.4 1384.24 L17322.4 1384.24 L17261.5 1384.24 L17261.5 1384.24  Z\n",
       "  \" fill=\"#009af9\" fill-rule=\"evenodd\" fill-opacity=\"1\"/>\n",
       "<polyline clip-path=\"url(#clip142)\" style=\"stroke:#000000; stroke-linecap:butt; stroke-linejoin:round; stroke-width:4; stroke-opacity:1; fill:none\" points=\"\n",
       "  17261.5,1384.24 17261.5,1384.24 17322.4,1384.24 17261.5,1384.24 \n",
       "  \"/>\n",
       "<path clip-path=\"url(#clip142)\" d=\"\n",
       "M17322.4 1384.24 L17322.4 1384.24 L17383.3 1384.24 L17383.3 1384.24 L17322.4 1384.24 L17322.4 1384.24  Z\n",
       "  \" fill=\"#009af9\" fill-rule=\"evenodd\" fill-opacity=\"1\"/>\n",
       "<polyline clip-path=\"url(#clip142)\" style=\"stroke:#000000; stroke-linecap:butt; stroke-linejoin:round; stroke-width:4; stroke-opacity:1; fill:none\" points=\"\n",
       "  17322.4,1384.24 17322.4,1384.24 17383.3,1384.24 17322.4,1384.24 \n",
       "  \"/>\n",
       "<path clip-path=\"url(#clip142)\" d=\"\n",
       "M17383.3 1384.24 L17383.3 1384.24 L17444.2 1384.24 L17444.2 1384.24 L17383.3 1384.24 L17383.3 1384.24  Z\n",
       "  \" fill=\"#009af9\" fill-rule=\"evenodd\" fill-opacity=\"1\"/>\n",
       "<polyline clip-path=\"url(#clip142)\" style=\"stroke:#000000; stroke-linecap:butt; stroke-linejoin:round; stroke-width:4; stroke-opacity:1; fill:none\" points=\"\n",
       "  17383.3,1384.24 17383.3,1384.24 17444.2,1384.24 17383.3,1384.24 \n",
       "  \"/>\n",
       "<path clip-path=\"url(#clip142)\" d=\"\n",
       "M17444.2 1384.24 L17444.2 1384.24 L17505.1 1384.24 L17505.1 1384.24 L17444.2 1384.24 L17444.2 1384.24  Z\n",
       "  \" fill=\"#009af9\" fill-rule=\"evenodd\" fill-opacity=\"1\"/>\n",
       "<polyline clip-path=\"url(#clip142)\" style=\"stroke:#000000; stroke-linecap:butt; stroke-linejoin:round; stroke-width:4; stroke-opacity:1; fill:none\" points=\"\n",
       "  17444.2,1384.24 17444.2,1384.24 17505.1,1384.24 17444.2,1384.24 \n",
       "  \"/>\n",
       "<path clip-path=\"url(#clip142)\" d=\"\n",
       "M17505.1 1384.24 L17505.1 1384.24 L17566 1384.24 L17566 1384.24 L17505.1 1384.24 L17505.1 1384.24  Z\n",
       "  \" fill=\"#009af9\" fill-rule=\"evenodd\" fill-opacity=\"1\"/>\n",
       "<polyline clip-path=\"url(#clip142)\" style=\"stroke:#000000; stroke-linecap:butt; stroke-linejoin:round; stroke-width:4; stroke-opacity:1; fill:none\" points=\"\n",
       "  17505.1,1384.24 17505.1,1384.24 17566,1384.24 17505.1,1384.24 \n",
       "  \"/>\n",
       "<path clip-path=\"url(#clip142)\" d=\"\n",
       "M17566 1384.24 L17566 1384.24 L17626.9 1384.24 L17626.9 1384.24 L17566 1384.24 L17566 1384.24  Z\n",
       "  \" fill=\"#009af9\" fill-rule=\"evenodd\" fill-opacity=\"1\"/>\n",
       "<polyline clip-path=\"url(#clip142)\" style=\"stroke:#000000; stroke-linecap:butt; stroke-linejoin:round; stroke-width:4; stroke-opacity:1; fill:none\" points=\"\n",
       "  17566,1384.24 17566,1384.24 17626.9,1384.24 17566,1384.24 \n",
       "  \"/>\n",
       "<path clip-path=\"url(#clip142)\" d=\"\n",
       "M17626.9 1384.24 L17626.9 1384.24 L17687.8 1384.24 L17687.8 1384.24 L17626.9 1384.24 L17626.9 1384.24  Z\n",
       "  \" fill=\"#009af9\" fill-rule=\"evenodd\" fill-opacity=\"1\"/>\n",
       "<polyline clip-path=\"url(#clip142)\" style=\"stroke:#000000; stroke-linecap:butt; stroke-linejoin:round; stroke-width:4; stroke-opacity:1; fill:none\" points=\"\n",
       "  17626.9,1384.24 17626.9,1384.24 17687.8,1384.24 17626.9,1384.24 \n",
       "  \"/>\n",
       "<path clip-path=\"url(#clip142)\" d=\"\n",
       "M17687.8 1384.24 L17687.8 1384.24 L17748.7 1384.24 L17748.7 1384.24 L17687.8 1384.24 L17687.8 1384.24  Z\n",
       "  \" fill=\"#009af9\" fill-rule=\"evenodd\" fill-opacity=\"1\"/>\n",
       "<polyline clip-path=\"url(#clip142)\" style=\"stroke:#000000; stroke-linecap:butt; stroke-linejoin:round; stroke-width:4; stroke-opacity:1; fill:none\" points=\"\n",
       "  17687.8,1384.24 17687.8,1384.24 17748.7,1384.24 17687.8,1384.24 \n",
       "  \"/>\n",
       "<path clip-path=\"url(#clip142)\" d=\"\n",
       "M17748.7 1384.24 L17748.7 1384.24 L17809.5 1384.24 L17809.5 1384.24 L17748.7 1384.24 L17748.7 1384.24  Z\n",
       "  \" fill=\"#009af9\" fill-rule=\"evenodd\" fill-opacity=\"1\"/>\n",
       "<polyline clip-path=\"url(#clip142)\" style=\"stroke:#000000; stroke-linecap:butt; stroke-linejoin:round; stroke-width:4; stroke-opacity:1; fill:none\" points=\"\n",
       "  17748.7,1384.24 17748.7,1384.24 17809.5,1384.24 17748.7,1384.24 \n",
       "  \"/>\n",
       "<path clip-path=\"url(#clip142)\" d=\"\n",
       "M17809.5 1384.24 L17809.5 1384.24 L17870.4 1384.24 L17870.4 1384.24 L17809.5 1384.24 L17809.5 1384.24  Z\n",
       "  \" fill=\"#009af9\" fill-rule=\"evenodd\" fill-opacity=\"1\"/>\n",
       "<polyline clip-path=\"url(#clip142)\" style=\"stroke:#000000; stroke-linecap:butt; stroke-linejoin:round; stroke-width:4; stroke-opacity:1; fill:none\" points=\"\n",
       "  17809.5,1384.24 17809.5,1384.24 17870.4,1384.24 17809.5,1384.24 \n",
       "  \"/>\n",
       "<path clip-path=\"url(#clip142)\" d=\"\n",
       "M17870.4 1384.24 L17870.4 1384.24 L17931.3 1384.24 L17931.3 1384.24 L17870.4 1384.24 L17870.4 1384.24  Z\n",
       "  \" fill=\"#009af9\" fill-rule=\"evenodd\" fill-opacity=\"1\"/>\n",
       "<polyline clip-path=\"url(#clip142)\" style=\"stroke:#000000; stroke-linecap:butt; stroke-linejoin:round; stroke-width:4; stroke-opacity:1; fill:none\" points=\"\n",
       "  17870.4,1384.24 17870.4,1384.24 17931.3,1384.24 17870.4,1384.24 \n",
       "  \"/>\n",
       "<path clip-path=\"url(#clip142)\" d=\"\n",
       "M17931.3 1384.24 L17931.3 1384.24 L17992.2 1384.24 L17992.2 1384.24 L17931.3 1384.24 L17931.3 1384.24  Z\n",
       "  \" fill=\"#009af9\" fill-rule=\"evenodd\" fill-opacity=\"1\"/>\n",
       "<polyline clip-path=\"url(#clip142)\" style=\"stroke:#000000; stroke-linecap:butt; stroke-linejoin:round; stroke-width:4; stroke-opacity:1; fill:none\" points=\"\n",
       "  17931.3,1384.24 17931.3,1384.24 17992.2,1384.24 17931.3,1384.24 \n",
       "  \"/>\n",
       "<path clip-path=\"url(#clip142)\" d=\"\n",
       "M17992.2 1384.24 L17992.2 1384.24 L18053.1 1384.24 L18053.1 1384.24 L17992.2 1384.24 L17992.2 1384.24  Z\n",
       "  \" fill=\"#009af9\" fill-rule=\"evenodd\" fill-opacity=\"1\"/>\n",
       "<polyline clip-path=\"url(#clip142)\" style=\"stroke:#000000; stroke-linecap:butt; stroke-linejoin:round; stroke-width:4; stroke-opacity:1; fill:none\" points=\"\n",
       "  17992.2,1384.24 17992.2,1384.24 18053.1,1384.24 17992.2,1384.24 \n",
       "  \"/>\n",
       "<path clip-path=\"url(#clip142)\" d=\"\n",
       "M18053.1 1384.24 L18053.1 1384.24 L18114 1384.24 L18114 1384.24 L18053.1 1384.24 L18053.1 1384.24  Z\n",
       "  \" fill=\"#009af9\" fill-rule=\"evenodd\" fill-opacity=\"1\"/>\n",
       "<polyline clip-path=\"url(#clip142)\" style=\"stroke:#000000; stroke-linecap:butt; stroke-linejoin:round; stroke-width:4; stroke-opacity:1; fill:none\" points=\"\n",
       "  18053.1,1384.24 18053.1,1384.24 18114,1384.24 18053.1,1384.24 \n",
       "  \"/>\n",
       "<path clip-path=\"url(#clip142)\" d=\"\n",
       "M18114 1384.24 L18114 1384.24 L18174.9 1384.24 L18174.9 1384.24 L18114 1384.24 L18114 1384.24  Z\n",
       "  \" fill=\"#009af9\" fill-rule=\"evenodd\" fill-opacity=\"1\"/>\n",
       "<polyline clip-path=\"url(#clip142)\" style=\"stroke:#000000; stroke-linecap:butt; stroke-linejoin:round; stroke-width:4; stroke-opacity:1; fill:none\" points=\"\n",
       "  18114,1384.24 18114,1384.24 18174.9,1384.24 18114,1384.24 \n",
       "  \"/>\n",
       "<path clip-path=\"url(#clip142)\" d=\"\n",
       "M18174.9 1384.24 L18174.9 1384.24 L18235.8 1384.24 L18235.8 1384.24 L18174.9 1384.24 L18174.9 1384.24  Z\n",
       "  \" fill=\"#009af9\" fill-rule=\"evenodd\" fill-opacity=\"1\"/>\n",
       "<polyline clip-path=\"url(#clip142)\" style=\"stroke:#000000; stroke-linecap:butt; stroke-linejoin:round; stroke-width:4; stroke-opacity:1; fill:none\" points=\"\n",
       "  18174.9,1384.24 18174.9,1384.24 18235.8,1384.24 18174.9,1384.24 \n",
       "  \"/>\n",
       "<path clip-path=\"url(#clip142)\" d=\"\n",
       "M18235.8 1384.24 L18235.8 1384.24 L18296.7 1384.24 L18296.7 1384.24 L18235.8 1384.24 L18235.8 1384.24  Z\n",
       "  \" fill=\"#009af9\" fill-rule=\"evenodd\" fill-opacity=\"1\"/>\n",
       "<polyline clip-path=\"url(#clip142)\" style=\"stroke:#000000; stroke-linecap:butt; stroke-linejoin:round; stroke-width:4; stroke-opacity:1; fill:none\" points=\"\n",
       "  18235.8,1384.24 18235.8,1384.24 18296.7,1384.24 18235.8,1384.24 \n",
       "  \"/>\n",
       "<path clip-path=\"url(#clip142)\" d=\"\n",
       "M18296.7 1384.24 L18296.7 1384.24 L18357.5 1384.24 L18357.5 1384.24 L18296.7 1384.24 L18296.7 1384.24  Z\n",
       "  \" fill=\"#009af9\" fill-rule=\"evenodd\" fill-opacity=\"1\"/>\n",
       "<polyline clip-path=\"url(#clip142)\" style=\"stroke:#000000; stroke-linecap:butt; stroke-linejoin:round; stroke-width:4; stroke-opacity:1; fill:none\" points=\"\n",
       "  18296.7,1384.24 18296.7,1384.24 18357.5,1384.24 18296.7,1384.24 \n",
       "  \"/>\n",
       "<path clip-path=\"url(#clip142)\" d=\"\n",
       "M18357.5 1384.24 L18357.5 1384.24 L18418.4 1384.24 L18418.4 1384.24 L18357.5 1384.24 L18357.5 1384.24  Z\n",
       "  \" fill=\"#009af9\" fill-rule=\"evenodd\" fill-opacity=\"1\"/>\n",
       "<polyline clip-path=\"url(#clip142)\" style=\"stroke:#000000; stroke-linecap:butt; stroke-linejoin:round; stroke-width:4; stroke-opacity:1; fill:none\" points=\"\n",
       "  18357.5,1384.24 18357.5,1384.24 18418.4,1384.24 18357.5,1384.24 \n",
       "  \"/>\n",
       "<path clip-path=\"url(#clip142)\" d=\"\n",
       "M18418.4 1384.24 L18418.4 1384.24 L18479.3 1384.24 L18479.3 1384.24 L18418.4 1384.24 L18418.4 1384.24  Z\n",
       "  \" fill=\"#009af9\" fill-rule=\"evenodd\" fill-opacity=\"1\"/>\n",
       "<polyline clip-path=\"url(#clip142)\" style=\"stroke:#000000; stroke-linecap:butt; stroke-linejoin:round; stroke-width:4; stroke-opacity:1; fill:none\" points=\"\n",
       "  18418.4,1384.24 18418.4,1384.24 18479.3,1384.24 18418.4,1384.24 \n",
       "  \"/>\n",
       "<path clip-path=\"url(#clip142)\" d=\"\n",
       "M18479.3 1384.24 L18479.3 1384.24 L18540.2 1384.24 L18540.2 1384.24 L18479.3 1384.24 L18479.3 1384.24  Z\n",
       "  \" fill=\"#009af9\" fill-rule=\"evenodd\" fill-opacity=\"1\"/>\n",
       "<polyline clip-path=\"url(#clip142)\" style=\"stroke:#000000; stroke-linecap:butt; stroke-linejoin:round; stroke-width:4; stroke-opacity:1; fill:none\" points=\"\n",
       "  18479.3,1384.24 18479.3,1384.24 18540.2,1384.24 18479.3,1384.24 \n",
       "  \"/>\n",
       "<path clip-path=\"url(#clip142)\" d=\"\n",
       "M18540.2 1384.24 L18540.2 1384.24 L18601.1 1384.24 L18601.1 1384.24 L18540.2 1384.24 L18540.2 1384.24  Z\n",
       "  \" fill=\"#009af9\" fill-rule=\"evenodd\" fill-opacity=\"1\"/>\n",
       "<polyline clip-path=\"url(#clip142)\" style=\"stroke:#000000; stroke-linecap:butt; stroke-linejoin:round; stroke-width:4; stroke-opacity:1; fill:none\" points=\"\n",
       "  18540.2,1384.24 18540.2,1384.24 18601.1,1384.24 18540.2,1384.24 \n",
       "  \"/>\n",
       "<path clip-path=\"url(#clip142)\" d=\"\n",
       "M18601.1 1384.24 L18601.1 1384.24 L18662 1384.24 L18662 1384.24 L18601.1 1384.24 L18601.1 1384.24  Z\n",
       "  \" fill=\"#009af9\" fill-rule=\"evenodd\" fill-opacity=\"1\"/>\n",
       "<polyline clip-path=\"url(#clip142)\" style=\"stroke:#000000; stroke-linecap:butt; stroke-linejoin:round; stroke-width:4; stroke-opacity:1; fill:none\" points=\"\n",
       "  18601.1,1384.24 18601.1,1384.24 18662,1384.24 18601.1,1384.24 \n",
       "  \"/>\n",
       "<path clip-path=\"url(#clip142)\" d=\"\n",
       "M18662 1384.24 L18662 1384.24 L18722.9 1384.24 L18722.9 1384.24 L18662 1384.24 L18662 1384.24  Z\n",
       "  \" fill=\"#009af9\" fill-rule=\"evenodd\" fill-opacity=\"1\"/>\n",
       "<polyline clip-path=\"url(#clip142)\" style=\"stroke:#000000; stroke-linecap:butt; stroke-linejoin:round; stroke-width:4; stroke-opacity:1; fill:none\" points=\"\n",
       "  18662,1384.24 18662,1384.24 18722.9,1384.24 18662,1384.24 \n",
       "  \"/>\n",
       "<path clip-path=\"url(#clip142)\" d=\"\n",
       "M18722.9 1384.24 L18722.9 1384.24 L18783.8 1384.24 L18783.8 1384.24 L18722.9 1384.24 L18722.9 1384.24  Z\n",
       "  \" fill=\"#009af9\" fill-rule=\"evenodd\" fill-opacity=\"1\"/>\n",
       "<polyline clip-path=\"url(#clip142)\" style=\"stroke:#000000; stroke-linecap:butt; stroke-linejoin:round; stroke-width:4; stroke-opacity:1; fill:none\" points=\"\n",
       "  18722.9,1384.24 18722.9,1384.24 18783.8,1384.24 18722.9,1384.24 \n",
       "  \"/>\n",
       "<path clip-path=\"url(#clip142)\" d=\"\n",
       "M18783.8 1384.24 L18783.8 1384.24 L18844.7 1384.24 L18844.7 1384.24 L18783.8 1384.24 L18783.8 1384.24  Z\n",
       "  \" fill=\"#009af9\" fill-rule=\"evenodd\" fill-opacity=\"1\"/>\n",
       "<polyline clip-path=\"url(#clip142)\" style=\"stroke:#000000; stroke-linecap:butt; stroke-linejoin:round; stroke-width:4; stroke-opacity:1; fill:none\" points=\"\n",
       "  18783.8,1384.24 18783.8,1384.24 18844.7,1384.24 18783.8,1384.24 \n",
       "  \"/>\n",
       "<path clip-path=\"url(#clip142)\" d=\"\n",
       "M18844.7 1384.24 L18844.7 1384.24 L18905.6 1384.24 L18905.6 1384.24 L18844.7 1384.24 L18844.7 1384.24  Z\n",
       "  \" fill=\"#009af9\" fill-rule=\"evenodd\" fill-opacity=\"1\"/>\n",
       "<polyline clip-path=\"url(#clip142)\" style=\"stroke:#000000; stroke-linecap:butt; stroke-linejoin:round; stroke-width:4; stroke-opacity:1; fill:none\" points=\"\n",
       "  18844.7,1384.24 18844.7,1384.24 18905.6,1384.24 18844.7,1384.24 \n",
       "  \"/>\n",
       "<path clip-path=\"url(#clip142)\" d=\"\n",
       "M18905.6 1384.24 L18905.6 1384.24 L18966.4 1384.24 L18966.4 1384.24 L18905.6 1384.24 L18905.6 1384.24  Z\n",
       "  \" fill=\"#009af9\" fill-rule=\"evenodd\" fill-opacity=\"1\"/>\n",
       "<polyline clip-path=\"url(#clip142)\" style=\"stroke:#000000; stroke-linecap:butt; stroke-linejoin:round; stroke-width:4; stroke-opacity:1; fill:none\" points=\"\n",
       "  18905.6,1384.24 18905.6,1384.24 18966.4,1384.24 18905.6,1384.24 \n",
       "  \"/>\n",
       "<path clip-path=\"url(#clip142)\" d=\"\n",
       "M18966.4 1384.24 L18966.4 1384.24 L19027.3 1384.24 L19027.3 1384.24 L18966.4 1384.24 L18966.4 1384.24  Z\n",
       "  \" fill=\"#009af9\" fill-rule=\"evenodd\" fill-opacity=\"1\"/>\n",
       "<polyline clip-path=\"url(#clip142)\" style=\"stroke:#000000; stroke-linecap:butt; stroke-linejoin:round; stroke-width:4; stroke-opacity:1; fill:none\" points=\"\n",
       "  18966.4,1384.24 18966.4,1384.24 19027.3,1384.24 18966.4,1384.24 \n",
       "  \"/>\n",
       "<path clip-path=\"url(#clip142)\" d=\"\n",
       "M19027.3 1384.24 L19027.3 1384.24 L19088.2 1384.24 L19088.2 1384.24 L19027.3 1384.24 L19027.3 1384.24  Z\n",
       "  \" fill=\"#009af9\" fill-rule=\"evenodd\" fill-opacity=\"1\"/>\n",
       "<polyline clip-path=\"url(#clip142)\" style=\"stroke:#000000; stroke-linecap:butt; stroke-linejoin:round; stroke-width:4; stroke-opacity:1; fill:none\" points=\"\n",
       "  19027.3,1384.24 19027.3,1384.24 19088.2,1384.24 19027.3,1384.24 \n",
       "  \"/>\n",
       "<path clip-path=\"url(#clip142)\" d=\"\n",
       "M19088.2 1384.24 L19088.2 1384.24 L19149.1 1384.24 L19149.1 1384.24 L19088.2 1384.24 L19088.2 1384.24  Z\n",
       "  \" fill=\"#009af9\" fill-rule=\"evenodd\" fill-opacity=\"1\"/>\n",
       "<polyline clip-path=\"url(#clip142)\" style=\"stroke:#000000; stroke-linecap:butt; stroke-linejoin:round; stroke-width:4; stroke-opacity:1; fill:none\" points=\"\n",
       "  19088.2,1384.24 19088.2,1384.24 19149.1,1384.24 19088.2,1384.24 \n",
       "  \"/>\n",
       "<path clip-path=\"url(#clip142)\" d=\"\n",
       "M19149.1 1384.24 L19149.1 1384.24 L19210 1384.24 L19210 1384.24 L19149.1 1384.24 L19149.1 1384.24  Z\n",
       "  \" fill=\"#009af9\" fill-rule=\"evenodd\" fill-opacity=\"1\"/>\n",
       "<polyline clip-path=\"url(#clip142)\" style=\"stroke:#000000; stroke-linecap:butt; stroke-linejoin:round; stroke-width:4; stroke-opacity:1; fill:none\" points=\"\n",
       "  19149.1,1384.24 19149.1,1384.24 19210,1384.24 19149.1,1384.24 \n",
       "  \"/>\n",
       "<path clip-path=\"url(#clip142)\" d=\"\n",
       "M19210 1384.24 L19210 1384.24 L19270.9 1384.24 L19270.9 1384.24 L19210 1384.24 L19210 1384.24  Z\n",
       "  \" fill=\"#009af9\" fill-rule=\"evenodd\" fill-opacity=\"1\"/>\n",
       "<polyline clip-path=\"url(#clip142)\" style=\"stroke:#000000; stroke-linecap:butt; stroke-linejoin:round; stroke-width:4; stroke-opacity:1; fill:none\" points=\"\n",
       "  19210,1384.24 19210,1384.24 19270.9,1384.24 19210,1384.24 \n",
       "  \"/>\n",
       "<path clip-path=\"url(#clip142)\" d=\"\n",
       "M19270.9 1384.24 L19270.9 1384.24 L19331.8 1384.24 L19331.8 1384.24 L19270.9 1384.24 L19270.9 1384.24  Z\n",
       "  \" fill=\"#009af9\" fill-rule=\"evenodd\" fill-opacity=\"1\"/>\n",
       "<polyline clip-path=\"url(#clip142)\" style=\"stroke:#000000; stroke-linecap:butt; stroke-linejoin:round; stroke-width:4; stroke-opacity:1; fill:none\" points=\"\n",
       "  19270.9,1384.24 19270.9,1384.24 19331.8,1384.24 19270.9,1384.24 \n",
       "  \"/>\n",
       "<path clip-path=\"url(#clip142)\" d=\"\n",
       "M19331.8 1384.24 L19331.8 1384.24 L19392.7 1384.24 L19392.7 1384.24 L19331.8 1384.24 L19331.8 1384.24  Z\n",
       "  \" fill=\"#009af9\" fill-rule=\"evenodd\" fill-opacity=\"1\"/>\n",
       "<polyline clip-path=\"url(#clip142)\" style=\"stroke:#000000; stroke-linecap:butt; stroke-linejoin:round; stroke-width:4; stroke-opacity:1; fill:none\" points=\"\n",
       "  19331.8,1384.24 19331.8,1384.24 19392.7,1384.24 19331.8,1384.24 \n",
       "  \"/>\n",
       "<path clip-path=\"url(#clip142)\" d=\"\n",
       "M19392.7 1384.24 L19392.7 1384.24 L19453.6 1384.24 L19453.6 1384.24 L19392.7 1384.24 L19392.7 1384.24  Z\n",
       "  \" fill=\"#009af9\" fill-rule=\"evenodd\" fill-opacity=\"1\"/>\n",
       "<polyline clip-path=\"url(#clip142)\" style=\"stroke:#000000; stroke-linecap:butt; stroke-linejoin:round; stroke-width:4; stroke-opacity:1; fill:none\" points=\"\n",
       "  19392.7,1384.24 19392.7,1384.24 19453.6,1384.24 19392.7,1384.24 \n",
       "  \"/>\n",
       "<path clip-path=\"url(#clip142)\" d=\"\n",
       "M19453.6 1384.24 L19453.6 1384.24 L19514.4 1384.24 L19514.4 1384.24 L19453.6 1384.24 L19453.6 1384.24  Z\n",
       "  \" fill=\"#009af9\" fill-rule=\"evenodd\" fill-opacity=\"1\"/>\n",
       "<polyline clip-path=\"url(#clip142)\" style=\"stroke:#000000; stroke-linecap:butt; stroke-linejoin:round; stroke-width:4; stroke-opacity:1; fill:none\" points=\"\n",
       "  19453.6,1384.24 19453.6,1384.24 19514.4,1384.24 19453.6,1384.24 \n",
       "  \"/>\n",
       "<path clip-path=\"url(#clip142)\" d=\"\n",
       "M19514.4 1384.24 L19514.4 1384.24 L19575.3 1384.24 L19575.3 1384.24 L19514.4 1384.24 L19514.4 1384.24  Z\n",
       "  \" fill=\"#009af9\" fill-rule=\"evenodd\" fill-opacity=\"1\"/>\n",
       "<polyline clip-path=\"url(#clip142)\" style=\"stroke:#000000; stroke-linecap:butt; stroke-linejoin:round; stroke-width:4; stroke-opacity:1; fill:none\" points=\"\n",
       "  19514.4,1384.24 19514.4,1384.24 19575.3,1384.24 19514.4,1384.24 \n",
       "  \"/>\n",
       "<path clip-path=\"url(#clip142)\" d=\"\n",
       "M19575.3 1384.24 L19575.3 1384.24 L19636.2 1384.24 L19636.2 1384.24 L19575.3 1384.24 L19575.3 1384.24  Z\n",
       "  \" fill=\"#009af9\" fill-rule=\"evenodd\" fill-opacity=\"1\"/>\n",
       "<polyline clip-path=\"url(#clip142)\" style=\"stroke:#000000; stroke-linecap:butt; stroke-linejoin:round; stroke-width:4; stroke-opacity:1; fill:none\" points=\"\n",
       "  19575.3,1384.24 19575.3,1384.24 19636.2,1384.24 19575.3,1384.24 \n",
       "  \"/>\n",
       "<path clip-path=\"url(#clip142)\" d=\"\n",
       "M19636.2 1384.24 L19636.2 1384.24 L19697.1 1384.24 L19697.1 1384.24 L19636.2 1384.24 L19636.2 1384.24  Z\n",
       "  \" fill=\"#009af9\" fill-rule=\"evenodd\" fill-opacity=\"1\"/>\n",
       "<polyline clip-path=\"url(#clip142)\" style=\"stroke:#000000; stroke-linecap:butt; stroke-linejoin:round; stroke-width:4; stroke-opacity:1; fill:none\" points=\"\n",
       "  19636.2,1384.24 19636.2,1384.24 19697.1,1384.24 19636.2,1384.24 \n",
       "  \"/>\n",
       "<path clip-path=\"url(#clip142)\" d=\"\n",
       "M19697.1 1384.24 L19697.1 1384.24 L19758 1384.24 L19758 1384.24 L19697.1 1384.24 L19697.1 1384.24  Z\n",
       "  \" fill=\"#009af9\" fill-rule=\"evenodd\" fill-opacity=\"1\"/>\n",
       "<polyline clip-path=\"url(#clip142)\" style=\"stroke:#000000; stroke-linecap:butt; stroke-linejoin:round; stroke-width:4; stroke-opacity:1; fill:none\" points=\"\n",
       "  19697.1,1384.24 19697.1,1384.24 19758,1384.24 19697.1,1384.24 \n",
       "  \"/>\n",
       "<path clip-path=\"url(#clip142)\" d=\"\n",
       "M19758 1384.24 L19758 1384.24 L19818.9 1384.24 L19818.9 1384.24 L19758 1384.24 L19758 1384.24  Z\n",
       "  \" fill=\"#009af9\" fill-rule=\"evenodd\" fill-opacity=\"1\"/>\n",
       "<polyline clip-path=\"url(#clip142)\" style=\"stroke:#000000; stroke-linecap:butt; stroke-linejoin:round; stroke-width:4; stroke-opacity:1; fill:none\" points=\"\n",
       "  19758,1384.24 19758,1384.24 19818.9,1384.24 19758,1384.24 \n",
       "  \"/>\n",
       "<path clip-path=\"url(#clip142)\" d=\"\n",
       "M19818.9 1384.24 L19818.9 1384.24 L19879.8 1384.24 L19879.8 1384.24 L19818.9 1384.24 L19818.9 1384.24  Z\n",
       "  \" fill=\"#009af9\" fill-rule=\"evenodd\" fill-opacity=\"1\"/>\n",
       "<polyline clip-path=\"url(#clip142)\" style=\"stroke:#000000; stroke-linecap:butt; stroke-linejoin:round; stroke-width:4; stroke-opacity:1; fill:none\" points=\"\n",
       "  19818.9,1384.24 19818.9,1384.24 19879.8,1384.24 19818.9,1384.24 \n",
       "  \"/>\n",
       "<path clip-path=\"url(#clip142)\" d=\"\n",
       "M19879.8 1384.24 L19879.8 1384.24 L19940.7 1384.24 L19940.7 1384.24 L19879.8 1384.24 L19879.8 1384.24  Z\n",
       "  \" fill=\"#009af9\" fill-rule=\"evenodd\" fill-opacity=\"1\"/>\n",
       "<polyline clip-path=\"url(#clip142)\" style=\"stroke:#000000; stroke-linecap:butt; stroke-linejoin:round; stroke-width:4; stroke-opacity:1; fill:none\" points=\"\n",
       "  19879.8,1384.24 19879.8,1384.24 19940.7,1384.24 19879.8,1384.24 \n",
       "  \"/>\n",
       "<path clip-path=\"url(#clip142)\" d=\"\n",
       "M19940.7 1384.24 L19940.7 1384.24 L20001.6 1384.24 L20001.6 1384.24 L19940.7 1384.24 L19940.7 1384.24  Z\n",
       "  \" fill=\"#009af9\" fill-rule=\"evenodd\" fill-opacity=\"1\"/>\n",
       "<polyline clip-path=\"url(#clip142)\" style=\"stroke:#000000; stroke-linecap:butt; stroke-linejoin:round; stroke-width:4; stroke-opacity:1; fill:none\" points=\"\n",
       "  19940.7,1384.24 19940.7,1384.24 20001.6,1384.24 19940.7,1384.24 \n",
       "  \"/>\n",
       "<path clip-path=\"url(#clip142)\" d=\"\n",
       "M20001.6 1384.24 L20001.6 1384.24 L20062.5 1384.24 L20062.5 1384.24 L20001.6 1384.24 L20001.6 1384.24  Z\n",
       "  \" fill=\"#009af9\" fill-rule=\"evenodd\" fill-opacity=\"1\"/>\n",
       "<polyline clip-path=\"url(#clip142)\" style=\"stroke:#000000; stroke-linecap:butt; stroke-linejoin:round; stroke-width:4; stroke-opacity:1; fill:none\" points=\"\n",
       "  20001.6,1384.24 20001.6,1384.24 20062.5,1384.24 20001.6,1384.24 \n",
       "  \"/>\n",
       "<path clip-path=\"url(#clip142)\" d=\"\n",
       "M20062.5 1384.24 L20062.5 1384.24 L20123.3 1384.24 L20123.3 1384.24 L20062.5 1384.24 L20062.5 1384.24  Z\n",
       "  \" fill=\"#009af9\" fill-rule=\"evenodd\" fill-opacity=\"1\"/>\n",
       "<polyline clip-path=\"url(#clip142)\" style=\"stroke:#000000; stroke-linecap:butt; stroke-linejoin:round; stroke-width:4; stroke-opacity:1; fill:none\" points=\"\n",
       "  20062.5,1384.24 20062.5,1384.24 20123.3,1384.24 20062.5,1384.24 \n",
       "  \"/>\n",
       "<path clip-path=\"url(#clip142)\" d=\"\n",
       "M20123.3 1384.24 L20123.3 1384.24 L20184.2 1384.24 L20184.2 1384.24 L20123.3 1384.24 L20123.3 1384.24  Z\n",
       "  \" fill=\"#009af9\" fill-rule=\"evenodd\" fill-opacity=\"1\"/>\n",
       "<polyline clip-path=\"url(#clip142)\" style=\"stroke:#000000; stroke-linecap:butt; stroke-linejoin:round; stroke-width:4; stroke-opacity:1; fill:none\" points=\"\n",
       "  20123.3,1384.24 20123.3,1384.24 20184.2,1384.24 20123.3,1384.24 \n",
       "  \"/>\n",
       "<path clip-path=\"url(#clip142)\" d=\"\n",
       "M20184.2 1384.24 L20184.2 1384.24 L20245.1 1384.24 L20245.1 1384.24 L20184.2 1384.24 L20184.2 1384.24  Z\n",
       "  \" fill=\"#009af9\" fill-rule=\"evenodd\" fill-opacity=\"1\"/>\n",
       "<polyline clip-path=\"url(#clip142)\" style=\"stroke:#000000; stroke-linecap:butt; stroke-linejoin:round; stroke-width:4; stroke-opacity:1; fill:none\" points=\"\n",
       "  20184.2,1384.24 20184.2,1384.24 20245.1,1384.24 20184.2,1384.24 \n",
       "  \"/>\n",
       "<path clip-path=\"url(#clip142)\" d=\"\n",
       "M20245.1 1384.24 L20245.1 1384.24 L20306 1384.24 L20306 1384.24 L20245.1 1384.24 L20245.1 1384.24  Z\n",
       "  \" fill=\"#009af9\" fill-rule=\"evenodd\" fill-opacity=\"1\"/>\n",
       "<polyline clip-path=\"url(#clip142)\" style=\"stroke:#000000; stroke-linecap:butt; stroke-linejoin:round; stroke-width:4; stroke-opacity:1; fill:none\" points=\"\n",
       "  20245.1,1384.24 20245.1,1384.24 20306,1384.24 20245.1,1384.24 \n",
       "  \"/>\n",
       "<path clip-path=\"url(#clip142)\" d=\"\n",
       "M20306 1384.24 L20306 1384.24 L20366.9 1384.24 L20366.9 1384.24 L20306 1384.24 L20306 1384.24  Z\n",
       "  \" fill=\"#009af9\" fill-rule=\"evenodd\" fill-opacity=\"1\"/>\n",
       "<polyline clip-path=\"url(#clip142)\" style=\"stroke:#000000; stroke-linecap:butt; stroke-linejoin:round; stroke-width:4; stroke-opacity:1; fill:none\" points=\"\n",
       "  20306,1384.24 20306,1384.24 20366.9,1384.24 20306,1384.24 \n",
       "  \"/>\n",
       "<path clip-path=\"url(#clip142)\" d=\"\n",
       "M20366.9 1384.24 L20366.9 1384.24 L20427.8 1384.24 L20427.8 1384.24 L20366.9 1384.24 L20366.9 1384.24  Z\n",
       "  \" fill=\"#009af9\" fill-rule=\"evenodd\" fill-opacity=\"1\"/>\n",
       "<polyline clip-path=\"url(#clip142)\" style=\"stroke:#000000; stroke-linecap:butt; stroke-linejoin:round; stroke-width:4; stroke-opacity:1; fill:none\" points=\"\n",
       "  20366.9,1384.24 20366.9,1384.24 20427.8,1384.24 20366.9,1384.24 \n",
       "  \"/>\n",
       "<path clip-path=\"url(#clip142)\" d=\"\n",
       "M20427.8 1384.24 L20427.8 1384.24 L20488.7 1384.24 L20488.7 1384.24 L20427.8 1384.24 L20427.8 1384.24  Z\n",
       "  \" fill=\"#009af9\" fill-rule=\"evenodd\" fill-opacity=\"1\"/>\n",
       "<polyline clip-path=\"url(#clip142)\" style=\"stroke:#000000; stroke-linecap:butt; stroke-linejoin:round; stroke-width:4; stroke-opacity:1; fill:none\" points=\"\n",
       "  20427.8,1384.24 20427.8,1384.24 20488.7,1384.24 20427.8,1384.24 \n",
       "  \"/>\n",
       "<path clip-path=\"url(#clip142)\" d=\"\n",
       "M20488.7 1384.24 L20488.7 1384.24 L20549.6 1384.24 L20549.6 1384.24 L20488.7 1384.24 L20488.7 1384.24  Z\n",
       "  \" fill=\"#009af9\" fill-rule=\"evenodd\" fill-opacity=\"1\"/>\n",
       "<polyline clip-path=\"url(#clip142)\" style=\"stroke:#000000; stroke-linecap:butt; stroke-linejoin:round; stroke-width:4; stroke-opacity:1; fill:none\" points=\"\n",
       "  20488.7,1384.24 20488.7,1384.24 20549.6,1384.24 20488.7,1384.24 \n",
       "  \"/>\n",
       "<path clip-path=\"url(#clip142)\" d=\"\n",
       "M20549.6 1384.24 L20549.6 1384.24 L20610.5 1384.24 L20610.5 1384.24 L20549.6 1384.24 L20549.6 1384.24  Z\n",
       "  \" fill=\"#009af9\" fill-rule=\"evenodd\" fill-opacity=\"1\"/>\n",
       "<polyline clip-path=\"url(#clip142)\" style=\"stroke:#000000; stroke-linecap:butt; stroke-linejoin:round; stroke-width:4; stroke-opacity:1; fill:none\" points=\"\n",
       "  20549.6,1384.24 20549.6,1384.24 20610.5,1384.24 20549.6,1384.24 \n",
       "  \"/>\n",
       "<path clip-path=\"url(#clip142)\" d=\"\n",
       "M20610.5 1384.24 L20610.5 1384.24 L20671.3 1384.24 L20671.3 1384.24 L20610.5 1384.24 L20610.5 1384.24  Z\n",
       "  \" fill=\"#009af9\" fill-rule=\"evenodd\" fill-opacity=\"1\"/>\n",
       "<polyline clip-path=\"url(#clip142)\" style=\"stroke:#000000; stroke-linecap:butt; stroke-linejoin:round; stroke-width:4; stroke-opacity:1; fill:none\" points=\"\n",
       "  20610.5,1384.24 20610.5,1384.24 20671.3,1384.24 20610.5,1384.24 \n",
       "  \"/>\n",
       "<path clip-path=\"url(#clip142)\" d=\"\n",
       "M20671.3 1384.24 L20671.3 1384.24 L20732.2 1384.24 L20732.2 1384.24 L20671.3 1384.24 L20671.3 1384.24  Z\n",
       "  \" fill=\"#009af9\" fill-rule=\"evenodd\" fill-opacity=\"1\"/>\n",
       "<polyline clip-path=\"url(#clip142)\" style=\"stroke:#000000; stroke-linecap:butt; stroke-linejoin:round; stroke-width:4; stroke-opacity:1; fill:none\" points=\"\n",
       "  20671.3,1384.24 20671.3,1384.24 20732.2,1384.24 20671.3,1384.24 \n",
       "  \"/>\n",
       "<path clip-path=\"url(#clip142)\" d=\"\n",
       "M20732.2 1384.24 L20732.2 1384.24 L20793.1 1384.24 L20793.1 1384.24 L20732.2 1384.24 L20732.2 1384.24  Z\n",
       "  \" fill=\"#009af9\" fill-rule=\"evenodd\" fill-opacity=\"1\"/>\n",
       "<polyline clip-path=\"url(#clip142)\" style=\"stroke:#000000; stroke-linecap:butt; stroke-linejoin:round; stroke-width:4; stroke-opacity:1; fill:none\" points=\"\n",
       "  20732.2,1384.24 20732.2,1384.24 20793.1,1384.24 20732.2,1384.24 \n",
       "  \"/>\n",
       "<path clip-path=\"url(#clip142)\" d=\"\n",
       "M20793.1 1384.24 L20793.1 1384.24 L20854 1384.24 L20854 1384.24 L20793.1 1384.24 L20793.1 1384.24  Z\n",
       "  \" fill=\"#009af9\" fill-rule=\"evenodd\" fill-opacity=\"1\"/>\n",
       "<polyline clip-path=\"url(#clip142)\" style=\"stroke:#000000; stroke-linecap:butt; stroke-linejoin:round; stroke-width:4; stroke-opacity:1; fill:none\" points=\"\n",
       "  20793.1,1384.24 20793.1,1384.24 20854,1384.24 20793.1,1384.24 \n",
       "  \"/>\n",
       "<path clip-path=\"url(#clip142)\" d=\"\n",
       "M20854 1384.24 L20854 1384.24 L20914.9 1384.24 L20914.9 1384.24 L20854 1384.24 L20854 1384.24  Z\n",
       "  \" fill=\"#009af9\" fill-rule=\"evenodd\" fill-opacity=\"1\"/>\n",
       "<polyline clip-path=\"url(#clip142)\" style=\"stroke:#000000; stroke-linecap:butt; stroke-linejoin:round; stroke-width:4; stroke-opacity:1; fill:none\" points=\"\n",
       "  20854,1384.24 20854,1384.24 20914.9,1384.24 20854,1384.24 \n",
       "  \"/>\n",
       "<path clip-path=\"url(#clip142)\" d=\"\n",
       "M20914.9 1384.24 L20914.9 1384.24 L20975.8 1384.24 L20975.8 1384.24 L20914.9 1384.24 L20914.9 1384.24  Z\n",
       "  \" fill=\"#009af9\" fill-rule=\"evenodd\" fill-opacity=\"1\"/>\n",
       "<polyline clip-path=\"url(#clip142)\" style=\"stroke:#000000; stroke-linecap:butt; stroke-linejoin:round; stroke-width:4; stroke-opacity:1; fill:none\" points=\"\n",
       "  20914.9,1384.24 20914.9,1384.24 20975.8,1384.24 20914.9,1384.24 \n",
       "  \"/>\n",
       "<path clip-path=\"url(#clip142)\" d=\"\n",
       "M20975.8 1384.24 L20975.8 1384.24 L21036.7 1384.24 L21036.7 1384.24 L20975.8 1384.24 L20975.8 1384.24  Z\n",
       "  \" fill=\"#009af9\" fill-rule=\"evenodd\" fill-opacity=\"1\"/>\n",
       "<polyline clip-path=\"url(#clip142)\" style=\"stroke:#000000; stroke-linecap:butt; stroke-linejoin:round; stroke-width:4; stroke-opacity:1; fill:none\" points=\"\n",
       "  20975.8,1384.24 20975.8,1384.24 21036.7,1384.24 20975.8,1384.24 \n",
       "  \"/>\n",
       "<path clip-path=\"url(#clip142)\" d=\"\n",
       "M21036.7 1384.24 L21036.7 1384.24 L21097.6 1384.24 L21097.6 1384.24 L21036.7 1384.24 L21036.7 1384.24  Z\n",
       "  \" fill=\"#009af9\" fill-rule=\"evenodd\" fill-opacity=\"1\"/>\n",
       "<polyline clip-path=\"url(#clip142)\" style=\"stroke:#000000; stroke-linecap:butt; stroke-linejoin:round; stroke-width:4; stroke-opacity:1; fill:none\" points=\"\n",
       "  21036.7,1384.24 21036.7,1384.24 21097.6,1384.24 21036.7,1384.24 \n",
       "  \"/>\n",
       "<path clip-path=\"url(#clip142)\" d=\"\n",
       "M21097.6 1384.24 L21097.6 1384.24 L21158.5 1384.24 L21158.5 1384.24 L21097.6 1384.24 L21097.6 1384.24  Z\n",
       "  \" fill=\"#009af9\" fill-rule=\"evenodd\" fill-opacity=\"1\"/>\n",
       "<polyline clip-path=\"url(#clip142)\" style=\"stroke:#000000; stroke-linecap:butt; stroke-linejoin:round; stroke-width:4; stroke-opacity:1; fill:none\" points=\"\n",
       "  21097.6,1384.24 21097.6,1384.24 21158.5,1384.24 21097.6,1384.24 \n",
       "  \"/>\n",
       "<path clip-path=\"url(#clip142)\" d=\"\n",
       "M21158.5 1384.24 L21158.5 1384.24 L21219.4 1384.24 L21219.4 1384.24 L21158.5 1384.24 L21158.5 1384.24  Z\n",
       "  \" fill=\"#009af9\" fill-rule=\"evenodd\" fill-opacity=\"1\"/>\n",
       "<polyline clip-path=\"url(#clip142)\" style=\"stroke:#000000; stroke-linecap:butt; stroke-linejoin:round; stroke-width:4; stroke-opacity:1; fill:none\" points=\"\n",
       "  21158.5,1384.24 21158.5,1384.24 21219.4,1384.24 21158.5,1384.24 \n",
       "  \"/>\n",
       "<path clip-path=\"url(#clip142)\" d=\"\n",
       "M21219.4 1384.24 L21219.4 1384.24 L21280.2 1384.24 L21280.2 1384.24 L21219.4 1384.24 L21219.4 1384.24  Z\n",
       "  \" fill=\"#009af9\" fill-rule=\"evenodd\" fill-opacity=\"1\"/>\n",
       "<polyline clip-path=\"url(#clip142)\" style=\"stroke:#000000; stroke-linecap:butt; stroke-linejoin:round; stroke-width:4; stroke-opacity:1; fill:none\" points=\"\n",
       "  21219.4,1384.24 21219.4,1384.24 21280.2,1384.24 21219.4,1384.24 \n",
       "  \"/>\n",
       "<path clip-path=\"url(#clip142)\" d=\"\n",
       "M21280.2 1384.24 L21280.2 1384.24 L21341.1 1384.24 L21341.1 1384.24 L21280.2 1384.24 L21280.2 1384.24  Z\n",
       "  \" fill=\"#009af9\" fill-rule=\"evenodd\" fill-opacity=\"1\"/>\n",
       "<polyline clip-path=\"url(#clip142)\" style=\"stroke:#000000; stroke-linecap:butt; stroke-linejoin:round; stroke-width:4; stroke-opacity:1; fill:none\" points=\"\n",
       "  21280.2,1384.24 21280.2,1384.24 21341.1,1384.24 21280.2,1384.24 \n",
       "  \"/>\n",
       "<path clip-path=\"url(#clip142)\" d=\"\n",
       "M21341.1 1384.24 L21341.1 1384.24 L21402 1384.24 L21402 1384.24 L21341.1 1384.24 L21341.1 1384.24  Z\n",
       "  \" fill=\"#009af9\" fill-rule=\"evenodd\" fill-opacity=\"1\"/>\n",
       "<polyline clip-path=\"url(#clip142)\" style=\"stroke:#000000; stroke-linecap:butt; stroke-linejoin:round; stroke-width:4; stroke-opacity:1; fill:none\" points=\"\n",
       "  21341.1,1384.24 21341.1,1384.24 21402,1384.24 21341.1,1384.24 \n",
       "  \"/>\n",
       "<path clip-path=\"url(#clip142)\" d=\"\n",
       "M21402 1384.24 L21402 1384.24 L21462.9 1384.24 L21462.9 1384.24 L21402 1384.24 L21402 1384.24  Z\n",
       "  \" fill=\"#009af9\" fill-rule=\"evenodd\" fill-opacity=\"1\"/>\n",
       "<polyline clip-path=\"url(#clip142)\" style=\"stroke:#000000; stroke-linecap:butt; stroke-linejoin:round; stroke-width:4; stroke-opacity:1; fill:none\" points=\"\n",
       "  21402,1384.24 21402,1384.24 21462.9,1384.24 21402,1384.24 \n",
       "  \"/>\n",
       "<path clip-path=\"url(#clip142)\" d=\"\n",
       "M21462.9 1384.24 L21462.9 1384.24 L21523.8 1384.24 L21523.8 1384.24 L21462.9 1384.24 L21462.9 1384.24  Z\n",
       "  \" fill=\"#009af9\" fill-rule=\"evenodd\" fill-opacity=\"1\"/>\n",
       "<polyline clip-path=\"url(#clip142)\" style=\"stroke:#000000; stroke-linecap:butt; stroke-linejoin:round; stroke-width:4; stroke-opacity:1; fill:none\" points=\"\n",
       "  21462.9,1384.24 21462.9,1384.24 21523.8,1384.24 21462.9,1384.24 \n",
       "  \"/>\n",
       "<path clip-path=\"url(#clip142)\" d=\"\n",
       "M21523.8 1384.24 L21523.8 1384.24 L21584.7 1384.24 L21584.7 1384.24 L21523.8 1384.24 L21523.8 1384.24  Z\n",
       "  \" fill=\"#009af9\" fill-rule=\"evenodd\" fill-opacity=\"1\"/>\n",
       "<polyline clip-path=\"url(#clip142)\" style=\"stroke:#000000; stroke-linecap:butt; stroke-linejoin:round; stroke-width:4; stroke-opacity:1; fill:none\" points=\"\n",
       "  21523.8,1384.24 21523.8,1384.24 21584.7,1384.24 21523.8,1384.24 \n",
       "  \"/>\n",
       "<path clip-path=\"url(#clip142)\" d=\"\n",
       "M21584.7 1384.24 L21584.7 1384.24 L21645.6 1384.24 L21645.6 1384.24 L21584.7 1384.24 L21584.7 1384.24  Z\n",
       "  \" fill=\"#009af9\" fill-rule=\"evenodd\" fill-opacity=\"1\"/>\n",
       "<polyline clip-path=\"url(#clip142)\" style=\"stroke:#000000; stroke-linecap:butt; stroke-linejoin:round; stroke-width:4; stroke-opacity:1; fill:none\" points=\"\n",
       "  21584.7,1384.24 21584.7,1384.24 21645.6,1384.24 21584.7,1384.24 \n",
       "  \"/>\n",
       "<path clip-path=\"url(#clip142)\" d=\"\n",
       "M21645.6 1384.24 L21645.6 1384.24 L21706.5 1384.24 L21706.5 1384.24 L21645.6 1384.24 L21645.6 1384.24  Z\n",
       "  \" fill=\"#009af9\" fill-rule=\"evenodd\" fill-opacity=\"1\"/>\n",
       "<polyline clip-path=\"url(#clip142)\" style=\"stroke:#000000; stroke-linecap:butt; stroke-linejoin:round; stroke-width:4; stroke-opacity:1; fill:none\" points=\"\n",
       "  21645.6,1384.24 21645.6,1384.24 21706.5,1384.24 21645.6,1384.24 \n",
       "  \"/>\n",
       "<path clip-path=\"url(#clip142)\" d=\"\n",
       "M21706.5 1384.24 L21706.5 1384.24 L21767.4 1384.24 L21767.4 1384.24 L21706.5 1384.24 L21706.5 1384.24  Z\n",
       "  \" fill=\"#009af9\" fill-rule=\"evenodd\" fill-opacity=\"1\"/>\n",
       "<polyline clip-path=\"url(#clip142)\" style=\"stroke:#000000; stroke-linecap:butt; stroke-linejoin:round; stroke-width:4; stroke-opacity:1; fill:none\" points=\"\n",
       "  21706.5,1384.24 21706.5,1384.24 21767.4,1384.24 21706.5,1384.24 \n",
       "  \"/>\n",
       "<path clip-path=\"url(#clip142)\" d=\"\n",
       "M21767.4 1384.24 L21767.4 1384.24 L21828.2 1384.24 L21828.2 1384.24 L21767.4 1384.24 L21767.4 1384.24  Z\n",
       "  \" fill=\"#009af9\" fill-rule=\"evenodd\" fill-opacity=\"1\"/>\n",
       "<polyline clip-path=\"url(#clip142)\" style=\"stroke:#000000; stroke-linecap:butt; stroke-linejoin:round; stroke-width:4; stroke-opacity:1; fill:none\" points=\"\n",
       "  21767.4,1384.24 21767.4,1384.24 21828.2,1384.24 21767.4,1384.24 \n",
       "  \"/>\n",
       "<path clip-path=\"url(#clip142)\" d=\"\n",
       "M21828.2 1384.24 L21828.2 1384.24 L21889.1 1384.24 L21889.1 1384.24 L21828.2 1384.24 L21828.2 1384.24  Z\n",
       "  \" fill=\"#009af9\" fill-rule=\"evenodd\" fill-opacity=\"1\"/>\n",
       "<polyline clip-path=\"url(#clip142)\" style=\"stroke:#000000; stroke-linecap:butt; stroke-linejoin:round; stroke-width:4; stroke-opacity:1; fill:none\" points=\"\n",
       "  21828.2,1384.24 21828.2,1384.24 21889.1,1384.24 21828.2,1384.24 \n",
       "  \"/>\n",
       "<path clip-path=\"url(#clip142)\" d=\"\n",
       "M21889.1 1384.24 L21889.1 1384.24 L21950 1384.24 L21950 1384.24 L21889.1 1384.24 L21889.1 1384.24  Z\n",
       "  \" fill=\"#009af9\" fill-rule=\"evenodd\" fill-opacity=\"1\"/>\n",
       "<polyline clip-path=\"url(#clip142)\" style=\"stroke:#000000; stroke-linecap:butt; stroke-linejoin:round; stroke-width:4; stroke-opacity:1; fill:none\" points=\"\n",
       "  21889.1,1384.24 21889.1,1384.24 21950,1384.24 21889.1,1384.24 \n",
       "  \"/>\n",
       "<path clip-path=\"url(#clip142)\" d=\"\n",
       "M21950 1384.24 L21950 1384.24 L22010.9 1384.24 L22010.9 1384.24 L21950 1384.24 L21950 1384.24  Z\n",
       "  \" fill=\"#009af9\" fill-rule=\"evenodd\" fill-opacity=\"1\"/>\n",
       "<polyline clip-path=\"url(#clip142)\" style=\"stroke:#000000; stroke-linecap:butt; stroke-linejoin:round; stroke-width:4; stroke-opacity:1; fill:none\" points=\"\n",
       "  21950,1384.24 21950,1384.24 22010.9,1384.24 21950,1384.24 \n",
       "  \"/>\n",
       "<path clip-path=\"url(#clip142)\" d=\"\n",
       "M22010.9 1384.24 L22010.9 1384.24 L22071.8 1384.24 L22071.8 1384.24 L22010.9 1384.24 L22010.9 1384.24  Z\n",
       "  \" fill=\"#009af9\" fill-rule=\"evenodd\" fill-opacity=\"1\"/>\n",
       "<polyline clip-path=\"url(#clip142)\" style=\"stroke:#000000; stroke-linecap:butt; stroke-linejoin:round; stroke-width:4; stroke-opacity:1; fill:none\" points=\"\n",
       "  22010.9,1384.24 22010.9,1384.24 22071.8,1384.24 22010.9,1384.24 \n",
       "  \"/>\n",
       "<path clip-path=\"url(#clip142)\" d=\"\n",
       "M22071.8 1384.24 L22071.8 1384.24 L22132.7 1384.24 L22132.7 1384.24 L22071.8 1384.24 L22071.8 1384.24  Z\n",
       "  \" fill=\"#009af9\" fill-rule=\"evenodd\" fill-opacity=\"1\"/>\n",
       "<polyline clip-path=\"url(#clip142)\" style=\"stroke:#000000; stroke-linecap:butt; stroke-linejoin:round; stroke-width:4; stroke-opacity:1; fill:none\" points=\"\n",
       "  22071.8,1384.24 22071.8,1384.24 22132.7,1384.24 22071.8,1384.24 \n",
       "  \"/>\n",
       "<path clip-path=\"url(#clip142)\" d=\"\n",
       "M22132.7 1384.24 L22132.7 1384.24 L22193.6 1384.24 L22193.6 1384.24 L22132.7 1384.24 L22132.7 1384.24  Z\n",
       "  \" fill=\"#009af9\" fill-rule=\"evenodd\" fill-opacity=\"1\"/>\n",
       "<polyline clip-path=\"url(#clip142)\" style=\"stroke:#000000; stroke-linecap:butt; stroke-linejoin:round; stroke-width:4; stroke-opacity:1; fill:none\" points=\"\n",
       "  22132.7,1384.24 22132.7,1384.24 22193.6,1384.24 22132.7,1384.24 \n",
       "  \"/>\n",
       "<path clip-path=\"url(#clip142)\" d=\"\n",
       "M22193.6 1384.24 L22193.6 1384.24 L22254.5 1384.24 L22254.5 1384.24 L22193.6 1384.24 L22193.6 1384.24  Z\n",
       "  \" fill=\"#009af9\" fill-rule=\"evenodd\" fill-opacity=\"1\"/>\n",
       "<polyline clip-path=\"url(#clip142)\" style=\"stroke:#000000; stroke-linecap:butt; stroke-linejoin:round; stroke-width:4; stroke-opacity:1; fill:none\" points=\"\n",
       "  22193.6,1384.24 22193.6,1384.24 22254.5,1384.24 22193.6,1384.24 \n",
       "  \"/>\n",
       "<path clip-path=\"url(#clip142)\" d=\"\n",
       "M22254.5 1384.24 L22254.5 1384.24 L22315.4 1384.24 L22315.4 1384.24 L22254.5 1384.24 L22254.5 1384.24  Z\n",
       "  \" fill=\"#009af9\" fill-rule=\"evenodd\" fill-opacity=\"1\"/>\n",
       "<polyline clip-path=\"url(#clip142)\" style=\"stroke:#000000; stroke-linecap:butt; stroke-linejoin:round; stroke-width:4; stroke-opacity:1; fill:none\" points=\"\n",
       "  22254.5,1384.24 22254.5,1384.24 22315.4,1384.24 22254.5,1384.24 \n",
       "  \"/>\n",
       "<path clip-path=\"url(#clip142)\" d=\"\n",
       "M22315.4 1384.24 L22315.4 1384.24 L22376.2 1384.24 L22376.2 1384.24 L22315.4 1384.24 L22315.4 1384.24  Z\n",
       "  \" fill=\"#009af9\" fill-rule=\"evenodd\" fill-opacity=\"1\"/>\n",
       "<polyline clip-path=\"url(#clip142)\" style=\"stroke:#000000; stroke-linecap:butt; stroke-linejoin:round; stroke-width:4; stroke-opacity:1; fill:none\" points=\"\n",
       "  22315.4,1384.24 22315.4,1384.24 22376.2,1384.24 22315.4,1384.24 \n",
       "  \"/>\n",
       "<path clip-path=\"url(#clip142)\" d=\"\n",
       "M22376.2 1384.24 L22376.2 1384.24 L22437.1 1384.24 L22437.1 1384.24 L22376.2 1384.24 L22376.2 1384.24  Z\n",
       "  \" fill=\"#009af9\" fill-rule=\"evenodd\" fill-opacity=\"1\"/>\n",
       "<polyline clip-path=\"url(#clip142)\" style=\"stroke:#000000; stroke-linecap:butt; stroke-linejoin:round; stroke-width:4; stroke-opacity:1; fill:none\" points=\"\n",
       "  22376.2,1384.24 22376.2,1384.24 22437.1,1384.24 22376.2,1384.24 \n",
       "  \"/>\n",
       "<path clip-path=\"url(#clip142)\" d=\"\n",
       "M22437.1 1384.24 L22437.1 1384.24 L22498 1384.24 L22498 1384.24 L22437.1 1384.24 L22437.1 1384.24  Z\n",
       "  \" fill=\"#009af9\" fill-rule=\"evenodd\" fill-opacity=\"1\"/>\n",
       "<polyline clip-path=\"url(#clip142)\" style=\"stroke:#000000; stroke-linecap:butt; stroke-linejoin:round; stroke-width:4; stroke-opacity:1; fill:none\" points=\"\n",
       "  22437.1,1384.24 22437.1,1384.24 22498,1384.24 22437.1,1384.24 \n",
       "  \"/>\n",
       "<path clip-path=\"url(#clip142)\" d=\"\n",
       "M22498 1384.24 L22498 1384.24 L22558.9 1384.24 L22558.9 1384.24 L22498 1384.24 L22498 1384.24  Z\n",
       "  \" fill=\"#009af9\" fill-rule=\"evenodd\" fill-opacity=\"1\"/>\n",
       "<polyline clip-path=\"url(#clip142)\" style=\"stroke:#000000; stroke-linecap:butt; stroke-linejoin:round; stroke-width:4; stroke-opacity:1; fill:none\" points=\"\n",
       "  22498,1384.24 22498,1384.24 22558.9,1384.24 22498,1384.24 \n",
       "  \"/>\n",
       "<path clip-path=\"url(#clip142)\" d=\"\n",
       "M22558.9 1384.24 L22558.9 1384.24 L22619.8 1384.24 L22619.8 1384.24 L22558.9 1384.24 L22558.9 1384.24  Z\n",
       "  \" fill=\"#009af9\" fill-rule=\"evenodd\" fill-opacity=\"1\"/>\n",
       "<polyline clip-path=\"url(#clip142)\" style=\"stroke:#000000; stroke-linecap:butt; stroke-linejoin:round; stroke-width:4; stroke-opacity:1; fill:none\" points=\"\n",
       "  22558.9,1384.24 22558.9,1384.24 22619.8,1384.24 22558.9,1384.24 \n",
       "  \"/>\n",
       "<path clip-path=\"url(#clip142)\" d=\"\n",
       "M22619.8 1384.24 L22619.8 1384.24 L22680.7 1384.24 L22680.7 1384.24 L22619.8 1384.24 L22619.8 1384.24  Z\n",
       "  \" fill=\"#009af9\" fill-rule=\"evenodd\" fill-opacity=\"1\"/>\n",
       "<polyline clip-path=\"url(#clip142)\" style=\"stroke:#000000; stroke-linecap:butt; stroke-linejoin:round; stroke-width:4; stroke-opacity:1; fill:none\" points=\"\n",
       "  22619.8,1384.24 22619.8,1384.24 22680.7,1384.24 22619.8,1384.24 \n",
       "  \"/>\n",
       "<path clip-path=\"url(#clip142)\" d=\"\n",
       "M22680.7 1384.24 L22680.7 1384.24 L22741.6 1384.24 L22741.6 1384.24 L22680.7 1384.24 L22680.7 1384.24  Z\n",
       "  \" fill=\"#009af9\" fill-rule=\"evenodd\" fill-opacity=\"1\"/>\n",
       "<polyline clip-path=\"url(#clip142)\" style=\"stroke:#000000; stroke-linecap:butt; stroke-linejoin:round; stroke-width:4; stroke-opacity:1; fill:none\" points=\"\n",
       "  22680.7,1384.24 22680.7,1384.24 22741.6,1384.24 22680.7,1384.24 \n",
       "  \"/>\n",
       "<path clip-path=\"url(#clip142)\" d=\"\n",
       "M22741.6 1384.24 L22741.6 1384.24 L22802.5 1384.24 L22802.5 1384.24 L22741.6 1384.24 L22741.6 1384.24  Z\n",
       "  \" fill=\"#009af9\" fill-rule=\"evenodd\" fill-opacity=\"1\"/>\n",
       "<polyline clip-path=\"url(#clip142)\" style=\"stroke:#000000; stroke-linecap:butt; stroke-linejoin:round; stroke-width:4; stroke-opacity:1; fill:none\" points=\"\n",
       "  22741.6,1384.24 22741.6,1384.24 22802.5,1384.24 22741.6,1384.24 \n",
       "  \"/>\n",
       "<path clip-path=\"url(#clip142)\" d=\"\n",
       "M22802.5 1384.24 L22802.5 1384.24 L22863.4 1384.24 L22863.4 1384.24 L22802.5 1384.24 L22802.5 1384.24  Z\n",
       "  \" fill=\"#009af9\" fill-rule=\"evenodd\" fill-opacity=\"1\"/>\n",
       "<polyline clip-path=\"url(#clip142)\" style=\"stroke:#000000; stroke-linecap:butt; stroke-linejoin:round; stroke-width:4; stroke-opacity:1; fill:none\" points=\"\n",
       "  22802.5,1384.24 22802.5,1384.24 22863.4,1384.24 22802.5,1384.24 \n",
       "  \"/>\n",
       "<path clip-path=\"url(#clip142)\" d=\"\n",
       "M22863.4 1384.24 L22863.4 1384.24 L22924.3 1384.24 L22924.3 1384.24 L22863.4 1384.24 L22863.4 1384.24  Z\n",
       "  \" fill=\"#009af9\" fill-rule=\"evenodd\" fill-opacity=\"1\"/>\n",
       "<polyline clip-path=\"url(#clip142)\" style=\"stroke:#000000; stroke-linecap:butt; stroke-linejoin:round; stroke-width:4; stroke-opacity:1; fill:none\" points=\"\n",
       "  22863.4,1384.24 22863.4,1384.24 22924.3,1384.24 22863.4,1384.24 \n",
       "  \"/>\n",
       "<path clip-path=\"url(#clip142)\" d=\"\n",
       "M22924.3 1384.24 L22924.3 1384.24 L22985.1 1384.24 L22985.1 1384.24 L22924.3 1384.24 L22924.3 1384.24  Z\n",
       "  \" fill=\"#009af9\" fill-rule=\"evenodd\" fill-opacity=\"1\"/>\n",
       "<polyline clip-path=\"url(#clip142)\" style=\"stroke:#000000; stroke-linecap:butt; stroke-linejoin:round; stroke-width:4; stroke-opacity:1; fill:none\" points=\"\n",
       "  22924.3,1384.24 22924.3,1384.24 22985.1,1384.24 22924.3,1384.24 \n",
       "  \"/>\n",
       "<path clip-path=\"url(#clip142)\" d=\"\n",
       "M22985.1 1384.24 L22985.1 1384.24 L23046 1384.24 L23046 1384.24 L22985.1 1384.24 L22985.1 1384.24  Z\n",
       "  \" fill=\"#009af9\" fill-rule=\"evenodd\" fill-opacity=\"1\"/>\n",
       "<polyline clip-path=\"url(#clip142)\" style=\"stroke:#000000; stroke-linecap:butt; stroke-linejoin:round; stroke-width:4; stroke-opacity:1; fill:none\" points=\"\n",
       "  22985.1,1384.24 22985.1,1384.24 23046,1384.24 22985.1,1384.24 \n",
       "  \"/>\n",
       "<path clip-path=\"url(#clip142)\" d=\"\n",
       "M23046 1384.24 L23046 1384.24 L23106.9 1384.24 L23106.9 1384.24 L23046 1384.24 L23046 1384.24  Z\n",
       "  \" fill=\"#009af9\" fill-rule=\"evenodd\" fill-opacity=\"1\"/>\n",
       "<polyline clip-path=\"url(#clip142)\" style=\"stroke:#000000; stroke-linecap:butt; stroke-linejoin:round; stroke-width:4; stroke-opacity:1; fill:none\" points=\"\n",
       "  23046,1384.24 23046,1384.24 23106.9,1384.24 23046,1384.24 \n",
       "  \"/>\n",
       "<path clip-path=\"url(#clip142)\" d=\"\n",
       "M23106.9 1384.24 L23106.9 1384.24 L23167.8 1384.24 L23167.8 1384.24 L23106.9 1384.24 L23106.9 1384.24  Z\n",
       "  \" fill=\"#009af9\" fill-rule=\"evenodd\" fill-opacity=\"1\"/>\n",
       "<polyline clip-path=\"url(#clip142)\" style=\"stroke:#000000; stroke-linecap:butt; stroke-linejoin:round; stroke-width:4; stroke-opacity:1; fill:none\" points=\"\n",
       "  23106.9,1384.24 23106.9,1384.24 23167.8,1384.24 23106.9,1384.24 \n",
       "  \"/>\n",
       "<path clip-path=\"url(#clip142)\" d=\"\n",
       "M23167.8 1384.24 L23167.8 1384.24 L23228.7 1384.24 L23228.7 1384.24 L23167.8 1384.24 L23167.8 1384.24  Z\n",
       "  \" fill=\"#009af9\" fill-rule=\"evenodd\" fill-opacity=\"1\"/>\n",
       "<polyline clip-path=\"url(#clip142)\" style=\"stroke:#000000; stroke-linecap:butt; stroke-linejoin:round; stroke-width:4; stroke-opacity:1; fill:none\" points=\"\n",
       "  23167.8,1384.24 23167.8,1384.24 23228.7,1384.24 23167.8,1384.24 \n",
       "  \"/>\n",
       "<path clip-path=\"url(#clip142)\" d=\"\n",
       "M23228.7 1384.24 L23228.7 1384.24 L23289.6 1384.24 L23289.6 1384.24 L23228.7 1384.24 L23228.7 1384.24  Z\n",
       "  \" fill=\"#009af9\" fill-rule=\"evenodd\" fill-opacity=\"1\"/>\n",
       "<polyline clip-path=\"url(#clip142)\" style=\"stroke:#000000; stroke-linecap:butt; stroke-linejoin:round; stroke-width:4; stroke-opacity:1; fill:none\" points=\"\n",
       "  23228.7,1384.24 23228.7,1384.24 23289.6,1384.24 23228.7,1384.24 \n",
       "  \"/>\n",
       "<path clip-path=\"url(#clip142)\" d=\"\n",
       "M23289.6 1384.24 L23289.6 1384.24 L23350.5 1384.24 L23350.5 1384.24 L23289.6 1384.24 L23289.6 1384.24  Z\n",
       "  \" fill=\"#009af9\" fill-rule=\"evenodd\" fill-opacity=\"1\"/>\n",
       "<polyline clip-path=\"url(#clip142)\" style=\"stroke:#000000; stroke-linecap:butt; stroke-linejoin:round; stroke-width:4; stroke-opacity:1; fill:none\" points=\"\n",
       "  23289.6,1384.24 23289.6,1384.24 23350.5,1384.24 23289.6,1384.24 \n",
       "  \"/>\n",
       "<path clip-path=\"url(#clip142)\" d=\"\n",
       "M23350.5 1384.24 L23350.5 1384.24 L23411.4 1384.24 L23411.4 1384.24 L23350.5 1384.24 L23350.5 1384.24  Z\n",
       "  \" fill=\"#009af9\" fill-rule=\"evenodd\" fill-opacity=\"1\"/>\n",
       "<polyline clip-path=\"url(#clip142)\" style=\"stroke:#000000; stroke-linecap:butt; stroke-linejoin:round; stroke-width:4; stroke-opacity:1; fill:none\" points=\"\n",
       "  23350.5,1384.24 23350.5,1384.24 23411.4,1384.24 23350.5,1384.24 \n",
       "  \"/>\n",
       "<path clip-path=\"url(#clip142)\" d=\"\n",
       "M23411.4 1384.24 L23411.4 1384.24 L23472.3 1384.24 L23472.3 1384.24 L23411.4 1384.24 L23411.4 1384.24  Z\n",
       "  \" fill=\"#009af9\" fill-rule=\"evenodd\" fill-opacity=\"1\"/>\n",
       "<polyline clip-path=\"url(#clip142)\" style=\"stroke:#000000; stroke-linecap:butt; stroke-linejoin:round; stroke-width:4; stroke-opacity:1; fill:none\" points=\"\n",
       "  23411.4,1384.24 23411.4,1384.24 23472.3,1384.24 23411.4,1384.24 \n",
       "  \"/>\n",
       "<path clip-path=\"url(#clip142)\" d=\"\n",
       "M23472.3 1384.24 L23472.3 1384.24 L23533.1 1384.24 L23533.1 1384.24 L23472.3 1384.24 L23472.3 1384.24  Z\n",
       "  \" fill=\"#009af9\" fill-rule=\"evenodd\" fill-opacity=\"1\"/>\n",
       "<polyline clip-path=\"url(#clip142)\" style=\"stroke:#000000; stroke-linecap:butt; stroke-linejoin:round; stroke-width:4; stroke-opacity:1; fill:none\" points=\"\n",
       "  23472.3,1384.24 23472.3,1384.24 23533.1,1384.24 23472.3,1384.24 \n",
       "  \"/>\n",
       "<path clip-path=\"url(#clip142)\" d=\"\n",
       "M23533.1 1384.24 L23533.1 1384.24 L23594 1384.24 L23594 1384.24 L23533.1 1384.24 L23533.1 1384.24  Z\n",
       "  \" fill=\"#009af9\" fill-rule=\"evenodd\" fill-opacity=\"1\"/>\n",
       "<polyline clip-path=\"url(#clip142)\" style=\"stroke:#000000; stroke-linecap:butt; stroke-linejoin:round; stroke-width:4; stroke-opacity:1; fill:none\" points=\"\n",
       "  23533.1,1384.24 23533.1,1384.24 23594,1384.24 23533.1,1384.24 \n",
       "  \"/>\n",
       "<path clip-path=\"url(#clip142)\" d=\"\n",
       "M23594 1384.24 L23594 1384.24 L23654.9 1384.24 L23654.9 1384.24 L23594 1384.24 L23594 1384.24  Z\n",
       "  \" fill=\"#009af9\" fill-rule=\"evenodd\" fill-opacity=\"1\"/>\n",
       "<polyline clip-path=\"url(#clip142)\" style=\"stroke:#000000; stroke-linecap:butt; stroke-linejoin:round; stroke-width:4; stroke-opacity:1; fill:none\" points=\"\n",
       "  23594,1384.24 23594,1384.24 23654.9,1384.24 23594,1384.24 \n",
       "  \"/>\n",
       "<path clip-path=\"url(#clip142)\" d=\"\n",
       "M23654.9 1384.24 L23654.9 1384.24 L23715.8 1384.24 L23715.8 1384.24 L23654.9 1384.24 L23654.9 1384.24  Z\n",
       "  \" fill=\"#009af9\" fill-rule=\"evenodd\" fill-opacity=\"1\"/>\n",
       "<polyline clip-path=\"url(#clip142)\" style=\"stroke:#000000; stroke-linecap:butt; stroke-linejoin:round; stroke-width:4; stroke-opacity:1; fill:none\" points=\"\n",
       "  23654.9,1384.24 23654.9,1384.24 23715.8,1384.24 23654.9,1384.24 \n",
       "  \"/>\n",
       "<path clip-path=\"url(#clip142)\" d=\"\n",
       "M23715.8 1384.24 L23715.8 1384.24 L23776.7 1384.24 L23776.7 1384.24 L23715.8 1384.24 L23715.8 1384.24  Z\n",
       "  \" fill=\"#009af9\" fill-rule=\"evenodd\" fill-opacity=\"1\"/>\n",
       "<polyline clip-path=\"url(#clip142)\" style=\"stroke:#000000; stroke-linecap:butt; stroke-linejoin:round; stroke-width:4; stroke-opacity:1; fill:none\" points=\"\n",
       "  23715.8,1384.24 23715.8,1384.24 23776.7,1384.24 23715.8,1384.24 \n",
       "  \"/>\n",
       "<path clip-path=\"url(#clip142)\" d=\"\n",
       "M23776.7 1384.24 L23776.7 1384.24 L23837.6 1384.24 L23837.6 1384.24 L23776.7 1384.24 L23776.7 1384.24  Z\n",
       "  \" fill=\"#009af9\" fill-rule=\"evenodd\" fill-opacity=\"1\"/>\n",
       "<polyline clip-path=\"url(#clip142)\" style=\"stroke:#000000; stroke-linecap:butt; stroke-linejoin:round; stroke-width:4; stroke-opacity:1; fill:none\" points=\"\n",
       "  23776.7,1384.24 23776.7,1384.24 23837.6,1384.24 23776.7,1384.24 \n",
       "  \"/>\n",
       "<path clip-path=\"url(#clip142)\" d=\"\n",
       "M23837.6 1384.24 L23837.6 1384.24 L23898.5 1384.24 L23898.5 1384.24 L23837.6 1384.24 L23837.6 1384.24  Z\n",
       "  \" fill=\"#009af9\" fill-rule=\"evenodd\" fill-opacity=\"1\"/>\n",
       "<polyline clip-path=\"url(#clip142)\" style=\"stroke:#000000; stroke-linecap:butt; stroke-linejoin:round; stroke-width:4; stroke-opacity:1; fill:none\" points=\"\n",
       "  23837.6,1384.24 23837.6,1384.24 23898.5,1384.24 23837.6,1384.24 \n",
       "  \"/>\n",
       "<path clip-path=\"url(#clip142)\" d=\"\n",
       "M23898.5 1384.24 L23898.5 1384.24 L23959.4 1384.24 L23959.4 1384.24 L23898.5 1384.24 L23898.5 1384.24  Z\n",
       "  \" fill=\"#009af9\" fill-rule=\"evenodd\" fill-opacity=\"1\"/>\n",
       "<polyline clip-path=\"url(#clip142)\" style=\"stroke:#000000; stroke-linecap:butt; stroke-linejoin:round; stroke-width:4; stroke-opacity:1; fill:none\" points=\"\n",
       "  23898.5,1384.24 23898.5,1384.24 23959.4,1384.24 23898.5,1384.24 \n",
       "  \"/>\n",
       "<path clip-path=\"url(#clip142)\" d=\"\n",
       "M23959.4 1384.24 L23959.4 1384.24 L24020.3 1384.24 L24020.3 1384.24 L23959.4 1384.24 L23959.4 1384.24  Z\n",
       "  \" fill=\"#009af9\" fill-rule=\"evenodd\" fill-opacity=\"1\"/>\n",
       "<polyline clip-path=\"url(#clip142)\" style=\"stroke:#000000; stroke-linecap:butt; stroke-linejoin:round; stroke-width:4; stroke-opacity:1; fill:none\" points=\"\n",
       "  23959.4,1384.24 23959.4,1384.24 24020.3,1384.24 23959.4,1384.24 \n",
       "  \"/>\n",
       "<path clip-path=\"url(#clip142)\" d=\"\n",
       "M24020.3 1384.24 L24020.3 1384.24 L24081.2 1384.24 L24081.2 1384.24 L24020.3 1384.24 L24020.3 1384.24  Z\n",
       "  \" fill=\"#009af9\" fill-rule=\"evenodd\" fill-opacity=\"1\"/>\n",
       "<polyline clip-path=\"url(#clip142)\" style=\"stroke:#000000; stroke-linecap:butt; stroke-linejoin:round; stroke-width:4; stroke-opacity:1; fill:none\" points=\"\n",
       "  24020.3,1384.24 24020.3,1384.24 24081.2,1384.24 24020.3,1384.24 \n",
       "  \"/>\n",
       "<path clip-path=\"url(#clip142)\" d=\"\n",
       "M24081.2 1384.24 L24081.2 1384.24 L24142 1384.24 L24142 1384.24 L24081.2 1384.24 L24081.2 1384.24  Z\n",
       "  \" fill=\"#009af9\" fill-rule=\"evenodd\" fill-opacity=\"1\"/>\n",
       "<polyline clip-path=\"url(#clip142)\" style=\"stroke:#000000; stroke-linecap:butt; stroke-linejoin:round; stroke-width:4; stroke-opacity:1; fill:none\" points=\"\n",
       "  24081.2,1384.24 24081.2,1384.24 24142,1384.24 24081.2,1384.24 \n",
       "  \"/>\n",
       "<path clip-path=\"url(#clip142)\" d=\"\n",
       "M24142 1384.24 L24142 1384.24 L24202.9 1384.24 L24202.9 1384.24 L24142 1384.24 L24142 1384.24  Z\n",
       "  \" fill=\"#009af9\" fill-rule=\"evenodd\" fill-opacity=\"1\"/>\n",
       "<polyline clip-path=\"url(#clip142)\" style=\"stroke:#000000; stroke-linecap:butt; stroke-linejoin:round; stroke-width:4; stroke-opacity:1; fill:none\" points=\"\n",
       "  24142,1384.24 24142,1384.24 24202.9,1384.24 24142,1384.24 \n",
       "  \"/>\n",
       "<path clip-path=\"url(#clip142)\" d=\"\n",
       "M24202.9 1384.24 L24202.9 1384.24 L24263.8 1384.24 L24263.8 1384.24 L24202.9 1384.24 L24202.9 1384.24  Z\n",
       "  \" fill=\"#009af9\" fill-rule=\"evenodd\" fill-opacity=\"1\"/>\n",
       "<polyline clip-path=\"url(#clip142)\" style=\"stroke:#000000; stroke-linecap:butt; stroke-linejoin:round; stroke-width:4; stroke-opacity:1; fill:none\" points=\"\n",
       "  24202.9,1384.24 24202.9,1384.24 24263.8,1384.24 24202.9,1384.24 \n",
       "  \"/>\n",
       "<path clip-path=\"url(#clip142)\" d=\"\n",
       "M24263.8 1384.24 L24263.8 1384.24 L24324.7 1384.24 L24324.7 1384.24 L24263.8 1384.24 L24263.8 1384.24  Z\n",
       "  \" fill=\"#009af9\" fill-rule=\"evenodd\" fill-opacity=\"1\"/>\n",
       "<polyline clip-path=\"url(#clip142)\" style=\"stroke:#000000; stroke-linecap:butt; stroke-linejoin:round; stroke-width:4; stroke-opacity:1; fill:none\" points=\"\n",
       "  24263.8,1384.24 24263.8,1384.24 24324.7,1384.24 24263.8,1384.24 \n",
       "  \"/>\n",
       "<path clip-path=\"url(#clip142)\" d=\"\n",
       "M24324.7 1384.24 L24324.7 1384.24 L24385.6 1384.24 L24385.6 1384.24 L24324.7 1384.24 L24324.7 1384.24  Z\n",
       "  \" fill=\"#009af9\" fill-rule=\"evenodd\" fill-opacity=\"1\"/>\n",
       "<polyline clip-path=\"url(#clip142)\" style=\"stroke:#000000; stroke-linecap:butt; stroke-linejoin:round; stroke-width:4; stroke-opacity:1; fill:none\" points=\"\n",
       "  24324.7,1384.24 24324.7,1384.24 24385.6,1384.24 24324.7,1384.24 \n",
       "  \"/>\n",
       "<path clip-path=\"url(#clip142)\" d=\"\n",
       "M24385.6 1384.24 L24385.6 1384.24 L24446.5 1384.24 L24446.5 1384.24 L24385.6 1384.24 L24385.6 1384.24  Z\n",
       "  \" fill=\"#009af9\" fill-rule=\"evenodd\" fill-opacity=\"1\"/>\n",
       "<polyline clip-path=\"url(#clip142)\" style=\"stroke:#000000; stroke-linecap:butt; stroke-linejoin:round; stroke-width:4; stroke-opacity:1; fill:none\" points=\"\n",
       "  24385.6,1384.24 24385.6,1384.24 24446.5,1384.24 24385.6,1384.24 \n",
       "  \"/>\n",
       "<path clip-path=\"url(#clip142)\" d=\"\n",
       "M24446.5 1384.24 L24446.5 1384.24 L24507.4 1384.24 L24507.4 1384.24 L24446.5 1384.24 L24446.5 1384.24  Z\n",
       "  \" fill=\"#009af9\" fill-rule=\"evenodd\" fill-opacity=\"1\"/>\n",
       "<polyline clip-path=\"url(#clip142)\" style=\"stroke:#000000; stroke-linecap:butt; stroke-linejoin:round; stroke-width:4; stroke-opacity:1; fill:none\" points=\"\n",
       "  24446.5,1384.24 24446.5,1384.24 24507.4,1384.24 24446.5,1384.24 \n",
       "  \"/>\n",
       "<path clip-path=\"url(#clip142)\" d=\"\n",
       "M24507.4 1384.24 L24507.4 1384.24 L24568.3 1384.24 L24568.3 1384.24 L24507.4 1384.24 L24507.4 1384.24  Z\n",
       "  \" fill=\"#009af9\" fill-rule=\"evenodd\" fill-opacity=\"1\"/>\n",
       "<polyline clip-path=\"url(#clip142)\" style=\"stroke:#000000; stroke-linecap:butt; stroke-linejoin:round; stroke-width:4; stroke-opacity:1; fill:none\" points=\"\n",
       "  24507.4,1384.24 24507.4,1384.24 24568.3,1384.24 24507.4,1384.24 \n",
       "  \"/>\n",
       "<path clip-path=\"url(#clip142)\" d=\"\n",
       "M24568.3 1384.24 L24568.3 1384.24 L24629.2 1384.24 L24629.2 1384.24 L24568.3 1384.24 L24568.3 1384.24  Z\n",
       "  \" fill=\"#009af9\" fill-rule=\"evenodd\" fill-opacity=\"1\"/>\n",
       "<polyline clip-path=\"url(#clip142)\" style=\"stroke:#000000; stroke-linecap:butt; stroke-linejoin:round; stroke-width:4; stroke-opacity:1; fill:none\" points=\"\n",
       "  24568.3,1384.24 24568.3,1384.24 24629.2,1384.24 24568.3,1384.24 \n",
       "  \"/>\n",
       "<path clip-path=\"url(#clip142)\" d=\"\n",
       "M24629.2 1384.24 L24629.2 1384.24 L24690 1384.24 L24690 1384.24 L24629.2 1384.24 L24629.2 1384.24  Z\n",
       "  \" fill=\"#009af9\" fill-rule=\"evenodd\" fill-opacity=\"1\"/>\n",
       "<polyline clip-path=\"url(#clip142)\" style=\"stroke:#000000; stroke-linecap:butt; stroke-linejoin:round; stroke-width:4; stroke-opacity:1; fill:none\" points=\"\n",
       "  24629.2,1384.24 24629.2,1384.24 24690,1384.24 24629.2,1384.24 \n",
       "  \"/>\n",
       "<path clip-path=\"url(#clip142)\" d=\"\n",
       "M24690 1384.24 L24690 1384.24 L24750.9 1384.24 L24750.9 1384.24 L24690 1384.24 L24690 1384.24  Z\n",
       "  \" fill=\"#009af9\" fill-rule=\"evenodd\" fill-opacity=\"1\"/>\n",
       "<polyline clip-path=\"url(#clip142)\" style=\"stroke:#000000; stroke-linecap:butt; stroke-linejoin:round; stroke-width:4; stroke-opacity:1; fill:none\" points=\"\n",
       "  24690,1384.24 24690,1384.24 24750.9,1384.24 24690,1384.24 \n",
       "  \"/>\n",
       "<path clip-path=\"url(#clip142)\" d=\"\n",
       "M24750.9 1384.24 L24750.9 1384.24 L24811.8 1384.24 L24811.8 1384.24 L24750.9 1384.24 L24750.9 1384.24  Z\n",
       "  \" fill=\"#009af9\" fill-rule=\"evenodd\" fill-opacity=\"1\"/>\n",
       "<polyline clip-path=\"url(#clip142)\" style=\"stroke:#000000; stroke-linecap:butt; stroke-linejoin:round; stroke-width:4; stroke-opacity:1; fill:none\" points=\"\n",
       "  24750.9,1384.24 24750.9,1384.24 24811.8,1384.24 24750.9,1384.24 \n",
       "  \"/>\n",
       "<path clip-path=\"url(#clip142)\" d=\"\n",
       "M24811.8 1384.24 L24811.8 1384.24 L24872.7 1384.24 L24872.7 1384.24 L24811.8 1384.24 L24811.8 1384.24  Z\n",
       "  \" fill=\"#009af9\" fill-rule=\"evenodd\" fill-opacity=\"1\"/>\n",
       "<polyline clip-path=\"url(#clip142)\" style=\"stroke:#000000; stroke-linecap:butt; stroke-linejoin:round; stroke-width:4; stroke-opacity:1; fill:none\" points=\"\n",
       "  24811.8,1384.24 24811.8,1384.24 24872.7,1384.24 24811.8,1384.24 \n",
       "  \"/>\n",
       "<path clip-path=\"url(#clip142)\" d=\"\n",
       "M24872.7 1384.24 L24872.7 1384.24 L24933.6 1384.24 L24933.6 1384.24 L24872.7 1384.24 L24872.7 1384.24  Z\n",
       "  \" fill=\"#009af9\" fill-rule=\"evenodd\" fill-opacity=\"1\"/>\n",
       "<polyline clip-path=\"url(#clip142)\" style=\"stroke:#000000; stroke-linecap:butt; stroke-linejoin:round; stroke-width:4; stroke-opacity:1; fill:none\" points=\"\n",
       "  24872.7,1384.24 24872.7,1384.24 24933.6,1384.24 24872.7,1384.24 \n",
       "  \"/>\n",
       "<path clip-path=\"url(#clip142)\" d=\"\n",
       "M24933.6 1384.24 L24933.6 1384.24 L24994.5 1384.24 L24994.5 1384.24 L24933.6 1384.24 L24933.6 1384.24  Z\n",
       "  \" fill=\"#009af9\" fill-rule=\"evenodd\" fill-opacity=\"1\"/>\n",
       "<polyline clip-path=\"url(#clip142)\" style=\"stroke:#000000; stroke-linecap:butt; stroke-linejoin:round; stroke-width:4; stroke-opacity:1; fill:none\" points=\"\n",
       "  24933.6,1384.24 24933.6,1384.24 24994.5,1384.24 24933.6,1384.24 \n",
       "  \"/>\n",
       "<path clip-path=\"url(#clip142)\" d=\"\n",
       "M24994.5 1384.24 L24994.5 1384.24 L25055.4 1384.24 L25055.4 1384.24 L24994.5 1384.24 L24994.5 1384.24  Z\n",
       "  \" fill=\"#009af9\" fill-rule=\"evenodd\" fill-opacity=\"1\"/>\n",
       "<polyline clip-path=\"url(#clip142)\" style=\"stroke:#000000; stroke-linecap:butt; stroke-linejoin:round; stroke-width:4; stroke-opacity:1; fill:none\" points=\"\n",
       "  24994.5,1384.24 24994.5,1384.24 25055.4,1384.24 24994.5,1384.24 \n",
       "  \"/>\n",
       "<path clip-path=\"url(#clip142)\" d=\"\n",
       "M25055.4 1384.24 L25055.4 1384.24 L25116.3 1384.24 L25116.3 1384.24 L25055.4 1384.24 L25055.4 1384.24  Z\n",
       "  \" fill=\"#009af9\" fill-rule=\"evenodd\" fill-opacity=\"1\"/>\n",
       "<polyline clip-path=\"url(#clip142)\" style=\"stroke:#000000; stroke-linecap:butt; stroke-linejoin:round; stroke-width:4; stroke-opacity:1; fill:none\" points=\"\n",
       "  25055.4,1384.24 25055.4,1384.24 25116.3,1384.24 25055.4,1384.24 \n",
       "  \"/>\n",
       "<path clip-path=\"url(#clip142)\" d=\"\n",
       "M25116.3 1384.24 L25116.3 1384.24 L25177.2 1384.24 L25177.2 1384.24 L25116.3 1384.24 L25116.3 1384.24  Z\n",
       "  \" fill=\"#009af9\" fill-rule=\"evenodd\" fill-opacity=\"1\"/>\n",
       "<polyline clip-path=\"url(#clip142)\" style=\"stroke:#000000; stroke-linecap:butt; stroke-linejoin:round; stroke-width:4; stroke-opacity:1; fill:none\" points=\"\n",
       "  25116.3,1384.24 25116.3,1384.24 25177.2,1384.24 25116.3,1384.24 \n",
       "  \"/>\n",
       "<path clip-path=\"url(#clip142)\" d=\"\n",
       "M25177.2 1384.24 L25177.2 1384.24 L25238.1 1384.24 L25238.1 1384.24 L25177.2 1384.24 L25177.2 1384.24  Z\n",
       "  \" fill=\"#009af9\" fill-rule=\"evenodd\" fill-opacity=\"1\"/>\n",
       "<polyline clip-path=\"url(#clip142)\" style=\"stroke:#000000; stroke-linecap:butt; stroke-linejoin:round; stroke-width:4; stroke-opacity:1; fill:none\" points=\"\n",
       "  25177.2,1384.24 25177.2,1384.24 25238.1,1384.24 25177.2,1384.24 \n",
       "  \"/>\n",
       "<path clip-path=\"url(#clip142)\" d=\"\n",
       "M25238.1 1384.24 L25238.1 1384.24 L25298.9 1384.24 L25298.9 1384.24 L25238.1 1384.24 L25238.1 1384.24  Z\n",
       "  \" fill=\"#009af9\" fill-rule=\"evenodd\" fill-opacity=\"1\"/>\n",
       "<polyline clip-path=\"url(#clip142)\" style=\"stroke:#000000; stroke-linecap:butt; stroke-linejoin:round; stroke-width:4; stroke-opacity:1; fill:none\" points=\"\n",
       "  25238.1,1384.24 25238.1,1384.24 25298.9,1384.24 25238.1,1384.24 \n",
       "  \"/>\n",
       "<path clip-path=\"url(#clip142)\" d=\"\n",
       "M25298.9 1384.24 L25298.9 1384.24 L25359.8 1384.24 L25359.8 1384.24 L25298.9 1384.24 L25298.9 1384.24  Z\n",
       "  \" fill=\"#009af9\" fill-rule=\"evenodd\" fill-opacity=\"1\"/>\n",
       "<polyline clip-path=\"url(#clip142)\" style=\"stroke:#000000; stroke-linecap:butt; stroke-linejoin:round; stroke-width:4; stroke-opacity:1; fill:none\" points=\"\n",
       "  25298.9,1384.24 25298.9,1384.24 25359.8,1384.24 25298.9,1384.24 \n",
       "  \"/>\n",
       "<path clip-path=\"url(#clip142)\" d=\"\n",
       "M25359.8 1384.24 L25359.8 1384.24 L25420.7 1384.24 L25420.7 1384.24 L25359.8 1384.24 L25359.8 1384.24  Z\n",
       "  \" fill=\"#009af9\" fill-rule=\"evenodd\" fill-opacity=\"1\"/>\n",
       "<polyline clip-path=\"url(#clip142)\" style=\"stroke:#000000; stroke-linecap:butt; stroke-linejoin:round; stroke-width:4; stroke-opacity:1; fill:none\" points=\"\n",
       "  25359.8,1384.24 25359.8,1384.24 25420.7,1384.24 25359.8,1384.24 \n",
       "  \"/>\n",
       "<path clip-path=\"url(#clip142)\" d=\"\n",
       "M25420.7 1384.24 L25420.7 1384.24 L25481.6 1384.24 L25481.6 1384.24 L25420.7 1384.24 L25420.7 1384.24  Z\n",
       "  \" fill=\"#009af9\" fill-rule=\"evenodd\" fill-opacity=\"1\"/>\n",
       "<polyline clip-path=\"url(#clip142)\" style=\"stroke:#000000; stroke-linecap:butt; stroke-linejoin:round; stroke-width:4; stroke-opacity:1; fill:none\" points=\"\n",
       "  25420.7,1384.24 25420.7,1384.24 25481.6,1384.24 25420.7,1384.24 \n",
       "  \"/>\n",
       "<path clip-path=\"url(#clip142)\" d=\"\n",
       "M25481.6 1384.24 L25481.6 1384.24 L25542.5 1384.24 L25542.5 1384.24 L25481.6 1384.24 L25481.6 1384.24  Z\n",
       "  \" fill=\"#009af9\" fill-rule=\"evenodd\" fill-opacity=\"1\"/>\n",
       "<polyline clip-path=\"url(#clip142)\" style=\"stroke:#000000; stroke-linecap:butt; stroke-linejoin:round; stroke-width:4; stroke-opacity:1; fill:none\" points=\"\n",
       "  25481.6,1384.24 25481.6,1384.24 25542.5,1384.24 25481.6,1384.24 \n",
       "  \"/>\n",
       "<path clip-path=\"url(#clip142)\" d=\"\n",
       "M25542.5 1384.24 L25542.5 1384.24 L25603.4 1384.24 L25603.4 1384.24 L25542.5 1384.24 L25542.5 1384.24  Z\n",
       "  \" fill=\"#009af9\" fill-rule=\"evenodd\" fill-opacity=\"1\"/>\n",
       "<polyline clip-path=\"url(#clip142)\" style=\"stroke:#000000; stroke-linecap:butt; stroke-linejoin:round; stroke-width:4; stroke-opacity:1; fill:none\" points=\"\n",
       "  25542.5,1384.24 25542.5,1384.24 25603.4,1384.24 25542.5,1384.24 \n",
       "  \"/>\n",
       "<path clip-path=\"url(#clip142)\" d=\"\n",
       "M25603.4 1384.24 L25603.4 1384.24 L25664.3 1384.24 L25664.3 1384.24 L25603.4 1384.24 L25603.4 1384.24  Z\n",
       "  \" fill=\"#009af9\" fill-rule=\"evenodd\" fill-opacity=\"1\"/>\n",
       "<polyline clip-path=\"url(#clip142)\" style=\"stroke:#000000; stroke-linecap:butt; stroke-linejoin:round; stroke-width:4; stroke-opacity:1; fill:none\" points=\"\n",
       "  25603.4,1384.24 25603.4,1384.24 25664.3,1384.24 25603.4,1384.24 \n",
       "  \"/>\n",
       "<path clip-path=\"url(#clip142)\" d=\"\n",
       "M25664.3 1384.24 L25664.3 1384.24 L25725.2 1384.24 L25725.2 1384.24 L25664.3 1384.24 L25664.3 1384.24  Z\n",
       "  \" fill=\"#009af9\" fill-rule=\"evenodd\" fill-opacity=\"1\"/>\n",
       "<polyline clip-path=\"url(#clip142)\" style=\"stroke:#000000; stroke-linecap:butt; stroke-linejoin:round; stroke-width:4; stroke-opacity:1; fill:none\" points=\"\n",
       "  25664.3,1384.24 25664.3,1384.24 25725.2,1384.24 25664.3,1384.24 \n",
       "  \"/>\n",
       "<path clip-path=\"url(#clip142)\" d=\"\n",
       "M25725.2 1384.24 L25725.2 1384.24 L25786.1 1384.24 L25786.1 1384.24 L25725.2 1384.24 L25725.2 1384.24  Z\n",
       "  \" fill=\"#009af9\" fill-rule=\"evenodd\" fill-opacity=\"1\"/>\n",
       "<polyline clip-path=\"url(#clip142)\" style=\"stroke:#000000; stroke-linecap:butt; stroke-linejoin:round; stroke-width:4; stroke-opacity:1; fill:none\" points=\"\n",
       "  25725.2,1384.24 25725.2,1384.24 25786.1,1384.24 25725.2,1384.24 \n",
       "  \"/>\n",
       "<path clip-path=\"url(#clip142)\" d=\"\n",
       "M25786.1 1384.24 L25786.1 1384.24 L25846.9 1384.24 L25846.9 1384.24 L25786.1 1384.24 L25786.1 1384.24  Z\n",
       "  \" fill=\"#009af9\" fill-rule=\"evenodd\" fill-opacity=\"1\"/>\n",
       "<polyline clip-path=\"url(#clip142)\" style=\"stroke:#000000; stroke-linecap:butt; stroke-linejoin:round; stroke-width:4; stroke-opacity:1; fill:none\" points=\"\n",
       "  25786.1,1384.24 25786.1,1384.24 25846.9,1384.24 25786.1,1384.24 \n",
       "  \"/>\n",
       "<path clip-path=\"url(#clip142)\" d=\"\n",
       "M25846.9 1384.24 L25846.9 1384.24 L25907.8 1384.24 L25907.8 1384.24 L25846.9 1384.24 L25846.9 1384.24  Z\n",
       "  \" fill=\"#009af9\" fill-rule=\"evenodd\" fill-opacity=\"1\"/>\n",
       "<polyline clip-path=\"url(#clip142)\" style=\"stroke:#000000; stroke-linecap:butt; stroke-linejoin:round; stroke-width:4; stroke-opacity:1; fill:none\" points=\"\n",
       "  25846.9,1384.24 25846.9,1384.24 25907.8,1384.24 25846.9,1384.24 \n",
       "  \"/>\n",
       "<path clip-path=\"url(#clip142)\" d=\"\n",
       "M25907.8 1384.24 L25907.8 1384.24 L25968.7 1384.24 L25968.7 1384.24 L25907.8 1384.24 L25907.8 1384.24  Z\n",
       "  \" fill=\"#009af9\" fill-rule=\"evenodd\" fill-opacity=\"1\"/>\n",
       "<polyline clip-path=\"url(#clip142)\" style=\"stroke:#000000; stroke-linecap:butt; stroke-linejoin:round; stroke-width:4; stroke-opacity:1; fill:none\" points=\"\n",
       "  25907.8,1384.24 25907.8,1384.24 25968.7,1384.24 25907.8,1384.24 \n",
       "  \"/>\n",
       "<path clip-path=\"url(#clip142)\" d=\"\n",
       "M25968.7 1384.24 L25968.7 1384.24 L26029.6 1384.24 L26029.6 1384.24 L25968.7 1384.24 L25968.7 1384.24  Z\n",
       "  \" fill=\"#009af9\" fill-rule=\"evenodd\" fill-opacity=\"1\"/>\n",
       "<polyline clip-path=\"url(#clip142)\" style=\"stroke:#000000; stroke-linecap:butt; stroke-linejoin:round; stroke-width:4; stroke-opacity:1; fill:none\" points=\"\n",
       "  25968.7,1384.24 25968.7,1384.24 26029.6,1384.24 25968.7,1384.24 \n",
       "  \"/>\n",
       "<path clip-path=\"url(#clip142)\" d=\"\n",
       "M26029.6 1266.23 L26029.6 1384.24 L26090.5 1384.24 L26090.5 1266.23 L26029.6 1266.23 L26029.6 1266.23  Z\n",
       "  \" fill=\"#009af9\" fill-rule=\"evenodd\" fill-opacity=\"1\"/>\n",
       "<polyline clip-path=\"url(#clip142)\" style=\"stroke:#000000; stroke-linecap:butt; stroke-linejoin:round; stroke-width:4; stroke-opacity:1; fill:none\" points=\"\n",
       "  26029.6,1266.23 26029.6,1384.24 26090.5,1384.24 26090.5,1266.23 26029.6,1266.23 \n",
       "  \"/>\n",
       "<circle clip-path=\"url(#clip142)\" style=\"fill:#009af9; stroke:none; fill-opacity:0\" cx=\"303.842\" cy=\"1266.23\" r=\"2\"/>\n",
       "<circle clip-path=\"url(#clip142)\" style=\"fill:#009af9; stroke:none; fill-opacity:0\" cx=\"364.732\" cy=\"1266.23\" r=\"2\"/>\n",
       "<circle clip-path=\"url(#clip142)\" style=\"fill:#009af9; stroke:none; fill-opacity:0\" cx=\"425.621\" cy=\"1148.23\" r=\"2\"/>\n",
       "<circle clip-path=\"url(#clip142)\" style=\"fill:#009af9; stroke:none; fill-opacity:0\" cx=\"486.51\" cy=\"1384.24\" r=\"2\"/>\n",
       "<circle clip-path=\"url(#clip142)\" style=\"fill:#009af9; stroke:none; fill-opacity:0\" cx=\"547.4\" cy=\"1384.24\" r=\"2\"/>\n",
       "<circle clip-path=\"url(#clip142)\" style=\"fill:#009af9; stroke:none; fill-opacity:0\" cx=\"608.289\" cy=\"1384.24\" r=\"2\"/>\n",
       "<circle clip-path=\"url(#clip142)\" style=\"fill:#009af9; stroke:none; fill-opacity:0\" cx=\"669.179\" cy=\"1384.24\" r=\"2\"/>\n",
       "<circle clip-path=\"url(#clip142)\" style=\"fill:#009af9; stroke:none; fill-opacity:0\" cx=\"730.068\" cy=\"1384.24\" r=\"2\"/>\n",
       "<circle clip-path=\"url(#clip142)\" style=\"fill:#009af9; stroke:none; fill-opacity:0\" cx=\"790.957\" cy=\"1030.22\" r=\"2\"/>\n",
       "<circle clip-path=\"url(#clip142)\" style=\"fill:#009af9; stroke:none; fill-opacity:0\" cx=\"851.847\" cy=\"1148.23\" r=\"2\"/>\n",
       "<circle clip-path=\"url(#clip142)\" style=\"fill:#009af9; stroke:none; fill-opacity:0\" cx=\"912.736\" cy=\"1266.23\" r=\"2\"/>\n",
       "<circle clip-path=\"url(#clip142)\" style=\"fill:#009af9; stroke:none; fill-opacity:0\" cx=\"973.626\" cy=\"912.219\" r=\"2\"/>\n",
       "<circle clip-path=\"url(#clip142)\" style=\"fill:#009af9; stroke:none; fill-opacity:0\" cx=\"1034.52\" cy=\"1148.23\" r=\"2\"/>\n",
       "<circle clip-path=\"url(#clip142)\" style=\"fill:#009af9; stroke:none; fill-opacity:0\" cx=\"1095.4\" cy=\"1030.22\" r=\"2\"/>\n",
       "<circle clip-path=\"url(#clip142)\" style=\"fill:#009af9; stroke:none; fill-opacity:0\" cx=\"1156.29\" cy=\"912.219\" r=\"2\"/>\n",
       "<circle clip-path=\"url(#clip142)\" style=\"fill:#009af9; stroke:none; fill-opacity:0\" cx=\"1217.18\" cy=\"1266.23\" r=\"2\"/>\n",
       "<circle clip-path=\"url(#clip142)\" style=\"fill:#009af9; stroke:none; fill-opacity:0\" cx=\"1278.07\" cy=\"1266.23\" r=\"2\"/>\n",
       "<circle clip-path=\"url(#clip142)\" style=\"fill:#009af9; stroke:none; fill-opacity:0\" cx=\"1338.96\" cy=\"1148.23\" r=\"2\"/>\n",
       "<circle clip-path=\"url(#clip142)\" style=\"fill:#009af9; stroke:none; fill-opacity:0\" cx=\"1399.85\" cy=\"1266.23\" r=\"2\"/>\n",
       "<circle clip-path=\"url(#clip142)\" style=\"fill:#009af9; stroke:none; fill-opacity:0\" cx=\"1460.74\" cy=\"1030.22\" r=\"2\"/>\n",
       "<circle clip-path=\"url(#clip142)\" style=\"fill:#009af9; stroke:none; fill-opacity:0\" cx=\"1521.63\" cy=\"1148.23\" r=\"2\"/>\n",
       "<circle clip-path=\"url(#clip142)\" style=\"fill:#009af9; stroke:none; fill-opacity:0\" cx=\"1582.52\" cy=\"1030.22\" r=\"2\"/>\n",
       "<circle clip-path=\"url(#clip142)\" style=\"fill:#009af9; stroke:none; fill-opacity:0\" cx=\"1643.41\" cy=\"912.219\" r=\"2\"/>\n",
       "<circle clip-path=\"url(#clip142)\" style=\"fill:#009af9; stroke:none; fill-opacity:0\" cx=\"1704.3\" cy=\"558.205\" r=\"2\"/>\n",
       "<circle clip-path=\"url(#clip142)\" style=\"fill:#009af9; stroke:none; fill-opacity:0\" cx=\"1765.19\" cy=\"794.214\" r=\"2\"/>\n",
       "<circle clip-path=\"url(#clip142)\" style=\"fill:#009af9; stroke:none; fill-opacity:0\" cx=\"1826.08\" cy=\"912.219\" r=\"2\"/>\n",
       "<circle clip-path=\"url(#clip142)\" style=\"fill:#009af9; stroke:none; fill-opacity:0\" cx=\"1886.97\" cy=\"794.214\" r=\"2\"/>\n",
       "<circle clip-path=\"url(#clip142)\" style=\"fill:#009af9; stroke:none; fill-opacity:0\" cx=\"1947.86\" cy=\"912.219\" r=\"2\"/>\n",
       "<circle clip-path=\"url(#clip142)\" style=\"fill:#009af9; stroke:none; fill-opacity:0\" cx=\"2008.75\" cy=\"1030.22\" r=\"2\"/>\n",
       "<circle clip-path=\"url(#clip142)\" style=\"fill:#009af9; stroke:none; fill-opacity:0\" cx=\"2069.63\" cy=\"440.2\" r=\"2\"/>\n",
       "<circle clip-path=\"url(#clip142)\" style=\"fill:#009af9; stroke:none; fill-opacity:0\" cx=\"2130.52\" cy=\"322.195\" r=\"2\"/>\n",
       "<circle clip-path=\"url(#clip142)\" style=\"fill:#009af9; stroke:none; fill-opacity:0\" cx=\"2191.41\" cy=\"676.21\" r=\"2\"/>\n",
       "<circle clip-path=\"url(#clip142)\" style=\"fill:#009af9; stroke:none; fill-opacity:0\" cx=\"2252.3\" cy=\"794.214\" r=\"2\"/>\n",
       "<circle clip-path=\"url(#clip142)\" style=\"fill:#009af9; stroke:none; fill-opacity:0\" cx=\"2313.19\" cy=\"204.19\" r=\"2\"/>\n",
       "</svg>\n"
      ]
     },
     "metadata": {},
     "output_type": "display_data"
    }
   ],
   "source": [
    "using Statistics # bring in statistical support for standard deviations\n",
    "t = c_bench.times / 1e6 # times in milliseconds\n",
    "m, σ = minimum(t), std(t)\n",
    "\n",
    "histogram(t, bins=500,\n",
    "    xlim=(m - 0.01, m + σ),\n",
    "    xlabel=\"milliseconds\", ylabel=\"count\", label=\"\")"
   ]
  },
  {
   "cell_type": "markdown",
   "metadata": {},
   "source": [
    "# 2. C with -ffast-math\n",
    "\n",
    "If we allow C to re-arrange the floating point operations, then it'll vectorize with SIMD (single instruction, multiple data) instructions."
   ]
  },
  {
   "cell_type": "code",
   "execution_count": 20,
   "metadata": {},
   "outputs": [
    {
     "data": {
      "text/plain": [
       "c_sum_fastmath (generic function with 1 method)"
      ]
     },
     "metadata": {},
     "output_type": "display_data"
    }
   ],
   "source": [
    "const Clib_fastmath = tempname()   # make a temporary file\n",
    "\n",
    "# The same as above but with a -ffast-math flag added\n",
    "open(`gcc -fPIC -O3 -msse3 -xc -shared -ffast-math -o $(Clib_fastmath * \".\" * Libdl.dlext) -`, \"w\") do f\n",
    "    print(f, C_code) \n",
    "end\n",
    "\n",
    "# define a Julia function that calls the C function:\n",
    "c_sum_fastmath(X::Array{Float64}) = ccall((\"c_sum\", Clib_fastmath), Float64, (Csize_t, Ptr{Float64}), length(X), X)"
   ]
  },
  {
   "cell_type": "code",
   "execution_count": 21,
   "metadata": {},
   "outputs": [
    {
     "data": {
      "text/plain": [
       "BenchmarkTools.Trial: 836 samples with 1 evaluation.\n",
       " Range \u001b[90m(\u001b[39m\u001b[36m\u001b[1mmin\u001b[22m\u001b[39m … \u001b[35mmax\u001b[39m\u001b[90m):  \u001b[39m\u001b[36m\u001b[1m5.822 ms\u001b[22m\u001b[39m … \u001b[35m  7.254 ms\u001b[39m  \u001b[90m┊\u001b[39m GC \u001b[90m(\u001b[39mmin … max\u001b[90m): \u001b[39m0.00% … 0.00%\n",
       " Time  \u001b[90m(\u001b[39m\u001b[34m\u001b[1mmedian\u001b[22m\u001b[39m\u001b[90m):     \u001b[39m\u001b[34m\u001b[1m5.932 ms               \u001b[22m\u001b[39m\u001b[90m┊\u001b[39m GC \u001b[90m(\u001b[39mmedian\u001b[90m):    \u001b[39m0.00%\n",
       " Time  \u001b[90m(\u001b[39m\u001b[32m\u001b[1mmean\u001b[22m\u001b[39m ± \u001b[32mσ\u001b[39m\u001b[90m):   \u001b[39m\u001b[32m\u001b[1m5.980 ms\u001b[22m\u001b[39m ± \u001b[32m162.601 μs\u001b[39m  \u001b[90m┊\u001b[39m GC \u001b[90m(\u001b[39mmean ± σ\u001b[90m):  \u001b[39m0.00% ± 0.00%\n",
       "\n",
       "  \u001b[39m \u001b[39m▄\u001b[39m█\u001b[39m▆\u001b[39m█\u001b[39m▇\u001b[39m▇\u001b[39m▇\u001b[39m▇\u001b[34m▆\u001b[39m\u001b[39m▄\u001b[39m▁\u001b[32m▁\u001b[39m\u001b[39m \u001b[39m \u001b[39m \u001b[39m \u001b[39m \u001b[39m \u001b[39m \u001b[39m \u001b[39m \u001b[39m \u001b[39m \u001b[39m \u001b[39m \u001b[39m \u001b[39m \u001b[39m \u001b[39m \u001b[39m \u001b[39m \u001b[39m \u001b[39m \u001b[39m \u001b[39m \u001b[39m \u001b[39m \u001b[39m \u001b[39m \u001b[39m \u001b[39m \u001b[39m \u001b[39m \u001b[39m \u001b[39m \u001b[39m \u001b[39m \u001b[39m \u001b[39m \u001b[39m \u001b[39m \u001b[39m \u001b[39m \u001b[39m \u001b[39m \u001b[39m \u001b[39m \u001b[39m \u001b[39m \u001b[39m \n",
       "  \u001b[39m▆\u001b[39m█\u001b[39m█\u001b[39m█\u001b[39m█\u001b[39m█\u001b[39m█\u001b[39m█\u001b[39m█\u001b[34m█\u001b[39m\u001b[39m█\u001b[39m█\u001b[32m█\u001b[39m\u001b[39m█\u001b[39m█\u001b[39m▆\u001b[39m▅\u001b[39m▆\u001b[39m▄\u001b[39m▄\u001b[39m▅\u001b[39m▄\u001b[39m▃\u001b[39m▃\u001b[39m▅\u001b[39m▄\u001b[39m▃\u001b[39m▃\u001b[39m▄\u001b[39m▃\u001b[39m▃\u001b[39m▃\u001b[39m▃\u001b[39m▃\u001b[39m▂\u001b[39m▃\u001b[39m▃\u001b[39m▂\u001b[39m▃\u001b[39m▃\u001b[39m▃\u001b[39m▂\u001b[39m▃\u001b[39m▂\u001b[39m▃\u001b[39m▁\u001b[39m▃\u001b[39m▃\u001b[39m▁\u001b[39m▂\u001b[39m▃\u001b[39m▂\u001b[39m▁\u001b[39m▂\u001b[39m▁\u001b[39m▁\u001b[39m▂\u001b[39m▁\u001b[39m▂\u001b[39m \u001b[39m▄\n",
       "  5.82 ms\u001b[90m         Histogram: frequency by time\u001b[39m        6.58 ms \u001b[0m\u001b[1m<\u001b[22m\n",
       "\n",
       " Memory estimate\u001b[90m: \u001b[39m\u001b[33m0 bytes\u001b[39m, allocs estimate\u001b[90m: \u001b[39m\u001b[33m0\u001b[39m."
      ]
     },
     "metadata": {},
     "output_type": "display_data"
    }
   ],
   "source": [
    "c_fastmath_bench = @benchmark $c_sum_fastmath($a)"
   ]
  },
  {
   "cell_type": "code",
   "execution_count": 22,
   "metadata": {},
   "outputs": [
    {
     "data": {
      "text/plain": [
       "5.8217"
      ]
     },
     "metadata": {},
     "output_type": "display_data"
    }
   ],
   "source": [
    "d[\"C -ffast-math\"] = minimum(c_fastmath_bench.times) / 1e6  # in milliseconds"
   ]
  },
  {
   "cell_type": "markdown",
   "metadata": {},
   "source": [
    "# 3. Python's built in `sum` "
   ]
  },
  {
   "cell_type": "markdown",
   "metadata": {},
   "source": [
    "The `PyCall` package provides a Julia interface to Python:"
   ]
  },
  {
   "cell_type": "code",
   "execution_count": 23,
   "metadata": {
    "scrolled": true
   },
   "outputs": [],
   "source": [
    "# using Pkg; Pkg.add(\"PyCall\")\n",
    "using PyCall"
   ]
  },
  {
   "cell_type": "code",
   "execution_count": 24,
   "metadata": {
    "scrolled": false
   },
   "outputs": [
    {
     "data": {
      "text/plain": [
       "PyObject <built-in function sum>"
      ]
     },
     "metadata": {},
     "output_type": "display_data"
    }
   ],
   "source": [
    "# get the Python built-in \"sum\" function:\n",
    "pysum = pybuiltin(\"sum\")"
   ]
  },
  {
   "cell_type": "code",
   "execution_count": 26,
   "metadata": {
    "scrolled": false
   },
   "outputs": [
    {
     "data": {
      "text/plain": [
       "5.000027810468334e6"
      ]
     },
     "metadata": {},
     "output_type": "display_data"
    }
   ],
   "source": [
    "pysum(a)"
   ]
  },
  {
   "cell_type": "code",
   "execution_count": 27,
   "metadata": {
    "scrolled": false
   },
   "outputs": [
    {
     "data": {
      "text/plain": [
       "true"
      ]
     },
     "metadata": {},
     "output_type": "display_data"
    }
   ],
   "source": [
    "pysum(a) ≈ sum(a)"
   ]
  },
  {
   "cell_type": "code",
   "execution_count": 28,
   "metadata": {
    "scrolled": false
   },
   "outputs": [
    {
     "data": {
      "text/plain": [
       "BenchmarkTools.Trial: 8 samples with 1 evaluation.\n",
       " Range \u001b[90m(\u001b[39m\u001b[36m\u001b[1mmin\u001b[22m\u001b[39m … \u001b[35mmax\u001b[39m\u001b[90m):  \u001b[39m\u001b[36m\u001b[1m626.419 ms\u001b[22m\u001b[39m … \u001b[35m633.671 ms\u001b[39m  \u001b[90m┊\u001b[39m GC \u001b[90m(\u001b[39mmin … max\u001b[90m): \u001b[39m0.00% … 0.00%\n",
       " Time  \u001b[90m(\u001b[39m\u001b[34m\u001b[1mmedian\u001b[22m\u001b[39m\u001b[90m):     \u001b[39m\u001b[34m\u001b[1m629.036 ms               \u001b[22m\u001b[39m\u001b[90m┊\u001b[39m GC \u001b[90m(\u001b[39mmedian\u001b[90m):    \u001b[39m0.00%\n",
       " Time  \u001b[90m(\u001b[39m\u001b[32m\u001b[1mmean\u001b[22m\u001b[39m ± \u001b[32mσ\u001b[39m\u001b[90m):   \u001b[39m\u001b[32m\u001b[1m629.198 ms\u001b[22m\u001b[39m ± \u001b[32m  2.168 ms\u001b[39m  \u001b[90m┊\u001b[39m GC \u001b[90m(\u001b[39mmean ± σ\u001b[90m):  \u001b[39m0.00% ± 0.00%\n",
       "\n",
       "  \u001b[39m█\u001b[39m \u001b[39m \u001b[39m \u001b[39m \u001b[39m \u001b[39m \u001b[39m \u001b[39m \u001b[39m█\u001b[39m \u001b[39m \u001b[39m \u001b[39m \u001b[39m█\u001b[39m \u001b[39m \u001b[39m \u001b[39m \u001b[39m \u001b[39m█\u001b[34m \u001b[39m\u001b[39m \u001b[32m█\u001b[39m\u001b[39m█\u001b[39m \u001b[39m \u001b[39m \u001b[39m \u001b[39m \u001b[39m \u001b[39m \u001b[39m \u001b[39m█\u001b[39m \u001b[39m \u001b[39m \u001b[39m \u001b[39m \u001b[39m \u001b[39m \u001b[39m \u001b[39m \u001b[39m \u001b[39m \u001b[39m \u001b[39m \u001b[39m \u001b[39m \u001b[39m \u001b[39m \u001b[39m \u001b[39m \u001b[39m \u001b[39m \u001b[39m \u001b[39m \u001b[39m \u001b[39m \u001b[39m \u001b[39m█\u001b[39m \u001b[39m \n",
       "  \u001b[39m█\u001b[39m▁\u001b[39m▁\u001b[39m▁\u001b[39m▁\u001b[39m▁\u001b[39m▁\u001b[39m▁\u001b[39m▁\u001b[39m█\u001b[39m▁\u001b[39m▁\u001b[39m▁\u001b[39m▁\u001b[39m█\u001b[39m▁\u001b[39m▁\u001b[39m▁\u001b[39m▁\u001b[39m▁\u001b[39m█\u001b[34m▁\u001b[39m\u001b[39m▁\u001b[32m█\u001b[39m\u001b[39m█\u001b[39m▁\u001b[39m▁\u001b[39m▁\u001b[39m▁\u001b[39m▁\u001b[39m▁\u001b[39m▁\u001b[39m▁\u001b[39m█\u001b[39m▁\u001b[39m▁\u001b[39m▁\u001b[39m▁\u001b[39m▁\u001b[39m▁\u001b[39m▁\u001b[39m▁\u001b[39m▁\u001b[39m▁\u001b[39m▁\u001b[39m▁\u001b[39m▁\u001b[39m▁\u001b[39m▁\u001b[39m▁\u001b[39m▁\u001b[39m▁\u001b[39m▁\u001b[39m▁\u001b[39m▁\u001b[39m▁\u001b[39m▁\u001b[39m▁\u001b[39m▁\u001b[39m▁\u001b[39m█\u001b[39m \u001b[39m▁\n",
       "  626 ms\u001b[90m           Histogram: frequency by time\u001b[39m          634 ms \u001b[0m\u001b[1m<\u001b[22m\n",
       "\n",
       " Memory estimate\u001b[90m: \u001b[39m\u001b[33m240 bytes\u001b[39m, allocs estimate\u001b[90m: \u001b[39m\u001b[33m6\u001b[39m."
      ]
     },
     "metadata": {},
     "output_type": "display_data"
    }
   ],
   "source": [
    "py_list_bench = @benchmark $pysum($a)"
   ]
  },
  {
   "cell_type": "code",
   "execution_count": 29,
   "metadata": {
    "scrolled": false
   },
   "outputs": [
    {
     "data": {
      "text/plain": [
       "Dict{Any, Any} with 3 entries:\n",
       "  \"C\"               => 10.2747\n",
       "  \"Python built-in\" => 626.419\n",
       "  \"C -ffast-math\"   => 5.8217"
      ]
     },
     "metadata": {},
     "output_type": "display_data"
    }
   ],
   "source": [
    "d[\"Python built-in\"] = minimum(py_list_bench.times) / 1e6\n",
    "d"
   ]
  },
  {
   "cell_type": "markdown",
   "metadata": {},
   "source": [
    "# 4. Python: `numpy` \n",
    "\n",
    "## Takes advantage of hardware \"SIMD\", but only works when it works.\n",
    "\n",
    "`numpy` is an optimized C library, callable from Python.\n",
    "It may be installed within Julia as follows:"
   ]
  },
  {
   "cell_type": "code",
   "execution_count": 31,
   "metadata": {
    "scrolled": false
   },
   "outputs": [],
   "source": [
    "# using Pkg; Pkg.add(\"Conda\")\n",
    "using Conda"
   ]
  },
  {
   "cell_type": "code",
   "execution_count": 34,
   "metadata": {},
   "outputs": [
    {
     "name": "stdout",
     "output_type": "stream",
     "text": [
      "Collecting package metadata (current_repodata.json): ...working... done\r\n",
      "Solving environment: ...working... done\r\n",
      "\r\n",
      "# All requested packages already installed.\r\n",
      "\r\n"
     ]
    },
    {
     "name": "stderr",
     "output_type": "stream",
     "text": [
      "┌ Info: Running `conda install -y numpy` in root environment\n",
      "└ @ Conda C:\\Users\\ilker.arslan\\.julia\\packages\\Conda\\sNGum\\src\\Conda.jl:128\n"
     ]
    }
   ],
   "source": [
    "Conda.add(\"numpy\")"
   ]
  },
  {
   "cell_type": "code",
   "execution_count": 35,
   "metadata": {
    "scrolled": false
   },
   "outputs": [
    {
     "data": {
      "text/plain": [
       "BenchmarkTools.Trial: 539 samples with 1 evaluation.\n",
       " Range \u001b[90m(\u001b[39m\u001b[36m\u001b[1mmin\u001b[22m\u001b[39m … \u001b[35mmax\u001b[39m\u001b[90m):  \u001b[39m\u001b[36m\u001b[1m9.051 ms\u001b[22m\u001b[39m … \u001b[35m 10.277 ms\u001b[39m  \u001b[90m┊\u001b[39m GC \u001b[90m(\u001b[39mmin … max\u001b[90m): \u001b[39m0.00% … 0.00%\n",
       " Time  \u001b[90m(\u001b[39m\u001b[34m\u001b[1mmedian\u001b[22m\u001b[39m\u001b[90m):     \u001b[39m\u001b[34m\u001b[1m9.238 ms               \u001b[22m\u001b[39m\u001b[90m┊\u001b[39m GC \u001b[90m(\u001b[39mmedian\u001b[90m):    \u001b[39m0.00%\n",
       " Time  \u001b[90m(\u001b[39m\u001b[32m\u001b[1mmean\u001b[22m\u001b[39m ± \u001b[32mσ\u001b[39m\u001b[90m):   \u001b[39m\u001b[32m\u001b[1m9.271 ms\u001b[22m\u001b[39m ± \u001b[32m160.254 μs\u001b[39m  \u001b[90m┊\u001b[39m GC \u001b[90m(\u001b[39mmean ± σ\u001b[90m):  \u001b[39m0.00% ± 0.00%\n",
       "\n",
       "  \u001b[39m \u001b[39m \u001b[39m \u001b[39m \u001b[39m▂\u001b[39m▆\u001b[39m▄\u001b[39m▃\u001b[39m▆\u001b[39m▆\u001b[39m▅\u001b[34m█\u001b[39m\u001b[39m▄\u001b[32m▄\u001b[39m\u001b[39m▄\u001b[39m▃\u001b[39m \u001b[39m \u001b[39m \u001b[39m \u001b[39m \u001b[39m \u001b[39m \u001b[39m \u001b[39m \u001b[39m \u001b[39m \u001b[39m \u001b[39m \u001b[39m \u001b[39m \u001b[39m \u001b[39m \u001b[39m \u001b[39m \u001b[39m \u001b[39m \u001b[39m \u001b[39m \u001b[39m \u001b[39m \u001b[39m \u001b[39m \u001b[39m \u001b[39m \u001b[39m \u001b[39m \u001b[39m \u001b[39m \u001b[39m \u001b[39m \u001b[39m \u001b[39m \u001b[39m \u001b[39m \u001b[39m \u001b[39m \u001b[39m \u001b[39m \u001b[39m \u001b[39m \n",
       "  \u001b[39m▄\u001b[39m▅\u001b[39m▆\u001b[39m▇\u001b[39m█\u001b[39m█\u001b[39m█\u001b[39m█\u001b[39m█\u001b[39m█\u001b[39m█\u001b[34m█\u001b[39m\u001b[39m█\u001b[32m█\u001b[39m\u001b[39m█\u001b[39m█\u001b[39m▆\u001b[39m▆\u001b[39m█\u001b[39m▆\u001b[39m▃\u001b[39m▆\u001b[39m▄\u001b[39m▄\u001b[39m▄\u001b[39m▃\u001b[39m▃\u001b[39m▃\u001b[39m▃\u001b[39m▃\u001b[39m▃\u001b[39m▃\u001b[39m▂\u001b[39m▃\u001b[39m▂\u001b[39m▁\u001b[39m▁\u001b[39m▃\u001b[39m▁\u001b[39m▂\u001b[39m▁\u001b[39m▁\u001b[39m▁\u001b[39m▁\u001b[39m▂\u001b[39m▁\u001b[39m▂\u001b[39m▁\u001b[39m▃\u001b[39m▂\u001b[39m▁\u001b[39m▁\u001b[39m▂\u001b[39m▁\u001b[39m▁\u001b[39m▂\u001b[39m▁\u001b[39m▁\u001b[39m▂\u001b[39m \u001b[39m▄\n",
       "  9.05 ms\u001b[90m         Histogram: frequency by time\u001b[39m          10 ms \u001b[0m\u001b[1m<\u001b[22m\n",
       "\n",
       " Memory estimate\u001b[90m: \u001b[39m\u001b[33m240 bytes\u001b[39m, allocs estimate\u001b[90m: \u001b[39m\u001b[33m6\u001b[39m."
      ]
     },
     "metadata": {},
     "output_type": "display_data"
    }
   ],
   "source": [
    "numpy_sum = pyimport(\"numpy\")[\"sum\"]\n",
    "\n",
    "py_numpy_bench = @benchmark $numpy_sum($a)"
   ]
  },
  {
   "cell_type": "code",
   "execution_count": 36,
   "metadata": {
    "scrolled": false
   },
   "outputs": [
    {
     "data": {
      "text/plain": [
       "5.00002781046875e6"
      ]
     },
     "metadata": {},
     "output_type": "display_data"
    }
   ],
   "source": [
    "numpy_sum(a)"
   ]
  },
  {
   "cell_type": "code",
   "execution_count": 37,
   "metadata": {
    "scrolled": false
   },
   "outputs": [
    {
     "data": {
      "text/plain": [
       "true"
      ]
     },
     "metadata": {},
     "output_type": "display_data"
    }
   ],
   "source": [
    "numpy_sum(a) ≈ sum(a)"
   ]
  },
  {
   "cell_type": "code",
   "execution_count": 38,
   "metadata": {
    "scrolled": true
   },
   "outputs": [
    {
     "data": {
      "text/plain": [
       "Dict{Any, Any} with 4 entries:\n",
       "  \"C\"               => 10.2747\n",
       "  \"Python numpy\"    => 9.051\n",
       "  \"Python built-in\" => 626.419\n",
       "  \"C -ffast-math\"   => 5.8217"
      ]
     },
     "metadata": {},
     "output_type": "display_data"
    }
   ],
   "source": [
    "d[\"Python numpy\"] = minimum(py_numpy_bench.times) / 1e6\n",
    "d"
   ]
  },
  {
   "cell_type": "markdown",
   "metadata": {},
   "source": [
    "# 5. Python, hand-written "
   ]
  },
  {
   "cell_type": "code",
   "execution_count": 39,
   "metadata": {
    "scrolled": false
   },
   "outputs": [
    {
     "data": {
      "text/plain": [
       "PyObject <function py_sum at 0x00000000ABEC8D30>"
      ]
     },
     "metadata": {},
     "output_type": "display_data"
    }
   ],
   "source": [
    "py\"\"\"\n",
    "def py_sum(A):\n",
    "    s = 0.0\n",
    "    for a in A:\n",
    "        s += a\n",
    "    return s\n",
    "\"\"\"\n",
    "\n",
    "sum_py = py\"py_sum\""
   ]
  },
  {
   "cell_type": "code",
   "execution_count": 40,
   "metadata": {
    "scrolled": false
   },
   "outputs": [
    {
     "data": {
      "text/plain": [
       "BenchmarkTools.Trial: 5 samples with 1 evaluation.\n",
       " Range \u001b[90m(\u001b[39m\u001b[36m\u001b[1mmin\u001b[22m\u001b[39m … \u001b[35mmax\u001b[39m\u001b[90m):  \u001b[39m\u001b[36m\u001b[1m1.000 s\u001b[22m\u001b[39m … \u001b[35m  1.080 s\u001b[39m  \u001b[90m┊\u001b[39m GC \u001b[90m(\u001b[39mmin … max\u001b[90m): \u001b[39m0.00% … 0.00%\n",
       " Time  \u001b[90m(\u001b[39m\u001b[34m\u001b[1mmedian\u001b[22m\u001b[39m\u001b[90m):     \u001b[39m\u001b[34m\u001b[1m1.073 s              \u001b[22m\u001b[39m\u001b[90m┊\u001b[39m GC \u001b[90m(\u001b[39mmedian\u001b[90m):    \u001b[39m0.00%\n",
       " Time  \u001b[90m(\u001b[39m\u001b[32m\u001b[1mmean\u001b[22m\u001b[39m ± \u001b[32mσ\u001b[39m\u001b[90m):   \u001b[39m\u001b[32m\u001b[1m1.053 s\u001b[22m\u001b[39m ± \u001b[32m35.215 ms\u001b[39m  \u001b[90m┊\u001b[39m GC \u001b[90m(\u001b[39mmean ± σ\u001b[90m):  \u001b[39m0.00% ± 0.00%\n",
       "\n",
       "  \u001b[39m▁\u001b[39m \u001b[39m \u001b[39m \u001b[39m \u001b[39m \u001b[39m \u001b[39m \u001b[39m \u001b[39m \u001b[39m \u001b[39m \u001b[39m \u001b[39m \u001b[39m \u001b[39m \u001b[39m \u001b[39m \u001b[39m \u001b[39m \u001b[39m \u001b[39m \u001b[39m \u001b[39m▁\u001b[34m \u001b[39m\u001b[39m \u001b[39m \u001b[39m \u001b[39m \u001b[39m \u001b[39m \u001b[39m \u001b[39m \u001b[39m \u001b[39m \u001b[39m \u001b[39m \u001b[39m \u001b[32m \u001b[39m\u001b[39m \u001b[39m \u001b[39m \u001b[39m \u001b[39m \u001b[39m \u001b[39m \u001b[39m \u001b[39m \u001b[39m \u001b[39m \u001b[39m \u001b[39m \u001b[39m▁\u001b[39m \u001b[39m \u001b[39m \u001b[39m█\u001b[39m \u001b[39m \n",
       "  \u001b[39m█\u001b[39m▁\u001b[39m▁\u001b[39m▁\u001b[39m▁\u001b[39m▁\u001b[39m▁\u001b[39m▁\u001b[39m▁\u001b[39m▁\u001b[39m▁\u001b[39m▁\u001b[39m▁\u001b[39m▁\u001b[39m▁\u001b[39m▁\u001b[39m▁\u001b[39m▁\u001b[39m▁\u001b[39m▁\u001b[39m▁\u001b[39m▁\u001b[39m▁\u001b[39m█\u001b[34m▁\u001b[39m\u001b[39m▁\u001b[39m▁\u001b[39m▁\u001b[39m▁\u001b[39m▁\u001b[39m▁\u001b[39m▁\u001b[39m▁\u001b[39m▁\u001b[39m▁\u001b[39m▁\u001b[39m▁\u001b[39m▁\u001b[32m▁\u001b[39m\u001b[39m▁\u001b[39m▁\u001b[39m▁\u001b[39m▁\u001b[39m▁\u001b[39m▁\u001b[39m▁\u001b[39m▁\u001b[39m▁\u001b[39m▁\u001b[39m▁\u001b[39m▁\u001b[39m▁\u001b[39m█\u001b[39m▁\u001b[39m▁\u001b[39m▁\u001b[39m█\u001b[39m \u001b[39m▁\n",
       "  1 s\u001b[90m            Histogram: frequency by time\u001b[39m        1.08 s \u001b[0m\u001b[1m<\u001b[22m\n",
       "\n",
       " Memory estimate\u001b[90m: \u001b[39m\u001b[33m240 bytes\u001b[39m, allocs estimate\u001b[90m: \u001b[39m\u001b[33m6\u001b[39m."
      ]
     },
     "metadata": {},
     "output_type": "display_data"
    }
   ],
   "source": [
    "py_hand = @benchmark $sum_py($a)"
   ]
  },
  {
   "cell_type": "code",
   "execution_count": 41,
   "metadata": {
    "scrolled": false
   },
   "outputs": [
    {
     "data": {
      "text/plain": [
       "5.000027810468334e6"
      ]
     },
     "metadata": {},
     "output_type": "display_data"
    }
   ],
   "source": [
    "sum_py(a)"
   ]
  },
  {
   "cell_type": "code",
   "execution_count": 42,
   "metadata": {
    "scrolled": false
   },
   "outputs": [
    {
     "data": {
      "text/plain": [
       "true"
      ]
     },
     "metadata": {},
     "output_type": "display_data"
    }
   ],
   "source": [
    "sum_py(a) ≈ sum(a)"
   ]
  },
  {
   "cell_type": "code",
   "execution_count": 43,
   "metadata": {
    "scrolled": true
   },
   "outputs": [
    {
     "data": {
      "text/plain": [
       "Dict{Any, Any} with 5 entries:\n",
       "  \"C\"                   => 10.2747\n",
       "  \"Python numpy\"        => 9.051\n",
       "  \"Python hand-written\" => 1000.39\n",
       "  \"Python built-in\"     => 626.419\n",
       "  \"C -ffast-math\"       => 5.8217"
      ]
     },
     "metadata": {},
     "output_type": "display_data"
    }
   ],
   "source": [
    "d[\"Python hand-written\"] = minimum(py_hand.times) / 1e6\n",
    "d"
   ]
  },
  {
   "cell_type": "markdown",
   "metadata": {},
   "source": [
    "# 6. Julia (built-in) \n",
    "\n",
    "## Written directly in Julia, not in C!"
   ]
  },
  {
   "cell_type": "code",
   "execution_count": 44,
   "metadata": {
    "scrolled": false
   },
   "outputs": [
    {
     "data": {
      "text/html": [
       "sum(a::<b>AbstractArray</b>; <i>dims, kw...</i>) in Base at <a href=\"https://github.com/JuliaLang/julia/tree/3bf9d1773144bc4943232dc2ffaac307a700853d/base/reducedim.jl#L889\" target=\"_blank\">reducedim.jl:889</a>"
      ],
      "text/plain": [
       "sum(a::AbstractArray; dims, kw...) in Base at reducedim.jl:889"
      ]
     },
     "metadata": {},
     "output_type": "display_data"
    }
   ],
   "source": [
    "@which sum(a)"
   ]
  },
  {
   "cell_type": "code",
   "execution_count": 45,
   "metadata": {
    "scrolled": false
   },
   "outputs": [
    {
     "data": {
      "text/plain": [
       "BenchmarkTools.Trial: 853 samples with 1 evaluation.\n",
       " Range \u001b[90m(\u001b[39m\u001b[36m\u001b[1mmin\u001b[22m\u001b[39m … \u001b[35mmax\u001b[39m\u001b[90m):  \u001b[39m\u001b[36m\u001b[1m4.041 ms\u001b[22m\u001b[39m … \u001b[35m10.823 ms\u001b[39m  \u001b[90m┊\u001b[39m GC \u001b[90m(\u001b[39mmin … max\u001b[90m): \u001b[39m0.00% … 0.00%\n",
       " Time  \u001b[90m(\u001b[39m\u001b[34m\u001b[1mmedian\u001b[22m\u001b[39m\u001b[90m):     \u001b[39m\u001b[34m\u001b[1m5.606 ms              \u001b[22m\u001b[39m\u001b[90m┊\u001b[39m GC \u001b[90m(\u001b[39mmedian\u001b[90m):    \u001b[39m0.00%\n",
       " Time  \u001b[90m(\u001b[39m\u001b[32m\u001b[1mmean\u001b[22m\u001b[39m ± \u001b[32mσ\u001b[39m\u001b[90m):   \u001b[39m\u001b[32m\u001b[1m5.846 ms\u001b[22m\u001b[39m ± \u001b[32m 1.240 ms\u001b[39m  \u001b[90m┊\u001b[39m GC \u001b[90m(\u001b[39mmean ± σ\u001b[90m):  \u001b[39m0.00% ± 0.00%\n",
       "\n",
       "  \u001b[39m \u001b[39m \u001b[39m \u001b[39m▇\u001b[39m▇\u001b[39m▃\u001b[39m█\u001b[39m▆\u001b[39m▄\u001b[39m \u001b[39m▄\u001b[39m▃\u001b[39m▄\u001b[39m▅\u001b[39m▁\u001b[39m \u001b[39m \u001b[39m▃\u001b[34m▃\u001b[39m\u001b[39m \u001b[39m▃\u001b[32m▂\u001b[39m\u001b[39m \u001b[39m \u001b[39m▃\u001b[39m \u001b[39m \u001b[39m▁\u001b[39m▂\u001b[39m \u001b[39m \u001b[39m \u001b[39m \u001b[39m \u001b[39m \u001b[39m \u001b[39m \u001b[39m \u001b[39m \u001b[39m \u001b[39m▁\u001b[39m \u001b[39m \u001b[39m \u001b[39m \u001b[39m \u001b[39m \u001b[39m \u001b[39m \u001b[39m \u001b[39m \u001b[39m \u001b[39m \u001b[39m \u001b[39m \u001b[39m \u001b[39m \u001b[39m \u001b[39m \u001b[39m \n",
       "  \u001b[39m▃\u001b[39m▅\u001b[39m█\u001b[39m█\u001b[39m█\u001b[39m█\u001b[39m█\u001b[39m█\u001b[39m█\u001b[39m▇\u001b[39m█\u001b[39m█\u001b[39m█\u001b[39m█\u001b[39m█\u001b[39m▇\u001b[39m█\u001b[39m█\u001b[34m█\u001b[39m\u001b[39m█\u001b[39m█\u001b[32m█\u001b[39m\u001b[39m▆\u001b[39m▆\u001b[39m█\u001b[39m▅\u001b[39m▇\u001b[39m█\u001b[39m█\u001b[39m█\u001b[39m▆\u001b[39m▆\u001b[39m▆\u001b[39m█\u001b[39m▇\u001b[39m▅\u001b[39m▅\u001b[39m▇\u001b[39m▅\u001b[39m▇\u001b[39m█\u001b[39m▄\u001b[39m▅\u001b[39m▃\u001b[39m▆\u001b[39m▄\u001b[39m▄\u001b[39m▃\u001b[39m▂\u001b[39m▃\u001b[39m▃\u001b[39m▂\u001b[39m▃\u001b[39m▃\u001b[39m▂\u001b[39m▄\u001b[39m▁\u001b[39m▃\u001b[39m \u001b[39m▅\n",
       "  4.04 ms\u001b[90m        Histogram: frequency by time\u001b[39m        9.14 ms \u001b[0m\u001b[1m<\u001b[22m\n",
       "\n",
       " Memory estimate\u001b[90m: \u001b[39m\u001b[33m0 bytes\u001b[39m, allocs estimate\u001b[90m: \u001b[39m\u001b[33m0\u001b[39m."
      ]
     },
     "metadata": {},
     "output_type": "display_data"
    }
   ],
   "source": [
    "j_bench = @benchmark sum($a)"
   ]
  },
  {
   "cell_type": "code",
   "execution_count": 46,
   "metadata": {
    "scrolled": true
   },
   "outputs": [
    {
     "data": {
      "text/plain": [
       "Dict{Any, Any} with 6 entries:\n",
       "  \"C\"                   => 10.2747\n",
       "  \"Python numpy\"        => 9.051\n",
       "  \"Python hand-written\" => 1000.39\n",
       "  \"Python built-in\"     => 626.419\n",
       "  \"Julia built-in\"      => 4.0413\n",
       "  \"C -ffast-math\"       => 5.8217"
      ]
     },
     "metadata": {},
     "output_type": "display_data"
    }
   ],
   "source": [
    "d[\"Julia built-in\"] = minimum(j_bench.times) / 1e6\n",
    "d"
   ]
  },
  {
   "cell_type": "markdown",
   "metadata": {},
   "source": [
    "# 7. Julia (hand-written) "
   ]
  },
  {
   "cell_type": "code",
   "execution_count": 47,
   "metadata": {
    "scrolled": true
   },
   "outputs": [
    {
     "data": {
      "text/plain": [
       "mysum (generic function with 1 method)"
      ]
     },
     "metadata": {},
     "output_type": "display_data"
    }
   ],
   "source": [
    "function mysum(A)   \n",
    "    s = 0.0 # s = zero(eltype(a))\n",
    "    for a in A\n",
    "        s += a\n",
    "    end\n",
    "    s\n",
    "end"
   ]
  },
  {
   "cell_type": "code",
   "execution_count": 48,
   "metadata": {
    "scrolled": false
   },
   "outputs": [
    {
     "data": {
      "text/plain": [
       "BenchmarkTools.Trial: 367 samples with 1 evaluation.\n",
       " Range \u001b[90m(\u001b[39m\u001b[36m\u001b[1mmin\u001b[22m\u001b[39m … \u001b[35mmax\u001b[39m\u001b[90m):  \u001b[39m\u001b[36m\u001b[1m10.656 ms\u001b[22m\u001b[39m … \u001b[35m20.722 ms\u001b[39m  \u001b[90m┊\u001b[39m GC \u001b[90m(\u001b[39mmin … max\u001b[90m): \u001b[39m0.00% … 0.00%\n",
       " Time  \u001b[90m(\u001b[39m\u001b[34m\u001b[1mmedian\u001b[22m\u001b[39m\u001b[90m):     \u001b[39m\u001b[34m\u001b[1m13.307 ms              \u001b[22m\u001b[39m\u001b[90m┊\u001b[39m GC \u001b[90m(\u001b[39mmedian\u001b[90m):    \u001b[39m0.00%\n",
       " Time  \u001b[90m(\u001b[39m\u001b[32m\u001b[1mmean\u001b[22m\u001b[39m ± \u001b[32mσ\u001b[39m\u001b[90m):   \u001b[39m\u001b[32m\u001b[1m13.640 ms\u001b[22m\u001b[39m ± \u001b[32m 1.853 ms\u001b[39m  \u001b[90m┊\u001b[39m GC \u001b[90m(\u001b[39mmean ± σ\u001b[90m):  \u001b[39m0.00% ± 0.00%\n",
       "\n",
       "  \u001b[39m \u001b[39m \u001b[39m \u001b[39m \u001b[39m \u001b[39m▃\u001b[39m▄\u001b[39m▄\u001b[39m \u001b[39m▂\u001b[39m▃\u001b[39m▂\u001b[39m▅\u001b[39m▄\u001b[39m▆\u001b[39m▃\u001b[39m▂\u001b[39m \u001b[39m▃\u001b[39m▇\u001b[39m█\u001b[34m▅\u001b[39m\u001b[39m▁\u001b[32m▂\u001b[39m\u001b[39m \u001b[39m▂\u001b[39m \u001b[39m \u001b[39m \u001b[39m▂\u001b[39m \u001b[39m▃\u001b[39m \u001b[39m \u001b[39m▂\u001b[39m \u001b[39m \u001b[39m▁\u001b[39m \u001b[39m \u001b[39m \u001b[39m \u001b[39m \u001b[39m \u001b[39m \u001b[39m \u001b[39m \u001b[39m \u001b[39m \u001b[39m \u001b[39m \u001b[39m \u001b[39m \u001b[39m \u001b[39m \u001b[39m \u001b[39m \u001b[39m \u001b[39m \u001b[39m \u001b[39m \n",
       "  \u001b[39m▅\u001b[39m▇\u001b[39m▄\u001b[39m▆\u001b[39m▆\u001b[39m█\u001b[39m█\u001b[39m█\u001b[39m▇\u001b[39m█\u001b[39m█\u001b[39m█\u001b[39m█\u001b[39m█\u001b[39m█\u001b[39m█\u001b[39m█\u001b[39m█\u001b[39m█\u001b[39m█\u001b[39m█\u001b[34m█\u001b[39m\u001b[39m█\u001b[32m█\u001b[39m\u001b[39m█\u001b[39m█\u001b[39m▇\u001b[39m█\u001b[39m▆\u001b[39m█\u001b[39m▄\u001b[39m█\u001b[39m▆\u001b[39m▆\u001b[39m█\u001b[39m▅\u001b[39m▆\u001b[39m█\u001b[39m█\u001b[39m▅\u001b[39m▄\u001b[39m▅\u001b[39m▄\u001b[39m▄\u001b[39m▄\u001b[39m▄\u001b[39m▆\u001b[39m▆\u001b[39m▆\u001b[39m▄\u001b[39m▃\u001b[39m▄\u001b[39m▄\u001b[39m▃\u001b[39m▁\u001b[39m▃\u001b[39m▄\u001b[39m▄\u001b[39m▅\u001b[39m \u001b[39m▅\n",
       "  10.7 ms\u001b[90m         Histogram: frequency by time\u001b[39m        18.3 ms \u001b[0m\u001b[1m<\u001b[22m\n",
       "\n",
       " Memory estimate\u001b[90m: \u001b[39m\u001b[33m0 bytes\u001b[39m, allocs estimate\u001b[90m: \u001b[39m\u001b[33m0\u001b[39m."
      ]
     },
     "metadata": {},
     "output_type": "display_data"
    }
   ],
   "source": [
    "j_bench_hand = @benchmark mysum($a)"
   ]
  },
  {
   "cell_type": "code",
   "execution_count": 49,
   "metadata": {
    "scrolled": true
   },
   "outputs": [
    {
     "data": {
      "text/plain": [
       "Dict{Any, Any} with 7 entries:\n",
       "  \"C\"                   => 10.2747\n",
       "  \"Python numpy\"        => 9.051\n",
       "  \"Julia hand-written\"  => 10.6563\n",
       "  \"Python hand-written\" => 1000.39\n",
       "  \"Python built-in\"     => 626.419\n",
       "  \"Julia built-in\"      => 4.0413\n",
       "  \"C -ffast-math\"       => 5.8217"
      ]
     },
     "metadata": {},
     "output_type": "display_data"
    }
   ],
   "source": [
    "d[\"Julia hand-written\"] = minimum(j_bench_hand.times) / 1e6\n",
    "d"
   ]
  },
  {
   "cell_type": "markdown",
   "metadata": {},
   "source": [
    "# 8. Julia (hand-written w. simd) "
   ]
  },
  {
   "cell_type": "code",
   "execution_count": 50,
   "metadata": {},
   "outputs": [
    {
     "data": {
      "text/plain": [
       "mysum_simd (generic function with 1 method)"
      ]
     },
     "metadata": {},
     "output_type": "display_data"
    }
   ],
   "source": [
    "function mysum_simd(A)   \n",
    "    s = 0.0 # s = zero(eltype(A))\n",
    "    @simd for a in A\n",
    "        s += a\n",
    "    end\n",
    "    s\n",
    "end"
   ]
  },
  {
   "cell_type": "code",
   "execution_count": 51,
   "metadata": {
    "scrolled": false
   },
   "outputs": [
    {
     "data": {
      "text/plain": [
       "BenchmarkTools.Trial: 620 samples with 1 evaluation.\n",
       " Range \u001b[90m(\u001b[39m\u001b[36m\u001b[1mmin\u001b[22m\u001b[39m … \u001b[35mmax\u001b[39m\u001b[90m):  \u001b[39m\u001b[36m\u001b[1m5.522 ms\u001b[22m\u001b[39m … \u001b[35m 11.636 ms\u001b[39m  \u001b[90m┊\u001b[39m GC \u001b[90m(\u001b[39mmin … max\u001b[90m): \u001b[39m0.00% … 0.00%\n",
       " Time  \u001b[90m(\u001b[39m\u001b[34m\u001b[1mmedian\u001b[22m\u001b[39m\u001b[90m):     \u001b[39m\u001b[34m\u001b[1m8.047 ms               \u001b[22m\u001b[39m\u001b[90m┊\u001b[39m GC \u001b[90m(\u001b[39mmedian\u001b[90m):    \u001b[39m0.00%\n",
       " Time  \u001b[90m(\u001b[39m\u001b[32m\u001b[1mmean\u001b[22m\u001b[39m ± \u001b[32mσ\u001b[39m\u001b[90m):   \u001b[39m\u001b[32m\u001b[1m8.045 ms\u001b[22m\u001b[39m ± \u001b[32m677.046 μs\u001b[39m  \u001b[90m┊\u001b[39m GC \u001b[90m(\u001b[39mmean ± σ\u001b[90m):  \u001b[39m0.00% ± 0.00%\n",
       "\n",
       "  \u001b[39m \u001b[39m \u001b[39m \u001b[39m \u001b[39m \u001b[39m \u001b[39m \u001b[39m \u001b[39m \u001b[39m \u001b[39m \u001b[39m \u001b[39m \u001b[39m \u001b[39m \u001b[39m \u001b[39m \u001b[39m \u001b[39m \u001b[39m \u001b[39m \u001b[39m \u001b[39m \u001b[39m \u001b[39m \u001b[39m \u001b[39m \u001b[39m \u001b[39m \u001b[39m▂\u001b[39m▄\u001b[39m▂\u001b[39m█\u001b[39m▁\u001b[39m▆\u001b[34m▇\u001b[39m\u001b[39m▄\u001b[39m▅\u001b[39m▅\u001b[39m▃\u001b[39m \u001b[39m \u001b[39m \u001b[39m \u001b[39m \u001b[39m \u001b[39m \u001b[39m \u001b[39m \u001b[39m \u001b[39m \u001b[39m \u001b[39m \u001b[39m \u001b[39m \u001b[39m \u001b[39m \u001b[39m \u001b[39m \u001b[39m \u001b[39m \n",
       "  \u001b[39m▃\u001b[39m▁\u001b[39m▁\u001b[39m▁\u001b[39m▁\u001b[39m▁\u001b[39m▂\u001b[39m▂\u001b[39m▃\u001b[39m▃\u001b[39m▃\u001b[39m▁\u001b[39m▂\u001b[39m▂\u001b[39m▂\u001b[39m▃\u001b[39m▃\u001b[39m▄\u001b[39m▃\u001b[39m▃\u001b[39m▄\u001b[39m▄\u001b[39m▄\u001b[39m▇\u001b[39m▅\u001b[39m▄\u001b[39m▆\u001b[39m▇\u001b[39m█\u001b[39m█\u001b[39m█\u001b[39m█\u001b[39m█\u001b[39m█\u001b[39m█\u001b[34m█\u001b[39m\u001b[39m█\u001b[39m█\u001b[39m█\u001b[39m█\u001b[39m▆\u001b[39m▆\u001b[39m▆\u001b[39m▇\u001b[39m▆\u001b[39m▄\u001b[39m▆\u001b[39m▆\u001b[39m▄\u001b[39m▅\u001b[39m▃\u001b[39m▃\u001b[39m▃\u001b[39m▃\u001b[39m▃\u001b[39m▂\u001b[39m▃\u001b[39m▂\u001b[39m▃\u001b[39m \u001b[39m▄\n",
       "  5.52 ms\u001b[90m         Histogram: frequency by time\u001b[39m        9.79 ms \u001b[0m\u001b[1m<\u001b[22m\n",
       "\n",
       " Memory estimate\u001b[90m: \u001b[39m\u001b[33m0 bytes\u001b[39m, allocs estimate\u001b[90m: \u001b[39m\u001b[33m0\u001b[39m."
      ]
     },
     "metadata": {},
     "output_type": "display_data"
    }
   ],
   "source": [
    "j_bench_hand_simd = @benchmark mysum_simd($a)"
   ]
  },
  {
   "cell_type": "code",
   "execution_count": 52,
   "metadata": {},
   "outputs": [
    {
     "data": {
      "text/plain": [
       "5.000027810468776e6"
      ]
     },
     "metadata": {},
     "output_type": "display_data"
    }
   ],
   "source": [
    "mysum_simd(a)"
   ]
  },
  {
   "cell_type": "code",
   "execution_count": 53,
   "metadata": {
    "scrolled": true
   },
   "outputs": [
    {
     "data": {
      "text/plain": [
       "Dict{Any, Any} with 8 entries:\n",
       "  \"Julia hand-written simd\" => 5.5216\n",
       "  \"C\"                       => 10.2747\n",
       "  \"Python numpy\"            => 9.051\n",
       "  \"Julia hand-written\"      => 10.6563\n",
       "  \"Python hand-written\"     => 1000.39\n",
       "  \"Python built-in\"         => 626.419\n",
       "  \"Julia built-in\"          => 4.0413\n",
       "  \"C -ffast-math\"           => 5.8217"
      ]
     },
     "metadata": {},
     "output_type": "display_data"
    }
   ],
   "source": [
    "d[\"Julia hand-written simd\"] = minimum(j_bench_hand_simd.times) / 1e6\n",
    "d"
   ]
  },
  {
   "cell_type": "markdown",
   "metadata": {},
   "source": [
    "# Summary"
   ]
  },
  {
   "cell_type": "code",
   "execution_count": 54,
   "metadata": {
    "scrolled": true
   },
   "outputs": [
    {
     "name": "stdout",
     "output_type": "stream",
     "text": [
      "Julia built-in..............4.0\n",
      "Julia hand-written simd.....5.5\n",
      "C -ffast-math...............5.8\n",
      "Python numpy................9.1\n",
      "C..........................10.3\n",
      "Julia hand-written.........10.7\n",
      "Python built-in...........626.4\n",
      "Python hand-written......1000.4\n"
     ]
    }
   ],
   "source": [
    "for (key, value) in sort(collect(d), by=last)\n",
    "    println(rpad(key, 25, \".\"), lpad(round(value; digits=1), 6, \".\"))\n",
    "end"
   ]
  }
 ],
 "metadata": {
  "anaconda-cloud": {},
  "kernelspec": {
   "display_name": "Julia 1.8.2",
   "language": "julia",
   "name": "julia-1.8"
  },
  "language_info": {
   "file_extension": ".jl",
   "mimetype": "application/julia",
   "name": "julia",
   "version": "1.8.2"
  },
  "toc": {
   "colors": {
    "hover_highlight": "#DAA520",
    "running_highlight": "#FF0000",
    "selected_highlight": "#FFD700"
   },
   "moveMenuLeft": true,
   "nav_menu": {
    "height": "212px",
    "width": "252px"
   },
   "navigate_menu": true,
   "number_sections": true,
   "sideBar": true,
   "threshold": "2",
   "toc_cell": false,
   "toc_section_display": "block",
   "toc_window_display": false
  }
 },
 "nbformat": 4,
 "nbformat_minor": 2
}
